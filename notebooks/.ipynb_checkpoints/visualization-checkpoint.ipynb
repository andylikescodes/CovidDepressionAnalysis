{
 "cells": [
  {
   "cell_type": "code",
   "execution_count": 1,
   "metadata": {},
   "outputs": [],
   "source": [
    "using Revise\n",
    "push!(LOAD_PATH, \"../src\") \n",
    "using DataFrames\n",
    "using CovidDepressionAnalysis\n",
    "using CSV\n"
   ]
  },
  {
   "cell_type": "code",
   "execution_count": 2,
   "metadata": {},
   "outputs": [
    {
     "ename": "LoadError",
     "evalue": "ArgumentError: \"output/IP_weighted_sources/w12.csv\" is not a valid file or doesn't exist",
     "output_type": "error",
     "traceback": [
      "ArgumentError: \"output/IP_weighted_sources/w12.csv\" is not a valid file or doesn't exist",
      "",
      "Stacktrace:",
      " [1] CSV.Context(source::CSV.Arg, header::CSV.Arg, normalizenames::CSV.Arg, datarow::CSV.Arg, skipto::CSV.Arg, footerskip::CSV.Arg, transpose::CSV.Arg, comment::CSV.Arg, ignoreemptyrows::CSV.Arg, ignoreemptylines::CSV.Arg, select::CSV.Arg, drop::CSV.Arg, limit::CSV.Arg, buffer_in_memory::CSV.Arg, threaded::CSV.Arg, ntasks::CSV.Arg, tasks::CSV.Arg, rows_to_check::CSV.Arg, lines_to_check::CSV.Arg, missingstrings::CSV.Arg, missingstring::CSV.Arg, delim::CSV.Arg, ignorerepeated::CSV.Arg, quoted::CSV.Arg, quotechar::CSV.Arg, openquotechar::CSV.Arg, closequotechar::CSV.Arg, escapechar::CSV.Arg, dateformat::CSV.Arg, dateformats::CSV.Arg, decimal::CSV.Arg, truestrings::CSV.Arg, falsestrings::CSV.Arg, stripwhitespace::CSV.Arg, type::CSV.Arg, types::CSV.Arg, typemap::CSV.Arg, pool::CSV.Arg, downcast::CSV.Arg, lazystrings::CSV.Arg, stringtype::CSV.Arg, strict::CSV.Arg, silencewarnings::CSV.Arg, maxwarnings::CSV.Arg, debug::CSV.Arg, parsingdebug::CSV.Arg, validate::CSV.Arg, streaming::CSV.Arg)",
      "   @ CSV C:\\Users\\andyl\\.julia\\packages\\CSV\\jFiCn\\src\\context.jl:236",
      " [2] #File#25",
      "   @ C:\\Users\\andyl\\.julia\\packages\\CSV\\jFiCn\\src\\file.jl:221 [inlined]",
      " [3] File",
      "   @ C:\\Users\\andyl\\.julia\\packages\\CSV\\jFiCn\\src\\file.jl:221 [inlined]",
      " [4] read(source::String, sink::Type; copycols::Bool, kwargs::Base.Iterators.Pairs{Union{}, Union{}, Tuple{}, NamedTuple{(), Tuple{}}})",
      "   @ CSV C:\\Users\\andyl\\.julia\\packages\\CSV\\jFiCn\\src\\CSV.jl:91",
      " [5] read(source::String, sink::Type)",
      "   @ CSV C:\\Users\\andyl\\.julia\\packages\\CSV\\jFiCn\\src\\CSV.jl:88",
      " [6] top-level scope",
      "   @ In[2]:2",
      " [7] eval",
      "   @ .\\boot.jl:360 [inlined]",
      " [8] include_string(mapexpr::typeof(REPL.softscope), mod::Module, code::String, filename::String)",
      "   @ Base .\\loading.jl:1116"
     ]
    }
   ],
   "source": [
    "# Load Data\n",
    "data = CSV.read(\"output/IP_weighted_sources/w12.csv\", DataFrame)"
   ]
  },
  {
   "cell_type": "code",
   "execution_count": null,
   "metadata": {},
   "outputs": [],
   "source": []
  },
  {
   "cell_type": "code",
   "execution_count": 3,
   "metadata": {},
   "outputs": [
    {
     "data": {
      "text/html": [
       "<div class=\"data-frame\"><p>18,493 rows × 793 columns (omitted printing of 787 columns)</p><table class=\"data-frame\"><thead><tr><th></th><th>Column1</th><th>PROLIFIC_PID</th><th>wave</th><th>Fear_COVID_raw</th><th>Disgust_COVID_raw</th><th>DISG1.1_20</th></tr><tr><th></th><th title=\"Int64\">Int64</th><th title=\"String31\">String31</th><th title=\"Int64\">Int64</th><th title=\"Int64\">Int64</th><th title=\"Int64\">Int64</th><th title=\"Float64\">Float64</th></tr></thead><tbody><tr><th>1</th><td>0</td><td>5df82e8739bcde5dd044f741</td><td>1</td><td>8</td><td>11</td><td>1.0</td></tr><tr><th>2</th><td>1</td><td>5df82e8739bcde5dd044f741</td><td>2</td><td>7</td><td>12</td><td>1.0</td></tr><tr><th>3</th><td>2</td><td>5df82e8739bcde5dd044f741</td><td>3</td><td>13</td><td>12</td><td>1.0</td></tr><tr><th>4</th><td>3</td><td>5c7e91c1973c990016ea72b0</td><td>1</td><td>24</td><td>27</td><td>5.0</td></tr><tr><th>5</th><td>4</td><td>5c7e91c1973c990016ea72b0</td><td>2</td><td>25</td><td>26</td><td>5.0</td></tr><tr><th>6</th><td>5</td><td>5c7e91c1973c990016ea72b0</td><td>3</td><td>23</td><td>32</td><td>5.0</td></tr><tr><th>7</th><td>6</td><td>5c7e91c1973c990016ea72b0</td><td>4</td><td>21</td><td>29</td><td>4.0</td></tr><tr><th>8</th><td>7</td><td>5c7e91c1973c990016ea72b0</td><td>5</td><td>20</td><td>27</td><td>5.0</td></tr><tr><th>9</th><td>8</td><td>5c7e91c1973c990016ea72b0</td><td>6</td><td>21</td><td>29</td><td>5.0</td></tr><tr><th>10</th><td>9</td><td>5c7e91c1973c990016ea72b0</td><td>7</td><td>21</td><td>27</td><td>5.0</td></tr><tr><th>11</th><td>10</td><td>5c7e91c1973c990016ea72b0</td><td>8</td><td>19</td><td>26</td><td>5.0</td></tr><tr><th>12</th><td>11</td><td>5c7e91c1973c990016ea72b0</td><td>9</td><td>20</td><td>27</td><td>5.0</td></tr><tr><th>13</th><td>12</td><td>5c7e91c1973c990016ea72b0</td><td>10</td><td>21</td><td>31</td><td>5.0</td></tr><tr><th>14</th><td>13</td><td>5c7e91c1973c990016ea72b0</td><td>11</td><td>21</td><td>30</td><td>5.0</td></tr><tr><th>15</th><td>14</td><td>5c7e91c1973c990016ea72b0</td><td>12</td><td>21</td><td>29</td><td>5.0</td></tr><tr><th>16</th><td>15</td><td>5c7e91c1973c990016ea72b0</td><td>13</td><td>21</td><td>28</td><td>5.0</td></tr><tr><th>17</th><td>16</td><td>5c7e91c1973c990016ea72b0</td><td>14</td><td>21</td><td>26</td><td>5.0</td></tr><tr><th>18</th><td>17</td><td>5c7e91c1973c990016ea72b0</td><td>15</td><td>20</td><td>30</td><td>5.0</td></tr><tr><th>19</th><td>18</td><td>5c7e91c1973c990016ea72b0</td><td>16</td><td>22</td><td>30</td><td>5.0</td></tr><tr><th>20</th><td>19</td><td>5e67052c757e6149c38ce468</td><td>1</td><td>18</td><td>13</td><td>5.0</td></tr><tr><th>21</th><td>20</td><td>5e67052c757e6149c38ce468</td><td>2</td><td>14</td><td>14</td><td>5.0</td></tr><tr><th>22</th><td>21</td><td>5e67052c757e6149c38ce468</td><td>3</td><td>18</td><td>16</td><td>5.0</td></tr><tr><th>23</th><td>22</td><td>5e67052c757e6149c38ce468</td><td>4</td><td>13</td><td>15</td><td>5.0</td></tr><tr><th>24</th><td>23</td><td>5e67052c757e6149c38ce468</td><td>5</td><td>15</td><td>18</td><td>5.0</td></tr><tr><th>25</th><td>24</td><td>5e67052c757e6149c38ce468</td><td>6</td><td>14</td><td>17</td><td>5.0</td></tr><tr><th>26</th><td>25</td><td>5e67052c757e6149c38ce468</td><td>7</td><td>14</td><td>13</td><td>5.0</td></tr><tr><th>27</th><td>26</td><td>5e67052c757e6149c38ce468</td><td>9</td><td>10</td><td>22</td><td>5.0</td></tr><tr><th>28</th><td>27</td><td>5e67052c757e6149c38ce468</td><td>10</td><td>15</td><td>18</td><td>5.0</td></tr><tr><th>29</th><td>28</td><td>5d89106d1719af0001ee23e5</td><td>1</td><td>8</td><td>16</td><td>5.0</td></tr><tr><th>30</th><td>29</td><td>5d89106d1719af0001ee23e5</td><td>2</td><td>7</td><td>20</td><td>5.0</td></tr><tr><th>&vellip;</th><td>&vellip;</td><td>&vellip;</td><td>&vellip;</td><td>&vellip;</td><td>&vellip;</td><td>&vellip;</td></tr></tbody></table></div>"
      ],
      "text/latex": [
       "\\begin{tabular}{r|ccccccc}\n",
       "\t& Column1 & PROLIFIC\\_PID & wave & Fear\\_COVID\\_raw & Disgust\\_COVID\\_raw & DISG1.1\\_20 & \\\\\n",
       "\t\\hline\n",
       "\t& Int64 & String31 & Int64 & Int64 & Int64 & Float64 & \\\\\n",
       "\t\\hline\n",
       "\t1 & 0 & 5df82e8739bcde5dd044f741 & 1 & 8 & 11 & 1.0 & $\\dots$ \\\\\n",
       "\t2 & 1 & 5df82e8739bcde5dd044f741 & 2 & 7 & 12 & 1.0 & $\\dots$ \\\\\n",
       "\t3 & 2 & 5df82e8739bcde5dd044f741 & 3 & 13 & 12 & 1.0 & $\\dots$ \\\\\n",
       "\t4 & 3 & 5c7e91c1973c990016ea72b0 & 1 & 24 & 27 & 5.0 & $\\dots$ \\\\\n",
       "\t5 & 4 & 5c7e91c1973c990016ea72b0 & 2 & 25 & 26 & 5.0 & $\\dots$ \\\\\n",
       "\t6 & 5 & 5c7e91c1973c990016ea72b0 & 3 & 23 & 32 & 5.0 & $\\dots$ \\\\\n",
       "\t7 & 6 & 5c7e91c1973c990016ea72b0 & 4 & 21 & 29 & 4.0 & $\\dots$ \\\\\n",
       "\t8 & 7 & 5c7e91c1973c990016ea72b0 & 5 & 20 & 27 & 5.0 & $\\dots$ \\\\\n",
       "\t9 & 8 & 5c7e91c1973c990016ea72b0 & 6 & 21 & 29 & 5.0 & $\\dots$ \\\\\n",
       "\t10 & 9 & 5c7e91c1973c990016ea72b0 & 7 & 21 & 27 & 5.0 & $\\dots$ \\\\\n",
       "\t11 & 10 & 5c7e91c1973c990016ea72b0 & 8 & 19 & 26 & 5.0 & $\\dots$ \\\\\n",
       "\t12 & 11 & 5c7e91c1973c990016ea72b0 & 9 & 20 & 27 & 5.0 & $\\dots$ \\\\\n",
       "\t13 & 12 & 5c7e91c1973c990016ea72b0 & 10 & 21 & 31 & 5.0 & $\\dots$ \\\\\n",
       "\t14 & 13 & 5c7e91c1973c990016ea72b0 & 11 & 21 & 30 & 5.0 & $\\dots$ \\\\\n",
       "\t15 & 14 & 5c7e91c1973c990016ea72b0 & 12 & 21 & 29 & 5.0 & $\\dots$ \\\\\n",
       "\t16 & 15 & 5c7e91c1973c990016ea72b0 & 13 & 21 & 28 & 5.0 & $\\dots$ \\\\\n",
       "\t17 & 16 & 5c7e91c1973c990016ea72b0 & 14 & 21 & 26 & 5.0 & $\\dots$ \\\\\n",
       "\t18 & 17 & 5c7e91c1973c990016ea72b0 & 15 & 20 & 30 & 5.0 & $\\dots$ \\\\\n",
       "\t19 & 18 & 5c7e91c1973c990016ea72b0 & 16 & 22 & 30 & 5.0 & $\\dots$ \\\\\n",
       "\t20 & 19 & 5e67052c757e6149c38ce468 & 1 & 18 & 13 & 5.0 & $\\dots$ \\\\\n",
       "\t21 & 20 & 5e67052c757e6149c38ce468 & 2 & 14 & 14 & 5.0 & $\\dots$ \\\\\n",
       "\t22 & 21 & 5e67052c757e6149c38ce468 & 3 & 18 & 16 & 5.0 & $\\dots$ \\\\\n",
       "\t23 & 22 & 5e67052c757e6149c38ce468 & 4 & 13 & 15 & 5.0 & $\\dots$ \\\\\n",
       "\t24 & 23 & 5e67052c757e6149c38ce468 & 5 & 15 & 18 & 5.0 & $\\dots$ \\\\\n",
       "\t25 & 24 & 5e67052c757e6149c38ce468 & 6 & 14 & 17 & 5.0 & $\\dots$ \\\\\n",
       "\t26 & 25 & 5e67052c757e6149c38ce468 & 7 & 14 & 13 & 5.0 & $\\dots$ \\\\\n",
       "\t27 & 26 & 5e67052c757e6149c38ce468 & 9 & 10 & 22 & 5.0 & $\\dots$ \\\\\n",
       "\t28 & 27 & 5e67052c757e6149c38ce468 & 10 & 15 & 18 & 5.0 & $\\dots$ \\\\\n",
       "\t29 & 28 & 5d89106d1719af0001ee23e5 & 1 & 8 & 16 & 5.0 & $\\dots$ \\\\\n",
       "\t30 & 29 & 5d89106d1719af0001ee23e5 & 2 & 7 & 20 & 5.0 & $\\dots$ \\\\\n",
       "\t$\\dots$ & $\\dots$ & $\\dots$ & $\\dots$ & $\\dots$ & $\\dots$ & $\\dots$ &  \\\\\n",
       "\\end{tabular}\n"
      ],
      "text/plain": [
       "\u001b[1m18493×793 DataFrame\u001b[0m\n",
       "\u001b[1m   Row \u001b[0m│\u001b[1m Column1 \u001b[0m\u001b[1m PROLIFIC_PID             \u001b[0m\u001b[1m wave  \u001b[0m\u001b[1m Fear_COVID_raw \u001b[0m\u001b[1m Disgust_COV\u001b[0m ⋯\n",
       "\u001b[1m       \u001b[0m│\u001b[90m Int64   \u001b[0m\u001b[90m String31                 \u001b[0m\u001b[90m Int64 \u001b[0m\u001b[90m Int64          \u001b[0m\u001b[90m Int64      \u001b[0m ⋯\n",
       "───────┼────────────────────────────────────────────────────────────────────────\n",
       "     1 │       0  5df82e8739bcde5dd044f741      1               8              ⋯\n",
       "     2 │       1  5df82e8739bcde5dd044f741      2               7\n",
       "     3 │       2  5df82e8739bcde5dd044f741      3              13\n",
       "     4 │       3  5c7e91c1973c990016ea72b0      1              24\n",
       "     5 │       4  5c7e91c1973c990016ea72b0      2              25              ⋯\n",
       "     6 │       5  5c7e91c1973c990016ea72b0      3              23\n",
       "     7 │       6  5c7e91c1973c990016ea72b0      4              21\n",
       "     8 │       7  5c7e91c1973c990016ea72b0      5              20\n",
       "     9 │       8  5c7e91c1973c990016ea72b0      6              21              ⋯\n",
       "    10 │       9  5c7e91c1973c990016ea72b0      7              21\n",
       "    11 │      10  5c7e91c1973c990016ea72b0      8              19\n",
       "   ⋮   │    ⋮                ⋮                ⋮          ⋮                 ⋮   ⋱\n",
       " 18484 │   18483  58cefdb030c4cf0001ceb3ac      7              16\n",
       " 18485 │   18484  58cefdb030c4cf0001ceb3ac      8              14              ⋯\n",
       " 18486 │   18485  58cefdb030c4cf0001ceb3ac      9               9\n",
       " 18487 │   18486  58cefdb030c4cf0001ceb3ac     10               8\n",
       " 18488 │   18487  58cefdb030c4cf0001ceb3ac     11              15\n",
       " 18489 │   18488  58cefdb030c4cf0001ceb3ac     12              16              ⋯\n",
       " 18490 │   18489  58cefdb030c4cf0001ceb3ac     13              17\n",
       " 18491 │   18490  58cefdb030c4cf0001ceb3ac     14              15\n",
       " 18492 │   18491  58cefdb030c4cf0001ceb3ac     15              16\n",
       " 18493 │   18492  58cefdb030c4cf0001ceb3ac     16              16              ⋯\n",
       "\u001b[36m                                              789 columns and 18472 rows omitted\u001b[0m"
      ]
     },
     "execution_count": 3,
     "metadata": {},
     "output_type": "execute_result"
    }
   ],
   "source": [
    "# Load Data\n",
    "data = CSV.read(\"../data/data_all_impute.csv\", DataFrame)"
   ]
  },
  {
   "cell_type": "code",
   "execution_count": 19,
   "metadata": {},
   "outputs": [
    {
     "data": {
      "text/plain": [
       "20-element Vector{String}:\n",
       " \"PROLIFIC_PID\"\n",
       " \"Sex\"\n",
       " \"Education\"\n",
       " \"Income_HH\"\n",
       " \"DemM7_KNN\"\n",
       " \"BDI_total_raw\"\n",
       " \"PSS_Total\"\n",
       " \"STAI_State_raw\"\n",
       " \"Fear_COVID_raw_KNN\"\n",
       " \"NIH_TB_Emot_Support_raw_total_KNN\"\n",
       " \"NIH_TB_Loneliness_raw_total_KNN\"\n",
       " \"RW1_8\"\n",
       " \"slope_new_cases\"\n",
       " \"slope_new_deaths\"\n",
       " \"GatheringStrictness_KNN\"\n",
       " \"Mandatory_business_closure\"\n",
       " \"Mandatory_PPE_masks\"\n",
       " \"more_than_1_attQ_failed\"\n",
       " \"string_outlier_core\"\n",
       " \"response_consistency\""
      ]
     },
     "execution_count": 19,
     "metadata": {},
     "output_type": "execute_result"
    }
   ],
   "source": [
    "# Process Meta data\n",
    "# Set view columns\n",
    "ENV[\"COLUMNS\"] = 200\n",
    "# Variables selected\n",
    "selected_variables = [DEMOGRAPHICS; PSYCHOLOGICAL; EXTERNAL; QUALITY]"
   ]
  },
  {
   "cell_type": "code",
   "execution_count": 20,
   "metadata": {},
   "outputs": [
    {
     "data": {
      "text/html": [
       "<div class=\"data-frame\"><p>1,797 rows × 20 columns (omitted printing of 8 columns)</p><table class=\"data-frame\"><thead><tr><th></th><th>PROLIFIC_PID</th><th>Sex</th><th>Education</th><th>Income_HH</th><th>DemM7_KNN</th><th>BDI_total_raw</th><th>PSS_Total</th><th>STAI_State_raw</th><th>Fear_COVID_raw_KNN</th><th>NIH_TB_Emot_Support_raw_total_KNN</th><th>NIH_TB_Loneliness_raw_total_KNN</th><th>RW1_8</th></tr><tr><th></th><th title=\"String31\">String31</th><th title=\"Float64\">Float64</th><th title=\"Float64\">Float64</th><th title=\"Float64\">Float64</th><th title=\"Float64\">Float64</th><th title=\"Union{Missing, Int64}\">Int64?</th><th title=\"Union{Missing, Int64}\">Int64?</th><th title=\"Int64\">Int64</th><th title=\"Float64\">Float64</th><th title=\"Float64\">Float64</th><th title=\"Float64\">Float64</th><th title=\"Union{Missing, Float64}\">Float64?</th></tr></thead><tbody><tr><th>1</th><td>5df82e8739bcde5dd044f741</td><td>1.0</td><td>3.0</td><td>1.0</td><td>4.0</td><td><em>missing</em></td><td><em>missing</em></td><td>42</td><td>8.0</td><td>16.0</td><td>25.0</td><td><em>missing</em></td></tr><tr><th>2</th><td>5c7e91c1973c990016ea72b0</td><td>2.0</td><td>5.0</td><td>3.0</td><td>1.0</td><td><em>missing</em></td><td><em>missing</em></td><td>69</td><td>24.0</td><td>30.0</td><td>10.0</td><td><em>missing</em></td></tr><tr><th>3</th><td>5e67052c757e6149c38ce468</td><td>1.0</td><td>1.0</td><td>1.0</td><td>4.0</td><td><em>missing</em></td><td><em>missing</em></td><td>57</td><td>18.0</td><td>14.0</td><td>25.0</td><td><em>missing</em></td></tr><tr><th>4</th><td>5d89106d1719af0001ee23e5</td><td>2.0</td><td>2.0</td><td>1.0</td><td>6.0</td><td><em>missing</em></td><td><em>missing</em></td><td>27</td><td>8.0</td><td>40.0</td><td>5.0</td><td><em>missing</em></td></tr><tr><th>5</th><td>5d6394518df2870001a74b42</td><td>2.0</td><td>2.0</td><td>1.0</td><td>1.0</td><td><em>missing</em></td><td><em>missing</em></td><td>42</td><td>23.0</td><td>40.0</td><td>16.0</td><td><em>missing</em></td></tr><tr><th>6</th><td>5bdd368719b9ba000157fb12</td><td>2.0</td><td>3.0</td><td>4.0</td><td>4.0</td><td><em>missing</em></td><td><em>missing</em></td><td>29</td><td>10.0</td><td>40.0</td><td>5.0</td><td>1.0</td></tr><tr><th>7</th><td>5b68d45687af3100015849a9</td><td>2.0</td><td>9.0</td><td>4.0</td><td>1.0</td><td><em>missing</em></td><td><em>missing</em></td><td>24</td><td>11.0</td><td>40.0</td><td>6.0</td><td><em>missing</em></td></tr><tr><th>8</th><td>5a8ce265000dab00018ce084</td><td>2.0</td><td>4.0</td><td>6.0</td><td>3.0</td><td><em>missing</em></td><td><em>missing</em></td><td>37</td><td>6.0</td><td>34.0</td><td>7.0</td><td><em>missing</em></td></tr><tr><th>9</th><td>5c72efa770d5a200018028f1</td><td>1.0</td><td>5.0</td><td>2.0</td><td>3.0</td><td><em>missing</em></td><td><em>missing</em></td><td>27</td><td>9.0</td><td>39.0</td><td>5.0</td><td><em>missing</em></td></tr><tr><th>10</th><td>5d378df21acda30001e7191e</td><td>1.0</td><td>3.0</td><td>2.0</td><td>5.0</td><td><em>missing</em></td><td><em>missing</em></td><td>44</td><td>18.0</td><td>10.0</td><td>13.0</td><td><em>missing</em></td></tr><tr><th>11</th><td>5aea962d0ef2f20001858c9c</td><td>1.0</td><td>2.0</td><td>1.0</td><td>2.0</td><td><em>missing</em></td><td><em>missing</em></td><td>59</td><td>17.0</td><td>17.0</td><td>16.0</td><td><em>missing</em></td></tr><tr><th>12</th><td>5e4b793f03c92a08a6d28e3f</td><td>1.0</td><td>2.0</td><td>7.0</td><td>4.0</td><td><em>missing</em></td><td><em>missing</em></td><td>42</td><td>4.0</td><td>18.0</td><td>11.0</td><td><em>missing</em></td></tr><tr><th>13</th><td>5cbc071f2edc3b00018ab097</td><td>1.0</td><td>7.0</td><td>1.0</td><td>3.0</td><td><em>missing</em></td><td><em>missing</em></td><td>43</td><td>13.0</td><td>28.0</td><td>8.0</td><td><em>missing</em></td></tr><tr><th>14</th><td>5c1b06d9a329230001ecc39c</td><td>1.0</td><td>2.0</td><td>1.0</td><td>2.0</td><td><em>missing</em></td><td><em>missing</em></td><td>42</td><td>10.0</td><td>18.0</td><td>8.0</td><td>1.0</td></tr><tr><th>15</th><td>5e576e085069e61204a85872</td><td>1.0</td><td>2.0</td><td>7.0</td><td>4.0</td><td><em>missing</em></td><td><em>missing</em></td><td>44</td><td>19.0</td><td>32.0</td><td>19.0</td><td><em>missing</em></td></tr><tr><th>16</th><td>5dcf50f05686c1099819882a</td><td>1.0</td><td>6.0</td><td>3.0</td><td>1.0</td><td><em>missing</em></td><td><em>missing</em></td><td>41</td><td>19.0</td><td>32.0</td><td>17.0</td><td>1.0</td></tr><tr><th>17</th><td>5d3f5c8f0d0d29001a4bd973</td><td>1.0</td><td>2.0</td><td>1.0</td><td>6.0</td><td><em>missing</em></td><td><em>missing</em></td><td>36</td><td>16.0</td><td>24.0</td><td>14.0</td><td><em>missing</em></td></tr><tr><th>18</th><td>5c9ac1ed2497d20001689f53</td><td>2.0</td><td>2.0</td><td>1.0</td><td>2.0</td><td><em>missing</em></td><td><em>missing</em></td><td>51</td><td>18.0</td><td>24.0</td><td>19.0</td><td>1.0</td></tr><tr><th>19</th><td>5d2d8b999c6703001525304f</td><td>1.0</td><td>2.0</td><td>1.0</td><td>7.0</td><td><em>missing</em></td><td><em>missing</em></td><td>47</td><td>12.0</td><td>8.0</td><td>25.0</td><td>1.0</td></tr><tr><th>20</th><td>5de8bc74553cee8280a7dd84</td><td>1.0</td><td>5.0</td><td>1.0</td><td>2.0</td><td><em>missing</em></td><td><em>missing</em></td><td>36</td><td>8.0</td><td>27.0</td><td>13.0</td><td>1.0</td></tr><tr><th>21</th><td>5dc208b532b0ad172977f774</td><td>2.0</td><td>3.0</td><td>1.0</td><td>5.0</td><td><em>missing</em></td><td><em>missing</em></td><td>40</td><td>18.0</td><td>31.0</td><td>10.0</td><td>1.0</td></tr><tr><th>22</th><td>5b6a87d2cda8590001db8e07</td><td>1.0</td><td>5.0</td><td>1.0</td><td>1.0</td><td><em>missing</em></td><td><em>missing</em></td><td>63</td><td>13.0</td><td>28.0</td><td>14.0</td><td><em>missing</em></td></tr><tr><th>23</th><td>5e3dff6b8714b707b9a258b0</td><td>1.0</td><td>5.0</td><td>1.0</td><td>2.0</td><td><em>missing</em></td><td><em>missing</em></td><td>57</td><td>11.0</td><td>24.0</td><td>20.0</td><td><em>missing</em></td></tr><tr><th>24</th><td>5b05e0d131cebe000177c38e</td><td>1.0</td><td>2.0</td><td>1.0</td><td>5.0</td><td><em>missing</em></td><td><em>missing</em></td><td>68</td><td>20.0</td><td>23.0</td><td>15.0</td><td>1.0</td></tr><tr><th>25</th><td>5d3b79a59d5c14000140c32f</td><td>2.0</td><td>5.0</td><td>4.0</td><td>2.0</td><td><em>missing</em></td><td><em>missing</em></td><td>44</td><td>8.0</td><td>32.0</td><td>6.0</td><td><em>missing</em></td></tr><tr><th>26</th><td>5e53e22ea0002e3e73720f65</td><td>2.0</td><td>3.0</td><td>2.0</td><td>1.0</td><td><em>missing</em></td><td><em>missing</em></td><td>43</td><td>11.0</td><td>14.0</td><td>25.0</td><td><em>missing</em></td></tr><tr><th>27</th><td>5e6fde86b3ea9e5bb33664e4</td><td>1.0</td><td>3.0</td><td>1.0</td><td>3.0</td><td><em>missing</em></td><td><em>missing</em></td><td>35</td><td>7.0</td><td>31.0</td><td>16.0</td><td>1.0</td></tr><tr><th>28</th><td>5e65dca1d639df34800674a8</td><td>2.0</td><td>2.0</td><td>7.0</td><td>2.0</td><td><em>missing</em></td><td><em>missing</em></td><td>41</td><td>14.0</td><td>32.0</td><td>15.0</td><td><em>missing</em></td></tr><tr><th>29</th><td>5de0b69ba91be311cb773b0b</td><td>1.0</td><td>2.0</td><td>1.0</td><td>2.0</td><td><em>missing</em></td><td><em>missing</em></td><td>42</td><td>9.0</td><td>8.0</td><td>13.0</td><td><em>missing</em></td></tr><tr><th>30</th><td>5d2f95a51caa8f00178e2683</td><td>2.0</td><td>3.0</td><td>1.0</td><td>1.0</td><td><em>missing</em></td><td><em>missing</em></td><td>57</td><td>11.0</td><td>30.0</td><td>19.0</td><td><em>missing</em></td></tr><tr><th>&vellip;</th><td>&vellip;</td><td>&vellip;</td><td>&vellip;</td><td>&vellip;</td><td>&vellip;</td><td>&vellip;</td><td>&vellip;</td><td>&vellip;</td><td>&vellip;</td><td>&vellip;</td><td>&vellip;</td><td>&vellip;</td></tr></tbody></table></div>"
      ],
      "text/latex": [
       "\\begin{tabular}{r|ccccccccccccc}\n",
       "\t& PROLIFIC\\_PID & Sex & Education & Income\\_HH & DemM7\\_KNN & BDI\\_total\\_raw & PSS\\_Total & STAI\\_State\\_raw & Fear\\_COVID\\_raw\\_KNN & NIH\\_TB\\_Emot\\_Support\\_raw\\_total\\_KNN & NIH\\_TB\\_Loneliness\\_raw\\_total\\_KNN & RW1\\_8 & \\\\\n",
       "\t\\hline\n",
       "\t& String31 & Float64 & Float64 & Float64 & Float64 & Int64? & Int64? & Int64 & Float64 & Float64 & Float64 & Float64? & \\\\\n",
       "\t\\hline\n",
       "\t1 & 5df82e8739bcde5dd044f741 & 1.0 & 3.0 & 1.0 & 4.0 & \\emph{missing} & \\emph{missing} & 42 & 8.0 & 16.0 & 25.0 & \\emph{missing} & $\\dots$ \\\\\n",
       "\t2 & 5c7e91c1973c990016ea72b0 & 2.0 & 5.0 & 3.0 & 1.0 & \\emph{missing} & \\emph{missing} & 69 & 24.0 & 30.0 & 10.0 & \\emph{missing} & $\\dots$ \\\\\n",
       "\t3 & 5e67052c757e6149c38ce468 & 1.0 & 1.0 & 1.0 & 4.0 & \\emph{missing} & \\emph{missing} & 57 & 18.0 & 14.0 & 25.0 & \\emph{missing} & $\\dots$ \\\\\n",
       "\t4 & 5d89106d1719af0001ee23e5 & 2.0 & 2.0 & 1.0 & 6.0 & \\emph{missing} & \\emph{missing} & 27 & 8.0 & 40.0 & 5.0 & \\emph{missing} & $\\dots$ \\\\\n",
       "\t5 & 5d6394518df2870001a74b42 & 2.0 & 2.0 & 1.0 & 1.0 & \\emph{missing} & \\emph{missing} & 42 & 23.0 & 40.0 & 16.0 & \\emph{missing} & $\\dots$ \\\\\n",
       "\t6 & 5bdd368719b9ba000157fb12 & 2.0 & 3.0 & 4.0 & 4.0 & \\emph{missing} & \\emph{missing} & 29 & 10.0 & 40.0 & 5.0 & 1.0 & $\\dots$ \\\\\n",
       "\t7 & 5b68d45687af3100015849a9 & 2.0 & 9.0 & 4.0 & 1.0 & \\emph{missing} & \\emph{missing} & 24 & 11.0 & 40.0 & 6.0 & \\emph{missing} & $\\dots$ \\\\\n",
       "\t8 & 5a8ce265000dab00018ce084 & 2.0 & 4.0 & 6.0 & 3.0 & \\emph{missing} & \\emph{missing} & 37 & 6.0 & 34.0 & 7.0 & \\emph{missing} & $\\dots$ \\\\\n",
       "\t9 & 5c72efa770d5a200018028f1 & 1.0 & 5.0 & 2.0 & 3.0 & \\emph{missing} & \\emph{missing} & 27 & 9.0 & 39.0 & 5.0 & \\emph{missing} & $\\dots$ \\\\\n",
       "\t10 & 5d378df21acda30001e7191e & 1.0 & 3.0 & 2.0 & 5.0 & \\emph{missing} & \\emph{missing} & 44 & 18.0 & 10.0 & 13.0 & \\emph{missing} & $\\dots$ \\\\\n",
       "\t11 & 5aea962d0ef2f20001858c9c & 1.0 & 2.0 & 1.0 & 2.0 & \\emph{missing} & \\emph{missing} & 59 & 17.0 & 17.0 & 16.0 & \\emph{missing} & $\\dots$ \\\\\n",
       "\t12 & 5e4b793f03c92a08a6d28e3f & 1.0 & 2.0 & 7.0 & 4.0 & \\emph{missing} & \\emph{missing} & 42 & 4.0 & 18.0 & 11.0 & \\emph{missing} & $\\dots$ \\\\\n",
       "\t13 & 5cbc071f2edc3b00018ab097 & 1.0 & 7.0 & 1.0 & 3.0 & \\emph{missing} & \\emph{missing} & 43 & 13.0 & 28.0 & 8.0 & \\emph{missing} & $\\dots$ \\\\\n",
       "\t14 & 5c1b06d9a329230001ecc39c & 1.0 & 2.0 & 1.0 & 2.0 & \\emph{missing} & \\emph{missing} & 42 & 10.0 & 18.0 & 8.0 & 1.0 & $\\dots$ \\\\\n",
       "\t15 & 5e576e085069e61204a85872 & 1.0 & 2.0 & 7.0 & 4.0 & \\emph{missing} & \\emph{missing} & 44 & 19.0 & 32.0 & 19.0 & \\emph{missing} & $\\dots$ \\\\\n",
       "\t16 & 5dcf50f05686c1099819882a & 1.0 & 6.0 & 3.0 & 1.0 & \\emph{missing} & \\emph{missing} & 41 & 19.0 & 32.0 & 17.0 & 1.0 & $\\dots$ \\\\\n",
       "\t17 & 5d3f5c8f0d0d29001a4bd973 & 1.0 & 2.0 & 1.0 & 6.0 & \\emph{missing} & \\emph{missing} & 36 & 16.0 & 24.0 & 14.0 & \\emph{missing} & $\\dots$ \\\\\n",
       "\t18 & 5c9ac1ed2497d20001689f53 & 2.0 & 2.0 & 1.0 & 2.0 & \\emph{missing} & \\emph{missing} & 51 & 18.0 & 24.0 & 19.0 & 1.0 & $\\dots$ \\\\\n",
       "\t19 & 5d2d8b999c6703001525304f & 1.0 & 2.0 & 1.0 & 7.0 & \\emph{missing} & \\emph{missing} & 47 & 12.0 & 8.0 & 25.0 & 1.0 & $\\dots$ \\\\\n",
       "\t20 & 5de8bc74553cee8280a7dd84 & 1.0 & 5.0 & 1.0 & 2.0 & \\emph{missing} & \\emph{missing} & 36 & 8.0 & 27.0 & 13.0 & 1.0 & $\\dots$ \\\\\n",
       "\t21 & 5dc208b532b0ad172977f774 & 2.0 & 3.0 & 1.0 & 5.0 & \\emph{missing} & \\emph{missing} & 40 & 18.0 & 31.0 & 10.0 & 1.0 & $\\dots$ \\\\\n",
       "\t22 & 5b6a87d2cda8590001db8e07 & 1.0 & 5.0 & 1.0 & 1.0 & \\emph{missing} & \\emph{missing} & 63 & 13.0 & 28.0 & 14.0 & \\emph{missing} & $\\dots$ \\\\\n",
       "\t23 & 5e3dff6b8714b707b9a258b0 & 1.0 & 5.0 & 1.0 & 2.0 & \\emph{missing} & \\emph{missing} & 57 & 11.0 & 24.0 & 20.0 & \\emph{missing} & $\\dots$ \\\\\n",
       "\t24 & 5b05e0d131cebe000177c38e & 1.0 & 2.0 & 1.0 & 5.0 & \\emph{missing} & \\emph{missing} & 68 & 20.0 & 23.0 & 15.0 & 1.0 & $\\dots$ \\\\\n",
       "\t25 & 5d3b79a59d5c14000140c32f & 2.0 & 5.0 & 4.0 & 2.0 & \\emph{missing} & \\emph{missing} & 44 & 8.0 & 32.0 & 6.0 & \\emph{missing} & $\\dots$ \\\\\n",
       "\t26 & 5e53e22ea0002e3e73720f65 & 2.0 & 3.0 & 2.0 & 1.0 & \\emph{missing} & \\emph{missing} & 43 & 11.0 & 14.0 & 25.0 & \\emph{missing} & $\\dots$ \\\\\n",
       "\t27 & 5e6fde86b3ea9e5bb33664e4 & 1.0 & 3.0 & 1.0 & 3.0 & \\emph{missing} & \\emph{missing} & 35 & 7.0 & 31.0 & 16.0 & 1.0 & $\\dots$ \\\\\n",
       "\t28 & 5e65dca1d639df34800674a8 & 2.0 & 2.0 & 7.0 & 2.0 & \\emph{missing} & \\emph{missing} & 41 & 14.0 & 32.0 & 15.0 & \\emph{missing} & $\\dots$ \\\\\n",
       "\t29 & 5de0b69ba91be311cb773b0b & 1.0 & 2.0 & 1.0 & 2.0 & \\emph{missing} & \\emph{missing} & 42 & 9.0 & 8.0 & 13.0 & \\emph{missing} & $\\dots$ \\\\\n",
       "\t30 & 5d2f95a51caa8f00178e2683 & 2.0 & 3.0 & 1.0 & 1.0 & \\emph{missing} & \\emph{missing} & 57 & 11.0 & 30.0 & 19.0 & \\emph{missing} & $\\dots$ \\\\\n",
       "\t$\\dots$ & $\\dots$ & $\\dots$ & $\\dots$ & $\\dots$ & $\\dots$ & $\\dots$ & $\\dots$ & $\\dots$ & $\\dots$ & $\\dots$ & $\\dots$ & $\\dots$ &  \\\\\n",
       "\\end{tabular}\n"
      ],
      "text/plain": [
       "\u001b[1m1797×20 DataFrame\u001b[0m\n",
       "\u001b[1m  Row \u001b[0m│\u001b[1m PROLIFIC_PID             \u001b[0m\u001b[1m Sex     \u001b[0m\u001b[1m Education \u001b[0m\u001b[1m Income_HH \u001b[0m\u001b[1m DemM7_KNN \u001b[0m\u001b[1m BDI_total_raw \u001b[0m\u001b[1m PSS_Total \u001b[0m\u001b[1m STAI_State_raw \u001b[0m\u001b[1m Fear_COVID_raw_KNN \u001b[0m\u001b[1m NIH_TB_Emot_Support_raw_total_KNN \u001b[0m\u001b[1m NIH_TB_Loneliness_raw_tot\u001b[0m ⋯\n",
       "\u001b[1m      \u001b[0m│\u001b[90m String31                 \u001b[0m\u001b[90m Float64 \u001b[0m\u001b[90m Float64   \u001b[0m\u001b[90m Float64   \u001b[0m\u001b[90m Float64   \u001b[0m\u001b[90m Int64?        \u001b[0m\u001b[90m Int64?    \u001b[0m\u001b[90m Int64          \u001b[0m\u001b[90m Float64            \u001b[0m\u001b[90m Float64                           \u001b[0m\u001b[90m Float64                  \u001b[0m ⋯\n",
       "──────┼─────────────────────────────────────────────────────────────────────────────────────────────────────────────────────────────────────────────────────────────────────────────────────────────────\n",
       "    1 │ 5df82e8739bcde5dd044f741      1.0        3.0        1.0        4.0 \u001b[90m       missing \u001b[0m\u001b[90m   missing \u001b[0m             42                 8.0                               16.0                            ⋯\n",
       "    2 │ 5c7e91c1973c990016ea72b0      2.0        5.0        3.0        1.0 \u001b[90m       missing \u001b[0m\u001b[90m   missing \u001b[0m             69                24.0                               30.0\n",
       "    3 │ 5e67052c757e6149c38ce468      1.0        1.0        1.0        4.0 \u001b[90m       missing \u001b[0m\u001b[90m   missing \u001b[0m             57                18.0                               14.0\n",
       "    4 │ 5d89106d1719af0001ee23e5      2.0        2.0        1.0        6.0 \u001b[90m       missing \u001b[0m\u001b[90m   missing \u001b[0m             27                 8.0                               40.0\n",
       "    5 │ 5d6394518df2870001a74b42      2.0        2.0        1.0        1.0 \u001b[90m       missing \u001b[0m\u001b[90m   missing \u001b[0m             42                23.0                               40.0                            ⋯\n",
       "    6 │ 5bdd368719b9ba000157fb12      2.0        3.0        4.0        4.0 \u001b[90m       missing \u001b[0m\u001b[90m   missing \u001b[0m             29                10.0                               40.0\n",
       "    7 │ 5b68d45687af3100015849a9      2.0        9.0        4.0        1.0 \u001b[90m       missing \u001b[0m\u001b[90m   missing \u001b[0m             24                11.0                               40.0\n",
       "    8 │ 5a8ce265000dab00018ce084      2.0        4.0        6.0        3.0 \u001b[90m       missing \u001b[0m\u001b[90m   missing \u001b[0m             37                 6.0                               34.0\n",
       "    9 │ 5c72efa770d5a200018028f1      1.0        5.0        2.0        3.0 \u001b[90m       missing \u001b[0m\u001b[90m   missing \u001b[0m             27                 9.0                               39.0                            ⋯\n",
       "   10 │ 5d378df21acda30001e7191e      1.0        3.0        2.0        5.0 \u001b[90m       missing \u001b[0m\u001b[90m   missing \u001b[0m             44                18.0                               10.0\n",
       "   11 │ 5aea962d0ef2f20001858c9c      1.0        2.0        1.0        2.0 \u001b[90m       missing \u001b[0m\u001b[90m   missing \u001b[0m             59                17.0                               17.0\n",
       "  ⋮   │            ⋮                 ⋮         ⋮          ⋮          ⋮            ⋮            ⋮            ⋮                 ⋮                           ⋮                                 ⋮          ⋱\n",
       " 1788 │ 5de59f97e448c65315ec4a37      2.0        5.0        1.0        1.0 \u001b[90m       missing \u001b[0m\u001b[90m   missing \u001b[0m             47                16.0                               28.0\n",
       " 1789 │ 5da926115c6987001535a2da      1.0        5.0        4.0        6.0 \u001b[90m       missing \u001b[0m\u001b[90m   missing \u001b[0m             27                 2.0                               31.0                            ⋯\n",
       " 1790 │ 5c054e8a553fb800011917d7      1.0        3.0        1.0        3.0 \u001b[90m       missing \u001b[0m\u001b[90m   missing \u001b[0m             38                 5.0                               14.0\n",
       " 1791 │ 5cad4750f4115800176d506e      2.0        4.0        3.0        3.0 \u001b[90m       missing \u001b[0m\u001b[90m   missing \u001b[0m             49                15.0                               24.0\n",
       " 1792 │ 5be8846293ca1f00014db03c      2.0        5.0        3.0        5.0 \u001b[90m       missing \u001b[0m\u001b[90m   missing \u001b[0m             34                13.0                               30.0\n",
       " 1793 │ 5dbd1569f8223b28d73ed6ae      2.0        3.0        1.0        2.0 \u001b[90m       missing \u001b[0m\u001b[90m   missing \u001b[0m             32                11.0                               32.0                            ⋯\n",
       " 1794 │ 5e217a34e8ff3a469b5dfebc      2.0        3.0        5.0        4.0 \u001b[90m       missing \u001b[0m\u001b[90m   missing \u001b[0m             46                28.0                               25.0\n",
       " 1795 │ 5d63867550d0dd0017805976      1.0        3.0        3.0        1.0 \u001b[90m       missing \u001b[0m\u001b[90m   missing \u001b[0m             45                18.0                               34.0\n",
       " 1796 │ 5e6155e6f169c0046b6d6518      1.0        7.0        2.0        3.0 \u001b[90m       missing \u001b[0m\u001b[90m   missing \u001b[0m             47                 6.0                               40.0\n",
       " 1797 │ 58cefdb030c4cf0001ceb3ac      2.0        5.0        1.0        2.0 \u001b[90m       missing \u001b[0m\u001b[90m   missing \u001b[0m             28                18.0                               40.0                            ⋯\n",
       "\u001b[36m                                                                                                                                                                        10 columns and 1776 rows omitted\u001b[0m"
      ]
     },
     "execution_count": 20,
     "metadata": {},
     "output_type": "execute_result"
    }
   ],
   "source": [
    "w1 = extract_wave(data, 1, selected_variables)\n",
    "w6 = extract_wave(data, 6, selected_variables)"
   ]
  },
  {
   "cell_type": "code",
   "execution_count": 90,
   "metadata": {},
   "outputs": [
    {
     "data": {
      "text/html": [
       "<div class=\"data-frame\"><p>1,797 rows × 2 columns</p><table class=\"data-frame\"><thead><tr><th></th><th>PROLIFIC_PID</th><th>wave</th></tr><tr><th></th><th title=\"String31\">String31</th><th title=\"Int64\">Int64</th></tr></thead><tbody><tr><th>1</th><td>5df82e8739bcde5dd044f741</td><td>1</td></tr><tr><th>2</th><td>5c7e91c1973c990016ea72b0</td><td>1</td></tr><tr><th>3</th><td>5e67052c757e6149c38ce468</td><td>1</td></tr><tr><th>4</th><td>5d89106d1719af0001ee23e5</td><td>1</td></tr><tr><th>5</th><td>5d6394518df2870001a74b42</td><td>1</td></tr><tr><th>6</th><td>5bdd368719b9ba000157fb12</td><td>1</td></tr><tr><th>7</th><td>5b68d45687af3100015849a9</td><td>1</td></tr><tr><th>8</th><td>5a8ce265000dab00018ce084</td><td>1</td></tr><tr><th>9</th><td>5c72efa770d5a200018028f1</td><td>1</td></tr><tr><th>10</th><td>5d378df21acda30001e7191e</td><td>1</td></tr><tr><th>11</th><td>5aea962d0ef2f20001858c9c</td><td>1</td></tr><tr><th>12</th><td>5e4b793f03c92a08a6d28e3f</td><td>1</td></tr><tr><th>13</th><td>5cbc071f2edc3b00018ab097</td><td>1</td></tr><tr><th>14</th><td>5c1b06d9a329230001ecc39c</td><td>1</td></tr><tr><th>15</th><td>5e576e085069e61204a85872</td><td>1</td></tr><tr><th>16</th><td>5dcf50f05686c1099819882a</td><td>1</td></tr><tr><th>17</th><td>5d3f5c8f0d0d29001a4bd973</td><td>1</td></tr><tr><th>18</th><td>5c9ac1ed2497d20001689f53</td><td>1</td></tr><tr><th>19</th><td>5d2d8b999c6703001525304f</td><td>1</td></tr><tr><th>20</th><td>5de8bc74553cee8280a7dd84</td><td>1</td></tr><tr><th>21</th><td>5dc208b532b0ad172977f774</td><td>1</td></tr><tr><th>22</th><td>5b6a87d2cda8590001db8e07</td><td>1</td></tr><tr><th>23</th><td>5e3dff6b8714b707b9a258b0</td><td>1</td></tr><tr><th>24</th><td>5b05e0d131cebe000177c38e</td><td>1</td></tr><tr><th>25</th><td>5d3b79a59d5c14000140c32f</td><td>1</td></tr><tr><th>26</th><td>5e53e22ea0002e3e73720f65</td><td>1</td></tr><tr><th>27</th><td>5e6fde86b3ea9e5bb33664e4</td><td>1</td></tr><tr><th>28</th><td>5e65dca1d639df34800674a8</td><td>1</td></tr><tr><th>29</th><td>5de0b69ba91be311cb773b0b</td><td>1</td></tr><tr><th>30</th><td>5d2f95a51caa8f00178e2683</td><td>1</td></tr><tr><th>&vellip;</th><td>&vellip;</td><td>&vellip;</td></tr></tbody></table></div>"
      ],
      "text/latex": [
       "\\begin{tabular}{r|cc}\n",
       "\t& PROLIFIC\\_PID & wave\\\\\n",
       "\t\\hline\n",
       "\t& String31 & Int64\\\\\n",
       "\t\\hline\n",
       "\t1 & 5df82e8739bcde5dd044f741 & 1 \\\\\n",
       "\t2 & 5c7e91c1973c990016ea72b0 & 1 \\\\\n",
       "\t3 & 5e67052c757e6149c38ce468 & 1 \\\\\n",
       "\t4 & 5d89106d1719af0001ee23e5 & 1 \\\\\n",
       "\t5 & 5d6394518df2870001a74b42 & 1 \\\\\n",
       "\t6 & 5bdd368719b9ba000157fb12 & 1 \\\\\n",
       "\t7 & 5b68d45687af3100015849a9 & 1 \\\\\n",
       "\t8 & 5a8ce265000dab00018ce084 & 1 \\\\\n",
       "\t9 & 5c72efa770d5a200018028f1 & 1 \\\\\n",
       "\t10 & 5d378df21acda30001e7191e & 1 \\\\\n",
       "\t11 & 5aea962d0ef2f20001858c9c & 1 \\\\\n",
       "\t12 & 5e4b793f03c92a08a6d28e3f & 1 \\\\\n",
       "\t13 & 5cbc071f2edc3b00018ab097 & 1 \\\\\n",
       "\t14 & 5c1b06d9a329230001ecc39c & 1 \\\\\n",
       "\t15 & 5e576e085069e61204a85872 & 1 \\\\\n",
       "\t16 & 5dcf50f05686c1099819882a & 1 \\\\\n",
       "\t17 & 5d3f5c8f0d0d29001a4bd973 & 1 \\\\\n",
       "\t18 & 5c9ac1ed2497d20001689f53 & 1 \\\\\n",
       "\t19 & 5d2d8b999c6703001525304f & 1 \\\\\n",
       "\t20 & 5de8bc74553cee8280a7dd84 & 1 \\\\\n",
       "\t21 & 5dc208b532b0ad172977f774 & 1 \\\\\n",
       "\t22 & 5b6a87d2cda8590001db8e07 & 1 \\\\\n",
       "\t23 & 5e3dff6b8714b707b9a258b0 & 1 \\\\\n",
       "\t24 & 5b05e0d131cebe000177c38e & 1 \\\\\n",
       "\t25 & 5d3b79a59d5c14000140c32f & 1 \\\\\n",
       "\t26 & 5e53e22ea0002e3e73720f65 & 1 \\\\\n",
       "\t27 & 5e6fde86b3ea9e5bb33664e4 & 1 \\\\\n",
       "\t28 & 5e65dca1d639df34800674a8 & 1 \\\\\n",
       "\t29 & 5de0b69ba91be311cb773b0b & 1 \\\\\n",
       "\t30 & 5d2f95a51caa8f00178e2683 & 1 \\\\\n",
       "\t$\\dots$ & $\\dots$ & $\\dots$ \\\\\n",
       "\\end{tabular}\n"
      ],
      "text/plain": [
       "\u001b[1m1797×2 DataFrame\u001b[0m\n",
       "\u001b[1m  Row \u001b[0m│\u001b[1m PROLIFIC_PID             \u001b[0m\u001b[1m wave  \u001b[0m\n",
       "\u001b[1m      \u001b[0m│\u001b[90m String31                 \u001b[0m\u001b[90m Int64 \u001b[0m\n",
       "──────┼─────────────────────────────────\n",
       "    1 │ 5df82e8739bcde5dd044f741      1\n",
       "    2 │ 5c7e91c1973c990016ea72b0      1\n",
       "    3 │ 5e67052c757e6149c38ce468      1\n",
       "    4 │ 5d89106d1719af0001ee23e5      1\n",
       "    5 │ 5d6394518df2870001a74b42      1\n",
       "    6 │ 5bdd368719b9ba000157fb12      1\n",
       "    7 │ 5b68d45687af3100015849a9      1\n",
       "    8 │ 5a8ce265000dab00018ce084      1\n",
       "    9 │ 5c72efa770d5a200018028f1      1\n",
       "   10 │ 5d378df21acda30001e7191e      1\n",
       "   11 │ 5aea962d0ef2f20001858c9c      1\n",
       "  ⋮   │            ⋮                ⋮\n",
       " 1788 │ 5de59f97e448c65315ec4a37      1\n",
       " 1789 │ 5da926115c6987001535a2da      1\n",
       " 1790 │ 5c054e8a553fb800011917d7      1\n",
       " 1791 │ 5cad4750f4115800176d506e      1\n",
       " 1792 │ 5be8846293ca1f00014db03c      1\n",
       " 1793 │ 5dbd1569f8223b28d73ed6ae      1\n",
       " 1794 │ 5e217a34e8ff3a469b5dfebc      1\n",
       " 1795 │ 5d63867550d0dd0017805976      1\n",
       " 1796 │ 5e6155e6f169c0046b6d6518      1\n",
       " 1797 │ 58cefdb030c4cf0001ceb3ac      1\n",
       "\u001b[36m                       1776 rows omitted\u001b[0m"
      ]
     },
     "execution_count": 90,
     "metadata": {},
     "output_type": "execute_result"
    }
   ],
   "source": [
    "data[data[!, \"wave\"].==1,[\"PROLIFIC_PID\", \"wave\"]]"
   ]
  },
  {
   "cell_type": "code",
   "execution_count": 6,
   "metadata": {},
   "outputs": [
    {
     "data": {
      "text/plain": [
       "18493-element Vector{String31}:\n",
       " \"5df82e8739bcde5dd044f741\"\n",
       " \"5df82e8739bcde5dd044f741\"\n",
       " \"5df82e8739bcde5dd044f741\"\n",
       " \"5c7e91c1973c990016ea72b0\"\n",
       " \"5c7e91c1973c990016ea72b0\"\n",
       " \"5c7e91c1973c990016ea72b0\"\n",
       " \"5c7e91c1973c990016ea72b0\"\n",
       " \"5c7e91c1973c990016ea72b0\"\n",
       " \"5c7e91c1973c990016ea72b0\"\n",
       " \"5c7e91c1973c990016ea72b0\"\n",
       " \"5c7e91c1973c990016ea72b0\"\n",
       " \"5c7e91c1973c990016ea72b0\"\n",
       " \"5c7e91c1973c990016ea72b0\"\n",
       " ⋮\n",
       " \"58cefdb030c4cf0001ceb3ac\"\n",
       " \"58cefdb030c4cf0001ceb3ac\"\n",
       " \"58cefdb030c4cf0001ceb3ac\"\n",
       " \"58cefdb030c4cf0001ceb3ac\"\n",
       " \"58cefdb030c4cf0001ceb3ac\"\n",
       " \"58cefdb030c4cf0001ceb3ac\"\n",
       " \"58cefdb030c4cf0001ceb3ac\"\n",
       " \"58cefdb030c4cf0001ceb3ac\"\n",
       " \"58cefdb030c4cf0001ceb3ac\"\n",
       " \"58cefdb030c4cf0001ceb3ac\"\n",
       " \"58cefdb030c4cf0001ceb3ac\"\n",
       " \"58cefdb030c4cf0001ceb3ac\""
      ]
     },
     "execution_count": 6,
     "metadata": {},
     "output_type": "execute_result"
    }
   ],
   "source": [
    "ec = eachcol(data)\n",
    "ec[\"PROLIFIC_PID\"]"
   ]
  },
  {
   "cell_type": "code",
   "execution_count": 8,
   "metadata": {},
   "outputs": [
    {
     "data": {
      "text/plain": [
       "\"5df82e8739bcde5dd044f741\""
      ]
     },
     "execution_count": 8,
     "metadata": {},
     "output_type": "execute_result"
    }
   ],
   "source": [
    "data[1, \"PROLIFIC_PID\"]"
   ]
  },
  {
   "cell_type": "code",
   "execution_count": 21,
   "metadata": {},
   "outputs": [
    {
     "data": {
      "text/html": [
       "<div class=\"data-frame\"><p>18,493 rows × 23 columns</p><table class=\"data-frame\"><thead><tr><th></th><th>BDI_total_raw</th><th>BDI1</th><th>BDI2</th><th>BDI3</th><th>BDI4</th><th>BDI5</th><th>BDI6</th><th>BDI7</th><th>BDI8</th><th>BDI9</th><th>BDI10</th><th>BDI11</th><th>BDI12</th><th>BDI13</th><th>BDI14</th><th>BDI15</th><th>BDI16</th><th>BDI17</th><th>BDI18</th><th>BDI19</th><th>BDI20</th><th>BDI21</th><th>BDI_total_raw_KNN</th></tr><tr><th></th><th title=\"Bool\">Bool</th><th title=\"Bool\">Bool</th><th title=\"Bool\">Bool</th><th title=\"Bool\">Bool</th><th title=\"Bool\">Bool</th><th title=\"Bool\">Bool</th><th title=\"Bool\">Bool</th><th title=\"Bool\">Bool</th><th title=\"Bool\">Bool</th><th title=\"Bool\">Bool</th><th title=\"Bool\">Bool</th><th title=\"Bool\">Bool</th><th title=\"Bool\">Bool</th><th title=\"Bool\">Bool</th><th title=\"Bool\">Bool</th><th title=\"Bool\">Bool</th><th title=\"Bool\">Bool</th><th title=\"Bool\">Bool</th><th title=\"Bool\">Bool</th><th title=\"Bool\">Bool</th><th title=\"Bool\">Bool</th><th title=\"Bool\">Bool</th><th title=\"Bool\">Bool</th></tr></thead><tbody><tr><th>1</th><td>1</td><td>1</td><td>1</td><td>1</td><td>1</td><td>1</td><td>1</td><td>1</td><td>1</td><td>1</td><td>1</td><td>1</td><td>1</td><td>1</td><td>1</td><td>1</td><td>1</td><td>1</td><td>1</td><td>1</td><td>1</td><td>1</td><td>0</td></tr><tr><th>2</th><td>0</td><td>0</td><td>0</td><td>0</td><td>0</td><td>0</td><td>0</td><td>0</td><td>0</td><td>0</td><td>0</td><td>0</td><td>0</td><td>0</td><td>0</td><td>0</td><td>0</td><td>0</td><td>0</td><td>0</td><td>0</td><td>0</td><td>0</td></tr><tr><th>3</th><td>1</td><td>1</td><td>1</td><td>1</td><td>1</td><td>1</td><td>1</td><td>1</td><td>1</td><td>1</td><td>1</td><td>1</td><td>1</td><td>1</td><td>1</td><td>1</td><td>1</td><td>1</td><td>1</td><td>1</td><td>1</td><td>1</td><td>0</td></tr><tr><th>4</th><td>1</td><td>1</td><td>1</td><td>1</td><td>1</td><td>1</td><td>1</td><td>1</td><td>1</td><td>1</td><td>1</td><td>1</td><td>1</td><td>1</td><td>1</td><td>1</td><td>1</td><td>1</td><td>1</td><td>1</td><td>1</td><td>1</td><td>0</td></tr><tr><th>5</th><td>0</td><td>0</td><td>0</td><td>0</td><td>0</td><td>0</td><td>0</td><td>0</td><td>0</td><td>0</td><td>0</td><td>0</td><td>0</td><td>0</td><td>0</td><td>0</td><td>0</td><td>0</td><td>0</td><td>0</td><td>0</td><td>0</td><td>0</td></tr><tr><th>6</th><td>1</td><td>1</td><td>1</td><td>1</td><td>1</td><td>1</td><td>1</td><td>1</td><td>1</td><td>1</td><td>1</td><td>1</td><td>1</td><td>1</td><td>1</td><td>1</td><td>1</td><td>1</td><td>1</td><td>1</td><td>1</td><td>1</td><td>0</td></tr><tr><th>7</th><td>1</td><td>1</td><td>1</td><td>1</td><td>1</td><td>1</td><td>1</td><td>1</td><td>1</td><td>1</td><td>1</td><td>1</td><td>1</td><td>1</td><td>1</td><td>1</td><td>1</td><td>1</td><td>1</td><td>1</td><td>1</td><td>1</td><td>0</td></tr><tr><th>8</th><td>1</td><td>1</td><td>1</td><td>1</td><td>1</td><td>1</td><td>1</td><td>1</td><td>1</td><td>1</td><td>1</td><td>1</td><td>1</td><td>1</td><td>1</td><td>1</td><td>1</td><td>1</td><td>1</td><td>1</td><td>1</td><td>1</td><td>0</td></tr><tr><th>9</th><td>0</td><td>0</td><td>0</td><td>0</td><td>0</td><td>0</td><td>0</td><td>0</td><td>0</td><td>0</td><td>0</td><td>0</td><td>0</td><td>0</td><td>0</td><td>0</td><td>0</td><td>0</td><td>0</td><td>0</td><td>0</td><td>0</td><td>0</td></tr><tr><th>10</th><td>1</td><td>1</td><td>1</td><td>1</td><td>1</td><td>1</td><td>1</td><td>1</td><td>1</td><td>1</td><td>1</td><td>1</td><td>1</td><td>1</td><td>1</td><td>1</td><td>1</td><td>1</td><td>1</td><td>1</td><td>1</td><td>1</td><td>0</td></tr><tr><th>11</th><td>0</td><td>0</td><td>0</td><td>0</td><td>0</td><td>0</td><td>0</td><td>0</td><td>0</td><td>0</td><td>0</td><td>0</td><td>0</td><td>0</td><td>0</td><td>0</td><td>0</td><td>0</td><td>0</td><td>0</td><td>0</td><td>0</td><td>0</td></tr><tr><th>12</th><td>1</td><td>1</td><td>1</td><td>1</td><td>1</td><td>1</td><td>1</td><td>1</td><td>1</td><td>1</td><td>1</td><td>1</td><td>1</td><td>1</td><td>1</td><td>1</td><td>1</td><td>1</td><td>1</td><td>1</td><td>1</td><td>1</td><td>0</td></tr><tr><th>13</th><td>0</td><td>0</td><td>0</td><td>0</td><td>0</td><td>0</td><td>0</td><td>0</td><td>0</td><td>0</td><td>0</td><td>0</td><td>0</td><td>0</td><td>0</td><td>0</td><td>0</td><td>0</td><td>0</td><td>0</td><td>0</td><td>0</td><td>0</td></tr><tr><th>14</th><td>1</td><td>1</td><td>1</td><td>1</td><td>1</td><td>1</td><td>1</td><td>1</td><td>1</td><td>1</td><td>1</td><td>1</td><td>1</td><td>1</td><td>1</td><td>1</td><td>1</td><td>1</td><td>1</td><td>1</td><td>1</td><td>1</td><td>0</td></tr><tr><th>15</th><td>0</td><td>0</td><td>0</td><td>0</td><td>0</td><td>0</td><td>0</td><td>0</td><td>0</td><td>0</td><td>0</td><td>0</td><td>0</td><td>0</td><td>0</td><td>0</td><td>0</td><td>0</td><td>0</td><td>0</td><td>0</td><td>0</td><td>0</td></tr><tr><th>16</th><td>1</td><td>1</td><td>1</td><td>1</td><td>1</td><td>1</td><td>1</td><td>1</td><td>1</td><td>1</td><td>1</td><td>1</td><td>1</td><td>1</td><td>1</td><td>1</td><td>1</td><td>1</td><td>1</td><td>1</td><td>1</td><td>1</td><td>0</td></tr><tr><th>17</th><td>0</td><td>0</td><td>0</td><td>0</td><td>0</td><td>0</td><td>0</td><td>0</td><td>0</td><td>0</td><td>0</td><td>0</td><td>0</td><td>0</td><td>0</td><td>0</td><td>0</td><td>0</td><td>0</td><td>0</td><td>0</td><td>0</td><td>0</td></tr><tr><th>18</th><td>1</td><td>1</td><td>1</td><td>1</td><td>1</td><td>1</td><td>1</td><td>1</td><td>1</td><td>1</td><td>1</td><td>1</td><td>1</td><td>1</td><td>1</td><td>1</td><td>1</td><td>1</td><td>1</td><td>1</td><td>1</td><td>1</td><td>0</td></tr><tr><th>19</th><td>0</td><td>0</td><td>0</td><td>0</td><td>0</td><td>0</td><td>0</td><td>0</td><td>0</td><td>0</td><td>0</td><td>0</td><td>0</td><td>0</td><td>0</td><td>0</td><td>0</td><td>0</td><td>0</td><td>0</td><td>0</td><td>0</td><td>0</td></tr><tr><th>20</th><td>1</td><td>1</td><td>1</td><td>1</td><td>1</td><td>1</td><td>1</td><td>1</td><td>1</td><td>1</td><td>1</td><td>1</td><td>1</td><td>1</td><td>1</td><td>1</td><td>1</td><td>1</td><td>1</td><td>1</td><td>1</td><td>1</td><td>0</td></tr><tr><th>21</th><td>0</td><td>0</td><td>0</td><td>0</td><td>0</td><td>0</td><td>0</td><td>0</td><td>0</td><td>0</td><td>0</td><td>0</td><td>0</td><td>0</td><td>0</td><td>0</td><td>0</td><td>0</td><td>0</td><td>0</td><td>0</td><td>0</td><td>0</td></tr><tr><th>22</th><td>1</td><td>1</td><td>1</td><td>1</td><td>1</td><td>1</td><td>1</td><td>1</td><td>1</td><td>1</td><td>1</td><td>1</td><td>1</td><td>1</td><td>1</td><td>1</td><td>1</td><td>1</td><td>1</td><td>1</td><td>1</td><td>1</td><td>0</td></tr><tr><th>23</th><td>1</td><td>1</td><td>1</td><td>1</td><td>1</td><td>1</td><td>1</td><td>1</td><td>1</td><td>1</td><td>1</td><td>1</td><td>1</td><td>1</td><td>1</td><td>1</td><td>1</td><td>1</td><td>1</td><td>1</td><td>1</td><td>1</td><td>0</td></tr><tr><th>24</th><td>1</td><td>1</td><td>1</td><td>1</td><td>1</td><td>1</td><td>1</td><td>1</td><td>1</td><td>1</td><td>1</td><td>1</td><td>1</td><td>1</td><td>1</td><td>1</td><td>1</td><td>1</td><td>1</td><td>1</td><td>1</td><td>1</td><td>0</td></tr><tr><th>25</th><td>0</td><td>0</td><td>0</td><td>0</td><td>0</td><td>0</td><td>0</td><td>0</td><td>0</td><td>0</td><td>0</td><td>0</td><td>0</td><td>0</td><td>0</td><td>0</td><td>0</td><td>0</td><td>0</td><td>0</td><td>0</td><td>0</td><td>0</td></tr><tr><th>26</th><td>1</td><td>1</td><td>1</td><td>1</td><td>1</td><td>1</td><td>1</td><td>1</td><td>1</td><td>1</td><td>1</td><td>1</td><td>1</td><td>1</td><td>1</td><td>1</td><td>1</td><td>1</td><td>1</td><td>1</td><td>1</td><td>1</td><td>0</td></tr><tr><th>27</th><td>1</td><td>1</td><td>1</td><td>1</td><td>1</td><td>1</td><td>1</td><td>1</td><td>1</td><td>1</td><td>1</td><td>1</td><td>1</td><td>1</td><td>1</td><td>1</td><td>1</td><td>1</td><td>1</td><td>1</td><td>1</td><td>1</td><td>0</td></tr><tr><th>28</th><td>0</td><td>0</td><td>0</td><td>0</td><td>0</td><td>0</td><td>0</td><td>0</td><td>0</td><td>0</td><td>0</td><td>0</td><td>0</td><td>0</td><td>0</td><td>0</td><td>0</td><td>0</td><td>0</td><td>0</td><td>0</td><td>0</td><td>0</td></tr><tr><th>29</th><td>1</td><td>1</td><td>1</td><td>1</td><td>1</td><td>1</td><td>1</td><td>1</td><td>1</td><td>1</td><td>1</td><td>1</td><td>1</td><td>1</td><td>1</td><td>1</td><td>1</td><td>1</td><td>1</td><td>1</td><td>1</td><td>1</td><td>0</td></tr><tr><th>30</th><td>0</td><td>0</td><td>0</td><td>0</td><td>0</td><td>0</td><td>0</td><td>0</td><td>0</td><td>0</td><td>0</td><td>0</td><td>0</td><td>0</td><td>0</td><td>0</td><td>0</td><td>0</td><td>0</td><td>0</td><td>0</td><td>0</td><td>0</td></tr><tr><th>&vellip;</th><td>&vellip;</td><td>&vellip;</td><td>&vellip;</td><td>&vellip;</td><td>&vellip;</td><td>&vellip;</td><td>&vellip;</td><td>&vellip;</td><td>&vellip;</td><td>&vellip;</td><td>&vellip;</td><td>&vellip;</td><td>&vellip;</td><td>&vellip;</td><td>&vellip;</td><td>&vellip;</td><td>&vellip;</td><td>&vellip;</td><td>&vellip;</td><td>&vellip;</td><td>&vellip;</td><td>&vellip;</td><td>&vellip;</td></tr></tbody></table></div>"
      ],
      "text/latex": [
       "\\begin{tabular}{r|ccccccccccccccccccccccc}\n",
       "\t& BDI\\_total\\_raw & BDI1 & BDI2 & BDI3 & BDI4 & BDI5 & BDI6 & BDI7 & BDI8 & BDI9 & BDI10 & BDI11 & BDI12 & BDI13 & BDI14 & BDI15 & BDI16 & BDI17 & BDI18 & BDI19 & BDI20 & BDI21 & BDI\\_total\\_raw\\_KNN\\\\\n",
       "\t\\hline\n",
       "\t& Bool & Bool & Bool & Bool & Bool & Bool & Bool & Bool & Bool & Bool & Bool & Bool & Bool & Bool & Bool & Bool & Bool & Bool & Bool & Bool & Bool & Bool & Bool\\\\\n",
       "\t\\hline\n",
       "\t1 & 1 & 1 & 1 & 1 & 1 & 1 & 1 & 1 & 1 & 1 & 1 & 1 & 1 & 1 & 1 & 1 & 1 & 1 & 1 & 1 & 1 & 1 & 0 \\\\\n",
       "\t2 & 0 & 0 & 0 & 0 & 0 & 0 & 0 & 0 & 0 & 0 & 0 & 0 & 0 & 0 & 0 & 0 & 0 & 0 & 0 & 0 & 0 & 0 & 0 \\\\\n",
       "\t3 & 1 & 1 & 1 & 1 & 1 & 1 & 1 & 1 & 1 & 1 & 1 & 1 & 1 & 1 & 1 & 1 & 1 & 1 & 1 & 1 & 1 & 1 & 0 \\\\\n",
       "\t4 & 1 & 1 & 1 & 1 & 1 & 1 & 1 & 1 & 1 & 1 & 1 & 1 & 1 & 1 & 1 & 1 & 1 & 1 & 1 & 1 & 1 & 1 & 0 \\\\\n",
       "\t5 & 0 & 0 & 0 & 0 & 0 & 0 & 0 & 0 & 0 & 0 & 0 & 0 & 0 & 0 & 0 & 0 & 0 & 0 & 0 & 0 & 0 & 0 & 0 \\\\\n",
       "\t6 & 1 & 1 & 1 & 1 & 1 & 1 & 1 & 1 & 1 & 1 & 1 & 1 & 1 & 1 & 1 & 1 & 1 & 1 & 1 & 1 & 1 & 1 & 0 \\\\\n",
       "\t7 & 1 & 1 & 1 & 1 & 1 & 1 & 1 & 1 & 1 & 1 & 1 & 1 & 1 & 1 & 1 & 1 & 1 & 1 & 1 & 1 & 1 & 1 & 0 \\\\\n",
       "\t8 & 1 & 1 & 1 & 1 & 1 & 1 & 1 & 1 & 1 & 1 & 1 & 1 & 1 & 1 & 1 & 1 & 1 & 1 & 1 & 1 & 1 & 1 & 0 \\\\\n",
       "\t9 & 0 & 0 & 0 & 0 & 0 & 0 & 0 & 0 & 0 & 0 & 0 & 0 & 0 & 0 & 0 & 0 & 0 & 0 & 0 & 0 & 0 & 0 & 0 \\\\\n",
       "\t10 & 1 & 1 & 1 & 1 & 1 & 1 & 1 & 1 & 1 & 1 & 1 & 1 & 1 & 1 & 1 & 1 & 1 & 1 & 1 & 1 & 1 & 1 & 0 \\\\\n",
       "\t11 & 0 & 0 & 0 & 0 & 0 & 0 & 0 & 0 & 0 & 0 & 0 & 0 & 0 & 0 & 0 & 0 & 0 & 0 & 0 & 0 & 0 & 0 & 0 \\\\\n",
       "\t12 & 1 & 1 & 1 & 1 & 1 & 1 & 1 & 1 & 1 & 1 & 1 & 1 & 1 & 1 & 1 & 1 & 1 & 1 & 1 & 1 & 1 & 1 & 0 \\\\\n",
       "\t13 & 0 & 0 & 0 & 0 & 0 & 0 & 0 & 0 & 0 & 0 & 0 & 0 & 0 & 0 & 0 & 0 & 0 & 0 & 0 & 0 & 0 & 0 & 0 \\\\\n",
       "\t14 & 1 & 1 & 1 & 1 & 1 & 1 & 1 & 1 & 1 & 1 & 1 & 1 & 1 & 1 & 1 & 1 & 1 & 1 & 1 & 1 & 1 & 1 & 0 \\\\\n",
       "\t15 & 0 & 0 & 0 & 0 & 0 & 0 & 0 & 0 & 0 & 0 & 0 & 0 & 0 & 0 & 0 & 0 & 0 & 0 & 0 & 0 & 0 & 0 & 0 \\\\\n",
       "\t16 & 1 & 1 & 1 & 1 & 1 & 1 & 1 & 1 & 1 & 1 & 1 & 1 & 1 & 1 & 1 & 1 & 1 & 1 & 1 & 1 & 1 & 1 & 0 \\\\\n",
       "\t17 & 0 & 0 & 0 & 0 & 0 & 0 & 0 & 0 & 0 & 0 & 0 & 0 & 0 & 0 & 0 & 0 & 0 & 0 & 0 & 0 & 0 & 0 & 0 \\\\\n",
       "\t18 & 1 & 1 & 1 & 1 & 1 & 1 & 1 & 1 & 1 & 1 & 1 & 1 & 1 & 1 & 1 & 1 & 1 & 1 & 1 & 1 & 1 & 1 & 0 \\\\\n",
       "\t19 & 0 & 0 & 0 & 0 & 0 & 0 & 0 & 0 & 0 & 0 & 0 & 0 & 0 & 0 & 0 & 0 & 0 & 0 & 0 & 0 & 0 & 0 & 0 \\\\\n",
       "\t20 & 1 & 1 & 1 & 1 & 1 & 1 & 1 & 1 & 1 & 1 & 1 & 1 & 1 & 1 & 1 & 1 & 1 & 1 & 1 & 1 & 1 & 1 & 0 \\\\\n",
       "\t21 & 0 & 0 & 0 & 0 & 0 & 0 & 0 & 0 & 0 & 0 & 0 & 0 & 0 & 0 & 0 & 0 & 0 & 0 & 0 & 0 & 0 & 0 & 0 \\\\\n",
       "\t22 & 1 & 1 & 1 & 1 & 1 & 1 & 1 & 1 & 1 & 1 & 1 & 1 & 1 & 1 & 1 & 1 & 1 & 1 & 1 & 1 & 1 & 1 & 0 \\\\\n",
       "\t23 & 1 & 1 & 1 & 1 & 1 & 1 & 1 & 1 & 1 & 1 & 1 & 1 & 1 & 1 & 1 & 1 & 1 & 1 & 1 & 1 & 1 & 1 & 0 \\\\\n",
       "\t24 & 1 & 1 & 1 & 1 & 1 & 1 & 1 & 1 & 1 & 1 & 1 & 1 & 1 & 1 & 1 & 1 & 1 & 1 & 1 & 1 & 1 & 1 & 0 \\\\\n",
       "\t25 & 0 & 0 & 0 & 0 & 0 & 0 & 0 & 0 & 0 & 0 & 0 & 0 & 0 & 0 & 0 & 0 & 0 & 0 & 0 & 0 & 0 & 0 & 0 \\\\\n",
       "\t26 & 1 & 1 & 1 & 1 & 1 & 1 & 1 & 1 & 1 & 1 & 1 & 1 & 1 & 1 & 1 & 1 & 1 & 1 & 1 & 1 & 1 & 1 & 0 \\\\\n",
       "\t27 & 1 & 1 & 1 & 1 & 1 & 1 & 1 & 1 & 1 & 1 & 1 & 1 & 1 & 1 & 1 & 1 & 1 & 1 & 1 & 1 & 1 & 1 & 0 \\\\\n",
       "\t28 & 0 & 0 & 0 & 0 & 0 & 0 & 0 & 0 & 0 & 0 & 0 & 0 & 0 & 0 & 0 & 0 & 0 & 0 & 0 & 0 & 0 & 0 & 0 \\\\\n",
       "\t29 & 1 & 1 & 1 & 1 & 1 & 1 & 1 & 1 & 1 & 1 & 1 & 1 & 1 & 1 & 1 & 1 & 1 & 1 & 1 & 1 & 1 & 1 & 0 \\\\\n",
       "\t30 & 0 & 0 & 0 & 0 & 0 & 0 & 0 & 0 & 0 & 0 & 0 & 0 & 0 & 0 & 0 & 0 & 0 & 0 & 0 & 0 & 0 & 0 & 0 \\\\\n",
       "\t$\\dots$ & $\\dots$ & $\\dots$ & $\\dots$ & $\\dots$ & $\\dots$ & $\\dots$ & $\\dots$ & $\\dots$ & $\\dots$ & $\\dots$ & $\\dots$ & $\\dots$ & $\\dots$ & $\\dots$ & $\\dots$ & $\\dots$ & $\\dots$ & $\\dots$ & $\\dots$ & $\\dots$ & $\\dots$ & $\\dots$ & $\\dots$ \\\\\n",
       "\\end{tabular}\n"
      ],
      "text/plain": [
       "\u001b[1m18493×23 DataFrame\u001b[0m\n",
       "\u001b[1m   Row \u001b[0m│\u001b[1m BDI_total_raw \u001b[0m\u001b[1m BDI1  \u001b[0m\u001b[1m BDI2  \u001b[0m\u001b[1m BDI3  \u001b[0m\u001b[1m BDI4  \u001b[0m\u001b[1m BDI5  \u001b[0m\u001b[1m BDI6  \u001b[0m\u001b[1m BDI7  \u001b[0m\u001b[1m BDI8  \u001b[0m\u001b[1m BDI9  \u001b[0m\u001b[1m BDI10 \u001b[0m\u001b[1m BDI11 \u001b[0m\u001b[1m BDI12 \u001b[0m\u001b[1m BDI13 \u001b[0m\u001b[1m BDI14 \u001b[0m\u001b[1m BDI15 \u001b[0m\u001b[1m BDI16 \u001b[0m\u001b[1m BDI17 \u001b[0m\u001b[1m BDI18 \u001b[0m\u001b[1m BDI19 \u001b[0m\u001b[1m BDI20 \u001b[0m\u001b[1m BDI21 \u001b[0m\u001b[1m BDI_total_raw_KNN \u001b[0m\n",
       "\u001b[1m       \u001b[0m│\u001b[90m Bool          \u001b[0m\u001b[90m Bool  \u001b[0m\u001b[90m Bool  \u001b[0m\u001b[90m Bool  \u001b[0m\u001b[90m Bool  \u001b[0m\u001b[90m Bool  \u001b[0m\u001b[90m Bool  \u001b[0m\u001b[90m Bool  \u001b[0m\u001b[90m Bool  \u001b[0m\u001b[90m Bool  \u001b[0m\u001b[90m Bool  \u001b[0m\u001b[90m Bool  \u001b[0m\u001b[90m Bool  \u001b[0m\u001b[90m Bool  \u001b[0m\u001b[90m Bool  \u001b[0m\u001b[90m Bool  \u001b[0m\u001b[90m Bool  \u001b[0m\u001b[90m Bool  \u001b[0m\u001b[90m Bool  \u001b[0m\u001b[90m Bool  \u001b[0m\u001b[90m Bool  \u001b[0m\u001b[90m Bool  \u001b[0m\u001b[90m Bool              \u001b[0m\n",
       "───────┼─────────────────────────────────────────────────────────────────────────────────────────────────────────────────────────────────────────────────────────────────────────────────────\n",
       "     1 │          true   true   true   true   true   true   true   true   true   true   true   true   true   true   true   true   true   true   true   true   true   true              false\n",
       "     2 │         false  false  false  false  false  false  false  false  false  false  false  false  false  false  false  false  false  false  false  false  false  false              false\n",
       "     3 │          true   true   true   true   true   true   true   true   true   true   true   true   true   true   true   true   true   true   true   true   true   true              false\n",
       "     4 │          true   true   true   true   true   true   true   true   true   true   true   true   true   true   true   true   true   true   true   true   true   true              false\n",
       "     5 │         false  false  false  false  false  false  false  false  false  false  false  false  false  false  false  false  false  false  false  false  false  false              false\n",
       "     6 │          true   true   true   true   true   true   true   true   true   true   true   true   true   true   true   true   true   true   true   true   true   true              false\n",
       "     7 │          true   true   true   true   true   true   true   true   true   true   true   true   true   true   true   true   true   true   true   true   true   true              false\n",
       "     8 │          true   true   true   true   true   true   true   true   true   true   true   true   true   true   true   true   true   true   true   true   true   true              false\n",
       "     9 │         false  false  false  false  false  false  false  false  false  false  false  false  false  false  false  false  false  false  false  false  false  false              false\n",
       "    10 │          true   true   true   true   true   true   true   true   true   true   true   true   true   true   true   true   true   true   true   true   true   true              false\n",
       "    11 │         false  false  false  false  false  false  false  false  false  false  false  false  false  false  false  false  false  false  false  false  false  false              false\n",
       "   ⋮   │       ⋮          ⋮      ⋮      ⋮      ⋮      ⋮      ⋮      ⋮      ⋮      ⋮      ⋮      ⋮      ⋮      ⋮      ⋮      ⋮      ⋮      ⋮      ⋮      ⋮      ⋮      ⋮            ⋮\n",
       " 18484 │          true   true   true   true   true   true   true   true   true   true   true   true   true   true   true   true   true   true   true   true   true   true              false\n",
       " 18485 │         false  false  false  false  false  false  false  false  false  false  false  false  false  false  false  false  false  false  false  false  false  false              false\n",
       " 18486 │          true   true   true   true   true   true   true   true   true   true   true   true   true   true   true   true   true   true   true   true   true   true              false\n",
       " 18487 │         false  false  false  false  false  false  false  false  false  false  false  false  false  false  false  false  false  false  false  false  false  false              false\n",
       " 18488 │          true   true   true   true   true   true   true   true   true   true   true   true   true   true   true   true   true   true   true   true   true   true              false\n",
       " 18489 │         false  false  false  false  false  false  false  false  false  false  false  false  false  false  false  false  false  false  false  false  false  false              false\n",
       " 18490 │          true   true   true   true   true   true   true   true   true   true   true   true   true   true   true   true   true   true   true   true   true   true              false\n",
       " 18491 │         false  false  false  false  false  false  false  false  false  false  false  false  false  false  false  false  false  false  false  false  false  false              false\n",
       " 18492 │          true   true   true   true   true   true   true   true   true   true   true   true   true   true   true   true   true   true   true   true   true   true              false\n",
       " 18493 │         false  false  false  false  false  false  false  false  false  false  false  false  false  false  false  false  false  false  false  false  false  false              false\n",
       "\u001b[36m                                                                                                                                                                           18472 rows omitted\u001b[0m"
      ]
     },
     "execution_count": 21,
     "metadata": {},
     "output_type": "execute_result"
    }
   ],
   "source": [
    "ENV[\"COLUMNS\"] = 200\n",
    "ismissing.(data[:,r\"BDI\"])"
   ]
  },
  {
   "cell_type": "code",
   "execution_count": 24,
   "metadata": {},
   "outputs": [
    {
     "data": {
      "text/html": [
       "<div class=\"data-frame\"><p>1,178 rows × 793 columns (omitted printing of 777 columns)</p><table class=\"data-frame\"><thead><tr><th></th><th>Column1</th><th>PROLIFIC_PID</th><th>wave</th><th>Fear_COVID_raw</th><th>Disgust_COVID_raw</th><th>DISG1.1_20</th><th>DISG1.1_22</th><th>DISG1.2_15</th><th>DISG1.2_17</th><th>DISG1.2_18</th><th>DISG1.2_19</th><th>DISG1.2_20</th><th>DISG1.2_21</th><th>DISG1.2_22</th><th>Fear2_1</th><th>Fear2_2</th></tr><tr><th></th><th title=\"Int64\">Int64</th><th title=\"String31\">String31</th><th title=\"Int64\">Int64</th><th title=\"Int64\">Int64</th><th title=\"Int64\">Int64</th><th title=\"Float64\">Float64</th><th title=\"Float64\">Float64</th><th title=\"Float64\">Float64</th><th title=\"Float64\">Float64</th><th title=\"Float64\">Float64</th><th title=\"Float64\">Float64</th><th title=\"Float64\">Float64</th><th title=\"Float64\">Float64</th><th title=\"Float64\">Float64</th><th title=\"Float64\">Float64</th><th title=\"Float64\">Float64</th></tr></thead><tbody><tr><th>1</th><td>8</td><td>5c7e91c1973c990016ea72b0</td><td>6</td><td>21</td><td>29</td><td>5.0</td><td>5.0</td><td>3.0</td><td>5.0</td><td>5.0</td><td>5.0</td><td>3.0</td><td>2.0</td><td>5.0</td><td>4.0</td><td>5.0</td></tr><tr><th>2</th><td>24</td><td>5e67052c757e6149c38ce468</td><td>6</td><td>14</td><td>17</td><td>5.0</td><td>5.0</td><td>2.0</td><td>2.0</td><td>2.0</td><td>4.0</td><td>1.0</td><td>1.0</td><td>4.0</td><td>3.0</td><td>5.0</td></tr><tr><th>3</th><td>33</td><td>5d89106d1719af0001ee23e5</td><td>6</td><td>0</td><td>12</td><td>4.0</td><td>1.0</td><td>1.0</td><td>1.0</td><td>3.0</td><td>4.0</td><td>1.0</td><td>1.0</td><td>5.0</td><td>1.0</td><td>1.0</td></tr><tr><th>4</th><td>49</td><td>5d6394518df2870001a74b42</td><td>6</td><td>17</td><td>28</td><td>5.0</td><td>5.0</td><td>5.0</td><td>5.0</td><td>1.0</td><td>5.0</td><td>3.0</td><td>3.0</td><td>5.0</td><td>5.0</td><td>5.0</td></tr><tr><th>5</th><td>65</td><td>5bdd368719b9ba000157fb12</td><td>6</td><td>12</td><td>16</td><td>5.0</td><td>1.0</td><td>1.0</td><td>1.0</td><td>5.0</td><td>5.0</td><td>1.0</td><td>1.0</td><td>5.0</td><td>1.0</td><td>5.0</td></tr><tr><th>6</th><td>82</td><td>5a8ce265000dab00018ce084</td><td>6</td><td>1</td><td>7</td><td>1.0</td><td>2.0</td><td>1.0</td><td>1.0</td><td>3.0</td><td>3.0</td><td>1.0</td><td>1.0</td><td>3.0</td><td>1.0</td><td>2.0</td></tr><tr><th>7</th><td>98</td><td>5c72efa770d5a200018028f1</td><td>6</td><td>13</td><td>20</td><td>3.0</td><td>3.0</td><td>4.0</td><td>4.0</td><td>2.0</td><td>5.0</td><td>1.0</td><td>3.0</td><td>4.0</td><td>4.0</td><td>3.0</td></tr><tr><th>8</th><td>115</td><td>5aea962d0ef2f20001858c9c</td><td>6</td><td>11</td><td>17</td><td>1.0</td><td>5.0</td><td>2.0</td><td>3.0</td><td>2.0</td><td>5.0</td><td>1.0</td><td>2.0</td><td>5.0</td><td>1.0</td><td>3.0</td></tr><tr><th>9</th><td>130</td><td>5e4b793f03c92a08a6d28e3f</td><td>6</td><td>5</td><td>9</td><td>3.0</td><td>3.0</td><td>2.0</td><td>2.0</td><td>2.0</td><td>2.0</td><td>1.0</td><td>1.0</td><td>2.0</td><td>1.0</td><td>2.0</td></tr><tr><th>10</th><td>139</td><td>5cbc071f2edc3b00018ab097</td><td>6</td><td>17</td><td>18</td><td>2.0</td><td>1.0</td><td>5.0</td><td>4.0</td><td>3.0</td><td>4.0</td><td>1.0</td><td>2.0</td><td>5.0</td><td>4.0</td><td>4.0</td></tr><tr><th>11</th><td>155</td><td>5c1b06d9a329230001ecc39c</td><td>6</td><td>9</td><td>11</td><td>1.0</td><td>2.0</td><td>2.0</td><td>4.0</td><td>2.0</td><td>4.0</td><td>1.0</td><td>2.0</td><td>2.0</td><td>2.0</td><td>4.0</td></tr><tr><th>12</th><td>171</td><td>5e576e085069e61204a85872</td><td>6</td><td>24</td><td>23</td><td>2.0</td><td>2.0</td><td>4.0</td><td>4.0</td><td>5.0</td><td>4.0</td><td>2.0</td><td>4.0</td><td>5.0</td><td>5.0</td><td>5.0</td></tr><tr><th>13</th><td>186</td><td>5dcf50f05686c1099819882a</td><td>6</td><td>17</td><td>23</td><td>4.0</td><td>4.0</td><td>4.0</td><td>4.0</td><td>3.0</td><td>5.0</td><td>1.0</td><td>2.0</td><td>5.0</td><td>3.0</td><td>4.0</td></tr><tr><th>14</th><td>203</td><td>5d2d8b999c6703001525304f</td><td>6</td><td>14</td><td>15</td><td>1.0</td><td>1.0</td><td>2.0</td><td>5.0</td><td>2.0</td><td>5.0</td><td>2.0</td><td>1.0</td><td>5.0</td><td>2.0</td><td>5.0</td></tr><tr><th>15</th><td>212</td><td>5de8bc74553cee8280a7dd84</td><td>6</td><td>3</td><td>5</td><td>1.0</td><td>1.0</td><td>1.0</td><td>1.0</td><td>2.0</td><td>3.0</td><td>1.0</td><td>1.0</td><td>3.0</td><td>1.0</td><td>2.0</td></tr><tr><th>16</th><td>230</td><td>5b6a87d2cda8590001db8e07</td><td>6</td><td>14</td><td>22</td><td>4.0</td><td>3.0</td><td>3.0</td><td>3.0</td><td>3.0</td><td>4.0</td><td>3.0</td><td>3.0</td><td>5.0</td><td>3.0</td><td>2.0</td></tr><tr><th>17</th><td>246</td><td>5e3dff6b8714b707b9a258b0</td><td>6</td><td>12</td><td>14</td><td>1.0</td><td>1.0</td><td>3.0</td><td>2.0</td><td>3.0</td><td>5.0</td><td>1.0</td><td>2.0</td><td>5.0</td><td>2.0</td><td>4.0</td></tr><tr><th>18</th><td>262</td><td>5b05e0d131cebe000177c38e</td><td>6</td><td>20</td><td>22</td><td>3.0</td><td>4.0</td><td>4.0</td><td>4.0</td><td>3.0</td><td>5.0</td><td>2.0</td><td>1.0</td><td>5.0</td><td>5.0</td><td>5.0</td></tr><tr><th>19</th><td>276</td><td>5d3b79a59d5c14000140c32f</td><td>6</td><td>10</td><td>15</td><td>2.0</td><td>4.0</td><td>1.0</td><td>1.0</td><td>3.0</td><td>5.0</td><td>1.0</td><td>2.0</td><td>5.0</td><td>1.0</td><td>2.0</td></tr><tr><th>20</th><td>282</td><td>5e53e22ea0002e3e73720f65</td><td>6</td><td>12</td><td>21</td><td>5.0</td><td>5.0</td><td>1.0</td><td>5.0</td><td>1.0</td><td>5.0</td><td>1.0</td><td>2.0</td><td>5.0</td><td>1.0</td><td>4.0</td></tr><tr><th>21</th><td>297</td><td>5e6fde86b3ea9e5bb33664e4</td><td>6</td><td>9</td><td>11</td><td>4.0</td><td>1.0</td><td>1.0</td><td>1.0</td><td>2.0</td><td>4.0</td><td>1.0</td><td>1.0</td><td>5.0</td><td>1.0</td><td>1.0</td></tr><tr><th>22</th><td>310</td><td>5e65dca1d639df34800674a8</td><td>6</td><td>16</td><td>11</td><td>1.0</td><td>1.0</td><td>3.0</td><td>2.0</td><td>2.0</td><td>4.0</td><td>2.0</td><td>2.0</td><td>3.0</td><td>4.0</td><td>5.0</td></tr><tr><th>23</th><td>324</td><td>5de0b69ba91be311cb773b0b</td><td>6</td><td>8</td><td>10</td><td>1.0</td><td>1.0</td><td>2.0</td><td>3.0</td><td>2.0</td><td>3.0</td><td>1.0</td><td>1.0</td><td>5.0</td><td>1.0</td><td>2.0</td></tr><tr><th>24</th><td>342</td><td>5e05b7747dd477fc2d2d2857</td><td>6</td><td>10</td><td>12</td><td>1.0</td><td>2.0</td><td>2.0</td><td>3.0</td><td>3.0</td><td>3.0</td><td>1.0</td><td>2.0</td><td>4.0</td><td>2.0</td><td>3.0</td></tr><tr><th>25</th><td>358</td><td>5c9e65d52707e10001a00524</td><td>6</td><td>8</td><td>12</td><td>3.0</td><td>3.0</td><td>2.0</td><td>2.0</td><td>2.0</td><td>3.0</td><td>1.0</td><td>1.0</td><td>4.0</td><td>2.0</td><td>2.0</td></tr><tr><th>26</th><td>374</td><td>5b5a822e1ad8270001c4f28d</td><td>6</td><td>20</td><td>28</td><td>5.0</td><td>5.0</td><td>5.0</td><td>5.0</td><td>5.0</td><td>5.0</td><td>1.0</td><td>1.0</td><td>5.0</td><td>5.0</td><td>5.0</td></tr><tr><th>27</th><td>388</td><td>578ba9442fc0d400012c71dc</td><td>6</td><td>16</td><td>16</td><td>2.0</td><td>5.0</td><td>4.0</td><td>2.0</td><td>2.0</td><td>3.0</td><td>1.0</td><td>1.0</td><td>5.0</td><td>4.0</td><td>3.0</td></tr><tr><th>28</th><td>405</td><td>5ace650a436f550001004f87</td><td>6</td><td>15</td><td>22</td><td>5.0</td><td>5.0</td><td>3.0</td><td>2.0</td><td>2.0</td><td>5.0</td><td>2.0</td><td>3.0</td><td>4.0</td><td>3.0</td><td>2.0</td></tr><tr><th>29</th><td>421</td><td>5e5323c8c9f6063449ad9f00</td><td>6</td><td>18</td><td>22</td><td>4.0</td><td>5.0</td><td>3.0</td><td>2.0</td><td>4.0</td><td>5.0</td><td>1.0</td><td>2.0</td><td>5.0</td><td>4.0</td><td>5.0</td></tr><tr><th>30</th><td>436</td><td>5dd0733b82569a156ed4f64f</td><td>6</td><td>11</td><td>14</td><td>2.0</td><td>1.0</td><td>2.0</td><td>3.0</td><td>2.0</td><td>5.0</td><td>2.0</td><td>2.0</td><td>4.0</td><td>1.0</td><td>4.0</td></tr><tr><th>&vellip;</th><td>&vellip;</td><td>&vellip;</td><td>&vellip;</td><td>&vellip;</td><td>&vellip;</td><td>&vellip;</td><td>&vellip;</td><td>&vellip;</td><td>&vellip;</td><td>&vellip;</td><td>&vellip;</td><td>&vellip;</td><td>&vellip;</td><td>&vellip;</td><td>&vellip;</td><td>&vellip;</td></tr></tbody></table></div>"
      ],
      "text/latex": [
       "\\begin{tabular}{r|ccccccccccccccccc}\n",
       "\t& Column1 & PROLIFIC\\_PID & wave & Fear\\_COVID\\_raw & Disgust\\_COVID\\_raw & DISG1.1\\_20 & DISG1.1\\_22 & DISG1.2\\_15 & DISG1.2\\_17 & DISG1.2\\_18 & DISG1.2\\_19 & DISG1.2\\_20 & DISG1.2\\_21 & DISG1.2\\_22 & Fear2\\_1 & Fear2\\_2 & \\\\\n",
       "\t\\hline\n",
       "\t& Int64 & String31 & Int64 & Int64 & Int64 & Float64 & Float64 & Float64 & Float64 & Float64 & Float64 & Float64 & Float64 & Float64 & Float64 & Float64 & \\\\\n",
       "\t\\hline\n",
       "\t1 & 8 & 5c7e91c1973c990016ea72b0 & 6 & 21 & 29 & 5.0 & 5.0 & 3.0 & 5.0 & 5.0 & 5.0 & 3.0 & 2.0 & 5.0 & 4.0 & 5.0 & $\\dots$ \\\\\n",
       "\t2 & 24 & 5e67052c757e6149c38ce468 & 6 & 14 & 17 & 5.0 & 5.0 & 2.0 & 2.0 & 2.0 & 4.0 & 1.0 & 1.0 & 4.0 & 3.0 & 5.0 & $\\dots$ \\\\\n",
       "\t3 & 33 & 5d89106d1719af0001ee23e5 & 6 & 0 & 12 & 4.0 & 1.0 & 1.0 & 1.0 & 3.0 & 4.0 & 1.0 & 1.0 & 5.0 & 1.0 & 1.0 & $\\dots$ \\\\\n",
       "\t4 & 49 & 5d6394518df2870001a74b42 & 6 & 17 & 28 & 5.0 & 5.0 & 5.0 & 5.0 & 1.0 & 5.0 & 3.0 & 3.0 & 5.0 & 5.0 & 5.0 & $\\dots$ \\\\\n",
       "\t5 & 65 & 5bdd368719b9ba000157fb12 & 6 & 12 & 16 & 5.0 & 1.0 & 1.0 & 1.0 & 5.0 & 5.0 & 1.0 & 1.0 & 5.0 & 1.0 & 5.0 & $\\dots$ \\\\\n",
       "\t6 & 82 & 5a8ce265000dab00018ce084 & 6 & 1 & 7 & 1.0 & 2.0 & 1.0 & 1.0 & 3.0 & 3.0 & 1.0 & 1.0 & 3.0 & 1.0 & 2.0 & $\\dots$ \\\\\n",
       "\t7 & 98 & 5c72efa770d5a200018028f1 & 6 & 13 & 20 & 3.0 & 3.0 & 4.0 & 4.0 & 2.0 & 5.0 & 1.0 & 3.0 & 4.0 & 4.0 & 3.0 & $\\dots$ \\\\\n",
       "\t8 & 115 & 5aea962d0ef2f20001858c9c & 6 & 11 & 17 & 1.0 & 5.0 & 2.0 & 3.0 & 2.0 & 5.0 & 1.0 & 2.0 & 5.0 & 1.0 & 3.0 & $\\dots$ \\\\\n",
       "\t9 & 130 & 5e4b793f03c92a08a6d28e3f & 6 & 5 & 9 & 3.0 & 3.0 & 2.0 & 2.0 & 2.0 & 2.0 & 1.0 & 1.0 & 2.0 & 1.0 & 2.0 & $\\dots$ \\\\\n",
       "\t10 & 139 & 5cbc071f2edc3b00018ab097 & 6 & 17 & 18 & 2.0 & 1.0 & 5.0 & 4.0 & 3.0 & 4.0 & 1.0 & 2.0 & 5.0 & 4.0 & 4.0 & $\\dots$ \\\\\n",
       "\t11 & 155 & 5c1b06d9a329230001ecc39c & 6 & 9 & 11 & 1.0 & 2.0 & 2.0 & 4.0 & 2.0 & 4.0 & 1.0 & 2.0 & 2.0 & 2.0 & 4.0 & $\\dots$ \\\\\n",
       "\t12 & 171 & 5e576e085069e61204a85872 & 6 & 24 & 23 & 2.0 & 2.0 & 4.0 & 4.0 & 5.0 & 4.0 & 2.0 & 4.0 & 5.0 & 5.0 & 5.0 & $\\dots$ \\\\\n",
       "\t13 & 186 & 5dcf50f05686c1099819882a & 6 & 17 & 23 & 4.0 & 4.0 & 4.0 & 4.0 & 3.0 & 5.0 & 1.0 & 2.0 & 5.0 & 3.0 & 4.0 & $\\dots$ \\\\\n",
       "\t14 & 203 & 5d2d8b999c6703001525304f & 6 & 14 & 15 & 1.0 & 1.0 & 2.0 & 5.0 & 2.0 & 5.0 & 2.0 & 1.0 & 5.0 & 2.0 & 5.0 & $\\dots$ \\\\\n",
       "\t15 & 212 & 5de8bc74553cee8280a7dd84 & 6 & 3 & 5 & 1.0 & 1.0 & 1.0 & 1.0 & 2.0 & 3.0 & 1.0 & 1.0 & 3.0 & 1.0 & 2.0 & $\\dots$ \\\\\n",
       "\t16 & 230 & 5b6a87d2cda8590001db8e07 & 6 & 14 & 22 & 4.0 & 3.0 & 3.0 & 3.0 & 3.0 & 4.0 & 3.0 & 3.0 & 5.0 & 3.0 & 2.0 & $\\dots$ \\\\\n",
       "\t17 & 246 & 5e3dff6b8714b707b9a258b0 & 6 & 12 & 14 & 1.0 & 1.0 & 3.0 & 2.0 & 3.0 & 5.0 & 1.0 & 2.0 & 5.0 & 2.0 & 4.0 & $\\dots$ \\\\\n",
       "\t18 & 262 & 5b05e0d131cebe000177c38e & 6 & 20 & 22 & 3.0 & 4.0 & 4.0 & 4.0 & 3.0 & 5.0 & 2.0 & 1.0 & 5.0 & 5.0 & 5.0 & $\\dots$ \\\\\n",
       "\t19 & 276 & 5d3b79a59d5c14000140c32f & 6 & 10 & 15 & 2.0 & 4.0 & 1.0 & 1.0 & 3.0 & 5.0 & 1.0 & 2.0 & 5.0 & 1.0 & 2.0 & $\\dots$ \\\\\n",
       "\t20 & 282 & 5e53e22ea0002e3e73720f65 & 6 & 12 & 21 & 5.0 & 5.0 & 1.0 & 5.0 & 1.0 & 5.0 & 1.0 & 2.0 & 5.0 & 1.0 & 4.0 & $\\dots$ \\\\\n",
       "\t21 & 297 & 5e6fde86b3ea9e5bb33664e4 & 6 & 9 & 11 & 4.0 & 1.0 & 1.0 & 1.0 & 2.0 & 4.0 & 1.0 & 1.0 & 5.0 & 1.0 & 1.0 & $\\dots$ \\\\\n",
       "\t22 & 310 & 5e65dca1d639df34800674a8 & 6 & 16 & 11 & 1.0 & 1.0 & 3.0 & 2.0 & 2.0 & 4.0 & 2.0 & 2.0 & 3.0 & 4.0 & 5.0 & $\\dots$ \\\\\n",
       "\t23 & 324 & 5de0b69ba91be311cb773b0b & 6 & 8 & 10 & 1.0 & 1.0 & 2.0 & 3.0 & 2.0 & 3.0 & 1.0 & 1.0 & 5.0 & 1.0 & 2.0 & $\\dots$ \\\\\n",
       "\t24 & 342 & 5e05b7747dd477fc2d2d2857 & 6 & 10 & 12 & 1.0 & 2.0 & 2.0 & 3.0 & 3.0 & 3.0 & 1.0 & 2.0 & 4.0 & 2.0 & 3.0 & $\\dots$ \\\\\n",
       "\t25 & 358 & 5c9e65d52707e10001a00524 & 6 & 8 & 12 & 3.0 & 3.0 & 2.0 & 2.0 & 2.0 & 3.0 & 1.0 & 1.0 & 4.0 & 2.0 & 2.0 & $\\dots$ \\\\\n",
       "\t26 & 374 & 5b5a822e1ad8270001c4f28d & 6 & 20 & 28 & 5.0 & 5.0 & 5.0 & 5.0 & 5.0 & 5.0 & 1.0 & 1.0 & 5.0 & 5.0 & 5.0 & $\\dots$ \\\\\n",
       "\t27 & 388 & 578ba9442fc0d400012c71dc & 6 & 16 & 16 & 2.0 & 5.0 & 4.0 & 2.0 & 2.0 & 3.0 & 1.0 & 1.0 & 5.0 & 4.0 & 3.0 & $\\dots$ \\\\\n",
       "\t28 & 405 & 5ace650a436f550001004f87 & 6 & 15 & 22 & 5.0 & 5.0 & 3.0 & 2.0 & 2.0 & 5.0 & 2.0 & 3.0 & 4.0 & 3.0 & 2.0 & $\\dots$ \\\\\n",
       "\t29 & 421 & 5e5323c8c9f6063449ad9f00 & 6 & 18 & 22 & 4.0 & 5.0 & 3.0 & 2.0 & 4.0 & 5.0 & 1.0 & 2.0 & 5.0 & 4.0 & 5.0 & $\\dots$ \\\\\n",
       "\t30 & 436 & 5dd0733b82569a156ed4f64f & 6 & 11 & 14 & 2.0 & 1.0 & 2.0 & 3.0 & 2.0 & 5.0 & 2.0 & 2.0 & 4.0 & 1.0 & 4.0 & $\\dots$ \\\\\n",
       "\t$\\dots$ & $\\dots$ & $\\dots$ & $\\dots$ & $\\dots$ & $\\dots$ & $\\dots$ & $\\dots$ & $\\dots$ & $\\dots$ & $\\dots$ & $\\dots$ & $\\dots$ & $\\dots$ & $\\dots$ & $\\dots$ & $\\dots$ &  \\\\\n",
       "\\end{tabular}\n"
      ],
      "text/plain": [
       "\u001b[1m1178×793 SubDataFrame\u001b[0m\n",
       "\u001b[1m  Row \u001b[0m│\u001b[1m Column1 \u001b[0m\u001b[1m PROLIFIC_PID             \u001b[0m\u001b[1m wave  \u001b[0m\u001b[1m Fear_COVID_raw \u001b[0m\u001b[1m Disgust_COVID_raw \u001b[0m\u001b[1m DISG1.1_20 \u001b[0m\u001b[1m DISG1.1_22 \u001b[0m\u001b[1m DISG1.2_15 \u001b[0m\u001b[1m DISG1.2_17 \u001b[0m\u001b[1m DISG1.2_18 \u001b[0m\u001b[1m DISG1.2_19 \u001b[0m\u001b[1m DISG1.2_20 \u001b[0m\u001b[1m DISG1.2_21 \u001b[0m\u001b[1m DISG1.2_22 \u001b[0m\u001b[1m Fear2\u001b[0m ⋯\n",
       "\u001b[1m      \u001b[0m│\u001b[90m Int64   \u001b[0m\u001b[90m String31                 \u001b[0m\u001b[90m Int64 \u001b[0m\u001b[90m Int64          \u001b[0m\u001b[90m Int64             \u001b[0m\u001b[90m Float64    \u001b[0m\u001b[90m Float64    \u001b[0m\u001b[90m Float64    \u001b[0m\u001b[90m Float64    \u001b[0m\u001b[90m Float64    \u001b[0m\u001b[90m Float64    \u001b[0m\u001b[90m Float64    \u001b[0m\u001b[90m Float64    \u001b[0m\u001b[90m Float64    \u001b[0m\u001b[90m Float\u001b[0m ⋯\n",
       "──────┼─────────────────────────────────────────────────────────────────────────────────────────────────────────────────────────────────────────────────────────────────────────────────────────────────\n",
       "    1 │       8  5c7e91c1973c990016ea72b0      6              21                 29         5.0         5.0         3.0         5.0         5.0         5.0         3.0         2.0         5.0      4 ⋯\n",
       "    2 │      24  5e67052c757e6149c38ce468      6              14                 17         5.0         5.0         2.0         2.0         2.0         4.0         1.0         1.0         4.0      3\n",
       "    3 │      33  5d89106d1719af0001ee23e5      6               0                 12         4.0         1.0         1.0         1.0         3.0         4.0         1.0         1.0         5.0      1\n",
       "    4 │      49  5d6394518df2870001a74b42      6              17                 28         5.0         5.0         5.0         5.0         1.0         5.0         3.0         3.0         5.0      5\n",
       "    5 │      65  5bdd368719b9ba000157fb12      6              12                 16         5.0         1.0         1.0         1.0         5.0         5.0         1.0         1.0         5.0      1 ⋯\n",
       "    6 │      82  5a8ce265000dab00018ce084      6               1                  7         1.0         2.0         1.0         1.0         3.0         3.0         1.0         1.0         3.0      1\n",
       "    7 │      98  5c72efa770d5a200018028f1      6              13                 20         3.0         3.0         4.0         4.0         2.0         5.0         1.0         3.0         4.0      4\n",
       "    8 │     115  5aea962d0ef2f20001858c9c      6              11                 17         1.0         5.0         2.0         3.0         2.0         5.0         1.0         2.0         5.0      1\n",
       "    9 │     130  5e4b793f03c92a08a6d28e3f      6               5                  9         3.0         3.0         2.0         2.0         2.0         2.0         1.0         1.0         2.0      1 ⋯\n",
       "   10 │     139  5cbc071f2edc3b00018ab097      6              17                 18         2.0         1.0         5.0         4.0         3.0         4.0         1.0         2.0         5.0      4\n",
       "   11 │     155  5c1b06d9a329230001ecc39c      6               9                 11         1.0         2.0         2.0         4.0         2.0         4.0         1.0         2.0         2.0      2\n",
       "  ⋮   │    ⋮                ⋮                ⋮          ⋮                 ⋮              ⋮           ⋮           ⋮           ⋮           ⋮           ⋮           ⋮           ⋮           ⋮          ⋮  ⋱\n",
       " 1169 │   18322  5d94794a521f890016f93604      6              18                 24         4.0         4.0         5.0         3.0         5.0         5.0         1.0         1.0         5.0      5\n",
       " 1170 │   18353  5de59f97e448c65315ec4a37      6               5                 12         1.0         4.0         2.0         2.0         2.0         3.0         2.0         3.0         2.0      1 ⋯\n",
       " 1171 │   18381  5c054e8a553fb800011917d7      6               9                 16         3.0         4.0         2.0         3.0         2.0         4.0         2.0         2.0         3.0      2\n",
       " 1172 │   18397  5cad4750f4115800176d506e      6              14                 23         2.0         5.0         3.0         2.0         4.0         5.0         3.0         3.0         5.0      2\n",
       " 1173 │   18413  5be8846293ca1f00014db03c      6              11                 15         2.0         2.0         2.0         4.0         2.0         5.0         1.0         1.0         5.0      1\n",
       " 1174 │   18429  5dbd1569f8223b28d73ed6ae      6               9                 12         1.0         2.0         3.0         2.0         2.0         4.0         1.0         1.0         5.0      2 ⋯\n",
       " 1175 │   18445  5e217a34e8ff3a469b5dfebc      6              28                 36         5.0         5.0         5.0         5.0         5.0         5.0         5.0         5.0         5.0      5\n",
       " 1176 │   18452  5d63867550d0dd0017805976      6              17                 16         1.0         5.0         2.0         2.0         2.0         5.0         1.0         2.0         5.0      3\n",
       " 1177 │   18461  5e6155e6f169c0046b6d6518      6               5                  5         1.0         1.0         1.0         1.0         1.0         3.0         1.0         1.0         4.0      1\n",
       " 1178 │   18482  58cefdb030c4cf0001ceb3ac      6              18                 16         1.0         1.0         4.0         3.0         5.0         4.0         1.0         1.0         5.0      4 ⋯\n",
       "\u001b[36m                                                                                                                                                                       779 columns and 1157 rows omitted\u001b[0m"
      ]
     },
     "execution_count": 24,
     "metadata": {},
     "output_type": "execute_result"
    }
   ],
   "source": [
    "filter(r -> r.wave == 6, data, view=true)"
   ]
  },
  {
   "cell_type": "code",
   "execution_count": 26,
   "metadata": {},
   "outputs": [
    {
     "data": {
      "text/plain": [
       "AsTable(\u001b[1m18493×793 DataFrame\u001b[0m\n",
       "\u001b[1m   Row \u001b[0m│\u001b[1m Column1 \u001b[0m\u001b[1m PROLIFIC_PID             \u001b[0m\u001b[1m wave  \u001b[0m\u001b[1m Fear_COVID_raw \u001b[0m\u001b[1m Disgust_COVID_raw \u001b[0m\u001b[1m DISG1.1_20 \u001b[0m\u001b[1m DISG1.1_22 \u001b[0m\u001b[1m DISG1.2_15 \u001b[0m\u001b[1m DISG1.2_17 \u001b[0m\u001b[1m DISG1.2_18 \u001b[0m\u001b[1m DISG1.2_19 \u001b[0m\u001b[1m DISG1.2_20 \u001b[0m\u001b[1m DISG1.2_21 \u001b[0m\u001b[1m DISG1.2_22 \u001b[0m\u001b[1m Fear\u001b[0m ⋯\n",
       "\u001b[1m       \u001b[0m│\u001b[90m Int64   \u001b[0m\u001b[90m String31                 \u001b[0m\u001b[90m Int64 \u001b[0m\u001b[90m Int64          \u001b[0m\u001b[90m Int64             \u001b[0m\u001b[90m Float64    \u001b[0m\u001b[90m Float64    \u001b[0m\u001b[90m Float64    \u001b[0m\u001b[90m Float64    \u001b[0m\u001b[90m Float64    \u001b[0m\u001b[90m Float64    \u001b[0m\u001b[90m Float64    \u001b[0m\u001b[90m Float64    \u001b[0m\u001b[90m Float64    \u001b[0m\u001b[90m Floa\u001b[0m ⋯\n",
       "───────┼────────────────────────────────────────────────────────────────────────────────────────────────────────────────────────────────────────────────────────────────────────────────────────────────\n",
       "     1 │       0  5df82e8739bcde5dd044f741      1               8                 11         1.0         1.0         1.0         2.0         5.0         3.0         1.0         1.0         5.0       ⋯\n",
       "     2 │       1  5df82e8739bcde5dd044f741      2               7                 12         1.0         1.0         1.0         1.0         5.0         5.0         1.0         1.0         5.0\n",
       "     3 │       2  5df82e8739bcde5dd044f741      3              13                 12         1.0         1.0         2.0         1.0         4.0         5.0         1.0         1.0         5.0\n",
       "     4 │       3  5c7e91c1973c990016ea72b0      1              24                 27         5.0         1.0         5.0         5.0         5.0         5.0         2.0         3.0         5.0\n",
       "     5 │       4  5c7e91c1973c990016ea72b0      2              25                 26         5.0         3.0         5.0         1.0         5.0         5.0         3.0         3.0         5.0       ⋯\n",
       "     6 │       5  5c7e91c1973c990016ea72b0      3              23                 32         5.0         5.0         5.0         5.0         5.0         5.0         3.0         3.0         5.0\n",
       "     7 │       6  5c7e91c1973c990016ea72b0      4              21                 29         4.0         5.0         4.0         4.0         5.0         5.0         3.0         3.0         5.0\n",
       "     8 │       7  5c7e91c1973c990016ea72b0      5              20                 27         5.0         4.0         5.0         2.0         4.0         5.0         3.0         3.0         5.0\n",
       "     9 │       8  5c7e91c1973c990016ea72b0      6              21                 29         5.0         5.0         3.0         5.0         5.0         5.0         3.0         2.0         5.0       ⋯\n",
       "    10 │       9  5c7e91c1973c990016ea72b0      7              21                 27         5.0         5.0         4.0         2.0         4.0         5.0         3.0         3.0         5.0\n",
       "    11 │      10  5c7e91c1973c990016ea72b0      8              19                 26         5.0         4.0         4.0         2.0         4.0         5.0         3.0         3.0         5.0\n",
       "   ⋮   │    ⋮                ⋮                ⋮          ⋮                 ⋮              ⋮           ⋮           ⋮           ⋮           ⋮           ⋮           ⋮           ⋮           ⋮          ⋮ ⋱\n",
       " 18484 │   18483  58cefdb030c4cf0001ceb3ac      7              16                 17         1.0         2.0         3.0         2.0         5.0         4.0         2.0         2.0         5.0\n",
       " 18485 │   18484  58cefdb030c4cf0001ceb3ac      8              14                 17         1.0         1.0         5.0         2.0         5.0         3.0         2.0         2.0         5.0       ⋯\n",
       " 18486 │   18485  58cefdb030c4cf0001ceb3ac      9               9                 15         1.0         1.0         2.0         2.0         5.0         4.0         2.0         2.0         5.0\n",
       " 18487 │   18486  58cefdb030c4cf0001ceb3ac     10               8                 16         1.0         1.0         3.0         4.0         5.0         4.0         1.0         1.0         5.0\n",
       " 18488 │   18487  58cefdb030c4cf0001ceb3ac     11              15                 15         1.0         1.0         5.0         4.0         4.0         3.0         1.0         1.0         4.0\n",
       " 18489 │   18488  58cefdb030c4cf0001ceb3ac     12              16                 18         1.0         1.0         4.0         4.0         5.0         4.0         2.0         2.0         4.0       ⋯\n",
       " 18490 │   18489  58cefdb030c4cf0001ceb3ac     13              17                 16         1.0         1.0         4.0         1.0         5.0         4.0         2.0         2.0         5.0\n",
       " 18491 │   18490  58cefdb030c4cf0001ceb3ac     14              15                 14         1.0         1.0         4.0         3.0         5.0         3.0         1.0         1.0         4.0\n",
       " 18492 │   18491  58cefdb030c4cf0001ceb3ac     15              16                 15         1.0         1.0         5.0         3.0         4.0         3.0         1.0         1.0         5.0\n",
       " 18493 │   18492  58cefdb030c4cf0001ceb3ac     16              16                 14         1.0         1.0         3.0         2.0         4.0         4.0         1.0         2.0         5.0       ⋯\n",
       "\u001b[36m                                                                                                                                                                      779 columns and 18472 rows omitted\u001b[0m)"
      ]
     },
     "execution_count": 26,
     "metadata": {},
     "output_type": "execute_result"
    }
   ],
   "source": [
    "test = AsTable(data)"
   ]
  },
  {
   "cell_type": "code",
   "execution_count": 33,
   "metadata": {},
   "outputs": [
    {
     "data": {
      "text/html": [
       "<div class=\"data-frame\"><p>2 rows × 3 columns</p><table class=\"data-frame\"><thead><tr><th></th><th>x1</th><th>x2</th><th>y</th></tr><tr><th></th><th title=\"Int64\">Int64</th><th title=\"Int64\">Int64</th><th title=\"Int64\">Int64</th></tr></thead><tbody><tr><th>1</th><td>1</td><td>3</td><td>5</td></tr><tr><th>2</th><td>2</td><td>4</td><td>6</td></tr></tbody></table></div>"
      ],
      "text/latex": [
       "\\begin{tabular}{r|ccc}\n",
       "\t& x1 & x2 & y\\\\\n",
       "\t\\hline\n",
       "\t& Int64 & Int64 & Int64\\\\\n",
       "\t\\hline\n",
       "\t1 & 1 & 3 & 5 \\\\\n",
       "\t2 & 2 & 4 & 6 \\\\\n",
       "\\end{tabular}\n"
      ],
      "text/plain": [
       "\u001b[1m2×3 DataFrame\u001b[0m\n",
       "\u001b[1m Row \u001b[0m│\u001b[1m x1    \u001b[0m\u001b[1m x2    \u001b[0m\u001b[1m y     \u001b[0m\n",
       "\u001b[1m     \u001b[0m│\u001b[90m Int64 \u001b[0m\u001b[90m Int64 \u001b[0m\u001b[90m Int64 \u001b[0m\n",
       "─────┼─────────────────────\n",
       "   1 │     1      3      5\n",
       "   2 │     2      4      6"
      ]
     },
     "execution_count": 33,
     "metadata": {},
     "output_type": "execute_result"
    }
   ],
   "source": [
    "df = DataFrame(x1=[1, 2], x2=[3, 4], y=[5, 6])"
   ]
  },
  {
   "cell_type": "code",
   "execution_count": 34,
   "metadata": {},
   "outputs": [
    {
     "data": {
      "text/html": [
       "<div class=\"data-frame\"><p>2 rows × 2 columns</p><table class=\"data-frame\"><thead><tr><th></th><th>lo</th><th>hi</th></tr><tr><th></th><th title=\"Int64\">Int64</th><th title=\"Int64\">Int64</th></tr></thead><tbody><tr><th>1</th><td>1</td><td>5</td></tr><tr><th>2</th><td>2</td><td>6</td></tr></tbody></table></div>"
      ],
      "text/latex": [
       "\\begin{tabular}{r|cc}\n",
       "\t& lo & hi\\\\\n",
       "\t\\hline\n",
       "\t& Int64 & Int64\\\\\n",
       "\t\\hline\n",
       "\t1 & 1 & 5 \\\\\n",
       "\t2 & 2 & 6 \\\\\n",
       "\\end{tabular}\n"
      ],
      "text/plain": [
       "\u001b[1m2×2 DataFrame\u001b[0m\n",
       "\u001b[1m Row \u001b[0m│\u001b[1m lo    \u001b[0m\u001b[1m hi    \u001b[0m\n",
       "\u001b[1m     \u001b[0m│\u001b[90m Int64 \u001b[0m\u001b[90m Int64 \u001b[0m\n",
       "─────┼──────────────\n",
       "   1 │     1      5\n",
       "   2 │     2      6"
      ]
     },
     "execution_count": 34,
     "metadata": {},
     "output_type": "execute_result"
    }
   ],
   "source": [
    "select(df, AsTable(:) => ByRow(extrema) => [:lo, :hi])"
   ]
  },
  {
   "cell_type": "code",
   "execution_count": 42,
   "metadata": {},
   "outputs": [
    {
     "data": {
      "text/html": [
       "<div class=\"data-frame\"><p>2 rows × 3 columns</p><table class=\"data-frame\"><thead><tr><th></th><th>a</th><th>b</th><th>c</th></tr><tr><th></th><th title=\"Int64\">Int64</th><th title=\"Int64\">Int64</th><th title=\"Int64\">Int64</th></tr></thead><tbody><tr><th>1</th><td>1</td><td>9</td><td>25</td></tr><tr><th>2</th><td>4</td><td>16</td><td>36</td></tr></tbody></table></div>"
      ],
      "text/latex": [
       "\\begin{tabular}{r|ccc}\n",
       "\t& a & b & c\\\\\n",
       "\t\\hline\n",
       "\t& Int64 & Int64 & Int64\\\\\n",
       "\t\\hline\n",
       "\t1 & 1 & 9 & 25 \\\\\n",
       "\t2 & 4 & 16 & 36 \\\\\n",
       "\\end{tabular}\n"
      ],
      "text/plain": [
       "\u001b[1m2×3 DataFrame\u001b[0m\n",
       "\u001b[1m Row \u001b[0m│\u001b[1m a     \u001b[0m\u001b[1m b     \u001b[0m\u001b[1m c     \u001b[0m\n",
       "\u001b[1m     \u001b[0m│\u001b[90m Int64 \u001b[0m\u001b[90m Int64 \u001b[0m\u001b[90m Int64 \u001b[0m\n",
       "─────┼─────────────────────\n",
       "   1 │     1      9     25\n",
       "   2 │     4     16     36"
      ]
     },
     "execution_count": 42,
     "metadata": {},
     "output_type": "execute_result"
    }
   ],
   "source": [
    "select(df, names(df) .=> (x -> x.^2) .=> [:a, :b, :c])"
   ]
  },
  {
   "cell_type": "code",
   "execution_count": 63,
   "metadata": {},
   "outputs": [
    {
     "data": {
      "text/html": [
       "<div class=\"data-frame\"><p>2 rows × 5 columns</p><table class=\"data-frame\"><thead><tr><th></th><th>x1</th><th>x2</th><th>y</th><th>a</th><th>b</th></tr><tr><th></th><th title=\"Int64\">Int64</th><th title=\"Int64\">Int64</th><th title=\"Int64\">Int64</th><th title=\"Int64\">Int64</th><th title=\"Int64\">Int64</th></tr></thead><tbody><tr><th>1</th><td>1</td><td>3</td><td>5</td><td>9</td><td>9</td></tr><tr><th>2</th><td>2</td><td>4</td><td>6</td><td>12</td><td>12</td></tr></tbody></table></div>"
      ],
      "text/latex": [
       "\\begin{tabular}{r|ccccc}\n",
       "\t& x1 & x2 & y & a & b\\\\\n",
       "\t\\hline\n",
       "\t& Int64 & Int64 & Int64 & Int64 & Int64\\\\\n",
       "\t\\hline\n",
       "\t1 & 1 & 3 & 5 & 9 & 9 \\\\\n",
       "\t2 & 2 & 4 & 6 & 12 & 12 \\\\\n",
       "\\end{tabular}\n"
      ],
      "text/plain": [
       "\u001b[1m2×5 DataFrame\u001b[0m\n",
       "\u001b[1m Row \u001b[0m│\u001b[1m x1    \u001b[0m\u001b[1m x2    \u001b[0m\u001b[1m y     \u001b[0m\u001b[1m a     \u001b[0m\u001b[1m b     \u001b[0m\n",
       "\u001b[1m     \u001b[0m│\u001b[90m Int64 \u001b[0m\u001b[90m Int64 \u001b[0m\u001b[90m Int64 \u001b[0m\u001b[90m Int64 \u001b[0m\u001b[90m Int64 \u001b[0m\n",
       "─────┼───────────────────────────────────\n",
       "   1 │     1      3      5      9      9\n",
       "   2 │     2      4      6     12     12"
      ]
     },
     "execution_count": 63,
     "metadata": {},
     "output_type": "execute_result"
    }
   ],
   "source": [
    "transform(df, AsTable(:) .=> ByRow.([sum, x -> sum(x)]) .=> [:a, :b])"
   ]
  },
  {
   "cell_type": "code",
   "execution_count": 64,
   "metadata": {},
   "outputs": [
    {
     "data": {
      "text/plain": [
       "3-element Vector{Int64}:\n",
       " 1\n",
       " 2\n",
       " 3"
      ]
     },
     "execution_count": 64,
     "metadata": {},
     "output_type": "execute_result"
    }
   ],
   "source": [
    "a = [1, 2, 3]"
   ]
  },
  {
   "cell_type": "code",
   "execution_count": 65,
   "metadata": {},
   "outputs": [
    {
     "data": {
      "text/plain": [
       "1"
      ]
     },
     "execution_count": 65,
     "metadata": {},
     "output_type": "execute_result"
    }
   ],
   "source": [
    "b = 1"
   ]
  },
  {
   "cell_type": "code",
   "execution_count": 68,
   "metadata": {},
   "outputs": [
    {
     "data": {
      "text/plain": [
       "3-element Vector{Int64}:\n",
       " 2\n",
       " 3\n",
       " 4"
      ]
     },
     "execution_count": 68,
     "metadata": {},
     "output_type": "execute_result"
    }
   ],
   "source": [
    "b .+ a"
   ]
  },
  {
   "cell_type": "code",
   "execution_count": 69,
   "metadata": {},
   "outputs": [
    {
     "data": {
      "text/plain": [
       "3-element Vector{Int64}:\n",
       " 5\n",
       " 6\n",
       " 7"
      ]
     },
     "execution_count": 69,
     "metadata": {},
     "output_type": "execute_result"
    }
   ],
   "source": [
    "c = [5,6,7]"
   ]
  },
  {
   "cell_type": "code",
   "execution_count": 72,
   "metadata": {},
   "outputs": [
    {
     "data": {
      "text/plain": [
       "3×3 Matrix{Float64}:\n",
       " 0.0  0.0  0.0\n",
       " 0.0  0.0  0.0\n",
       " 0.0  0.0  0.0"
      ]
     },
     "execution_count": 72,
     "metadata": {},
     "output_type": "execute_result"
    }
   ],
   "source": [
    "d = zeros(3,3)"
   ]
  },
  {
   "cell_type": "code",
   "execution_count": 75,
   "metadata": {},
   "outputs": [
    {
     "data": {
      "text/plain": [
       "3×3 Matrix{Float64}:\n",
       " 5.0  5.0  5.0\n",
       " 6.0  6.0  6.0\n",
       " 7.0  7.0  7.0"
      ]
     },
     "execution_count": 75,
     "metadata": {},
     "output_type": "execute_result"
    }
   ],
   "source": [
    "e = c .+ d"
   ]
  },
  {
   "cell_type": "code",
   "execution_count": 84,
   "metadata": {},
   "outputs": [
    {
     "data": {
      "text/plain": [
       "3×3 Matrix{Float64}:\n",
       " 2.23607  2.23607  2.23607\n",
       " 2.44949  2.44949  2.44949\n",
       " 2.64575  2.64575  2.64575"
      ]
     },
     "execution_count": 84,
     "metadata": {},
     "output_type": "execute_result"
    }
   ],
   "source": [
    "byrow"
   ]
  }
 ],
 "metadata": {
  "kernelspec": {
   "display_name": "Julia 1.6.3",
   "language": "julia",
   "name": "julia-1.6"
  },
  "language_info": {
   "file_extension": ".jl",
   "mimetype": "application/julia",
   "name": "julia",
   "version": "1.6.3"
  }
 },
 "nbformat": 4,
 "nbformat_minor": 2
}
