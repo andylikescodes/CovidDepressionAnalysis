{
 "cells": [
  {
   "cell_type": "code",
   "execution_count": 8,
   "metadata": {},
   "outputs": [
    {
     "name": "stderr",
     "output_type": "stream",
     "text": [
      "/mnt/deliang-data/.conda/lib/python3.8/site-packages/tqdm/auto.py:21: TqdmWarning: IProgress not found. Please update jupyter and ipywidgets. See https://ipywidgets.readthedocs.io/en/stable/user_install.html\n",
      "  from .autonotebook import tqdm as notebook_tqdm\n"
     ]
    }
   ],
   "source": [
    "import sys\n",
    "sys.path.insert(0, '/mnt/deliang-data/projects/CovidDepressionAnalysis/scripts/data_processing')\n",
    "\n",
    "import pandas as pd\n",
    "import numpy as np\n",
    "import matplotlib.pyplot as plt\n",
    "from mpl_toolkits import mplot3d\n",
    "from mpl_toolkits.mplot3d import Axes3D\n",
    "\n",
    "import pickle as pkl\n",
    "\n",
    "from scipy import stats\n",
    "from sklearn.decomposition import PCA\n",
    "import seaborn as sns\n",
    "from constants import *\n",
    "\n",
    "\n",
    "from sklearn.metrics import roc_curve, auc\n",
    "from sklearn.ensemble import RandomForestClassifier\n",
    "from sklearn.model_selection import GridSearchCV, train_test_split\n",
    "from imputation_data_structure import *\n",
    "\n",
    "\n",
    "import shap\n",
    "import xgboost\n",
    "from xgboost import cv\n",
    "\n",
    "%load_ext autoreload\n",
    "%autoreload 2\n",
    "\n"
   ]
  },
  {
   "cell_type": "code",
   "execution_count": 73,
   "metadata": {},
   "outputs": [
    {
     "ename": "KeyboardInterrupt",
     "evalue": "",
     "output_type": "error",
     "traceback": [
      "\u001b[0;31m---------------------------------------------------------------------------\u001b[0m",
      "\u001b[0;31mKeyboardInterrupt\u001b[0m                         Traceback (most recent call last)",
      "Cell \u001b[0;32mIn[73], line 1\u001b[0m\n\u001b[0;32m----> 1\u001b[0m external_data \u001b[39m=\u001b[39m pd\u001b[39m.\u001b[39;49mread_csv(\u001b[39m'\u001b[39;49m\u001b[39m../data/css_panel_2020-2022.tab\u001b[39;49m\u001b[39m'\u001b[39;49m, sep\u001b[39m=\u001b[39;49m\u001b[39m'\u001b[39;49m\u001b[39m\\t\u001b[39;49;00m\u001b[39m'\u001b[39;49m)\n",
      "File \u001b[0;32m/mnt/deliang-data/.conda/lib/python3.8/site-packages/pandas/util/_decorators.py:211\u001b[0m, in \u001b[0;36mdeprecate_kwarg.<locals>._deprecate_kwarg.<locals>.wrapper\u001b[0;34m(*args, **kwargs)\u001b[0m\n\u001b[1;32m    209\u001b[0m     \u001b[39melse\u001b[39;00m:\n\u001b[1;32m    210\u001b[0m         kwargs[new_arg_name] \u001b[39m=\u001b[39m new_arg_value\n\u001b[0;32m--> 211\u001b[0m \u001b[39mreturn\u001b[39;00m func(\u001b[39m*\u001b[39;49margs, \u001b[39m*\u001b[39;49m\u001b[39m*\u001b[39;49mkwargs)\n",
      "File \u001b[0;32m/mnt/deliang-data/.conda/lib/python3.8/site-packages/pandas/util/_decorators.py:331\u001b[0m, in \u001b[0;36mdeprecate_nonkeyword_arguments.<locals>.decorate.<locals>.wrapper\u001b[0;34m(*args, **kwargs)\u001b[0m\n\u001b[1;32m    325\u001b[0m \u001b[39mif\u001b[39;00m \u001b[39mlen\u001b[39m(args) \u001b[39m>\u001b[39m num_allow_args:\n\u001b[1;32m    326\u001b[0m     warnings\u001b[39m.\u001b[39mwarn(\n\u001b[1;32m    327\u001b[0m         msg\u001b[39m.\u001b[39mformat(arguments\u001b[39m=\u001b[39m_format_argument_list(allow_args)),\n\u001b[1;32m    328\u001b[0m         \u001b[39mFutureWarning\u001b[39;00m,\n\u001b[1;32m    329\u001b[0m         stacklevel\u001b[39m=\u001b[39mfind_stack_level(),\n\u001b[1;32m    330\u001b[0m     )\n\u001b[0;32m--> 331\u001b[0m \u001b[39mreturn\u001b[39;00m func(\u001b[39m*\u001b[39;49margs, \u001b[39m*\u001b[39;49m\u001b[39m*\u001b[39;49mkwargs)\n",
      "File \u001b[0;32m/mnt/deliang-data/.conda/lib/python3.8/site-packages/pandas/io/parsers/readers.py:950\u001b[0m, in \u001b[0;36mread_csv\u001b[0;34m(filepath_or_buffer, sep, delimiter, header, names, index_col, usecols, squeeze, prefix, mangle_dupe_cols, dtype, engine, converters, true_values, false_values, skipinitialspace, skiprows, skipfooter, nrows, na_values, keep_default_na, na_filter, verbose, skip_blank_lines, parse_dates, infer_datetime_format, keep_date_col, date_parser, dayfirst, cache_dates, iterator, chunksize, compression, thousands, decimal, lineterminator, quotechar, quoting, doublequote, escapechar, comment, encoding, encoding_errors, dialect, error_bad_lines, warn_bad_lines, on_bad_lines, delim_whitespace, low_memory, memory_map, float_precision, storage_options)\u001b[0m\n\u001b[1;32m    935\u001b[0m kwds_defaults \u001b[39m=\u001b[39m _refine_defaults_read(\n\u001b[1;32m    936\u001b[0m     dialect,\n\u001b[1;32m    937\u001b[0m     delimiter,\n\u001b[0;32m   (...)\u001b[0m\n\u001b[1;32m    946\u001b[0m     defaults\u001b[39m=\u001b[39m{\u001b[39m\"\u001b[39m\u001b[39mdelimiter\u001b[39m\u001b[39m\"\u001b[39m: \u001b[39m\"\u001b[39m\u001b[39m,\u001b[39m\u001b[39m\"\u001b[39m},\n\u001b[1;32m    947\u001b[0m )\n\u001b[1;32m    948\u001b[0m kwds\u001b[39m.\u001b[39mupdate(kwds_defaults)\n\u001b[0;32m--> 950\u001b[0m \u001b[39mreturn\u001b[39;00m _read(filepath_or_buffer, kwds)\n",
      "File \u001b[0;32m/mnt/deliang-data/.conda/lib/python3.8/site-packages/pandas/io/parsers/readers.py:611\u001b[0m, in \u001b[0;36m_read\u001b[0;34m(filepath_or_buffer, kwds)\u001b[0m\n\u001b[1;32m    608\u001b[0m     \u001b[39mreturn\u001b[39;00m parser\n\u001b[1;32m    610\u001b[0m \u001b[39mwith\u001b[39;00m parser:\n\u001b[0;32m--> 611\u001b[0m     \u001b[39mreturn\u001b[39;00m parser\u001b[39m.\u001b[39;49mread(nrows)\n",
      "File \u001b[0;32m/mnt/deliang-data/.conda/lib/python3.8/site-packages/pandas/io/parsers/readers.py:1778\u001b[0m, in \u001b[0;36mTextFileReader.read\u001b[0;34m(self, nrows)\u001b[0m\n\u001b[1;32m   1771\u001b[0m nrows \u001b[39m=\u001b[39m validate_integer(\u001b[39m\"\u001b[39m\u001b[39mnrows\u001b[39m\u001b[39m\"\u001b[39m, nrows)\n\u001b[1;32m   1772\u001b[0m \u001b[39mtry\u001b[39;00m:\n\u001b[1;32m   1773\u001b[0m     \u001b[39m# error: \"ParserBase\" has no attribute \"read\"\u001b[39;00m\n\u001b[1;32m   1774\u001b[0m     (\n\u001b[1;32m   1775\u001b[0m         index,\n\u001b[1;32m   1776\u001b[0m         columns,\n\u001b[1;32m   1777\u001b[0m         col_dict,\n\u001b[0;32m-> 1778\u001b[0m     ) \u001b[39m=\u001b[39m \u001b[39mself\u001b[39;49m\u001b[39m.\u001b[39;49m_engine\u001b[39m.\u001b[39;49mread(  \u001b[39m# type: ignore[attr-defined]\u001b[39;49;00m\n\u001b[1;32m   1779\u001b[0m         nrows\n\u001b[1;32m   1780\u001b[0m     )\n\u001b[1;32m   1781\u001b[0m \u001b[39mexcept\u001b[39;00m \u001b[39mException\u001b[39;00m:\n\u001b[1;32m   1782\u001b[0m     \u001b[39mself\u001b[39m\u001b[39m.\u001b[39mclose()\n",
      "File \u001b[0;32m/mnt/deliang-data/.conda/lib/python3.8/site-packages/pandas/io/parsers/c_parser_wrapper.py:230\u001b[0m, in \u001b[0;36mCParserWrapper.read\u001b[0;34m(self, nrows)\u001b[0m\n\u001b[1;32m    228\u001b[0m \u001b[39mtry\u001b[39;00m:\n\u001b[1;32m    229\u001b[0m     \u001b[39mif\u001b[39;00m \u001b[39mself\u001b[39m\u001b[39m.\u001b[39mlow_memory:\n\u001b[0;32m--> 230\u001b[0m         chunks \u001b[39m=\u001b[39m \u001b[39mself\u001b[39;49m\u001b[39m.\u001b[39;49m_reader\u001b[39m.\u001b[39;49mread_low_memory(nrows)\n\u001b[1;32m    231\u001b[0m         \u001b[39m# destructive to chunks\u001b[39;00m\n\u001b[1;32m    232\u001b[0m         data \u001b[39m=\u001b[39m _concatenate_chunks(chunks)\n",
      "File \u001b[0;32m/mnt/deliang-data/.conda/lib/python3.8/site-packages/pandas/_libs/parsers.pyx:808\u001b[0m, in \u001b[0;36mpandas._libs.parsers.TextReader.read_low_memory\u001b[0;34m()\u001b[0m\n",
      "File \u001b[0;32m/mnt/deliang-data/.conda/lib/python3.8/site-packages/pandas/_libs/parsers.pyx:890\u001b[0m, in \u001b[0;36mpandas._libs.parsers.TextReader._read_rows\u001b[0;34m()\u001b[0m\n",
      "File \u001b[0;32m/mnt/deliang-data/.conda/lib/python3.8/site-packages/pandas/_libs/parsers.pyx:1037\u001b[0m, in \u001b[0;36mpandas._libs.parsers.TextReader._convert_column_data\u001b[0;34m()\u001b[0m\n",
      "File \u001b[0;32m/mnt/deliang-data/.conda/lib/python3.8/site-packages/pandas/_libs/parsers.pyx:1083\u001b[0m, in \u001b[0;36mpandas._libs.parsers.TextReader._convert_tokens\u001b[0;34m()\u001b[0m\n",
      "File \u001b[0;32m/mnt/deliang-data/.conda/lib/python3.8/site-packages/pandas/_libs/parsers.pyx:1158\u001b[0m, in \u001b[0;36mpandas._libs.parsers.TextReader._convert_with_dtype\u001b[0;34m()\u001b[0m\n",
      "File \u001b[0;32m/mnt/deliang-data/.conda/lib/python3.8/site-packages/pandas/core/dtypes/common.py:1433\u001b[0m, in \u001b[0;36mis_extension_array_dtype\u001b[0;34m(arr_or_dtype)\u001b[0m\n\u001b[1;32m   1424\u001b[0m     \u001b[39m# Note: if other EA dtypes are ever held in HybridBlock, exclude those\u001b[39;00m\n\u001b[1;32m   1425\u001b[0m     \u001b[39m#  here too.\u001b[39;00m\n\u001b[1;32m   1426\u001b[0m     \u001b[39m# NB: need to check DatetimeTZDtype and not is_datetime64tz_dtype\u001b[39;00m\n\u001b[1;32m   1427\u001b[0m     \u001b[39m#  to exclude ArrowTimestampUSDtype\u001b[39;00m\n\u001b[1;32m   1428\u001b[0m     \u001b[39mreturn\u001b[39;00m \u001b[39misinstance\u001b[39m(dtype, ExtensionDtype) \u001b[39mand\u001b[39;00m \u001b[39mnot\u001b[39;00m \u001b[39misinstance\u001b[39m(\n\u001b[1;32m   1429\u001b[0m         dtype, (DatetimeTZDtype, PeriodDtype)\n\u001b[1;32m   1430\u001b[0m     )\n\u001b[0;32m-> 1433\u001b[0m \u001b[39mdef\u001b[39;00m \u001b[39mis_extension_array_dtype\u001b[39m(arr_or_dtype) \u001b[39m-\u001b[39m\u001b[39m>\u001b[39m \u001b[39mbool\u001b[39m:\n\u001b[1;32m   1434\u001b[0m \u001b[39m    \u001b[39m\u001b[39m\"\"\"\u001b[39;00m\n\u001b[1;32m   1435\u001b[0m \u001b[39m    Check if an object is a pandas extension array type.\u001b[39;00m\n\u001b[1;32m   1436\u001b[0m \n\u001b[0;32m   (...)\u001b[0m\n\u001b[1;32m   1476\u001b[0m \u001b[39m    False\u001b[39;00m\n\u001b[1;32m   1477\u001b[0m \u001b[39m    \"\"\"\u001b[39;00m\n\u001b[1;32m   1478\u001b[0m     dtype \u001b[39m=\u001b[39m \u001b[39mgetattr\u001b[39m(arr_or_dtype, \u001b[39m\"\u001b[39m\u001b[39mdtype\u001b[39m\u001b[39m\"\u001b[39m, arr_or_dtype)\n",
      "\u001b[0;31mKeyboardInterrupt\u001b[0m: "
     ]
    }
   ],
   "source": [
    "external_data = pd.read_csv('../data/css_panel_2020-2022.tab', sep='\\t')"
   ]
  },
  {
   "cell_type": "code",
   "execution_count": 74,
   "metadata": {},
   "outputs": [],
   "source": [
    "external_baseline = pd.read_csv('../data/css_baseline_demo.tab', sep='\\t')\n",
    "cvd_cases = pd.read_csv('../data/biweekly-covid-cases-per-million-people.csv')\n",
    "cvd_deaths =pd.read_csv('../data/biweekly-covid-deaths-per-million-people.csv')"
   ]
  },
  {
   "cell_type": "code",
   "execution_count": 40,
   "metadata": {},
   "outputs": [],
   "source": [
    "UK_cases = cvd_cases.loc[cvd_cases['Entity']=='United Kingdom'].rename({'Biweekly cases per million people': 'cases_per_1m'}, axis=1)\n",
    "UK_deaths = cvd_deaths.loc[cvd_deaths['Entity']=='United Kingdom'].rename({'Biweekly deaths per million people': 'deaths_per_1m'}, axis=1)"
   ]
  },
  {
   "cell_type": "code",
   "execution_count": 41,
   "metadata": {},
   "outputs": [],
   "source": [
    "UK_deaths['pd_datetime'] = pd.to_datetime(UK_deaths['Day'])\n",
    "UK_cases['pd_datetime'] = pd.to_datetime(UK_cases['Day'])"
   ]
  },
  {
   "cell_type": "code",
   "execution_count": 42,
   "metadata": {},
   "outputs": [],
   "source": [
    "external_data['pd_datetime'] = pd.to_datetime(external_data['date'], errors='coerce')"
   ]
  },
  {
   "cell_type": "code",
   "execution_count": 43,
   "metadata": {},
   "outputs": [],
   "source": [
    "baseline = pd.to_datetime('3/27/2020')\n",
    "start = pd.to_datetime('4/10/2020')\n",
    "end = pd.to_datetime('10/10/2020')"
   ]
  },
  {
   "cell_type": "code",
   "execution_count": 76,
   "metadata": {},
   "outputs": [
    {
     "data": {
      "text/html": [
       "<div>\n",
       "<style scoped>\n",
       "    .dataframe tbody tr th:only-of-type {\n",
       "        vertical-align: middle;\n",
       "    }\n",
       "\n",
       "    .dataframe tbody tr th {\n",
       "        vertical-align: top;\n",
       "    }\n",
       "\n",
       "    .dataframe thead th {\n",
       "        text-align: right;\n",
       "    }\n",
       "</style>\n",
       "<table border=\"1\" class=\"dataframe\">\n",
       "  <thead>\n",
       "    <tr style=\"text-align: right;\">\n",
       "      <th></th>\n",
       "      <th>pers1</th>\n",
       "      <th>pers2</th>\n",
       "      <th>pers3</th>\n",
       "    </tr>\n",
       "  </thead>\n",
       "  <tbody>\n",
       "    <tr>\n",
       "      <th>0</th>\n",
       "      <td>2</td>\n",
       "      <td>1</td>\n",
       "      <td>7</td>\n",
       "    </tr>\n",
       "    <tr>\n",
       "      <th>1</th>\n",
       "      <td>5</td>\n",
       "      <td>2</td>\n",
       "      <td>4</td>\n",
       "    </tr>\n",
       "    <tr>\n",
       "      <th>2</th>\n",
       "      <td>7</td>\n",
       "      <td>7</td>\n",
       "      <td>1</td>\n",
       "    </tr>\n",
       "    <tr>\n",
       "      <th>3</th>\n",
       "      <td>1</td>\n",
       "      <td>1</td>\n",
       "      <td>5</td>\n",
       "    </tr>\n",
       "    <tr>\n",
       "      <th>4</th>\n",
       "      <td>1</td>\n",
       "      <td>1</td>\n",
       "      <td>1</td>\n",
       "    </tr>\n",
       "    <tr>\n",
       "      <th>...</th>\n",
       "      <td>...</td>\n",
       "      <td>...</td>\n",
       "      <td>...</td>\n",
       "    </tr>\n",
       "    <tr>\n",
       "      <th>73217</th>\n",
       "      <td>7</td>\n",
       "      <td>6</td>\n",
       "      <td>3</td>\n",
       "    </tr>\n",
       "    <tr>\n",
       "      <th>73218</th>\n",
       "      <td>5</td>\n",
       "      <td>5</td>\n",
       "      <td>7</td>\n",
       "    </tr>\n",
       "    <tr>\n",
       "      <th>73219</th>\n",
       "      <td>7</td>\n",
       "      <td>6</td>\n",
       "      <td>3</td>\n",
       "    </tr>\n",
       "    <tr>\n",
       "      <th>73220</th>\n",
       "      <td>4</td>\n",
       "      <td>5</td>\n",
       "      <td>5</td>\n",
       "    </tr>\n",
       "    <tr>\n",
       "      <th>73221</th>\n",
       "      <td>6</td>\n",
       "      <td>6</td>\n",
       "      <td>7</td>\n",
       "    </tr>\n",
       "  </tbody>\n",
       "</table>\n",
       "<p>73222 rows × 3 columns</p>\n",
       "</div>"
      ],
      "text/plain": [
       "       pers1  pers2  pers3\n",
       "0          2      1      7\n",
       "1          5      2      4\n",
       "2          7      7      1\n",
       "3          1      1      5\n",
       "4          1      1      1\n",
       "...      ...    ...    ...\n",
       "73217      7      6      3\n",
       "73218      5      5      7\n",
       "73219      7      6      3\n",
       "73220      4      5      5\n",
       "73221      6      6      7\n",
       "\n",
       "[73222 rows x 3 columns]"
      ]
     },
     "execution_count": 76,
     "metadata": {},
     "output_type": "execute_result"
    }
   ],
   "source": [
    "external_baseline.loc[:, ['pers1', 'pers2', 'pers3']]"
   ]
  },
  {
   "cell_type": "code",
   "execution_count": 79,
   "metadata": {},
   "outputs": [
    {
     "data": {
      "text/html": [
       "<div>\n",
       "<style scoped>\n",
       "    .dataframe tbody tr th:only-of-type {\n",
       "        vertical-align: middle;\n",
       "    }\n",
       "\n",
       "    .dataframe tbody tr th {\n",
       "        vertical-align: top;\n",
       "    }\n",
       "\n",
       "    .dataframe thead th {\n",
       "        text-align: right;\n",
       "    }\n",
       "</style>\n",
       "<table border=\"1\" class=\"dataframe\">\n",
       "  <thead>\n",
       "    <tr style=\"text-align: right;\">\n",
       "      <th></th>\n",
       "      <th>pers1</th>\n",
       "      <th>pers2</th>\n",
       "      <th>pers3</th>\n",
       "    </tr>\n",
       "  </thead>\n",
       "  <tbody>\n",
       "    <tr>\n",
       "      <th>0</th>\n",
       "      <td>2</td>\n",
       "      <td>1</td>\n",
       "      <td>1</td>\n",
       "    </tr>\n",
       "    <tr>\n",
       "      <th>1</th>\n",
       "      <td>5</td>\n",
       "      <td>2</td>\n",
       "      <td>4</td>\n",
       "    </tr>\n",
       "    <tr>\n",
       "      <th>2</th>\n",
       "      <td>7</td>\n",
       "      <td>7</td>\n",
       "      <td>7</td>\n",
       "    </tr>\n",
       "    <tr>\n",
       "      <th>3</th>\n",
       "      <td>1</td>\n",
       "      <td>1</td>\n",
       "      <td>3</td>\n",
       "    </tr>\n",
       "    <tr>\n",
       "      <th>4</th>\n",
       "      <td>1</td>\n",
       "      <td>1</td>\n",
       "      <td>7</td>\n",
       "    </tr>\n",
       "    <tr>\n",
       "      <th>...</th>\n",
       "      <td>...</td>\n",
       "      <td>...</td>\n",
       "      <td>...</td>\n",
       "    </tr>\n",
       "    <tr>\n",
       "      <th>73217</th>\n",
       "      <td>7</td>\n",
       "      <td>6</td>\n",
       "      <td>5</td>\n",
       "    </tr>\n",
       "    <tr>\n",
       "      <th>73218</th>\n",
       "      <td>5</td>\n",
       "      <td>5</td>\n",
       "      <td>1</td>\n",
       "    </tr>\n",
       "    <tr>\n",
       "      <th>73219</th>\n",
       "      <td>7</td>\n",
       "      <td>6</td>\n",
       "      <td>5</td>\n",
       "    </tr>\n",
       "    <tr>\n",
       "      <th>73220</th>\n",
       "      <td>4</td>\n",
       "      <td>5</td>\n",
       "      <td>3</td>\n",
       "    </tr>\n",
       "    <tr>\n",
       "      <th>73221</th>\n",
       "      <td>6</td>\n",
       "      <td>6</td>\n",
       "      <td>1</td>\n",
       "    </tr>\n",
       "  </tbody>\n",
       "</table>\n",
       "<p>73222 rows × 3 columns</p>\n",
       "</div>"
      ],
      "text/plain": [
       "       pers1  pers2  pers3\n",
       "0          2      1      1\n",
       "1          5      2      4\n",
       "2          7      7      7\n",
       "3          1      1      3\n",
       "4          1      1      7\n",
       "...      ...    ...    ...\n",
       "73217      7      6      5\n",
       "73218      5      5      1\n",
       "73219      7      6      5\n",
       "73220      4      5      3\n",
       "73221      6      6      1\n",
       "\n",
       "[73222 rows x 3 columns]"
      ]
     },
     "execution_count": 79,
     "metadata": {},
     "output_type": "execute_result"
    }
   ],
   "source": [
    "external_baseline.loc[:, ['pers1', 'pers2', 'pers3']]"
   ]
  },
  {
   "cell_type": "code",
   "execution_count": 77,
   "metadata": {},
   "outputs": [],
   "source": [
    "flip = {'pers1': 0,\n",
    "        'pers2': 0,\n",
    "        'pers3': 1,\n",
    "        'pers4': 0,\n",
    "        'pers5': 0,\n",
    "        'pers6': 1,\n",
    "        'pers7': 0,\n",
    "        'pers8': 0,\n",
    "        'pers9': 0,\n",
    "        'pers10': 1,\n",
    "        'pers11': 0,\n",
    "        'pers12': 0,\n",
    "        'pers13': 0,\n",
    "        'pers14': 1,\n",
    "        'pers15': 0}\n",
    "\n",
    "keys = flip.keys()"
   ]
  },
  {
   "cell_type": "code",
   "execution_count": 78,
   "metadata": {},
   "outputs": [],
   "source": [
    "for key in keys:\n",
    "    if flip[key] == 1:\n",
    "        external_baseline[key] = 8 - external_baseline[key]"
   ]
  },
  {
   "cell_type": "code",
   "execution_count": 68,
   "metadata": {},
   "outputs": [],
   "source": [
    "external_baseline['Neuroticism'] = external_baseline.loc[:, UCL_personality['Neuroticism']].sum(axis=1)\n",
    "external_baseline['Extraversion'] = external_baseline.loc[:, UCL_personality['Extraversion']].sum(axis=1)\n",
    "external_baseline['Openness'] = external_baseline.loc[:, UCL_personality['Openness']].sum(axis=1)\n",
    "external_baseline['Agreeableness'] = external_baseline.loc[:, UCL_personality['Agreeableness']].sum(axis=1)\n",
    "external_baseline['Conscientiousness'] = external_baseline.loc[:, UCL_personality['Conscientiousness']].sum(axis=1)"
   ]
  },
  {
   "cell_type": "code",
   "execution_count": 23,
   "metadata": {},
   "outputs": [],
   "source": [
    "subset = external_data.loc[(external_data['pd_datetime']<end),:].copy()"
   ]
  },
  {
   "cell_type": "code",
   "execution_count": 24,
   "metadata": {},
   "outputs": [],
   "source": [
    "first_lockdown_time = [pd.to_datetime('3/23/2020'), pd.to_datetime('5/10/2020')]\n",
    "second_lockdown_time = [pd.to_datetime('9/14/2020'), pd.to_datetime('11/24/2020')]"
   ]
  },
  {
   "cell_type": "code",
   "execution_count": 25,
   "metadata": {},
   "outputs": [],
   "source": [
    "subset.loc[:, 'lockdown'] = ((subset['pd_datetime'] > first_lockdown_time[0]) & (subset['pd_datetime'] < first_lockdown_time[1])) | ((subset['pd_datetime'] > second_lockdown_time[0]) & (subset['pd_datetime'] < second_lockdown_time[1]))"
   ]
  },
  {
   "cell_type": "code",
   "execution_count": 26,
   "metadata": {},
   "outputs": [],
   "source": [
    "subset['lockdown'] = subset['lockdown'].astype(int)"
   ]
  },
  {
   "cell_type": "code",
   "execution_count": 27,
   "metadata": {},
   "outputs": [
    {
     "data": {
      "text/html": [
       "<div>\n",
       "<style scoped>\n",
       "    .dataframe tbody tr th:only-of-type {\n",
       "        vertical-align: middle;\n",
       "    }\n",
       "\n",
       "    .dataframe tbody tr th {\n",
       "        vertical-align: top;\n",
       "    }\n",
       "\n",
       "    .dataframe thead th {\n",
       "        text-align: right;\n",
       "    }\n",
       "</style>\n",
       "<table border=\"1\" class=\"dataframe\">\n",
       "  <thead>\n",
       "    <tr style=\"text-align: right;\">\n",
       "      <th></th>\n",
       "      <th>week</th>\n",
       "      <th>lockdown</th>\n",
       "      <th>pd_datetime</th>\n",
       "    </tr>\n",
       "  </thead>\n",
       "  <tbody>\n",
       "    <tr>\n",
       "      <th>0</th>\n",
       "      <td>1</td>\n",
       "      <td>1</td>\n",
       "      <td>2020-03-25</td>\n",
       "    </tr>\n",
       "    <tr>\n",
       "      <th>1</th>\n",
       "      <td>2</td>\n",
       "      <td>1</td>\n",
       "      <td>2020-04-01</td>\n",
       "    </tr>\n",
       "    <tr>\n",
       "      <th>2</th>\n",
       "      <td>3</td>\n",
       "      <td>1</td>\n",
       "      <td>2020-04-08</td>\n",
       "    </tr>\n",
       "    <tr>\n",
       "      <th>3</th>\n",
       "      <td>4</td>\n",
       "      <td>1</td>\n",
       "      <td>2020-04-16</td>\n",
       "    </tr>\n",
       "    <tr>\n",
       "      <th>4</th>\n",
       "      <td>5</td>\n",
       "      <td>1</td>\n",
       "      <td>2020-04-24</td>\n",
       "    </tr>\n",
       "    <tr>\n",
       "      <th>...</th>\n",
       "      <td>...</td>\n",
       "      <td>...</td>\n",
       "      <td>...</td>\n",
       "    </tr>\n",
       "    <tr>\n",
       "      <th>1205412</th>\n",
       "      <td>23</td>\n",
       "      <td>0</td>\n",
       "      <td>2020-08-28</td>\n",
       "    </tr>\n",
       "    <tr>\n",
       "      <th>1205419</th>\n",
       "      <td>7</td>\n",
       "      <td>1</td>\n",
       "      <td>2020-05-07</td>\n",
       "    </tr>\n",
       "    <tr>\n",
       "      <th>1205420</th>\n",
       "      <td>8</td>\n",
       "      <td>0</td>\n",
       "      <td>2020-05-15</td>\n",
       "    </tr>\n",
       "    <tr>\n",
       "      <th>1205421</th>\n",
       "      <td>10</td>\n",
       "      <td>0</td>\n",
       "      <td>2020-05-23</td>\n",
       "    </tr>\n",
       "    <tr>\n",
       "      <th>1205422</th>\n",
       "      <td>11</td>\n",
       "      <td>0</td>\n",
       "      <td>2020-06-01</td>\n",
       "    </tr>\n",
       "  </tbody>\n",
       "</table>\n",
       "<p>739587 rows × 3 columns</p>\n",
       "</div>"
      ],
      "text/plain": [
       "        week  lockdown pd_datetime\n",
       "0          1         1  2020-03-25\n",
       "1          2         1  2020-04-01\n",
       "2          3         1  2020-04-08\n",
       "3          4         1  2020-04-16\n",
       "4          5         1  2020-04-24\n",
       "...      ...       ...         ...\n",
       "1205412   23         0  2020-08-28\n",
       "1205419    7         1  2020-05-07\n",
       "1205420    8         0  2020-05-15\n",
       "1205421   10         0  2020-05-23\n",
       "1205422   11         0  2020-06-01\n",
       "\n",
       "[739587 rows x 3 columns]"
      ]
     },
     "execution_count": 27,
     "metadata": {},
     "output_type": "execute_result"
    }
   ],
   "source": [
    "subset[['week', 'lockdown', 'pd_datetime']]"
   ]
  },
  {
   "cell_type": "code",
   "execution_count": 28,
   "metadata": {},
   "outputs": [
    {
     "data": {
      "text/html": [
       "<div>\n",
       "<style scoped>\n",
       "    .dataframe tbody tr th:only-of-type {\n",
       "        vertical-align: middle;\n",
       "    }\n",
       "\n",
       "    .dataframe tbody tr th {\n",
       "        vertical-align: top;\n",
       "    }\n",
       "\n",
       "    .dataframe thead th {\n",
       "        text-align: right;\n",
       "    }\n",
       "</style>\n",
       "<table border=\"1\" class=\"dataframe\">\n",
       "  <thead>\n",
       "    <tr style=\"text-align: right;\">\n",
       "      <th></th>\n",
       "      <th></th>\n",
       "      <th></th>\n",
       "      <th>record_id</th>\n",
       "      <th>wave_name</th>\n",
       "      <th>wave</th>\n",
       "      <th>date</th>\n",
       "      <th>covid</th>\n",
       "      <th>covidcontact</th>\n",
       "      <th>covidw</th>\n",
       "      <th>covidtest</th>\n",
       "      <th>covidwhen</th>\n",
       "      <th>covidwhen_2</th>\n",
       "      <th>...</th>\n",
       "      <th>lifeevent3_2022</th>\n",
       "      <th>lifeevent4_2022</th>\n",
       "      <th>lifeevent5_2022</th>\n",
       "      <th>lifeevent6_2022</th>\n",
       "      <th>lifeevent7_2022</th>\n",
       "      <th>lifeevent8_2022</th>\n",
       "      <th>lifeevent9_2022</th>\n",
       "      <th>lifeevent10_2022</th>\n",
       "      <th>lifeevent11_2022</th>\n",
       "      <th>lifeevent12_2022</th>\n",
       "    </tr>\n",
       "    <tr>\n",
       "      <th>week</th>\n",
       "      <th>lockdown</th>\n",
       "      <th>pd_datetime</th>\n",
       "      <th></th>\n",
       "      <th></th>\n",
       "      <th></th>\n",
       "      <th></th>\n",
       "      <th></th>\n",
       "      <th></th>\n",
       "      <th></th>\n",
       "      <th></th>\n",
       "      <th></th>\n",
       "      <th></th>\n",
       "      <th></th>\n",
       "      <th></th>\n",
       "      <th></th>\n",
       "      <th></th>\n",
       "      <th></th>\n",
       "      <th></th>\n",
       "      <th></th>\n",
       "      <th></th>\n",
       "      <th></th>\n",
       "      <th></th>\n",
       "      <th></th>\n",
       "    </tr>\n",
       "  </thead>\n",
       "  <tbody>\n",
       "    <tr>\n",
       "      <th rowspan=\"5\" valign=\"top\">1</th>\n",
       "      <th rowspan=\"3\" valign=\"top\">0</th>\n",
       "      <th>2020-03-21</th>\n",
       "      <td>4</td>\n",
       "      <td>4</td>\n",
       "      <td>4</td>\n",
       "      <td>4</td>\n",
       "      <td>4</td>\n",
       "      <td>4</td>\n",
       "      <td>4</td>\n",
       "      <td>4</td>\n",
       "      <td>4</td>\n",
       "      <td>4</td>\n",
       "      <td>...</td>\n",
       "      <td>4</td>\n",
       "      <td>4</td>\n",
       "      <td>4</td>\n",
       "      <td>4</td>\n",
       "      <td>4</td>\n",
       "      <td>4</td>\n",
       "      <td>4</td>\n",
       "      <td>4</td>\n",
       "      <td>4</td>\n",
       "      <td>4</td>\n",
       "    </tr>\n",
       "    <tr>\n",
       "      <th>2020-03-22</th>\n",
       "      <td>7</td>\n",
       "      <td>7</td>\n",
       "      <td>7</td>\n",
       "      <td>7</td>\n",
       "      <td>7</td>\n",
       "      <td>7</td>\n",
       "      <td>7</td>\n",
       "      <td>7</td>\n",
       "      <td>7</td>\n",
       "      <td>7</td>\n",
       "      <td>...</td>\n",
       "      <td>7</td>\n",
       "      <td>7</td>\n",
       "      <td>7</td>\n",
       "      <td>7</td>\n",
       "      <td>7</td>\n",
       "      <td>7</td>\n",
       "      <td>7</td>\n",
       "      <td>7</td>\n",
       "      <td>7</td>\n",
       "      <td>7</td>\n",
       "    </tr>\n",
       "    <tr>\n",
       "      <th>2020-03-23</th>\n",
       "      <td>41</td>\n",
       "      <td>41</td>\n",
       "      <td>41</td>\n",
       "      <td>41</td>\n",
       "      <td>41</td>\n",
       "      <td>41</td>\n",
       "      <td>41</td>\n",
       "      <td>41</td>\n",
       "      <td>41</td>\n",
       "      <td>41</td>\n",
       "      <td>...</td>\n",
       "      <td>41</td>\n",
       "      <td>41</td>\n",
       "      <td>41</td>\n",
       "      <td>41</td>\n",
       "      <td>41</td>\n",
       "      <td>41</td>\n",
       "      <td>41</td>\n",
       "      <td>41</td>\n",
       "      <td>41</td>\n",
       "      <td>41</td>\n",
       "    </tr>\n",
       "    <tr>\n",
       "      <th rowspan=\"2\" valign=\"top\">1</th>\n",
       "      <th>2020-03-24</th>\n",
       "      <td>37</td>\n",
       "      <td>37</td>\n",
       "      <td>37</td>\n",
       "      <td>37</td>\n",
       "      <td>37</td>\n",
       "      <td>37</td>\n",
       "      <td>37</td>\n",
       "      <td>37</td>\n",
       "      <td>37</td>\n",
       "      <td>37</td>\n",
       "      <td>...</td>\n",
       "      <td>37</td>\n",
       "      <td>37</td>\n",
       "      <td>37</td>\n",
       "      <td>37</td>\n",
       "      <td>37</td>\n",
       "      <td>37</td>\n",
       "      <td>37</td>\n",
       "      <td>37</td>\n",
       "      <td>37</td>\n",
       "      <td>37</td>\n",
       "    </tr>\n",
       "    <tr>\n",
       "      <th>2020-03-25</th>\n",
       "      <td>24</td>\n",
       "      <td>24</td>\n",
       "      <td>24</td>\n",
       "      <td>24</td>\n",
       "      <td>24</td>\n",
       "      <td>24</td>\n",
       "      <td>24</td>\n",
       "      <td>24</td>\n",
       "      <td>24</td>\n",
       "      <td>24</td>\n",
       "      <td>...</td>\n",
       "      <td>24</td>\n",
       "      <td>24</td>\n",
       "      <td>24</td>\n",
       "      <td>24</td>\n",
       "      <td>24</td>\n",
       "      <td>24</td>\n",
       "      <td>24</td>\n",
       "      <td>24</td>\n",
       "      <td>24</td>\n",
       "      <td>24</td>\n",
       "    </tr>\n",
       "    <tr>\n",
       "      <th>...</th>\n",
       "      <th>...</th>\n",
       "      <th>...</th>\n",
       "      <td>...</td>\n",
       "      <td>...</td>\n",
       "      <td>...</td>\n",
       "      <td>...</td>\n",
       "      <td>...</td>\n",
       "      <td>...</td>\n",
       "      <td>...</td>\n",
       "      <td>...</td>\n",
       "      <td>...</td>\n",
       "      <td>...</td>\n",
       "      <td>...</td>\n",
       "      <td>...</td>\n",
       "      <td>...</td>\n",
       "      <td>...</td>\n",
       "      <td>...</td>\n",
       "      <td>...</td>\n",
       "      <td>...</td>\n",
       "      <td>...</td>\n",
       "      <td>...</td>\n",
       "      <td>...</td>\n",
       "      <td>...</td>\n",
       "    </tr>\n",
       "    <tr>\n",
       "      <th rowspan=\"5\" valign=\"top\">9</th>\n",
       "      <th rowspan=\"5\" valign=\"top\">0</th>\n",
       "      <th>2020-05-18</th>\n",
       "      <td>5243</td>\n",
       "      <td>5243</td>\n",
       "      <td>5243</td>\n",
       "      <td>5243</td>\n",
       "      <td>5243</td>\n",
       "      <td>5243</td>\n",
       "      <td>5243</td>\n",
       "      <td>5243</td>\n",
       "      <td>5243</td>\n",
       "      <td>5243</td>\n",
       "      <td>...</td>\n",
       "      <td>5243</td>\n",
       "      <td>5243</td>\n",
       "      <td>5243</td>\n",
       "      <td>5243</td>\n",
       "      <td>5243</td>\n",
       "      <td>5243</td>\n",
       "      <td>5243</td>\n",
       "      <td>5243</td>\n",
       "      <td>5243</td>\n",
       "      <td>5243</td>\n",
       "    </tr>\n",
       "    <tr>\n",
       "      <th>2020-05-19</th>\n",
       "      <td>5503</td>\n",
       "      <td>5503</td>\n",
       "      <td>5503</td>\n",
       "      <td>5503</td>\n",
       "      <td>5503</td>\n",
       "      <td>5503</td>\n",
       "      <td>5503</td>\n",
       "      <td>5503</td>\n",
       "      <td>5503</td>\n",
       "      <td>5503</td>\n",
       "      <td>...</td>\n",
       "      <td>5503</td>\n",
       "      <td>5503</td>\n",
       "      <td>5503</td>\n",
       "      <td>5503</td>\n",
       "      <td>5503</td>\n",
       "      <td>5503</td>\n",
       "      <td>5503</td>\n",
       "      <td>5503</td>\n",
       "      <td>5503</td>\n",
       "      <td>5503</td>\n",
       "    </tr>\n",
       "    <tr>\n",
       "      <th>2020-05-20</th>\n",
       "      <td>5836</td>\n",
       "      <td>5836</td>\n",
       "      <td>5836</td>\n",
       "      <td>5836</td>\n",
       "      <td>5836</td>\n",
       "      <td>5836</td>\n",
       "      <td>5836</td>\n",
       "      <td>5836</td>\n",
       "      <td>5836</td>\n",
       "      <td>5836</td>\n",
       "      <td>...</td>\n",
       "      <td>5836</td>\n",
       "      <td>5836</td>\n",
       "      <td>5836</td>\n",
       "      <td>5836</td>\n",
       "      <td>5836</td>\n",
       "      <td>5836</td>\n",
       "      <td>5836</td>\n",
       "      <td>5836</td>\n",
       "      <td>5836</td>\n",
       "      <td>5836</td>\n",
       "    </tr>\n",
       "    <tr>\n",
       "      <th>2020-05-21</th>\n",
       "      <td>5327</td>\n",
       "      <td>5327</td>\n",
       "      <td>5327</td>\n",
       "      <td>5327</td>\n",
       "      <td>5327</td>\n",
       "      <td>5327</td>\n",
       "      <td>5327</td>\n",
       "      <td>5327</td>\n",
       "      <td>5327</td>\n",
       "      <td>5327</td>\n",
       "      <td>...</td>\n",
       "      <td>5327</td>\n",
       "      <td>5327</td>\n",
       "      <td>5327</td>\n",
       "      <td>5327</td>\n",
       "      <td>5327</td>\n",
       "      <td>5327</td>\n",
       "      <td>5327</td>\n",
       "      <td>5327</td>\n",
       "      <td>5327</td>\n",
       "      <td>5327</td>\n",
       "    </tr>\n",
       "    <tr>\n",
       "      <th>2020-05-22</th>\n",
       "      <td>4767</td>\n",
       "      <td>4767</td>\n",
       "      <td>4767</td>\n",
       "      <td>4767</td>\n",
       "      <td>4767</td>\n",
       "      <td>4767</td>\n",
       "      <td>4767</td>\n",
       "      <td>4767</td>\n",
       "      <td>4767</td>\n",
       "      <td>4767</td>\n",
       "      <td>...</td>\n",
       "      <td>4767</td>\n",
       "      <td>4767</td>\n",
       "      <td>4767</td>\n",
       "      <td>4767</td>\n",
       "      <td>4767</td>\n",
       "      <td>4767</td>\n",
       "      <td>4767</td>\n",
       "      <td>4767</td>\n",
       "      <td>4767</td>\n",
       "      <td>4767</td>\n",
       "    </tr>\n",
       "  </tbody>\n",
       "</table>\n",
       "<p>391 rows × 893 columns</p>\n",
       "</div>"
      ],
      "text/plain": [
       "                           record_id  wave_name  wave  date  covid  \\\n",
       "week lockdown pd_datetime                                            \n",
       "1    0        2020-03-21           4          4     4     4      4   \n",
       "              2020-03-22           7          7     7     7      7   \n",
       "              2020-03-23          41         41    41    41     41   \n",
       "     1        2020-03-24          37         37    37    37     37   \n",
       "              2020-03-25          24         24    24    24     24   \n",
       "...                              ...        ...   ...   ...    ...   \n",
       "9    0        2020-05-18        5243       5243  5243  5243   5243   \n",
       "              2020-05-19        5503       5503  5503  5503   5503   \n",
       "              2020-05-20        5836       5836  5836  5836   5836   \n",
       "              2020-05-21        5327       5327  5327  5327   5327   \n",
       "              2020-05-22        4767       4767  4767  4767   4767   \n",
       "\n",
       "                           covidcontact  covidw  covidtest  covidwhen  \\\n",
       "week lockdown pd_datetime                                               \n",
       "1    0        2020-03-21              4       4          4          4   \n",
       "              2020-03-22              7       7          7          7   \n",
       "              2020-03-23             41      41         41         41   \n",
       "     1        2020-03-24             37      37         37         37   \n",
       "              2020-03-25             24      24         24         24   \n",
       "...                                 ...     ...        ...        ...   \n",
       "9    0        2020-05-18           5243    5243       5243       5243   \n",
       "              2020-05-19           5503    5503       5503       5503   \n",
       "              2020-05-20           5836    5836       5836       5836   \n",
       "              2020-05-21           5327    5327       5327       5327   \n",
       "              2020-05-22           4767    4767       4767       4767   \n",
       "\n",
       "                           covidwhen_2  ...  lifeevent3_2022  lifeevent4_2022  \\\n",
       "week lockdown pd_datetime               ...                                     \n",
       "1    0        2020-03-21             4  ...                4                4   \n",
       "              2020-03-22             7  ...                7                7   \n",
       "              2020-03-23            41  ...               41               41   \n",
       "     1        2020-03-24            37  ...               37               37   \n",
       "              2020-03-25            24  ...               24               24   \n",
       "...                                ...  ...              ...              ...   \n",
       "9    0        2020-05-18          5243  ...             5243             5243   \n",
       "              2020-05-19          5503  ...             5503             5503   \n",
       "              2020-05-20          5836  ...             5836             5836   \n",
       "              2020-05-21          5327  ...             5327             5327   \n",
       "              2020-05-22          4767  ...             4767             4767   \n",
       "\n",
       "                           lifeevent5_2022  lifeevent6_2022  lifeevent7_2022  \\\n",
       "week lockdown pd_datetime                                                      \n",
       "1    0        2020-03-21                 4                4                4   \n",
       "              2020-03-22                 7                7                7   \n",
       "              2020-03-23                41               41               41   \n",
       "     1        2020-03-24                37               37               37   \n",
       "              2020-03-25                24               24               24   \n",
       "...                                    ...              ...              ...   \n",
       "9    0        2020-05-18              5243             5243             5243   \n",
       "              2020-05-19              5503             5503             5503   \n",
       "              2020-05-20              5836             5836             5836   \n",
       "              2020-05-21              5327             5327             5327   \n",
       "              2020-05-22              4767             4767             4767   \n",
       "\n",
       "                           lifeevent8_2022  lifeevent9_2022  lifeevent10_2022  \\\n",
       "week lockdown pd_datetime                                                       \n",
       "1    0        2020-03-21                 4                4                 4   \n",
       "              2020-03-22                 7                7                 7   \n",
       "              2020-03-23                41               41                41   \n",
       "     1        2020-03-24                37               37                37   \n",
       "              2020-03-25                24               24                24   \n",
       "...                                    ...              ...               ...   \n",
       "9    0        2020-05-18              5243             5243              5243   \n",
       "              2020-05-19              5503             5503              5503   \n",
       "              2020-05-20              5836             5836              5836   \n",
       "              2020-05-21              5327             5327              5327   \n",
       "              2020-05-22              4767             4767              4767   \n",
       "\n",
       "                           lifeevent11_2022  lifeevent12_2022  \n",
       "week lockdown pd_datetime                                      \n",
       "1    0        2020-03-21                  4                 4  \n",
       "              2020-03-22                  7                 7  \n",
       "              2020-03-23                 41                41  \n",
       "     1        2020-03-24                 37                37  \n",
       "              2020-03-25                 24                24  \n",
       "...                                     ...               ...  \n",
       "9    0        2020-05-18               5243              5243  \n",
       "              2020-05-19               5503              5503  \n",
       "              2020-05-20               5836              5836  \n",
       "              2020-05-21               5327              5327  \n",
       "              2020-05-22               4767              4767  \n",
       "\n",
       "[391 rows x 893 columns]"
      ]
     },
     "execution_count": 28,
     "metadata": {},
     "output_type": "execute_result"
    }
   ],
   "source": [
    "subset.groupby(['week', 'lockdown', 'pd_datetime']).count()"
   ]
  },
  {
   "cell_type": "code",
   "execution_count": 29,
   "metadata": {},
   "outputs": [
    {
     "data": {
      "text/plain": [
       "203"
      ]
     },
     "execution_count": 29,
     "metadata": {},
     "output_type": "execute_result"
    }
   ],
   "source": [
    "len(subset['pd_datetime'].unique())"
   ]
  },
  {
   "cell_type": "code",
   "execution_count": 30,
   "metadata": {},
   "outputs": [],
   "source": [
    "subset['depression'] = subset[UCL_depression].replace(' ', np.nan).astype(float).sum(axis=1)\n",
    "subset['anxiety'] = subset[UCL_anxiety].replace(' ', np.nan).astype(float).sum(axis=1)\n",
    "subset['covid_anxiety'] = subset[UCL_covid_anxiety].replace(' ', np.nan).astype(float).sum(axis=1)\n",
    "subset['stress'] = subset[UCL_stressors].replace(' ', np.nan).astype(float).sum(axis=1)\n",
    "subset['loneliness'] = subset[UCL_loneliness].replace(' ', np.nan).astype(float).sum(axis=1)\n",
    "subset['support'] = subset[UCL_support].replace(' ', np.nan).astype(float).sum(axis=1)\n"
   ]
  },
  {
   "cell_type": "code",
   "execution_count": 31,
   "metadata": {},
   "outputs": [],
   "source": [
    "subset['week'] = subset['week'].astype(int)"
   ]
  },
  {
   "cell_type": "code",
   "execution_count": 32,
   "metadata": {},
   "outputs": [],
   "source": [
    "subset = subset.merge(UK_deaths[['pd_datetime', 'deaths_per_1m']], on='pd_datetime')\n",
    "subset = subset.merge(UK_cases[['pd_datetime', 'cases_per_1m']], on='pd_datetime')"
   ]
  },
  {
   "cell_type": "code",
   "execution_count": 69,
   "metadata": {},
   "outputs": [],
   "source": [
    "records = pd.merge(subset, external_baseline, on='record_id', how='left')"
   ]
  },
  {
   "cell_type": "code",
   "execution_count": 70,
   "metadata": {},
   "outputs": [],
   "source": [
    "personality = ['Neuroticism', 'Extraversion', 'Openness', 'Agreeableness', 'Conscientiousness']\n",
    "\n",
    "columns = ['depression', 'anxiety', 'covid_anxiety', 'stress', 'loneliness', 'support', 'lockdown', 'week', 'record_id', 'cases_per_1m', 'deaths_per_1m'] + UCL_demographic + personality\n",
    "\n",
    "selected_subset = records[columns]"
   ]
  },
  {
   "cell_type": "code",
   "execution_count": 71,
   "metadata": {},
   "outputs": [
    {
     "data": {
      "text/html": [
       "<div>\n",
       "<style scoped>\n",
       "    .dataframe tbody tr th:only-of-type {\n",
       "        vertical-align: middle;\n",
       "    }\n",
       "\n",
       "    .dataframe tbody tr th {\n",
       "        vertical-align: top;\n",
       "    }\n",
       "\n",
       "    .dataframe thead th {\n",
       "        text-align: right;\n",
       "    }\n",
       "</style>\n",
       "<table border=\"1\" class=\"dataframe\">\n",
       "  <thead>\n",
       "    <tr style=\"text-align: right;\">\n",
       "      <th></th>\n",
       "      <th>depression</th>\n",
       "      <th>anxiety</th>\n",
       "      <th>covid_anxiety</th>\n",
       "      <th>stress</th>\n",
       "      <th>loneliness</th>\n",
       "      <th>support</th>\n",
       "      <th>lockdown</th>\n",
       "      <th>week</th>\n",
       "      <th>record_id</th>\n",
       "      <th>cases_per_1m</th>\n",
       "      <th>...</th>\n",
       "      <th>gender</th>\n",
       "      <th>ethnic</th>\n",
       "      <th>marital</th>\n",
       "      <th>education</th>\n",
       "      <th>income</th>\n",
       "      <th>Neuroticism</th>\n",
       "      <th>Extraversion</th>\n",
       "      <th>Openness</th>\n",
       "      <th>Agreeableness</th>\n",
       "      <th>Conscientiousness</th>\n",
       "    </tr>\n",
       "  </thead>\n",
       "  <tbody>\n",
       "    <tr>\n",
       "      <th>0</th>\n",
       "      <td>6.0</td>\n",
       "      <td>1.0</td>\n",
       "      <td>0.0</td>\n",
       "      <td>4.0</td>\n",
       "      <td>4.0</td>\n",
       "      <td>11.0</td>\n",
       "      <td>1</td>\n",
       "      <td>1</td>\n",
       "      <td>1</td>\n",
       "      <td>176.54</td>\n",
       "      <td>...</td>\n",
       "      <td>1</td>\n",
       "      <td>1</td>\n",
       "      <td>4</td>\n",
       "      <td>2</td>\n",
       "      <td>3</td>\n",
       "      <td>4</td>\n",
       "      <td>11</td>\n",
       "      <td>16</td>\n",
       "      <td>15</td>\n",
       "      <td>21</td>\n",
       "    </tr>\n",
       "    <tr>\n",
       "      <th>1</th>\n",
       "      <td>10.0</td>\n",
       "      <td>6.0</td>\n",
       "      <td>0.0</td>\n",
       "      <td>11.0</td>\n",
       "      <td>5.0</td>\n",
       "      <td>24.0</td>\n",
       "      <td>1</td>\n",
       "      <td>1</td>\n",
       "      <td>9</td>\n",
       "      <td>176.54</td>\n",
       "      <td>...</td>\n",
       "      <td>2</td>\n",
       "      <td>1</td>\n",
       "      <td>2</td>\n",
       "      <td>5</td>\n",
       "      <td>2</td>\n",
       "      <td>11</td>\n",
       "      <td>21</td>\n",
       "      <td>19</td>\n",
       "      <td>20</td>\n",
       "      <td>13</td>\n",
       "    </tr>\n",
       "    <tr>\n",
       "      <th>2</th>\n",
       "      <td>3.0</td>\n",
       "      <td>0.0</td>\n",
       "      <td>0.0</td>\n",
       "      <td>9.0</td>\n",
       "      <td>4.0</td>\n",
       "      <td>16.0</td>\n",
       "      <td>1</td>\n",
       "      <td>1</td>\n",
       "      <td>10</td>\n",
       "      <td>176.54</td>\n",
       "      <td>...</td>\n",
       "      <td>1</td>\n",
       "      <td>1</td>\n",
       "      <td>1</td>\n",
       "      <td>5</td>\n",
       "      <td>2</td>\n",
       "      <td>8</td>\n",
       "      <td>21</td>\n",
       "      <td>16</td>\n",
       "      <td>15</td>\n",
       "      <td>14</td>\n",
       "    </tr>\n",
       "    <tr>\n",
       "      <th>3</th>\n",
       "      <td>14.0</td>\n",
       "      <td>14.0</td>\n",
       "      <td>0.0</td>\n",
       "      <td>11.0</td>\n",
       "      <td>6.0</td>\n",
       "      <td>23.0</td>\n",
       "      <td>1</td>\n",
       "      <td>1</td>\n",
       "      <td>12</td>\n",
       "      <td>176.54</td>\n",
       "      <td>...</td>\n",
       "      <td>2</td>\n",
       "      <td>1</td>\n",
       "      <td>1</td>\n",
       "      <td>3</td>\n",
       "      <td>7</td>\n",
       "      <td>17</td>\n",
       "      <td>10</td>\n",
       "      <td>14</td>\n",
       "      <td>21</td>\n",
       "      <td>13</td>\n",
       "    </tr>\n",
       "    <tr>\n",
       "      <th>4</th>\n",
       "      <td>14.0</td>\n",
       "      <td>5.0</td>\n",
       "      <td>0.0</td>\n",
       "      <td>9.0</td>\n",
       "      <td>11.0</td>\n",
       "      <td>9.0</td>\n",
       "      <td>1</td>\n",
       "      <td>1</td>\n",
       "      <td>13</td>\n",
       "      <td>176.54</td>\n",
       "      <td>...</td>\n",
       "      <td>2</td>\n",
       "      <td>1</td>\n",
       "      <td>2</td>\n",
       "      <td>4</td>\n",
       "      <td>1</td>\n",
       "      <td>12</td>\n",
       "      <td>18</td>\n",
       "      <td>16</td>\n",
       "      <td>16</td>\n",
       "      <td>14</td>\n",
       "    </tr>\n",
       "  </tbody>\n",
       "</table>\n",
       "<p>5 rows × 22 columns</p>\n",
       "</div>"
      ],
      "text/plain": [
       "   depression  anxiety  covid_anxiety  stress  loneliness  support  lockdown  \\\n",
       "0         6.0      1.0            0.0     4.0         4.0     11.0         1   \n",
       "1        10.0      6.0            0.0    11.0         5.0     24.0         1   \n",
       "2         3.0      0.0            0.0     9.0         4.0     16.0         1   \n",
       "3        14.0     14.0            0.0    11.0         6.0     23.0         1   \n",
       "4        14.0      5.0            0.0     9.0        11.0      9.0         1   \n",
       "\n",
       "   week  record_id  cases_per_1m  ...  gender  ethnic  marital  education  \\\n",
       "0     1          1        176.54  ...       1       1        4          2   \n",
       "1     1          9        176.54  ...       2       1        2          5   \n",
       "2     1         10        176.54  ...       1       1        1          5   \n",
       "3     1         12        176.54  ...       2       1        1          3   \n",
       "4     1         13        176.54  ...       2       1        2          4   \n",
       "\n",
       "   income  Neuroticism  Extraversion  Openness  Agreeableness  \\\n",
       "0       3            4            11        16             15   \n",
       "1       2           11            21        19             20   \n",
       "2       2            8            21        16             15   \n",
       "3       7           17            10        14             21   \n",
       "4       1           12            18        16             16   \n",
       "\n",
       "   Conscientiousness  \n",
       "0                 21  \n",
       "1                 13  \n",
       "2                 14  \n",
       "3                 13  \n",
       "4                 14  \n",
       "\n",
       "[5 rows x 22 columns]"
      ]
     },
     "execution_count": 71,
     "metadata": {},
     "output_type": "execute_result"
    }
   ],
   "source": [
    "selected_subset.head()"
   ]
  },
  {
   "cell_type": "code",
   "execution_count": 72,
   "metadata": {},
   "outputs": [],
   "source": [
    "selected_subset.to_csv('../output/v3_python/UCL_data.csv')"
   ]
  },
  {
   "cell_type": "code",
   "execution_count": null,
   "metadata": {},
   "outputs": [],
   "source": []
  },
  {
   "cell_type": "code",
   "execution_count": null,
   "metadata": {},
   "outputs": [],
   "source": []
  },
  {
   "cell_type": "code",
   "execution_count": null,
   "metadata": {},
   "outputs": [],
   "source": []
  },
  {
   "cell_type": "code",
   "execution_count": null,
   "metadata": {},
   "outputs": [],
   "source": []
  },
  {
   "cell_type": "code",
   "execution_count": null,
   "metadata": {},
   "outputs": [],
   "source": []
  },
  {
   "cell_type": "code",
   "execution_count": null,
   "metadata": {},
   "outputs": [],
   "source": []
  },
  {
   "cell_type": "code",
   "execution_count": 34,
   "metadata": {},
   "outputs": [
    {
     "data": {
      "text/plain": [
       "<Axes: xlabel='week', ylabel='depression'>"
      ]
     },
     "execution_count": 34,
     "metadata": {},
     "output_type": "execute_result"
    },
    {
     "data": {
      "image/png": "[encoded data removed]",
      "text/plain": [
       "<Figure size 640x480 with 1 Axes>"
      ]
     },
     "metadata": {},
     "output_type": "display_data"
    }
   ],
   "source": [
    "sns.lineplot(data=subset, x='week', y='depression')"
   ]
  },
  {
   "cell_type": "code",
   "execution_count": null,
   "metadata": {},
   "outputs": [],
   "source": []
  },
  {
   "cell_type": "code",
   "execution_count": null,
   "metadata": {},
   "outputs": [],
   "source": []
  },
  {
   "cell_type": "code",
   "execution_count": 35,
   "metadata": {},
   "outputs": [
    {
     "data": {
      "text/plain": [
       "<Axes: xlabel='week', ylabel='lockdown'>"
      ]
     },
     "execution_count": 35,
     "metadata": {},
     "output_type": "execute_result"
    },
    {
     "data": {
      "image/png": "[encoded data removed]",
      "text/plain": [
       "<Figure size 640x480 with 1 Axes>"
      ]
     },
     "metadata": {},
     "output_type": "display_data"
    }
   ],
   "source": [
    "sns.lineplot(data=subset, x='week', y='lockdown')"
   ]
  },
  {
   "cell_type": "code",
   "execution_count": 37,
   "metadata": {},
   "outputs": [
    {
     "data": {
      "text/html": [
       "<div>\n",
       "<style scoped>\n",
       "    .dataframe tbody tr th:only-of-type {\n",
       "        vertical-align: middle;\n",
       "    }\n",
       "\n",
       "    .dataframe tbody tr th {\n",
       "        vertical-align: top;\n",
       "    }\n",
       "\n",
       "    .dataframe thead th {\n",
       "        text-align: right;\n",
       "    }\n",
       "</style>\n",
       "<table border=\"1\" class=\"dataframe\">\n",
       "  <thead>\n",
       "    <tr style=\"text-align: right;\">\n",
       "      <th></th>\n",
       "      <th>record_id</th>\n",
       "      <th>wave_name</th>\n",
       "      <th>wave</th>\n",
       "      <th>date</th>\n",
       "      <th>week</th>\n",
       "      <th>covid</th>\n",
       "      <th>covidcontact</th>\n",
       "      <th>covidw</th>\n",
       "      <th>covidtest</th>\n",
       "      <th>covidwhen</th>\n",
       "      <th>...</th>\n",
       "      <th>lifeevent6_2022</th>\n",
       "      <th>lifeevent7_2022</th>\n",
       "      <th>lifeevent8_2022</th>\n",
       "      <th>lifeevent9_2022</th>\n",
       "      <th>lifeevent10_2022</th>\n",
       "      <th>lifeevent11_2022</th>\n",
       "      <th>lifeevent12_2022</th>\n",
       "      <th>pd_datetime</th>\n",
       "      <th>lockdown</th>\n",
       "      <th>depression</th>\n",
       "    </tr>\n",
       "  </thead>\n",
       "  <tbody>\n",
       "    <tr>\n",
       "      <th>0</th>\n",
       "      <td>1</td>\n",
       "      <td>week_1</td>\n",
       "      <td>1</td>\n",
       "      <td>3/25/2020</td>\n",
       "      <td>1</td>\n",
       "      <td>4</td>\n",
       "      <td>2</td>\n",
       "      <td></td>\n",
       "      <td></td>\n",
       "      <td></td>\n",
       "      <td>...</td>\n",
       "      <td></td>\n",
       "      <td></td>\n",
       "      <td></td>\n",
       "      <td></td>\n",
       "      <td></td>\n",
       "      <td></td>\n",
       "      <td></td>\n",
       "      <td>2020-03-25</td>\n",
       "      <td>1</td>\n",
       "      <td>6.0</td>\n",
       "    </tr>\n",
       "    <tr>\n",
       "      <th>1</th>\n",
       "      <td>1</td>\n",
       "      <td>week_2</td>\n",
       "      <td>2</td>\n",
       "      <td>4/1/2020</td>\n",
       "      <td>2</td>\n",
       "      <td>4</td>\n",
       "      <td>3</td>\n",
       "      <td></td>\n",
       "      <td></td>\n",
       "      <td></td>\n",
       "      <td>...</td>\n",
       "      <td></td>\n",
       "      <td></td>\n",
       "      <td></td>\n",
       "      <td></td>\n",
       "      <td></td>\n",
       "      <td></td>\n",
       "      <td></td>\n",
       "      <td>2020-04-01</td>\n",
       "      <td>1</td>\n",
       "      <td>5.0</td>\n",
       "    </tr>\n",
       "    <tr>\n",
       "      <th>2</th>\n",
       "      <td>1</td>\n",
       "      <td>week_3</td>\n",
       "      <td>3</td>\n",
       "      <td>4/8/2020</td>\n",
       "      <td>3</td>\n",
       "      <td>4</td>\n",
       "      <td>1</td>\n",
       "      <td></td>\n",
       "      <td></td>\n",
       "      <td></td>\n",
       "      <td>...</td>\n",
       "      <td></td>\n",
       "      <td></td>\n",
       "      <td></td>\n",
       "      <td></td>\n",
       "      <td></td>\n",
       "      <td></td>\n",
       "      <td></td>\n",
       "      <td>2020-04-08</td>\n",
       "      <td>1</td>\n",
       "      <td>9.0</td>\n",
       "    </tr>\n",
       "    <tr>\n",
       "      <th>3</th>\n",
       "      <td>1</td>\n",
       "      <td>week_4</td>\n",
       "      <td>4</td>\n",
       "      <td>4/16/2020</td>\n",
       "      <td>4</td>\n",
       "      <td>4</td>\n",
       "      <td>1</td>\n",
       "      <td></td>\n",
       "      <td></td>\n",
       "      <td></td>\n",
       "      <td>...</td>\n",
       "      <td></td>\n",
       "      <td></td>\n",
       "      <td></td>\n",
       "      <td></td>\n",
       "      <td></td>\n",
       "      <td></td>\n",
       "      <td></td>\n",
       "      <td>2020-04-16</td>\n",
       "      <td>1</td>\n",
       "      <td>7.0</td>\n",
       "    </tr>\n",
       "    <tr>\n",
       "      <th>4</th>\n",
       "      <td>1</td>\n",
       "      <td>week_5</td>\n",
       "      <td>5</td>\n",
       "      <td>4/24/2020</td>\n",
       "      <td>5</td>\n",
       "      <td>4</td>\n",
       "      <td>1</td>\n",
       "      <td></td>\n",
       "      <td></td>\n",
       "      <td></td>\n",
       "      <td>...</td>\n",
       "      <td></td>\n",
       "      <td></td>\n",
       "      <td></td>\n",
       "      <td></td>\n",
       "      <td></td>\n",
       "      <td></td>\n",
       "      <td></td>\n",
       "      <td>2020-04-24</td>\n",
       "      <td>1</td>\n",
       "      <td>9.0</td>\n",
       "    </tr>\n",
       "    <tr>\n",
       "      <th>...</th>\n",
       "      <td>...</td>\n",
       "      <td>...</td>\n",
       "      <td>...</td>\n",
       "      <td>...</td>\n",
       "      <td>...</td>\n",
       "      <td>...</td>\n",
       "      <td>...</td>\n",
       "      <td>...</td>\n",
       "      <td>...</td>\n",
       "      <td>...</td>\n",
       "      <td>...</td>\n",
       "      <td>...</td>\n",
       "      <td>...</td>\n",
       "      <td>...</td>\n",
       "      <td>...</td>\n",
       "      <td>...</td>\n",
       "      <td>...</td>\n",
       "      <td>...</td>\n",
       "      <td>...</td>\n",
       "      <td>...</td>\n",
       "      <td>...</td>\n",
       "    </tr>\n",
       "    <tr>\n",
       "      <th>1205412</th>\n",
       "      <td>80412</td>\n",
       "      <td>week_9</td>\n",
       "      <td>9</td>\n",
       "      <td>8/28/2020</td>\n",
       "      <td>23</td>\n",
       "      <td>4</td>\n",
       "      <td>1</td>\n",
       "      <td></td>\n",
       "      <td></td>\n",
       "      <td></td>\n",
       "      <td>...</td>\n",
       "      <td></td>\n",
       "      <td></td>\n",
       "      <td></td>\n",
       "      <td></td>\n",
       "      <td></td>\n",
       "      <td></td>\n",
       "      <td></td>\n",
       "      <td>2020-08-28</td>\n",
       "      <td>0</td>\n",
       "      <td>2.0</td>\n",
       "    </tr>\n",
       "    <tr>\n",
       "      <th>1205419</th>\n",
       "      <td>80413</td>\n",
       "      <td>week_1</td>\n",
       "      <td>1</td>\n",
       "      <td>5/7/2020</td>\n",
       "      <td>7</td>\n",
       "      <td>4</td>\n",
       "      <td>3</td>\n",
       "      <td></td>\n",
       "      <td></td>\n",
       "      <td></td>\n",
       "      <td>...</td>\n",
       "      <td></td>\n",
       "      <td></td>\n",
       "      <td></td>\n",
       "      <td></td>\n",
       "      <td></td>\n",
       "      <td></td>\n",
       "      <td></td>\n",
       "      <td>2020-05-07</td>\n",
       "      <td>1</td>\n",
       "      <td>21.0</td>\n",
       "    </tr>\n",
       "    <tr>\n",
       "      <th>1205420</th>\n",
       "      <td>80413</td>\n",
       "      <td>week_2</td>\n",
       "      <td>2</td>\n",
       "      <td>5/15/2020</td>\n",
       "      <td>8</td>\n",
       "      <td>4</td>\n",
       "      <td>1</td>\n",
       "      <td></td>\n",
       "      <td></td>\n",
       "      <td></td>\n",
       "      <td>...</td>\n",
       "      <td></td>\n",
       "      <td></td>\n",
       "      <td></td>\n",
       "      <td></td>\n",
       "      <td></td>\n",
       "      <td></td>\n",
       "      <td></td>\n",
       "      <td>2020-05-15</td>\n",
       "      <td>0</td>\n",
       "      <td>10.0</td>\n",
       "    </tr>\n",
       "    <tr>\n",
       "      <th>1205421</th>\n",
       "      <td>80413</td>\n",
       "      <td>week_3</td>\n",
       "      <td>3</td>\n",
       "      <td>5/23/2020</td>\n",
       "      <td>10</td>\n",
       "      <td>4</td>\n",
       "      <td>3</td>\n",
       "      <td></td>\n",
       "      <td></td>\n",
       "      <td></td>\n",
       "      <td>...</td>\n",
       "      <td></td>\n",
       "      <td></td>\n",
       "      <td></td>\n",
       "      <td></td>\n",
       "      <td></td>\n",
       "      <td></td>\n",
       "      <td></td>\n",
       "      <td>2020-05-23</td>\n",
       "      <td>0</td>\n",
       "      <td>14.0</td>\n",
       "    </tr>\n",
       "    <tr>\n",
       "      <th>1205422</th>\n",
       "      <td>80413</td>\n",
       "      <td>week_4</td>\n",
       "      <td>4</td>\n",
       "      <td>6/1/2020</td>\n",
       "      <td>11</td>\n",
       "      <td>4</td>\n",
       "      <td>3</td>\n",
       "      <td></td>\n",
       "      <td></td>\n",
       "      <td></td>\n",
       "      <td>...</td>\n",
       "      <td></td>\n",
       "      <td></td>\n",
       "      <td></td>\n",
       "      <td></td>\n",
       "      <td></td>\n",
       "      <td></td>\n",
       "      <td></td>\n",
       "      <td>2020-06-01</td>\n",
       "      <td>0</td>\n",
       "      <td>16.0</td>\n",
       "    </tr>\n",
       "  </tbody>\n",
       "</table>\n",
       "<p>739587 rows × 897 columns</p>\n",
       "</div>"
      ],
      "text/plain": [
       "         record_id wave_name  wave       date  week covid covidcontact covidw  \\\n",
       "0                1    week_1     1  3/25/2020     1     4            2          \n",
       "1                1    week_2     2   4/1/2020     2     4            3          \n",
       "2                1    week_3     3   4/8/2020     3     4            1          \n",
       "3                1    week_4     4  4/16/2020     4     4            1          \n",
       "4                1    week_5     5  4/24/2020     5     4            1          \n",
       "...            ...       ...   ...        ...   ...   ...          ...    ...   \n",
       "1205412      80412    week_9     9  8/28/2020    23     4            1          \n",
       "1205419      80413    week_1     1   5/7/2020     7     4            3          \n",
       "1205420      80413    week_2     2  5/15/2020     8     4            1          \n",
       "1205421      80413    week_3     3  5/23/2020    10     4            3          \n",
       "1205422      80413    week_4     4   6/1/2020    11     4            3          \n",
       "\n",
       "        covidtest covidwhen  ... lifeevent6_2022 lifeevent7_2022  \\\n",
       "0                            ...                                   \n",
       "1                            ...                                   \n",
       "2                            ...                                   \n",
       "3                            ...                                   \n",
       "4                            ...                                   \n",
       "...           ...       ...  ...             ...             ...   \n",
       "1205412                      ...                                   \n",
       "1205419                      ...                                   \n",
       "1205420                      ...                                   \n",
       "1205421                      ...                                   \n",
       "1205422                      ...                                   \n",
       "\n",
       "        lifeevent8_2022 lifeevent9_2022 lifeevent10_2022 lifeevent11_2022  \\\n",
       "0                                                                           \n",
       "1                                                                           \n",
       "2                                                                           \n",
       "3                                                                           \n",
       "4                                                                           \n",
       "...                 ...             ...              ...              ...   \n",
       "1205412                                                                     \n",
       "1205419                                                                     \n",
       "1205420                                                                     \n",
       "1205421                                                                     \n",
       "1205422                                                                     \n",
       "\n",
       "        lifeevent12_2022 pd_datetime lockdown depression  \n",
       "0                         2020-03-25        1        6.0  \n",
       "1                         2020-04-01        1        5.0  \n",
       "2                         2020-04-08        1        9.0  \n",
       "3                         2020-04-16        1        7.0  \n",
       "4                         2020-04-24        1        9.0  \n",
       "...                  ...         ...      ...        ...  \n",
       "1205412                   2020-08-28        0        2.0  \n",
       "1205419                   2020-05-07        1       21.0  \n",
       "1205420                   2020-05-15        0       10.0  \n",
       "1205421                   2020-05-23        0       14.0  \n",
       "1205422                   2020-06-01        0       16.0  \n",
       "\n",
       "[739587 rows x 897 columns]"
      ]
     },
     "execution_count": 37,
     "metadata": {},
     "output_type": "execute_result"
    }
   ],
   "source": [
    "subset"
   ]
  },
  {
   "cell_type": "code",
   "execution_count": 36,
   "metadata": {},
   "outputs": [],
   "source": [
    "n_weeks = len(subset['week'].unique())"
   ]
  },
  {
   "cell_type": "code",
   "execution_count": 27,
   "metadata": {},
   "outputs": [],
   "source": [
    "ids = subset['record_id'].unique().tolist()\n",
    "\n",
    "subset_ids = ids\n",
    "\n",
    "selected_subjects = subset.loc[subset['record_id'].isin(subset_ids)]"
   ]
  },
  {
   "cell_type": "code",
   "execution_count": 28,
   "metadata": {},
   "outputs": [
    {
     "name": "stdout",
     "output_type": "stream",
     "text": [
      "n participants before filtering:\n",
      "71544\n"
     ]
    },
    {
     "name": "stderr",
     "output_type": "stream",
     "text": [
      "An input array is constant; the correlation coefficient is not defined.\n"
     ]
    }
   ],
   "source": [
    "ids = selected_subjects['record_id'].unique().tolist()\n",
    "\n",
    "n_weeks = len(selected_subjects['week'].unique())\n",
    "\n",
    "print('n participants before filtering:')\n",
    "print(len(ids))\n",
    "\n",
    "corrs = []\n",
    "pvals = []\n",
    "selected_ids = []\n",
    "\n",
    "for i in ids:\n",
    "    lockdown_measures = selected_subjects.loc[selected_subjects['record_id'] == i, 'lockdown'].values\n",
    "    depression = selected_subjects.loc[selected_subjects['record_id'] == i, 'depression'].values\n",
    "    \n",
    "    if len(lockdown_measures) >= (0.5 * n_weeks):\n",
    "        corr, pval = stats.pearsonr(lockdown_measures, depression)\n",
    "        corrs.append(corr)\n",
    "        pvals.append(pval)\n",
    "        selected_ids.append(i)\n",
    "\n",
    "df = pd.DataFrame({'id': selected_ids, 'corr': corrs, 'pval': pvals})"
   ]
  },
  {
   "cell_type": "code",
   "execution_count": 29,
   "metadata": {},
   "outputs": [],
   "source": [
    "subset_50 = subset.loc[subset['record_id'].isin(df['id'])]"
   ]
  },
  {
   "cell_type": "code",
   "execution_count": 30,
   "metadata": {},
   "outputs": [
    {
     "name": "stderr",
     "output_type": "stream",
     "text": [
      "\n",
      "A value is trying to be set on a copy of a slice from a DataFrame.\n",
      "Try using .loc[row_indexer,col_indexer] = value instead\n",
      "\n",
      "See the caveats in the documentation: https://pandas.pydata.org/pandas-docs/stable/user_guide/indexing.html#returning-a-view-versus-a-copy\n"
     ]
    }
   ],
   "source": [
    "subset_50['anxiety'] = subset_50.loc[:, UCL_anxiety].replace(' ', np.nan).astype(float).sum(axis=1)"
   ]
  },
  {
   "cell_type": "code",
   "execution_count": 31,
   "metadata": {},
   "outputs": [],
   "source": [
    "from imputation_data_structure import *"
   ]
  },
  {
   "cell_type": "code",
   "execution_count": 32,
   "metadata": {},
   "outputs": [],
   "source": [
    "records = pd.merge(subset_50, external_baseline, on='record_id', how='left')"
   ]
  },
  {
   "cell_type": "code",
   "execution_count": 33,
   "metadata": {},
   "outputs": [],
   "source": [
    "columns = ['depression', 'anxiety', 'lockdown'] + UCL_demographic\n",
    "\n",
    "data_struct = Structure(records, columns, dtype='ucl-social-study')"
   ]
  },
  {
   "cell_type": "code",
   "execution_count": 34,
   "metadata": {},
   "outputs": [],
   "source": [
    "data_struct.knn_impute_subject(k=2, reset=True)\n",
    "data_struct.knn_impute_wave(k=5, reset=False)"
   ]
  },
  {
   "cell_type": "code",
   "execution_count": 36,
   "metadata": {},
   "outputs": [
    {
     "data": {
      "text/plain": [
       "(27335, 7, 29)"
      ]
     },
     "execution_count": 36,
     "metadata": {},
     "output_type": "execute_result"
    }
   ],
   "source": [
    "data_struct.imputed.shape"
   ]
  },
  {
   "cell_type": "code",
   "execution_count": 38,
   "metadata": {},
   "outputs": [
    {
     "data": {
      "text/plain": [
       "[<matplotlib.lines.Line2D at 0x7f670caa5310>]"
      ]
     },
     "execution_count": 38,
     "metadata": {},
     "output_type": "execute_result"
    },
    {
     "data": {
      "image/png": "[encoded data removed]",
      "text/plain": [
       "<Figure size 640x480 with 1 Axes>"
      ]
     },
     "metadata": {},
     "output_type": "display_data"
    }
   ],
   "source": [
    "plt.plot(data_struct.imputed[0,0,:])"
   ]
  },
  {
   "cell_type": "code",
   "execution_count": 39,
   "metadata": {},
   "outputs": [
    {
     "data": {
      "text/plain": [
       "[<matplotlib.lines.Line2D at 0x7f670bde85b0>]"
      ]
     },
     "execution_count": 39,
     "metadata": {},
     "output_type": "execute_result"
    },
    {
     "data": {
      "image/png": "[encoded data removed]",
      "text/plain": [
       "<Figure size 640x480 with 1 Axes>"
      ]
     },
     "metadata": {},
     "output_type": "display_data"
    }
   ],
   "source": [
    "plt.plot(data_struct.ori[0,0,:])"
   ]
  },
  {
   "cell_type": "code",
   "execution_count": 14,
   "metadata": {},
   "outputs": [
    {
     "ename": "NameError",
     "evalue": "name 'data_struct' is not defined",
     "output_type": "error",
     "traceback": [
      "\u001b[0;31m---------------------------------------------------------------------------\u001b[0m",
      "\u001b[0;31mNameError\u001b[0m                                 Traceback (most recent call last)",
      "Cell \u001b[0;32mIn[14], line 5\u001b[0m\n\u001b[1;32m      3\u001b[0m \u001b[39m# Save the object as a pickle file\u001b[39;00m\n\u001b[1;32m      4\u001b[0m \u001b[39mwith\u001b[39;00m \u001b[39mopen\u001b[39m(\u001b[39m'\u001b[39m\u001b[39m../output/imputed.pkl\u001b[39m\u001b[39m'\u001b[39m, \u001b[39m'\u001b[39m\u001b[39mwb\u001b[39m\u001b[39m'\u001b[39m) \u001b[39mas\u001b[39;00m f:\n\u001b[0;32m----> 5\u001b[0m     pickle\u001b[39m.\u001b[39mdump(data_struct, f)\n",
      "\u001b[0;31mNameError\u001b[0m: name 'data_struct' is not defined"
     ]
    }
   ],
   "source": [
    "import pickle\n",
    "\n",
    "# Save the object as a pickle file\n",
    "with open('../output/imputed.pkl', 'wb') as f:\n",
    "    pickle.dump(data_struct, f)"
   ]
  },
  {
   "cell_type": "code",
   "execution_count": 15,
   "metadata": {},
   "outputs": [],
   "source": [
    "import pickle\n",
    "\n",
    "# Open the pickle file and load the object\n",
    "with open('../output/UCL/imputed.pkl', 'rb') as f:\n",
    "    imputed_data = pickle.load(f)"
   ]
  },
  {
   "cell_type": "code",
   "execution_count": 24,
   "metadata": {},
   "outputs": [],
   "source": [
    "imputed_data.reset_imputed()"
   ]
  },
  {
   "cell_type": "code",
   "execution_count": 70,
   "metadata": {},
   "outputs": [
    {
     "data": {
      "text/plain": [
       "[<matplotlib.lines.Line2D at 0x7f4c89f91100>]"
      ]
     },
     "execution_count": 70,
     "metadata": {},
     "output_type": "execute_result"
    },
    {
     "data": {
      "image/png": "[encoded data removed]",
      "text/plain": [
       "<Figure size 640x480 with 1 Axes>"
      ]
     },
     "metadata": {},
     "output_type": "display_data"
    }
   ],
   "source": [
    "plt.plot(imputed_data.scaled_ori[100,1,:])"
   ]
  },
  {
   "cell_type": "code",
   "execution_count": 68,
   "metadata": {},
   "outputs": [
    {
     "data": {
      "text/plain": [
       "[<matplotlib.lines.Line2D at 0x7f4c8b1e8310>]"
      ]
     },
     "execution_count": 68,
     "metadata": {},
     "output_type": "execute_result"
    },
    {
     "data": {
      "image/png": "[encoded data removed]",
      "text/plain": [
       "<Figure size 640x480 with 1 Axes>"
      ]
     },
     "metadata": {},
     "output_type": "display_data"
    }
   ],
   "source": [
    "plt.plot(imputed_data.imputed[100,1,:])"
   ]
  },
  {
   "cell_type": "code",
   "execution_count": 69,
   "metadata": {},
   "outputs": [
    {
     "data": {
      "text/plain": [
       "[<matplotlib.lines.Line2D at 0x7f4c8b55bc40>]"
      ]
     },
     "execution_count": 69,
     "metadata": {},
     "output_type": "execute_result"
    },
    {
     "data": {
      "image/png": "[encoded data removed]",
      "text/plain": [
       "<Figure size 640x480 with 1 Axes>"
      ]
     },
     "metadata": {},
     "output_type": "display_data"
    }
   ],
   "source": [
    "plt.plot(imputed_data.scaled_ori[100,0,:])"
   ]
  },
  {
   "cell_type": "code",
   "execution_count": 28,
   "metadata": {},
   "outputs": [
    {
     "data": {
      "text/plain": [
       "[<matplotlib.lines.Line2D at 0x7f4c8d1c4f70>]"
      ]
     },
     "execution_count": 28,
     "metadata": {},
     "output_type": "execute_result"
    },
    {
     "data": {
      "image/png": "[encoded data removed]",
      "text/plain": [
       "<Figure size 640x480 with 1 Axes>"
      ]
     },
     "metadata": {},
     "output_type": "display_data"
    }
   ],
   "source": [
    "plt.plot(imputed_data.imputed[0,0,:])"
   ]
  },
  {
   "cell_type": "code",
   "execution_count": 29,
   "metadata": {},
   "outputs": [
    {
     "data": {
      "text/plain": [
       "(27335, 6, 29)"
      ]
     },
     "execution_count": 29,
     "metadata": {},
     "output_type": "execute_result"
    }
   ],
   "source": [
    "imputed_data.ori.shape"
   ]
  },
  {
   "cell_type": "code",
   "execution_count": 45,
   "metadata": {},
   "outputs": [
    {
     "data": {
      "text/plain": [
       "['depression', 'anxiety', 'age', 'gender', 'marital', 'education']"
      ]
     },
     "execution_count": 45,
     "metadata": {},
     "output_type": "execute_result"
    }
   ],
   "source": [
    "imputed_data.meta['columns']"
   ]
  },
  {
   "cell_type": "code",
   "execution_count": 48,
   "metadata": {},
   "outputs": [
    {
     "data": {
      "text/plain": [
       "[<matplotlib.lines.Line2D at 0x7f4c83a75430>]"
      ]
     },
     "execution_count": 48,
     "metadata": {},
     "output_type": "execute_result"
    },
    {
     "data": {
      "image/png": "[encoded data removed]",
      "text/plain": [
       "<Figure size 640x480 with 1 Axes>"
      ]
     },
     "metadata": {},
     "output_type": "display_data"
    }
   ],
   "source": [
    "n = 5\n",
    "plt.plot(imputed_data.ori[0,n,:])\n"
   ]
  },
  {
   "cell_type": "code",
   "execution_count": 49,
   "metadata": {},
   "outputs": [
    {
     "data": {
      "text/plain": [
       "[<matplotlib.lines.Line2D at 0x7f4c832f99a0>]"
      ]
     },
     "execution_count": 49,
     "metadata": {},
     "output_type": "execute_result"
    },
    {
     "data": {
      "image/png": "[encoded data removed]",
      "text/plain": [
       "<Figure size 640x480 with 1 Axes>"
      ]
     },
     "metadata": {},
     "output_type": "display_data"
    }
   ],
   "source": [
    "plt.plot(imputed_data.imputed[0,n,:])"
   ]
  },
  {
   "cell_type": "code",
   "execution_count": 42,
   "metadata": {},
   "outputs": [],
   "source": [
    "imputed_data.knn_impute_subject(k=2, reset=False)\n",
    "#imputed_data.knn_impute_wave(k=5, reset=False)"
   ]
  },
  {
   "cell_type": "code",
   "execution_count": null,
   "metadata": {},
   "outputs": [],
   "source": []
  },
  {
   "cell_type": "code",
   "execution_count": 39,
   "metadata": {},
   "outputs": [
    {
     "data": {
      "text/plain": [
       "<imputation_data_structure.Structure at 0x7f8a286619d0>"
      ]
     },
     "execution_count": 39,
     "metadata": {},
     "output_type": "execute_result"
    }
   ],
   "source": [
    "imputed_data"
   ]
  },
  {
   "cell_type": "code",
   "execution_count": 40,
   "metadata": {},
   "outputs": [
    {
     "data": {
      "text/plain": [
       "array([ 1,  2,  3,  4,  5,  6,  7,  8,  9, 10, 11, 12, 13, 14, 15, 16, 17,\n",
       "       18, 19, 20, 21, 22, 23, 24, 25, 26, 27, 28, 29])"
      ]
     },
     "execution_count": 40,
     "metadata": {},
     "output_type": "execute_result"
    }
   ],
   "source": [
    "imputed_data.meta['waves']"
   ]
  },
  {
   "cell_type": "code",
   "execution_count": 41,
   "metadata": {},
   "outputs": [
    {
     "data": {
      "text/plain": [
       "(27335, 6, 29)"
      ]
     },
     "execution_count": 41,
     "metadata": {},
     "output_type": "execute_result"
    }
   ],
   "source": [
    "imputed_data.imputed.shape"
   ]
  },
  {
   "cell_type": "code",
   "execution_count": 42,
   "metadata": {},
   "outputs": [
    {
     "data": {
      "text/plain": [
       "['depression', 'anxiety', 'age', 'gender', 'marital', 'education']"
      ]
     },
     "execution_count": 42,
     "metadata": {},
     "output_type": "execute_result"
    }
   ],
   "source": [
    "imputed_data.meta['columns']"
   ]
  },
  {
   "cell_type": "code",
   "execution_count": 43,
   "metadata": {},
   "outputs": [
    {
     "data": {
      "text/plain": [
       "array([0.15625, 0.15625, 0.15625, 0.15625, 0.15625, 0.15625, 0.15625,\n",
       "       0.15625, 0.15625, 0.15625, 0.21875, 0.1875 , 0.15625, 0.15625,\n",
       "       0.15625, 0.1875 , 0.09375, 0.15625, 0.15625, 0.15625, 0.15625,\n",
       "       0.15625, 0.15625, 0.15625, 0.125  , 0.125  , 0.09375, 0.125  ,\n",
       "       0.125  ])"
      ]
     },
     "execution_count": 43,
     "metadata": {},
     "output_type": "execute_result"
    }
   ],
   "source": [
    "imputed_data.imputed[0, imputed_data.meta['columns'].index('depression'), :]"
   ]
  },
  {
   "cell_type": "code",
   "execution_count": 46,
   "metadata": {},
   "outputs": [],
   "source": [
    "imputed_data.reset_imputed()"
   ]
  },
  {
   "cell_type": "code",
   "execution_count": 47,
   "metadata": {},
   "outputs": [],
   "source": [
    "target_vars = ['depression', 'anxiety']\n",
    "n_samples = int(np.sum(~np.isnan(imputed_data.ori)) * (10/100))\n",
    "test_indexes, _ = imputed_data.create_testing_data(n_samples=n_samples)\n",
    "target_indexes = imputed_data.get_targeted_indexes(test_indexes, target_vars)"
   ]
  },
  {
   "cell_type": "code",
   "execution_count": 48,
   "metadata": {},
   "outputs": [],
   "source": [
    "# Save the object as a pickle file\n",
    "with open('../output/test_indexes.pkl', 'wb') as f:\n",
    "    pickle.dump(test_indexes, f)"
   ]
  },
  {
   "cell_type": "code",
   "execution_count": null,
   "metadata": {},
   "outputs": [],
   "source": []
  },
  {
   "cell_type": "code",
   "execution_count": 65,
   "metadata": {},
   "outputs": [
    {
     "data": {
      "text/plain": [
       "0.5"
      ]
     },
     "execution_count": 65,
     "metadata": {},
     "output_type": "execute_result"
    }
   ],
   "source": [
    "imputed_data.imputed[test_indexes[0]]\n",
    "\n",
    "\n"
   ]
  },
  {
   "cell_type": "code",
   "execution_count": 66,
   "metadata": {},
   "outputs": [],
   "source": [
    "imputed_data.set_na_values(test_indexes)"
   ]
  },
  {
   "cell_type": "code",
   "execution_count": 67,
   "metadata": {},
   "outputs": [
    {
     "data": {
      "text/plain": [
       "nan"
      ]
     },
     "execution_count": 67,
     "metadata": {},
     "output_type": "execute_result"
    }
   ],
   "source": [
    "imputed_data.imputed[test_indexes[0]]\n"
   ]
  },
  {
   "cell_type": "code",
   "execution_count": 68,
   "metadata": {},
   "outputs": [],
   "source": [
    "imputed_data.knn_impute_subject(k=2, reset=False)\n",
    "imputed_data.knn_impute_wave(k=5, reset=False)"
   ]
  },
  {
   "cell_type": "code",
   "execution_count": 71,
   "metadata": {},
   "outputs": [
    {
     "name": "stdout",
     "output_type": "stream",
     "text": [
      "0.359375\n",
      "0.28125\n"
     ]
    }
   ],
   "source": [
    "n = test_indexes[200]\n",
    "print(imputed_data.imputed[n])\n",
    "print(imputed_data.scaled_ori[n])\n"
   ]
  },
  {
   "cell_type": "code",
   "execution_count": null,
   "metadata": {},
   "outputs": [],
   "source": [
    "imputed_data.set_na_values(test_indexes)"
   ]
  },
  {
   "cell_type": "code",
   "execution_count": 72,
   "metadata": {},
   "outputs": [],
   "source": [
    "\n",
    "mse, valid_testcase = imputed_data.estimate_imputation_error(test_indexes)\n",
    "target_mse, target_valid_test = imputed_data.estimate_imputation_error(target_indexes)\n",
    "\n"
   ]
  },
  {
   "cell_type": "code",
   "execution_count": 73,
   "metadata": {},
   "outputs": [
    {
     "data": {
      "text/plain": [
       "0.006792081818524861"
      ]
     },
     "execution_count": 73,
     "metadata": {},
     "output_type": "execute_result"
    }
   ],
   "source": [
    "target_mse"
   ]
  },
  {
   "cell_type": "code",
   "execution_count": null,
   "metadata": {},
   "outputs": [],
   "source": [
    "ids = imputed_data.meta['CVDIDs']\n",
    "n_weeks = len(imputed_data.meta['waves'])\n",
    "\n",
    "print('n participants before filtering:')\n",
    "print(len(ids))\n",
    "\n",
    "corrs = []\n",
    "pvals = []\n",
    "selected_ids = []\n",
    "\n",
    "for i in ids:\n",
    "    lockdown_measures = selected_subjects.loc[selected_subjects['record_id'] == i, 'lockdown'].values\n",
    "    depression = imputed_data.imputed[0, imputed_data.meta['columns'].index('depression'), :]\n",
    "    \n",
    "    if len(lockdown_measures) >= (0.5 * n_weeks):\n",
    "        corr, pval = stats.pearsonr(lockdown_measures, depression)\n",
    "        corrs.append(corr)\n",
    "        pvals.append(pval)\n",
    "        selected_ids.append(i)\n",
    "\n",
    "df = pd.DataFrame({'id': selected_ids, 'corr': corrs, 'pval': pvals})"
   ]
  },
  {
   "cell_type": "code",
   "execution_count": 29,
   "metadata": {},
   "outputs": [],
   "source": [
    "negative_participants = non_na_df.loc[(non_na_df['corr'] < 0) & (non_na_df['pval'] <= 0.05)]\n",
    "positive_participants = non_na_df.loc[(non_na_df['corr'] > 0) & (non_na_df['pval'] <= 0.05)]\n",
    "neutral_participants = non_na_df.loc[non_na_df['pval'] > 0.05]"
   ]
  },
  {
   "cell_type": "code",
   "execution_count": 30,
   "metadata": {},
   "outputs": [
    {
     "data": {
      "text/html": [
       "<div>\n",
       "<style scoped>\n",
       "    .dataframe tbody tr th:only-of-type {\n",
       "        vertical-align: middle;\n",
       "    }\n",
       "\n",
       "    .dataframe tbody tr th {\n",
       "        vertical-align: top;\n",
       "    }\n",
       "\n",
       "    .dataframe thead th {\n",
       "        text-align: right;\n",
       "    }\n",
       "</style>\n",
       "<table border=\"1\" class=\"dataframe\">\n",
       "  <thead>\n",
       "    <tr style=\"text-align: right;\">\n",
       "      <th></th>\n",
       "      <th>id</th>\n",
       "      <th>corr</th>\n",
       "      <th>pval</th>\n",
       "    </tr>\n",
       "  </thead>\n",
       "  <tbody>\n",
       "    <tr>\n",
       "      <th>0</th>\n",
       "      <td>4</td>\n",
       "      <td>-0.251476</td>\n",
       "      <td>0.299012</td>\n",
       "    </tr>\n",
       "    <tr>\n",
       "      <th>1</th>\n",
       "      <td>5</td>\n",
       "      <td>0.205370</td>\n",
       "      <td>0.359211</td>\n",
       "    </tr>\n",
       "    <tr>\n",
       "      <th>2</th>\n",
       "      <td>10</td>\n",
       "      <td>0.137568</td>\n",
       "      <td>0.552075</td>\n",
       "    </tr>\n",
       "    <tr>\n",
       "      <th>3</th>\n",
       "      <td>12</td>\n",
       "      <td>-0.092857</td>\n",
       "      <td>0.722991</td>\n",
       "    </tr>\n",
       "    <tr>\n",
       "      <th>4</th>\n",
       "      <td>13</td>\n",
       "      <td>0.136957</td>\n",
       "      <td>0.553859</td>\n",
       "    </tr>\n",
       "    <tr>\n",
       "      <th>...</th>\n",
       "      <td>...</td>\n",
       "      <td>...</td>\n",
       "      <td>...</td>\n",
       "    </tr>\n",
       "    <tr>\n",
       "      <th>27330</th>\n",
       "      <td>80380</td>\n",
       "      <td>0.085480</td>\n",
       "      <td>0.744278</td>\n",
       "    </tr>\n",
       "    <tr>\n",
       "      <th>27331</th>\n",
       "      <td>80381</td>\n",
       "      <td>-0.091287</td>\n",
       "      <td>0.727505</td>\n",
       "    </tr>\n",
       "    <tr>\n",
       "      <th>27332</th>\n",
       "      <td>80384</td>\n",
       "      <td>-0.310557</td>\n",
       "      <td>0.259921</td>\n",
       "    </tr>\n",
       "    <tr>\n",
       "      <th>27333</th>\n",
       "      <td>80387</td>\n",
       "      <td>0.106920</td>\n",
       "      <td>0.682952</td>\n",
       "    </tr>\n",
       "    <tr>\n",
       "      <th>27334</th>\n",
       "      <td>80399</td>\n",
       "      <td>-0.150467</td>\n",
       "      <td>0.578054</td>\n",
       "    </tr>\n",
       "  </tbody>\n",
       "</table>\n",
       "<p>21155 rows × 3 columns</p>\n",
       "</div>"
      ],
      "text/plain": [
       "          id      corr      pval\n",
       "0          4 -0.251476  0.299012\n",
       "1          5  0.205370  0.359211\n",
       "2         10  0.137568  0.552075\n",
       "3         12 -0.092857  0.722991\n",
       "4         13  0.136957  0.553859\n",
       "...      ...       ...       ...\n",
       "27330  80380  0.085480  0.744278\n",
       "27331  80381 -0.091287  0.727505\n",
       "27332  80384 -0.310557  0.259921\n",
       "27333  80387  0.106920  0.682952\n",
       "27334  80399 -0.150467  0.578054\n",
       "\n",
       "[21155 rows x 3 columns]"
      ]
     },
     "execution_count": 30,
     "metadata": {},
     "output_type": "execute_result"
    }
   ],
   "source": [
    "neutral_participants"
   ]
  },
  {
   "cell_type": "code",
   "execution_count": 31,
   "metadata": {},
   "outputs": [
    {
     "data": {
      "text/html": [
       "<div>\n",
       "<style scoped>\n",
       "    .dataframe tbody tr th:only-of-type {\n",
       "        vertical-align: middle;\n",
       "    }\n",
       "\n",
       "    .dataframe tbody tr th {\n",
       "        vertical-align: top;\n",
       "    }\n",
       "\n",
       "    .dataframe thead th {\n",
       "        text-align: right;\n",
       "    }\n",
       "</style>\n",
       "<table border=\"1\" class=\"dataframe\">\n",
       "  <thead>\n",
       "    <tr style=\"text-align: right;\">\n",
       "      <th></th>\n",
       "      <th>id</th>\n",
       "      <th>corr</th>\n",
       "      <th>pval</th>\n",
       "    </tr>\n",
       "  </thead>\n",
       "  <tbody>\n",
       "    <tr>\n",
       "      <th>6</th>\n",
       "      <td>23</td>\n",
       "      <td>0.446344</td>\n",
       "      <td>0.042536</td>\n",
       "    </tr>\n",
       "    <tr>\n",
       "      <th>22</th>\n",
       "      <td>71</td>\n",
       "      <td>0.516568</td>\n",
       "      <td>0.016504</td>\n",
       "    </tr>\n",
       "    <tr>\n",
       "      <th>24</th>\n",
       "      <td>74</td>\n",
       "      <td>0.622682</td>\n",
       "      <td>0.007590</td>\n",
       "    </tr>\n",
       "    <tr>\n",
       "      <th>25</th>\n",
       "      <td>84</td>\n",
       "      <td>0.451661</td>\n",
       "      <td>0.030504</td>\n",
       "    </tr>\n",
       "    <tr>\n",
       "      <th>26</th>\n",
       "      <td>89</td>\n",
       "      <td>0.514173</td>\n",
       "      <td>0.017100</td>\n",
       "    </tr>\n",
       "    <tr>\n",
       "      <th>...</th>\n",
       "      <td>...</td>\n",
       "      <td>...</td>\n",
       "      <td>...</td>\n",
       "    </tr>\n",
       "    <tr>\n",
       "      <th>27177</th>\n",
       "      <td>79514</td>\n",
       "      <td>0.696366</td>\n",
       "      <td>0.001900</td>\n",
       "    </tr>\n",
       "    <tr>\n",
       "      <th>27181</th>\n",
       "      <td>79537</td>\n",
       "      <td>0.683130</td>\n",
       "      <td>0.003535</td>\n",
       "    </tr>\n",
       "    <tr>\n",
       "      <th>27289</th>\n",
       "      <td>80173</td>\n",
       "      <td>0.775150</td>\n",
       "      <td>0.000687</td>\n",
       "    </tr>\n",
       "    <tr>\n",
       "      <th>27309</th>\n",
       "      <td>80279</td>\n",
       "      <td>0.581666</td>\n",
       "      <td>0.018101</td>\n",
       "    </tr>\n",
       "    <tr>\n",
       "      <th>27323</th>\n",
       "      <td>80350</td>\n",
       "      <td>0.653250</td>\n",
       "      <td>0.006070</td>\n",
       "    </tr>\n",
       "  </tbody>\n",
       "</table>\n",
       "<p>3621 rows × 3 columns</p>\n",
       "</div>"
      ],
      "text/plain": [
       "          id      corr      pval\n",
       "6         23  0.446344  0.042536\n",
       "22        71  0.516568  0.016504\n",
       "24        74  0.622682  0.007590\n",
       "25        84  0.451661  0.030504\n",
       "26        89  0.514173  0.017100\n",
       "...      ...       ...       ...\n",
       "27177  79514  0.696366  0.001900\n",
       "27181  79537  0.683130  0.003535\n",
       "27289  80173  0.775150  0.000687\n",
       "27309  80279  0.581666  0.018101\n",
       "27323  80350  0.653250  0.006070\n",
       "\n",
       "[3621 rows x 3 columns]"
      ]
     },
     "execution_count": 31,
     "metadata": {},
     "output_type": "execute_result"
    }
   ],
   "source": [
    "positive_participants"
   ]
  },
  {
   "cell_type": "code",
   "execution_count": 32,
   "metadata": {},
   "outputs": [],
   "source": [
    "negative_ids = negative_participants['id'].tolist()\n",
    "positive_ids = positive_participants['id'].tolist()\n",
    "neutral_ids = positive_participants['id'].tolist()"
   ]
  },
  {
   "cell_type": "code",
   "execution_count": 33,
   "metadata": {},
   "outputs": [],
   "source": [
    "positive_dep_extraversion = external_baseline.loc[external_baseline['record_id'].isin(negative_ids),'Extraversion'].tolist()\n",
    "negative_dep_extraversion = external_baseline.loc[external_baseline['record_id'].isin(positive_ids),'Extraversion'].tolist()"
   ]
  },
  {
   "cell_type": "code",
   "execution_count": 34,
   "metadata": {},
   "outputs": [],
   "source": [
    "positive_dep_neuroticism = external_baseline.loc[external_baseline['record_id'].isin(negative_ids),'Neuroticism'].tolist()\n",
    "negative_dep_neuroticism = external_baseline.loc[external_baseline['record_id'].isin(positive_ids),'Neuroticism'].tolist()\n",
    "\n",
    "positive_dep_agreeableness = external_baseline.loc[external_baseline['record_id'].isin(negative_ids),'Agreeableness'].tolist()\n",
    "negative_dep_agreeableness = external_baseline.loc[external_baseline['record_id'].isin(positive_ids),'Agreeableness'].tolist()\n",
    "\n",
    "positive_dep_openness = external_baseline.loc[external_baseline['record_id'].isin(negative_ids),'Openness'].tolist()\n",
    "negative_dep_openness = external_baseline.loc[external_baseline['record_id'].isin(positive_ids),'Openness'].tolist()\n",
    "\n",
    "positive_dep_conscientiousness = external_baseline.loc[external_baseline['record_id'].isin(negative_ids),'Conscientiousness'].tolist()\n",
    "negative_dep_conscientiousness = external_baseline.loc[external_baseline['record_id'].isin(positive_ids),'Conscientiousness'].tolist()"
   ]
  },
  {
   "cell_type": "code",
   "execution_count": 35,
   "metadata": {},
   "outputs": [
    {
     "data": {
      "text/plain": [
       "Ttest_indResult(statistic=-1.4706405919384042, pvalue=0.1414449890600788)"
      ]
     },
     "execution_count": 35,
     "metadata": {},
     "output_type": "execute_result"
    }
   ],
   "source": [
    "stats.ttest_ind(positive_dep_extraversion, negative_dep_extraversion)"
   ]
  },
  {
   "cell_type": "code",
   "execution_count": null,
   "metadata": {},
   "outputs": [
    {
     "data": {
      "text/plain": [
       "Ttest_indResult(statistic=-4.479048187277701, pvalue=7.647930215678944e-06)"
      ]
     },
     "execution_count": 112,
     "metadata": {},
     "output_type": "execute_result"
    }
   ],
   "source": [
    "stats.ttest_ind(positive_dep_neuroticism, negative_dep_neuroticism)"
   ]
  },
  {
   "cell_type": "code",
   "execution_count": null,
   "metadata": {},
   "outputs": [
    {
     "data": {
      "text/plain": [
       "Ttest_indResult(statistic=-3.386710945148541, pvalue=0.000712270071374352)"
      ]
     },
     "execution_count": 114,
     "metadata": {},
     "output_type": "execute_result"
    }
   ],
   "source": [
    "stats.ttest_ind(positive_dep_agreeableness, negative_dep_agreeableness)"
   ]
  },
  {
   "cell_type": "code",
   "execution_count": null,
   "metadata": {},
   "outputs": [
    {
     "data": {
      "text/plain": [
       "Ttest_indResult(statistic=1.0519030713300306, pvalue=0.29288978601047566)"
      ]
     },
     "execution_count": 116,
     "metadata": {},
     "output_type": "execute_result"
    }
   ],
   "source": [
    "stats.ttest_ind(positive_dep_openness, negative_dep_openness)"
   ]
  },
  {
   "cell_type": "code",
   "execution_count": null,
   "metadata": {},
   "outputs": [
    {
     "data": {
      "text/plain": [
       "Ttest_indResult(statistic=-1.032417629340353, pvalue=0.30192147010943715)"
      ]
     },
     "execution_count": 115,
     "metadata": {},
     "output_type": "execute_result"
    }
   ],
   "source": [
    "stats.ttest_ind(positive_dep_conscientiousness, negative_dep_conscientiousness)"
   ]
  },
  {
   "cell_type": "code",
   "execution_count": null,
   "metadata": {},
   "outputs": [],
   "source": [
    "records = pd.merge(non_na_df, external_baseline, left_on='id', right_on='record_id', how='left')"
   ]
  },
  {
   "cell_type": "code",
   "execution_count": null,
   "metadata": {},
   "outputs": [],
   "source": [
    "records['cls'] = 'positive'\n",
    "records.loc[(records['corr']<0) & (records['pval']<=0.05), 'cls'] = 'negative'\n",
    "records.loc[~(((records['corr']>0) & (records['pval']<=0.05)) | ((records['corr']<0) & (records['pval']<=0.05))), 'cls'] = 'neutral'"
   ]
  },
  {
   "cell_type": "code",
   "execution_count": null,
   "metadata": {},
   "outputs": [
    {
     "data": {
      "text/plain": [
       "['id',\n",
       " 'corr',\n",
       " 'pval',\n",
       " 'record_id',\n",
       " 'age',\n",
       " 'gender',\n",
       " 'ethnic',\n",
       " 'marital',\n",
       " 'education',\n",
       " 'employment',\n",
       " 'keyworker1',\n",
       " 'keyworker2',\n",
       " 'keyworker3',\n",
       " 'keyworker4',\n",
       " 'keyworker5',\n",
       " 'keyworker6',\n",
       " 'keyworker7',\n",
       " 'keyworker8',\n",
       " 'keyworker9',\n",
       " 'keyworker10',\n",
       " 'country',\n",
       " 'area',\n",
       " 'region',\n",
       " 'living',\n",
       " 'ownership',\n",
       " 'garden1',\n",
       " 'garden2',\n",
       " 'garden3',\n",
       " 'garden4',\n",
       " 'rooms',\n",
       " 'houseadults',\n",
       " 'housechildren',\n",
       " 'income',\n",
       " 'illness1',\n",
       " 'illness2',\n",
       " 'illness3',\n",
       " 'illness4',\n",
       " 'illness5',\n",
       " 'illness6',\n",
       " 'illness7',\n",
       " 'illness8',\n",
       " 'illness9',\n",
       " 'illness12',\n",
       " 'illness13',\n",
       " 'illness10',\n",
       " 'illness11',\n",
       " 'smoker',\n",
       " 'alcohol',\n",
       " 'exercise',\n",
       " 'caring1',\n",
       " 'caring2',\n",
       " 'caring3',\n",
       " 'pets1',\n",
       " 'pets2',\n",
       " 'pets3',\n",
       " 'pets4',\n",
       " 'pets5',\n",
       " 'closefriends',\n",
       " 'socfreq',\n",
       " 'pers1',\n",
       " 'pers2',\n",
       " 'pers3',\n",
       " 'pers4',\n",
       " 'pers5',\n",
       " 'pers6',\n",
       " 'pers7',\n",
       " 'pers8',\n",
       " 'pers9',\n",
       " 'pers10',\n",
       " 'pers11',\n",
       " 'pers12',\n",
       " 'pers13',\n",
       " 'pers14',\n",
       " 'pers15',\n",
       " 'w1wgt',\n",
       " 'Neuroticism',\n",
       " 'Extraversion',\n",
       " 'Openness',\n",
       " 'Agreeableness',\n",
       " 'Conscientiousness',\n",
       " 'cls']"
      ]
     },
     "execution_count": 132,
     "metadata": {},
     "output_type": "execute_result"
    }
   ],
   "source": [
    "records.columns.tolist()"
   ]
  },
  {
   "cell_type": "code",
   "execution_count": null,
   "metadata": {},
   "outputs": [
    {
     "name": "stdout",
     "output_type": "stream",
     "text": [
      "[0]\ttrain-auc:0.60257+0.00370\ttest-auc:0.54846+0.00855\n",
      "[1]\ttrain-auc:0.62760+0.00464\ttest-auc:0.55427+0.00459\n",
      "[2]\ttrain-auc:0.64265+0.00399\ttest-auc:0.56179+0.00368\n",
      "[3]\ttrain-auc:0.64995+0.00250\ttest-auc:0.56621+0.00444\n",
      "[4]\ttrain-auc:0.65403+0.00306\ttest-auc:0.57103+0.00664\n",
      "[5]\ttrain-auc:0.65955+0.00425\ttest-auc:0.57174+0.00643\n",
      "[6]\ttrain-auc:0.66442+0.00504\ttest-auc:0.56912+0.00688\n",
      "[7]\ttrain-auc:0.66687+0.00627\ttest-auc:0.57023+0.00622\n",
      "[8]\ttrain-auc:0.67000+0.00642\ttest-auc:0.57250+0.00731\n",
      "[9]\ttrain-auc:0.67147+0.00645\ttest-auc:0.57340+0.00862\n",
      "[10]\ttrain-auc:0.67266+0.00614\ttest-auc:0.57375+0.00934\n",
      "[11]\ttrain-auc:0.67364+0.00660\ttest-auc:0.57398+0.01033\n",
      "[12]\ttrain-auc:0.67559+0.00601\ttest-auc:0.57428+0.01032\n",
      "[13]\ttrain-auc:0.67633+0.00581\ttest-auc:0.57509+0.01000\n",
      "[14]\ttrain-auc:0.67803+0.00585\ttest-auc:0.57564+0.00987\n",
      "[15]\ttrain-auc:0.67822+0.00444\ttest-auc:0.57575+0.00927\n",
      "[16]\ttrain-auc:0.67929+0.00468\ttest-auc:0.57737+0.01025\n",
      "[17]\ttrain-auc:0.68050+0.00419\ttest-auc:0.57791+0.00980\n",
      "[18]\ttrain-auc:0.68088+0.00448\ttest-auc:0.57780+0.00906\n",
      "[19]\ttrain-auc:0.68143+0.00492\ttest-auc:0.57811+0.00914\n",
      "[20]\ttrain-auc:0.68234+0.00450\ttest-auc:0.57842+0.00902\n",
      "[21]\ttrain-auc:0.68250+0.00448\ttest-auc:0.57824+0.00913\n",
      "[22]\ttrain-auc:0.68387+0.00540\ttest-auc:0.57802+0.01015\n",
      "[23]\ttrain-auc:0.68429+0.00517\ttest-auc:0.57833+0.01034\n",
      "[24]\ttrain-auc:0.68468+0.00498\ttest-auc:0.57893+0.01019\n",
      "[25]\ttrain-auc:0.68629+0.00535\ttest-auc:0.57995+0.01089\n",
      "[26]\ttrain-auc:0.68629+0.00519\ttest-auc:0.57896+0.01102\n",
      "[27]\ttrain-auc:0.68684+0.00458\ttest-auc:0.57899+0.01107\n",
      "[28]\ttrain-auc:0.68731+0.00469\ttest-auc:0.57906+0.01071\n",
      "[29]\ttrain-auc:0.68807+0.00418\ttest-auc:0.57877+0.01127\n",
      "[30]\ttrain-auc:0.68811+0.00425\ttest-auc:0.57848+0.01077\n",
      "[31]\ttrain-auc:0.68924+0.00372\ttest-auc:0.57884+0.01069\n",
      "[32]\ttrain-auc:0.68931+0.00388\ttest-auc:0.57952+0.01068\n",
      "[33]\ttrain-auc:0.68986+0.00406\ttest-auc:0.57965+0.01042\n",
      "[34]\ttrain-auc:0.69044+0.00414\ttest-auc:0.57983+0.01026\n",
      "[35]\ttrain-auc:0.69067+0.00403\ttest-auc:0.58082+0.01007\n",
      "[36]\ttrain-auc:0.69158+0.00428\ttest-auc:0.58007+0.01019\n",
      "[37]\ttrain-auc:0.69159+0.00416\ttest-auc:0.58019+0.01015\n",
      "[38]\ttrain-auc:0.69173+0.00426\ttest-auc:0.58054+0.00949\n",
      "[39]\ttrain-auc:0.69179+0.00464\ttest-auc:0.58004+0.00971\n",
      "[40]\ttrain-auc:0.69171+0.00447\ttest-auc:0.58038+0.00948\n",
      "[41]\ttrain-auc:0.69233+0.00452\ttest-auc:0.58040+0.00948\n",
      "[42]\ttrain-auc:0.69273+0.00461\ttest-auc:0.58043+0.00940\n",
      "[43]\ttrain-auc:0.69342+0.00482\ttest-auc:0.58040+0.00930\n",
      "[44]\ttrain-auc:0.69385+0.00493\ttest-auc:0.58070+0.00920\n",
      "[45]\ttrain-auc:0.69403+0.00487\ttest-auc:0.58087+0.00928\n",
      "[46]\ttrain-auc:0.69460+0.00506\ttest-auc:0.58074+0.00912\n",
      "[47]\ttrain-auc:0.69549+0.00462\ttest-auc:0.58075+0.00904\n",
      "[48]\ttrain-auc:0.69611+0.00494\ttest-auc:0.58087+0.00901\n",
      "[49]\ttrain-auc:0.69646+0.00484\ttest-auc:0.58086+0.00934\n",
      "[50]\ttrain-auc:0.69663+0.00475\ttest-auc:0.58098+0.00941\n",
      "[51]\ttrain-auc:0.69706+0.00443\ttest-auc:0.58075+0.00940\n",
      "[52]\ttrain-auc:0.69729+0.00436\ttest-auc:0.58093+0.00968\n",
      "[53]\ttrain-auc:0.69755+0.00409\ttest-auc:0.58101+0.00937\n",
      "[54]\ttrain-auc:0.69820+0.00376\ttest-auc:0.58074+0.00948\n",
      "[55]\ttrain-auc:0.69850+0.00347\ttest-auc:0.58059+0.00971\n",
      "[56]\ttrain-auc:0.69863+0.00325\ttest-auc:0.58051+0.00969\n",
      "[57]\ttrain-auc:0.69875+0.00333\ttest-auc:0.58051+0.00979\n",
      "[58]\ttrain-auc:0.69914+0.00297\ttest-auc:0.58031+0.01005\n",
      "[59]\ttrain-auc:0.69967+0.00308\ttest-auc:0.58053+0.00999\n",
      "[60]\ttrain-auc:0.69968+0.00324\ttest-auc:0.58086+0.01020\n",
      "[61]\ttrain-auc:0.69986+0.00332\ttest-auc:0.58079+0.01013\n",
      "[62]\ttrain-auc:0.69988+0.00313\ttest-auc:0.58068+0.01029\n",
      "[63]\ttrain-auc:0.70011+0.00329\ttest-auc:0.58070+0.01024\n",
      "[64]\ttrain-auc:0.70042+0.00343\ttest-auc:0.58076+0.01038\n",
      "[65]\ttrain-auc:0.70102+0.00350\ttest-auc:0.58039+0.01041\n",
      "[66]\ttrain-auc:0.70144+0.00367\ttest-auc:0.58063+0.01067\n",
      "[67]\ttrain-auc:0.70192+0.00336\ttest-auc:0.58026+0.01050\n",
      "[68]\ttrain-auc:0.70227+0.00315\ttest-auc:0.58004+0.01040\n",
      "[69]\ttrain-auc:0.70252+0.00328\ttest-auc:0.57958+0.01045\n",
      "[70]\ttrain-auc:0.70264+0.00350\ttest-auc:0.57951+0.01055\n",
      "[71]\ttrain-auc:0.70318+0.00340\ttest-auc:0.57986+0.01045\n",
      "[72]\ttrain-auc:0.70334+0.00354\ttest-auc:0.57995+0.01044\n",
      "[73]\ttrain-auc:0.70394+0.00354\ttest-auc:0.58032+0.01099\n",
      "[74]\ttrain-auc:0.70419+0.00387\ttest-auc:0.58033+0.01083\n",
      "[75]\ttrain-auc:0.70438+0.00405\ttest-auc:0.58025+0.01075\n",
      "[76]\ttrain-auc:0.70467+0.00428\ttest-auc:0.58020+0.01067\n",
      "[77]\ttrain-auc:0.70507+0.00403\ttest-auc:0.58000+0.01049\n",
      "[78]\ttrain-auc:0.70562+0.00397\ttest-auc:0.58022+0.01072\n",
      "[79]\ttrain-auc:0.70572+0.00399\ttest-auc:0.58027+0.01083\n",
      "[80]\ttrain-auc:0.70611+0.00401\ttest-auc:0.58004+0.01074\n",
      "[81]\ttrain-auc:0.70659+0.00375\ttest-auc:0.58031+0.01087\n",
      "[82]\ttrain-auc:0.70701+0.00353\ttest-auc:0.58027+0.01103\n",
      "[83]\ttrain-auc:0.70736+0.00360\ttest-auc:0.58029+0.01095\n",
      "[84]\ttrain-auc:0.70768+0.00343\ttest-auc:0.58015+0.01080\n",
      "[85]\ttrain-auc:0.70813+0.00338\ttest-auc:0.58014+0.01101\n",
      "[86]\ttrain-auc:0.70852+0.00327\ttest-auc:0.57969+0.01096\n",
      "[87]\ttrain-auc:0.70886+0.00325\ttest-auc:0.57953+0.01108\n",
      "[88]\ttrain-auc:0.70938+0.00327\ttest-auc:0.57955+0.01109\n",
      "[89]\ttrain-auc:0.70975+0.00319\ttest-auc:0.57933+0.01091\n",
      "[90]\ttrain-auc:0.71002+0.00332\ttest-auc:0.57933+0.01074\n",
      "[91]\ttrain-auc:0.71043+0.00346\ttest-auc:0.57922+0.01068\n",
      "[92]\ttrain-auc:0.71083+0.00327\ttest-auc:0.57923+0.01060\n",
      "[93]\ttrain-auc:0.71112+0.00330\ttest-auc:0.57913+0.01069\n",
      "[94]\ttrain-auc:0.71124+0.00336\ttest-auc:0.57893+0.01081\n",
      "[95]\ttrain-auc:0.71163+0.00345\ttest-auc:0.57912+0.01076\n",
      "[96]\ttrain-auc:0.71185+0.00348\ttest-auc:0.57905+0.01062\n",
      "[97]\ttrain-auc:0.71199+0.00347\ttest-auc:0.57906+0.01076\n",
      "[98]\ttrain-auc:0.71239+0.00334\ttest-auc:0.57903+0.01078\n",
      "[99]\ttrain-auc:0.71282+0.00310\ttest-auc:0.57899+0.01086\n",
      "[100]\ttrain-auc:0.71309+0.00287\ttest-auc:0.57913+0.01062\n",
      "[101]\ttrain-auc:0.71356+0.00292\ttest-auc:0.57920+0.01062\n",
      "[102]\ttrain-auc:0.71403+0.00286\ttest-auc:0.57924+0.01070\n",
      "[103]\ttrain-auc:0.71433+0.00270\ttest-auc:0.57923+0.01075\n",
      "[104]\ttrain-auc:0.71470+0.00300\ttest-auc:0.57927+0.01093\n",
      "[105]\ttrain-auc:0.71496+0.00326\ttest-auc:0.57920+0.01066\n",
      "[106]\ttrain-auc:0.71515+0.00330\ttest-auc:0.57922+0.01057\n",
      "[107]\ttrain-auc:0.71546+0.00333\ttest-auc:0.57929+0.01037\n",
      "[108]\ttrain-auc:0.71565+0.00325\ttest-auc:0.57925+0.01037\n",
      "[109]\ttrain-auc:0.71596+0.00329\ttest-auc:0.57922+0.01050\n",
      "[110]\ttrain-auc:0.71614+0.00325\ttest-auc:0.57940+0.01052\n",
      "[111]\ttrain-auc:0.71662+0.00317\ttest-auc:0.57915+0.01047\n",
      "[112]\ttrain-auc:0.71684+0.00307\ttest-auc:0.57910+0.01026\n",
      "[113]\ttrain-auc:0.71733+0.00322\ttest-auc:0.57884+0.01015\n",
      "[114]\ttrain-auc:0.71776+0.00299\ttest-auc:0.57864+0.01003\n",
      "[115]\ttrain-auc:0.71819+0.00313\ttest-auc:0.57888+0.00984\n",
      "[116]\ttrain-auc:0.71853+0.00335\ttest-auc:0.57888+0.00975\n",
      "[117]\ttrain-auc:0.71882+0.00322\ttest-auc:0.57878+0.00949\n",
      "[118]\ttrain-auc:0.71914+0.00307\ttest-auc:0.57856+0.00940\n",
      "[119]\ttrain-auc:0.71968+0.00311\ttest-auc:0.57867+0.00916\n",
      "[120]\ttrain-auc:0.71995+0.00310\ttest-auc:0.57860+0.00928\n",
      "[121]\ttrain-auc:0.72024+0.00312\ttest-auc:0.57849+0.00931\n",
      "[122]\ttrain-auc:0.72061+0.00318\ttest-auc:0.57846+0.00922\n",
      "[123]\ttrain-auc:0.72111+0.00329\ttest-auc:0.57853+0.00924\n",
      "[124]\ttrain-auc:0.72148+0.00337\ttest-auc:0.57850+0.00918\n",
      "[125]\ttrain-auc:0.72180+0.00340\ttest-auc:0.57847+0.00933\n",
      "[126]\ttrain-auc:0.72226+0.00346\ttest-auc:0.57848+0.00936\n",
      "[127]\ttrain-auc:0.72263+0.00356\ttest-auc:0.57862+0.00942\n",
      "[128]\ttrain-auc:0.72289+0.00345\ttest-auc:0.57854+0.00919\n",
      "[129]\ttrain-auc:0.72324+0.00349\ttest-auc:0.57856+0.00923\n",
      "[130]\ttrain-auc:0.72344+0.00353\ttest-auc:0.57866+0.00942\n",
      "[131]\ttrain-auc:0.72376+0.00329\ttest-auc:0.57856+0.00956\n",
      "[132]\ttrain-auc:0.72394+0.00316\ttest-auc:0.57860+0.00978\n",
      "[133]\ttrain-auc:0.72438+0.00311\ttest-auc:0.57871+0.00966\n",
      "[134]\ttrain-auc:0.72471+0.00304\ttest-auc:0.57867+0.00955\n",
      "[135]\ttrain-auc:0.72493+0.00290\ttest-auc:0.57871+0.00958\n",
      "[136]\ttrain-auc:0.72527+0.00301\ttest-auc:0.57870+0.00951\n",
      "[137]\ttrain-auc:0.72540+0.00304\ttest-auc:0.57873+0.00950\n",
      "[138]\ttrain-auc:0.72563+0.00292\ttest-auc:0.57883+0.00930\n",
      "[139]\ttrain-auc:0.72604+0.00287\ttest-auc:0.57865+0.00927\n",
      "[140]\ttrain-auc:0.72634+0.00294\ttest-auc:0.57870+0.00933\n",
      "[141]\ttrain-auc:0.72669+0.00289\ttest-auc:0.57860+0.00921\n",
      "[142]\ttrain-auc:0.72693+0.00272\ttest-auc:0.57860+0.00930\n",
      "[143]\ttrain-auc:0.72731+0.00267\ttest-auc:0.57849+0.00938\n",
      "[144]\ttrain-auc:0.72753+0.00263\ttest-auc:0.57861+0.00940\n",
      "[145]\ttrain-auc:0.72812+0.00254\ttest-auc:0.57844+0.00916\n",
      "[146]\ttrain-auc:0.72848+0.00249\ttest-auc:0.57859+0.00921\n",
      "[147]\ttrain-auc:0.72883+0.00252\ttest-auc:0.57857+0.00909\n",
      "[148]\ttrain-auc:0.72932+0.00262\ttest-auc:0.57845+0.00908\n",
      "[149]\ttrain-auc:0.72963+0.00269\ttest-auc:0.57839+0.00899\n",
      "[150]\ttrain-auc:0.73003+0.00263\ttest-auc:0.57835+0.00892\n",
      "[151]\ttrain-auc:0.73047+0.00240\ttest-auc:0.57844+0.00884\n",
      "[152]\ttrain-auc:0.73083+0.00239\ttest-auc:0.57836+0.00881\n",
      "[153]\ttrain-auc:0.73117+0.00250\ttest-auc:0.57846+0.00883\n",
      "[154]\ttrain-auc:0.73157+0.00259\ttest-auc:0.57870+0.00896\n",
      "[155]\ttrain-auc:0.73185+0.00247\ttest-auc:0.57883+0.00912\n",
      "[156]\ttrain-auc:0.73208+0.00237\ttest-auc:0.57881+0.00885\n",
      "[157]\ttrain-auc:0.73257+0.00232\ttest-auc:0.57885+0.00882\n",
      "[158]\ttrain-auc:0.73297+0.00242\ttest-auc:0.57899+0.00889\n",
      "[159]\ttrain-auc:0.73321+0.00227\ttest-auc:0.57904+0.00893\n",
      "[160]\ttrain-auc:0.73326+0.00236\ttest-auc:0.57914+0.00898\n",
      "[161]\ttrain-auc:0.73372+0.00236\ttest-auc:0.57914+0.00906\n",
      "[162]\ttrain-auc:0.73393+0.00226\ttest-auc:0.57928+0.00900\n",
      "[163]\ttrain-auc:0.73421+0.00216\ttest-auc:0.57924+0.00896\n",
      "[164]\ttrain-auc:0.73461+0.00212\ttest-auc:0.57921+0.00896\n",
      "[165]\ttrain-auc:0.73479+0.00216\ttest-auc:0.57928+0.00890\n",
      "[166]\ttrain-auc:0.73496+0.00211\ttest-auc:0.57911+0.00888\n",
      "[167]\ttrain-auc:0.73523+0.00199\ttest-auc:0.57917+0.00876\n",
      "[168]\ttrain-auc:0.73523+0.00198\ttest-auc:0.57908+0.00874\n",
      "[169]\ttrain-auc:0.73556+0.00185\ttest-auc:0.57907+0.00866\n",
      "[170]\ttrain-auc:0.73582+0.00177\ttest-auc:0.57895+0.00851\n",
      "[171]\ttrain-auc:0.73616+0.00167\ttest-auc:0.57877+0.00868\n",
      "[172]\ttrain-auc:0.73644+0.00173\ttest-auc:0.57877+0.00858\n",
      "[173]\ttrain-auc:0.73666+0.00177\ttest-auc:0.57888+0.00885\n",
      "[174]\ttrain-auc:0.73700+0.00178\ttest-auc:0.57882+0.00894\n",
      "[175]\ttrain-auc:0.73738+0.00173\ttest-auc:0.57882+0.00900\n",
      "[176]\ttrain-auc:0.73761+0.00180\ttest-auc:0.57869+0.00904\n",
      "[177]\ttrain-auc:0.73789+0.00179\ttest-auc:0.57870+0.00900\n",
      "[178]\ttrain-auc:0.73789+0.00192\ttest-auc:0.57866+0.00907\n",
      "[179]\ttrain-auc:0.73817+0.00198\ttest-auc:0.57861+0.00906\n",
      "[180]\ttrain-auc:0.73849+0.00203\ttest-auc:0.57869+0.00901\n",
      "[181]\ttrain-auc:0.73868+0.00195\ttest-auc:0.57871+0.00901\n",
      "[182]\ttrain-auc:0.73892+0.00194\ttest-auc:0.57872+0.00906\n",
      "[183]\ttrain-auc:0.73930+0.00196\ttest-auc:0.57885+0.00891\n",
      "[184]\ttrain-auc:0.73960+0.00196\ttest-auc:0.57875+0.00894\n",
      "[185]\ttrain-auc:0.73981+0.00195\ttest-auc:0.57882+0.00899\n",
      "[186]\ttrain-auc:0.74018+0.00206\ttest-auc:0.57892+0.00892\n",
      "[187]\ttrain-auc:0.74047+0.00203\ttest-auc:0.57893+0.00901\n",
      "[188]\ttrain-auc:0.74066+0.00208\ttest-auc:0.57896+0.00908\n",
      "[189]\ttrain-auc:0.74100+0.00212\ttest-auc:0.57889+0.00915\n",
      "[190]\ttrain-auc:0.74118+0.00222\ttest-auc:0.57907+0.00929\n",
      "[191]\ttrain-auc:0.74141+0.00227\ttest-auc:0.57883+0.00926\n",
      "[192]\ttrain-auc:0.74170+0.00217\ttest-auc:0.57878+0.00932\n",
      "[193]\ttrain-auc:0.74187+0.00215\ttest-auc:0.57871+0.00926\n",
      "[194]\ttrain-auc:0.74212+0.00214\ttest-auc:0.57862+0.00909\n",
      "[195]\ttrain-auc:0.74239+0.00209\ttest-auc:0.57860+0.00910\n",
      "[196]\ttrain-auc:0.74276+0.00209\ttest-auc:0.57848+0.00904\n",
      "[197]\ttrain-auc:0.74316+0.00201\ttest-auc:0.57839+0.00904\n",
      "[198]\ttrain-auc:0.74331+0.00199\ttest-auc:0.57825+0.00904\n",
      "[199]\ttrain-auc:0.74349+0.00178\ttest-auc:0.57839+0.00894\n",
      "[200]\ttrain-auc:0.74380+0.00195\ttest-auc:0.57849+0.00898\n",
      "[201]\ttrain-auc:0.74413+0.00181\ttest-auc:0.57842+0.00899\n",
      "[202]\ttrain-auc:0.74446+0.00185\ttest-auc:0.57838+0.00904\n",
      "[203]\ttrain-auc:0.74470+0.00183\ttest-auc:0.57823+0.00916\n",
      "[204]\ttrain-auc:0.74492+0.00182\ttest-auc:0.57818+0.00906\n",
      "[205]\ttrain-auc:0.74524+0.00185\ttest-auc:0.57797+0.00909\n",
      "[206]\ttrain-auc:0.74543+0.00185\ttest-auc:0.57791+0.00927\n",
      "[207]\ttrain-auc:0.74572+0.00187\ttest-auc:0.57768+0.00937\n",
      "[208]\ttrain-auc:0.74600+0.00195\ttest-auc:0.57764+0.00957\n",
      "[209]\ttrain-auc:0.74624+0.00200\ttest-auc:0.57767+0.00963\n",
      "[210]\ttrain-auc:0.74663+0.00196\ttest-auc:0.57775+0.00981\n",
      "[211]\ttrain-auc:0.74709+0.00206\ttest-auc:0.57757+0.00970\n",
      "[212]\ttrain-auc:0.74740+0.00204\ttest-auc:0.57768+0.00964\n",
      "[213]\ttrain-auc:0.74768+0.00201\ttest-auc:0.57784+0.00960\n",
      "[214]\ttrain-auc:0.74796+0.00188\ttest-auc:0.57789+0.00958\n",
      "[215]\ttrain-auc:0.74827+0.00188\ttest-auc:0.57799+0.00962\n",
      "[216]\ttrain-auc:0.74858+0.00171\ttest-auc:0.57783+0.00987\n",
      "[217]\ttrain-auc:0.74885+0.00171\ttest-auc:0.57784+0.01000\n",
      "[218]\ttrain-auc:0.74929+0.00153\ttest-auc:0.57770+0.00996\n",
      "[219]\ttrain-auc:0.74949+0.00164\ttest-auc:0.57776+0.01000\n",
      "[220]\ttrain-auc:0.74968+0.00161\ttest-auc:0.57757+0.00991\n",
      "[221]\ttrain-auc:0.75005+0.00158\ttest-auc:0.57761+0.00987\n",
      "[222]\ttrain-auc:0.75043+0.00150\ttest-auc:0.57743+0.00986\n",
      "[223]\ttrain-auc:0.75070+0.00152\ttest-auc:0.57774+0.00979\n",
      "[224]\ttrain-auc:0.75098+0.00144\ttest-auc:0.57785+0.00988\n",
      "[225]\ttrain-auc:0.75127+0.00149\ttest-auc:0.57769+0.00986\n",
      "[226]\ttrain-auc:0.75148+0.00148\ttest-auc:0.57776+0.00985\n",
      "[227]\ttrain-auc:0.75177+0.00161\ttest-auc:0.57773+0.00972\n",
      "[228]\ttrain-auc:0.75208+0.00163\ttest-auc:0.57767+0.00973\n",
      "[229]\ttrain-auc:0.75222+0.00165\ttest-auc:0.57765+0.00975\n",
      "[230]\ttrain-auc:0.75234+0.00168\ttest-auc:0.57768+0.00966\n",
      "[231]\ttrain-auc:0.75263+0.00188\ttest-auc:0.57767+0.00974\n",
      "[232]\ttrain-auc:0.75284+0.00194\ttest-auc:0.57769+0.00983\n",
      "[233]\ttrain-auc:0.75316+0.00195\ttest-auc:0.57762+0.00985\n",
      "[234]\ttrain-auc:0.75336+0.00196\ttest-auc:0.57768+0.00988\n",
      "[235]\ttrain-auc:0.75366+0.00195\ttest-auc:0.57776+0.00988\n",
      "[236]\ttrain-auc:0.75391+0.00215\ttest-auc:0.57759+0.00985\n",
      "[237]\ttrain-auc:0.75424+0.00224\ttest-auc:0.57742+0.00986\n",
      "[238]\ttrain-auc:0.75441+0.00223\ttest-auc:0.57746+0.00991\n",
      "[239]\ttrain-auc:0.75469+0.00216\ttest-auc:0.57748+0.00986\n",
      "[240]\ttrain-auc:0.75510+0.00219\ttest-auc:0.57756+0.00969\n",
      "[241]\ttrain-auc:0.75538+0.00230\ttest-auc:0.57737+0.00965\n",
      "[242]\ttrain-auc:0.75555+0.00232\ttest-auc:0.57734+0.00958\n",
      "[243]\ttrain-auc:0.75591+0.00237\ttest-auc:0.57741+0.00954\n",
      "[244]\ttrain-auc:0.75619+0.00221\ttest-auc:0.57749+0.00957\n",
      "[245]\ttrain-auc:0.75655+0.00227\ttest-auc:0.57743+0.00965\n",
      "[246]\ttrain-auc:0.75689+0.00242\ttest-auc:0.57730+0.00953\n",
      "[247]\ttrain-auc:0.75712+0.00237\ttest-auc:0.57730+0.00950\n",
      "[248]\ttrain-auc:0.75743+0.00235\ttest-auc:0.57720+0.00954\n",
      "[249]\ttrain-auc:0.75768+0.00226\ttest-auc:0.57710+0.00959\n",
      "[250]\ttrain-auc:0.75777+0.00227\ttest-auc:0.57722+0.00965\n",
      "[251]\ttrain-auc:0.75807+0.00241\ttest-auc:0.57734+0.00956\n",
      "[252]\ttrain-auc:0.75830+0.00242\ttest-auc:0.57733+0.00959\n",
      "    train-auc-mean  train-auc-std  test-auc-mean  test-auc-std\n",
      "0         0.602569       0.003700       0.548458      0.008546\n",
      "1         0.627605       0.004636       0.554270      0.004590\n",
      "2         0.642655       0.003991       0.561791      0.003676\n",
      "3         0.649953       0.002500       0.566213      0.004435\n",
      "4         0.654029       0.003060       0.571028      0.006639\n",
      "5         0.659547       0.004252       0.571740      0.006432\n",
      "6         0.664416       0.005036       0.569118      0.006879\n",
      "7         0.666874       0.006271       0.570232      0.006223\n",
      "8         0.670003       0.006420       0.572496      0.007314\n",
      "9         0.671471       0.006448       0.573396      0.008620\n",
      "10        0.672658       0.006135       0.573745      0.009344\n",
      "11        0.673640       0.006604       0.573984      0.010334\n",
      "12        0.675586       0.006010       0.574278      0.010315\n",
      "13        0.676332       0.005813       0.575087      0.010002\n",
      "14        0.678032       0.005849       0.575641      0.009870\n",
      "15        0.678215       0.004445       0.575752      0.009268\n",
      "16        0.679292       0.004684       0.577374      0.010246\n",
      "17        0.680499       0.004193       0.577910      0.009798\n",
      "18        0.680878       0.004478       0.577795      0.009063\n",
      "19        0.681429       0.004921       0.578112      0.009137\n",
      "20        0.682340       0.004504       0.578422      0.009021\n",
      "21        0.682495       0.004484       0.578239      0.009127\n",
      "22        0.683874       0.005401       0.578021      0.010146\n",
      "23        0.684288       0.005172       0.578332      0.010336\n",
      "24        0.684679       0.004978       0.578925      0.010186\n",
      "25        0.686291       0.005347       0.579949      0.010887\n",
      "26        0.686285       0.005186       0.578962      0.011018\n",
      "27        0.686839       0.004584       0.578990      0.011068\n",
      "28        0.687310       0.004687       0.579062      0.010706\n",
      "29        0.688073       0.004184       0.578774      0.011275\n",
      "30        0.688113       0.004250       0.578481      0.010772\n",
      "31        0.689236       0.003716       0.578844      0.010693\n",
      "32        0.689310       0.003882       0.579518      0.010678\n",
      "33        0.689860       0.004064       0.579654      0.010419\n",
      "34        0.690436       0.004140       0.579828      0.010262\n",
      "35        0.690669       0.004032       0.580816      0.010065\n",
      "36        0.691583       0.004276       0.580070      0.010186\n",
      "37        0.691585       0.004156       0.580193      0.010146\n",
      "38        0.691727       0.004256       0.580544      0.009486\n",
      "39        0.691794       0.004636       0.580040      0.009707\n",
      "40        0.691708       0.004469       0.580381      0.009478\n",
      "41        0.692332       0.004523       0.580402      0.009483\n",
      "42        0.692730       0.004610       0.580431      0.009398\n",
      "43        0.693420       0.004824       0.580404      0.009298\n",
      "44        0.693854       0.004930       0.580697      0.009196\n",
      "45        0.694027       0.004871       0.580872      0.009285\n",
      "46        0.694601       0.005056       0.580740      0.009121\n",
      "47        0.695486       0.004620       0.580752      0.009042\n",
      "48        0.696106       0.004935       0.580869      0.009014\n",
      "49        0.696461       0.004840       0.580857      0.009340\n",
      "50        0.696632       0.004747       0.580985      0.009412\n",
      "51        0.697061       0.004429       0.580752      0.009397\n",
      "52        0.697291       0.004358       0.580934      0.009675\n",
      "53        0.697546       0.004093       0.581009      0.009371\n"
     ]
    }
   ],
   "source": [
    "selected_vars = [   'age',\n",
    "                    'gender',\n",
    "                    'ethnic',\n",
    "                    'marital',\n",
    "                    'education',\n",
    "                    'employment',\n",
    "                    'Neuroticism',\n",
    "                    'Extraversion',\n",
    "                    'Openness',\n",
    "                    'Agreeableness',\n",
    "                    'Conscientiousness',\n",
    "                    'cls']\n",
    "\n",
    "subset = records[selected_vars]\n",
    "\n",
    "X = subset.drop(['cls'], axis=1)\n",
    "y = subset['cls'].values == 'negative'\n",
    "\n",
    "d_X = xgboost.DMatrix(X, label=y)\n",
    "\n",
    "params = {\n",
    "    \"eta\": 0.01,\n",
    "    \"objective\": \"binary:logistic\",\n",
    "    \"subsample\": 0.5,\n",
    "    \"base_score\": np.mean(y),\n",
    "    \"eval_metric\": \"auc\"\n",
    "}\n",
    "\n",
    "# Perform cross-validation\n",
    "num_rounds = 10000\n",
    "num_folds = 5\n",
    "\n",
    "cv_results = cv(\n",
    "    params,\n",
    "    d_X,\n",
    "    num_boost_round=num_rounds,\n",
    "    nfold=num_folds,\n",
    "    early_stopping_rounds=200,\n",
    "    metrics='auc',\n",
    "    seed=42,\n",
    "    verbose_eval=True\n",
    ")\n",
    "\n",
    "# Print the cross-validation results\n",
    "print(cv_results)"
   ]
  },
  {
   "cell_type": "code",
   "execution_count": 135,
   "metadata": {},
   "outputs": [
    {
     "name": "stdout",
     "output_type": "stream",
     "text": [
      "[0]\ttest-auc:0.53718\n",
      "[100]\ttest-auc:0.57395\n",
      "[200]\ttest-auc:0.56545\n",
      "[295]\ttest-auc:0.56724\n"
     ]
    },
    {
     "name": "stderr",
     "output_type": "stream",
     "text": [
      "No data for colormapping provided via 'c'. Parameters 'vmin', 'vmax' will be ignored\n"
     ]
    },
    {
     "data": {
      "image/png": "[encoded data removed]",
      "text/plain": [
       "<Figure size 800x590 with 2 Axes>"
      ]
     },
     "metadata": {},
     "output_type": "display_data"
    }
   ],
   "source": [
    "X = subset.drop(['cls'], axis=1)\n",
    "y = subset['cls'].values == 'negative'\n",
    "\n",
    "\n",
    "# create a train/test split\n",
    "X_train, X_test, y_train, y_test = train_test_split(X, y, test_size=0.2, random_state=7)\n",
    "d_train = xgboost.DMatrix(X_train, label=y_train)\n",
    "d_test = xgboost.DMatrix(X_test, label=y_test)\n",
    "\n",
    "params = {\n",
    "    \"eta\": 0.01,\n",
    "    \"objective\": \"binary:logistic\",\n",
    "    \"subsample\": 0.5,\n",
    "    \"base_score\": np.mean(y_train),\n",
    "    \"eval_metric\": \"auc\"\n",
    "}\n",
    "model = xgboost.train(params, d_train, 10000, evals = [(d_test, \"test\")], verbose_eval=100, early_stopping_rounds=200)\n",
    "\n",
    "explainer = shap.TreeExplainer(model)\n",
    "shap_values = explainer.shap_values(X)\n",
    "\n",
    "shap.summary_plot(shap_values, X)"
   ]
  },
  {
   "cell_type": "code",
   "execution_count": 71,
   "metadata": {},
   "outputs": [
    {
     "data": {
      "text/html": [
       "<div>\n",
       "<style scoped>\n",
       "    .dataframe tbody tr th:only-of-type {\n",
       "        vertical-align: middle;\n",
       "    }\n",
       "\n",
       "    .dataframe tbody tr th {\n",
       "        vertical-align: top;\n",
       "    }\n",
       "\n",
       "    .dataframe thead th {\n",
       "        text-align: right;\n",
       "    }\n",
       "</style>\n",
       "<table border=\"1\" class=\"dataframe\">\n",
       "  <thead>\n",
       "    <tr style=\"text-align: right;\">\n",
       "      <th></th>\n",
       "      <th>record_id</th>\n",
       "      <th>wave_name</th>\n",
       "      <th>wave</th>\n",
       "      <th>date</th>\n",
       "      <th>week</th>\n",
       "      <th>covid</th>\n",
       "      <th>covidcontact</th>\n",
       "      <th>covidw</th>\n",
       "      <th>covidtest</th>\n",
       "      <th>covidwhen</th>\n",
       "      <th>...</th>\n",
       "      <th>lifeevent6_2022</th>\n",
       "      <th>lifeevent7_2022</th>\n",
       "      <th>lifeevent8_2022</th>\n",
       "      <th>lifeevent9_2022</th>\n",
       "      <th>lifeevent10_2022</th>\n",
       "      <th>lifeevent11_2022</th>\n",
       "      <th>lifeevent12_2022</th>\n",
       "      <th>pd_datetime</th>\n",
       "      <th>lockdown</th>\n",
       "      <th>depression</th>\n",
       "    </tr>\n",
       "  </thead>\n",
       "  <tbody>\n",
       "    <tr>\n",
       "      <th>7</th>\n",
       "      <td>3</td>\n",
       "      <td>week_1</td>\n",
       "      <td>1</td>\n",
       "      <td>4/23/2020</td>\n",
       "      <td>5</td>\n",
       "      <td>4</td>\n",
       "      <td>1</td>\n",
       "      <td></td>\n",
       "      <td></td>\n",
       "      <td></td>\n",
       "      <td>...</td>\n",
       "      <td></td>\n",
       "      <td></td>\n",
       "      <td></td>\n",
       "      <td></td>\n",
       "      <td></td>\n",
       "      <td></td>\n",
       "      <td></td>\n",
       "      <td>2020-04-23</td>\n",
       "      <td>True</td>\n",
       "      <td>22.0</td>\n",
       "    </tr>\n",
       "    <tr>\n",
       "      <th>8</th>\n",
       "      <td>3</td>\n",
       "      <td>week_2</td>\n",
       "      <td>2</td>\n",
       "      <td>4/30/2020</td>\n",
       "      <td>6</td>\n",
       "      <td>4</td>\n",
       "      <td>3</td>\n",
       "      <td></td>\n",
       "      <td></td>\n",
       "      <td></td>\n",
       "      <td>...</td>\n",
       "      <td></td>\n",
       "      <td></td>\n",
       "      <td></td>\n",
       "      <td></td>\n",
       "      <td></td>\n",
       "      <td></td>\n",
       "      <td></td>\n",
       "      <td>2020-04-30</td>\n",
       "      <td>True</td>\n",
       "      <td>20.0</td>\n",
       "    </tr>\n",
       "    <tr>\n",
       "      <th>9</th>\n",
       "      <td>3</td>\n",
       "      <td>week_3</td>\n",
       "      <td>3</td>\n",
       "      <td>5/8/2020</td>\n",
       "      <td>7</td>\n",
       "      <td>4</td>\n",
       "      <td>3</td>\n",
       "      <td></td>\n",
       "      <td></td>\n",
       "      <td></td>\n",
       "      <td>...</td>\n",
       "      <td></td>\n",
       "      <td></td>\n",
       "      <td></td>\n",
       "      <td></td>\n",
       "      <td></td>\n",
       "      <td></td>\n",
       "      <td></td>\n",
       "      <td>2020-05-08</td>\n",
       "      <td>True</td>\n",
       "      <td>20.0</td>\n",
       "    </tr>\n",
       "    <tr>\n",
       "      <th>10</th>\n",
       "      <td>3</td>\n",
       "      <td>week_4</td>\n",
       "      <td>4</td>\n",
       "      <td>5/19/2020</td>\n",
       "      <td>9</td>\n",
       "      <td>4</td>\n",
       "      <td>3</td>\n",
       "      <td></td>\n",
       "      <td></td>\n",
       "      <td></td>\n",
       "      <td>...</td>\n",
       "      <td></td>\n",
       "      <td></td>\n",
       "      <td></td>\n",
       "      <td></td>\n",
       "      <td></td>\n",
       "      <td></td>\n",
       "      <td></td>\n",
       "      <td>2020-05-19</td>\n",
       "      <td>False</td>\n",
       "      <td>15.0</td>\n",
       "    </tr>\n",
       "    <tr>\n",
       "      <th>11</th>\n",
       "      <td>3</td>\n",
       "      <td>week_5</td>\n",
       "      <td>5</td>\n",
       "      <td>5/26/2020</td>\n",
       "      <td>10</td>\n",
       "      <td>4</td>\n",
       "      <td>1</td>\n",
       "      <td></td>\n",
       "      <td></td>\n",
       "      <td></td>\n",
       "      <td>...</td>\n",
       "      <td></td>\n",
       "      <td></td>\n",
       "      <td></td>\n",
       "      <td></td>\n",
       "      <td></td>\n",
       "      <td></td>\n",
       "      <td></td>\n",
       "      <td>2020-05-26</td>\n",
       "      <td>False</td>\n",
       "      <td>10.0</td>\n",
       "    </tr>\n",
       "  </tbody>\n",
       "</table>\n",
       "<p>5 rows × 897 columns</p>\n",
       "</div>"
      ],
      "text/plain": [
       "    record_id wave_name  wave       date week covid covidcontact covidw  \\\n",
       "7           3    week_1     1  4/23/2020    5     4            1          \n",
       "8           3    week_2     2  4/30/2020    6     4            3          \n",
       "9           3    week_3     3   5/8/2020    7     4            3          \n",
       "10          3    week_4     4  5/19/2020    9     4            3          \n",
       "11          3    week_5     5  5/26/2020   10     4            1          \n",
       "\n",
       "   covidtest covidwhen  ... lifeevent6_2022 lifeevent7_2022 lifeevent8_2022  \\\n",
       "7                       ...                                                   \n",
       "8                       ...                                                   \n",
       "9                       ...                                                   \n",
       "10                      ...                                                   \n",
       "11                      ...                                                   \n",
       "\n",
       "   lifeevent9_2022 lifeevent10_2022 lifeevent11_2022 lifeevent12_2022  \\\n",
       "7                                                                       \n",
       "8                                                                       \n",
       "9                                                                       \n",
       "10                                                                      \n",
       "11                                                                      \n",
       "\n",
       "   pd_datetime lockdown depression  \n",
       "7   2020-04-23     True       22.0  \n",
       "8   2020-04-30     True       20.0  \n",
       "9   2020-05-08     True       20.0  \n",
       "10  2020-05-19    False       15.0  \n",
       "11  2020-05-26    False       10.0  \n",
       "\n",
       "[5 rows x 897 columns]"
      ]
     },
     "execution_count": 71,
     "metadata": {},
     "output_type": "execute_result"
    }
   ],
   "source": [
    "subset.loc[subset['record_id']==3]"
   ]
  },
  {
   "cell_type": "code",
   "execution_count": null,
   "metadata": {},
   "outputs": [],
   "source": []
  }
 ],
 "metadata": {
  "kernelspec": {
   "display_name": "Python 3",
   "language": "python",
   "name": "python3"
  },
  "language_info": {
   "codemirror_mode": {
    "name": "ipython",
    "version": 3
   },
   "file_extension": ".py",
   "mimetype": "text/x-python",
   "name": "python",
   "nbconvert_exporter": "python",
   "pygments_lexer": "ipython3",
   "version": "3.8.0"
  },
  "orig_nbformat": 4
 },
 "nbformat": 4,
 "nbformat_minor": 2
}
