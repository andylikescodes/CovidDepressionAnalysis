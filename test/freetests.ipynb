{
 "cells": [
  {
   "cell_type": "code",
   "execution_count": 2,
   "metadata": {},
   "outputs": [],
   "source": [
    "using Revise\n",
    "push!(LOAD_PATH, \"../src\") \n",
    "using DataFrames\n",
    "using CovidDepressionAnalysis\n",
    "using CSV"
   ]
  },
  {
   "cell_type": "code",
   "execution_count": 3,
   "metadata": {},
   "outputs": [
    {
     "data": {
      "text/html": [
       "<div class=\"data-frame\"><p>18,493 rows × 793 columns (omitted printing of 787 columns)</p><table class=\"data-frame\"><thead><tr><th></th><th>Column1</th><th>PROLIFIC_PID</th><th>wave</th><th>Fear_COVID_raw</th><th>Disgust_COVID_raw</th><th>DISG1.1_20</th></tr><tr><th></th><th title=\"Int64\">Int64</th><th title=\"String31\">String31</th><th title=\"Int64\">Int64</th><th title=\"Int64\">Int64</th><th title=\"Int64\">Int64</th><th title=\"Float64\">Float64</th></tr></thead><tbody><tr><th>1</th><td>0</td><td>5df82e8739bcde5dd044f741</td><td>1</td><td>8</td><td>11</td><td>1.0</td></tr><tr><th>2</th><td>1</td><td>5df82e8739bcde5dd044f741</td><td>2</td><td>7</td><td>12</td><td>1.0</td></tr><tr><th>3</th><td>2</td><td>5df82e8739bcde5dd044f741</td><td>3</td><td>13</td><td>12</td><td>1.0</td></tr><tr><th>4</th><td>3</td><td>5c7e91c1973c990016ea72b0</td><td>1</td><td>24</td><td>27</td><td>5.0</td></tr><tr><th>5</th><td>4</td><td>5c7e91c1973c990016ea72b0</td><td>2</td><td>25</td><td>26</td><td>5.0</td></tr><tr><th>6</th><td>5</td><td>5c7e91c1973c990016ea72b0</td><td>3</td><td>23</td><td>32</td><td>5.0</td></tr><tr><th>7</th><td>6</td><td>5c7e91c1973c990016ea72b0</td><td>4</td><td>21</td><td>29</td><td>4.0</td></tr><tr><th>8</th><td>7</td><td>5c7e91c1973c990016ea72b0</td><td>5</td><td>20</td><td>27</td><td>5.0</td></tr><tr><th>9</th><td>8</td><td>5c7e91c1973c990016ea72b0</td><td>6</td><td>21</td><td>29</td><td>5.0</td></tr><tr><th>10</th><td>9</td><td>5c7e91c1973c990016ea72b0</td><td>7</td><td>21</td><td>27</td><td>5.0</td></tr><tr><th>11</th><td>10</td><td>5c7e91c1973c990016ea72b0</td><td>8</td><td>19</td><td>26</td><td>5.0</td></tr><tr><th>12</th><td>11</td><td>5c7e91c1973c990016ea72b0</td><td>9</td><td>20</td><td>27</td><td>5.0</td></tr><tr><th>13</th><td>12</td><td>5c7e91c1973c990016ea72b0</td><td>10</td><td>21</td><td>31</td><td>5.0</td></tr><tr><th>14</th><td>13</td><td>5c7e91c1973c990016ea72b0</td><td>11</td><td>21</td><td>30</td><td>5.0</td></tr><tr><th>15</th><td>14</td><td>5c7e91c1973c990016ea72b0</td><td>12</td><td>21</td><td>29</td><td>5.0</td></tr><tr><th>16</th><td>15</td><td>5c7e91c1973c990016ea72b0</td><td>13</td><td>21</td><td>28</td><td>5.0</td></tr><tr><th>17</th><td>16</td><td>5c7e91c1973c990016ea72b0</td><td>14</td><td>21</td><td>26</td><td>5.0</td></tr><tr><th>18</th><td>17</td><td>5c7e91c1973c990016ea72b0</td><td>15</td><td>20</td><td>30</td><td>5.0</td></tr><tr><th>19</th><td>18</td><td>5c7e91c1973c990016ea72b0</td><td>16</td><td>22</td><td>30</td><td>5.0</td></tr><tr><th>20</th><td>19</td><td>5e67052c757e6149c38ce468</td><td>1</td><td>18</td><td>13</td><td>5.0</td></tr><tr><th>21</th><td>20</td><td>5e67052c757e6149c38ce468</td><td>2</td><td>14</td><td>14</td><td>5.0</td></tr><tr><th>22</th><td>21</td><td>5e67052c757e6149c38ce468</td><td>3</td><td>18</td><td>16</td><td>5.0</td></tr><tr><th>23</th><td>22</td><td>5e67052c757e6149c38ce468</td><td>4</td><td>13</td><td>15</td><td>5.0</td></tr><tr><th>24</th><td>23</td><td>5e67052c757e6149c38ce468</td><td>5</td><td>15</td><td>18</td><td>5.0</td></tr><tr><th>&vellip;</th><td>&vellip;</td><td>&vellip;</td><td>&vellip;</td><td>&vellip;</td><td>&vellip;</td><td>&vellip;</td></tr></tbody></table></div>"
      ],
      "text/latex": [
       "\\begin{tabular}{r|ccccccc}\n",
       "\t& Column1 & PROLIFIC\\_PID & wave & Fear\\_COVID\\_raw & Disgust\\_COVID\\_raw & DISG1.1\\_20 & \\\\\n",
       "\t\\hline\n",
       "\t& Int64 & String31 & Int64 & Int64 & Int64 & Float64 & \\\\\n",
       "\t\\hline\n",
       "\t1 & 0 & 5df82e8739bcde5dd044f741 & 1 & 8 & 11 & 1.0 & $\\dots$ \\\\\n",
       "\t2 & 1 & 5df82e8739bcde5dd044f741 & 2 & 7 & 12 & 1.0 & $\\dots$ \\\\\n",
       "\t3 & 2 & 5df82e8739bcde5dd044f741 & 3 & 13 & 12 & 1.0 & $\\dots$ \\\\\n",
       "\t4 & 3 & 5c7e91c1973c990016ea72b0 & 1 & 24 & 27 & 5.0 & $\\dots$ \\\\\n",
       "\t5 & 4 & 5c7e91c1973c990016ea72b0 & 2 & 25 & 26 & 5.0 & $\\dots$ \\\\\n",
       "\t6 & 5 & 5c7e91c1973c990016ea72b0 & 3 & 23 & 32 & 5.0 & $\\dots$ \\\\\n",
       "\t7 & 6 & 5c7e91c1973c990016ea72b0 & 4 & 21 & 29 & 4.0 & $\\dots$ \\\\\n",
       "\t8 & 7 & 5c7e91c1973c990016ea72b0 & 5 & 20 & 27 & 5.0 & $\\dots$ \\\\\n",
       "\t9 & 8 & 5c7e91c1973c990016ea72b0 & 6 & 21 & 29 & 5.0 & $\\dots$ \\\\\n",
       "\t10 & 9 & 5c7e91c1973c990016ea72b0 & 7 & 21 & 27 & 5.0 & $\\dots$ \\\\\n",
       "\t11 & 10 & 5c7e91c1973c990016ea72b0 & 8 & 19 & 26 & 5.0 & $\\dots$ \\\\\n",
       "\t12 & 11 & 5c7e91c1973c990016ea72b0 & 9 & 20 & 27 & 5.0 & $\\dots$ \\\\\n",
       "\t13 & 12 & 5c7e91c1973c990016ea72b0 & 10 & 21 & 31 & 5.0 & $\\dots$ \\\\\n",
       "\t14 & 13 & 5c7e91c1973c990016ea72b0 & 11 & 21 & 30 & 5.0 & $\\dots$ \\\\\n",
       "\t15 & 14 & 5c7e91c1973c990016ea72b0 & 12 & 21 & 29 & 5.0 & $\\dots$ \\\\\n",
       "\t16 & 15 & 5c7e91c1973c990016ea72b0 & 13 & 21 & 28 & 5.0 & $\\dots$ \\\\\n",
       "\t17 & 16 & 5c7e91c1973c990016ea72b0 & 14 & 21 & 26 & 5.0 & $\\dots$ \\\\\n",
       "\t18 & 17 & 5c7e91c1973c990016ea72b0 & 15 & 20 & 30 & 5.0 & $\\dots$ \\\\\n",
       "\t19 & 18 & 5c7e91c1973c990016ea72b0 & 16 & 22 & 30 & 5.0 & $\\dots$ \\\\\n",
       "\t20 & 19 & 5e67052c757e6149c38ce468 & 1 & 18 & 13 & 5.0 & $\\dots$ \\\\\n",
       "\t21 & 20 & 5e67052c757e6149c38ce468 & 2 & 14 & 14 & 5.0 & $\\dots$ \\\\\n",
       "\t22 & 21 & 5e67052c757e6149c38ce468 & 3 & 18 & 16 & 5.0 & $\\dots$ \\\\\n",
       "\t23 & 22 & 5e67052c757e6149c38ce468 & 4 & 13 & 15 & 5.0 & $\\dots$ \\\\\n",
       "\t24 & 23 & 5e67052c757e6149c38ce468 & 5 & 15 & 18 & 5.0 & $\\dots$ \\\\\n",
       "\t$\\dots$ & $\\dots$ & $\\dots$ & $\\dots$ & $\\dots$ & $\\dots$ & $\\dots$ &  \\\\\n",
       "\\end{tabular}\n"
      ],
      "text/plain": [
       "\u001b[1m18493×793 DataFrame\u001b[0m\n",
       "\u001b[1m   Row \u001b[0m│\u001b[1m Column1 \u001b[0m\u001b[1m PROLIFIC_PID             \u001b[0m\u001b[1m wave  \u001b[0m\u001b[1m Fear_COVID_raw \u001b[0m\u001b[1m Disgust_COV\u001b[0m ⋯\n",
       "\u001b[1m       \u001b[0m│\u001b[90m Int64   \u001b[0m\u001b[90m String31                 \u001b[0m\u001b[90m Int64 \u001b[0m\u001b[90m Int64          \u001b[0m\u001b[90m Int64      \u001b[0m ⋯\n",
       "───────┼────────────────────────────────────────────────────────────────────────\n",
       "     1 │       0  5df82e8739bcde5dd044f741      1               8              ⋯\n",
       "     2 │       1  5df82e8739bcde5dd044f741      2               7\n",
       "     3 │       2  5df82e8739bcde5dd044f741      3              13\n",
       "     4 │       3  5c7e91c1973c990016ea72b0      1              24\n",
       "     5 │       4  5c7e91c1973c990016ea72b0      2              25              ⋯\n",
       "     6 │       5  5c7e91c1973c990016ea72b0      3              23\n",
       "     7 │       6  5c7e91c1973c990016ea72b0      4              21\n",
       "     8 │       7  5c7e91c1973c990016ea72b0      5              20\n",
       "   ⋮   │    ⋮                ⋮                ⋮          ⋮                 ⋮   ⋱\n",
       " 18487 │   18486  58cefdb030c4cf0001ceb3ac     10               8              ⋯\n",
       " 18488 │   18487  58cefdb030c4cf0001ceb3ac     11              15\n",
       " 18489 │   18488  58cefdb030c4cf0001ceb3ac     12              16\n",
       " 18490 │   18489  58cefdb030c4cf0001ceb3ac     13              17\n",
       " 18491 │   18490  58cefdb030c4cf0001ceb3ac     14              15              ⋯\n",
       " 18492 │   18491  58cefdb030c4cf0001ceb3ac     15              16\n",
       " 18493 │   18492  58cefdb030c4cf0001ceb3ac     16              16\n",
       "\u001b[36m                                              789 columns and 18478 rows omitted\u001b[0m"
      ]
     },
     "metadata": {},
     "output_type": "display_data"
    }
   ],
   "source": [
    "# Load Data\n",
    "data = CSV.read(\"../data/data_all_impute.csv\", DataFrame)"
   ]
  },
  {
   "cell_type": "code",
   "execution_count": null,
   "metadata": {},
   "outputs": [],
   "source": [
    "data[!, \"slope_new_cases\"]"
   ]
  },
  {
   "cell_type": "code",
   "execution_count": 4,
   "metadata": {},
   "outputs": [
    {
     "data": {
      "text/plain": [
       "21-element Vector{String}:\n",
       " \"PROLIFIC_PID\"\n",
       " \"Sex\"\n",
       " \"Education\"\n",
       " \"Income_HH\"\n",
       " \"DemM7_KNN\"\n",
       " \"BDI_total_raw\"\n",
       " \"PSS_Total\"\n",
       " \"STAI_State_raw\"\n",
       " \"Fear_COVID_raw_KNN\"\n",
       " \"NIH_TB_Emot_Support_raw_total_KNN\"\n",
       " ⋮\n",
       " \"slope_new_deaths\"\n",
       " \"GatheringStrictness_KNN\"\n",
       " \"Mandatory_business_closure\"\n",
       " \"Mandatory_PPE_masks\"\n",
       " \"more_than_1_attQ_failed\"\n",
       " \"string_outlier_core\"\n",
       " \"response_consistency\"\n",
       " \"wave\"\n",
       " \"RW1_8\""
      ]
     },
     "metadata": {},
     "output_type": "display_data"
    }
   ],
   "source": [
    "# Process Meta data\n",
    "# Set view columns\n",
    "ENV[\"COLUMNS\"] = 200\n",
    "# Variables selected\n",
    "selected_variables = [DEMOGRAPHICS; PSYCHOLOGICAL; EXTERNAL; QUALITY; EXTRAS]"
   ]
  },
  {
   "cell_type": "code",
   "execution_count": 6,
   "metadata": {},
   "outputs": [
    {
     "data": {
      "text/html": [
       "<div class=\"data-frame\"><p>1,178 rows × 21 columns (omitted printing of 7 columns)</p><table class=\"data-frame\"><thead><tr><th></th><th>PROLIFIC_PID</th><th>Gender</th><th>Education</th><th>Income</th><th>Political_Views</th><th>Depression</th><th>Stress</th><th>Anxiety</th><th>Fear_COVID</th><th>Emotional_Support</th><th>Loneliness</th><th>slope_new_cases</th><th>slope_new_deaths</th><th>GatheringStrictness</th></tr><tr><th></th><th title=\"String31\">String31</th><th title=\"Float64\">Float64</th><th title=\"Float64\">Float64</th><th title=\"Float64\">Float64</th><th title=\"Float64\">Float64</th><th title=\"Union{Missing, Int64}\">Int64?</th><th title=\"Union{Missing, Int64}\">Int64?</th><th title=\"Int64\">Int64</th><th title=\"Float64\">Float64</th><th title=\"Float64\">Float64</th><th title=\"Float64\">Float64</th><th title=\"Float64\">Float64</th><th title=\"Float64\">Float64</th><th title=\"Float64\">Float64</th></tr></thead><tbody><tr><th>1</th><td>5c7e91c1973c990016ea72b0</td><td>2.0</td><td>5.0</td><td>1.0</td><td>1.0</td><td>16</td><td>29</td><td>40</td><td>21.0</td><td>40.0</td><td>8.0</td><td>13.7143</td><td>2.28571</td><td>1.0</td></tr><tr><th>2</th><td>5e67052c757e6149c38ce468</td><td>1.0</td><td>1.0</td><td>1.0</td><td>4.0</td><td>51</td><td>22</td><td>71</td><td>14.0</td><td>9.0</td><td>25.0</td><td>13.7143</td><td>2.28571</td><td>1.0</td></tr><tr><th>3</th><td>5d89106d1719af0001ee23e5</td><td>2.0</td><td>2.0</td><td>1.0</td><td>6.0</td><td>0</td><td>6</td><td>29</td><td>0.0</td><td>40.0</td><td>5.0</td><td>13.7143</td><td>2.28571</td><td>1.0</td></tr><tr><th>4</th><td>5d6394518df2870001a74b42</td><td>2.0</td><td>2.0</td><td>1.0</td><td>1.0</td><td>53</td><td>35</td><td>48</td><td>17.0</td><td>40.0</td><td>13.0</td><td>13.7143</td><td>2.28571</td><td>1.0</td></tr><tr><th>5</th><td>5bdd368719b9ba000157fb12</td><td>2.0</td><td>3.0</td><td>1.0</td><td>4.0</td><td>8</td><td>3</td><td>33</td><td>12.0</td><td>40.0</td><td>5.0</td><td>13.7143</td><td>2.28571</td><td>1.0</td></tr><tr><th>6</th><td>5a8ce265000dab00018ce084</td><td>2.0</td><td>4.0</td><td>6.0</td><td>3.0</td><td>11</td><td>16</td><td>25</td><td>1.0</td><td>35.0</td><td>12.0</td><td>13.7143</td><td>2.28571</td><td>1.0</td></tr><tr><th>7</th><td>5c72efa770d5a200018028f1</td><td>1.0</td><td>5.0</td><td>2.0</td><td>3.0</td><td>1</td><td>3</td><td>25</td><td>13.0</td><td>39.0</td><td>5.0</td><td>13.7143</td><td>2.28571</td><td>1.0</td></tr><tr><th>8</th><td>5aea962d0ef2f20001858c9c</td><td>1.0</td><td>2.0</td><td>1.0</td><td>2.0</td><td>28</td><td>32</td><td>58</td><td>11.0</td><td>19.0</td><td>14.0</td><td>13.7143</td><td>2.28571</td><td>1.0</td></tr><tr><th>9</th><td>5e4b793f03c92a08a6d28e3f</td><td>1.0</td><td>2.0</td><td>1.0</td><td>4.0</td><td>22</td><td>20</td><td>49</td><td>5.0</td><td>16.0</td><td>15.0</td><td>13.7143</td><td>2.28571</td><td>1.0</td></tr><tr><th>10</th><td>5cbc071f2edc3b00018ab097</td><td>1.0</td><td>7.0</td><td>1.0</td><td>3.0</td><td>13</td><td>15</td><td>45</td><td>17.0</td><td>24.0</td><td>10.0</td><td>13.7143</td><td>2.28571</td><td>1.0</td></tr><tr><th>11</th><td>5c1b06d9a329230001ecc39c</td><td>1.0</td><td>2.0</td><td>1.0</td><td>2.0</td><td>3</td><td>14</td><td>39</td><td>9.0</td><td>17.0</td><td>10.0</td><td>13.7143</td><td>2.28571</td><td>1.0</td></tr><tr><th>12</th><td>5e576e085069e61204a85872</td><td>1.0</td><td>2.0</td><td>1.0</td><td>4.0</td><td>5</td><td>14</td><td>48</td><td>24.0</td><td>24.0</td><td>15.0</td><td>13.7143</td><td>2.28571</td><td>1.0</td></tr><tr><th>13</th><td>5dcf50f05686c1099819882a</td><td>1.0</td><td>6.0</td><td>3.0</td><td>1.0</td><td>25</td><td>20</td><td>46</td><td>17.0</td><td>32.0</td><td>13.0</td><td>13.7143</td><td>2.28571</td><td>1.0</td></tr><tr><th>14</th><td>5d2d8b999c6703001525304f</td><td>1.0</td><td>2.0</td><td>1.0</td><td>7.0</td><td>27</td><td>26</td><td>29</td><td>14.0</td><td>8.0</td><td>25.0</td><td>13.7143</td><td>2.28571</td><td>1.0</td></tr><tr><th>15</th><td>5de8bc74553cee8280a7dd84</td><td>1.0</td><td>5.0</td><td>1.0</td><td>2.0</td><td>1</td><td>12</td><td>37</td><td>3.0</td><td>29.0</td><td>14.0</td><td>13.7143</td><td>2.28571</td><td>1.0</td></tr><tr><th>16</th><td>5b6a87d2cda8590001db8e07</td><td>1.0</td><td>5.0</td><td>1.0</td><td>1.0</td><td>14</td><td>16</td><td>62</td><td>14.0</td><td>28.0</td><td>14.0</td><td>13.7143</td><td>2.28571</td><td>1.0</td></tr><tr><th>17</th><td>5e3dff6b8714b707b9a258b0</td><td>1.0</td><td>5.0</td><td>1.0</td><td>2.0</td><td>26</td><td>21</td><td>56</td><td>12.0</td><td>24.0</td><td>19.0</td><td>13.7143</td><td>2.28571</td><td>1.0</td></tr><tr><th>18</th><td>5b05e0d131cebe000177c38e</td><td>1.0</td><td>2.0</td><td>1.0</td><td>5.0</td><td>40</td><td>26</td><td>66</td><td>20.0</td><td>18.0</td><td>15.0</td><td>13.7143</td><td>2.28571</td><td>1.0</td></tr><tr><th>19</th><td>5d3b79a59d5c14000140c32f</td><td>2.0</td><td>5.0</td><td>1.0</td><td>2.0</td><td>5</td><td>13</td><td>36</td><td>10.0</td><td>27.0</td><td>7.0</td><td>13.7143</td><td>2.28571</td><td>1.0</td></tr><tr><th>20</th><td>5e53e22ea0002e3e73720f65</td><td>2.0</td><td>3.0</td><td>1.0</td><td>2.0</td><td>39</td><td>28</td><td>50</td><td>12.0</td><td>8.0</td><td>22.0</td><td>13.7143</td><td>2.28571</td><td>1.0</td></tr><tr><th>21</th><td>5e6fde86b3ea9e5bb33664e4</td><td>1.0</td><td>3.0</td><td>1.0</td><td>3.0</td><td>4</td><td>7</td><td>28</td><td>9.0</td><td>35.0</td><td>14.0</td><td>13.7143</td><td>2.28571</td><td>1.0</td></tr><tr><th>22</th><td>5e65dca1d639df34800674a8</td><td>2.0</td><td>2.0</td><td>1.0</td><td>2.0</td><td>5</td><td>12</td><td>34</td><td>16.0</td><td>40.0</td><td>10.0</td><td>13.7143</td><td>2.28571</td><td>1.0</td></tr><tr><th>23</th><td>5de0b69ba91be311cb773b0b</td><td>1.0</td><td>2.0</td><td>1.0</td><td>2.0</td><td>5</td><td>16</td><td>38</td><td>8.0</td><td>8.0</td><td>14.0</td><td>13.7143</td><td>2.28571</td><td>1.0</td></tr><tr><th>24</th><td>5e05b7747dd477fc2d2d2857</td><td>1.0</td><td>5.0</td><td>4.0</td><td>7.0</td><td>0</td><td>7</td><td>25</td><td>10.0</td><td>38.0</td><td>5.0</td><td>13.7143</td><td>2.28571</td><td>1.0</td></tr><tr><th>&vellip;</th><td>&vellip;</td><td>&vellip;</td><td>&vellip;</td><td>&vellip;</td><td>&vellip;</td><td>&vellip;</td><td>&vellip;</td><td>&vellip;</td><td>&vellip;</td><td>&vellip;</td><td>&vellip;</td><td>&vellip;</td><td>&vellip;</td><td>&vellip;</td></tr></tbody></table></div>"
      ],
      "text/latex": [
       "\\begin{tabular}{r|ccccccccccccccc}\n",
       "\t& PROLIFIC\\_PID & Gender & Education & Income & Political\\_Views & Depression & Stress & Anxiety & Fear\\_COVID & Emotional\\_Support & Loneliness & slope\\_new\\_cases & slope\\_new\\_deaths & GatheringStrictness & \\\\\n",
       "\t\\hline\n",
       "\t& String31 & Float64 & Float64 & Float64 & Float64 & Int64? & Int64? & Int64 & Float64 & Float64 & Float64 & Float64 & Float64 & Float64 & \\\\\n",
       "\t\\hline\n",
       "\t1 & 5c7e91c1973c990016ea72b0 & 2.0 & 5.0 & 1.0 & 1.0 & 16 & 29 & 40 & 21.0 & 40.0 & 8.0 & 13.7143 & 2.28571 & 1.0 & $\\dots$ \\\\\n",
       "\t2 & 5e67052c757e6149c38ce468 & 1.0 & 1.0 & 1.0 & 4.0 & 51 & 22 & 71 & 14.0 & 9.0 & 25.0 & 13.7143 & 2.28571 & 1.0 & $\\dots$ \\\\\n",
       "\t3 & 5d89106d1719af0001ee23e5 & 2.0 & 2.0 & 1.0 & 6.0 & 0 & 6 & 29 & 0.0 & 40.0 & 5.0 & 13.7143 & 2.28571 & 1.0 & $\\dots$ \\\\\n",
       "\t4 & 5d6394518df2870001a74b42 & 2.0 & 2.0 & 1.0 & 1.0 & 53 & 35 & 48 & 17.0 & 40.0 & 13.0 & 13.7143 & 2.28571 & 1.0 & $\\dots$ \\\\\n",
       "\t5 & 5bdd368719b9ba000157fb12 & 2.0 & 3.0 & 1.0 & 4.0 & 8 & 3 & 33 & 12.0 & 40.0 & 5.0 & 13.7143 & 2.28571 & 1.0 & $\\dots$ \\\\\n",
       "\t6 & 5a8ce265000dab00018ce084 & 2.0 & 4.0 & 6.0 & 3.0 & 11 & 16 & 25 & 1.0 & 35.0 & 12.0 & 13.7143 & 2.28571 & 1.0 & $\\dots$ \\\\\n",
       "\t7 & 5c72efa770d5a200018028f1 & 1.0 & 5.0 & 2.0 & 3.0 & 1 & 3 & 25 & 13.0 & 39.0 & 5.0 & 13.7143 & 2.28571 & 1.0 & $\\dots$ \\\\\n",
       "\t8 & 5aea962d0ef2f20001858c9c & 1.0 & 2.0 & 1.0 & 2.0 & 28 & 32 & 58 & 11.0 & 19.0 & 14.0 & 13.7143 & 2.28571 & 1.0 & $\\dots$ \\\\\n",
       "\t9 & 5e4b793f03c92a08a6d28e3f & 1.0 & 2.0 & 1.0 & 4.0 & 22 & 20 & 49 & 5.0 & 16.0 & 15.0 & 13.7143 & 2.28571 & 1.0 & $\\dots$ \\\\\n",
       "\t10 & 5cbc071f2edc3b00018ab097 & 1.0 & 7.0 & 1.0 & 3.0 & 13 & 15 & 45 & 17.0 & 24.0 & 10.0 & 13.7143 & 2.28571 & 1.0 & $\\dots$ \\\\\n",
       "\t11 & 5c1b06d9a329230001ecc39c & 1.0 & 2.0 & 1.0 & 2.0 & 3 & 14 & 39 & 9.0 & 17.0 & 10.0 & 13.7143 & 2.28571 & 1.0 & $\\dots$ \\\\\n",
       "\t12 & 5e576e085069e61204a85872 & 1.0 & 2.0 & 1.0 & 4.0 & 5 & 14 & 48 & 24.0 & 24.0 & 15.0 & 13.7143 & 2.28571 & 1.0 & $\\dots$ \\\\\n",
       "\t13 & 5dcf50f05686c1099819882a & 1.0 & 6.0 & 3.0 & 1.0 & 25 & 20 & 46 & 17.0 & 32.0 & 13.0 & 13.7143 & 2.28571 & 1.0 & $\\dots$ \\\\\n",
       "\t14 & 5d2d8b999c6703001525304f & 1.0 & 2.0 & 1.0 & 7.0 & 27 & 26 & 29 & 14.0 & 8.0 & 25.0 & 13.7143 & 2.28571 & 1.0 & $\\dots$ \\\\\n",
       "\t15 & 5de8bc74553cee8280a7dd84 & 1.0 & 5.0 & 1.0 & 2.0 & 1 & 12 & 37 & 3.0 & 29.0 & 14.0 & 13.7143 & 2.28571 & 1.0 & $\\dots$ \\\\\n",
       "\t16 & 5b6a87d2cda8590001db8e07 & 1.0 & 5.0 & 1.0 & 1.0 & 14 & 16 & 62 & 14.0 & 28.0 & 14.0 & 13.7143 & 2.28571 & 1.0 & $\\dots$ \\\\\n",
       "\t17 & 5e3dff6b8714b707b9a258b0 & 1.0 & 5.0 & 1.0 & 2.0 & 26 & 21 & 56 & 12.0 & 24.0 & 19.0 & 13.7143 & 2.28571 & 1.0 & $\\dots$ \\\\\n",
       "\t18 & 5b05e0d131cebe000177c38e & 1.0 & 2.0 & 1.0 & 5.0 & 40 & 26 & 66 & 20.0 & 18.0 & 15.0 & 13.7143 & 2.28571 & 1.0 & $\\dots$ \\\\\n",
       "\t19 & 5d3b79a59d5c14000140c32f & 2.0 & 5.0 & 1.0 & 2.0 & 5 & 13 & 36 & 10.0 & 27.0 & 7.0 & 13.7143 & 2.28571 & 1.0 & $\\dots$ \\\\\n",
       "\t20 & 5e53e22ea0002e3e73720f65 & 2.0 & 3.0 & 1.0 & 2.0 & 39 & 28 & 50 & 12.0 & 8.0 & 22.0 & 13.7143 & 2.28571 & 1.0 & $\\dots$ \\\\\n",
       "\t21 & 5e6fde86b3ea9e5bb33664e4 & 1.0 & 3.0 & 1.0 & 3.0 & 4 & 7 & 28 & 9.0 & 35.0 & 14.0 & 13.7143 & 2.28571 & 1.0 & $\\dots$ \\\\\n",
       "\t22 & 5e65dca1d639df34800674a8 & 2.0 & 2.0 & 1.0 & 2.0 & 5 & 12 & 34 & 16.0 & 40.0 & 10.0 & 13.7143 & 2.28571 & 1.0 & $\\dots$ \\\\\n",
       "\t23 & 5de0b69ba91be311cb773b0b & 1.0 & 2.0 & 1.0 & 2.0 & 5 & 16 & 38 & 8.0 & 8.0 & 14.0 & 13.7143 & 2.28571 & 1.0 & $\\dots$ \\\\\n",
       "\t24 & 5e05b7747dd477fc2d2d2857 & 1.0 & 5.0 & 4.0 & 7.0 & 0 & 7 & 25 & 10.0 & 38.0 & 5.0 & 13.7143 & 2.28571 & 1.0 & $\\dots$ \\\\\n",
       "\t$\\dots$ & $\\dots$ & $\\dots$ & $\\dots$ & $\\dots$ & $\\dots$ & $\\dots$ & $\\dots$ & $\\dots$ & $\\dots$ & $\\dots$ & $\\dots$ & $\\dots$ & $\\dots$ & $\\dots$ &  \\\\\n",
       "\\end{tabular}\n"
      ],
      "text/plain": [
       "\u001b[1m1178×21 DataFrame\u001b[0m\n",
       "\u001b[1m  Row \u001b[0m│\u001b[1m PROLIFIC_PID             \u001b[0m\u001b[1m Gender  \u001b[0m\u001b[1m Education \u001b[0m\u001b[1m Income  \u001b[0m\u001b[1m Political_Views \u001b[0m\u001b[1m Depression \u001b[0m\u001b[1m Stress \u001b[0m\u001b[1m Anxiety \u001b[0m\u001b[1m Fear_COVID \u001b[0m\u001b[1m Emotional_Support \u001b[0m\u001b[1m Loneliness \u001b[0m\u001b[1m slope_new_cases \u001b[0m\u001b[1m slope_new_deaths \u001b[0m\u001b[1m GatheringSt\u001b[0m ⋯\n",
       "\u001b[1m      \u001b[0m│\u001b[90m String31                 \u001b[0m\u001b[90m Float64 \u001b[0m\u001b[90m Float64   \u001b[0m\u001b[90m Float64 \u001b[0m\u001b[90m Float64         \u001b[0m\u001b[90m Int64?     \u001b[0m\u001b[90m Int64? \u001b[0m\u001b[90m Int64   \u001b[0m\u001b[90m Float64    \u001b[0m\u001b[90m Float64           \u001b[0m\u001b[90m Float64    \u001b[0m\u001b[90m Float64         \u001b[0m\u001b[90m Float64          \u001b[0m\u001b[90m Float64    \u001b[0m ⋯\n",
       "──────┼─────────────────────────────────────────────────────────────────────────────────────────────────────────────────────────────────────────────────────────────────────────────────────────────────\n",
       "    1 │ 5c7e91c1973c990016ea72b0      2.0        5.0      1.0              1.0          16      29       40        21.0               40.0         8.0        13.7143             2.28571              ⋯\n",
       "    2 │ 5e67052c757e6149c38ce468      1.0        1.0      1.0              4.0          51      22       71        14.0                9.0        25.0        13.7143             2.28571\n",
       "    3 │ 5d89106d1719af0001ee23e5      2.0        2.0      1.0              6.0           0       6       29         0.0               40.0         5.0        13.7143             2.28571\n",
       "    4 │ 5d6394518df2870001a74b42      2.0        2.0      1.0              1.0          53      35       48        17.0               40.0        13.0        13.7143             2.28571\n",
       "    5 │ 5bdd368719b9ba000157fb12      2.0        3.0      1.0              4.0           8       3       33        12.0               40.0         5.0        13.7143             2.28571              ⋯\n",
       "    6 │ 5a8ce265000dab00018ce084      2.0        4.0      6.0              3.0          11      16       25         1.0               35.0        12.0        13.7143             2.28571\n",
       "    7 │ 5c72efa770d5a200018028f1      1.0        5.0      2.0              3.0           1       3       25        13.0               39.0         5.0        13.7143             2.28571\n",
       "    8 │ 5aea962d0ef2f20001858c9c      1.0        2.0      1.0              2.0          28      32       58        11.0               19.0        14.0        13.7143             2.28571\n",
       "  ⋮   │            ⋮                 ⋮         ⋮         ⋮            ⋮             ⋮         ⋮        ⋮         ⋮               ⋮              ⋮              ⋮                ⋮                   ⋮  ⋱\n",
       " 1172 │ 5cad4750f4115800176d506e      2.0        4.0      3.0              3.0          16      18       46        14.0               24.0         9.0         0.142857           0.0                  ⋯\n",
       " 1173 │ 5be8846293ca1f00014db03c      2.0        5.0      3.0              5.0           5      13       37        11.0               30.0        12.0         0.142857           0.0\n",
       " 1174 │ 5dbd1569f8223b28d73ed6ae      2.0        3.0      1.0              2.0           5      15       35         9.0               35.0         9.0         0.142857           0.0\n",
       " 1175 │ 5e217a34e8ff3a469b5dfebc      2.0        3.0      1.0              3.0          21      17       58        28.0               16.0        10.0         0.142857           0.0\n",
       " 1176 │ 5d63867550d0dd0017805976      1.0        3.0      3.0              1.0          21      21       48        17.0               39.0         9.0        -5.57143            0.0                  ⋯\n",
       " 1177 │ 5e6155e6f169c0046b6d6518      1.0        7.0      2.0              2.0           4      10       31         5.0               40.0         8.0        -2.14286            0.0\n",
       " 1178 │ 58cefdb030c4cf0001ceb3ac      2.0        5.0      4.0              2.0           0       5       30        18.0               32.0         6.0         5.71429            0.0\n",
       "\u001b[36m                                                                                                                                                                         8 columns and 1163 rows omitted\u001b[0m"
      ]
     },
     "metadata": {},
     "output_type": "display_data"
    }
   ],
   "source": [
    "w1 = rename!(extract_wave(data, 1, selected_variables), VARNAME_MAPPING)\n",
    "w6 = rename!(extract_wave(data, 6, selected_variables), VARNAME_MAPPING)"
   ]
  },
  {
   "cell_type": "code",
   "execution_count": 8,
   "metadata": {},
   "outputs": [
    {
     "data": {
      "text/html": [
       "<div class=\"data-frame\"><p>1,797 rows × 41 columns (omitted printing of 28 columns)</p><table class=\"data-frame\"><thead><tr><th></th><th>PROLIFIC_PID</th><th>Gender_w1</th><th>Education_w1</th><th>Income_w1</th><th>Political_Views_w1</th><th>Depression_w1</th><th>Stress_w1</th><th>Anxiety_w1</th><th>Fear_COVID_w1</th><th>Emotional_Support_w1</th><th>Loneliness_w1</th><th>slope_new_cases_w1</th><th>slope_new_deaths_w1</th></tr><tr><th></th><th title=\"String31\">String31</th><th title=\"Union{Missing, Float64}\">Float64?</th><th title=\"Union{Missing, Float64}\">Float64?</th><th title=\"Union{Missing, Float64}\">Float64?</th><th title=\"Union{Missing, Float64}\">Float64?</th><th title=\"Union{Missing, Int64}\">Int64?</th><th title=\"Union{Missing, Int64}\">Int64?</th><th title=\"Union{Missing, Int64}\">Int64?</th><th title=\"Union{Missing, Float64}\">Float64?</th><th title=\"Union{Missing, Float64}\">Float64?</th><th title=\"Union{Missing, Float64}\">Float64?</th><th title=\"Union{Missing, Float64}\">Float64?</th><th title=\"Union{Missing, Float64}\">Float64?</th></tr></thead><tbody><tr><th>1</th><td>5c7e91c1973c990016ea72b0</td><td>2.0</td><td>5.0</td><td>3.0</td><td>1.0</td><td><em>missing</em></td><td><em>missing</em></td><td>69</td><td>24.0</td><td>30.0</td><td>10.0</td><td>82.2857</td><td>3.28571</td></tr><tr><th>2</th><td>5e67052c757e6149c38ce468</td><td>1.0</td><td>1.0</td><td>1.0</td><td>4.0</td><td><em>missing</em></td><td><em>missing</em></td><td>57</td><td>18.0</td><td>14.0</td><td>25.0</td><td>82.2857</td><td>3.28571</td></tr><tr><th>3</th><td>5d89106d1719af0001ee23e5</td><td>2.0</td><td>2.0</td><td>1.0</td><td>6.0</td><td><em>missing</em></td><td><em>missing</em></td><td>27</td><td>8.0</td><td>40.0</td><td>5.0</td><td>82.2857</td><td>3.28571</td></tr><tr><th>4</th><td>5d6394518df2870001a74b42</td><td>2.0</td><td>2.0</td><td>1.0</td><td>1.0</td><td><em>missing</em></td><td><em>missing</em></td><td>42</td><td>23.0</td><td>40.0</td><td>16.0</td><td>82.2857</td><td>3.28571</td></tr><tr><th>5</th><td>5bdd368719b9ba000157fb12</td><td>2.0</td><td>3.0</td><td>4.0</td><td>4.0</td><td><em>missing</em></td><td><em>missing</em></td><td>29</td><td>10.0</td><td>40.0</td><td>5.0</td><td>82.2857</td><td>3.28571</td></tr><tr><th>6</th><td>5a8ce265000dab00018ce084</td><td>2.0</td><td>4.0</td><td>6.0</td><td>3.0</td><td><em>missing</em></td><td><em>missing</em></td><td>37</td><td>6.0</td><td>34.0</td><td>7.0</td><td>82.2857</td><td>3.28571</td></tr><tr><th>7</th><td>5c72efa770d5a200018028f1</td><td>1.0</td><td>5.0</td><td>2.0</td><td>3.0</td><td><em>missing</em></td><td><em>missing</em></td><td>27</td><td>9.0</td><td>39.0</td><td>5.0</td><td>82.2857</td><td>3.28571</td></tr><tr><th>8</th><td>5aea962d0ef2f20001858c9c</td><td>1.0</td><td>2.0</td><td>1.0</td><td>2.0</td><td><em>missing</em></td><td><em>missing</em></td><td>59</td><td>17.0</td><td>17.0</td><td>16.0</td><td>82.2857</td><td>3.28571</td></tr><tr><th>9</th><td>5e4b793f03c92a08a6d28e3f</td><td>1.0</td><td>2.0</td><td>7.0</td><td>4.0</td><td><em>missing</em></td><td><em>missing</em></td><td>42</td><td>4.0</td><td>18.0</td><td>11.0</td><td>82.2857</td><td>3.28571</td></tr><tr><th>10</th><td>5cbc071f2edc3b00018ab097</td><td>1.0</td><td>7.0</td><td>1.0</td><td>3.0</td><td><em>missing</em></td><td><em>missing</em></td><td>43</td><td>13.0</td><td>28.0</td><td>8.0</td><td>82.2857</td><td>3.28571</td></tr><tr><th>11</th><td>5c1b06d9a329230001ecc39c</td><td>1.0</td><td>2.0</td><td>1.0</td><td>2.0</td><td><em>missing</em></td><td><em>missing</em></td><td>42</td><td>10.0</td><td>18.0</td><td>8.0</td><td>82.2857</td><td>3.28571</td></tr><tr><th>12</th><td>5e576e085069e61204a85872</td><td>1.0</td><td>2.0</td><td>7.0</td><td>4.0</td><td><em>missing</em></td><td><em>missing</em></td><td>44</td><td>19.0</td><td>32.0</td><td>19.0</td><td>82.2857</td><td>3.28571</td></tr><tr><th>13</th><td>5dcf50f05686c1099819882a</td><td>1.0</td><td>6.0</td><td>3.0</td><td>1.0</td><td><em>missing</em></td><td><em>missing</em></td><td>41</td><td>19.0</td><td>32.0</td><td>17.0</td><td>82.2857</td><td>3.28571</td></tr><tr><th>14</th><td>5d2d8b999c6703001525304f</td><td>1.0</td><td>2.0</td><td>1.0</td><td>7.0</td><td><em>missing</em></td><td><em>missing</em></td><td>47</td><td>12.0</td><td>8.0</td><td>25.0</td><td>82.2857</td><td>3.28571</td></tr><tr><th>15</th><td>5de8bc74553cee8280a7dd84</td><td>1.0</td><td>5.0</td><td>1.0</td><td>2.0</td><td><em>missing</em></td><td><em>missing</em></td><td>36</td><td>8.0</td><td>27.0</td><td>13.0</td><td>82.2857</td><td>3.28571</td></tr><tr><th>16</th><td>5b6a87d2cda8590001db8e07</td><td>1.0</td><td>5.0</td><td>1.0</td><td>1.0</td><td><em>missing</em></td><td><em>missing</em></td><td>63</td><td>13.0</td><td>28.0</td><td>14.0</td><td>82.2857</td><td>3.28571</td></tr><tr><th>17</th><td>5e3dff6b8714b707b9a258b0</td><td>1.0</td><td>5.0</td><td>1.0</td><td>2.0</td><td><em>missing</em></td><td><em>missing</em></td><td>57</td><td>11.0</td><td>24.0</td><td>20.0</td><td>82.2857</td><td>3.28571</td></tr><tr><th>18</th><td>5b05e0d131cebe000177c38e</td><td>1.0</td><td>2.0</td><td>1.0</td><td>5.0</td><td><em>missing</em></td><td><em>missing</em></td><td>68</td><td>20.0</td><td>23.0</td><td>15.0</td><td>82.2857</td><td>3.28571</td></tr><tr><th>19</th><td>5d3b79a59d5c14000140c32f</td><td>2.0</td><td>5.0</td><td>4.0</td><td>2.0</td><td><em>missing</em></td><td><em>missing</em></td><td>44</td><td>8.0</td><td>32.0</td><td>6.0</td><td>82.2857</td><td>3.28571</td></tr><tr><th>20</th><td>5e53e22ea0002e3e73720f65</td><td>2.0</td><td>3.0</td><td>2.0</td><td>1.0</td><td><em>missing</em></td><td><em>missing</em></td><td>43</td><td>11.0</td><td>14.0</td><td>25.0</td><td>82.2857</td><td>3.28571</td></tr><tr><th>21</th><td>5e6fde86b3ea9e5bb33664e4</td><td>1.0</td><td>3.0</td><td>1.0</td><td>3.0</td><td><em>missing</em></td><td><em>missing</em></td><td>35</td><td>7.0</td><td>31.0</td><td>16.0</td><td>82.2857</td><td>3.28571</td></tr><tr><th>22</th><td>5e65dca1d639df34800674a8</td><td>2.0</td><td>2.0</td><td>7.0</td><td>2.0</td><td><em>missing</em></td><td><em>missing</em></td><td>41</td><td>14.0</td><td>32.0</td><td>15.0</td><td>82.2857</td><td>3.28571</td></tr><tr><th>23</th><td>5de0b69ba91be311cb773b0b</td><td>1.0</td><td>2.0</td><td>1.0</td><td>2.0</td><td><em>missing</em></td><td><em>missing</em></td><td>42</td><td>9.0</td><td>8.0</td><td>13.0</td><td>82.2857</td><td>3.28571</td></tr><tr><th>24</th><td>5e05b7747dd477fc2d2d2857</td><td>1.0</td><td>5.0</td><td>3.0</td><td>7.0</td><td><em>missing</em></td><td><em>missing</em></td><td>30</td><td>9.0</td><td>38.0</td><td>6.0</td><td>82.2857</td><td>3.28571</td></tr><tr><th>&vellip;</th><td>&vellip;</td><td>&vellip;</td><td>&vellip;</td><td>&vellip;</td><td>&vellip;</td><td>&vellip;</td><td>&vellip;</td><td>&vellip;</td><td>&vellip;</td><td>&vellip;</td><td>&vellip;</td><td>&vellip;</td><td>&vellip;</td></tr></tbody></table></div>"
      ],
      "text/latex": [
       "\\begin{tabular}{r|cccccccccccccc}\n",
       "\t& PROLIFIC\\_PID & Gender\\_w1 & Education\\_w1 & Income\\_w1 & Political\\_Views\\_w1 & Depression\\_w1 & Stress\\_w1 & Anxiety\\_w1 & Fear\\_COVID\\_w1 & Emotional\\_Support\\_w1 & Loneliness\\_w1 & slope\\_new\\_cases\\_w1 & slope\\_new\\_deaths\\_w1 & \\\\\n",
       "\t\\hline\n",
       "\t& String31 & Float64? & Float64? & Float64? & Float64? & Int64? & Int64? & Int64? & Float64? & Float64? & Float64? & Float64? & Float64? & \\\\\n",
       "\t\\hline\n",
       "\t1 & 5c7e91c1973c990016ea72b0 & 2.0 & 5.0 & 3.0 & 1.0 & \\emph{missing} & \\emph{missing} & 69 & 24.0 & 30.0 & 10.0 & 82.2857 & 3.28571 & $\\dots$ \\\\\n",
       "\t2 & 5e67052c757e6149c38ce468 & 1.0 & 1.0 & 1.0 & 4.0 & \\emph{missing} & \\emph{missing} & 57 & 18.0 & 14.0 & 25.0 & 82.2857 & 3.28571 & $\\dots$ \\\\\n",
       "\t3 & 5d89106d1719af0001ee23e5 & 2.0 & 2.0 & 1.0 & 6.0 & \\emph{missing} & \\emph{missing} & 27 & 8.0 & 40.0 & 5.0 & 82.2857 & 3.28571 & $\\dots$ \\\\\n",
       "\t4 & 5d6394518df2870001a74b42 & 2.0 & 2.0 & 1.0 & 1.0 & \\emph{missing} & \\emph{missing} & 42 & 23.0 & 40.0 & 16.0 & 82.2857 & 3.28571 & $\\dots$ \\\\\n",
       "\t5 & 5bdd368719b9ba000157fb12 & 2.0 & 3.0 & 4.0 & 4.0 & \\emph{missing} & \\emph{missing} & 29 & 10.0 & 40.0 & 5.0 & 82.2857 & 3.28571 & $\\dots$ \\\\\n",
       "\t6 & 5a8ce265000dab00018ce084 & 2.0 & 4.0 & 6.0 & 3.0 & \\emph{missing} & \\emph{missing} & 37 & 6.0 & 34.0 & 7.0 & 82.2857 & 3.28571 & $\\dots$ \\\\\n",
       "\t7 & 5c72efa770d5a200018028f1 & 1.0 & 5.0 & 2.0 & 3.0 & \\emph{missing} & \\emph{missing} & 27 & 9.0 & 39.0 & 5.0 & 82.2857 & 3.28571 & $\\dots$ \\\\\n",
       "\t8 & 5aea962d0ef2f20001858c9c & 1.0 & 2.0 & 1.0 & 2.0 & \\emph{missing} & \\emph{missing} & 59 & 17.0 & 17.0 & 16.0 & 82.2857 & 3.28571 & $\\dots$ \\\\\n",
       "\t9 & 5e4b793f03c92a08a6d28e3f & 1.0 & 2.0 & 7.0 & 4.0 & \\emph{missing} & \\emph{missing} & 42 & 4.0 & 18.0 & 11.0 & 82.2857 & 3.28571 & $\\dots$ \\\\\n",
       "\t10 & 5cbc071f2edc3b00018ab097 & 1.0 & 7.0 & 1.0 & 3.0 & \\emph{missing} & \\emph{missing} & 43 & 13.0 & 28.0 & 8.0 & 82.2857 & 3.28571 & $\\dots$ \\\\\n",
       "\t11 & 5c1b06d9a329230001ecc39c & 1.0 & 2.0 & 1.0 & 2.0 & \\emph{missing} & \\emph{missing} & 42 & 10.0 & 18.0 & 8.0 & 82.2857 & 3.28571 & $\\dots$ \\\\\n",
       "\t12 & 5e576e085069e61204a85872 & 1.0 & 2.0 & 7.0 & 4.0 & \\emph{missing} & \\emph{missing} & 44 & 19.0 & 32.0 & 19.0 & 82.2857 & 3.28571 & $\\dots$ \\\\\n",
       "\t13 & 5dcf50f05686c1099819882a & 1.0 & 6.0 & 3.0 & 1.0 & \\emph{missing} & \\emph{missing} & 41 & 19.0 & 32.0 & 17.0 & 82.2857 & 3.28571 & $\\dots$ \\\\\n",
       "\t14 & 5d2d8b999c6703001525304f & 1.0 & 2.0 & 1.0 & 7.0 & \\emph{missing} & \\emph{missing} & 47 & 12.0 & 8.0 & 25.0 & 82.2857 & 3.28571 & $\\dots$ \\\\\n",
       "\t15 & 5de8bc74553cee8280a7dd84 & 1.0 & 5.0 & 1.0 & 2.0 & \\emph{missing} & \\emph{missing} & 36 & 8.0 & 27.0 & 13.0 & 82.2857 & 3.28571 & $\\dots$ \\\\\n",
       "\t16 & 5b6a87d2cda8590001db8e07 & 1.0 & 5.0 & 1.0 & 1.0 & \\emph{missing} & \\emph{missing} & 63 & 13.0 & 28.0 & 14.0 & 82.2857 & 3.28571 & $\\dots$ \\\\\n",
       "\t17 & 5e3dff6b8714b707b9a258b0 & 1.0 & 5.0 & 1.0 & 2.0 & \\emph{missing} & \\emph{missing} & 57 & 11.0 & 24.0 & 20.0 & 82.2857 & 3.28571 & $\\dots$ \\\\\n",
       "\t18 & 5b05e0d131cebe000177c38e & 1.0 & 2.0 & 1.0 & 5.0 & \\emph{missing} & \\emph{missing} & 68 & 20.0 & 23.0 & 15.0 & 82.2857 & 3.28571 & $\\dots$ \\\\\n",
       "\t19 & 5d3b79a59d5c14000140c32f & 2.0 & 5.0 & 4.0 & 2.0 & \\emph{missing} & \\emph{missing} & 44 & 8.0 & 32.0 & 6.0 & 82.2857 & 3.28571 & $\\dots$ \\\\\n",
       "\t20 & 5e53e22ea0002e3e73720f65 & 2.0 & 3.0 & 2.0 & 1.0 & \\emph{missing} & \\emph{missing} & 43 & 11.0 & 14.0 & 25.0 & 82.2857 & 3.28571 & $\\dots$ \\\\\n",
       "\t21 & 5e6fde86b3ea9e5bb33664e4 & 1.0 & 3.0 & 1.0 & 3.0 & \\emph{missing} & \\emph{missing} & 35 & 7.0 & 31.0 & 16.0 & 82.2857 & 3.28571 & $\\dots$ \\\\\n",
       "\t22 & 5e65dca1d639df34800674a8 & 2.0 & 2.0 & 7.0 & 2.0 & \\emph{missing} & \\emph{missing} & 41 & 14.0 & 32.0 & 15.0 & 82.2857 & 3.28571 & $\\dots$ \\\\\n",
       "\t23 & 5de0b69ba91be311cb773b0b & 1.0 & 2.0 & 1.0 & 2.0 & \\emph{missing} & \\emph{missing} & 42 & 9.0 & 8.0 & 13.0 & 82.2857 & 3.28571 & $\\dots$ \\\\\n",
       "\t24 & 5e05b7747dd477fc2d2d2857 & 1.0 & 5.0 & 3.0 & 7.0 & \\emph{missing} & \\emph{missing} & 30 & 9.0 & 38.0 & 6.0 & 82.2857 & 3.28571 & $\\dots$ \\\\\n",
       "\t$\\dots$ & $\\dots$ & $\\dots$ & $\\dots$ & $\\dots$ & $\\dots$ & $\\dots$ & $\\dots$ & $\\dots$ & $\\dots$ & $\\dots$ & $\\dots$ & $\\dots$ & $\\dots$ &  \\\\\n",
       "\\end{tabular}\n"
      ],
      "text/plain": [
       "\u001b[1m1797×41 DataFrame\u001b[0m\n",
       "\u001b[1m  Row \u001b[0m│\u001b[1m PROLIFIC_PID             \u001b[0m\u001b[1m Gender_w1 \u001b[0m\u001b[1m Education_w1 \u001b[0m\u001b[1m Income_w1 \u001b[0m\u001b[1m Political_Views_w1 \u001b[0m\u001b[1m Depression_w1 \u001b[0m\u001b[1m Stress_w1 \u001b[0m\u001b[1m Anxiety_w1 \u001b[0m\u001b[1m Fear_COVID_w1 \u001b[0m\u001b[1m Emotional_Support_w1 \u001b[0m\u001b[1m Loneliness_w1 \u001b[0m\u001b[1m slope_new_cases_w1\u001b[0m ⋯\n",
       "\u001b[1m      \u001b[0m│\u001b[90m String31                 \u001b[0m\u001b[90m Float64?  \u001b[0m\u001b[90m Float64?     \u001b[0m\u001b[90m Float64?  \u001b[0m\u001b[90m Float64?           \u001b[0m\u001b[90m Int64?        \u001b[0m\u001b[90m Int64?    \u001b[0m\u001b[90m Int64?     \u001b[0m\u001b[90m Float64?      \u001b[0m\u001b[90m Float64?             \u001b[0m\u001b[90m Float64?      \u001b[0m\u001b[90m Float64?          \u001b[0m ⋯\n",
       "──────┼─────────────────────────────────────────────────────────────────────────────────────────────────────────────────────────────────────────────────────────────────────────────────────────────────\n",
       "    1 │ 5c7e91c1973c990016ea72b0        2.0           5.0        3.0                 1.0 \u001b[90m       missing \u001b[0m\u001b[90m   missing \u001b[0m         69           24.0                  30.0           10.0           82.2857   ⋯\n",
       "    2 │ 5e67052c757e6149c38ce468        1.0           1.0        1.0                 4.0 \u001b[90m       missing \u001b[0m\u001b[90m   missing \u001b[0m         57           18.0                  14.0           25.0           82.2857\n",
       "    3 │ 5d89106d1719af0001ee23e5        2.0           2.0        1.0                 6.0 \u001b[90m       missing \u001b[0m\u001b[90m   missing \u001b[0m         27            8.0                  40.0            5.0           82.2857\n",
       "    4 │ 5d6394518df2870001a74b42        2.0           2.0        1.0                 1.0 \u001b[90m       missing \u001b[0m\u001b[90m   missing \u001b[0m         42           23.0                  40.0           16.0           82.2857\n",
       "    5 │ 5bdd368719b9ba000157fb12        2.0           3.0        4.0                 4.0 \u001b[90m       missing \u001b[0m\u001b[90m   missing \u001b[0m         29           10.0                  40.0            5.0           82.2857   ⋯\n",
       "    6 │ 5a8ce265000dab00018ce084        2.0           4.0        6.0                 3.0 \u001b[90m       missing \u001b[0m\u001b[90m   missing \u001b[0m         37            6.0                  34.0            7.0           82.2857\n",
       "    7 │ 5c72efa770d5a200018028f1        1.0           5.0        2.0                 3.0 \u001b[90m       missing \u001b[0m\u001b[90m   missing \u001b[0m         27            9.0                  39.0            5.0           82.2857\n",
       "    8 │ 5aea962d0ef2f20001858c9c        1.0           2.0        1.0                 2.0 \u001b[90m       missing \u001b[0m\u001b[90m   missing \u001b[0m         59           17.0                  17.0           16.0           82.2857\n",
       "  ⋮   │            ⋮                  ⋮           ⋮            ⋮              ⋮                 ⋮            ⋮          ⋮             ⋮                 ⋮                  ⋮                ⋮          ⋱\n",
       " 1791 │ 5caeb56feb05440017fd4817        1.0           4.0        3.0                 4.0 \u001b[90m       missing \u001b[0m\u001b[90m   missing \u001b[0m         51           17.0                  16.0           23.0            8.42857  ⋯\n",
       " 1792 │ 5def020419398a5b744b98b9        1.0           5.0        5.0                 2.0 \u001b[90m       missing \u001b[0m\u001b[90m   missing \u001b[0m         30           19.0                  40.0            5.0            8.42857\n",
       " 1793 │ 5e1fa6a063251a2de1d6b236        1.0           5.0        4.0                 2.0 \u001b[90m       missing \u001b[0m\u001b[90m   missing \u001b[0m         38           16.0                  37.0            7.0            7.14286\n",
       " 1794 │ 5e7ccb90239c34323a771320        2.0           5.0        3.0                 1.0 \u001b[90m       missing \u001b[0m\u001b[90m   missing \u001b[0m         49            8.0                  30.0           13.0            7.14286\n",
       " 1795 │ 5e39448ea9cf9414e733ff48        1.0           7.0        2.0                 2.0 \u001b[90m       missing \u001b[0m\u001b[90m   missing \u001b[0m         33           14.0                  29.0            9.0            7.14286  ⋯\n",
       " 1796 │ 5d30a875ad3457001743fbc9        1.0           7.0        5.0                 5.0 \u001b[90m       missing \u001b[0m\u001b[90m   missing \u001b[0m         30           16.0                  38.0            5.0           13.4286\n",
       " 1797 │ 5da926115c6987001535a2da        1.0           5.0        4.0                 6.0 \u001b[90m       missing \u001b[0m\u001b[90m   missing \u001b[0m         27            2.0                  31.0            5.0           -0.571429\n",
       "\u001b[36m                                                                                                                                                                        29 columns and 1782 rows omitted\u001b[0m"
      ]
     },
     "metadata": {},
     "output_type": "display_data"
    }
   ],
   "source": [
    "w1_w6_combine_data = combine_wave_data(w1, w6, \"PROLIFIC_PID\", \"w1\", \"w6\")"
   ]
  },
  {
   "cell_type": "code",
   "execution_count": 19,
   "metadata": {},
   "outputs": [
    {
     "data": {
      "text/plain": [
       "1797-element Vector{Int64}:\n",
       " 1\n",
       " 1\n",
       " 1\n",
       " 1\n",
       " 1\n",
       " 1\n",
       " 1\n",
       " 1\n",
       " 1\n",
       " 1\n",
       " ⋮\n",
       " 1\n",
       " 1\n",
       " 1\n",
       " 1\n",
       " 1\n",
       " 1\n",
       " 1\n",
       " 1\n",
       " 1"
      ]
     },
     "metadata": {},
     "output_type": "display_data"
    }
   ],
   "source": [
    "w6[!, \"wave\"]"
   ]
  },
  {
   "cell_type": "code",
   "execution_count": 8,
   "metadata": {},
   "outputs": [],
   "source": []
  },
  {
   "cell_type": "code",
   "execution_count": null,
   "metadata": {},
   "outputs": [],
   "source": []
  }
 ],
 "metadata": {
  "kernelspec": {
   "display_name": "Julia 1.6.3",
   "language": "julia",
   "name": "julia-1.6"
  },
  "language_info": {
   "file_extension": ".jl",
   "mimetype": "application/julia",
   "name": "julia",
   "version": "1.6.3"
  },
  "orig_nbformat": 4
 },
 "nbformat": 4,
 "nbformat_minor": 2
}
