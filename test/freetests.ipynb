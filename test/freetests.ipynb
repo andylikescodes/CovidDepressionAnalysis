{
 "cells": [
  {
   "cell_type": "code",
   "execution_count": 1,
   "metadata": {},
   "outputs": [],
   "source": [
    "using Revise\n",
    "push!(LOAD_PATH, \"../src\") \n",
    "using DataFrames\n",
    "using CovidDepressionAnalysis\n",
    "using CSV\n",
    "using Counterfactuals\n",
    "using Plots\n",
    "using PairPlots\n",
    "using GLM\n",
    "using Statistics"
   ]
  },
  {
   "cell_type": "code",
   "execution_count": 2,
   "metadata": {},
   "outputs": [
    {
     "name": "stdout",
     "output_type": "stream",
     "text": [
      "Processing:\n",
      "../output/IP_weighted_sources/w12.csv\n"
     ]
    },
    {
     "data": {
      "text/plain": [
       "\"Depression_adj\""
      ]
     },
     "metadata": {},
     "output_type": "display_data"
    }
   ],
   "source": [
    "println(\"Processing:\")\n",
    "println(\"../output/IP_weighted_sources/w12.csv\")\n",
    "data = CSV.read(\"../output/IP_weighted_sources/w12.csv\", DataFrame)\n",
    "data = data[Not(isnan.(data[!, :cvd_cases_7d_avg])), :]\n",
    "\n",
    "adjustments = [\"cvd_cases_7d_avg\", \"cvd_deaths_7d_avg\"]\n",
    "square_terms = [\"cvd_cases_7d_avg\", \"cvd_deaths_7d_avg\"]\n",
    "treatment = \"Mandatory_SAH\"\n",
    "target = \"Depression_adj\""
   ]
  },
  {
   "cell_type": "code",
   "execution_count": 4,
   "metadata": {},
   "outputs": [
    {
     "data": {
      "image/png": "[encoded data removed]",
      "image/svg+xml": "<?xml version=\"1.0\" encoding=\"utf-8\"?>\n<svg xmlns=\"http://www.w3.org/2000/svg\" xmlns:xlink=\"http://www.w3.org/1999/xlink\" width=\"600\" height=\"400\" viewBox=\"0 0 2400 1600\">\n<defs>\n  <clipPath id=\"clip300\">\n    <rect x=\"0\" y=\"0\" width=\"2400\" height=\"1600\"/>\n  </clipPath>\n</defs>\n<path clip-path=\"url(#clip300)\" d=\"\nM0 1600 L2400 1600 L2400 0 L0 0  Z\n  \" fill=\"#ffffff\" fill-rule=\"evenodd\" fill-opacity=\"1\"/>\n<defs>\n  <clipPath id=\"clip301\">\n    <rect x=\"480\" y=\"0\" width=\"1681\" height=\"1600\"/>\n  </clipPath>\n</defs>\n<path clip-path=\"url(#clip300)\" d=\"\nM172.015 1486.45 L2352.76 1486.45 L2352.76 47.2441 L172.015 47.2441  Z\n  \" fill=\"#ffffff\" fill-rule=\"evenodd\" fill-opacity=\"1\"/>\n<defs>\n  <clipPath id=\"clip302\">\n    <rect x=\"172\" y=\"47\" width=\"2182\" height=\"1440\"/>\n  </clipPath>\n</defs>\n<polyline clip-path=\"url(#clip302)\" style=\"stroke:#000000; stroke-linecap:butt; stroke-linejoin:round; stroke-width:2; stroke-opacity:0.1; fill:none\" points=\"\n  291.959,1486.45 291.959,47.2441 \n  \"/>\n<polyline clip-path=\"url(#clip302)\" style=\"stroke:#000000; stroke-linecap:butt; stroke-linejoin:round; stroke-width:2; stroke-opacity:0.1; fill:none\" points=\"\n  615.435,1486.45 615.435,47.2441 \n  \"/>\n<polyline clip-path=\"url(#clip302)\" style=\"stroke:#000000; stroke-linecap:butt; stroke-linejoin:round; stroke-width:2; stroke-opacity:0.1; fill:none\" points=\"\n  938.91,1486.45 938.91,47.2441 \n  \"/>\n<polyline clip-path=\"url(#clip302)\" style=\"stroke:#000000; stroke-linecap:butt; stroke-linejoin:round; stroke-width:2; stroke-opacity:0.1; fill:none\" points=\"\n  1262.39,1486.45 1262.39,47.2441 \n  \"/>\n<polyline clip-path=\"url(#clip302)\" style=\"stroke:#000000; stroke-linecap:butt; stroke-linejoin:round; stroke-width:2; stroke-opacity:0.1; fill:none\" points=\"\n  1585.86,1486.45 1585.86,47.2441 \n  \"/>\n<polyline clip-path=\"url(#clip302)\" style=\"stroke:#000000; stroke-linecap:butt; stroke-linejoin:round; stroke-width:2; stroke-opacity:0.1; fill:none\" points=\"\n  1909.34,1486.45 1909.34,47.2441 \n  \"/>\n<polyline clip-path=\"url(#clip302)\" style=\"stroke:#000000; stroke-linecap:butt; stroke-linejoin:round; stroke-width:2; stroke-opacity:0.1; fill:none\" points=\"\n  2232.81,1486.45 2232.81,47.2441 \n  \"/>\n<polyline clip-path=\"url(#clip300)\" style=\"stroke:#000000; stroke-linecap:butt; stroke-linejoin:round; stroke-width:4; stroke-opacity:1; fill:none\" points=\"\n  172.015,1486.45 2352.76,1486.45 \n  \"/>\n<polyline clip-path=\"url(#clip300)\" style=\"stroke:#000000; stroke-linecap:butt; stroke-linejoin:round; stroke-width:4; stroke-opacity:1; fill:none\" points=\"\n  291.959,1486.45 291.959,1467.55 \n  \"/>\n<polyline clip-path=\"url(#clip300)\" style=\"stroke:#000000; stroke-linecap:butt; stroke-linejoin:round; stroke-width:4; stroke-opacity:1; fill:none\" points=\"\n  615.435,1486.45 615.435,1467.55 \n  \"/>\n<polyline clip-path=\"url(#clip300)\" style=\"stroke:#000000; stroke-linecap:butt; stroke-linejoin:round; stroke-width:4; stroke-opacity:1; fill:none\" points=\"\n  938.91,1486.45 938.91,1467.55 \n  \"/>\n<polyline clip-path=\"url(#clip300)\" style=\"stroke:#000000; stroke-linecap:butt; stroke-linejoin:round; stroke-width:4; stroke-opacity:1; fill:none\" points=\"\n  1262.39,1486.45 1262.39,1467.55 \n  \"/>\n<polyline clip-path=\"url(#clip300)\" style=\"stroke:#000000; stroke-linecap:butt; stroke-linejoin:round; stroke-width:4; stroke-opacity:1; fill:none\" points=\"\n  1585.86,1486.45 1585.86,1467.55 \n  \"/>\n<polyline clip-path=\"url(#clip300)\" style=\"stroke:#000000; stroke-linecap:butt; stroke-linejoin:round; stroke-width:4; stroke-opacity:1; fill:none\" points=\"\n  1909.34,1486.45 1909.34,1467.55 \n  \"/>\n<polyline clip-path=\"url(#clip300)\" style=\"stroke:#000000; stroke-linecap:butt; stroke-linejoin:round; stroke-width:4; stroke-opacity:1; fill:none\" points=\"\n  2232.81,1486.45 2232.81,1467.55 \n  \"/>\n<path clip-path=\"url(#clip300)\" d=\"M269.344 1517.37 Q265.733 1517.37 263.904 1520.93 Q262.099 1524.47 262.099 1531.6 Q262.099 1538.71 263.904 1542.27 Q265.733 1545.82 269.344 1545.82 Q272.978 1545.82 274.784 1542.27 Q276.612 1538.71 276.612 1531.6 Q276.612 1524.47 274.784 1520.93 Q272.978 1517.37 269.344 1517.37 M269.344 1513.66 Q275.154 1513.66 278.21 1518.27 Q281.288 1522.85 281.288 1531.6 Q281.288 1540.33 278.21 1544.94 Q275.154 1549.52 269.344 1549.52 Q263.534 1549.52 260.455 1544.94 Q257.399 1540.33 257.399 1531.6 Q257.399 1522.85 260.455 1518.27 Q263.534 1513.66 269.344 1513.66 Z\" fill=\"#000000\" fill-rule=\"evenodd\" fill-opacity=\"1\" /><path clip-path=\"url(#clip300)\" d=\"M289.506 1542.97 L294.39 1542.97 L294.39 1548.85 L289.506 1548.85 L289.506 1542.97 Z\" fill=\"#000000\" fill-rule=\"evenodd\" fill-opacity=\"1\" /><path clip-path=\"url(#clip300)\" d=\"M314.575 1517.37 Q310.964 1517.37 309.135 1520.93 Q307.33 1524.47 307.33 1531.6 Q307.33 1538.71 309.135 1542.27 Q310.964 1545.82 314.575 1545.82 Q318.209 1545.82 320.015 1542.27 Q321.844 1538.71 321.844 1531.6 Q321.844 1524.47 320.015 1520.93 Q318.209 1517.37 314.575 1517.37 M314.575 1513.66 Q320.385 1513.66 323.441 1518.27 Q326.519 1522.85 326.519 1531.6 Q326.519 1540.33 323.441 1544.94 Q320.385 1549.52 314.575 1549.52 Q308.765 1549.52 305.686 1544.94 Q302.631 1540.33 302.631 1531.6 Q302.631 1522.85 305.686 1518.27 Q308.765 1513.66 314.575 1513.66 Z\" fill=\"#000000\" fill-rule=\"evenodd\" fill-opacity=\"1\" /><path clip-path=\"url(#clip300)\" d=\"M593.618 1517.37 Q590.007 1517.37 588.178 1520.93 Q586.372 1524.47 586.372 1531.6 Q586.372 1538.71 588.178 1542.27 Q590.007 1545.82 593.618 1545.82 Q597.252 1545.82 599.058 1542.27 Q600.886 1538.71 600.886 1531.6 Q600.886 1524.47 599.058 1520.93 Q597.252 1517.37 593.618 1517.37 M593.618 1513.66 Q599.428 1513.66 602.483 1518.27 Q605.562 1522.85 605.562 1531.6 Q605.562 1540.33 602.483 1544.94 Q599.428 1549.52 593.618 1549.52 Q587.808 1549.52 584.729 1544.94 Q581.673 1540.33 581.673 1531.6 Q581.673 1522.85 584.729 1518.27 Q587.808 1513.66 593.618 1513.66 Z\" fill=\"#000000\" fill-rule=\"evenodd\" fill-opacity=\"1\" /><path clip-path=\"url(#clip300)\" d=\"M613.78 1542.97 L618.664 1542.97 L618.664 1548.85 L613.78 1548.85 L613.78 1542.97 Z\" fill=\"#000000\" fill-rule=\"evenodd\" fill-opacity=\"1\" /><path clip-path=\"url(#clip300)\" d=\"M632.877 1544.91 L649.196 1544.91 L649.196 1548.85 L627.252 1548.85 L627.252 1544.91 Q629.914 1542.16 634.497 1537.53 Q639.104 1532.88 640.284 1531.53 Q642.53 1529.01 643.409 1527.27 Q644.312 1525.51 644.312 1523.82 Q644.312 1521.07 642.367 1519.33 Q640.446 1517.6 637.344 1517.6 Q635.145 1517.6 632.692 1518.36 Q630.261 1519.13 627.483 1520.68 L627.483 1515.95 Q630.307 1514.82 632.761 1514.24 Q635.215 1513.66 637.252 1513.66 Q642.622 1513.66 645.817 1516.35 Q649.011 1519.03 649.011 1523.52 Q649.011 1525.65 648.201 1527.57 Q647.414 1529.47 645.307 1532.07 Q644.729 1532.74 641.627 1535.95 Q638.525 1539.15 632.877 1544.91 Z\" fill=\"#000000\" fill-rule=\"evenodd\" fill-opacity=\"1\" /><path clip-path=\"url(#clip300)\" d=\"M916.051 1517.37 Q912.44 1517.37 910.612 1520.93 Q908.806 1524.47 908.806 1531.6 Q908.806 1538.71 910.612 1542.27 Q912.44 1545.82 916.051 1545.82 Q919.686 1545.82 921.491 1542.27 Q923.32 1538.71 923.32 1531.6 Q923.32 1524.47 921.491 1520.93 Q919.686 1517.37 916.051 1517.37 M916.051 1513.66 Q921.862 1513.66 924.917 1518.27 Q927.996 1522.85 927.996 1531.6 Q927.996 1540.33 924.917 1544.94 Q921.862 1549.52 916.051 1549.52 Q910.241 1549.52 907.163 1544.94 Q904.107 1540.33 904.107 1531.6 Q904.107 1522.85 907.163 1518.27 Q910.241 1513.66 916.051 1513.66 Z\" fill=\"#000000\" fill-rule=\"evenodd\" fill-opacity=\"1\" /><path clip-path=\"url(#clip300)\" d=\"M936.213 1542.97 L941.098 1542.97 L941.098 1548.85 L936.213 1548.85 L936.213 1542.97 Z\" fill=\"#000000\" fill-rule=\"evenodd\" fill-opacity=\"1\" /><path clip-path=\"url(#clip300)\" d=\"M964.13 1518.36 L952.324 1536.81 L964.13 1536.81 L964.13 1518.36 M962.903 1514.29 L968.783 1514.29 L968.783 1536.81 L973.713 1536.81 L973.713 1540.7 L968.783 1540.7 L968.783 1548.85 L964.13 1548.85 L964.13 1540.7 L948.528 1540.7 L948.528 1536.19 L962.903 1514.29 Z\" fill=\"#000000\" fill-rule=\"evenodd\" fill-opacity=\"1\" /><path clip-path=\"url(#clip300)\" d=\"M1239.69 1517.37 Q1236.08 1517.37 1234.25 1520.93 Q1232.44 1524.47 1232.44 1531.6 Q1232.44 1538.71 1234.25 1542.27 Q1236.08 1545.82 1239.69 1545.82 Q1243.32 1545.82 1245.13 1542.27 Q1246.96 1538.71 1246.96 1531.6 Q1246.96 1524.47 1245.13 1520.93 Q1243.32 1517.37 1239.69 1517.37 M1239.69 1513.66 Q1245.5 1513.66 1248.55 1518.27 Q1251.63 1522.85 1251.63 1531.6 Q1251.63 1540.33 1248.55 1544.94 Q1245.5 1549.52 1239.69 1549.52 Q1233.88 1549.52 1230.8 1544.94 Q1227.74 1540.33 1227.74 1531.6 Q1227.74 1522.85 1230.8 1518.27 Q1233.88 1513.66 1239.69 1513.66 Z\" fill=\"#000000\" fill-rule=\"evenodd\" fill-opacity=\"1\" /><path clip-path=\"url(#clip300)\" d=\"M1259.85 1542.97 L1264.73 1542.97 L1264.73 1548.85 L1259.85 1548.85 L1259.85 1542.97 Z\" fill=\"#000000\" fill-rule=\"evenodd\" fill-opacity=\"1\" /><path clip-path=\"url(#clip300)\" d=\"M1285.5 1529.7 Q1282.35 1529.7 1280.5 1531.86 Q1278.67 1534.01 1278.67 1537.76 Q1278.67 1541.49 1280.5 1543.66 Q1282.35 1545.82 1285.5 1545.82 Q1288.65 1545.82 1290.48 1543.66 Q1292.33 1541.49 1292.33 1537.76 Q1292.33 1534.01 1290.48 1531.86 Q1288.65 1529.7 1285.5 1529.7 M1294.78 1515.05 L1294.78 1519.31 Q1293.02 1518.48 1291.22 1518.04 Q1289.43 1517.6 1287.67 1517.6 Q1283.04 1517.6 1280.59 1520.72 Q1278.16 1523.85 1277.81 1530.17 Q1279.18 1528.15 1281.24 1527.09 Q1283.3 1526 1285.78 1526 Q1290.98 1526 1293.99 1529.17 Q1297.03 1532.32 1297.03 1537.76 Q1297.03 1543.08 1293.88 1546.3 Q1290.73 1549.52 1285.5 1549.52 Q1279.5 1549.52 1276.33 1544.94 Q1273.16 1540.33 1273.16 1531.6 Q1273.16 1523.41 1277.05 1518.55 Q1280.94 1513.66 1287.49 1513.66 Q1289.25 1513.66 1291.03 1514.01 Q1292.84 1514.36 1294.78 1515.05 Z\" fill=\"#000000\" fill-rule=\"evenodd\" fill-opacity=\"1\" /><path clip-path=\"url(#clip300)\" d=\"M1563.29 1517.37 Q1559.68 1517.37 1557.85 1520.93 Q1556.05 1524.47 1556.05 1531.6 Q1556.05 1538.71 1557.85 1542.27 Q1559.68 1545.82 1563.29 1545.82 Q1566.93 1545.82 1568.73 1542.27 Q1570.56 1538.71 1570.56 1531.6 Q1570.56 1524.47 1568.73 1520.93 Q1566.93 1517.37 1563.29 1517.37 M1563.29 1513.66 Q1569.1 1513.66 1572.16 1518.27 Q1575.24 1522.85 1575.24 1531.6 Q1575.24 1540.33 1572.16 1544.94 Q1569.1 1549.52 1563.29 1549.52 Q1557.48 1549.52 1554.4 1544.94 Q1551.35 1540.33 1551.35 1531.6 Q1551.35 1522.85 1554.4 1518.27 Q1557.48 1513.66 1563.29 1513.66 Z\" fill=\"#000000\" fill-rule=\"evenodd\" fill-opacity=\"1\" /><path clip-path=\"url(#clip300)\" d=\"M1583.45 1542.97 L1588.34 1542.97 L1588.34 1548.85 L1583.45 1548.85 L1583.45 1542.97 Z\" fill=\"#000000\" fill-rule=\"evenodd\" fill-opacity=\"1\" /><path clip-path=\"url(#clip300)\" d=\"M1608.52 1532.44 Q1605.19 1532.44 1603.27 1534.22 Q1601.37 1536 1601.37 1539.13 Q1601.37 1542.25 1603.27 1544.03 Q1605.19 1545.82 1608.52 1545.82 Q1611.86 1545.82 1613.78 1544.03 Q1615.7 1542.23 1615.7 1539.13 Q1615.7 1536 1613.78 1534.22 Q1611.88 1532.44 1608.52 1532.44 M1603.85 1530.45 Q1600.84 1529.7 1599.15 1527.64 Q1597.48 1525.58 1597.48 1522.62 Q1597.48 1518.48 1600.42 1516.07 Q1603.38 1513.66 1608.52 1513.66 Q1613.68 1513.66 1616.62 1516.07 Q1619.56 1518.48 1619.56 1522.62 Q1619.56 1525.58 1617.87 1527.64 Q1616.21 1529.7 1613.22 1530.45 Q1616.6 1531.23 1618.48 1533.52 Q1620.37 1535.82 1620.37 1539.13 Q1620.37 1544.15 1617.3 1546.83 Q1614.24 1549.52 1608.52 1549.52 Q1602.81 1549.52 1599.73 1546.83 Q1596.67 1544.15 1596.67 1539.13 Q1596.67 1535.82 1598.57 1533.52 Q1600.47 1531.23 1603.85 1530.45 M1602.13 1523.06 Q1602.13 1525.75 1603.8 1527.25 Q1605.49 1528.76 1608.52 1528.76 Q1611.53 1528.76 1613.22 1527.25 Q1614.93 1525.75 1614.93 1523.06 Q1614.93 1520.38 1613.22 1518.87 Q1611.53 1517.37 1608.52 1517.37 Q1605.49 1517.37 1603.8 1518.87 Q1602.13 1520.38 1602.13 1523.06 Z\" fill=\"#000000\" fill-rule=\"evenodd\" fill-opacity=\"1\" /><path clip-path=\"url(#clip300)\" d=\"M1876.49 1544.91 L1884.13 1544.91 L1884.13 1518.55 L1875.82 1520.21 L1875.82 1515.95 L1884.08 1514.29 L1888.76 1514.29 L1888.76 1544.91 L1896.4 1544.91 L1896.4 1548.85 L1876.49 1548.85 L1876.49 1544.91 Z\" fill=\"#000000\" fill-rule=\"evenodd\" fill-opacity=\"1\" /><path clip-path=\"url(#clip300)\" d=\"M1905.84 1542.97 L1910.72 1542.97 L1910.72 1548.85 L1905.84 1548.85 L1905.84 1542.97 Z\" fill=\"#000000\" fill-rule=\"evenodd\" fill-opacity=\"1\" /><path clip-path=\"url(#clip300)\" d=\"M1930.91 1517.37 Q1927.3 1517.37 1925.47 1520.93 Q1923.66 1524.47 1923.66 1531.6 Q1923.66 1538.71 1925.47 1542.27 Q1927.3 1545.82 1930.91 1545.82 Q1934.54 1545.82 1936.35 1542.27 Q1938.18 1538.71 1938.18 1531.6 Q1938.18 1524.47 1936.35 1520.93 Q1934.54 1517.37 1930.91 1517.37 M1930.91 1513.66 Q1936.72 1513.66 1939.78 1518.27 Q1942.85 1522.85 1942.85 1531.6 Q1942.85 1540.33 1939.78 1544.94 Q1936.72 1549.52 1930.91 1549.52 Q1925.1 1549.52 1922.02 1544.94 Q1918.97 1540.33 1918.97 1531.6 Q1918.97 1522.85 1922.02 1518.27 Q1925.1 1513.66 1930.91 1513.66 Z\" fill=\"#000000\" fill-rule=\"evenodd\" fill-opacity=\"1\" /><path clip-path=\"url(#clip300)\" d=\"M2200.76 1544.91 L2208.4 1544.91 L2208.4 1518.55 L2200.09 1520.21 L2200.09 1515.95 L2208.36 1514.29 L2213.03 1514.29 L2213.03 1544.91 L2220.67 1544.91 L2220.67 1548.85 L2200.76 1548.85 L2200.76 1544.91 Z\" fill=\"#000000\" fill-rule=\"evenodd\" fill-opacity=\"1\" /><path clip-path=\"url(#clip300)\" d=\"M2230.11 1542.97 L2235 1542.97 L2235 1548.85 L2230.11 1548.85 L2230.11 1542.97 Z\" fill=\"#000000\" fill-rule=\"evenodd\" fill-opacity=\"1\" /><path clip-path=\"url(#clip300)\" d=\"M2249.21 1544.91 L2265.53 1544.91 L2265.53 1548.85 L2243.59 1548.85 L2243.59 1544.91 Q2246.25 1542.16 2250.83 1537.53 Q2255.44 1532.88 2256.62 1531.53 Q2258.86 1529.01 2259.74 1527.27 Q2260.65 1525.51 2260.65 1523.82 Q2260.65 1521.07 2258.7 1519.33 Q2256.78 1517.6 2253.68 1517.6 Q2251.48 1517.6 2249.03 1518.36 Q2246.6 1519.13 2243.82 1520.68 L2243.82 1515.95 Q2246.64 1514.82 2249.1 1514.24 Q2251.55 1513.66 2253.59 1513.66 Q2258.96 1513.66 2262.15 1516.35 Q2265.35 1519.03 2265.35 1523.52 Q2265.35 1525.65 2264.54 1527.57 Q2263.75 1529.47 2261.64 1532.07 Q2261.06 1532.74 2257.96 1535.95 Q2254.86 1539.15 2249.21 1544.91 Z\" fill=\"#000000\" fill-rule=\"evenodd\" fill-opacity=\"1\" /><polyline clip-path=\"url(#clip302)\" style=\"stroke:#000000; stroke-linecap:butt; stroke-linejoin:round; stroke-width:2; stroke-opacity:0.1; fill:none\" points=\"\n  172.015,1445.72 2352.76,1445.72 \n  \"/>\n<polyline clip-path=\"url(#clip302)\" style=\"stroke:#000000; stroke-linecap:butt; stroke-linejoin:round; stroke-width:2; stroke-opacity:0.1; fill:none\" points=\"\n  172.015,1049.3 2352.76,1049.3 \n  \"/>\n<polyline clip-path=\"url(#clip302)\" style=\"stroke:#000000; stroke-linecap:butt; stroke-linejoin:round; stroke-width:2; stroke-opacity:0.1; fill:none\" points=\"\n  172.015,652.875 2352.76,652.875 \n  \"/>\n<polyline clip-path=\"url(#clip302)\" style=\"stroke:#000000; stroke-linecap:butt; stroke-linejoin:round; stroke-width:2; stroke-opacity:0.1; fill:none\" points=\"\n  172.015,256.455 2352.76,256.455 \n  \"/>\n<polyline clip-path=\"url(#clip300)\" style=\"stroke:#000000; stroke-linecap:butt; stroke-linejoin:round; stroke-width:4; stroke-opacity:1; fill:none\" points=\"\n  172.015,1486.45 172.015,47.2441 \n  \"/>\n<polyline clip-path=\"url(#clip300)\" style=\"stroke:#000000; stroke-linecap:butt; stroke-linejoin:round; stroke-width:4; stroke-opacity:1; fill:none\" points=\"\n  172.015,1445.72 190.912,1445.72 \n  \"/>\n<polyline clip-path=\"url(#clip300)\" style=\"stroke:#000000; stroke-linecap:butt; stroke-linejoin:round; stroke-width:4; stroke-opacity:1; fill:none\" points=\"\n  172.015,1049.3 190.912,1049.3 \n  \"/>\n<polyline clip-path=\"url(#clip300)\" style=\"stroke:#000000; stroke-linecap:butt; stroke-linejoin:round; stroke-width:4; stroke-opacity:1; fill:none\" points=\"\n  172.015,652.875 190.912,652.875 \n  \"/>\n<polyline clip-path=\"url(#clip300)\" style=\"stroke:#000000; stroke-linecap:butt; stroke-linejoin:round; stroke-width:4; stroke-opacity:1; fill:none\" points=\"\n  172.015,256.455 190.912,256.455 \n  \"/>\n<path clip-path=\"url(#clip300)\" d=\"M124.07 1431.51 Q120.459 1431.51 118.631 1435.08 Q116.825 1438.62 116.825 1445.75 Q116.825 1452.86 118.631 1456.42 Q120.459 1459.96 124.07 1459.96 Q127.705 1459.96 129.51 1456.42 Q131.339 1452.86 131.339 1445.75 Q131.339 1438.62 129.51 1435.08 Q127.705 1431.51 124.07 1431.51 M124.07 1427.81 Q129.881 1427.81 132.936 1432.42 Q136.015 1437 136.015 1445.75 Q136.015 1454.48 132.936 1459.08 Q129.881 1463.67 124.07 1463.67 Q118.26 1463.67 115.182 1459.08 Q112.126 1454.48 112.126 1445.75 Q112.126 1437 115.182 1432.42 Q118.26 1427.81 124.07 1427.81 Z\" fill=\"#000000\" fill-rule=\"evenodd\" fill-opacity=\"1\" /><path clip-path=\"url(#clip300)\" d=\"M57.7745 1062.64 L74.0939 1062.64 L74.0939 1066.58 L52.1495 1066.58 L52.1495 1062.64 Q54.8115 1059.89 59.3949 1055.26 Q64.0013 1050.6 65.1819 1049.26 Q67.4272 1046.74 68.3068 1045 Q69.2096 1043.24 69.2096 1041.55 Q69.2096 1038.8 67.2652 1037.06 Q65.3439 1035.33 62.2421 1035.33 Q60.043 1035.33 57.5893 1036.09 Q55.1588 1036.85 52.381 1038.4 L52.381 1033.68 Q55.2051 1032.55 57.6588 1031.97 Q60.1124 1031.39 62.1495 1031.39 Q67.5198 1031.39 70.7142 1034.08 Q73.9087 1036.76 73.9087 1041.25 Q73.9087 1043.38 73.0985 1045.3 Q72.3115 1047.2 70.205 1049.79 Q69.6263 1050.46 66.5245 1053.68 Q63.4226 1056.88 57.7745 1062.64 Z\" fill=\"#000000\" fill-rule=\"evenodd\" fill-opacity=\"1\" /><path clip-path=\"url(#clip300)\" d=\"M93.9086 1035.09 Q90.2975 1035.09 88.4688 1038.66 Q86.6632 1042.2 86.6632 1049.33 Q86.6632 1056.44 88.4688 1060 Q90.2975 1063.54 93.9086 1063.54 Q97.5428 1063.54 99.3483 1060 Q101.177 1056.44 101.177 1049.33 Q101.177 1042.2 99.3483 1038.66 Q97.5428 1035.09 93.9086 1035.09 M93.9086 1031.39 Q99.7187 1031.39 102.774 1036 Q105.853 1040.58 105.853 1049.33 Q105.853 1058.06 102.774 1062.66 Q99.7187 1067.25 93.9086 1067.25 Q88.0984 1067.25 85.0197 1062.66 Q81.9642 1058.06 81.9642 1049.33 Q81.9642 1040.58 85.0197 1036 Q88.0984 1031.39 93.9086 1031.39 Z\" fill=\"#000000\" fill-rule=\"evenodd\" fill-opacity=\"1\" /><path clip-path=\"url(#clip300)\" d=\"M124.07 1035.09 Q120.459 1035.09 118.631 1038.66 Q116.825 1042.2 116.825 1049.33 Q116.825 1056.44 118.631 1060 Q120.459 1063.54 124.07 1063.54 Q127.705 1063.54 129.51 1060 Q131.339 1056.44 131.339 1049.33 Q131.339 1042.2 129.51 1038.66 Q127.705 1035.09 124.07 1035.09 M124.07 1031.39 Q129.881 1031.39 132.936 1036 Q136.015 1040.58 136.015 1049.33 Q136.015 1058.06 132.936 1062.66 Q129.881 1067.25 124.07 1067.25 Q118.26 1067.25 115.182 1062.66 Q112.126 1058.06 112.126 1049.33 Q112.126 1040.58 115.182 1036 Q118.26 1031.39 124.07 1031.39 Z\" fill=\"#000000\" fill-rule=\"evenodd\" fill-opacity=\"1\" /><path clip-path=\"url(#clip300)\" d=\"M66.5939 639.669 L54.7884 658.118 L66.5939 658.118 L66.5939 639.669 M65.367 635.595 L71.2466 635.595 L71.2466 658.118 L76.1772 658.118 L76.1772 662.007 L71.2466 662.007 L71.2466 670.155 L66.5939 670.155 L66.5939 662.007 L50.9921 662.007 L50.9921 657.493 L65.367 635.595 Z\" fill=\"#000000\" fill-rule=\"evenodd\" fill-opacity=\"1\" /><path clip-path=\"url(#clip300)\" d=\"M93.9086 638.674 Q90.2975 638.674 88.4688 642.239 Q86.6632 645.78 86.6632 652.91 Q86.6632 660.016 88.4688 663.581 Q90.2975 667.123 93.9086 667.123 Q97.5428 667.123 99.3483 663.581 Q101.177 660.016 101.177 652.91 Q101.177 645.78 99.3483 642.239 Q97.5428 638.674 93.9086 638.674 M93.9086 634.97 Q99.7187 634.97 102.774 639.577 Q105.853 644.16 105.853 652.91 Q105.853 661.637 102.774 666.243 Q99.7187 670.826 93.9086 670.826 Q88.0984 670.826 85.0197 666.243 Q81.9642 661.637 81.9642 652.91 Q81.9642 644.16 85.0197 639.577 Q88.0984 634.97 93.9086 634.97 Z\" fill=\"#000000\" fill-rule=\"evenodd\" fill-opacity=\"1\" /><path clip-path=\"url(#clip300)\" d=\"M124.07 638.674 Q120.459 638.674 118.631 642.239 Q116.825 645.78 116.825 652.91 Q116.825 660.016 118.631 663.581 Q120.459 667.123 124.07 667.123 Q127.705 667.123 129.51 663.581 Q131.339 660.016 131.339 652.91 Q131.339 645.78 129.51 642.239 Q127.705 638.674 124.07 638.674 M124.07 634.97 Q129.881 634.97 132.936 639.577 Q136.015 644.16 136.015 652.91 Q136.015 661.637 132.936 666.243 Q129.881 670.826 124.07 670.826 Q118.26 670.826 115.182 666.243 Q112.126 661.637 112.126 652.91 Q112.126 644.16 115.182 639.577 Q118.26 634.97 124.07 634.97 Z\" fill=\"#000000\" fill-rule=\"evenodd\" fill-opacity=\"1\" /><path clip-path=\"url(#clip300)\" d=\"M64.3254 254.591 Q61.1773 254.591 59.3254 256.744 Q57.4967 258.897 57.4967 262.647 Q57.4967 266.374 59.3254 268.55 Q61.1773 270.702 64.3254 270.702 Q67.4735 270.702 69.3022 268.55 Q71.1541 266.374 71.1541 262.647 Q71.1541 258.897 69.3022 256.744 Q67.4735 254.591 64.3254 254.591 M73.6077 239.939 L73.6077 244.198 Q71.8485 243.365 70.0429 242.925 Q68.2606 242.485 66.5013 242.485 Q61.8717 242.485 59.418 245.61 Q56.9875 248.735 56.6402 255.054 Q58.006 253.041 60.0662 251.976 Q62.1263 250.888 64.6032 250.888 Q69.8115 250.888 72.8207 254.059 Q75.8531 257.207 75.8531 262.647 Q75.8531 267.971 72.705 271.189 Q69.5568 274.406 64.3254 274.406 Q58.33 274.406 55.1588 269.823 Q51.9875 265.216 51.9875 256.49 Q51.9875 248.295 55.8764 243.434 Q59.7652 238.55 66.3161 238.55 Q68.0754 238.55 69.8578 238.897 Q71.6633 239.244 73.6077 239.939 Z\" fill=\"#000000\" fill-rule=\"evenodd\" fill-opacity=\"1\" /><path clip-path=\"url(#clip300)\" d=\"M93.9086 242.254 Q90.2975 242.254 88.4688 245.818 Q86.6632 249.36 86.6632 256.49 Q86.6632 263.596 88.4688 267.161 Q90.2975 270.702 93.9086 270.702 Q97.5428 270.702 99.3483 267.161 Q101.177 263.596 101.177 256.49 Q101.177 249.36 99.3483 245.818 Q97.5428 242.254 93.9086 242.254 M93.9086 238.55 Q99.7187 238.55 102.774 243.156 Q105.853 247.74 105.853 256.49 Q105.853 265.216 102.774 269.823 Q99.7187 274.406 93.9086 274.406 Q88.0984 274.406 85.0197 269.823 Q81.9642 265.216 81.9642 256.49 Q81.9642 247.74 85.0197 243.156 Q88.0984 238.55 93.9086 238.55 Z\" fill=\"#000000\" fill-rule=\"evenodd\" fill-opacity=\"1\" /><path clip-path=\"url(#clip300)\" d=\"M124.07 242.254 Q120.459 242.254 118.631 245.818 Q116.825 249.36 116.825 256.49 Q116.825 263.596 118.631 267.161 Q120.459 270.702 124.07 270.702 Q127.705 270.702 129.51 267.161 Q131.339 263.596 131.339 256.49 Q131.339 249.36 129.51 245.818 Q127.705 242.254 124.07 242.254 M124.07 238.55 Q129.881 238.55 132.936 243.156 Q136.015 247.74 136.015 256.49 Q136.015 265.216 132.936 269.823 Q129.881 274.406 124.07 274.406 Q118.26 274.406 115.182 269.823 Q112.126 265.216 112.126 256.49 Q112.126 247.74 115.182 243.156 Q118.26 238.55 124.07 238.55 Z\" fill=\"#000000\" fill-rule=\"evenodd\" fill-opacity=\"1\" /><path clip-path=\"url(#clip302)\" d=\"\nM291.959 87.9763 L291.959 1445.72 L615.435 1445.72 L615.435 87.9763 L291.959 87.9763 L291.959 87.9763  Z\n  \" fill=\"#009af9\" fill-rule=\"evenodd\" fill-opacity=\"1\"/>\n<polyline clip-path=\"url(#clip302)\" style=\"stroke:#000000; stroke-linecap:butt; stroke-linejoin:round; stroke-width:4; stroke-opacity:1; fill:none\" points=\"\n  291.959,87.9763 291.959,1445.72 615.435,1445.72 615.435,87.9763 291.959,87.9763 \n  \"/>\n<path clip-path=\"url(#clip302)\" d=\"\nM615.435 1445.72 L615.435 1445.72 L938.91 1445.72 L938.91 1445.72 L615.435 1445.72 L615.435 1445.72  Z\n  \" fill=\"#009af9\" fill-rule=\"evenodd\" fill-opacity=\"1\"/>\n<polyline clip-path=\"url(#clip302)\" style=\"stroke:#000000; stroke-linecap:butt; stroke-linejoin:round; stroke-width:4; stroke-opacity:1; fill:none\" points=\"\n  615.435,1445.72 615.435,1445.72 938.91,1445.72 615.435,1445.72 \n  \"/>\n<path clip-path=\"url(#clip302)\" d=\"\nM938.91 1445.72 L938.91 1445.72 L1262.39 1445.72 L1262.39 1445.72 L938.91 1445.72 L938.91 1445.72  Z\n  \" fill=\"#009af9\" fill-rule=\"evenodd\" fill-opacity=\"1\"/>\n<polyline clip-path=\"url(#clip302)\" style=\"stroke:#000000; stroke-linecap:butt; stroke-linejoin:round; stroke-width:4; stroke-opacity:1; fill:none\" points=\"\n  938.91,1445.72 938.91,1445.72 1262.39,1445.72 938.91,1445.72 \n  \"/>\n<path clip-path=\"url(#clip302)\" d=\"\nM1262.39 1445.72 L1262.39 1445.72 L1585.86 1445.72 L1585.86 1445.72 L1262.39 1445.72 L1262.39 1445.72  Z\n  \" fill=\"#009af9\" fill-rule=\"evenodd\" fill-opacity=\"1\"/>\n<polyline clip-path=\"url(#clip302)\" style=\"stroke:#000000; stroke-linecap:butt; stroke-linejoin:round; stroke-width:4; stroke-opacity:1; fill:none\" points=\"\n  1262.39,1445.72 1262.39,1445.72 1585.86,1445.72 1262.39,1445.72 \n  \"/>\n<path clip-path=\"url(#clip302)\" d=\"\nM1585.86 1445.72 L1585.86 1445.72 L1909.34 1445.72 L1909.34 1445.72 L1585.86 1445.72 L1585.86 1445.72  Z\n  \" fill=\"#009af9\" fill-rule=\"evenodd\" fill-opacity=\"1\"/>\n<polyline clip-path=\"url(#clip302)\" style=\"stroke:#000000; stroke-linecap:butt; stroke-linejoin:round; stroke-width:4; stroke-opacity:1; fill:none\" points=\"\n  1585.86,1445.72 1585.86,1445.72 1909.34,1445.72 1585.86,1445.72 \n  \"/>\n<path clip-path=\"url(#clip302)\" d=\"\nM1909.34 1033.44 L1909.34 1445.72 L2232.81 1445.72 L2232.81 1033.44 L1909.34 1033.44 L1909.34 1033.44  Z\n  \" fill=\"#009af9\" fill-rule=\"evenodd\" fill-opacity=\"1\"/>\n<polyline clip-path=\"url(#clip302)\" style=\"stroke:#000000; stroke-linecap:butt; stroke-linejoin:round; stroke-width:4; stroke-opacity:1; fill:none\" points=\"\n  1909.34,1033.44 1909.34,1445.72 2232.81,1445.72 2232.81,1033.44 1909.34,1033.44 \n  \"/>\n<circle clip-path=\"url(#clip302)\" style=\"fill:#009af9; stroke:none; fill-opacity:0\" cx=\"453.697\" cy=\"87.9763\" r=\"2\"/>\n<circle clip-path=\"url(#clip302)\" style=\"fill:#009af9; stroke:none; fill-opacity:0\" cx=\"777.172\" cy=\"1445.72\" r=\"2\"/>\n<circle clip-path=\"url(#clip302)\" style=\"fill:#009af9; stroke:none; fill-opacity:0\" cx=\"1100.65\" cy=\"1445.72\" r=\"2\"/>\n<circle clip-path=\"url(#clip302)\" style=\"fill:#009af9; stroke:none; fill-opacity:0\" cx=\"1424.12\" cy=\"1445.72\" r=\"2\"/>\n<circle clip-path=\"url(#clip302)\" style=\"fill:#009af9; stroke:none; fill-opacity:0\" cx=\"1747.6\" cy=\"1445.72\" r=\"2\"/>\n<circle clip-path=\"url(#clip302)\" style=\"fill:#009af9; stroke:none; fill-opacity:0\" cx=\"2071.07\" cy=\"1033.44\" r=\"2\"/>\n<path clip-path=\"url(#clip300)\" d=\"\nM1985.33 198.898 L2280.06 198.898 L2280.06 95.2176 L1985.33 95.2176  Z\n  \" fill=\"#ffffff\" fill-rule=\"evenodd\" fill-opacity=\"1\"/>\n<polyline clip-path=\"url(#clip300)\" style=\"stroke:#000000; stroke-linecap:butt; stroke-linejoin:round; stroke-width:4; stroke-opacity:1; fill:none\" points=\"\n  1985.33,198.898 2280.06,198.898 2280.06,95.2176 1985.33,95.2176 1985.33,198.898 \n  \"/>\n<path clip-path=\"url(#clip300)\" d=\"\nM2009.56 167.794 L2154.94 167.794 L2154.94 126.322 L2009.56 126.322 L2009.56 167.794  Z\n  \" fill=\"#009af9\" fill-rule=\"evenodd\" fill-opacity=\"1\"/>\n<polyline clip-path=\"url(#clip300)\" style=\"stroke:#000000; stroke-linecap:butt; stroke-linejoin:round; stroke-width:4; stroke-opacity:1; fill:none\" points=\"\n  2009.56,167.794 2154.94,167.794 2154.94,126.322 2009.56,126.322 2009.56,167.794 \n  \"/>\n<path clip-path=\"url(#clip300)\" d=\"M2193.02 166.745 Q2191.21 171.375 2189.5 172.787 Q2187.78 174.199 2184.91 174.199 L2181.51 174.199 L2181.51 170.634 L2184.01 170.634 Q2185.77 170.634 2186.74 169.8 Q2187.71 168.967 2188.9 165.865 L2189.66 163.921 L2179.17 138.412 L2183.69 138.412 L2191.79 158.689 L2199.89 138.412 L2204.4 138.412 L2193.02 166.745 Z\" fill=\"#000000\" fill-rule=\"evenodd\" fill-opacity=\"1\" /><path clip-path=\"url(#clip300)\" d=\"M2211.7 160.402 L2219.34 160.402 L2219.34 134.037 L2211.03 135.703 L2211.03 131.444 L2219.29 129.778 L2223.96 129.778 L2223.96 160.402 L2231.6 160.402 L2231.6 164.338 L2211.7 164.338 L2211.7 160.402 Z\" fill=\"#000000\" fill-rule=\"evenodd\" fill-opacity=\"1\" /></svg>\n",
      "text/html": [
       "<?xml version=\"1.0\" encoding=\"utf-8\"?>\n",
       "<svg xmlns=\"http://www.w3.org/2000/svg\" xmlns:xlink=\"http://www.w3.org/1999/xlink\" width=\"600\" height=\"400\" viewBox=\"0 0 2400 1600\">\n",
       "<defs>\n",
       "  <clipPath id=\"clip350\">\n",
       "    <rect x=\"0\" y=\"0\" width=\"2400\" height=\"1600\"/>\n",
       "  </clipPath>\n",
       "</defs>\n",
       "<path clip-path=\"url(#clip350)\" d=\"\n",
       "M0 1600 L2400 1600 L2400 0 L0 0  Z\n",
       "  \" fill=\"#ffffff\" fill-rule=\"evenodd\" fill-opacity=\"1\"/>\n",
       "<defs>\n",
       "  <clipPath id=\"clip351\">\n",
       "    <rect x=\"480\" y=\"0\" width=\"1681\" height=\"1600\"/>\n",
       "  </clipPath>\n",
       "</defs>\n",
       "<path clip-path=\"url(#clip350)\" d=\"\n",
       "M172.015 1486.45 L2352.76 1486.45 L2352.76 47.2441 L172.015 47.2441  Z\n",
       "  \" fill=\"#ffffff\" fill-rule=\"evenodd\" fill-opacity=\"1\"/>\n",
       "<defs>\n",
       "  <clipPath id=\"clip352\">\n",
       "    <rect x=\"172\" y=\"47\" width=\"2182\" height=\"1440\"/>\n",
       "  </clipPath>\n",
       "</defs>\n",
       "<polyline clip-path=\"url(#clip352)\" style=\"stroke:#000000; stroke-linecap:butt; stroke-linejoin:round; stroke-width:2; stroke-opacity:0.1; fill:none\" points=\"\n",
       "  291.959,1486.45 291.959,47.2441 \n",
       "  \"/>\n",
       "<polyline clip-path=\"url(#clip352)\" style=\"stroke:#000000; stroke-linecap:butt; stroke-linejoin:round; stroke-width:2; stroke-opacity:0.1; fill:none\" points=\"\n",
       "  615.435,1486.45 615.435,47.2441 \n",
       "  \"/>\n",
       "<polyline clip-path=\"url(#clip352)\" style=\"stroke:#000000; stroke-linecap:butt; stroke-linejoin:round; stroke-width:2; stroke-opacity:0.1; fill:none\" points=\"\n",
       "  938.91,1486.45 938.91,47.2441 \n",
       "  \"/>\n",
       "<polyline clip-path=\"url(#clip352)\" style=\"stroke:#000000; stroke-linecap:butt; stroke-linejoin:round; stroke-width:2; stroke-opacity:0.1; fill:none\" points=\"\n",
       "  1262.39,1486.45 1262.39,47.2441 \n",
       "  \"/>\n",
       "<polyline clip-path=\"url(#clip352)\" style=\"stroke:#000000; stroke-linecap:butt; stroke-linejoin:round; stroke-width:2; stroke-opacity:0.1; fill:none\" points=\"\n",
       "  1585.86,1486.45 1585.86,47.2441 \n",
       "  \"/>\n",
       "<polyline clip-path=\"url(#clip352)\" style=\"stroke:#000000; stroke-linecap:butt; stroke-linejoin:round; stroke-width:2; stroke-opacity:0.1; fill:none\" points=\"\n",
       "  1909.34,1486.45 1909.34,47.2441 \n",
       "  \"/>\n",
       "<polyline clip-path=\"url(#clip352)\" style=\"stroke:#000000; stroke-linecap:butt; stroke-linejoin:round; stroke-width:2; stroke-opacity:0.1; fill:none\" points=\"\n",
       "  2232.81,1486.45 2232.81,47.2441 \n",
       "  \"/>\n",
       "<polyline clip-path=\"url(#clip350)\" style=\"stroke:#000000; stroke-linecap:butt; stroke-linejoin:round; stroke-width:4; stroke-opacity:1; fill:none\" points=\"\n",
       "  172.015,1486.45 2352.76,1486.45 \n",
       "  \"/>\n",
       "<polyline clip-path=\"url(#clip350)\" style=\"stroke:#000000; stroke-linecap:butt; stroke-linejoin:round; stroke-width:4; stroke-opacity:1; fill:none\" points=\"\n",
       "  291.959,1486.45 291.959,1467.55 \n",
       "  \"/>\n",
       "<polyline clip-path=\"url(#clip350)\" style=\"stroke:#000000; stroke-linecap:butt; stroke-linejoin:round; stroke-width:4; stroke-opacity:1; fill:none\" points=\"\n",
       "  615.435,1486.45 615.435,1467.55 \n",
       "  \"/>\n",
       "<polyline clip-path=\"url(#clip350)\" style=\"stroke:#000000; stroke-linecap:butt; stroke-linejoin:round; stroke-width:4; stroke-opacity:1; fill:none\" points=\"\n",
       "  938.91,1486.45 938.91,1467.55 \n",
       "  \"/>\n",
       "<polyline clip-path=\"url(#clip350)\" style=\"stroke:#000000; stroke-linecap:butt; stroke-linejoin:round; stroke-width:4; stroke-opacity:1; fill:none\" points=\"\n",
       "  1262.39,1486.45 1262.39,1467.55 \n",
       "  \"/>\n",
       "<polyline clip-path=\"url(#clip350)\" style=\"stroke:#000000; stroke-linecap:butt; stroke-linejoin:round; stroke-width:4; stroke-opacity:1; fill:none\" points=\"\n",
       "  1585.86,1486.45 1585.86,1467.55 \n",
       "  \"/>\n",
       "<polyline clip-path=\"url(#clip350)\" style=\"stroke:#000000; stroke-linecap:butt; stroke-linejoin:round; stroke-width:4; stroke-opacity:1; fill:none\" points=\"\n",
       "  1909.34,1486.45 1909.34,1467.55 \n",
       "  \"/>\n",
       "<polyline clip-path=\"url(#clip350)\" style=\"stroke:#000000; stroke-linecap:butt; stroke-linejoin:round; stroke-width:4; stroke-opacity:1; fill:none\" points=\"\n",
       "  2232.81,1486.45 2232.81,1467.55 \n",
       "  \"/>\n",
       "<path clip-path=\"url(#clip350)\" d=\"M269.344 1517.37 Q265.733 1517.37 263.904 1520.93 Q262.099 1524.47 262.099 1531.6 Q262.099 1538.71 263.904 1542.27 Q265.733 1545.82 269.344 1545.82 Q272.978 1545.82 274.784 1542.27 Q276.612 1538.71 276.612 1531.6 Q276.612 1524.47 274.784 1520.93 Q272.978 1517.37 269.344 1517.37 M269.344 1513.66 Q275.154 1513.66 278.21 1518.27 Q281.288 1522.85 281.288 1531.6 Q281.288 1540.33 278.21 1544.94 Q275.154 1549.52 269.344 1549.52 Q263.534 1549.52 260.455 1544.94 Q257.399 1540.33 257.399 1531.6 Q257.399 1522.85 260.455 1518.27 Q263.534 1513.66 269.344 1513.66 Z\" fill=\"#000000\" fill-rule=\"evenodd\" fill-opacity=\"1\" /><path clip-path=\"url(#clip350)\" d=\"M289.506 1542.97 L294.39 1542.97 L294.39 1548.85 L289.506 1548.85 L289.506 1542.97 Z\" fill=\"#000000\" fill-rule=\"evenodd\" fill-opacity=\"1\" /><path clip-path=\"url(#clip350)\" d=\"M314.575 1517.37 Q310.964 1517.37 309.135 1520.93 Q307.33 1524.47 307.33 1531.6 Q307.33 1538.71 309.135 1542.27 Q310.964 1545.82 314.575 1545.82 Q318.209 1545.82 320.015 1542.27 Q321.844 1538.71 321.844 1531.6 Q321.844 1524.47 320.015 1520.93 Q318.209 1517.37 314.575 1517.37 M314.575 1513.66 Q320.385 1513.66 323.441 1518.27 Q326.519 1522.85 326.519 1531.6 Q326.519 1540.33 323.441 1544.94 Q320.385 1549.52 314.575 1549.52 Q308.765 1549.52 305.686 1544.94 Q302.631 1540.33 302.631 1531.6 Q302.631 1522.85 305.686 1518.27 Q308.765 1513.66 314.575 1513.66 Z\" fill=\"#000000\" fill-rule=\"evenodd\" fill-opacity=\"1\" /><path clip-path=\"url(#clip350)\" d=\"M593.618 1517.37 Q590.007 1517.37 588.178 1520.93 Q586.372 1524.47 586.372 1531.6 Q586.372 1538.71 588.178 1542.27 Q590.007 1545.82 593.618 1545.82 Q597.252 1545.82 599.058 1542.27 Q600.886 1538.71 600.886 1531.6 Q600.886 1524.47 599.058 1520.93 Q597.252 1517.37 593.618 1517.37 M593.618 1513.66 Q599.428 1513.66 602.483 1518.27 Q605.562 1522.85 605.562 1531.6 Q605.562 1540.33 602.483 1544.94 Q599.428 1549.52 593.618 1549.52 Q587.808 1549.52 584.729 1544.94 Q581.673 1540.33 581.673 1531.6 Q581.673 1522.85 584.729 1518.27 Q587.808 1513.66 593.618 1513.66 Z\" fill=\"#000000\" fill-rule=\"evenodd\" fill-opacity=\"1\" /><path clip-path=\"url(#clip350)\" d=\"M613.78 1542.97 L618.664 1542.97 L618.664 1548.85 L613.78 1548.85 L613.78 1542.97 Z\" fill=\"#000000\" fill-rule=\"evenodd\" fill-opacity=\"1\" /><path clip-path=\"url(#clip350)\" d=\"M632.877 1544.91 L649.196 1544.91 L649.196 1548.85 L627.252 1548.85 L627.252 1544.91 Q629.914 1542.16 634.497 1537.53 Q639.104 1532.88 640.284 1531.53 Q642.53 1529.01 643.409 1527.27 Q644.312 1525.51 644.312 1523.82 Q644.312 1521.07 642.367 1519.33 Q640.446 1517.6 637.344 1517.6 Q635.145 1517.6 632.692 1518.36 Q630.261 1519.13 627.483 1520.68 L627.483 1515.95 Q630.307 1514.82 632.761 1514.24 Q635.215 1513.66 637.252 1513.66 Q642.622 1513.66 645.817 1516.35 Q649.011 1519.03 649.011 1523.52 Q649.011 1525.65 648.201 1527.57 Q647.414 1529.47 645.307 1532.07 Q644.729 1532.74 641.627 1535.95 Q638.525 1539.15 632.877 1544.91 Z\" fill=\"#000000\" fill-rule=\"evenodd\" fill-opacity=\"1\" /><path clip-path=\"url(#clip350)\" d=\"M916.051 1517.37 Q912.44 1517.37 910.612 1520.93 Q908.806 1524.47 908.806 1531.6 Q908.806 1538.71 910.612 1542.27 Q912.44 1545.82 916.051 1545.82 Q919.686 1545.82 921.491 1542.27 Q923.32 1538.71 923.32 1531.6 Q923.32 1524.47 921.491 1520.93 Q919.686 1517.37 916.051 1517.37 M916.051 1513.66 Q921.862 1513.66 924.917 1518.27 Q927.996 1522.85 927.996 1531.6 Q927.996 1540.33 924.917 1544.94 Q921.862 1549.52 916.051 1549.52 Q910.241 1549.52 907.163 1544.94 Q904.107 1540.33 904.107 1531.6 Q904.107 1522.85 907.163 1518.27 Q910.241 1513.66 916.051 1513.66 Z\" fill=\"#000000\" fill-rule=\"evenodd\" fill-opacity=\"1\" /><path clip-path=\"url(#clip350)\" d=\"M936.213 1542.97 L941.098 1542.97 L941.098 1548.85 L936.213 1548.85 L936.213 1542.97 Z\" fill=\"#000000\" fill-rule=\"evenodd\" fill-opacity=\"1\" /><path clip-path=\"url(#clip350)\" d=\"M964.13 1518.36 L952.324 1536.81 L964.13 1536.81 L964.13 1518.36 M962.903 1514.29 L968.783 1514.29 L968.783 1536.81 L973.713 1536.81 L973.713 1540.7 L968.783 1540.7 L968.783 1548.85 L964.13 1548.85 L964.13 1540.7 L948.528 1540.7 L948.528 1536.19 L962.903 1514.29 Z\" fill=\"#000000\" fill-rule=\"evenodd\" fill-opacity=\"1\" /><path clip-path=\"url(#clip350)\" d=\"M1239.69 1517.37 Q1236.08 1517.37 1234.25 1520.93 Q1232.44 1524.47 1232.44 1531.6 Q1232.44 1538.71 1234.25 1542.27 Q1236.08 1545.82 1239.69 1545.82 Q1243.32 1545.82 1245.13 1542.27 Q1246.96 1538.71 1246.96 1531.6 Q1246.96 1524.47 1245.13 1520.93 Q1243.32 1517.37 1239.69 1517.37 M1239.69 1513.66 Q1245.5 1513.66 1248.55 1518.27 Q1251.63 1522.85 1251.63 1531.6 Q1251.63 1540.33 1248.55 1544.94 Q1245.5 1549.52 1239.69 1549.52 Q1233.88 1549.52 1230.8 1544.94 Q1227.74 1540.33 1227.74 1531.6 Q1227.74 1522.85 1230.8 1518.27 Q1233.88 1513.66 1239.69 1513.66 Z\" fill=\"#000000\" fill-rule=\"evenodd\" fill-opacity=\"1\" /><path clip-path=\"url(#clip350)\" d=\"M1259.85 1542.97 L1264.73 1542.97 L1264.73 1548.85 L1259.85 1548.85 L1259.85 1542.97 Z\" fill=\"#000000\" fill-rule=\"evenodd\" fill-opacity=\"1\" /><path clip-path=\"url(#clip350)\" d=\"M1285.5 1529.7 Q1282.35 1529.7 1280.5 1531.86 Q1278.67 1534.01 1278.67 1537.76 Q1278.67 1541.49 1280.5 1543.66 Q1282.35 1545.82 1285.5 1545.82 Q1288.65 1545.82 1290.48 1543.66 Q1292.33 1541.49 1292.33 1537.76 Q1292.33 1534.01 1290.48 1531.86 Q1288.65 1529.7 1285.5 1529.7 M1294.78 1515.05 L1294.78 1519.31 Q1293.02 1518.48 1291.22 1518.04 Q1289.43 1517.6 1287.67 1517.6 Q1283.04 1517.6 1280.59 1520.72 Q1278.16 1523.85 1277.81 1530.17 Q1279.18 1528.15 1281.24 1527.09 Q1283.3 1526 1285.78 1526 Q1290.98 1526 1293.99 1529.17 Q1297.03 1532.32 1297.03 1537.76 Q1297.03 1543.08 1293.88 1546.3 Q1290.73 1549.52 1285.5 1549.52 Q1279.5 1549.52 1276.33 1544.94 Q1273.16 1540.33 1273.16 1531.6 Q1273.16 1523.41 1277.05 1518.55 Q1280.94 1513.66 1287.49 1513.66 Q1289.25 1513.66 1291.03 1514.01 Q1292.84 1514.36 1294.78 1515.05 Z\" fill=\"#000000\" fill-rule=\"evenodd\" fill-opacity=\"1\" /><path clip-path=\"url(#clip350)\" d=\"M1563.29 1517.37 Q1559.68 1517.37 1557.85 1520.93 Q1556.05 1524.47 1556.05 1531.6 Q1556.05 1538.71 1557.85 1542.27 Q1559.68 1545.82 1563.29 1545.82 Q1566.93 1545.82 1568.73 1542.27 Q1570.56 1538.71 1570.56 1531.6 Q1570.56 1524.47 1568.73 1520.93 Q1566.93 1517.37 1563.29 1517.37 M1563.29 1513.66 Q1569.1 1513.66 1572.16 1518.27 Q1575.24 1522.85 1575.24 1531.6 Q1575.24 1540.33 1572.16 1544.94 Q1569.1 1549.52 1563.29 1549.52 Q1557.48 1549.52 1554.4 1544.94 Q1551.35 1540.33 1551.35 1531.6 Q1551.35 1522.85 1554.4 1518.27 Q1557.48 1513.66 1563.29 1513.66 Z\" fill=\"#000000\" fill-rule=\"evenodd\" fill-opacity=\"1\" /><path clip-path=\"url(#clip350)\" d=\"M1583.45 1542.97 L1588.34 1542.97 L1588.34 1548.85 L1583.45 1548.85 L1583.45 1542.97 Z\" fill=\"#000000\" fill-rule=\"evenodd\" fill-opacity=\"1\" /><path clip-path=\"url(#clip350)\" d=\"M1608.52 1532.44 Q1605.19 1532.44 1603.27 1534.22 Q1601.37 1536 1601.37 1539.13 Q1601.37 1542.25 1603.27 1544.03 Q1605.19 1545.82 1608.52 1545.82 Q1611.86 1545.82 1613.78 1544.03 Q1615.7 1542.23 1615.7 1539.13 Q1615.7 1536 1613.78 1534.22 Q1611.88 1532.44 1608.52 1532.44 M1603.85 1530.45 Q1600.84 1529.7 1599.15 1527.64 Q1597.48 1525.58 1597.48 1522.62 Q1597.48 1518.48 1600.42 1516.07 Q1603.38 1513.66 1608.52 1513.66 Q1613.68 1513.66 1616.62 1516.07 Q1619.56 1518.48 1619.56 1522.62 Q1619.56 1525.58 1617.87 1527.64 Q1616.21 1529.7 1613.22 1530.45 Q1616.6 1531.23 1618.48 1533.52 Q1620.37 1535.82 1620.37 1539.13 Q1620.37 1544.15 1617.3 1546.83 Q1614.24 1549.52 1608.52 1549.52 Q1602.81 1549.52 1599.73 1546.83 Q1596.67 1544.15 1596.67 1539.13 Q1596.67 1535.82 1598.57 1533.52 Q1600.47 1531.23 1603.85 1530.45 M1602.13 1523.06 Q1602.13 1525.75 1603.8 1527.25 Q1605.49 1528.76 1608.52 1528.76 Q1611.53 1528.76 1613.22 1527.25 Q1614.93 1525.75 1614.93 1523.06 Q1614.93 1520.38 1613.22 1518.87 Q1611.53 1517.37 1608.52 1517.37 Q1605.49 1517.37 1603.8 1518.87 Q1602.13 1520.38 1602.13 1523.06 Z\" fill=\"#000000\" fill-rule=\"evenodd\" fill-opacity=\"1\" /><path clip-path=\"url(#clip350)\" d=\"M1876.49 1544.91 L1884.13 1544.91 L1884.13 1518.55 L1875.82 1520.21 L1875.82 1515.95 L1884.08 1514.29 L1888.76 1514.29 L1888.76 1544.91 L1896.4 1544.91 L1896.4 1548.85 L1876.49 1548.85 L1876.49 1544.91 Z\" fill=\"#000000\" fill-rule=\"evenodd\" fill-opacity=\"1\" /><path clip-path=\"url(#clip350)\" d=\"M1905.84 1542.97 L1910.72 1542.97 L1910.72 1548.85 L1905.84 1548.85 L1905.84 1542.97 Z\" fill=\"#000000\" fill-rule=\"evenodd\" fill-opacity=\"1\" /><path clip-path=\"url(#clip350)\" d=\"M1930.91 1517.37 Q1927.3 1517.37 1925.47 1520.93 Q1923.66 1524.47 1923.66 1531.6 Q1923.66 1538.71 1925.47 1542.27 Q1927.3 1545.82 1930.91 1545.82 Q1934.54 1545.82 1936.35 1542.27 Q1938.18 1538.71 1938.18 1531.6 Q1938.18 1524.47 1936.35 1520.93 Q1934.54 1517.37 1930.91 1517.37 M1930.91 1513.66 Q1936.72 1513.66 1939.78 1518.27 Q1942.85 1522.85 1942.85 1531.6 Q1942.85 1540.33 1939.78 1544.94 Q1936.72 1549.52 1930.91 1549.52 Q1925.1 1549.52 1922.02 1544.94 Q1918.97 1540.33 1918.97 1531.6 Q1918.97 1522.85 1922.02 1518.27 Q1925.1 1513.66 1930.91 1513.66 Z\" fill=\"#000000\" fill-rule=\"evenodd\" fill-opacity=\"1\" /><path clip-path=\"url(#clip350)\" d=\"M2200.76 1544.91 L2208.4 1544.91 L2208.4 1518.55 L2200.09 1520.21 L2200.09 1515.95 L2208.36 1514.29 L2213.03 1514.29 L2213.03 1544.91 L2220.67 1544.91 L2220.67 1548.85 L2200.76 1548.85 L2200.76 1544.91 Z\" fill=\"#000000\" fill-rule=\"evenodd\" fill-opacity=\"1\" /><path clip-path=\"url(#clip350)\" d=\"M2230.11 1542.97 L2235 1542.97 L2235 1548.85 L2230.11 1548.85 L2230.11 1542.97 Z\" fill=\"#000000\" fill-rule=\"evenodd\" fill-opacity=\"1\" /><path clip-path=\"url(#clip350)\" d=\"M2249.21 1544.91 L2265.53 1544.91 L2265.53 1548.85 L2243.59 1548.85 L2243.59 1544.91 Q2246.25 1542.16 2250.83 1537.53 Q2255.44 1532.88 2256.62 1531.53 Q2258.86 1529.01 2259.74 1527.27 Q2260.65 1525.51 2260.65 1523.82 Q2260.65 1521.07 2258.7 1519.33 Q2256.78 1517.6 2253.68 1517.6 Q2251.48 1517.6 2249.03 1518.36 Q2246.6 1519.13 2243.82 1520.68 L2243.82 1515.95 Q2246.64 1514.82 2249.1 1514.24 Q2251.55 1513.66 2253.59 1513.66 Q2258.96 1513.66 2262.15 1516.35 Q2265.35 1519.03 2265.35 1523.52 Q2265.35 1525.65 2264.54 1527.57 Q2263.75 1529.47 2261.64 1532.07 Q2261.06 1532.74 2257.96 1535.95 Q2254.86 1539.15 2249.21 1544.91 Z\" fill=\"#000000\" fill-rule=\"evenodd\" fill-opacity=\"1\" /><polyline clip-path=\"url(#clip352)\" style=\"stroke:#000000; stroke-linecap:butt; stroke-linejoin:round; stroke-width:2; stroke-opacity:0.1; fill:none\" points=\"\n",
       "  172.015,1445.72 2352.76,1445.72 \n",
       "  \"/>\n",
       "<polyline clip-path=\"url(#clip352)\" style=\"stroke:#000000; stroke-linecap:butt; stroke-linejoin:round; stroke-width:2; stroke-opacity:0.1; fill:none\" points=\"\n",
       "  172.015,1049.3 2352.76,1049.3 \n",
       "  \"/>\n",
       "<polyline clip-path=\"url(#clip352)\" style=\"stroke:#000000; stroke-linecap:butt; stroke-linejoin:round; stroke-width:2; stroke-opacity:0.1; fill:none\" points=\"\n",
       "  172.015,652.875 2352.76,652.875 \n",
       "  \"/>\n",
       "<polyline clip-path=\"url(#clip352)\" style=\"stroke:#000000; stroke-linecap:butt; stroke-linejoin:round; stroke-width:2; stroke-opacity:0.1; fill:none\" points=\"\n",
       "  172.015,256.455 2352.76,256.455 \n",
       "  \"/>\n",
       "<polyline clip-path=\"url(#clip350)\" style=\"stroke:#000000; stroke-linecap:butt; stroke-linejoin:round; stroke-width:4; stroke-opacity:1; fill:none\" points=\"\n",
       "  172.015,1486.45 172.015,47.2441 \n",
       "  \"/>\n",
       "<polyline clip-path=\"url(#clip350)\" style=\"stroke:#000000; stroke-linecap:butt; stroke-linejoin:round; stroke-width:4; stroke-opacity:1; fill:none\" points=\"\n",
       "  172.015,1445.72 190.912,1445.72 \n",
       "  \"/>\n",
       "<polyline clip-path=\"url(#clip350)\" style=\"stroke:#000000; stroke-linecap:butt; stroke-linejoin:round; stroke-width:4; stroke-opacity:1; fill:none\" points=\"\n",
       "  172.015,1049.3 190.912,1049.3 \n",
       "  \"/>\n",
       "<polyline clip-path=\"url(#clip350)\" style=\"stroke:#000000; stroke-linecap:butt; stroke-linejoin:round; stroke-width:4; stroke-opacity:1; fill:none\" points=\"\n",
       "  172.015,652.875 190.912,652.875 \n",
       "  \"/>\n",
       "<polyline clip-path=\"url(#clip350)\" style=\"stroke:#000000; stroke-linecap:butt; stroke-linejoin:round; stroke-width:4; stroke-opacity:1; fill:none\" points=\"\n",
       "  172.015,256.455 190.912,256.455 \n",
       "  \"/>\n",
       "<path clip-path=\"url(#clip350)\" d=\"M124.07 1431.51 Q120.459 1431.51 118.631 1435.08 Q116.825 1438.62 116.825 1445.75 Q116.825 1452.86 118.631 1456.42 Q120.459 1459.96 124.07 1459.96 Q127.705 1459.96 129.51 1456.42 Q131.339 1452.86 131.339 1445.75 Q131.339 1438.62 129.51 1435.08 Q127.705 1431.51 124.07 1431.51 M124.07 1427.81 Q129.881 1427.81 132.936 1432.42 Q136.015 1437 136.015 1445.75 Q136.015 1454.48 132.936 1459.08 Q129.881 1463.67 124.07 1463.67 Q118.26 1463.67 115.182 1459.08 Q112.126 1454.48 112.126 1445.75 Q112.126 1437 115.182 1432.42 Q118.26 1427.81 124.07 1427.81 Z\" fill=\"#000000\" fill-rule=\"evenodd\" fill-opacity=\"1\" /><path clip-path=\"url(#clip350)\" d=\"M57.7745 1062.64 L74.0939 1062.64 L74.0939 1066.58 L52.1495 1066.58 L52.1495 1062.64 Q54.8115 1059.89 59.3949 1055.26 Q64.0013 1050.6 65.1819 1049.26 Q67.4272 1046.74 68.3068 1045 Q69.2096 1043.24 69.2096 1041.55 Q69.2096 1038.8 67.2652 1037.06 Q65.3439 1035.33 62.2421 1035.33 Q60.043 1035.33 57.5893 1036.09 Q55.1588 1036.85 52.381 1038.4 L52.381 1033.68 Q55.2051 1032.55 57.6588 1031.97 Q60.1124 1031.39 62.1495 1031.39 Q67.5198 1031.39 70.7142 1034.08 Q73.9087 1036.76 73.9087 1041.25 Q73.9087 1043.38 73.0985 1045.3 Q72.3115 1047.2 70.205 1049.79 Q69.6263 1050.46 66.5245 1053.68 Q63.4226 1056.88 57.7745 1062.64 Z\" fill=\"#000000\" fill-rule=\"evenodd\" fill-opacity=\"1\" /><path clip-path=\"url(#clip350)\" d=\"M93.9086 1035.09 Q90.2975 1035.09 88.4688 1038.66 Q86.6632 1042.2 86.6632 1049.33 Q86.6632 1056.44 88.4688 1060 Q90.2975 1063.54 93.9086 1063.54 Q97.5428 1063.54 99.3483 1060 Q101.177 1056.44 101.177 1049.33 Q101.177 1042.2 99.3483 1038.66 Q97.5428 1035.09 93.9086 1035.09 M93.9086 1031.39 Q99.7187 1031.39 102.774 1036 Q105.853 1040.58 105.853 1049.33 Q105.853 1058.06 102.774 1062.66 Q99.7187 1067.25 93.9086 1067.25 Q88.0984 1067.25 85.0197 1062.66 Q81.9642 1058.06 81.9642 1049.33 Q81.9642 1040.58 85.0197 1036 Q88.0984 1031.39 93.9086 1031.39 Z\" fill=\"#000000\" fill-rule=\"evenodd\" fill-opacity=\"1\" /><path clip-path=\"url(#clip350)\" d=\"M124.07 1035.09 Q120.459 1035.09 118.631 1038.66 Q116.825 1042.2 116.825 1049.33 Q116.825 1056.44 118.631 1060 Q120.459 1063.54 124.07 1063.54 Q127.705 1063.54 129.51 1060 Q131.339 1056.44 131.339 1049.33 Q131.339 1042.2 129.51 1038.66 Q127.705 1035.09 124.07 1035.09 M124.07 1031.39 Q129.881 1031.39 132.936 1036 Q136.015 1040.58 136.015 1049.33 Q136.015 1058.06 132.936 1062.66 Q129.881 1067.25 124.07 1067.25 Q118.26 1067.25 115.182 1062.66 Q112.126 1058.06 112.126 1049.33 Q112.126 1040.58 115.182 1036 Q118.26 1031.39 124.07 1031.39 Z\" fill=\"#000000\" fill-rule=\"evenodd\" fill-opacity=\"1\" /><path clip-path=\"url(#clip350)\" d=\"M66.5939 639.669 L54.7884 658.118 L66.5939 658.118 L66.5939 639.669 M65.367 635.595 L71.2466 635.595 L71.2466 658.118 L76.1772 658.118 L76.1772 662.007 L71.2466 662.007 L71.2466 670.155 L66.5939 670.155 L66.5939 662.007 L50.9921 662.007 L50.9921 657.493 L65.367 635.595 Z\" fill=\"#000000\" fill-rule=\"evenodd\" fill-opacity=\"1\" /><path clip-path=\"url(#clip350)\" d=\"M93.9086 638.674 Q90.2975 638.674 88.4688 642.239 Q86.6632 645.78 86.6632 652.91 Q86.6632 660.016 88.4688 663.581 Q90.2975 667.123 93.9086 667.123 Q97.5428 667.123 99.3483 663.581 Q101.177 660.016 101.177 652.91 Q101.177 645.78 99.3483 642.239 Q97.5428 638.674 93.9086 638.674 M93.9086 634.97 Q99.7187 634.97 102.774 639.577 Q105.853 644.16 105.853 652.91 Q105.853 661.637 102.774 666.243 Q99.7187 670.826 93.9086 670.826 Q88.0984 670.826 85.0197 666.243 Q81.9642 661.637 81.9642 652.91 Q81.9642 644.16 85.0197 639.577 Q88.0984 634.97 93.9086 634.97 Z\" fill=\"#000000\" fill-rule=\"evenodd\" fill-opacity=\"1\" /><path clip-path=\"url(#clip350)\" d=\"M124.07 638.674 Q120.459 638.674 118.631 642.239 Q116.825 645.78 116.825 652.91 Q116.825 660.016 118.631 663.581 Q120.459 667.123 124.07 667.123 Q127.705 667.123 129.51 663.581 Q131.339 660.016 131.339 652.91 Q131.339 645.78 129.51 642.239 Q127.705 638.674 124.07 638.674 M124.07 634.97 Q129.881 634.97 132.936 639.577 Q136.015 644.16 136.015 652.91 Q136.015 661.637 132.936 666.243 Q129.881 670.826 124.07 670.826 Q118.26 670.826 115.182 666.243 Q112.126 661.637 112.126 652.91 Q112.126 644.16 115.182 639.577 Q118.26 634.97 124.07 634.97 Z\" fill=\"#000000\" fill-rule=\"evenodd\" fill-opacity=\"1\" /><path clip-path=\"url(#clip350)\" d=\"M64.3254 254.591 Q61.1773 254.591 59.3254 256.744 Q57.4967 258.897 57.4967 262.647 Q57.4967 266.374 59.3254 268.55 Q61.1773 270.702 64.3254 270.702 Q67.4735 270.702 69.3022 268.55 Q71.1541 266.374 71.1541 262.647 Q71.1541 258.897 69.3022 256.744 Q67.4735 254.591 64.3254 254.591 M73.6077 239.939 L73.6077 244.198 Q71.8485 243.365 70.0429 242.925 Q68.2606 242.485 66.5013 242.485 Q61.8717 242.485 59.418 245.61 Q56.9875 248.735 56.6402 255.054 Q58.006 253.041 60.0662 251.976 Q62.1263 250.888 64.6032 250.888 Q69.8115 250.888 72.8207 254.059 Q75.8531 257.207 75.8531 262.647 Q75.8531 267.971 72.705 271.189 Q69.5568 274.406 64.3254 274.406 Q58.33 274.406 55.1588 269.823 Q51.9875 265.216 51.9875 256.49 Q51.9875 248.295 55.8764 243.434 Q59.7652 238.55 66.3161 238.55 Q68.0754 238.55 69.8578 238.897 Q71.6633 239.244 73.6077 239.939 Z\" fill=\"#000000\" fill-rule=\"evenodd\" fill-opacity=\"1\" /><path clip-path=\"url(#clip350)\" d=\"M93.9086 242.254 Q90.2975 242.254 88.4688 245.818 Q86.6632 249.36 86.6632 256.49 Q86.6632 263.596 88.4688 267.161 Q90.2975 270.702 93.9086 270.702 Q97.5428 270.702 99.3483 267.161 Q101.177 263.596 101.177 256.49 Q101.177 249.36 99.3483 245.818 Q97.5428 242.254 93.9086 242.254 M93.9086 238.55 Q99.7187 238.55 102.774 243.156 Q105.853 247.74 105.853 256.49 Q105.853 265.216 102.774 269.823 Q99.7187 274.406 93.9086 274.406 Q88.0984 274.406 85.0197 269.823 Q81.9642 265.216 81.9642 256.49 Q81.9642 247.74 85.0197 243.156 Q88.0984 238.55 93.9086 238.55 Z\" fill=\"#000000\" fill-rule=\"evenodd\" fill-opacity=\"1\" /><path clip-path=\"url(#clip350)\" d=\"M124.07 242.254 Q120.459 242.254 118.631 245.818 Q116.825 249.36 116.825 256.49 Q116.825 263.596 118.631 267.161 Q120.459 270.702 124.07 270.702 Q127.705 270.702 129.51 267.161 Q131.339 263.596 131.339 256.49 Q131.339 249.36 129.51 245.818 Q127.705 242.254 124.07 242.254 M124.07 238.55 Q129.881 238.55 132.936 243.156 Q136.015 247.74 136.015 256.49 Q136.015 265.216 132.936 269.823 Q129.881 274.406 124.07 274.406 Q118.26 274.406 115.182 269.823 Q112.126 265.216 112.126 256.49 Q112.126 247.74 115.182 243.156 Q118.26 238.55 124.07 238.55 Z\" fill=\"#000000\" fill-rule=\"evenodd\" fill-opacity=\"1\" /><path clip-path=\"url(#clip352)\" d=\"\n",
       "M291.959 87.9763 L291.959 1445.72 L615.435 1445.72 L615.435 87.9763 L291.959 87.9763 L291.959 87.9763  Z\n",
       "  \" fill=\"#009af9\" fill-rule=\"evenodd\" fill-opacity=\"1\"/>\n",
       "<polyline clip-path=\"url(#clip352)\" style=\"stroke:#000000; stroke-linecap:butt; stroke-linejoin:round; stroke-width:4; stroke-opacity:1; fill:none\" points=\"\n",
       "  291.959,87.9763 291.959,1445.72 615.435,1445.72 615.435,87.9763 291.959,87.9763 \n",
       "  \"/>\n",
       "<path clip-path=\"url(#clip352)\" d=\"\n",
       "M615.435 1445.72 L615.435 1445.72 L938.91 1445.72 L938.91 1445.72 L615.435 1445.72 L615.435 1445.72  Z\n",
       "  \" fill=\"#009af9\" fill-rule=\"evenodd\" fill-opacity=\"1\"/>\n",
       "<polyline clip-path=\"url(#clip352)\" style=\"stroke:#000000; stroke-linecap:butt; stroke-linejoin:round; stroke-width:4; stroke-opacity:1; fill:none\" points=\"\n",
       "  615.435,1445.72 615.435,1445.72 938.91,1445.72 615.435,1445.72 \n",
       "  \"/>\n",
       "<path clip-path=\"url(#clip352)\" d=\"\n",
       "M938.91 1445.72 L938.91 1445.72 L1262.39 1445.72 L1262.39 1445.72 L938.91 1445.72 L938.91 1445.72  Z\n",
       "  \" fill=\"#009af9\" fill-rule=\"evenodd\" fill-opacity=\"1\"/>\n",
       "<polyline clip-path=\"url(#clip352)\" style=\"stroke:#000000; stroke-linecap:butt; stroke-linejoin:round; stroke-width:4; stroke-opacity:1; fill:none\" points=\"\n",
       "  938.91,1445.72 938.91,1445.72 1262.39,1445.72 938.91,1445.72 \n",
       "  \"/>\n",
       "<path clip-path=\"url(#clip352)\" d=\"\n",
       "M1262.39 1445.72 L1262.39 1445.72 L1585.86 1445.72 L1585.86 1445.72 L1262.39 1445.72 L1262.39 1445.72  Z\n",
       "  \" fill=\"#009af9\" fill-rule=\"evenodd\" fill-opacity=\"1\"/>\n",
       "<polyline clip-path=\"url(#clip352)\" style=\"stroke:#000000; stroke-linecap:butt; stroke-linejoin:round; stroke-width:4; stroke-opacity:1; fill:none\" points=\"\n",
       "  1262.39,1445.72 1262.39,1445.72 1585.86,1445.72 1262.39,1445.72 \n",
       "  \"/>\n",
       "<path clip-path=\"url(#clip352)\" d=\"\n",
       "M1585.86 1445.72 L1585.86 1445.72 L1909.34 1445.72 L1909.34 1445.72 L1585.86 1445.72 L1585.86 1445.72  Z\n",
       "  \" fill=\"#009af9\" fill-rule=\"evenodd\" fill-opacity=\"1\"/>\n",
       "<polyline clip-path=\"url(#clip352)\" style=\"stroke:#000000; stroke-linecap:butt; stroke-linejoin:round; stroke-width:4; stroke-opacity:1; fill:none\" points=\"\n",
       "  1585.86,1445.72 1585.86,1445.72 1909.34,1445.72 1585.86,1445.72 \n",
       "  \"/>\n",
       "<path clip-path=\"url(#clip352)\" d=\"\n",
       "M1909.34 1033.44 L1909.34 1445.72 L2232.81 1445.72 L2232.81 1033.44 L1909.34 1033.44 L1909.34 1033.44  Z\n",
       "  \" fill=\"#009af9\" fill-rule=\"evenodd\" fill-opacity=\"1\"/>\n",
       "<polyline clip-path=\"url(#clip352)\" style=\"stroke:#000000; stroke-linecap:butt; stroke-linejoin:round; stroke-width:4; stroke-opacity:1; fill:none\" points=\"\n",
       "  1909.34,1033.44 1909.34,1445.72 2232.81,1445.72 2232.81,1033.44 1909.34,1033.44 \n",
       "  \"/>\n",
       "<circle clip-path=\"url(#clip352)\" style=\"fill:#009af9; stroke:none; fill-opacity:0\" cx=\"453.697\" cy=\"87.9763\" r=\"2\"/>\n",
       "<circle clip-path=\"url(#clip352)\" style=\"fill:#009af9; stroke:none; fill-opacity:0\" cx=\"777.172\" cy=\"1445.72\" r=\"2\"/>\n",
       "<circle clip-path=\"url(#clip352)\" style=\"fill:#009af9; stroke:none; fill-opacity:0\" cx=\"1100.65\" cy=\"1445.72\" r=\"2\"/>\n",
       "<circle clip-path=\"url(#clip352)\" style=\"fill:#009af9; stroke:none; fill-opacity:0\" cx=\"1424.12\" cy=\"1445.72\" r=\"2\"/>\n",
       "<circle clip-path=\"url(#clip352)\" style=\"fill:#009af9; stroke:none; fill-opacity:0\" cx=\"1747.6\" cy=\"1445.72\" r=\"2\"/>\n",
       "<circle clip-path=\"url(#clip352)\" style=\"fill:#009af9; stroke:none; fill-opacity:0\" cx=\"2071.07\" cy=\"1033.44\" r=\"2\"/>\n",
       "<path clip-path=\"url(#clip350)\" d=\"\n",
       "M1985.33 198.898 L2280.06 198.898 L2280.06 95.2176 L1985.33 95.2176  Z\n",
       "  \" fill=\"#ffffff\" fill-rule=\"evenodd\" fill-opacity=\"1\"/>\n",
       "<polyline clip-path=\"url(#clip350)\" style=\"stroke:#000000; stroke-linecap:butt; stroke-linejoin:round; stroke-width:4; stroke-opacity:1; fill:none\" points=\"\n",
       "  1985.33,198.898 2280.06,198.898 2280.06,95.2176 1985.33,95.2176 1985.33,198.898 \n",
       "  \"/>\n",
       "<path clip-path=\"url(#clip350)\" d=\"\n",
       "M2009.56 167.794 L2154.94 167.794 L2154.94 126.322 L2009.56 126.322 L2009.56 167.794  Z\n",
       "  \" fill=\"#009af9\" fill-rule=\"evenodd\" fill-opacity=\"1\"/>\n",
       "<polyline clip-path=\"url(#clip350)\" style=\"stroke:#000000; stroke-linecap:butt; stroke-linejoin:round; stroke-width:4; stroke-opacity:1; fill:none\" points=\"\n",
       "  2009.56,167.794 2154.94,167.794 2154.94,126.322 2009.56,126.322 2009.56,167.794 \n",
       "  \"/>\n",
       "<path clip-path=\"url(#clip350)\" d=\"M2193.02 166.745 Q2191.21 171.375 2189.5 172.787 Q2187.78 174.199 2184.91 174.199 L2181.51 174.199 L2181.51 170.634 L2184.01 170.634 Q2185.77 170.634 2186.74 169.8 Q2187.71 168.967 2188.9 165.865 L2189.66 163.921 L2179.17 138.412 L2183.69 138.412 L2191.79 158.689 L2199.89 138.412 L2204.4 138.412 L2193.02 166.745 Z\" fill=\"#000000\" fill-rule=\"evenodd\" fill-opacity=\"1\" /><path clip-path=\"url(#clip350)\" d=\"M2211.7 160.402 L2219.34 160.402 L2219.34 134.037 L2211.03 135.703 L2211.03 131.444 L2219.29 129.778 L2223.96 129.778 L2223.96 160.402 L2231.6 160.402 L2231.6 164.338 L2211.7 164.338 L2211.7 160.402 Z\" fill=\"#000000\" fill-rule=\"evenodd\" fill-opacity=\"1\" /></svg>\n"
      ]
     },
     "metadata": {},
     "output_type": "display_data"
    }
   ],
   "source": [
    "histogram(data[!, treatment])"
   ]
  },
  {
   "cell_type": "code",
   "execution_count": 10,
   "metadata": {},
   "outputs": [
    {
     "data": {
      "text/plain": [
       "([-69.5504072786804, -53.64789393856909, -21.468661809349776, -57.243203226032264, -66.52839571861276, -67.13079768393017, -35.58775110494134, -60.58863086483662, -44.10379146681325, -41.267886865686755  …  -66.65611254141457, -44.91614455344117, -76.5763974729624, -63.9992768019357, -41.82586225068852, -56.905890288814945, -60.137030683014636, -51.168908475781635, -25.394552014675636, -54.59973418679418], -40456.87350551378, [-91.62774289851004, -29.049674474569002])"
      ]
     },
     "metadata": {},
     "output_type": "display_data"
    }
   ],
   "source": [
    "effects, mean_effect, CI = estimate_ipw(data, adjustments, square_terms, treatment, target, 1000)\n"
   ]
  },
  {
   "cell_type": "code",
   "execution_count": 11,
   "metadata": {},
   "outputs": [
    {
     "data": {
      "text/plain": [
       "-40456.87350551378"
      ]
     },
     "metadata": {},
     "output_type": "display_data"
    }
   ],
   "source": [
    "max(mean_effect)"
   ]
  },
  {
   "cell_type": "code",
   "execution_count": 4,
   "metadata": {},
   "outputs": [
    {
     "data": {
      "text/plain": [
       "-580.2744982429762"
      ]
     },
     "metadata": {},
     "output_type": "display_data"
    }
   ],
   "source": [
    "mean(effects)"
   ]
  },
  {
   "cell_type": "markdown",
   "metadata": {},
   "source": []
  },
  {
   "cell_type": "code",
   "execution_count": 8,
   "metadata": {},
   "outputs": [
    {
     "data": {
      "text/plain": [
       "2-element Vector{Float64}:\n",
       " -92.51436584811502\n",
       " -28.90217420278755"
      ]
     },
     "metadata": {},
     "output_type": "display_data"
    }
   ],
   "source": [
    "CI"
   ]
  },
  {
   "cell_type": "code",
   "execution_count": 81,
   "metadata": {},
   "outputs": [
    {
     "ename": "MethodError",
     "evalue": "MethodError: objects of type Float64 are not callable",
     "output_type": "error",
     "traceback": [
      "MethodError: objects of type Float64 are not callable\n",
      "\n",
      "Stacktrace:\n",
      "  [1] top-level scope\n",
      "    @ d:\\julia\\CovidDepressionAnalysis\\test\\freetests.ipynb:1\n",
      "  [2] eval\n",
      "    @ .\\boot.jl:360 [inlined]\n",
      "  [3] include_string(mapexpr::typeof(REPL.softscope), mod::Module, code::String, filename::String)\n",
      "    @ Base .\\loading.jl:1116\n",
      "  [4] #invokelatest#2\n",
      "    @ .\\essentials.jl:708 [inlined]\n",
      "  [5] invokelatest\n",
      "    @ .\\essentials.jl:706 [inlined]\n",
      "  [6] (::VSCodeServer.var\"#160#161\"{VSCodeServer.NotebookRunCellArguments, String})()\n",
      "    @ VSCodeServer c:\\Users\\andyl\\.vscode\\extensions\\julialang.language-julia-1.6.17\\scripts\\packages\\VSCodeServer\\src\\serve_notebook.jl:19\n",
      "  [7] withpath(f::VSCodeServer.var\"#160#161\"{VSCodeServer.NotebookRunCellArguments, String}, path::String)\n",
      "    @ VSCodeServer c:\\Users\\andyl\\.vscode\\extensions\\julialang.language-julia-1.6.17\\scripts\\packages\\VSCodeServer\\src\\repl.jl:184\n",
      "  [8] notebook_runcell_request(conn::VSCodeServer.JSONRPC.JSONRPCEndpoint{Base.PipeEndpoint, Base.PipeEndpoint}, params::VSCodeServer.NotebookRunCellArguments)\n",
      "    @ VSCodeServer c:\\Users\\andyl\\.vscode\\extensions\\julialang.language-julia-1.6.17\\scripts\\packages\\VSCodeServer\\src\\serve_notebook.jl:13\n",
      "  [9] dispatch_msg(x::VSCodeServer.JSONRPC.JSONRPCEndpoint{Base.PipeEndpoint, Base.PipeEndpoint}, dispatcher::VSCodeServer.JSONRPC.MsgDispatcher, msg::Dict{String, Any})\n",
      "    @ VSCodeServer.JSONRPC c:\\Users\\andyl\\.vscode\\extensions\\julialang.language-julia-1.6.17\\scripts\\packages\\JSONRPC\\src\\typed.jl:67\n",
      " [10] serve_notebook(pipename::String, outputchannel_logger::Base.CoreLogging.SimpleLogger; crashreporting_pipename::String)\n",
      "    @ VSCodeServer c:\\Users\\andyl\\.vscode\\extensions\\julialang.language-julia-1.6.17\\scripts\\packages\\VSCodeServer\\src\\serve_notebook.jl:136\n",
      " [11] top-level scope\n",
      "    @ c:\\Users\\andyl\\.vscode\\extensions\\julialang.language-julia-1.6.17\\scripts\\notebook\\notebook.jl:32\n",
      " [12] include(mod::Module, _path::String)\n",
      "    @ Base .\\Base.jl:386\n",
      " [13] exec_options(opts::Base.JLOptions)\n",
      "    @ Base .\\client.jl:285\n",
      " [14] _start()\n",
      "    @ Base .\\client.jl:485"
     ]
    }
   ],
   "source": [
    "mean(effects, dim=2)"
   ]
  },
  {
   "cell_type": "code",
   "execution_count": 77,
   "metadata": {},
   "outputs": [
    {
     "ename": "MethodError",
     "evalue": "MethodError: objects of type Float64 are not callable",
     "output_type": "error",
     "traceback": [
      "MethodError: objects of type Float64 are not callable\n",
      "\n",
      "Stacktrace:\n",
      "  [1] top-level scope\n",
      "    @ d:\\julia\\CovidDepressionAnalysis\\test\\freetests.ipynb:1\n",
      "  [2] eval\n",
      "    @ .\\boot.jl:360 [inlined]\n",
      "  [3] include_string(mapexpr::typeof(REPL.softscope), mod::Module, code::String, filename::String)\n",
      "    @ Base .\\loading.jl:1116\n",
      "  [4] #invokelatest#2\n",
      "    @ .\\essentials.jl:708 [inlined]\n",
      "  [5] invokelatest\n",
      "    @ .\\essentials.jl:706 [inlined]\n",
      "  [6] (::VSCodeServer.var\"#160#161\"{VSCodeServer.NotebookRunCellArguments, String})()\n",
      "    @ VSCodeServer c:\\Users\\andyl\\.vscode\\extensions\\julialang.language-julia-1.6.17\\scripts\\packages\\VSCodeServer\\src\\serve_notebook.jl:19\n",
      "  [7] withpath(f::VSCodeServer.var\"#160#161\"{VSCodeServer.NotebookRunCellArguments, String}, path::String)\n",
      "    @ VSCodeServer c:\\Users\\andyl\\.vscode\\extensions\\julialang.language-julia-1.6.17\\scripts\\packages\\VSCodeServer\\src\\repl.jl:184\n",
      "  [8] notebook_runcell_request(conn::VSCodeServer.JSONRPC.JSONRPCEndpoint{Base.PipeEndpoint, Base.PipeEndpoint}, params::VSCodeServer.NotebookRunCellArguments)\n",
      "    @ VSCodeServer c:\\Users\\andyl\\.vscode\\extensions\\julialang.language-julia-1.6.17\\scripts\\packages\\VSCodeServer\\src\\serve_notebook.jl:13\n",
      "  [9] dispatch_msg(x::VSCodeServer.JSONRPC.JSONRPCEndpoint{Base.PipeEndpoint, Base.PipeEndpoint}, dispatcher::VSCodeServer.JSONRPC.MsgDispatcher, msg::Dict{String, Any})\n",
      "    @ VSCodeServer.JSONRPC c:\\Users\\andyl\\.vscode\\extensions\\julialang.language-julia-1.6.17\\scripts\\packages\\JSONRPC\\src\\typed.jl:67\n",
      " [10] serve_notebook(pipename::String, outputchannel_logger::Base.CoreLogging.SimpleLogger; crashreporting_pipename::String)\n",
      "    @ VSCodeServer c:\\Users\\andyl\\.vscode\\extensions\\julialang.language-julia-1.6.17\\scripts\\packages\\VSCodeServer\\src\\serve_notebook.jl:136\n",
      " [11] top-level scope\n",
      "    @ c:\\Users\\andyl\\.vscode\\extensions\\julialang.language-julia-1.6.17\\scripts\\notebook\\notebook.jl:32\n",
      " [12] include(mod::Module, _path::String)\n",
      "    @ Base .\\Base.jl:386\n",
      " [13] exec_options(opts::Base.JLOptions)\n",
      "    @ Base .\\client.jl:285\n",
      " [14] _start()\n",
      "    @ Base .\\client.jl:485"
     ]
    }
   ],
   "source": [
    "mean(effects)"
   ]
  },
  {
   "cell_type": "code",
   "execution_count": 27,
   "metadata": {},
   "outputs": [
    {
     "data": {
      "text/html": [
       "<div class=\"data-frame\"><p>18,493 rows × 831 columns (omitted printing of 825 columns)</p><table class=\"data-frame\"><thead><tr><th></th><th>Column1</th><th>PROLIFIC_PID</th><th>wave</th><th>Fear_COVID_raw</th><th>Disgust_COVID_raw</th><th>DISG1.1_20</th></tr><tr><th></th><th title=\"Int64\">Int64</th><th title=\"String31\">String31</th><th title=\"Int64\">Int64</th><th title=\"Int64\">Int64</th><th title=\"Int64\">Int64</th><th title=\"Float64\">Float64</th></tr></thead><tbody><tr><th>1</th><td>0</td><td>5df82e8739bcde5dd044f741</td><td>1</td><td>8</td><td>11</td><td>1.0</td></tr><tr><th>2</th><td>3</td><td>5c7e91c1973c990016ea72b0</td><td>1</td><td>24</td><td>27</td><td>5.0</td></tr><tr><th>3</th><td>3745</td><td>5e753094e8a6f10a9805ed9a</td><td>1</td><td>15</td><td>3</td><td>1.0</td></tr><tr><th>4</th><td>19</td><td>5e67052c757e6149c38ce468</td><td>1</td><td>18</td><td>13</td><td>5.0</td></tr><tr><th>5</th><td>4142</td><td>5e7745990fd39b2a816ec341</td><td>1</td><td>11</td><td>23</td><td>4.0</td></tr><tr><th>6</th><td>28</td><td>5d89106d1719af0001ee23e5</td><td>1</td><td>8</td><td>16</td><td>5.0</td></tr><tr><th>7</th><td>4807</td><td>5dc5bd296a8a334443fbf216</td><td>1</td><td>26</td><td>20</td><td>5.0</td></tr><tr><th>8</th><td>5608</td><td>5dce29700ad506063969a4a5</td><td>1</td><td>12</td><td>16</td><td>4.0</td></tr><tr><th>9</th><td>44</td><td>5d6394518df2870001a74b42</td><td>1</td><td>23</td><td>26</td><td>5.0</td></tr><tr><th>10</th><td>5822</td><td>5e784ba802c79b3c2e227bd3</td><td>1</td><td>18</td><td>16</td><td>2.0</td></tr><tr><th>11</th><td>60</td><td>5bdd368719b9ba000157fb12</td><td>1</td><td>10</td><td>8</td><td>1.0</td></tr><tr><th>12</th><td>6238</td><td>5e4a0a67110b3747ea173d60</td><td>1</td><td>11</td><td>13</td><td>2.0</td></tr><tr><th>13</th><td>6359</td><td>5e605d713d60473af936cc65</td><td>1</td><td>10</td><td>9</td><td>2.0</td></tr><tr><th>14</th><td>6807</td><td>574ce0a57fd0ec000db73aa6</td><td>1</td><td>21</td><td>24</td><td>1.0</td></tr><tr><th>15</th><td>76</td><td>5b68d45687af3100015849a9</td><td>1</td><td>11</td><td>19</td><td>1.0</td></tr><tr><th>16</th><td>5836</td><td>5d75c56a52c89d0017df611c</td><td>1</td><td>15</td><td>24</td><td>4.0</td></tr><tr><th>17</th><td>7073</td><td>55bb74f1fdf99b1519ef4762</td><td>1</td><td>13</td><td>17</td><td>5.0</td></tr><tr><th>18</th><td>7236</td><td>5e3f3666b504fb19a5fe769e</td><td>1</td><td>0</td><td>10</td><td>3.0</td></tr><tr><th>19</th><td>77</td><td>5a8ce265000dab00018ce084</td><td>1</td><td>6</td><td>7</td><td>1.0</td></tr><tr><th>20</th><td>93</td><td>5c72efa770d5a200018028f1</td><td>1</td><td>9</td><td>16</td><td>5.0</td></tr><tr><th>21</th><td>7650</td><td>5c30b2a910677f0001dda4c8</td><td>1</td><td>15</td><td>10</td><td>1.0</td></tr><tr><th>22</th><td>5624</td><td>5d506e6d4040a40016bb186a</td><td>1</td><td>18</td><td>17</td><td>2.0</td></tr><tr><th>23</th><td>7917</td><td>57f0d96061e8340001877045</td><td>1</td><td>18</td><td>13</td><td>1.0</td></tr><tr><th>24</th><td>4820</td><td>5ceef5a66441f4000139711f</td><td>1</td><td>13</td><td>11</td><td>1.0</td></tr><tr><th>&vellip;</th><td>&vellip;</td><td>&vellip;</td><td>&vellip;</td><td>&vellip;</td><td>&vellip;</td><td>&vellip;</td></tr></tbody></table></div>"
      ],
      "text/latex": [
       "\\begin{tabular}{r|ccccccc}\n",
       "\t& Column1 & PROLIFIC\\_PID & wave & Fear\\_COVID\\_raw & Disgust\\_COVID\\_raw & DISG1.1\\_20 & \\\\\n",
       "\t\\hline\n",
       "\t& Int64 & String31 & Int64 & Int64 & Int64 & Float64 & \\\\\n",
       "\t\\hline\n",
       "\t1 & 0 & 5df82e8739bcde5dd044f741 & 1 & 8 & 11 & 1.0 & $\\dots$ \\\\\n",
       "\t2 & 3 & 5c7e91c1973c990016ea72b0 & 1 & 24 & 27 & 5.0 & $\\dots$ \\\\\n",
       "\t3 & 3745 & 5e753094e8a6f10a9805ed9a & 1 & 15 & 3 & 1.0 & $\\dots$ \\\\\n",
       "\t4 & 19 & 5e67052c757e6149c38ce468 & 1 & 18 & 13 & 5.0 & $\\dots$ \\\\\n",
       "\t5 & 4142 & 5e7745990fd39b2a816ec341 & 1 & 11 & 23 & 4.0 & $\\dots$ \\\\\n",
       "\t6 & 28 & 5d89106d1719af0001ee23e5 & 1 & 8 & 16 & 5.0 & $\\dots$ \\\\\n",
       "\t7 & 4807 & 5dc5bd296a8a334443fbf216 & 1 & 26 & 20 & 5.0 & $\\dots$ \\\\\n",
       "\t8 & 5608 & 5dce29700ad506063969a4a5 & 1 & 12 & 16 & 4.0 & $\\dots$ \\\\\n",
       "\t9 & 44 & 5d6394518df2870001a74b42 & 1 & 23 & 26 & 5.0 & $\\dots$ \\\\\n",
       "\t10 & 5822 & 5e784ba802c79b3c2e227bd3 & 1 & 18 & 16 & 2.0 & $\\dots$ \\\\\n",
       "\t11 & 60 & 5bdd368719b9ba000157fb12 & 1 & 10 & 8 & 1.0 & $\\dots$ \\\\\n",
       "\t12 & 6238 & 5e4a0a67110b3747ea173d60 & 1 & 11 & 13 & 2.0 & $\\dots$ \\\\\n",
       "\t13 & 6359 & 5e605d713d60473af936cc65 & 1 & 10 & 9 & 2.0 & $\\dots$ \\\\\n",
       "\t14 & 6807 & 574ce0a57fd0ec000db73aa6 & 1 & 21 & 24 & 1.0 & $\\dots$ \\\\\n",
       "\t15 & 76 & 5b68d45687af3100015849a9 & 1 & 11 & 19 & 1.0 & $\\dots$ \\\\\n",
       "\t16 & 5836 & 5d75c56a52c89d0017df611c & 1 & 15 & 24 & 4.0 & $\\dots$ \\\\\n",
       "\t17 & 7073 & 55bb74f1fdf99b1519ef4762 & 1 & 13 & 17 & 5.0 & $\\dots$ \\\\\n",
       "\t18 & 7236 & 5e3f3666b504fb19a5fe769e & 1 & 0 & 10 & 3.0 & $\\dots$ \\\\\n",
       "\t19 & 77 & 5a8ce265000dab00018ce084 & 1 & 6 & 7 & 1.0 & $\\dots$ \\\\\n",
       "\t20 & 93 & 5c72efa770d5a200018028f1 & 1 & 9 & 16 & 5.0 & $\\dots$ \\\\\n",
       "\t21 & 7650 & 5c30b2a910677f0001dda4c8 & 1 & 15 & 10 & 1.0 & $\\dots$ \\\\\n",
       "\t22 & 5624 & 5d506e6d4040a40016bb186a & 1 & 18 & 17 & 2.0 & $\\dots$ \\\\\n",
       "\t23 & 7917 & 57f0d96061e8340001877045 & 1 & 18 & 13 & 1.0 & $\\dots$ \\\\\n",
       "\t24 & 4820 & 5ceef5a66441f4000139711f & 1 & 13 & 11 & 1.0 & $\\dots$ \\\\\n",
       "\t$\\dots$ & $\\dots$ & $\\dots$ & $\\dots$ & $\\dots$ & $\\dots$ & $\\dots$ &  \\\\\n",
       "\\end{tabular}\n"
      ],
      "text/plain": [
       "\u001b[1m18493×831 DataFrame\u001b[0m\n",
       "\u001b[1m   Row \u001b[0m│\u001b[1m Column1 \u001b[0m\u001b[1m PROLIFIC_PID             \u001b[0m\u001b[1m wave  \u001b[0m\u001b[1m Fear_COVID_raw \u001b[0m\u001b[1m Disgust_COV\u001b[0m ⋯\n",
       "\u001b[1m       \u001b[0m│\u001b[90m Int64   \u001b[0m\u001b[90m String31                 \u001b[0m\u001b[90m Int64 \u001b[0m\u001b[90m Int64          \u001b[0m\u001b[90m Int64      \u001b[0m ⋯\n",
       "───────┼────────────────────────────────────────────────────────────────────────\n",
       "     1 │       0  5df82e8739bcde5dd044f741      1               8              ⋯\n",
       "     2 │       3  5c7e91c1973c990016ea72b0      1              24\n",
       "     3 │    3745  5e753094e8a6f10a9805ed9a      1              15\n",
       "     4 │      19  5e67052c757e6149c38ce468      1              18\n",
       "     5 │    4142  5e7745990fd39b2a816ec341      1              11              ⋯\n",
       "     6 │      28  5d89106d1719af0001ee23e5      1               8\n",
       "     7 │    4807  5dc5bd296a8a334443fbf216      1              26\n",
       "     8 │    5608  5dce29700ad506063969a4a5      1              12\n",
       "   ⋮   │    ⋮                ⋮                ⋮          ⋮                 ⋮   ⋱\n",
       " 18487 │   17060  5e616b0a72248504495fe4ef     16               2              ⋯\n",
       " 18488 │    8956  5dce9e8138628b09c4a5a65e     16               4\n",
       " 18489 │   10726  5d14f01dcd4b9c000184627b     16              14\n",
       " 18490 │    5583  5b5e7e643bac1d0001f9bf28     16              12\n",
       " 18491 │    8970  5d56123417ee8d0001cd9e00     16              10              ⋯\n",
       " 18492 │   15489  5d8e3cd58c996a00138f684c     16               7\n",
       " 18493 │   10739  5d7e7a080cc1c900155d5d07     16               4\n",
       "\u001b[36m                                              827 columns and 18478 rows omitted\u001b[0m"
      ]
     },
     "metadata": {},
     "output_type": "display_data"
    }
   ],
   "source": [
    "data = CSV.read(\"../data/data_all_impute.csv\", DataFrame)\n",
    "\n",
    "# interpolate age from wave 1 to other waves\n",
    "interpolate_age_race(data)\n",
    "# Load Data\n",
    "external_data = CSV.read(\"../data/externalMeasures_county.csv\", DataFrame)\n",
    "external_subset = external_data[external_data[!, \"wave_day\"] .== \"start_date\", :]\n",
    "total_data = leftjoin(data, external_subset, on=[\"PROLIFIC_PID\", \"wave\"])"
   ]
  },
  {
   "cell_type": "code",
   "execution_count": 66,
   "metadata": {},
   "outputs": [
    {
     "data": {
      "text/plain": [
       "18493-element Vector{Float64}:\n",
       " 1.0\n",
       " 1.0\n",
       " 1.0\n",
       " 1.0\n",
       " 1.0\n",
       " 1.0\n",
       " 1.0\n",
       " 1.0\n",
       " 1.0\n",
       " 1.0\n",
       " ⋮\n",
       " 0.0\n",
       " 0.0\n",
       " 0.0\n",
       " 0.0\n",
       " 0.0\n",
       " 0.0\n",
       " 0.0\n",
       " 0.0\n",
       " 0.0"
      ]
     },
     "metadata": {},
     "output_type": "display_data"
    }
   ],
   "source": [
    "data[!, :Mandatory_SAH]"
   ]
  },
  {
   "cell_type": "code",
   "execution_count": 30,
   "metadata": {},
   "outputs": [
    {
     "data": {
      "text/plain": [
       "0-element PooledArrays.PooledVector{Union{Missing, String7}, UInt32, Vector{UInt32}}"
      ]
     },
     "metadata": {},
     "output_type": "display_data"
    }
   ],
   "source": [
    "total_data[ismissing.(total_data[!,\"gatherBan_N_limit\"]),\"gatherBan_N_limit\"]"
   ]
  },
  {
   "cell_type": "code",
   "execution_count": 41,
   "metadata": {},
   "outputs": [
    {
     "data": {
      "image/png": "[encoded data removed]",
      "image/svg+xml": "<?xml version=\"1.0\" encoding=\"utf-8\"?>\n<svg xmlns=\"http://www.w3.org/2000/svg\" xmlns:xlink=\"http://www.w3.org/1999/xlink\" width=\"600\" height=\"400\" viewBox=\"0 0 2400 1600\">\n<defs>\n  <clipPath id=\"clip740\">\n    <rect x=\"0\" y=\"0\" width=\"2400\" height=\"1600\"/>\n  </clipPath>\n</defs>\n<path clip-path=\"url(#clip740)\" d=\"\nM0 1600 L2400 1600 L2400 0 L0 0  Z\n  \" fill=\"#ffffff\" fill-rule=\"evenodd\" fill-opacity=\"1\"/>\n<defs>\n  <clipPath id=\"clip741\">\n    <rect x=\"480\" y=\"0\" width=\"1681\" height=\"1600\"/>\n  </clipPath>\n</defs>\n<path clip-path=\"url(#clip740)\" d=\"\nM172.015 1486.45 L2352.76 1486.45 L2352.76 47.2441 L172.015 47.2441  Z\n  \" fill=\"#ffffff\" fill-rule=\"evenodd\" fill-opacity=\"1\"/>\n<defs>\n  <clipPath id=\"clip742\">\n    <rect x=\"172\" y=\"47\" width=\"2182\" height=\"1440\"/>\n  </clipPath>\n</defs>\n<polyline clip-path=\"url(#clip742)\" style=\"stroke:#000000; stroke-linecap:butt; stroke-linejoin:round; stroke-width:2; stroke-opacity:0.1; fill:none\" points=\"\n  291.959,1486.45 291.959,47.2441 \n  \"/>\n<polyline clip-path=\"url(#clip742)\" style=\"stroke:#000000; stroke-linecap:butt; stroke-linejoin:round; stroke-width:2; stroke-opacity:0.1; fill:none\" points=\"\n  615.435,1486.45 615.435,47.2441 \n  \"/>\n<polyline clip-path=\"url(#clip742)\" style=\"stroke:#000000; stroke-linecap:butt; stroke-linejoin:round; stroke-width:2; stroke-opacity:0.1; fill:none\" points=\"\n  938.91,1486.45 938.91,47.2441 \n  \"/>\n<polyline clip-path=\"url(#clip742)\" style=\"stroke:#000000; stroke-linecap:butt; stroke-linejoin:round; stroke-width:2; stroke-opacity:0.1; fill:none\" points=\"\n  1262.39,1486.45 1262.39,47.2441 \n  \"/>\n<polyline clip-path=\"url(#clip742)\" style=\"stroke:#000000; stroke-linecap:butt; stroke-linejoin:round; stroke-width:2; stroke-opacity:0.1; fill:none\" points=\"\n  1585.86,1486.45 1585.86,47.2441 \n  \"/>\n<polyline clip-path=\"url(#clip742)\" style=\"stroke:#000000; stroke-linecap:butt; stroke-linejoin:round; stroke-width:2; stroke-opacity:0.1; fill:none\" points=\"\n  1909.34,1486.45 1909.34,47.2441 \n  \"/>\n<polyline clip-path=\"url(#clip742)\" style=\"stroke:#000000; stroke-linecap:butt; stroke-linejoin:round; stroke-width:2; stroke-opacity:0.1; fill:none\" points=\"\n  2232.81,1486.45 2232.81,47.2441 \n  \"/>\n<polyline clip-path=\"url(#clip740)\" style=\"stroke:#000000; stroke-linecap:butt; stroke-linejoin:round; stroke-width:4; stroke-opacity:1; fill:none\" points=\"\n  172.015,1486.45 2352.76,1486.45 \n  \"/>\n<polyline clip-path=\"url(#clip740)\" style=\"stroke:#000000; stroke-linecap:butt; stroke-linejoin:round; stroke-width:4; stroke-opacity:1; fill:none\" points=\"\n  291.959,1486.45 291.959,1467.55 \n  \"/>\n<polyline clip-path=\"url(#clip740)\" style=\"stroke:#000000; stroke-linecap:butt; stroke-linejoin:round; stroke-width:4; stroke-opacity:1; fill:none\" points=\"\n  615.435,1486.45 615.435,1467.55 \n  \"/>\n<polyline clip-path=\"url(#clip740)\" style=\"stroke:#000000; stroke-linecap:butt; stroke-linejoin:round; stroke-width:4; stroke-opacity:1; fill:none\" points=\"\n  938.91,1486.45 938.91,1467.55 \n  \"/>\n<polyline clip-path=\"url(#clip740)\" style=\"stroke:#000000; stroke-linecap:butt; stroke-linejoin:round; stroke-width:4; stroke-opacity:1; fill:none\" points=\"\n  1262.39,1486.45 1262.39,1467.55 \n  \"/>\n<polyline clip-path=\"url(#clip740)\" style=\"stroke:#000000; stroke-linecap:butt; stroke-linejoin:round; stroke-width:4; stroke-opacity:1; fill:none\" points=\"\n  1585.86,1486.45 1585.86,1467.55 \n  \"/>\n<polyline clip-path=\"url(#clip740)\" style=\"stroke:#000000; stroke-linecap:butt; stroke-linejoin:round; stroke-width:4; stroke-opacity:1; fill:none\" points=\"\n  1909.34,1486.45 1909.34,1467.55 \n  \"/>\n<polyline clip-path=\"url(#clip740)\" style=\"stroke:#000000; stroke-linecap:butt; stroke-linejoin:round; stroke-width:4; stroke-opacity:1; fill:none\" points=\"\n  2232.81,1486.45 2232.81,1467.55 \n  \"/>\n<path clip-path=\"url(#clip740)\" d=\"M269.344 1517.37 Q265.733 1517.37 263.904 1520.93 Q262.099 1524.47 262.099 1531.6 Q262.099 1538.71 263.904 1542.27 Q265.733 1545.82 269.344 1545.82 Q272.978 1545.82 274.784 1542.27 Q276.612 1538.71 276.612 1531.6 Q276.612 1524.47 274.784 1520.93 Q272.978 1517.37 269.344 1517.37 M269.344 1513.66 Q275.154 1513.66 278.21 1518.27 Q281.288 1522.85 281.288 1531.6 Q281.288 1540.33 278.21 1544.94 Q275.154 1549.52 269.344 1549.52 Q263.534 1549.52 260.455 1544.94 Q257.399 1540.33 257.399 1531.6 Q257.399 1522.85 260.455 1518.27 Q263.534 1513.66 269.344 1513.66 Z\" fill=\"#000000\" fill-rule=\"evenodd\" fill-opacity=\"1\" /><path clip-path=\"url(#clip740)\" d=\"M289.506 1542.97 L294.39 1542.97 L294.39 1548.85 L289.506 1548.85 L289.506 1542.97 Z\" fill=\"#000000\" fill-rule=\"evenodd\" fill-opacity=\"1\" /><path clip-path=\"url(#clip740)\" d=\"M314.575 1517.37 Q310.964 1517.37 309.135 1520.93 Q307.33 1524.47 307.33 1531.6 Q307.33 1538.71 309.135 1542.27 Q310.964 1545.82 314.575 1545.82 Q318.209 1545.82 320.015 1542.27 Q321.844 1538.71 321.844 1531.6 Q321.844 1524.47 320.015 1520.93 Q318.209 1517.37 314.575 1517.37 M314.575 1513.66 Q320.385 1513.66 323.441 1518.27 Q326.519 1522.85 326.519 1531.6 Q326.519 1540.33 323.441 1544.94 Q320.385 1549.52 314.575 1549.52 Q308.765 1549.52 305.686 1544.94 Q302.631 1540.33 302.631 1531.6 Q302.631 1522.85 305.686 1518.27 Q308.765 1513.66 314.575 1513.66 Z\" fill=\"#000000\" fill-rule=\"evenodd\" fill-opacity=\"1\" /><path clip-path=\"url(#clip740)\" d=\"M593.618 1517.37 Q590.007 1517.37 588.178 1520.93 Q586.372 1524.47 586.372 1531.6 Q586.372 1538.71 588.178 1542.27 Q590.007 1545.82 593.618 1545.82 Q597.252 1545.82 599.058 1542.27 Q600.886 1538.71 600.886 1531.6 Q600.886 1524.47 599.058 1520.93 Q597.252 1517.37 593.618 1517.37 M593.618 1513.66 Q599.428 1513.66 602.483 1518.27 Q605.562 1522.85 605.562 1531.6 Q605.562 1540.33 602.483 1544.94 Q599.428 1549.52 593.618 1549.52 Q587.808 1549.52 584.729 1544.94 Q581.673 1540.33 581.673 1531.6 Q581.673 1522.85 584.729 1518.27 Q587.808 1513.66 593.618 1513.66 Z\" fill=\"#000000\" fill-rule=\"evenodd\" fill-opacity=\"1\" /><path clip-path=\"url(#clip740)\" d=\"M613.78 1542.97 L618.664 1542.97 L618.664 1548.85 L613.78 1548.85 L613.78 1542.97 Z\" fill=\"#000000\" fill-rule=\"evenodd\" fill-opacity=\"1\" /><path clip-path=\"url(#clip740)\" d=\"M632.877 1544.91 L649.196 1544.91 L649.196 1548.85 L627.252 1548.85 L627.252 1544.91 Q629.914 1542.16 634.497 1537.53 Q639.104 1532.88 640.284 1531.53 Q642.53 1529.01 643.409 1527.27 Q644.312 1525.51 644.312 1523.82 Q644.312 1521.07 642.367 1519.33 Q640.446 1517.6 637.344 1517.6 Q635.145 1517.6 632.692 1518.36 Q630.261 1519.13 627.483 1520.68 L627.483 1515.95 Q630.307 1514.82 632.761 1514.24 Q635.215 1513.66 637.252 1513.66 Q642.622 1513.66 645.817 1516.35 Q649.011 1519.03 649.011 1523.52 Q649.011 1525.65 648.201 1527.57 Q647.414 1529.47 645.307 1532.07 Q644.729 1532.74 641.627 1535.95 Q638.525 1539.15 632.877 1544.91 Z\" fill=\"#000000\" fill-rule=\"evenodd\" fill-opacity=\"1\" /><path clip-path=\"url(#clip740)\" d=\"M916.051 1517.37 Q912.44 1517.37 910.612 1520.93 Q908.806 1524.47 908.806 1531.6 Q908.806 1538.71 910.612 1542.27 Q912.44 1545.82 916.051 1545.82 Q919.686 1545.82 921.491 1542.27 Q923.32 1538.71 923.32 1531.6 Q923.32 1524.47 921.491 1520.93 Q919.686 1517.37 916.051 1517.37 M916.051 1513.66 Q921.862 1513.66 924.917 1518.27 Q927.996 1522.85 927.996 1531.6 Q927.996 1540.33 924.917 1544.94 Q921.862 1549.52 916.051 1549.52 Q910.241 1549.52 907.163 1544.94 Q904.107 1540.33 904.107 1531.6 Q904.107 1522.85 907.163 1518.27 Q910.241 1513.66 916.051 1513.66 Z\" fill=\"#000000\" fill-rule=\"evenodd\" fill-opacity=\"1\" /><path clip-path=\"url(#clip740)\" d=\"M936.213 1542.97 L941.098 1542.97 L941.098 1548.85 L936.213 1548.85 L936.213 1542.97 Z\" fill=\"#000000\" fill-rule=\"evenodd\" fill-opacity=\"1\" /><path clip-path=\"url(#clip740)\" d=\"M964.13 1518.36 L952.324 1536.81 L964.13 1536.81 L964.13 1518.36 M962.903 1514.29 L968.783 1514.29 L968.783 1536.81 L973.713 1536.81 L973.713 1540.7 L968.783 1540.7 L968.783 1548.85 L964.13 1548.85 L964.13 1540.7 L948.528 1540.7 L948.528 1536.19 L962.903 1514.29 Z\" fill=\"#000000\" fill-rule=\"evenodd\" fill-opacity=\"1\" /><path clip-path=\"url(#clip740)\" d=\"M1239.69 1517.37 Q1236.08 1517.37 1234.25 1520.93 Q1232.44 1524.47 1232.44 1531.6 Q1232.44 1538.71 1234.25 1542.27 Q1236.08 1545.82 1239.69 1545.82 Q1243.32 1545.82 1245.13 1542.27 Q1246.96 1538.71 1246.96 1531.6 Q1246.96 1524.47 1245.13 1520.93 Q1243.32 1517.37 1239.69 1517.37 M1239.69 1513.66 Q1245.5 1513.66 1248.55 1518.27 Q1251.63 1522.85 1251.63 1531.6 Q1251.63 1540.33 1248.55 1544.94 Q1245.5 1549.52 1239.69 1549.52 Q1233.88 1549.52 1230.8 1544.94 Q1227.74 1540.33 1227.74 1531.6 Q1227.74 1522.85 1230.8 1518.27 Q1233.88 1513.66 1239.69 1513.66 Z\" fill=\"#000000\" fill-rule=\"evenodd\" fill-opacity=\"1\" /><path clip-path=\"url(#clip740)\" d=\"M1259.85 1542.97 L1264.73 1542.97 L1264.73 1548.85 L1259.85 1548.85 L1259.85 1542.97 Z\" fill=\"#000000\" fill-rule=\"evenodd\" fill-opacity=\"1\" /><path clip-path=\"url(#clip740)\" d=\"M1285.5 1529.7 Q1282.35 1529.7 1280.5 1531.86 Q1278.67 1534.01 1278.67 1537.76 Q1278.67 1541.49 1280.5 1543.66 Q1282.35 1545.82 1285.5 1545.82 Q1288.65 1545.82 1290.48 1543.66 Q1292.33 1541.49 1292.33 1537.76 Q1292.33 1534.01 1290.48 1531.86 Q1288.65 1529.7 1285.5 1529.7 M1294.78 1515.05 L1294.78 1519.31 Q1293.02 1518.48 1291.22 1518.04 Q1289.43 1517.6 1287.67 1517.6 Q1283.04 1517.6 1280.59 1520.72 Q1278.16 1523.85 1277.81 1530.17 Q1279.18 1528.15 1281.24 1527.09 Q1283.3 1526 1285.78 1526 Q1290.98 1526 1293.99 1529.17 Q1297.03 1532.32 1297.03 1537.76 Q1297.03 1543.08 1293.88 1546.3 Q1290.73 1549.52 1285.5 1549.52 Q1279.5 1549.52 1276.33 1544.94 Q1273.16 1540.33 1273.16 1531.6 Q1273.16 1523.41 1277.05 1518.55 Q1280.94 1513.66 1287.49 1513.66 Q1289.25 1513.66 1291.03 1514.01 Q1292.84 1514.36 1294.78 1515.05 Z\" fill=\"#000000\" fill-rule=\"evenodd\" fill-opacity=\"1\" /><path clip-path=\"url(#clip740)\" d=\"M1563.29 1517.37 Q1559.68 1517.37 1557.85 1520.93 Q1556.05 1524.47 1556.05 1531.6 Q1556.05 1538.71 1557.85 1542.27 Q1559.68 1545.82 1563.29 1545.82 Q1566.93 1545.82 1568.73 1542.27 Q1570.56 1538.71 1570.56 1531.6 Q1570.56 1524.47 1568.73 1520.93 Q1566.93 1517.37 1563.29 1517.37 M1563.29 1513.66 Q1569.1 1513.66 1572.16 1518.27 Q1575.24 1522.85 1575.24 1531.6 Q1575.24 1540.33 1572.16 1544.94 Q1569.1 1549.52 1563.29 1549.52 Q1557.48 1549.52 1554.4 1544.94 Q1551.35 1540.33 1551.35 1531.6 Q1551.35 1522.85 1554.4 1518.27 Q1557.48 1513.66 1563.29 1513.66 Z\" fill=\"#000000\" fill-rule=\"evenodd\" fill-opacity=\"1\" /><path clip-path=\"url(#clip740)\" d=\"M1583.45 1542.97 L1588.34 1542.97 L1588.34 1548.85 L1583.45 1548.85 L1583.45 1542.97 Z\" fill=\"#000000\" fill-rule=\"evenodd\" fill-opacity=\"1\" /><path clip-path=\"url(#clip740)\" d=\"M1608.52 1532.44 Q1605.19 1532.44 1603.27 1534.22 Q1601.37 1536 1601.37 1539.13 Q1601.37 1542.25 1603.27 1544.03 Q1605.19 1545.82 1608.52 1545.82 Q1611.86 1545.82 1613.78 1544.03 Q1615.7 1542.23 1615.7 1539.13 Q1615.7 1536 1613.78 1534.22 Q1611.88 1532.44 1608.52 1532.44 M1603.85 1530.45 Q1600.84 1529.7 1599.15 1527.64 Q1597.48 1525.58 1597.48 1522.62 Q1597.48 1518.48 1600.42 1516.07 Q1603.38 1513.66 1608.52 1513.66 Q1613.68 1513.66 1616.62 1516.07 Q1619.56 1518.48 1619.56 1522.62 Q1619.56 1525.58 1617.87 1527.64 Q1616.21 1529.7 1613.22 1530.45 Q1616.6 1531.23 1618.48 1533.52 Q1620.37 1535.82 1620.37 1539.13 Q1620.37 1544.15 1617.3 1546.83 Q1614.24 1549.52 1608.52 1549.52 Q1602.81 1549.52 1599.73 1546.83 Q1596.67 1544.15 1596.67 1539.13 Q1596.67 1535.82 1598.57 1533.52 Q1600.47 1531.23 1603.85 1530.45 M1602.13 1523.06 Q1602.13 1525.75 1603.8 1527.25 Q1605.49 1528.76 1608.52 1528.76 Q1611.53 1528.76 1613.22 1527.25 Q1614.93 1525.75 1614.93 1523.06 Q1614.93 1520.38 1613.22 1518.87 Q1611.53 1517.37 1608.52 1517.37 Q1605.49 1517.37 1603.8 1518.87 Q1602.13 1520.38 1602.13 1523.06 Z\" fill=\"#000000\" fill-rule=\"evenodd\" fill-opacity=\"1\" /><path clip-path=\"url(#clip740)\" d=\"M1876.49 1544.91 L1884.13 1544.91 L1884.13 1518.55 L1875.82 1520.21 L1875.82 1515.95 L1884.08 1514.29 L1888.76 1514.29 L1888.76 1544.91 L1896.4 1544.91 L1896.4 1548.85 L1876.49 1548.85 L1876.49 1544.91 Z\" fill=\"#000000\" fill-rule=\"evenodd\" fill-opacity=\"1\" /><path clip-path=\"url(#clip740)\" d=\"M1905.84 1542.97 L1910.72 1542.97 L1910.72 1548.85 L1905.84 1548.85 L1905.84 1542.97 Z\" fill=\"#000000\" fill-rule=\"evenodd\" fill-opacity=\"1\" /><path clip-path=\"url(#clip740)\" d=\"M1930.91 1517.37 Q1927.3 1517.37 1925.47 1520.93 Q1923.66 1524.47 1923.66 1531.6 Q1923.66 1538.71 1925.47 1542.27 Q1927.3 1545.82 1930.91 1545.82 Q1934.54 1545.82 1936.35 1542.27 Q1938.18 1538.71 1938.18 1531.6 Q1938.18 1524.47 1936.35 1520.93 Q1934.54 1517.37 1930.91 1517.37 M1930.91 1513.66 Q1936.72 1513.66 1939.78 1518.27 Q1942.85 1522.85 1942.85 1531.6 Q1942.85 1540.33 1939.78 1544.94 Q1936.72 1549.52 1930.91 1549.52 Q1925.1 1549.52 1922.02 1544.94 Q1918.97 1540.33 1918.97 1531.6 Q1918.97 1522.85 1922.02 1518.27 Q1925.1 1513.66 1930.91 1513.66 Z\" fill=\"#000000\" fill-rule=\"evenodd\" fill-opacity=\"1\" /><path clip-path=\"url(#clip740)\" d=\"M2200.76 1544.91 L2208.4 1544.91 L2208.4 1518.55 L2200.09 1520.21 L2200.09 1515.95 L2208.36 1514.29 L2213.03 1514.29 L2213.03 1544.91 L2220.67 1544.91 L2220.67 1548.85 L2200.76 1548.85 L2200.76 1544.91 Z\" fill=\"#000000\" fill-rule=\"evenodd\" fill-opacity=\"1\" /><path clip-path=\"url(#clip740)\" d=\"M2230.11 1542.97 L2235 1542.97 L2235 1548.85 L2230.11 1548.85 L2230.11 1542.97 Z\" fill=\"#000000\" fill-rule=\"evenodd\" fill-opacity=\"1\" /><path clip-path=\"url(#clip740)\" d=\"M2249.21 1544.91 L2265.53 1544.91 L2265.53 1548.85 L2243.59 1548.85 L2243.59 1544.91 Q2246.25 1542.16 2250.83 1537.53 Q2255.44 1532.88 2256.62 1531.53 Q2258.86 1529.01 2259.74 1527.27 Q2260.65 1525.51 2260.65 1523.82 Q2260.65 1521.07 2258.7 1519.33 Q2256.78 1517.6 2253.68 1517.6 Q2251.48 1517.6 2249.03 1518.36 Q2246.6 1519.13 2243.82 1520.68 L2243.82 1515.95 Q2246.64 1514.82 2249.1 1514.24 Q2251.55 1513.66 2253.59 1513.66 Q2258.96 1513.66 2262.15 1516.35 Q2265.35 1519.03 2265.35 1523.52 Q2265.35 1525.65 2264.54 1527.57 Q2263.75 1529.47 2261.64 1532.07 Q2261.06 1532.74 2257.96 1535.95 Q2254.86 1539.15 2249.21 1544.91 Z\" fill=\"#000000\" fill-rule=\"evenodd\" fill-opacity=\"1\" /><polyline clip-path=\"url(#clip742)\" style=\"stroke:#000000; stroke-linecap:butt; stroke-linejoin:round; stroke-width:2; stroke-opacity:0.1; fill:none\" points=\"\n  172.015,1445.72 2352.76,1445.72 \n  \"/>\n<polyline clip-path=\"url(#clip742)\" style=\"stroke:#000000; stroke-linecap:butt; stroke-linejoin:round; stroke-width:2; stroke-opacity:0.1; fill:none\" points=\"\n  172.015,1221.67 2352.76,1221.67 \n  \"/>\n<polyline clip-path=\"url(#clip742)\" style=\"stroke:#000000; stroke-linecap:butt; stroke-linejoin:round; stroke-width:2; stroke-opacity:0.1; fill:none\" points=\"\n  172.015,997.617 2352.76,997.617 \n  \"/>\n<polyline clip-path=\"url(#clip742)\" style=\"stroke:#000000; stroke-linecap:butt; stroke-linejoin:round; stroke-width:2; stroke-opacity:0.1; fill:none\" points=\"\n  172.015,773.567 2352.76,773.567 \n  \"/>\n<polyline clip-path=\"url(#clip742)\" style=\"stroke:#000000; stroke-linecap:butt; stroke-linejoin:round; stroke-width:2; stroke-opacity:0.1; fill:none\" points=\"\n  172.015,549.518 2352.76,549.518 \n  \"/>\n<polyline clip-path=\"url(#clip742)\" style=\"stroke:#000000; stroke-linecap:butt; stroke-linejoin:round; stroke-width:2; stroke-opacity:0.1; fill:none\" points=\"\n  172.015,325.469 2352.76,325.469 \n  \"/>\n<polyline clip-path=\"url(#clip742)\" style=\"stroke:#000000; stroke-linecap:butt; stroke-linejoin:round; stroke-width:2; stroke-opacity:0.1; fill:none\" points=\"\n  172.015,101.419 2352.76,101.419 \n  \"/>\n<polyline clip-path=\"url(#clip740)\" style=\"stroke:#000000; stroke-linecap:butt; stroke-linejoin:round; stroke-width:4; stroke-opacity:1; fill:none\" points=\"\n  172.015,1486.45 172.015,47.2441 \n  \"/>\n<polyline clip-path=\"url(#clip740)\" style=\"stroke:#000000; stroke-linecap:butt; stroke-linejoin:round; stroke-width:4; stroke-opacity:1; fill:none\" points=\"\n  172.015,1445.72 190.912,1445.72 \n  \"/>\n<polyline clip-path=\"url(#clip740)\" style=\"stroke:#000000; stroke-linecap:butt; stroke-linejoin:round; stroke-width:4; stroke-opacity:1; fill:none\" points=\"\n  172.015,1221.67 190.912,1221.67 \n  \"/>\n<polyline clip-path=\"url(#clip740)\" style=\"stroke:#000000; stroke-linecap:butt; stroke-linejoin:round; stroke-width:4; stroke-opacity:1; fill:none\" points=\"\n  172.015,997.617 190.912,997.617 \n  \"/>\n<polyline clip-path=\"url(#clip740)\" style=\"stroke:#000000; stroke-linecap:butt; stroke-linejoin:round; stroke-width:4; stroke-opacity:1; fill:none\" points=\"\n  172.015,773.567 190.912,773.567 \n  \"/>\n<polyline clip-path=\"url(#clip740)\" style=\"stroke:#000000; stroke-linecap:butt; stroke-linejoin:round; stroke-width:4; stroke-opacity:1; fill:none\" points=\"\n  172.015,549.518 190.912,549.518 \n  \"/>\n<polyline clip-path=\"url(#clip740)\" style=\"stroke:#000000; stroke-linecap:butt; stroke-linejoin:round; stroke-width:4; stroke-opacity:1; fill:none\" points=\"\n  172.015,325.469 190.912,325.469 \n  \"/>\n<polyline clip-path=\"url(#clip740)\" style=\"stroke:#000000; stroke-linecap:butt; stroke-linejoin:round; stroke-width:4; stroke-opacity:1; fill:none\" points=\"\n  172.015,101.419 190.912,101.419 \n  \"/>\n<path clip-path=\"url(#clip740)\" d=\"M124.07 1431.51 Q120.459 1431.51 118.631 1435.08 Q116.825 1438.62 116.825 1445.75 Q116.825 1452.86 118.631 1456.42 Q120.459 1459.96 124.07 1459.96 Q127.705 1459.96 129.51 1456.42 Q131.339 1452.86 131.339 1445.75 Q131.339 1438.62 129.51 1435.08 Q127.705 1431.51 124.07 1431.51 M124.07 1427.81 Q129.881 1427.81 132.936 1432.42 Q136.015 1437 136.015 1445.75 Q136.015 1454.48 132.936 1459.08 Q129.881 1463.67 124.07 1463.67 Q118.26 1463.67 115.182 1459.08 Q112.126 1454.48 112.126 1445.75 Q112.126 1437 115.182 1432.42 Q118.26 1427.81 124.07 1427.81 Z\" fill=\"#000000\" fill-rule=\"evenodd\" fill-opacity=\"1\" /><path clip-path=\"url(#clip740)\" d=\"M54.5569 1235.01 L62.1958 1235.01 L62.1958 1208.65 L53.8856 1210.31 L53.8856 1206.05 L62.1495 1204.39 L66.8254 1204.39 L66.8254 1235.01 L74.4642 1235.01 L74.4642 1238.95 L54.5569 1238.95 L54.5569 1235.01 Z\" fill=\"#000000\" fill-rule=\"evenodd\" fill-opacity=\"1\" /><path clip-path=\"url(#clip740)\" d=\"M93.9086 1207.46 Q90.2975 1207.46 88.4688 1211.03 Q86.6632 1214.57 86.6632 1221.7 Q86.6632 1228.81 88.4688 1232.37 Q90.2975 1235.91 93.9086 1235.91 Q97.5428 1235.91 99.3483 1232.37 Q101.177 1228.81 101.177 1221.7 Q101.177 1214.57 99.3483 1211.03 Q97.5428 1207.46 93.9086 1207.46 M93.9086 1203.76 Q99.7187 1203.76 102.774 1208.37 Q105.853 1212.95 105.853 1221.7 Q105.853 1230.43 102.774 1235.03 Q99.7187 1239.62 93.9086 1239.62 Q88.0984 1239.62 85.0197 1235.03 Q81.9642 1230.43 81.9642 1221.7 Q81.9642 1212.95 85.0197 1208.37 Q88.0984 1203.76 93.9086 1203.76 Z\" fill=\"#000000\" fill-rule=\"evenodd\" fill-opacity=\"1\" /><path clip-path=\"url(#clip740)\" d=\"M124.07 1207.46 Q120.459 1207.46 118.631 1211.03 Q116.825 1214.57 116.825 1221.7 Q116.825 1228.81 118.631 1232.37 Q120.459 1235.91 124.07 1235.91 Q127.705 1235.91 129.51 1232.37 Q131.339 1228.81 131.339 1221.7 Q131.339 1214.57 129.51 1211.03 Q127.705 1207.46 124.07 1207.46 M124.07 1203.76 Q129.881 1203.76 132.936 1208.37 Q136.015 1212.95 136.015 1221.7 Q136.015 1230.43 132.936 1235.03 Q129.881 1239.62 124.07 1239.62 Q118.26 1239.62 115.182 1235.03 Q112.126 1230.43 112.126 1221.7 Q112.126 1212.95 115.182 1208.37 Q118.26 1203.76 124.07 1203.76 Z\" fill=\"#000000\" fill-rule=\"evenodd\" fill-opacity=\"1\" /><path clip-path=\"url(#clip740)\" d=\"M57.7745 1010.96 L74.0939 1010.96 L74.0939 1014.9 L52.1495 1014.9 L52.1495 1010.96 Q54.8115 1008.21 59.3949 1003.58 Q64.0013 998.925 65.1819 997.582 Q67.4272 995.059 68.3068 993.323 Q69.2096 991.564 69.2096 989.874 Q69.2096 987.119 67.2652 985.383 Q65.3439 983.647 62.2421 983.647 Q60.043 983.647 57.5893 984.411 Q55.1588 985.175 52.381 986.726 L52.381 982.004 Q55.2051 980.869 57.6588 980.291 Q60.1124 979.712 62.1495 979.712 Q67.5198 979.712 70.7142 982.397 Q73.9087 985.082 73.9087 989.573 Q73.9087 991.703 73.0985 993.624 Q72.3115 995.522 70.205 998.115 Q69.6263 998.786 66.5245 1002 Q63.4226 1005.2 57.7745 1010.96 Z\" fill=\"#000000\" fill-rule=\"evenodd\" fill-opacity=\"1\" /><path clip-path=\"url(#clip740)\" d=\"M93.9086 983.416 Q90.2975 983.416 88.4688 986.98 Q86.6632 990.522 86.6632 997.652 Q86.6632 1004.76 88.4688 1008.32 Q90.2975 1011.86 93.9086 1011.86 Q97.5428 1011.86 99.3483 1008.32 Q101.177 1004.76 101.177 997.652 Q101.177 990.522 99.3483 986.98 Q97.5428 983.416 93.9086 983.416 M93.9086 979.712 Q99.7187 979.712 102.774 984.318 Q105.853 988.902 105.853 997.652 Q105.853 1006.38 102.774 1010.98 Q99.7187 1015.57 93.9086 1015.57 Q88.0984 1015.57 85.0197 1010.98 Q81.9642 1006.38 81.9642 997.652 Q81.9642 988.902 85.0197 984.318 Q88.0984 979.712 93.9086 979.712 Z\" fill=\"#000000\" fill-rule=\"evenodd\" fill-opacity=\"1\" /><path clip-path=\"url(#clip740)\" d=\"M124.07 983.416 Q120.459 983.416 118.631 986.98 Q116.825 990.522 116.825 997.652 Q116.825 1004.76 118.631 1008.32 Q120.459 1011.86 124.07 1011.86 Q127.705 1011.86 129.51 1008.32 Q131.339 1004.76 131.339 997.652 Q131.339 990.522 129.51 986.98 Q127.705 983.416 124.07 983.416 M124.07 979.712 Q129.881 979.712 132.936 984.318 Q136.015 988.902 136.015 997.652 Q136.015 1006.38 132.936 1010.98 Q129.881 1015.57 124.07 1015.57 Q118.26 1015.57 115.182 1010.98 Q112.126 1006.38 112.126 997.652 Q112.126 988.902 115.182 984.318 Q118.26 979.712 124.07 979.712 Z\" fill=\"#000000\" fill-rule=\"evenodd\" fill-opacity=\"1\" /><path clip-path=\"url(#clip740)\" d=\"M67.9133 772.213 Q71.2698 772.931 73.1448 775.199 Q75.0429 777.468 75.0429 780.801 Q75.0429 785.917 71.5244 788.718 Q68.0059 791.519 61.5245 791.519 Q59.3486 791.519 57.0338 791.079 Q54.7421 790.662 52.2884 789.806 L52.2884 785.292 Q54.2328 786.426 56.5477 787.005 Q58.8625 787.584 61.3856 787.584 Q65.7837 787.584 68.0754 785.847 Q70.3902 784.111 70.3902 780.801 Q70.3902 777.746 68.2374 776.033 Q66.1078 774.297 62.2884 774.297 L58.2606 774.297 L58.2606 770.454 L62.4735 770.454 Q65.9226 770.454 67.7513 769.088 Q69.58 767.699 69.58 765.107 Q69.58 762.445 67.6819 761.033 Q65.8069 759.598 62.2884 759.598 Q60.3671 759.598 58.168 760.014 Q55.969 760.431 53.3301 761.311 L53.3301 757.144 Q55.9921 756.403 58.3069 756.033 Q60.6449 755.662 62.705 755.662 Q68.0291 755.662 71.1309 758.093 Q74.2327 760.5 74.2327 764.621 Q74.2327 767.491 72.5892 769.482 Q70.9457 771.449 67.9133 772.213 Z\" fill=\"#000000\" fill-rule=\"evenodd\" fill-opacity=\"1\" /><path clip-path=\"url(#clip740)\" d=\"M93.9086 759.366 Q90.2975 759.366 88.4688 762.931 Q86.6632 766.473 86.6632 773.602 Q86.6632 780.709 88.4688 784.273 Q90.2975 787.815 93.9086 787.815 Q97.5428 787.815 99.3483 784.273 Q101.177 780.709 101.177 773.602 Q101.177 766.473 99.3483 762.931 Q97.5428 759.366 93.9086 759.366 M93.9086 755.662 Q99.7187 755.662 102.774 760.269 Q105.853 764.852 105.853 773.602 Q105.853 782.329 102.774 786.935 Q99.7187 791.519 93.9086 791.519 Q88.0984 791.519 85.0197 786.935 Q81.9642 782.329 81.9642 773.602 Q81.9642 764.852 85.0197 760.269 Q88.0984 755.662 93.9086 755.662 Z\" fill=\"#000000\" fill-rule=\"evenodd\" fill-opacity=\"1\" /><path clip-path=\"url(#clip740)\" d=\"M124.07 759.366 Q120.459 759.366 118.631 762.931 Q116.825 766.473 116.825 773.602 Q116.825 780.709 118.631 784.273 Q120.459 787.815 124.07 787.815 Q127.705 787.815 129.51 784.273 Q131.339 780.709 131.339 773.602 Q131.339 766.473 129.51 762.931 Q127.705 759.366 124.07 759.366 M124.07 755.662 Q129.881 755.662 132.936 760.269 Q136.015 764.852 136.015 773.602 Q136.015 782.329 132.936 786.935 Q129.881 791.519 124.07 791.519 Q118.26 791.519 115.182 786.935 Q112.126 782.329 112.126 773.602 Q112.126 764.852 115.182 760.269 Q118.26 755.662 124.07 755.662 Z\" fill=\"#000000\" fill-rule=\"evenodd\" fill-opacity=\"1\" /><path clip-path=\"url(#clip740)\" d=\"M66.5939 536.312 L54.7884 554.761 L66.5939 554.761 L66.5939 536.312 M65.367 532.238 L71.2466 532.238 L71.2466 554.761 L76.1772 554.761 L76.1772 558.65 L71.2466 558.65 L71.2466 566.798 L66.5939 566.798 L66.5939 558.65 L50.9921 558.65 L50.9921 554.136 L65.367 532.238 Z\" fill=\"#000000\" fill-rule=\"evenodd\" fill-opacity=\"1\" /><path clip-path=\"url(#clip740)\" d=\"M93.9086 535.317 Q90.2975 535.317 88.4688 538.882 Q86.6632 542.423 86.6632 549.553 Q86.6632 556.659 88.4688 560.224 Q90.2975 563.766 93.9086 563.766 Q97.5428 563.766 99.3483 560.224 Q101.177 556.659 101.177 549.553 Q101.177 542.423 99.3483 538.882 Q97.5428 535.317 93.9086 535.317 M93.9086 531.613 Q99.7187 531.613 102.774 536.22 Q105.853 540.803 105.853 549.553 Q105.853 558.28 102.774 562.886 Q99.7187 567.469 93.9086 567.469 Q88.0984 567.469 85.0197 562.886 Q81.9642 558.28 81.9642 549.553 Q81.9642 540.803 85.0197 536.22 Q88.0984 531.613 93.9086 531.613 Z\" fill=\"#000000\" fill-rule=\"evenodd\" fill-opacity=\"1\" /><path clip-path=\"url(#clip740)\" d=\"M124.07 535.317 Q120.459 535.317 118.631 538.882 Q116.825 542.423 116.825 549.553 Q116.825 556.659 118.631 560.224 Q120.459 563.766 124.07 563.766 Q127.705 563.766 129.51 560.224 Q131.339 556.659 131.339 549.553 Q131.339 542.423 129.51 538.882 Q127.705 535.317 124.07 535.317 M124.07 531.613 Q129.881 531.613 132.936 536.22 Q136.015 540.803 136.015 549.553 Q136.015 558.28 132.936 562.886 Q129.881 567.469 124.07 567.469 Q118.26 567.469 115.182 562.886 Q112.126 558.28 112.126 549.553 Q112.126 540.803 115.182 536.22 Q118.26 531.613 124.07 531.613 Z\" fill=\"#000000\" fill-rule=\"evenodd\" fill-opacity=\"1\" /><path clip-path=\"url(#clip740)\" d=\"M53.793 308.189 L72.1494 308.189 L72.1494 312.124 L58.0754 312.124 L58.0754 320.596 Q59.0939 320.249 60.1124 320.087 Q61.131 319.902 62.1495 319.902 Q67.9365 319.902 71.3161 323.073 Q74.6957 326.244 74.6957 331.661 Q74.6957 337.239 71.2235 340.341 Q67.7513 343.42 61.4319 343.42 Q59.256 343.42 56.9875 343.05 Q54.7421 342.679 52.3347 341.938 L52.3347 337.239 Q54.418 338.374 56.6402 338.929 Q58.8625 339.485 61.3393 339.485 Q65.3439 339.485 67.6819 337.378 Q70.0198 335.272 70.0198 331.661 Q70.0198 328.05 67.6819 325.943 Q65.3439 323.837 61.3393 323.837 Q59.4643 323.837 57.5893 324.253 Q55.7375 324.67 53.793 325.55 L53.793 308.189 Z\" fill=\"#000000\" fill-rule=\"evenodd\" fill-opacity=\"1\" /><path clip-path=\"url(#clip740)\" d=\"M93.9086 311.267 Q90.2975 311.267 88.4688 314.832 Q86.6632 318.374 86.6632 325.503 Q86.6632 332.61 88.4688 336.175 Q90.2975 339.716 93.9086 339.716 Q97.5428 339.716 99.3483 336.175 Q101.177 332.61 101.177 325.503 Q101.177 318.374 99.3483 314.832 Q97.5428 311.267 93.9086 311.267 M93.9086 307.564 Q99.7187 307.564 102.774 312.17 Q105.853 316.753 105.853 325.503 Q105.853 334.23 102.774 338.837 Q99.7187 343.42 93.9086 343.42 Q88.0984 343.42 85.0197 338.837 Q81.9642 334.23 81.9642 325.503 Q81.9642 316.753 85.0197 312.17 Q88.0984 307.564 93.9086 307.564 Z\" fill=\"#000000\" fill-rule=\"evenodd\" fill-opacity=\"1\" /><path clip-path=\"url(#clip740)\" d=\"M124.07 311.267 Q120.459 311.267 118.631 314.832 Q116.825 318.374 116.825 325.503 Q116.825 332.61 118.631 336.175 Q120.459 339.716 124.07 339.716 Q127.705 339.716 129.51 336.175 Q131.339 332.61 131.339 325.503 Q131.339 318.374 129.51 314.832 Q127.705 311.267 124.07 311.267 M124.07 307.564 Q129.881 307.564 132.936 312.17 Q136.015 316.753 136.015 325.503 Q136.015 334.23 132.936 338.837 Q129.881 343.42 124.07 343.42 Q118.26 343.42 115.182 338.837 Q112.126 334.23 112.126 325.503 Q112.126 316.753 115.182 312.17 Q118.26 307.564 124.07 307.564 Z\" fill=\"#000000\" fill-rule=\"evenodd\" fill-opacity=\"1\" /><path clip-path=\"url(#clip740)\" d=\"M64.3254 99.5558 Q61.1773 99.5558 59.3254 101.709 Q57.4967 103.861 57.4967 107.611 Q57.4967 111.338 59.3254 113.514 Q61.1773 115.667 64.3254 115.667 Q67.4735 115.667 69.3022 113.514 Q71.1541 111.338 71.1541 107.611 Q71.1541 103.861 69.3022 101.709 Q67.4735 99.5558 64.3254 99.5558 M73.6077 84.9031 L73.6077 89.1624 Q71.8485 88.329 70.0429 87.8892 Q68.2606 87.4494 66.5013 87.4494 Q61.8717 87.4494 59.418 90.5744 Q56.9875 93.6994 56.6402 100.019 Q58.006 98.0049 60.0662 96.9401 Q62.1263 95.8521 64.6032 95.8521 Q69.8115 95.8521 72.8207 99.0234 Q75.8531 102.172 75.8531 107.611 Q75.8531 112.935 72.705 116.153 Q69.5568 119.371 64.3254 119.371 Q58.33 119.371 55.1588 114.787 Q51.9875 110.181 51.9875 101.454 Q51.9875 93.2596 55.8764 88.3985 Q59.7652 83.5142 66.3161 83.5142 Q68.0754 83.5142 69.8578 83.8615 Q71.6633 84.2087 73.6077 84.9031 Z\" fill=\"#000000\" fill-rule=\"evenodd\" fill-opacity=\"1\" /><path clip-path=\"url(#clip740)\" d=\"M93.9086 87.2179 Q90.2975 87.2179 88.4688 90.7827 Q86.6632 94.3244 86.6632 101.454 Q86.6632 108.56 88.4688 112.125 Q90.2975 115.667 93.9086 115.667 Q97.5428 115.667 99.3483 112.125 Q101.177 108.56 101.177 101.454 Q101.177 94.3244 99.3483 90.7827 Q97.5428 87.2179 93.9086 87.2179 M93.9086 83.5142 Q99.7187 83.5142 102.774 88.1207 Q105.853 92.704 105.853 101.454 Q105.853 110.181 102.774 114.787 Q99.7187 119.371 93.9086 119.371 Q88.0984 119.371 85.0197 114.787 Q81.9642 110.181 81.9642 101.454 Q81.9642 92.704 85.0197 88.1207 Q88.0984 83.5142 93.9086 83.5142 Z\" fill=\"#000000\" fill-rule=\"evenodd\" fill-opacity=\"1\" /><path clip-path=\"url(#clip740)\" d=\"M124.07 87.2179 Q120.459 87.2179 118.631 90.7827 Q116.825 94.3244 116.825 101.454 Q116.825 108.56 118.631 112.125 Q120.459 115.667 124.07 115.667 Q127.705 115.667 129.51 112.125 Q131.339 108.56 131.339 101.454 Q131.339 94.3244 129.51 90.7827 Q127.705 87.2179 124.07 87.2179 M124.07 83.5142 Q129.881 83.5142 132.936 88.1207 Q136.015 92.704 136.015 101.454 Q136.015 110.181 132.936 114.787 Q129.881 119.371 124.07 119.371 Q118.26 119.371 115.182 114.787 Q112.126 110.181 112.126 101.454 Q112.126 92.704 115.182 88.1207 Q118.26 83.5142 124.07 83.5142 Z\" fill=\"#000000\" fill-rule=\"evenodd\" fill-opacity=\"1\" /><path clip-path=\"url(#clip742)\" d=\"\nM291.959 87.9763 L291.959 1445.72 L615.435 1445.72 L615.435 87.9763 L291.959 87.9763 L291.959 87.9763  Z\n  \" fill=\"#009af9\" fill-rule=\"evenodd\" fill-opacity=\"1\"/>\n<polyline clip-path=\"url(#clip742)\" style=\"stroke:#000000; stroke-linecap:butt; stroke-linejoin:round; stroke-width:4; stroke-opacity:1; fill:none\" points=\"\n  291.959,87.9763 291.959,1445.72 615.435,1445.72 615.435,87.9763 291.959,87.9763 \n  \"/>\n<path clip-path=\"url(#clip742)\" d=\"\nM615.435 1445.72 L615.435 1445.72 L938.91 1445.72 L938.91 1445.72 L615.435 1445.72 L615.435 1445.72  Z\n  \" fill=\"#009af9\" fill-rule=\"evenodd\" fill-opacity=\"1\"/>\n<polyline clip-path=\"url(#clip742)\" style=\"stroke:#000000; stroke-linecap:butt; stroke-linejoin:round; stroke-width:4; stroke-opacity:1; fill:none\" points=\"\n  615.435,1445.72 615.435,1445.72 938.91,1445.72 615.435,1445.72 \n  \"/>\n<path clip-path=\"url(#clip742)\" d=\"\nM938.91 1445.72 L938.91 1445.72 L1262.39 1445.72 L1262.39 1445.72 L938.91 1445.72 L938.91 1445.72  Z\n  \" fill=\"#009af9\" fill-rule=\"evenodd\" fill-opacity=\"1\"/>\n<polyline clip-path=\"url(#clip742)\" style=\"stroke:#000000; stroke-linecap:butt; stroke-linejoin:round; stroke-width:4; stroke-opacity:1; fill:none\" points=\"\n  938.91,1445.72 938.91,1445.72 1262.39,1445.72 938.91,1445.72 \n  \"/>\n<path clip-path=\"url(#clip742)\" d=\"\nM1262.39 1445.72 L1262.39 1445.72 L1585.86 1445.72 L1585.86 1445.72 L1262.39 1445.72 L1262.39 1445.72  Z\n  \" fill=\"#009af9\" fill-rule=\"evenodd\" fill-opacity=\"1\"/>\n<polyline clip-path=\"url(#clip742)\" style=\"stroke:#000000; stroke-linecap:butt; stroke-linejoin:round; stroke-width:4; stroke-opacity:1; fill:none\" points=\"\n  1262.39,1445.72 1262.39,1445.72 1585.86,1445.72 1262.39,1445.72 \n  \"/>\n<path clip-path=\"url(#clip742)\" d=\"\nM1585.86 1445.72 L1585.86 1445.72 L1909.34 1445.72 L1909.34 1445.72 L1585.86 1445.72 L1585.86 1445.72  Z\n  \" fill=\"#009af9\" fill-rule=\"evenodd\" fill-opacity=\"1\"/>\n<polyline clip-path=\"url(#clip742)\" style=\"stroke:#000000; stroke-linecap:butt; stroke-linejoin:round; stroke-width:4; stroke-opacity:1; fill:none\" points=\"\n  1585.86,1445.72 1585.86,1445.72 1909.34,1445.72 1585.86,1445.72 \n  \"/>\n<path clip-path=\"url(#clip742)\" d=\"\nM1909.34 840.782 L1909.34 1445.72 L2232.81 1445.72 L2232.81 840.782 L1909.34 840.782 L1909.34 840.782  Z\n  \" fill=\"#009af9\" fill-rule=\"evenodd\" fill-opacity=\"1\"/>\n<polyline clip-path=\"url(#clip742)\" style=\"stroke:#000000; stroke-linecap:butt; stroke-linejoin:round; stroke-width:4; stroke-opacity:1; fill:none\" points=\"\n  1909.34,840.782 1909.34,1445.72 2232.81,1445.72 2232.81,840.782 1909.34,840.782 \n  \"/>\n<circle clip-path=\"url(#clip742)\" style=\"fill:#009af9; stroke:none; fill-opacity:0\" cx=\"453.697\" cy=\"87.9763\" r=\"2\"/>\n<circle clip-path=\"url(#clip742)\" style=\"fill:#009af9; stroke:none; fill-opacity:0\" cx=\"777.172\" cy=\"1445.72\" r=\"2\"/>\n<circle clip-path=\"url(#clip742)\" style=\"fill:#009af9; stroke:none; fill-opacity:0\" cx=\"1100.65\" cy=\"1445.72\" r=\"2\"/>\n<circle clip-path=\"url(#clip742)\" style=\"fill:#009af9; stroke:none; fill-opacity:0\" cx=\"1424.12\" cy=\"1445.72\" r=\"2\"/>\n<circle clip-path=\"url(#clip742)\" style=\"fill:#009af9; stroke:none; fill-opacity:0\" cx=\"1747.6\" cy=\"1445.72\" r=\"2\"/>\n<circle clip-path=\"url(#clip742)\" style=\"fill:#009af9; stroke:none; fill-opacity:0\" cx=\"2071.07\" cy=\"840.782\" r=\"2\"/>\n<path clip-path=\"url(#clip740)\" d=\"\nM1985.33 198.898 L2280.06 198.898 L2280.06 95.2176 L1985.33 95.2176  Z\n  \" fill=\"#ffffff\" fill-rule=\"evenodd\" fill-opacity=\"1\"/>\n<polyline clip-path=\"url(#clip740)\" style=\"stroke:#000000; stroke-linecap:butt; stroke-linejoin:round; stroke-width:4; stroke-opacity:1; fill:none\" points=\"\n  1985.33,198.898 2280.06,198.898 2280.06,95.2176 1985.33,95.2176 1985.33,198.898 \n  \"/>\n<path clip-path=\"url(#clip740)\" d=\"\nM2009.56 167.794 L2154.94 167.794 L2154.94 126.322 L2009.56 126.322 L2009.56 167.794  Z\n  \" fill=\"#009af9\" fill-rule=\"evenodd\" fill-opacity=\"1\"/>\n<polyline clip-path=\"url(#clip740)\" style=\"stroke:#000000; stroke-linecap:butt; stroke-linejoin:round; stroke-width:4; stroke-opacity:1; fill:none\" points=\"\n  2009.56,167.794 2154.94,167.794 2154.94,126.322 2009.56,126.322 2009.56,167.794 \n  \"/>\n<path clip-path=\"url(#clip740)\" d=\"M2193.02 166.745 Q2191.21 171.375 2189.5 172.787 Q2187.78 174.199 2184.91 174.199 L2181.51 174.199 L2181.51 170.634 L2184.01 170.634 Q2185.77 170.634 2186.74 169.8 Q2187.71 168.967 2188.9 165.865 L2189.66 163.921 L2179.17 138.412 L2183.69 138.412 L2191.79 158.689 L2199.89 138.412 L2204.4 138.412 L2193.02 166.745 Z\" fill=\"#000000\" fill-rule=\"evenodd\" fill-opacity=\"1\" /><path clip-path=\"url(#clip740)\" d=\"M2211.7 160.402 L2219.34 160.402 L2219.34 134.037 L2211.03 135.703 L2211.03 131.444 L2219.29 129.778 L2223.96 129.778 L2223.96 160.402 L2231.6 160.402 L2231.6 164.338 L2211.7 164.338 L2211.7 160.402 Z\" fill=\"#000000\" fill-rule=\"evenodd\" fill-opacity=\"1\" /></svg>\n",
      "text/html": [
       "<?xml version=\"1.0\" encoding=\"utf-8\"?>\n",
       "<svg xmlns=\"http://www.w3.org/2000/svg\" xmlns:xlink=\"http://www.w3.org/1999/xlink\" width=\"600\" height=\"400\" viewBox=\"0 0 2400 1600\">\n",
       "<defs>\n",
       "  <clipPath id=\"clip790\">\n",
       "    <rect x=\"0\" y=\"0\" width=\"2400\" height=\"1600\"/>\n",
       "  </clipPath>\n",
       "</defs>\n",
       "<path clip-path=\"url(#clip790)\" d=\"\n",
       "M0 1600 L2400 1600 L2400 0 L0 0  Z\n",
       "  \" fill=\"#ffffff\" fill-rule=\"evenodd\" fill-opacity=\"1\"/>\n",
       "<defs>\n",
       "  <clipPath id=\"clip791\">\n",
       "    <rect x=\"480\" y=\"0\" width=\"1681\" height=\"1600\"/>\n",
       "  </clipPath>\n",
       "</defs>\n",
       "<path clip-path=\"url(#clip790)\" d=\"\n",
       "M172.015 1486.45 L2352.76 1486.45 L2352.76 47.2441 L172.015 47.2441  Z\n",
       "  \" fill=\"#ffffff\" fill-rule=\"evenodd\" fill-opacity=\"1\"/>\n",
       "<defs>\n",
       "  <clipPath id=\"clip792\">\n",
       "    <rect x=\"172\" y=\"47\" width=\"2182\" height=\"1440\"/>\n",
       "  </clipPath>\n",
       "</defs>\n",
       "<polyline clip-path=\"url(#clip792)\" style=\"stroke:#000000; stroke-linecap:butt; stroke-linejoin:round; stroke-width:2; stroke-opacity:0.1; fill:none\" points=\"\n",
       "  291.959,1486.45 291.959,47.2441 \n",
       "  \"/>\n",
       "<polyline clip-path=\"url(#clip792)\" style=\"stroke:#000000; stroke-linecap:butt; stroke-linejoin:round; stroke-width:2; stroke-opacity:0.1; fill:none\" points=\"\n",
       "  615.435,1486.45 615.435,47.2441 \n",
       "  \"/>\n",
       "<polyline clip-path=\"url(#clip792)\" style=\"stroke:#000000; stroke-linecap:butt; stroke-linejoin:round; stroke-width:2; stroke-opacity:0.1; fill:none\" points=\"\n",
       "  938.91,1486.45 938.91,47.2441 \n",
       "  \"/>\n",
       "<polyline clip-path=\"url(#clip792)\" style=\"stroke:#000000; stroke-linecap:butt; stroke-linejoin:round; stroke-width:2; stroke-opacity:0.1; fill:none\" points=\"\n",
       "  1262.39,1486.45 1262.39,47.2441 \n",
       "  \"/>\n",
       "<polyline clip-path=\"url(#clip792)\" style=\"stroke:#000000; stroke-linecap:butt; stroke-linejoin:round; stroke-width:2; stroke-opacity:0.1; fill:none\" points=\"\n",
       "  1585.86,1486.45 1585.86,47.2441 \n",
       "  \"/>\n",
       "<polyline clip-path=\"url(#clip792)\" style=\"stroke:#000000; stroke-linecap:butt; stroke-linejoin:round; stroke-width:2; stroke-opacity:0.1; fill:none\" points=\"\n",
       "  1909.34,1486.45 1909.34,47.2441 \n",
       "  \"/>\n",
       "<polyline clip-path=\"url(#clip792)\" style=\"stroke:#000000; stroke-linecap:butt; stroke-linejoin:round; stroke-width:2; stroke-opacity:0.1; fill:none\" points=\"\n",
       "  2232.81,1486.45 2232.81,47.2441 \n",
       "  \"/>\n",
       "<polyline clip-path=\"url(#clip790)\" style=\"stroke:#000000; stroke-linecap:butt; stroke-linejoin:round; stroke-width:4; stroke-opacity:1; fill:none\" points=\"\n",
       "  172.015,1486.45 2352.76,1486.45 \n",
       "  \"/>\n",
       "<polyline clip-path=\"url(#clip790)\" style=\"stroke:#000000; stroke-linecap:butt; stroke-linejoin:round; stroke-width:4; stroke-opacity:1; fill:none\" points=\"\n",
       "  291.959,1486.45 291.959,1467.55 \n",
       "  \"/>\n",
       "<polyline clip-path=\"url(#clip790)\" style=\"stroke:#000000; stroke-linecap:butt; stroke-linejoin:round; stroke-width:4; stroke-opacity:1; fill:none\" points=\"\n",
       "  615.435,1486.45 615.435,1467.55 \n",
       "  \"/>\n",
       "<polyline clip-path=\"url(#clip790)\" style=\"stroke:#000000; stroke-linecap:butt; stroke-linejoin:round; stroke-width:4; stroke-opacity:1; fill:none\" points=\"\n",
       "  938.91,1486.45 938.91,1467.55 \n",
       "  \"/>\n",
       "<polyline clip-path=\"url(#clip790)\" style=\"stroke:#000000; stroke-linecap:butt; stroke-linejoin:round; stroke-width:4; stroke-opacity:1; fill:none\" points=\"\n",
       "  1262.39,1486.45 1262.39,1467.55 \n",
       "  \"/>\n",
       "<polyline clip-path=\"url(#clip790)\" style=\"stroke:#000000; stroke-linecap:butt; stroke-linejoin:round; stroke-width:4; stroke-opacity:1; fill:none\" points=\"\n",
       "  1585.86,1486.45 1585.86,1467.55 \n",
       "  \"/>\n",
       "<polyline clip-path=\"url(#clip790)\" style=\"stroke:#000000; stroke-linecap:butt; stroke-linejoin:round; stroke-width:4; stroke-opacity:1; fill:none\" points=\"\n",
       "  1909.34,1486.45 1909.34,1467.55 \n",
       "  \"/>\n",
       "<polyline clip-path=\"url(#clip790)\" style=\"stroke:#000000; stroke-linecap:butt; stroke-linejoin:round; stroke-width:4; stroke-opacity:1; fill:none\" points=\"\n",
       "  2232.81,1486.45 2232.81,1467.55 \n",
       "  \"/>\n",
       "<path clip-path=\"url(#clip790)\" d=\"M269.344 1517.37 Q265.733 1517.37 263.904 1520.93 Q262.099 1524.47 262.099 1531.6 Q262.099 1538.71 263.904 1542.27 Q265.733 1545.82 269.344 1545.82 Q272.978 1545.82 274.784 1542.27 Q276.612 1538.71 276.612 1531.6 Q276.612 1524.47 274.784 1520.93 Q272.978 1517.37 269.344 1517.37 M269.344 1513.66 Q275.154 1513.66 278.21 1518.27 Q281.288 1522.85 281.288 1531.6 Q281.288 1540.33 278.21 1544.94 Q275.154 1549.52 269.344 1549.52 Q263.534 1549.52 260.455 1544.94 Q257.399 1540.33 257.399 1531.6 Q257.399 1522.85 260.455 1518.27 Q263.534 1513.66 269.344 1513.66 Z\" fill=\"#000000\" fill-rule=\"evenodd\" fill-opacity=\"1\" /><path clip-path=\"url(#clip790)\" d=\"M289.506 1542.97 L294.39 1542.97 L294.39 1548.85 L289.506 1548.85 L289.506 1542.97 Z\" fill=\"#000000\" fill-rule=\"evenodd\" fill-opacity=\"1\" /><path clip-path=\"url(#clip790)\" d=\"M314.575 1517.37 Q310.964 1517.37 309.135 1520.93 Q307.33 1524.47 307.33 1531.6 Q307.33 1538.71 309.135 1542.27 Q310.964 1545.82 314.575 1545.82 Q318.209 1545.82 320.015 1542.27 Q321.844 1538.71 321.844 1531.6 Q321.844 1524.47 320.015 1520.93 Q318.209 1517.37 314.575 1517.37 M314.575 1513.66 Q320.385 1513.66 323.441 1518.27 Q326.519 1522.85 326.519 1531.6 Q326.519 1540.33 323.441 1544.94 Q320.385 1549.52 314.575 1549.52 Q308.765 1549.52 305.686 1544.94 Q302.631 1540.33 302.631 1531.6 Q302.631 1522.85 305.686 1518.27 Q308.765 1513.66 314.575 1513.66 Z\" fill=\"#000000\" fill-rule=\"evenodd\" fill-opacity=\"1\" /><path clip-path=\"url(#clip790)\" d=\"M593.618 1517.37 Q590.007 1517.37 588.178 1520.93 Q586.372 1524.47 586.372 1531.6 Q586.372 1538.71 588.178 1542.27 Q590.007 1545.82 593.618 1545.82 Q597.252 1545.82 599.058 1542.27 Q600.886 1538.71 600.886 1531.6 Q600.886 1524.47 599.058 1520.93 Q597.252 1517.37 593.618 1517.37 M593.618 1513.66 Q599.428 1513.66 602.483 1518.27 Q605.562 1522.85 605.562 1531.6 Q605.562 1540.33 602.483 1544.94 Q599.428 1549.52 593.618 1549.52 Q587.808 1549.52 584.729 1544.94 Q581.673 1540.33 581.673 1531.6 Q581.673 1522.85 584.729 1518.27 Q587.808 1513.66 593.618 1513.66 Z\" fill=\"#000000\" fill-rule=\"evenodd\" fill-opacity=\"1\" /><path clip-path=\"url(#clip790)\" d=\"M613.78 1542.97 L618.664 1542.97 L618.664 1548.85 L613.78 1548.85 L613.78 1542.97 Z\" fill=\"#000000\" fill-rule=\"evenodd\" fill-opacity=\"1\" /><path clip-path=\"url(#clip790)\" d=\"M632.877 1544.91 L649.196 1544.91 L649.196 1548.85 L627.252 1548.85 L627.252 1544.91 Q629.914 1542.16 634.497 1537.53 Q639.104 1532.88 640.284 1531.53 Q642.53 1529.01 643.409 1527.27 Q644.312 1525.51 644.312 1523.82 Q644.312 1521.07 642.367 1519.33 Q640.446 1517.6 637.344 1517.6 Q635.145 1517.6 632.692 1518.36 Q630.261 1519.13 627.483 1520.68 L627.483 1515.95 Q630.307 1514.82 632.761 1514.24 Q635.215 1513.66 637.252 1513.66 Q642.622 1513.66 645.817 1516.35 Q649.011 1519.03 649.011 1523.52 Q649.011 1525.65 648.201 1527.57 Q647.414 1529.47 645.307 1532.07 Q644.729 1532.74 641.627 1535.95 Q638.525 1539.15 632.877 1544.91 Z\" fill=\"#000000\" fill-rule=\"evenodd\" fill-opacity=\"1\" /><path clip-path=\"url(#clip790)\" d=\"M916.051 1517.37 Q912.44 1517.37 910.612 1520.93 Q908.806 1524.47 908.806 1531.6 Q908.806 1538.71 910.612 1542.27 Q912.44 1545.82 916.051 1545.82 Q919.686 1545.82 921.491 1542.27 Q923.32 1538.71 923.32 1531.6 Q923.32 1524.47 921.491 1520.93 Q919.686 1517.37 916.051 1517.37 M916.051 1513.66 Q921.862 1513.66 924.917 1518.27 Q927.996 1522.85 927.996 1531.6 Q927.996 1540.33 924.917 1544.94 Q921.862 1549.52 916.051 1549.52 Q910.241 1549.52 907.163 1544.94 Q904.107 1540.33 904.107 1531.6 Q904.107 1522.85 907.163 1518.27 Q910.241 1513.66 916.051 1513.66 Z\" fill=\"#000000\" fill-rule=\"evenodd\" fill-opacity=\"1\" /><path clip-path=\"url(#clip790)\" d=\"M936.213 1542.97 L941.098 1542.97 L941.098 1548.85 L936.213 1548.85 L936.213 1542.97 Z\" fill=\"#000000\" fill-rule=\"evenodd\" fill-opacity=\"1\" /><path clip-path=\"url(#clip790)\" d=\"M964.13 1518.36 L952.324 1536.81 L964.13 1536.81 L964.13 1518.36 M962.903 1514.29 L968.783 1514.29 L968.783 1536.81 L973.713 1536.81 L973.713 1540.7 L968.783 1540.7 L968.783 1548.85 L964.13 1548.85 L964.13 1540.7 L948.528 1540.7 L948.528 1536.19 L962.903 1514.29 Z\" fill=\"#000000\" fill-rule=\"evenodd\" fill-opacity=\"1\" /><path clip-path=\"url(#clip790)\" d=\"M1239.69 1517.37 Q1236.08 1517.37 1234.25 1520.93 Q1232.44 1524.47 1232.44 1531.6 Q1232.44 1538.71 1234.25 1542.27 Q1236.08 1545.82 1239.69 1545.82 Q1243.32 1545.82 1245.13 1542.27 Q1246.96 1538.71 1246.96 1531.6 Q1246.96 1524.47 1245.13 1520.93 Q1243.32 1517.37 1239.69 1517.37 M1239.69 1513.66 Q1245.5 1513.66 1248.55 1518.27 Q1251.63 1522.85 1251.63 1531.6 Q1251.63 1540.33 1248.55 1544.94 Q1245.5 1549.52 1239.69 1549.52 Q1233.88 1549.52 1230.8 1544.94 Q1227.74 1540.33 1227.74 1531.6 Q1227.74 1522.85 1230.8 1518.27 Q1233.88 1513.66 1239.69 1513.66 Z\" fill=\"#000000\" fill-rule=\"evenodd\" fill-opacity=\"1\" /><path clip-path=\"url(#clip790)\" d=\"M1259.85 1542.97 L1264.73 1542.97 L1264.73 1548.85 L1259.85 1548.85 L1259.85 1542.97 Z\" fill=\"#000000\" fill-rule=\"evenodd\" fill-opacity=\"1\" /><path clip-path=\"url(#clip790)\" d=\"M1285.5 1529.7 Q1282.35 1529.7 1280.5 1531.86 Q1278.67 1534.01 1278.67 1537.76 Q1278.67 1541.49 1280.5 1543.66 Q1282.35 1545.82 1285.5 1545.82 Q1288.65 1545.82 1290.48 1543.66 Q1292.33 1541.49 1292.33 1537.76 Q1292.33 1534.01 1290.48 1531.86 Q1288.65 1529.7 1285.5 1529.7 M1294.78 1515.05 L1294.78 1519.31 Q1293.02 1518.48 1291.22 1518.04 Q1289.43 1517.6 1287.67 1517.6 Q1283.04 1517.6 1280.59 1520.72 Q1278.16 1523.85 1277.81 1530.17 Q1279.18 1528.15 1281.24 1527.09 Q1283.3 1526 1285.78 1526 Q1290.98 1526 1293.99 1529.17 Q1297.03 1532.32 1297.03 1537.76 Q1297.03 1543.08 1293.88 1546.3 Q1290.73 1549.52 1285.5 1549.52 Q1279.5 1549.52 1276.33 1544.94 Q1273.16 1540.33 1273.16 1531.6 Q1273.16 1523.41 1277.05 1518.55 Q1280.94 1513.66 1287.49 1513.66 Q1289.25 1513.66 1291.03 1514.01 Q1292.84 1514.36 1294.78 1515.05 Z\" fill=\"#000000\" fill-rule=\"evenodd\" fill-opacity=\"1\" /><path clip-path=\"url(#clip790)\" d=\"M1563.29 1517.37 Q1559.68 1517.37 1557.85 1520.93 Q1556.05 1524.47 1556.05 1531.6 Q1556.05 1538.71 1557.85 1542.27 Q1559.68 1545.82 1563.29 1545.82 Q1566.93 1545.82 1568.73 1542.27 Q1570.56 1538.71 1570.56 1531.6 Q1570.56 1524.47 1568.73 1520.93 Q1566.93 1517.37 1563.29 1517.37 M1563.29 1513.66 Q1569.1 1513.66 1572.16 1518.27 Q1575.24 1522.85 1575.24 1531.6 Q1575.24 1540.33 1572.16 1544.94 Q1569.1 1549.52 1563.29 1549.52 Q1557.48 1549.52 1554.4 1544.94 Q1551.35 1540.33 1551.35 1531.6 Q1551.35 1522.85 1554.4 1518.27 Q1557.48 1513.66 1563.29 1513.66 Z\" fill=\"#000000\" fill-rule=\"evenodd\" fill-opacity=\"1\" /><path clip-path=\"url(#clip790)\" d=\"M1583.45 1542.97 L1588.34 1542.97 L1588.34 1548.85 L1583.45 1548.85 L1583.45 1542.97 Z\" fill=\"#000000\" fill-rule=\"evenodd\" fill-opacity=\"1\" /><path clip-path=\"url(#clip790)\" d=\"M1608.52 1532.44 Q1605.19 1532.44 1603.27 1534.22 Q1601.37 1536 1601.37 1539.13 Q1601.37 1542.25 1603.27 1544.03 Q1605.19 1545.82 1608.52 1545.82 Q1611.86 1545.82 1613.78 1544.03 Q1615.7 1542.23 1615.7 1539.13 Q1615.7 1536 1613.78 1534.22 Q1611.88 1532.44 1608.52 1532.44 M1603.85 1530.45 Q1600.84 1529.7 1599.15 1527.64 Q1597.48 1525.58 1597.48 1522.62 Q1597.48 1518.48 1600.42 1516.07 Q1603.38 1513.66 1608.52 1513.66 Q1613.68 1513.66 1616.62 1516.07 Q1619.56 1518.48 1619.56 1522.62 Q1619.56 1525.58 1617.87 1527.64 Q1616.21 1529.7 1613.22 1530.45 Q1616.6 1531.23 1618.48 1533.52 Q1620.37 1535.82 1620.37 1539.13 Q1620.37 1544.15 1617.3 1546.83 Q1614.24 1549.52 1608.52 1549.52 Q1602.81 1549.52 1599.73 1546.83 Q1596.67 1544.15 1596.67 1539.13 Q1596.67 1535.82 1598.57 1533.52 Q1600.47 1531.23 1603.85 1530.45 M1602.13 1523.06 Q1602.13 1525.75 1603.8 1527.25 Q1605.49 1528.76 1608.52 1528.76 Q1611.53 1528.76 1613.22 1527.25 Q1614.93 1525.75 1614.93 1523.06 Q1614.93 1520.38 1613.22 1518.87 Q1611.53 1517.37 1608.52 1517.37 Q1605.49 1517.37 1603.8 1518.87 Q1602.13 1520.38 1602.13 1523.06 Z\" fill=\"#000000\" fill-rule=\"evenodd\" fill-opacity=\"1\" /><path clip-path=\"url(#clip790)\" d=\"M1876.49 1544.91 L1884.13 1544.91 L1884.13 1518.55 L1875.82 1520.21 L1875.82 1515.95 L1884.08 1514.29 L1888.76 1514.29 L1888.76 1544.91 L1896.4 1544.91 L1896.4 1548.85 L1876.49 1548.85 L1876.49 1544.91 Z\" fill=\"#000000\" fill-rule=\"evenodd\" fill-opacity=\"1\" /><path clip-path=\"url(#clip790)\" d=\"M1905.84 1542.97 L1910.72 1542.97 L1910.72 1548.85 L1905.84 1548.85 L1905.84 1542.97 Z\" fill=\"#000000\" fill-rule=\"evenodd\" fill-opacity=\"1\" /><path clip-path=\"url(#clip790)\" d=\"M1930.91 1517.37 Q1927.3 1517.37 1925.47 1520.93 Q1923.66 1524.47 1923.66 1531.6 Q1923.66 1538.71 1925.47 1542.27 Q1927.3 1545.82 1930.91 1545.82 Q1934.54 1545.82 1936.35 1542.27 Q1938.18 1538.71 1938.18 1531.6 Q1938.18 1524.47 1936.35 1520.93 Q1934.54 1517.37 1930.91 1517.37 M1930.91 1513.66 Q1936.72 1513.66 1939.78 1518.27 Q1942.85 1522.85 1942.85 1531.6 Q1942.85 1540.33 1939.78 1544.94 Q1936.72 1549.52 1930.91 1549.52 Q1925.1 1549.52 1922.02 1544.94 Q1918.97 1540.33 1918.97 1531.6 Q1918.97 1522.85 1922.02 1518.27 Q1925.1 1513.66 1930.91 1513.66 Z\" fill=\"#000000\" fill-rule=\"evenodd\" fill-opacity=\"1\" /><path clip-path=\"url(#clip790)\" d=\"M2200.76 1544.91 L2208.4 1544.91 L2208.4 1518.55 L2200.09 1520.21 L2200.09 1515.95 L2208.36 1514.29 L2213.03 1514.29 L2213.03 1544.91 L2220.67 1544.91 L2220.67 1548.85 L2200.76 1548.85 L2200.76 1544.91 Z\" fill=\"#000000\" fill-rule=\"evenodd\" fill-opacity=\"1\" /><path clip-path=\"url(#clip790)\" d=\"M2230.11 1542.97 L2235 1542.97 L2235 1548.85 L2230.11 1548.85 L2230.11 1542.97 Z\" fill=\"#000000\" fill-rule=\"evenodd\" fill-opacity=\"1\" /><path clip-path=\"url(#clip790)\" d=\"M2249.21 1544.91 L2265.53 1544.91 L2265.53 1548.85 L2243.59 1548.85 L2243.59 1544.91 Q2246.25 1542.16 2250.83 1537.53 Q2255.44 1532.88 2256.62 1531.53 Q2258.86 1529.01 2259.74 1527.27 Q2260.65 1525.51 2260.65 1523.82 Q2260.65 1521.07 2258.7 1519.33 Q2256.78 1517.6 2253.68 1517.6 Q2251.48 1517.6 2249.03 1518.36 Q2246.6 1519.13 2243.82 1520.68 L2243.82 1515.95 Q2246.64 1514.82 2249.1 1514.24 Q2251.55 1513.66 2253.59 1513.66 Q2258.96 1513.66 2262.15 1516.35 Q2265.35 1519.03 2265.35 1523.52 Q2265.35 1525.65 2264.54 1527.57 Q2263.75 1529.47 2261.64 1532.07 Q2261.06 1532.74 2257.96 1535.95 Q2254.86 1539.15 2249.21 1544.91 Z\" fill=\"#000000\" fill-rule=\"evenodd\" fill-opacity=\"1\" /><polyline clip-path=\"url(#clip792)\" style=\"stroke:#000000; stroke-linecap:butt; stroke-linejoin:round; stroke-width:2; stroke-opacity:0.1; fill:none\" points=\"\n",
       "  172.015,1445.72 2352.76,1445.72 \n",
       "  \"/>\n",
       "<polyline clip-path=\"url(#clip792)\" style=\"stroke:#000000; stroke-linecap:butt; stroke-linejoin:round; stroke-width:2; stroke-opacity:0.1; fill:none\" points=\"\n",
       "  172.015,1221.67 2352.76,1221.67 \n",
       "  \"/>\n",
       "<polyline clip-path=\"url(#clip792)\" style=\"stroke:#000000; stroke-linecap:butt; stroke-linejoin:round; stroke-width:2; stroke-opacity:0.1; fill:none\" points=\"\n",
       "  172.015,997.617 2352.76,997.617 \n",
       "  \"/>\n",
       "<polyline clip-path=\"url(#clip792)\" style=\"stroke:#000000; stroke-linecap:butt; stroke-linejoin:round; stroke-width:2; stroke-opacity:0.1; fill:none\" points=\"\n",
       "  172.015,773.567 2352.76,773.567 \n",
       "  \"/>\n",
       "<polyline clip-path=\"url(#clip792)\" style=\"stroke:#000000; stroke-linecap:butt; stroke-linejoin:round; stroke-width:2; stroke-opacity:0.1; fill:none\" points=\"\n",
       "  172.015,549.518 2352.76,549.518 \n",
       "  \"/>\n",
       "<polyline clip-path=\"url(#clip792)\" style=\"stroke:#000000; stroke-linecap:butt; stroke-linejoin:round; stroke-width:2; stroke-opacity:0.1; fill:none\" points=\"\n",
       "  172.015,325.469 2352.76,325.469 \n",
       "  \"/>\n",
       "<polyline clip-path=\"url(#clip792)\" style=\"stroke:#000000; stroke-linecap:butt; stroke-linejoin:round; stroke-width:2; stroke-opacity:0.1; fill:none\" points=\"\n",
       "  172.015,101.419 2352.76,101.419 \n",
       "  \"/>\n",
       "<polyline clip-path=\"url(#clip790)\" style=\"stroke:#000000; stroke-linecap:butt; stroke-linejoin:round; stroke-width:4; stroke-opacity:1; fill:none\" points=\"\n",
       "  172.015,1486.45 172.015,47.2441 \n",
       "  \"/>\n",
       "<polyline clip-path=\"url(#clip790)\" style=\"stroke:#000000; stroke-linecap:butt; stroke-linejoin:round; stroke-width:4; stroke-opacity:1; fill:none\" points=\"\n",
       "  172.015,1445.72 190.912,1445.72 \n",
       "  \"/>\n",
       "<polyline clip-path=\"url(#clip790)\" style=\"stroke:#000000; stroke-linecap:butt; stroke-linejoin:round; stroke-width:4; stroke-opacity:1; fill:none\" points=\"\n",
       "  172.015,1221.67 190.912,1221.67 \n",
       "  \"/>\n",
       "<polyline clip-path=\"url(#clip790)\" style=\"stroke:#000000; stroke-linecap:butt; stroke-linejoin:round; stroke-width:4; stroke-opacity:1; fill:none\" points=\"\n",
       "  172.015,997.617 190.912,997.617 \n",
       "  \"/>\n",
       "<polyline clip-path=\"url(#clip790)\" style=\"stroke:#000000; stroke-linecap:butt; stroke-linejoin:round; stroke-width:4; stroke-opacity:1; fill:none\" points=\"\n",
       "  172.015,773.567 190.912,773.567 \n",
       "  \"/>\n",
       "<polyline clip-path=\"url(#clip790)\" style=\"stroke:#000000; stroke-linecap:butt; stroke-linejoin:round; stroke-width:4; stroke-opacity:1; fill:none\" points=\"\n",
       "  172.015,549.518 190.912,549.518 \n",
       "  \"/>\n",
       "<polyline clip-path=\"url(#clip790)\" style=\"stroke:#000000; stroke-linecap:butt; stroke-linejoin:round; stroke-width:4; stroke-opacity:1; fill:none\" points=\"\n",
       "  172.015,325.469 190.912,325.469 \n",
       "  \"/>\n",
       "<polyline clip-path=\"url(#clip790)\" style=\"stroke:#000000; stroke-linecap:butt; stroke-linejoin:round; stroke-width:4; stroke-opacity:1; fill:none\" points=\"\n",
       "  172.015,101.419 190.912,101.419 \n",
       "  \"/>\n",
       "<path clip-path=\"url(#clip790)\" d=\"M124.07 1431.51 Q120.459 1431.51 118.631 1435.08 Q116.825 1438.62 116.825 1445.75 Q116.825 1452.86 118.631 1456.42 Q120.459 1459.96 124.07 1459.96 Q127.705 1459.96 129.51 1456.42 Q131.339 1452.86 131.339 1445.75 Q131.339 1438.62 129.51 1435.08 Q127.705 1431.51 124.07 1431.51 M124.07 1427.81 Q129.881 1427.81 132.936 1432.42 Q136.015 1437 136.015 1445.75 Q136.015 1454.48 132.936 1459.08 Q129.881 1463.67 124.07 1463.67 Q118.26 1463.67 115.182 1459.08 Q112.126 1454.48 112.126 1445.75 Q112.126 1437 115.182 1432.42 Q118.26 1427.81 124.07 1427.81 Z\" fill=\"#000000\" fill-rule=\"evenodd\" fill-opacity=\"1\" /><path clip-path=\"url(#clip790)\" d=\"M54.5569 1235.01 L62.1958 1235.01 L62.1958 1208.65 L53.8856 1210.31 L53.8856 1206.05 L62.1495 1204.39 L66.8254 1204.39 L66.8254 1235.01 L74.4642 1235.01 L74.4642 1238.95 L54.5569 1238.95 L54.5569 1235.01 Z\" fill=\"#000000\" fill-rule=\"evenodd\" fill-opacity=\"1\" /><path clip-path=\"url(#clip790)\" d=\"M93.9086 1207.46 Q90.2975 1207.46 88.4688 1211.03 Q86.6632 1214.57 86.6632 1221.7 Q86.6632 1228.81 88.4688 1232.37 Q90.2975 1235.91 93.9086 1235.91 Q97.5428 1235.91 99.3483 1232.37 Q101.177 1228.81 101.177 1221.7 Q101.177 1214.57 99.3483 1211.03 Q97.5428 1207.46 93.9086 1207.46 M93.9086 1203.76 Q99.7187 1203.76 102.774 1208.37 Q105.853 1212.95 105.853 1221.7 Q105.853 1230.43 102.774 1235.03 Q99.7187 1239.62 93.9086 1239.62 Q88.0984 1239.62 85.0197 1235.03 Q81.9642 1230.43 81.9642 1221.7 Q81.9642 1212.95 85.0197 1208.37 Q88.0984 1203.76 93.9086 1203.76 Z\" fill=\"#000000\" fill-rule=\"evenodd\" fill-opacity=\"1\" /><path clip-path=\"url(#clip790)\" d=\"M124.07 1207.46 Q120.459 1207.46 118.631 1211.03 Q116.825 1214.57 116.825 1221.7 Q116.825 1228.81 118.631 1232.37 Q120.459 1235.91 124.07 1235.91 Q127.705 1235.91 129.51 1232.37 Q131.339 1228.81 131.339 1221.7 Q131.339 1214.57 129.51 1211.03 Q127.705 1207.46 124.07 1207.46 M124.07 1203.76 Q129.881 1203.76 132.936 1208.37 Q136.015 1212.95 136.015 1221.7 Q136.015 1230.43 132.936 1235.03 Q129.881 1239.62 124.07 1239.62 Q118.26 1239.62 115.182 1235.03 Q112.126 1230.43 112.126 1221.7 Q112.126 1212.95 115.182 1208.37 Q118.26 1203.76 124.07 1203.76 Z\" fill=\"#000000\" fill-rule=\"evenodd\" fill-opacity=\"1\" /><path clip-path=\"url(#clip790)\" d=\"M57.7745 1010.96 L74.0939 1010.96 L74.0939 1014.9 L52.1495 1014.9 L52.1495 1010.96 Q54.8115 1008.21 59.3949 1003.58 Q64.0013 998.925 65.1819 997.582 Q67.4272 995.059 68.3068 993.323 Q69.2096 991.564 69.2096 989.874 Q69.2096 987.119 67.2652 985.383 Q65.3439 983.647 62.2421 983.647 Q60.043 983.647 57.5893 984.411 Q55.1588 985.175 52.381 986.726 L52.381 982.004 Q55.2051 980.869 57.6588 980.291 Q60.1124 979.712 62.1495 979.712 Q67.5198 979.712 70.7142 982.397 Q73.9087 985.082 73.9087 989.573 Q73.9087 991.703 73.0985 993.624 Q72.3115 995.522 70.205 998.115 Q69.6263 998.786 66.5245 1002 Q63.4226 1005.2 57.7745 1010.96 Z\" fill=\"#000000\" fill-rule=\"evenodd\" fill-opacity=\"1\" /><path clip-path=\"url(#clip790)\" d=\"M93.9086 983.416 Q90.2975 983.416 88.4688 986.98 Q86.6632 990.522 86.6632 997.652 Q86.6632 1004.76 88.4688 1008.32 Q90.2975 1011.86 93.9086 1011.86 Q97.5428 1011.86 99.3483 1008.32 Q101.177 1004.76 101.177 997.652 Q101.177 990.522 99.3483 986.98 Q97.5428 983.416 93.9086 983.416 M93.9086 979.712 Q99.7187 979.712 102.774 984.318 Q105.853 988.902 105.853 997.652 Q105.853 1006.38 102.774 1010.98 Q99.7187 1015.57 93.9086 1015.57 Q88.0984 1015.57 85.0197 1010.98 Q81.9642 1006.38 81.9642 997.652 Q81.9642 988.902 85.0197 984.318 Q88.0984 979.712 93.9086 979.712 Z\" fill=\"#000000\" fill-rule=\"evenodd\" fill-opacity=\"1\" /><path clip-path=\"url(#clip790)\" d=\"M124.07 983.416 Q120.459 983.416 118.631 986.98 Q116.825 990.522 116.825 997.652 Q116.825 1004.76 118.631 1008.32 Q120.459 1011.86 124.07 1011.86 Q127.705 1011.86 129.51 1008.32 Q131.339 1004.76 131.339 997.652 Q131.339 990.522 129.51 986.98 Q127.705 983.416 124.07 983.416 M124.07 979.712 Q129.881 979.712 132.936 984.318 Q136.015 988.902 136.015 997.652 Q136.015 1006.38 132.936 1010.98 Q129.881 1015.57 124.07 1015.57 Q118.26 1015.57 115.182 1010.98 Q112.126 1006.38 112.126 997.652 Q112.126 988.902 115.182 984.318 Q118.26 979.712 124.07 979.712 Z\" fill=\"#000000\" fill-rule=\"evenodd\" fill-opacity=\"1\" /><path clip-path=\"url(#clip790)\" d=\"M67.9133 772.213 Q71.2698 772.931 73.1448 775.199 Q75.0429 777.468 75.0429 780.801 Q75.0429 785.917 71.5244 788.718 Q68.0059 791.519 61.5245 791.519 Q59.3486 791.519 57.0338 791.079 Q54.7421 790.662 52.2884 789.806 L52.2884 785.292 Q54.2328 786.426 56.5477 787.005 Q58.8625 787.584 61.3856 787.584 Q65.7837 787.584 68.0754 785.847 Q70.3902 784.111 70.3902 780.801 Q70.3902 777.746 68.2374 776.033 Q66.1078 774.297 62.2884 774.297 L58.2606 774.297 L58.2606 770.454 L62.4735 770.454 Q65.9226 770.454 67.7513 769.088 Q69.58 767.699 69.58 765.107 Q69.58 762.445 67.6819 761.033 Q65.8069 759.598 62.2884 759.598 Q60.3671 759.598 58.168 760.014 Q55.969 760.431 53.3301 761.311 L53.3301 757.144 Q55.9921 756.403 58.3069 756.033 Q60.6449 755.662 62.705 755.662 Q68.0291 755.662 71.1309 758.093 Q74.2327 760.5 74.2327 764.621 Q74.2327 767.491 72.5892 769.482 Q70.9457 771.449 67.9133 772.213 Z\" fill=\"#000000\" fill-rule=\"evenodd\" fill-opacity=\"1\" /><path clip-path=\"url(#clip790)\" d=\"M93.9086 759.366 Q90.2975 759.366 88.4688 762.931 Q86.6632 766.473 86.6632 773.602 Q86.6632 780.709 88.4688 784.273 Q90.2975 787.815 93.9086 787.815 Q97.5428 787.815 99.3483 784.273 Q101.177 780.709 101.177 773.602 Q101.177 766.473 99.3483 762.931 Q97.5428 759.366 93.9086 759.366 M93.9086 755.662 Q99.7187 755.662 102.774 760.269 Q105.853 764.852 105.853 773.602 Q105.853 782.329 102.774 786.935 Q99.7187 791.519 93.9086 791.519 Q88.0984 791.519 85.0197 786.935 Q81.9642 782.329 81.9642 773.602 Q81.9642 764.852 85.0197 760.269 Q88.0984 755.662 93.9086 755.662 Z\" fill=\"#000000\" fill-rule=\"evenodd\" fill-opacity=\"1\" /><path clip-path=\"url(#clip790)\" d=\"M124.07 759.366 Q120.459 759.366 118.631 762.931 Q116.825 766.473 116.825 773.602 Q116.825 780.709 118.631 784.273 Q120.459 787.815 124.07 787.815 Q127.705 787.815 129.51 784.273 Q131.339 780.709 131.339 773.602 Q131.339 766.473 129.51 762.931 Q127.705 759.366 124.07 759.366 M124.07 755.662 Q129.881 755.662 132.936 760.269 Q136.015 764.852 136.015 773.602 Q136.015 782.329 132.936 786.935 Q129.881 791.519 124.07 791.519 Q118.26 791.519 115.182 786.935 Q112.126 782.329 112.126 773.602 Q112.126 764.852 115.182 760.269 Q118.26 755.662 124.07 755.662 Z\" fill=\"#000000\" fill-rule=\"evenodd\" fill-opacity=\"1\" /><path clip-path=\"url(#clip790)\" d=\"M66.5939 536.312 L54.7884 554.761 L66.5939 554.761 L66.5939 536.312 M65.367 532.238 L71.2466 532.238 L71.2466 554.761 L76.1772 554.761 L76.1772 558.65 L71.2466 558.65 L71.2466 566.798 L66.5939 566.798 L66.5939 558.65 L50.9921 558.65 L50.9921 554.136 L65.367 532.238 Z\" fill=\"#000000\" fill-rule=\"evenodd\" fill-opacity=\"1\" /><path clip-path=\"url(#clip790)\" d=\"M93.9086 535.317 Q90.2975 535.317 88.4688 538.882 Q86.6632 542.423 86.6632 549.553 Q86.6632 556.659 88.4688 560.224 Q90.2975 563.766 93.9086 563.766 Q97.5428 563.766 99.3483 560.224 Q101.177 556.659 101.177 549.553 Q101.177 542.423 99.3483 538.882 Q97.5428 535.317 93.9086 535.317 M93.9086 531.613 Q99.7187 531.613 102.774 536.22 Q105.853 540.803 105.853 549.553 Q105.853 558.28 102.774 562.886 Q99.7187 567.469 93.9086 567.469 Q88.0984 567.469 85.0197 562.886 Q81.9642 558.28 81.9642 549.553 Q81.9642 540.803 85.0197 536.22 Q88.0984 531.613 93.9086 531.613 Z\" fill=\"#000000\" fill-rule=\"evenodd\" fill-opacity=\"1\" /><path clip-path=\"url(#clip790)\" d=\"M124.07 535.317 Q120.459 535.317 118.631 538.882 Q116.825 542.423 116.825 549.553 Q116.825 556.659 118.631 560.224 Q120.459 563.766 124.07 563.766 Q127.705 563.766 129.51 560.224 Q131.339 556.659 131.339 549.553 Q131.339 542.423 129.51 538.882 Q127.705 535.317 124.07 535.317 M124.07 531.613 Q129.881 531.613 132.936 536.22 Q136.015 540.803 136.015 549.553 Q136.015 558.28 132.936 562.886 Q129.881 567.469 124.07 567.469 Q118.26 567.469 115.182 562.886 Q112.126 558.28 112.126 549.553 Q112.126 540.803 115.182 536.22 Q118.26 531.613 124.07 531.613 Z\" fill=\"#000000\" fill-rule=\"evenodd\" fill-opacity=\"1\" /><path clip-path=\"url(#clip790)\" d=\"M53.793 308.189 L72.1494 308.189 L72.1494 312.124 L58.0754 312.124 L58.0754 320.596 Q59.0939 320.249 60.1124 320.087 Q61.131 319.902 62.1495 319.902 Q67.9365 319.902 71.3161 323.073 Q74.6957 326.244 74.6957 331.661 Q74.6957 337.239 71.2235 340.341 Q67.7513 343.42 61.4319 343.42 Q59.256 343.42 56.9875 343.05 Q54.7421 342.679 52.3347 341.938 L52.3347 337.239 Q54.418 338.374 56.6402 338.929 Q58.8625 339.485 61.3393 339.485 Q65.3439 339.485 67.6819 337.378 Q70.0198 335.272 70.0198 331.661 Q70.0198 328.05 67.6819 325.943 Q65.3439 323.837 61.3393 323.837 Q59.4643 323.837 57.5893 324.253 Q55.7375 324.67 53.793 325.55 L53.793 308.189 Z\" fill=\"#000000\" fill-rule=\"evenodd\" fill-opacity=\"1\" /><path clip-path=\"url(#clip790)\" d=\"M93.9086 311.267 Q90.2975 311.267 88.4688 314.832 Q86.6632 318.374 86.6632 325.503 Q86.6632 332.61 88.4688 336.175 Q90.2975 339.716 93.9086 339.716 Q97.5428 339.716 99.3483 336.175 Q101.177 332.61 101.177 325.503 Q101.177 318.374 99.3483 314.832 Q97.5428 311.267 93.9086 311.267 M93.9086 307.564 Q99.7187 307.564 102.774 312.17 Q105.853 316.753 105.853 325.503 Q105.853 334.23 102.774 338.837 Q99.7187 343.42 93.9086 343.42 Q88.0984 343.42 85.0197 338.837 Q81.9642 334.23 81.9642 325.503 Q81.9642 316.753 85.0197 312.17 Q88.0984 307.564 93.9086 307.564 Z\" fill=\"#000000\" fill-rule=\"evenodd\" fill-opacity=\"1\" /><path clip-path=\"url(#clip790)\" d=\"M124.07 311.267 Q120.459 311.267 118.631 314.832 Q116.825 318.374 116.825 325.503 Q116.825 332.61 118.631 336.175 Q120.459 339.716 124.07 339.716 Q127.705 339.716 129.51 336.175 Q131.339 332.61 131.339 325.503 Q131.339 318.374 129.51 314.832 Q127.705 311.267 124.07 311.267 M124.07 307.564 Q129.881 307.564 132.936 312.17 Q136.015 316.753 136.015 325.503 Q136.015 334.23 132.936 338.837 Q129.881 343.42 124.07 343.42 Q118.26 343.42 115.182 338.837 Q112.126 334.23 112.126 325.503 Q112.126 316.753 115.182 312.17 Q118.26 307.564 124.07 307.564 Z\" fill=\"#000000\" fill-rule=\"evenodd\" fill-opacity=\"1\" /><path clip-path=\"url(#clip790)\" d=\"M64.3254 99.5558 Q61.1773 99.5558 59.3254 101.709 Q57.4967 103.861 57.4967 107.611 Q57.4967 111.338 59.3254 113.514 Q61.1773 115.667 64.3254 115.667 Q67.4735 115.667 69.3022 113.514 Q71.1541 111.338 71.1541 107.611 Q71.1541 103.861 69.3022 101.709 Q67.4735 99.5558 64.3254 99.5558 M73.6077 84.9031 L73.6077 89.1624 Q71.8485 88.329 70.0429 87.8892 Q68.2606 87.4494 66.5013 87.4494 Q61.8717 87.4494 59.418 90.5744 Q56.9875 93.6994 56.6402 100.019 Q58.006 98.0049 60.0662 96.9401 Q62.1263 95.8521 64.6032 95.8521 Q69.8115 95.8521 72.8207 99.0234 Q75.8531 102.172 75.8531 107.611 Q75.8531 112.935 72.705 116.153 Q69.5568 119.371 64.3254 119.371 Q58.33 119.371 55.1588 114.787 Q51.9875 110.181 51.9875 101.454 Q51.9875 93.2596 55.8764 88.3985 Q59.7652 83.5142 66.3161 83.5142 Q68.0754 83.5142 69.8578 83.8615 Q71.6633 84.2087 73.6077 84.9031 Z\" fill=\"#000000\" fill-rule=\"evenodd\" fill-opacity=\"1\" /><path clip-path=\"url(#clip790)\" d=\"M93.9086 87.2179 Q90.2975 87.2179 88.4688 90.7827 Q86.6632 94.3244 86.6632 101.454 Q86.6632 108.56 88.4688 112.125 Q90.2975 115.667 93.9086 115.667 Q97.5428 115.667 99.3483 112.125 Q101.177 108.56 101.177 101.454 Q101.177 94.3244 99.3483 90.7827 Q97.5428 87.2179 93.9086 87.2179 M93.9086 83.5142 Q99.7187 83.5142 102.774 88.1207 Q105.853 92.704 105.853 101.454 Q105.853 110.181 102.774 114.787 Q99.7187 119.371 93.9086 119.371 Q88.0984 119.371 85.0197 114.787 Q81.9642 110.181 81.9642 101.454 Q81.9642 92.704 85.0197 88.1207 Q88.0984 83.5142 93.9086 83.5142 Z\" fill=\"#000000\" fill-rule=\"evenodd\" fill-opacity=\"1\" /><path clip-path=\"url(#clip790)\" d=\"M124.07 87.2179 Q120.459 87.2179 118.631 90.7827 Q116.825 94.3244 116.825 101.454 Q116.825 108.56 118.631 112.125 Q120.459 115.667 124.07 115.667 Q127.705 115.667 129.51 112.125 Q131.339 108.56 131.339 101.454 Q131.339 94.3244 129.51 90.7827 Q127.705 87.2179 124.07 87.2179 M124.07 83.5142 Q129.881 83.5142 132.936 88.1207 Q136.015 92.704 136.015 101.454 Q136.015 110.181 132.936 114.787 Q129.881 119.371 124.07 119.371 Q118.26 119.371 115.182 114.787 Q112.126 110.181 112.126 101.454 Q112.126 92.704 115.182 88.1207 Q118.26 83.5142 124.07 83.5142 Z\" fill=\"#000000\" fill-rule=\"evenodd\" fill-opacity=\"1\" /><path clip-path=\"url(#clip792)\" d=\"\n",
       "M291.959 87.9763 L291.959 1445.72 L615.435 1445.72 L615.435 87.9763 L291.959 87.9763 L291.959 87.9763  Z\n",
       "  \" fill=\"#009af9\" fill-rule=\"evenodd\" fill-opacity=\"1\"/>\n",
       "<polyline clip-path=\"url(#clip792)\" style=\"stroke:#000000; stroke-linecap:butt; stroke-linejoin:round; stroke-width:4; stroke-opacity:1; fill:none\" points=\"\n",
       "  291.959,87.9763 291.959,1445.72 615.435,1445.72 615.435,87.9763 291.959,87.9763 \n",
       "  \"/>\n",
       "<path clip-path=\"url(#clip792)\" d=\"\n",
       "M615.435 1445.72 L615.435 1445.72 L938.91 1445.72 L938.91 1445.72 L615.435 1445.72 L615.435 1445.72  Z\n",
       "  \" fill=\"#009af9\" fill-rule=\"evenodd\" fill-opacity=\"1\"/>\n",
       "<polyline clip-path=\"url(#clip792)\" style=\"stroke:#000000; stroke-linecap:butt; stroke-linejoin:round; stroke-width:4; stroke-opacity:1; fill:none\" points=\"\n",
       "  615.435,1445.72 615.435,1445.72 938.91,1445.72 615.435,1445.72 \n",
       "  \"/>\n",
       "<path clip-path=\"url(#clip792)\" d=\"\n",
       "M938.91 1445.72 L938.91 1445.72 L1262.39 1445.72 L1262.39 1445.72 L938.91 1445.72 L938.91 1445.72  Z\n",
       "  \" fill=\"#009af9\" fill-rule=\"evenodd\" fill-opacity=\"1\"/>\n",
       "<polyline clip-path=\"url(#clip792)\" style=\"stroke:#000000; stroke-linecap:butt; stroke-linejoin:round; stroke-width:4; stroke-opacity:1; fill:none\" points=\"\n",
       "  938.91,1445.72 938.91,1445.72 1262.39,1445.72 938.91,1445.72 \n",
       "  \"/>\n",
       "<path clip-path=\"url(#clip792)\" d=\"\n",
       "M1262.39 1445.72 L1262.39 1445.72 L1585.86 1445.72 L1585.86 1445.72 L1262.39 1445.72 L1262.39 1445.72  Z\n",
       "  \" fill=\"#009af9\" fill-rule=\"evenodd\" fill-opacity=\"1\"/>\n",
       "<polyline clip-path=\"url(#clip792)\" style=\"stroke:#000000; stroke-linecap:butt; stroke-linejoin:round; stroke-width:4; stroke-opacity:1; fill:none\" points=\"\n",
       "  1262.39,1445.72 1262.39,1445.72 1585.86,1445.72 1262.39,1445.72 \n",
       "  \"/>\n",
       "<path clip-path=\"url(#clip792)\" d=\"\n",
       "M1585.86 1445.72 L1585.86 1445.72 L1909.34 1445.72 L1909.34 1445.72 L1585.86 1445.72 L1585.86 1445.72  Z\n",
       "  \" fill=\"#009af9\" fill-rule=\"evenodd\" fill-opacity=\"1\"/>\n",
       "<polyline clip-path=\"url(#clip792)\" style=\"stroke:#000000; stroke-linecap:butt; stroke-linejoin:round; stroke-width:4; stroke-opacity:1; fill:none\" points=\"\n",
       "  1585.86,1445.72 1585.86,1445.72 1909.34,1445.72 1585.86,1445.72 \n",
       "  \"/>\n",
       "<path clip-path=\"url(#clip792)\" d=\"\n",
       "M1909.34 840.782 L1909.34 1445.72 L2232.81 1445.72 L2232.81 840.782 L1909.34 840.782 L1909.34 840.782  Z\n",
       "  \" fill=\"#009af9\" fill-rule=\"evenodd\" fill-opacity=\"1\"/>\n",
       "<polyline clip-path=\"url(#clip792)\" style=\"stroke:#000000; stroke-linecap:butt; stroke-linejoin:round; stroke-width:4; stroke-opacity:1; fill:none\" points=\"\n",
       "  1909.34,840.782 1909.34,1445.72 2232.81,1445.72 2232.81,840.782 1909.34,840.782 \n",
       "  \"/>\n",
       "<circle clip-path=\"url(#clip792)\" style=\"fill:#009af9; stroke:none; fill-opacity:0\" cx=\"453.697\" cy=\"87.9763\" r=\"2\"/>\n",
       "<circle clip-path=\"url(#clip792)\" style=\"fill:#009af9; stroke:none; fill-opacity:0\" cx=\"777.172\" cy=\"1445.72\" r=\"2\"/>\n",
       "<circle clip-path=\"url(#clip792)\" style=\"fill:#009af9; stroke:none; fill-opacity:0\" cx=\"1100.65\" cy=\"1445.72\" r=\"2\"/>\n",
       "<circle clip-path=\"url(#clip792)\" style=\"fill:#009af9; stroke:none; fill-opacity:0\" cx=\"1424.12\" cy=\"1445.72\" r=\"2\"/>\n",
       "<circle clip-path=\"url(#clip792)\" style=\"fill:#009af9; stroke:none; fill-opacity:0\" cx=\"1747.6\" cy=\"1445.72\" r=\"2\"/>\n",
       "<circle clip-path=\"url(#clip792)\" style=\"fill:#009af9; stroke:none; fill-opacity:0\" cx=\"2071.07\" cy=\"840.782\" r=\"2\"/>\n",
       "<path clip-path=\"url(#clip790)\" d=\"\n",
       "M1985.33 198.898 L2280.06 198.898 L2280.06 95.2176 L1985.33 95.2176  Z\n",
       "  \" fill=\"#ffffff\" fill-rule=\"evenodd\" fill-opacity=\"1\"/>\n",
       "<polyline clip-path=\"url(#clip790)\" style=\"stroke:#000000; stroke-linecap:butt; stroke-linejoin:round; stroke-width:4; stroke-opacity:1; fill:none\" points=\"\n",
       "  1985.33,198.898 2280.06,198.898 2280.06,95.2176 1985.33,95.2176 1985.33,198.898 \n",
       "  \"/>\n",
       "<path clip-path=\"url(#clip790)\" d=\"\n",
       "M2009.56 167.794 L2154.94 167.794 L2154.94 126.322 L2009.56 126.322 L2009.56 167.794  Z\n",
       "  \" fill=\"#009af9\" fill-rule=\"evenodd\" fill-opacity=\"1\"/>\n",
       "<polyline clip-path=\"url(#clip790)\" style=\"stroke:#000000; stroke-linecap:butt; stroke-linejoin:round; stroke-width:4; stroke-opacity:1; fill:none\" points=\"\n",
       "  2009.56,167.794 2154.94,167.794 2154.94,126.322 2009.56,126.322 2009.56,167.794 \n",
       "  \"/>\n",
       "<path clip-path=\"url(#clip790)\" d=\"M2193.02 166.745 Q2191.21 171.375 2189.5 172.787 Q2187.78 174.199 2184.91 174.199 L2181.51 174.199 L2181.51 170.634 L2184.01 170.634 Q2185.77 170.634 2186.74 169.8 Q2187.71 168.967 2188.9 165.865 L2189.66 163.921 L2179.17 138.412 L2183.69 138.412 L2191.79 158.689 L2199.89 138.412 L2204.4 138.412 L2193.02 166.745 Z\" fill=\"#000000\" fill-rule=\"evenodd\" fill-opacity=\"1\" /><path clip-path=\"url(#clip790)\" d=\"M2211.7 160.402 L2219.34 160.402 L2219.34 134.037 L2211.03 135.703 L2211.03 131.444 L2219.29 129.778 L2223.96 129.778 L2223.96 160.402 L2231.6 160.402 L2231.6 164.338 L2211.7 164.338 L2211.7 160.402 Z\" fill=\"#000000\" fill-rule=\"evenodd\" fill-opacity=\"1\" /></svg>\n"
      ]
     },
     "metadata": {},
     "output_type": "display_data"
    }
   ],
   "source": [
    "histogram(total_data[total_data[!, \"wave\"].==16, \"Mandatory_SAH\"])"
   ]
  },
  {
   "cell_type": "code",
   "execution_count": 42,
   "metadata": {},
   "outputs": [
    {
     "data": {
      "text/plain": [
       "18493-element Vector{Union{Missing, Float64}}:\n",
       "  5.0\n",
       "  5.0\n",
       " 49.0\n",
       "  5.0\n",
       " 35.0\n",
       "  5.0\n",
       " 47.0\n",
       " 17.0\n",
       "  5.0\n",
       " 10.0\n",
       "  ⋮\n",
       " 12.0\n",
       "   missing\n",
       "   missing\n",
       "   missing\n",
       "   missing\n",
       "   missing\n",
       "   missing\n",
       "   missing\n",
       "   missing"
      ]
     },
     "metadata": {},
     "output_type": "display_data"
    }
   ],
   "source": [
    "total_data[!, \"DemW3\"]"
   ]
  },
  {
   "cell_type": "code",
   "execution_count": 43,
   "metadata": {},
   "outputs": [
    {
     "data": {
      "text/html": [
       "<div class=\"data-frame\"><p>880 rows × 23 columns (omitted printing of 17 columns)</p><table class=\"data-frame\"><thead><tr><th></th><th>Column1</th><th>wave</th><th>States</th><th>cumulative_cases</th><th>new_cases</th><th>slope_new_cases</th></tr><tr><th></th><th title=\"Int64\">Int64</th><th title=\"Int64\">Int64</th><th title=\"String31\">String31</th><th title=\"Float64\">Float64</th><th title=\"Float64\">Float64</th><th title=\"Float64\">Float64</th></tr></thead><tbody><tr><th>1</th><td>0</td><td>1</td><td>Alabama</td><td>1535.0</td><td>130.286</td><td>2.28571</td></tr><tr><th>2</th><td>1</td><td>1</td><td>Alaska</td><td>156.0</td><td>9.57143</td><td>-0.571429</td></tr><tr><th>3</th><td>2</td><td>1</td><td>Arizona</td><td>1769.0</td><td>178.0</td><td>20.2857</td></tr><tr><th>4</th><td>3</td><td>1</td><td>Arkansas</td><td>738.0</td><td>47.7143</td><td>-2.71429</td></tr><tr><th>5</th><td>4</td><td>1</td><td>California</td><td>12569.0</td><td>1175.71</td><td>82.2857</td></tr><tr><th>6</th><td>5</td><td>1</td><td>Colorado</td><td>4182.0</td><td>359.0</td><td>9.42857</td></tr><tr><th>7</th><td>6</td><td>1</td><td>Connecticut</td><td>4915.0</td><td>536.0</td><td>18.2857</td></tr><tr><th>8</th><td>7</td><td>1</td><td>Delaware</td><td>450.0</td><td>54.1429</td><td>13.4286</td></tr><tr><th>9</th><td>8</td><td>1</td><td>District of Columbia</td><td>757.0</td><td>85.4286</td><td>15.4286</td></tr><tr><th>10</th><td>9</td><td>1</td><td>Florida</td><td>10260.0</td><td>1071.29</td><td>62.4286</td></tr><tr><th>11</th><td>10</td><td>1</td><td>Georgia</td><td>5967.0</td><td>562.286</td><td>23.8571</td></tr><tr><th>12</th><td>11</td><td>1</td><td>Guam</td><td>154.0</td><td>23.7143</td><td>9.28571</td></tr><tr><th>13</th><td>12</td><td>1</td><td>Hawaii</td><td>317.0</td><td>28.2857</td><td>0.142857</td></tr><tr><th>14</th><td>13</td><td>1</td><td>Idaho</td><td>1012.0</td><td>116.286</td><td>4.85714</td></tr><tr><th>15</th><td>14</td><td>1</td><td>Illinois</td><td>8904.0</td><td>972.857</td><td>133.571</td></tr><tr><th>16</th><td>15</td><td>1</td><td>Indiana</td><td>3455.0</td><td>390.857</td><td>39.0</td></tr><tr><th>17</th><td>16</td><td>1</td><td>Iowa</td><td>699.0</td><td>69.7143</td><td>3.57143</td></tr><tr><th>18</th><td>17</td><td>1</td><td>Kansas</td><td>625.0</td><td>61.4286</td><td>2.57143</td></tr><tr><th>19</th><td>18</td><td>1</td><td>Kentucky</td><td>762.0</td><td>73.5714</td><td>7.85714</td></tr><tr><th>20</th><td>19</td><td>1</td><td>Louisiana</td><td>10299.0</td><td>1312.14</td><td>233.143</td></tr><tr><th>21</th><td>20</td><td>1</td><td>Maine</td><td>432.0</td><td>35.0</td><td>-2.71429</td></tr><tr><th>22</th><td>21</td><td>1</td><td>Maryland</td><td>2758.0</td><td>294.143</td><td>13.0</td></tr><tr><th>23</th><td>22</td><td>1</td><td>Massachusetts</td><td>10402.0</td><td>1068.43</td><td>45.2857</td></tr><tr><th>24</th><td>23</td><td>1</td><td>Michigan</td><td>12669.0</td><td>1370.14</td><td>82.4286</td></tr><tr><th>&vellip;</th><td>&vellip;</td><td>&vellip;</td><td>&vellip;</td><td>&vellip;</td><td>&vellip;</td><td>&vellip;</td></tr></tbody></table></div>"
      ],
      "text/latex": [
       "\\begin{tabular}{r|ccccccc}\n",
       "\t& Column1 & wave & States & cumulative\\_cases & new\\_cases & slope\\_new\\_cases & \\\\\n",
       "\t\\hline\n",
       "\t& Int64 & Int64 & String31 & Float64 & Float64 & Float64 & \\\\\n",
       "\t\\hline\n",
       "\t1 & 0 & 1 & Alabama & 1535.0 & 130.286 & 2.28571 & $\\dots$ \\\\\n",
       "\t2 & 1 & 1 & Alaska & 156.0 & 9.57143 & -0.571429 & $\\dots$ \\\\\n",
       "\t3 & 2 & 1 & Arizona & 1769.0 & 178.0 & 20.2857 & $\\dots$ \\\\\n",
       "\t4 & 3 & 1 & Arkansas & 738.0 & 47.7143 & -2.71429 & $\\dots$ \\\\\n",
       "\t5 & 4 & 1 & California & 12569.0 & 1175.71 & 82.2857 & $\\dots$ \\\\\n",
       "\t6 & 5 & 1 & Colorado & 4182.0 & 359.0 & 9.42857 & $\\dots$ \\\\\n",
       "\t7 & 6 & 1 & Connecticut & 4915.0 & 536.0 & 18.2857 & $\\dots$ \\\\\n",
       "\t8 & 7 & 1 & Delaware & 450.0 & 54.1429 & 13.4286 & $\\dots$ \\\\\n",
       "\t9 & 8 & 1 & District of Columbia & 757.0 & 85.4286 & 15.4286 & $\\dots$ \\\\\n",
       "\t10 & 9 & 1 & Florida & 10260.0 & 1071.29 & 62.4286 & $\\dots$ \\\\\n",
       "\t11 & 10 & 1 & Georgia & 5967.0 & 562.286 & 23.8571 & $\\dots$ \\\\\n",
       "\t12 & 11 & 1 & Guam & 154.0 & 23.7143 & 9.28571 & $\\dots$ \\\\\n",
       "\t13 & 12 & 1 & Hawaii & 317.0 & 28.2857 & 0.142857 & $\\dots$ \\\\\n",
       "\t14 & 13 & 1 & Idaho & 1012.0 & 116.286 & 4.85714 & $\\dots$ \\\\\n",
       "\t15 & 14 & 1 & Illinois & 8904.0 & 972.857 & 133.571 & $\\dots$ \\\\\n",
       "\t16 & 15 & 1 & Indiana & 3455.0 & 390.857 & 39.0 & $\\dots$ \\\\\n",
       "\t17 & 16 & 1 & Iowa & 699.0 & 69.7143 & 3.57143 & $\\dots$ \\\\\n",
       "\t18 & 17 & 1 & Kansas & 625.0 & 61.4286 & 2.57143 & $\\dots$ \\\\\n",
       "\t19 & 18 & 1 & Kentucky & 762.0 & 73.5714 & 7.85714 & $\\dots$ \\\\\n",
       "\t20 & 19 & 1 & Louisiana & 10299.0 & 1312.14 & 233.143 & $\\dots$ \\\\\n",
       "\t21 & 20 & 1 & Maine & 432.0 & 35.0 & -2.71429 & $\\dots$ \\\\\n",
       "\t22 & 21 & 1 & Maryland & 2758.0 & 294.143 & 13.0 & $\\dots$ \\\\\n",
       "\t23 & 22 & 1 & Massachusetts & 10402.0 & 1068.43 & 45.2857 & $\\dots$ \\\\\n",
       "\t24 & 23 & 1 & Michigan & 12669.0 & 1370.14 & 82.4286 & $\\dots$ \\\\\n",
       "\t$\\dots$ & $\\dots$ & $\\dots$ & $\\dots$ & $\\dots$ & $\\dots$ & $\\dots$ &  \\\\\n",
       "\\end{tabular}\n"
      ],
      "text/plain": [
       "\u001b[1m880×23 DataFrame\u001b[0m\n",
       "\u001b[1m Row \u001b[0m│\u001b[1m Column1 \u001b[0m\u001b[1m wave  \u001b[0m\u001b[1m States               \u001b[0m\u001b[1m cumulative_cases \u001b[0m\u001b[1m new_cases   \u001b[0m\u001b[1m sl\u001b[0m ⋯\n",
       "\u001b[1m     \u001b[0m│\u001b[90m Int64   \u001b[0m\u001b[90m Int64 \u001b[0m\u001b[90m String31             \u001b[0m\u001b[90m Float64          \u001b[0m\u001b[90m Float64     \u001b[0m\u001b[90m Fl\u001b[0m ⋯\n",
       "─────┼──────────────────────────────────────────────────────────────────────────\n",
       "   1 │       0      1  Alabama                    1535.0         130.286       ⋯\n",
       "   2 │       1      1  Alaska                      156.0           9.57143\n",
       "   3 │       2      1  Arizona                    1769.0         178.0\n",
       "   4 │       3      1  Arkansas                    738.0          47.7143\n",
       "   5 │       4      1  California                12569.0        1175.71        ⋯\n",
       "   6 │       5      1  Colorado                   4182.0         359.0\n",
       "   7 │       6      1  Connecticut                4915.0         536.0\n",
       "   8 │       7      1  Delaware                    450.0          54.1429\n",
       "  ⋮  │    ⋮       ⋮             ⋮                   ⋮               ⋮          ⋱\n",
       " 874 │     873     16  Vermont                   10759.0         141.857       ⋯\n",
       " 875 │     874     16  Virgin Islands             2321.0          25.0\n",
       " 876 │     875     16  Virginia                 463751.0        5609.14\n",
       " 877 │     876     16  Washington               302546.0        1887.29\n",
       " 878 │     877     16  West Virginia            113615.0         946.857       ⋯\n",
       " 879 │     878     16  Wisconsin                577991.0        1961.14\n",
       " 880 │     879     16  Wyoming                   50583.0         216.429\n",
       "\u001b[36m                                                 18 columns and 865 rows omitted\u001b[0m"
      ]
     },
     "metadata": {},
     "output_type": "display_data"
    }
   ],
   "source": [
    "external_state = CSV.read(\"../data/w1-w16_external_combined.csv\", DataFrame)"
   ]
  },
  {
   "cell_type": "code",
   "execution_count": 47,
   "metadata": {},
   "outputs": [
    {
     "data": {
      "text/plain": [
       "16-element Vector{Union{Missing, Float64}}:\n",
       " 1.0\n",
       " 1.0\n",
       " 1.0\n",
       " 1.0\n",
       " 0.0\n",
       " 0.0\n",
       " 0.0\n",
       " 0.0\n",
       " 0.0\n",
       " 0.0\n",
       " 0.0\n",
       " 0.0\n",
       " 0.0\n",
       " 0.0\n",
       " 0.0\n",
       " 0.0"
      ]
     },
     "metadata": {},
     "output_type": "display_data"
    }
   ],
   "source": [
    "external_state[external_state[!, \"States\"] .== \"Florida\", \"Mandatory_SAH\"]"
   ]
  },
  {
   "cell_type": "code",
   "execution_count": null,
   "metadata": {},
   "outputs": [],
   "source": [
    "total_data[]"
   ]
  },
  {
   "cell_type": "code",
   "execution_count": 61,
   "metadata": {},
   "outputs": [
    {
     "data": {
      "text/html": [
       "<div class=\"data-frame\"><p>1,498 rows × 831 columns (omitted printing of 825 columns)</p><table class=\"data-frame\"><thead><tr><th></th><th>Column1</th><th>PROLIFIC_PID</th><th>wave</th><th>Fear_COVID_raw</th><th>Disgust_COVID_raw</th><th>DISG1.1_20</th></tr><tr><th></th><th title=\"Int64\">Int64</th><th title=\"String31\">String31</th><th title=\"Int64\">Int64</th><th title=\"Int64\">Int64</th><th title=\"Int64\">Int64</th><th title=\"Float64\">Float64</th></tr></thead><tbody><tr><th>1</th><td>1</td><td>5df82e8739bcde5dd044f741</td><td>2</td><td>7</td><td>12</td><td>1.0</td></tr><tr><th>2</th><td>4</td><td>5c7e91c1973c990016ea72b0</td><td>2</td><td>25</td><td>26</td><td>5.0</td></tr><tr><th>3</th><td>3746</td><td>5e753094e8a6f10a9805ed9a</td><td>2</td><td>10</td><td>8</td><td>1.0</td></tr><tr><th>4</th><td>20</td><td>5e67052c757e6149c38ce468</td><td>2</td><td>14</td><td>14</td><td>5.0</td></tr><tr><th>5</th><td>4143</td><td>5e7745990fd39b2a816ec341</td><td>2</td><td>8</td><td>21</td><td>2.0</td></tr><tr><th>6</th><td>29</td><td>5d89106d1719af0001ee23e5</td><td>2</td><td>7</td><td>20</td><td>5.0</td></tr><tr><th>7</th><td>4808</td><td>5dc5bd296a8a334443fbf216</td><td>2</td><td>24</td><td>20</td><td>3.0</td></tr><tr><th>8</th><td>5609</td><td>5dce29700ad506063969a4a5</td><td>2</td><td>12</td><td>11</td><td>3.0</td></tr><tr><th>9</th><td>45</td><td>5d6394518df2870001a74b42</td><td>2</td><td>22</td><td>29</td><td>5.0</td></tr><tr><th>10</th><td>5823</td><td>5e784ba802c79b3c2e227bd3</td><td>2</td><td>14</td><td>12</td><td>1.0</td></tr><tr><th>11</th><td>61</td><td>5bdd368719b9ba000157fb12</td><td>2</td><td>10</td><td>8</td><td>1.0</td></tr><tr><th>12</th><td>6239</td><td>5e4a0a67110b3747ea173d60</td><td>2</td><td>11</td><td>10</td><td>1.0</td></tr><tr><th>13</th><td>6360</td><td>5e605d713d60473af936cc65</td><td>2</td><td>11</td><td>12</td><td>2.0</td></tr><tr><th>14</th><td>6808</td><td>574ce0a57fd0ec000db73aa6</td><td>2</td><td>24</td><td>25</td><td>1.0</td></tr><tr><th>15</th><td>5837</td><td>5d75c56a52c89d0017df611c</td><td>2</td><td>15</td><td>22</td><td>4.0</td></tr><tr><th>16</th><td>78</td><td>5a8ce265000dab00018ce084</td><td>2</td><td>4</td><td>10</td><td>2.0</td></tr><tr><th>17</th><td>94</td><td>5c72efa770d5a200018028f1</td><td>2</td><td>13</td><td>21</td><td>4.0</td></tr><tr><th>18</th><td>7651</td><td>5c30b2a910677f0001dda4c8</td><td>2</td><td>14</td><td>16</td><td>5.0</td></tr><tr><th>19</th><td>5625</td><td>5d506e6d4040a40016bb186a</td><td>2</td><td>21</td><td>23</td><td>3.0</td></tr><tr><th>20</th><td>7918</td><td>57f0d96061e8340001877045</td><td>2</td><td>20</td><td>13</td><td>1.0</td></tr><tr><th>21</th><td>4821</td><td>5ceef5a66441f4000139711f</td><td>2</td><td>9</td><td>11</td><td>1.0</td></tr><tr><th>22</th><td>5853</td><td>5db4a409d27e05000f0eaa00</td><td>2</td><td>22</td><td>23</td><td>4.0</td></tr><tr><th>23</th><td>9001</td><td>5dcfc4a09595a10cd3ef3e59</td><td>2</td><td>17</td><td>14</td><td>1.0</td></tr><tr><th>24</th><td>6254</td><td>5de1ad8ec638d4203bbc7c26</td><td>2</td><td>21</td><td>21</td><td>4.0</td></tr><tr><th>&vellip;</th><td>&vellip;</td><td>&vellip;</td><td>&vellip;</td><td>&vellip;</td><td>&vellip;</td><td>&vellip;</td></tr></tbody></table></div>"
      ],
      "text/latex": [
       "\\begin{tabular}{r|ccccccc}\n",
       "\t& Column1 & PROLIFIC\\_PID & wave & Fear\\_COVID\\_raw & Disgust\\_COVID\\_raw & DISG1.1\\_20 & \\\\\n",
       "\t\\hline\n",
       "\t& Int64 & String31 & Int64 & Int64 & Int64 & Float64 & \\\\\n",
       "\t\\hline\n",
       "\t1 & 1 & 5df82e8739bcde5dd044f741 & 2 & 7 & 12 & 1.0 & $\\dots$ \\\\\n",
       "\t2 & 4 & 5c7e91c1973c990016ea72b0 & 2 & 25 & 26 & 5.0 & $\\dots$ \\\\\n",
       "\t3 & 3746 & 5e753094e8a6f10a9805ed9a & 2 & 10 & 8 & 1.0 & $\\dots$ \\\\\n",
       "\t4 & 20 & 5e67052c757e6149c38ce468 & 2 & 14 & 14 & 5.0 & $\\dots$ \\\\\n",
       "\t5 & 4143 & 5e7745990fd39b2a816ec341 & 2 & 8 & 21 & 2.0 & $\\dots$ \\\\\n",
       "\t6 & 29 & 5d89106d1719af0001ee23e5 & 2 & 7 & 20 & 5.0 & $\\dots$ \\\\\n",
       "\t7 & 4808 & 5dc5bd296a8a334443fbf216 & 2 & 24 & 20 & 3.0 & $\\dots$ \\\\\n",
       "\t8 & 5609 & 5dce29700ad506063969a4a5 & 2 & 12 & 11 & 3.0 & $\\dots$ \\\\\n",
       "\t9 & 45 & 5d6394518df2870001a74b42 & 2 & 22 & 29 & 5.0 & $\\dots$ \\\\\n",
       "\t10 & 5823 & 5e784ba802c79b3c2e227bd3 & 2 & 14 & 12 & 1.0 & $\\dots$ \\\\\n",
       "\t11 & 61 & 5bdd368719b9ba000157fb12 & 2 & 10 & 8 & 1.0 & $\\dots$ \\\\\n",
       "\t12 & 6239 & 5e4a0a67110b3747ea173d60 & 2 & 11 & 10 & 1.0 & $\\dots$ \\\\\n",
       "\t13 & 6360 & 5e605d713d60473af936cc65 & 2 & 11 & 12 & 2.0 & $\\dots$ \\\\\n",
       "\t14 & 6808 & 574ce0a57fd0ec000db73aa6 & 2 & 24 & 25 & 1.0 & $\\dots$ \\\\\n",
       "\t15 & 5837 & 5d75c56a52c89d0017df611c & 2 & 15 & 22 & 4.0 & $\\dots$ \\\\\n",
       "\t16 & 78 & 5a8ce265000dab00018ce084 & 2 & 4 & 10 & 2.0 & $\\dots$ \\\\\n",
       "\t17 & 94 & 5c72efa770d5a200018028f1 & 2 & 13 & 21 & 4.0 & $\\dots$ \\\\\n",
       "\t18 & 7651 & 5c30b2a910677f0001dda4c8 & 2 & 14 & 16 & 5.0 & $\\dots$ \\\\\n",
       "\t19 & 5625 & 5d506e6d4040a40016bb186a & 2 & 21 & 23 & 3.0 & $\\dots$ \\\\\n",
       "\t20 & 7918 & 57f0d96061e8340001877045 & 2 & 20 & 13 & 1.0 & $\\dots$ \\\\\n",
       "\t21 & 4821 & 5ceef5a66441f4000139711f & 2 & 9 & 11 & 1.0 & $\\dots$ \\\\\n",
       "\t22 & 5853 & 5db4a409d27e05000f0eaa00 & 2 & 22 & 23 & 4.0 & $\\dots$ \\\\\n",
       "\t23 & 9001 & 5dcfc4a09595a10cd3ef3e59 & 2 & 17 & 14 & 1.0 & $\\dots$ \\\\\n",
       "\t24 & 6254 & 5de1ad8ec638d4203bbc7c26 & 2 & 21 & 21 & 4.0 & $\\dots$ \\\\\n",
       "\t$\\dots$ & $\\dots$ & $\\dots$ & $\\dots$ & $\\dots$ & $\\dots$ & $\\dots$ &  \\\\\n",
       "\\end{tabular}\n"
      ],
      "text/plain": [
       "\u001b[1m1498×831 DataFrame\u001b[0m\n",
       "\u001b[1m  Row \u001b[0m│\u001b[1m Column1 \u001b[0m\u001b[1m PROLIFIC_PID             \u001b[0m\u001b[1m wave  \u001b[0m\u001b[1m Fear_COVID_raw \u001b[0m\u001b[1m Disgust_COVI\u001b[0m ⋯\n",
       "\u001b[1m      \u001b[0m│\u001b[90m Int64   \u001b[0m\u001b[90m String31                 \u001b[0m\u001b[90m Int64 \u001b[0m\u001b[90m Int64          \u001b[0m\u001b[90m Int64       \u001b[0m ⋯\n",
       "──────┼─────────────────────────────────────────────────────────────────────────\n",
       "    1 │       1  5df82e8739bcde5dd044f741      2               7               ⋯\n",
       "    2 │       4  5c7e91c1973c990016ea72b0      2              25\n",
       "    3 │    3746  5e753094e8a6f10a9805ed9a      2              10\n",
       "    4 │      20  5e67052c757e6149c38ce468      2              14\n",
       "    5 │    4143  5e7745990fd39b2a816ec341      2               8               ⋯\n",
       "    6 │      29  5d89106d1719af0001ee23e5      2               7\n",
       "    7 │    4808  5dc5bd296a8a334443fbf216      2              24\n",
       "    8 │    5609  5dce29700ad506063969a4a5      2              12\n",
       "  ⋮   │    ⋮                ⋮                ⋮          ⋮                 ⋮    ⋱\n",
       " 1492 │    3699  5e37ace67b6a7a72785dcfaf      2              12               ⋯\n",
       " 1493 │   10715  5d14f01dcd4b9c000184627b      2              13\n",
       " 1494 │    5572  5b5e7e643bac1d0001f9bf28      2              17\n",
       " 1495 │    8961  5d56123417ee8d0001cd9e00      2              13\n",
       " 1496 │   15479  5d8e3cd58c996a00138f684c      2               5               ⋯\n",
       " 1497 │   10728  5d7e7a080cc1c900155d5d07      2               6\n",
       " 1498 │   18220  5def020419398a5b744b98b9      2              12\n",
       "\u001b[36m                                               827 columns and 1483 rows omitted\u001b[0m"
      ]
     },
     "metadata": {},
     "output_type": "display_data"
    }
   ],
   "source": [
    "w2 = total_data[total_data[!, \"wave\"].==2, :]"
   ]
  },
  {
   "cell_type": "code",
   "execution_count": null,
   "metadata": {},
   "outputs": [],
   "source": []
  },
  {
   "cell_type": "code",
   "execution_count": 64,
   "metadata": {},
   "outputs": [
    {
     "ename": "ArgumentError",
     "evalue": "ArgumentError: unable to check bounds for indices of type Missing",
     "output_type": "error",
     "traceback": [
      "ArgumentError: unable to check bounds for indices of type Missing\n",
      "\n",
      "Stacktrace:\n",
      "  [1] checkindex(#unused#::Type{Bool}, inds::Base.OneTo{Int64}, i::Missing)\n",
      "    @ Base .\\abstractarray.jl:671\n",
      "  [2] checkindex\n",
      "    @ .\\abstractarray.jl:686 [inlined]\n",
      "  [3] getindex(df::DataFrame, row_inds::Vector{Union{Missing, Bool}}, #unused#::Colon)\n",
      "    @ DataFrames C:\\Users\\andyl\\.julia\\packages\\DataFrames\\zqFGs\\src\\dataframe\\dataframe.jl:576\n",
      "  [4] top-level scope\n",
      "    @ d:\\julia\\CovidDepressionAnalysis\\test\\freetests.ipynb:1\n",
      "  [5] eval\n",
      "    @ .\\boot.jl:360 [inlined]\n",
      "  [6] include_string(mapexpr::typeof(REPL.softscope), mod::Module, code::String, filename::String)\n",
      "    @ Base .\\loading.jl:1116\n",
      "  [7] #invokelatest#2\n",
      "    @ .\\essentials.jl:708 [inlined]\n",
      "  [8] invokelatest\n",
      "    @ .\\essentials.jl:706 [inlined]\n",
      "  [9] (::VSCodeServer.var\"#160#161\"{VSCodeServer.NotebookRunCellArguments, String})()\n",
      "    @ VSCodeServer c:\\Users\\andyl\\.vscode\\extensions\\julialang.language-julia-1.6.17\\scripts\\packages\\VSCodeServer\\src\\serve_notebook.jl:19\n",
      " [10] withpath(f::VSCodeServer.var\"#160#161\"{VSCodeServer.NotebookRunCellArguments, String}, path::String)\n",
      "    @ VSCodeServer c:\\Users\\andyl\\.vscode\\extensions\\julialang.language-julia-1.6.17\\scripts\\packages\\VSCodeServer\\src\\repl.jl:184\n",
      " [11] notebook_runcell_request(conn::VSCodeServer.JSONRPC.JSONRPCEndpoint{Base.PipeEndpoint, Base.PipeEndpoint}, params::VSCodeServer.NotebookRunCellArguments)\n",
      "    @ VSCodeServer c:\\Users\\andyl\\.vscode\\extensions\\julialang.language-julia-1.6.17\\scripts\\packages\\VSCodeServer\\src\\serve_notebook.jl:13\n",
      " [12] dispatch_msg(x::VSCodeServer.JSONRPC.JSONRPCEndpoint{Base.PipeEndpoint, Base.PipeEndpoint}, dispatcher::VSCodeServer.JSONRPC.MsgDispatcher, msg::Dict{String, Any})\n",
      "    @ VSCodeServer.JSONRPC c:\\Users\\andyl\\.vscode\\extensions\\julialang.language-julia-1.6.17\\scripts\\packages\\JSONRPC\\src\\typed.jl:67\n",
      " [13] serve_notebook(pipename::String, outputchannel_logger::Base.CoreLogging.SimpleLogger; crashreporting_pipename::String)\n",
      "    @ VSCodeServer c:\\Users\\andyl\\.vscode\\extensions\\julialang.language-julia-1.6.17\\scripts\\packages\\VSCodeServer\\src\\serve_notebook.jl:136\n",
      " [14] top-level scope\n",
      "    @ c:\\Users\\andyl\\.vscode\\extensions\\julialang.language-julia-1.6.17\\scripts\\notebook\\notebook.jl:32\n",
      " [15] include(mod::Module, _path::String)\n",
      "    @ Base .\\Base.jl:386\n",
      " [16] exec_options(opts::Base.JLOptions)\n",
      "    @ Base .\\client.jl:285\n",
      " [17] _start()\n",
      "    @ Base .\\client.jl:485"
     ]
    }
   ],
   "source": [
    "w2[w2[!, \"DemW3\"] .== 9, :]"
   ]
  },
  {
   "cell_type": "code",
   "execution_count": null,
   "metadata": {},
   "outputs": [],
   "source": [
    "w1_ca[w1_ca[!, \"stayHome_order_code\"]]"
   ]
  },
  {
   "cell_type": "code",
   "execution_count": 2,
   "metadata": {},
   "outputs": [
    {
     "data": {
      "text/html": [
       "<div class=\"data-frame\"><p>870 rows × 38 columns (omitted printing of 32 columns)</p><table class=\"data-frame\"><thead><tr><th></th><th>PROLIFIC_PID</th><th>Gender</th><th>Education</th><th>Income</th><th>Political_Views</th><th>Age</th></tr><tr><th></th><th title=\"String31\">String31</th><th title=\"Bool\">Bool</th><th title=\"Float64\">Float64</th><th title=\"Float64\">Float64</th><th title=\"Float64\">Float64</th><th title=\"Float64\">Float64</th></tr></thead><tbody><tr><th>1</th><td>5c7e91c1973c990016ea72b0</td><td>0</td><td>5.0</td><td>5.0</td><td>1.0</td><td>55.0</td></tr><tr><th>2</th><td>5d89106d1719af0001ee23e5</td><td>0</td><td>2.0</td><td>3.0</td><td>6.0</td><td>47.0</td></tr><tr><th>3</th><td>5d6394518df2870001a74b42</td><td>0</td><td>2.0</td><td>7.0</td><td>1.0</td><td>23.0</td></tr><tr><th>4</th><td>5bdd368719b9ba000157fb12</td><td>0</td><td>3.0</td><td>1.0</td><td>1.0</td><td>28.0</td></tr><tr><th>5</th><td>5a8ce265000dab00018ce084</td><td>0</td><td>4.0</td><td>6.0</td><td>3.0</td><td>50.0</td></tr><tr><th>6</th><td>5c72efa770d5a200018028f1</td><td>1</td><td>5.0</td><td>2.0</td><td>3.0</td><td>71.0</td></tr><tr><th>7</th><td>5aea962d0ef2f20001858c9c</td><td>1</td><td>2.0</td><td>1.0</td><td>2.0</td><td>36.0</td></tr><tr><th>8</th><td>5cbc071f2edc3b00018ab097</td><td>1</td><td>7.0</td><td>1.0</td><td>3.0</td><td>36.0</td></tr><tr><th>9</th><td>5c1b06d9a329230001ecc39c</td><td>1</td><td>2.0</td><td>7.0</td><td>1.0</td><td>25.0</td></tr><tr><th>10</th><td>5d2d8b999c6703001525304f</td><td>1</td><td>2.0</td><td>5.0</td><td>7.0</td><td>25.0</td></tr><tr><th>11</th><td>5b6a87d2cda8590001db8e07</td><td>1</td><td>5.0</td><td>3.0</td><td>1.0</td><td>39.0</td></tr><tr><th>12</th><td>5e3dff6b8714b707b9a258b0</td><td>1</td><td>5.0</td><td>7.0</td><td>2.0</td><td>35.0</td></tr><tr><th>13</th><td>5b05e0d131cebe000177c38e</td><td>1</td><td>2.0</td><td>1.0</td><td>5.0</td><td>38.0</td></tr><tr><th>14</th><td>5de0b69ba91be311cb773b0b</td><td>1</td><td>2.0</td><td>7.0</td><td>1.0</td><td>18.0</td></tr><tr><th>15</th><td>5e05b7747dd477fc2d2d2857</td><td>1</td><td>5.0</td><td>4.0</td><td>7.0</td><td>62.0</td></tr><tr><th>16</th><td>5c9e65d52707e10001a00524</td><td>1</td><td>7.0</td><td>5.0</td><td>5.0</td><td>58.0</td></tr><tr><th>17</th><td>5b5a822e1ad8270001c4f28d</td><td>1</td><td>2.0</td><td>1.0</td><td>4.0</td><td>38.0</td></tr><tr><th>18</th><td>578ba9442fc0d400012c71dc</td><td>1</td><td>3.0</td><td>2.0</td><td>1.0</td><td>23.0</td></tr><tr><th>19</th><td>5ace650a436f550001004f87</td><td>0</td><td>3.0</td><td>6.0</td><td>3.0</td><td>27.0</td></tr><tr><th>20</th><td>5dd0733b82569a156ed4f64f</td><td>0</td><td>7.0</td><td>2.0</td><td>2.0</td><td>68.0</td></tr><tr><th>21</th><td>5a94579a89de8200013ec36e</td><td>0</td><td>2.0</td><td>2.0</td><td>2.0</td><td>21.0</td></tr><tr><th>22</th><td>5e5d8d190272740aa1029258</td><td>0</td><td>2.0</td><td>7.0</td><td>4.0</td><td>20.0</td></tr><tr><th>23</th><td>5e1a7114a90da52e206de7ea</td><td>1</td><td>3.0</td><td>3.0</td><td>4.0</td><td>31.0</td></tr><tr><th>24</th><td>5c77ee419e039600147427b9</td><td>0</td><td>3.0</td><td>5.0</td><td>3.0</td><td>20.0</td></tr><tr><th>&vellip;</th><td>&vellip;</td><td>&vellip;</td><td>&vellip;</td><td>&vellip;</td><td>&vellip;</td><td>&vellip;</td></tr></tbody></table></div>"
      ],
      "text/latex": [
       "\\begin{tabular}{r|ccccccc}\n",
       "\t& PROLIFIC\\_PID & Gender & Education & Income & Political\\_Views & Age & \\\\\n",
       "\t\\hline\n",
       "\t& String31 & Bool & Float64 & Float64 & Float64 & Float64 & \\\\\n",
       "\t\\hline\n",
       "\t1 & 5c7e91c1973c990016ea72b0 & 0 & 5.0 & 5.0 & 1.0 & 55.0 & $\\dots$ \\\\\n",
       "\t2 & 5d89106d1719af0001ee23e5 & 0 & 2.0 & 3.0 & 6.0 & 47.0 & $\\dots$ \\\\\n",
       "\t3 & 5d6394518df2870001a74b42 & 0 & 2.0 & 7.0 & 1.0 & 23.0 & $\\dots$ \\\\\n",
       "\t4 & 5bdd368719b9ba000157fb12 & 0 & 3.0 & 1.0 & 1.0 & 28.0 & $\\dots$ \\\\\n",
       "\t5 & 5a8ce265000dab00018ce084 & 0 & 4.0 & 6.0 & 3.0 & 50.0 & $\\dots$ \\\\\n",
       "\t6 & 5c72efa770d5a200018028f1 & 1 & 5.0 & 2.0 & 3.0 & 71.0 & $\\dots$ \\\\\n",
       "\t7 & 5aea962d0ef2f20001858c9c & 1 & 2.0 & 1.0 & 2.0 & 36.0 & $\\dots$ \\\\\n",
       "\t8 & 5cbc071f2edc3b00018ab097 & 1 & 7.0 & 1.0 & 3.0 & 36.0 & $\\dots$ \\\\\n",
       "\t9 & 5c1b06d9a329230001ecc39c & 1 & 2.0 & 7.0 & 1.0 & 25.0 & $\\dots$ \\\\\n",
       "\t10 & 5d2d8b999c6703001525304f & 1 & 2.0 & 5.0 & 7.0 & 25.0 & $\\dots$ \\\\\n",
       "\t11 & 5b6a87d2cda8590001db8e07 & 1 & 5.0 & 3.0 & 1.0 & 39.0 & $\\dots$ \\\\\n",
       "\t12 & 5e3dff6b8714b707b9a258b0 & 1 & 5.0 & 7.0 & 2.0 & 35.0 & $\\dots$ \\\\\n",
       "\t13 & 5b05e0d131cebe000177c38e & 1 & 2.0 & 1.0 & 5.0 & 38.0 & $\\dots$ \\\\\n",
       "\t14 & 5de0b69ba91be311cb773b0b & 1 & 2.0 & 7.0 & 1.0 & 18.0 & $\\dots$ \\\\\n",
       "\t15 & 5e05b7747dd477fc2d2d2857 & 1 & 5.0 & 4.0 & 7.0 & 62.0 & $\\dots$ \\\\\n",
       "\t16 & 5c9e65d52707e10001a00524 & 1 & 7.0 & 5.0 & 5.0 & 58.0 & $\\dots$ \\\\\n",
       "\t17 & 5b5a822e1ad8270001c4f28d & 1 & 2.0 & 1.0 & 4.0 & 38.0 & $\\dots$ \\\\\n",
       "\t18 & 578ba9442fc0d400012c71dc & 1 & 3.0 & 2.0 & 1.0 & 23.0 & $\\dots$ \\\\\n",
       "\t19 & 5ace650a436f550001004f87 & 0 & 3.0 & 6.0 & 3.0 & 27.0 & $\\dots$ \\\\\n",
       "\t20 & 5dd0733b82569a156ed4f64f & 0 & 7.0 & 2.0 & 2.0 & 68.0 & $\\dots$ \\\\\n",
       "\t21 & 5a94579a89de8200013ec36e & 0 & 2.0 & 2.0 & 2.0 & 21.0 & $\\dots$ \\\\\n",
       "\t22 & 5e5d8d190272740aa1029258 & 0 & 2.0 & 7.0 & 4.0 & 20.0 & $\\dots$ \\\\\n",
       "\t23 & 5e1a7114a90da52e206de7ea & 1 & 3.0 & 3.0 & 4.0 & 31.0 & $\\dots$ \\\\\n",
       "\t24 & 5c77ee419e039600147427b9 & 0 & 3.0 & 5.0 & 3.0 & 20.0 & $\\dots$ \\\\\n",
       "\t$\\dots$ & $\\dots$ & $\\dots$ & $\\dots$ & $\\dots$ & $\\dots$ & $\\dots$ &  \\\\\n",
       "\\end{tabular}\n"
      ],
      "text/plain": [
       "\u001b[1m870×38 DataFrame\u001b[0m\n",
       "\u001b[1m Row \u001b[0m│\u001b[1m PROLIFIC_PID             \u001b[0m\u001b[1m Gender \u001b[0m\u001b[1m Education \u001b[0m\u001b[1m Income  \u001b[0m\u001b[1m Political_Views \u001b[0m\u001b[1m \u001b[0m ⋯\n",
       "\u001b[1m     \u001b[0m│\u001b[90m String31                 \u001b[0m\u001b[90m Bool   \u001b[0m\u001b[90m Float64   \u001b[0m\u001b[90m Float64 \u001b[0m\u001b[90m Float64         \u001b[0m\u001b[90m \u001b[0m ⋯\n",
       "─────┼──────────────────────────────────────────────────────────────────────────\n",
       "   1 │ 5c7e91c1973c990016ea72b0   false        5.0      5.0              1.0   ⋯\n",
       "   2 │ 5d89106d1719af0001ee23e5   false        2.0      3.0              6.0\n",
       "   3 │ 5d6394518df2870001a74b42   false        2.0      7.0              1.0\n",
       "   4 │ 5bdd368719b9ba000157fb12   false        3.0      1.0              1.0\n",
       "   5 │ 5a8ce265000dab00018ce084   false        4.0      6.0              3.0   ⋯\n",
       "   6 │ 5c72efa770d5a200018028f1    true        5.0      2.0              3.0\n",
       "   7 │ 5aea962d0ef2f20001858c9c    true        2.0      1.0              2.0\n",
       "   8 │ 5cbc071f2edc3b00018ab097    true        7.0      1.0              3.0\n",
       "  ⋮  │            ⋮                ⋮         ⋮         ⋮            ⋮          ⋱\n",
       " 864 │ 5cad4750f4115800176d506e   false        4.0      5.0              3.0   ⋯\n",
       " 865 │ 5be8846293ca1f00014db03c   false        5.0      3.0              5.0\n",
       " 866 │ 5dbd1569f8223b28d73ed6ae   false        3.0      2.0              2.0\n",
       " 867 │ 5e217a34e8ff3a469b5dfebc   false        3.0      3.0              3.0\n",
       " 868 │ 5d63867550d0dd0017805976    true        3.0      5.0              1.0   ⋯\n",
       " 869 │ 5e6155e6f169c0046b6d6518    true        7.0      2.0              2.0\n",
       " 870 │ 58cefdb030c4cf0001ceb3ac   false        5.0      4.0              2.0\n",
       "\u001b[36m                                                 33 columns and 855 rows omitted\u001b[0m"
      ]
     },
     "metadata": {},
     "output_type": "display_data"
    }
   ],
   "source": [
    "w6 = CSV.read(\"../output/IP_weighted_sources/w6.csv\", DataFrame)\n",
    "w8 = CSV.read(\"../output/IP_weighted_sources/w8.csv\", DataFrame)\n",
    "w10 = CSV.read(\"../output/IP_weighted_sources/w10.csv\", DataFrame)\n",
    "w12 = CSV.read(\"../output/IP_weighted_sources/w12.csv\", DataFrame)\n",
    "w14 = CSV.read(\"../output/IP_weighted_sources/w14.csv\", DataFrame)\n",
    "w16 = CSV.read(\"../output/IP_weighted_sources/w16.csv\", DataFrame)"
   ]
  },
  {
   "cell_type": "code",
   "execution_count": 5,
   "metadata": {},
   "outputs": [
    {
     "ename": "ArgumentError",
     "evalue": "ArgumentError: quantiles are undefined in presence of NaNs",
     "output_type": "error",
     "traceback": [
      "ArgumentError: quantiles are undefined in presence of NaNs\n",
      "\n",
      "Stacktrace:\n",
      "  [1] _quantilesort!(v::Vector{Float64}, sorted::Bool, minp::Float64, maxp::Float64)\n",
      "    @ Statistics C:\\buildbot\\worker\\package_win64\\build\\usr\\share\\julia\\stdlib\\v1.6\\Statistics\\src\\Statistics.jl:960\n",
      "  [2] #quantile!#52\n",
      "    @ C:\\buildbot\\worker\\package_win64\\build\\usr\\share\\julia\\stdlib\\v1.6\\Statistics\\src\\Statistics.jl:943 [inlined]\n",
      "  [3] #quantile#55\n",
      "    @ C:\\buildbot\\worker\\package_win64\\build\\usr\\share\\julia\\stdlib\\v1.6\\Statistics\\src\\Statistics.jl:1052 [inlined]\n",
      "  [4] quantile\n",
      "    @ C:\\buildbot\\worker\\package_win64\\build\\usr\\share\\julia\\stdlib\\v1.6\\Statistics\\src\\Statistics.jl:1052 [inlined]\n",
      "  [5] percentile\n",
      "    @ C:\\Users\\andyl\\.julia\\packages\\StatsBase\\pJqvO\\src\\scalarstats.jl:216 [inlined]\n",
      "  [6] estimate_ipw(data::DataFrame, adjustments::Vector{String}, second_degree_terms::Vector{String}, treatment::String, target::String, bootstrap::Int64)\n",
      "    @ Counterfactuals C:\\Users\\andyl\\.julia\\packages\\Counterfactuals\\oBLLB\\src\\models.jl:40\n",
      "  [7] top-level scope\n",
      "    @ d:\\julia\\CovidDepressionAnalysis\\test\\freetests.ipynb:9\n",
      "  [8] eval\n",
      "    @ .\\boot.jl:360 [inlined]\n",
      "  [9] include_string(mapexpr::typeof(REPL.softscope), mod::Module, code::String, filename::String)\n",
      "    @ Base .\\loading.jl:1116\n",
      " [10] #invokelatest#2\n",
      "    @ .\\essentials.jl:708 [inlined]\n",
      " [11] invokelatest\n",
      "    @ .\\essentials.jl:706 [inlined]\n",
      " [12] (::VSCodeServer.var\"#160#161\"{VSCodeServer.NotebookRunCellArguments, String})()\n",
      "    @ VSCodeServer c:\\Users\\andyl\\.vscode\\extensions\\julialang.language-julia-1.6.17\\scripts\\packages\\VSCodeServer\\src\\serve_notebook.jl:19\n",
      " [13] withpath(f::VSCodeServer.var\"#160#161\"{VSCodeServer.NotebookRunCellArguments, String}, path::String)\n",
      "    @ VSCodeServer c:\\Users\\andyl\\.vscode\\extensions\\julialang.language-julia-1.6.17\\scripts\\packages\\VSCodeServer\\src\\repl.jl:184\n",
      " [14] notebook_runcell_request(conn::VSCodeServer.JSONRPC.JSONRPCEndpoint{Base.PipeEndpoint, Base.PipeEndpoint}, params::VSCodeServer.NotebookRunCellArguments)\n",
      "    @ VSCodeServer c:\\Users\\andyl\\.vscode\\extensions\\julialang.language-julia-1.6.17\\scripts\\packages\\VSCodeServer\\src\\serve_notebook.jl:13\n",
      " [15] dispatch_msg(x::VSCodeServer.JSONRPC.JSONRPCEndpoint{Base.PipeEndpoint, Base.PipeEndpoint}, dispatcher::VSCodeServer.JSONRPC.MsgDispatcher, msg::Dict{String, Any})\n",
      "    @ VSCodeServer.JSONRPC c:\\Users\\andyl\\.vscode\\extensions\\julialang.language-julia-1.6.17\\scripts\\packages\\JSONRPC\\src\\typed.jl:67\n",
      " [16] serve_notebook(pipename::String, outputchannel_logger::Base.CoreLogging.SimpleLogger; crashreporting_pipename::String)\n",
      "    @ VSCodeServer c:\\Users\\andyl\\.vscode\\extensions\\julialang.language-julia-1.6.17\\scripts\\packages\\VSCodeServer\\src\\serve_notebook.jl:136\n",
      " [17] top-level scope\n",
      "    @ c:\\Users\\andyl\\.vscode\\extensions\\julialang.language-julia-1.6.17\\scripts\\notebook\\notebook.jl:32\n",
      " [18] include(mod::Module, _path::String)\n",
      "    @ Base .\\Base.jl:386\n",
      " [19] exec_options(opts::Base.JLOptions)\n",
      "    @ Base .\\client.jl:285\n",
      " [20] _start()\n",
      "    @ Base .\\client.jl:485"
     ]
    }
   ],
   "source": [
    "w12[!,:Gathering_Strictness_bin] = w12[!, :GatheringStrictness] .<= 4\n",
    "w12 = w12[Not(isnan.(w12[!, :cvd_cases_7d_avg])), :]\n",
    "\n",
    "adjustments = [\"cvd_cases_7d_avg\", \"cvd_deaths_7d_avg\"]\n",
    "square_terms = [\"cvd_cases_7d_avg\", \"cvd_deaths_7d_avg\"]\n",
    "treatment = \"Gathering_Strictness_bin\"\n",
    "target = \"Depression_adj\"\n",
    "\n",
    "effects, mean, CI = estimate_ipw(w12, adjustments, square_terms, treatment, target, 1000)\n",
    "println(\"Estimated Effects:\")\n",
    "println(mean)\n",
    "println(CI)\n",
    "#return effects, mean, CI "
   ]
  },
  {
   "cell_type": "code",
   "execution_count": 3,
   "metadata": {},
   "outputs": [
    {
     "data": {
      "text/plain": [
       "21-element Vector{String}:\n",
       " \"Gender\"\n",
       " \"Education\"\n",
       " \"Income\"\n",
       " \"Political_Views\"\n",
       " \"Age\"\n",
       " \"Race\"\n",
       " \"Depression\"\n",
       " \"Depression_adj\"\n",
       " \"Stress\"\n",
       " \"Anxiety\"\n",
       " ⋮\n",
       " \"GatheringStrictness\"\n",
       " \"stayHome_order_code\"\n",
       " \"Mandatory_business_closure\"\n",
       " \"Mandatory_PPE_masks\"\n",
       " \"gatherBan_order_code\"\n",
       " \"slope_new_cases\"\n",
       " \"slope_new_deaths\"\n",
       " \"cvd_cases_7d_avg\"\n",
       " \"cvd_deaths_7d_avg\""
      ]
     },
     "metadata": {},
     "output_type": "display_data"
    }
   ],
   "source": [
    "variable_of_interest_1 = [\"Gender\", \"Education\", \"Income\", \"Political_Views\", \"Age\", \"Race\", \"Depression\", \"Depression_adj\", \"Stress\", \"Anxiety\", \"Loneliness\", \"Emotional_Support\"]"
   ]
  },
  {
   "cell_type": "code",
   "execution_count": null,
   "metadata": {},
   "outputs": [],
   "source": [
    "variable_of_interest_2 = [\"Depression\", \"Depression_adj\", \"GatheringStrictness\", \"stayHome_order_code\", \"gatherBan_order_code\", \"slope_new_cases\", \"slope_new_deaths\", \"cvd_cases_7d_avg\", \"cvd_deaths_7d_avg\"]"
   ]
  },
  {
   "cell_type": "code",
   "execution_count": 4,
   "metadata": {},
   "outputs": [
    {
     "data": {
      "text/html": [
       "<div class=\"data-frame\"><p>1,113 rows × 21 columns (omitted printing of 13 columns)</p><table class=\"data-frame\"><thead><tr><th></th><th>Gender</th><th>Education</th><th>Income</th><th>Political_Views</th><th>Age</th><th>Race</th><th>Depression</th><th>Depression_adj</th></tr><tr><th></th><th title=\"Bool\">Bool</th><th title=\"Float64\">Float64</th><th title=\"Float64\">Float64</th><th title=\"Float64\">Float64</th><th title=\"Float64\">Float64</th><th title=\"Float64\">Float64</th><th title=\"Int64\">Int64</th><th title=\"Float64\">Float64</th></tr></thead><tbody><tr><th>1</th><td>0</td><td>5.0</td><td>1.0</td><td>1.0</td><td>55.0</td><td>5.0</td><td>16</td><td>21.4814</td></tr><tr><th>2</th><td>1</td><td>1.0</td><td>1.0</td><td>4.0</td><td>23.0</td><td>7.0</td><td>51</td><td>97.0674</td></tr><tr><th>3</th><td>0</td><td>2.0</td><td>1.0</td><td>6.0</td><td>47.0</td><td>5.0</td><td>0</td><td>0.0</td></tr><tr><th>4</th><td>0</td><td>2.0</td><td>1.0</td><td>1.0</td><td>23.0</td><td>5.0</td><td>53</td><td>98.5428</td></tr><tr><th>5</th><td>0</td><td>3.0</td><td>1.0</td><td>4.0</td><td>28.0</td><td>5.0</td><td>8</td><td>13.742</td></tr><tr><th>6</th><td>0</td><td>4.0</td><td>6.0</td><td>3.0</td><td>50.0</td><td>5.0</td><td>11</td><td>14.4247</td></tr><tr><th>7</th><td>1</td><td>5.0</td><td>2.0</td><td>3.0</td><td>71.0</td><td>5.0</td><td>1</td><td>1.22073</td></tr><tr><th>8</th><td>1</td><td>2.0</td><td>1.0</td><td>2.0</td><td>36.0</td><td>5.0</td><td>28</td><td>44.5007</td></tr><tr><th>9</th><td>1</td><td>2.0</td><td>1.0</td><td>4.0</td><td>21.0</td><td>2.0</td><td>22</td><td>34.414</td></tr><tr><th>10</th><td>1</td><td>7.0</td><td>1.0</td><td>3.0</td><td>36.0</td><td>2.0</td><td>13</td><td>20.341</td></tr><tr><th>11</th><td>1</td><td>2.0</td><td>1.0</td><td>2.0</td><td>25.0</td><td>3.0</td><td>3</td><td>5.34494</td></tr><tr><th>12</th><td>1</td><td>6.0</td><td>3.0</td><td>1.0</td><td>66.0</td><td>5.0</td><td>25</td><td>31.4908</td></tr><tr><th>13</th><td>1</td><td>2.0</td><td>1.0</td><td>7.0</td><td>25.0</td><td>5.0</td><td>27</td><td>48.4408</td></tr><tr><th>14</th><td>1</td><td>5.0</td><td>1.0</td><td>2.0</td><td>22.0</td><td>5.0</td><td>1</td><td>1.77589</td></tr><tr><th>15</th><td>1</td><td>5.0</td><td>1.0</td><td>1.0</td><td>39.0</td><td>2.0</td><td>14</td><td>20.7298</td></tr><tr><th>16</th><td>1</td><td>5.0</td><td>1.0</td><td>2.0</td><td>35.0</td><td>5.0</td><td>26</td><td>40.145</td></tr><tr><th>17</th><td>1</td><td>2.0</td><td>1.0</td><td>5.0</td><td>38.0</td><td>5.0</td><td>40</td><td>62.3095</td></tr><tr><th>18</th><td>0</td><td>5.0</td><td>1.0</td><td>2.0</td><td>46.0</td><td>6.0</td><td>5</td><td>7.0623</td></tr><tr><th>19</th><td>0</td><td>3.0</td><td>1.0</td><td>2.0</td><td>22.0</td><td>7.0</td><td>39</td><td>72.6686</td></tr><tr><th>20</th><td>1</td><td>3.0</td><td>1.0</td><td>3.0</td><td>19.0</td><td>2.0</td><td>4</td><td>7.4626</td></tr><tr><th>21</th><td>0</td><td>2.0</td><td>1.0</td><td>2.0</td><td>19.0</td><td>2.0</td><td>5</td><td>8.05235</td></tr><tr><th>22</th><td>1</td><td>2.0</td><td>1.0</td><td>2.0</td><td>18.0</td><td>5.0</td><td>5</td><td>9.79575</td></tr><tr><th>23</th><td>1</td><td>5.0</td><td>4.0</td><td>7.0</td><td>62.0</td><td>5.0</td><td>0</td><td>0.0</td></tr><tr><th>24</th><td>1</td><td>7.0</td><td>5.0</td><td>5.0</td><td>58.0</td><td>5.0</td><td>2</td><td>2.64665</td></tr><tr><th>&vellip;</th><td>&vellip;</td><td>&vellip;</td><td>&vellip;</td><td>&vellip;</td><td>&vellip;</td><td>&vellip;</td><td>&vellip;</td><td>&vellip;</td></tr></tbody></table></div>"
      ],
      "text/latex": [
       "\\begin{tabular}{r|ccccccccc}\n",
       "\t& Gender & Education & Income & Political\\_Views & Age & Race & Depression & Depression\\_adj & \\\\\n",
       "\t\\hline\n",
       "\t& Bool & Float64 & Float64 & Float64 & Float64 & Float64 & Int64 & Float64 & \\\\\n",
       "\t\\hline\n",
       "\t1 & 0 & 5.0 & 1.0 & 1.0 & 55.0 & 5.0 & 16 & 21.4814 & $\\dots$ \\\\\n",
       "\t2 & 1 & 1.0 & 1.0 & 4.0 & 23.0 & 7.0 & 51 & 97.0674 & $\\dots$ \\\\\n",
       "\t3 & 0 & 2.0 & 1.0 & 6.0 & 47.0 & 5.0 & 0 & 0.0 & $\\dots$ \\\\\n",
       "\t4 & 0 & 2.0 & 1.0 & 1.0 & 23.0 & 5.0 & 53 & 98.5428 & $\\dots$ \\\\\n",
       "\t5 & 0 & 3.0 & 1.0 & 4.0 & 28.0 & 5.0 & 8 & 13.742 & $\\dots$ \\\\\n",
       "\t6 & 0 & 4.0 & 6.0 & 3.0 & 50.0 & 5.0 & 11 & 14.4247 & $\\dots$ \\\\\n",
       "\t7 & 1 & 5.0 & 2.0 & 3.0 & 71.0 & 5.0 & 1 & 1.22073 & $\\dots$ \\\\\n",
       "\t8 & 1 & 2.0 & 1.0 & 2.0 & 36.0 & 5.0 & 28 & 44.5007 & $\\dots$ \\\\\n",
       "\t9 & 1 & 2.0 & 1.0 & 4.0 & 21.0 & 2.0 & 22 & 34.414 & $\\dots$ \\\\\n",
       "\t10 & 1 & 7.0 & 1.0 & 3.0 & 36.0 & 2.0 & 13 & 20.341 & $\\dots$ \\\\\n",
       "\t11 & 1 & 2.0 & 1.0 & 2.0 & 25.0 & 3.0 & 3 & 5.34494 & $\\dots$ \\\\\n",
       "\t12 & 1 & 6.0 & 3.0 & 1.0 & 66.0 & 5.0 & 25 & 31.4908 & $\\dots$ \\\\\n",
       "\t13 & 1 & 2.0 & 1.0 & 7.0 & 25.0 & 5.0 & 27 & 48.4408 & $\\dots$ \\\\\n",
       "\t14 & 1 & 5.0 & 1.0 & 2.0 & 22.0 & 5.0 & 1 & 1.77589 & $\\dots$ \\\\\n",
       "\t15 & 1 & 5.0 & 1.0 & 1.0 & 39.0 & 2.0 & 14 & 20.7298 & $\\dots$ \\\\\n",
       "\t16 & 1 & 5.0 & 1.0 & 2.0 & 35.0 & 5.0 & 26 & 40.145 & $\\dots$ \\\\\n",
       "\t17 & 1 & 2.0 & 1.0 & 5.0 & 38.0 & 5.0 & 40 & 62.3095 & $\\dots$ \\\\\n",
       "\t18 & 0 & 5.0 & 1.0 & 2.0 & 46.0 & 6.0 & 5 & 7.0623 & $\\dots$ \\\\\n",
       "\t19 & 0 & 3.0 & 1.0 & 2.0 & 22.0 & 7.0 & 39 & 72.6686 & $\\dots$ \\\\\n",
       "\t20 & 1 & 3.0 & 1.0 & 3.0 & 19.0 & 2.0 & 4 & 7.4626 & $\\dots$ \\\\\n",
       "\t21 & 0 & 2.0 & 1.0 & 2.0 & 19.0 & 2.0 & 5 & 8.05235 & $\\dots$ \\\\\n",
       "\t22 & 1 & 2.0 & 1.0 & 2.0 & 18.0 & 5.0 & 5 & 9.79575 & $\\dots$ \\\\\n",
       "\t23 & 1 & 5.0 & 4.0 & 7.0 & 62.0 & 5.0 & 0 & 0.0 & $\\dots$ \\\\\n",
       "\t24 & 1 & 7.0 & 5.0 & 5.0 & 58.0 & 5.0 & 2 & 2.64665 & $\\dots$ \\\\\n",
       "\t$\\dots$ & $\\dots$ & $\\dots$ & $\\dots$ & $\\dots$ & $\\dots$ & $\\dots$ & $\\dots$ & $\\dots$ &  \\\\\n",
       "\\end{tabular}\n"
      ],
      "text/plain": [
       "\u001b[1m1113×21 DataFrame\u001b[0m\n",
       "\u001b[1m  Row \u001b[0m│\u001b[1m Gender \u001b[0m\u001b[1m Education \u001b[0m\u001b[1m Income  \u001b[0m\u001b[1m Political_Views \u001b[0m\u001b[1m Age     \u001b[0m\u001b[1m Race    \u001b[0m\u001b[1m Depress\u001b[0m ⋯\n",
       "\u001b[1m      \u001b[0m│\u001b[90m Bool   \u001b[0m\u001b[90m Float64   \u001b[0m\u001b[90m Float64 \u001b[0m\u001b[90m Float64         \u001b[0m\u001b[90m Float64 \u001b[0m\u001b[90m Float64 \u001b[0m\u001b[90m Int64  \u001b[0m ⋯\n",
       "──────┼─────────────────────────────────────────────────────────────────────────\n",
       "    1 │  false        5.0      1.0              1.0     55.0      5.0          ⋯\n",
       "    2 │   true        1.0      1.0              4.0     23.0      7.0\n",
       "    3 │  false        2.0      1.0              6.0     47.0      5.0\n",
       "    4 │  false        2.0      1.0              1.0     23.0      5.0\n",
       "    5 │  false        3.0      1.0              4.0     28.0      5.0          ⋯\n",
       "    6 │  false        4.0      6.0              3.0     50.0      5.0\n",
       "    7 │   true        5.0      2.0              3.0     71.0      5.0\n",
       "    8 │   true        2.0      1.0              2.0     36.0      5.0\n",
       "  ⋮   │   ⋮         ⋮         ⋮            ⋮            ⋮        ⋮         ⋮   ⋱\n",
       " 1107 │  false        4.0      3.0              3.0     40.0      5.0          ⋯\n",
       " 1108 │  false        5.0      3.0              5.0     53.0      5.0\n",
       " 1109 │  false        3.0      1.0              2.0     65.0      5.0\n",
       " 1110 │  false        3.0      1.0              3.0     22.0      1.0\n",
       " 1111 │   true        3.0      3.0              1.0     36.0      5.0          ⋯\n",
       " 1112 │   true        7.0      2.0              2.0     28.0      5.0\n",
       " 1113 │  false        5.0      4.0              2.0     64.0      5.0\n",
       "\u001b[36m                                                15 columns and 1098 rows omitted\u001b[0m"
      ]
     },
     "metadata": {},
     "output_type": "display_data"
    }
   ],
   "source": [
    "test = w6[Not(isnan.(w6[!, :cvd_cases_7d_avg])), variable_of_interest]"
   ]
  },
  {
   "cell_type": "code",
   "execution_count": 40,
   "metadata": {},
   "outputs": [
    {
     "data": {
      "text/html": [
       "<table class=\"data-frame\"><thead><tr><th></th><th>Depression</th><th>Depression_adj</th></tr><tr><th></th><th>Int64</th><th>Float64</th></tr></thead><tbody><p>1,113 rows × 2 columns</p><tr><th>1</th><td>16</td><td>21.4814</td></tr><tr><th>2</th><td>51</td><td>97.0674</td></tr><tr><th>3</th><td>0</td><td>0.0</td></tr><tr><th>4</th><td>53</td><td>98.5428</td></tr><tr><th>5</th><td>8</td><td>13.742</td></tr><tr><th>6</th><td>11</td><td>14.4247</td></tr><tr><th>7</th><td>1</td><td>1.22073</td></tr><tr><th>8</th><td>28</td><td>44.5007</td></tr><tr><th>9</th><td>22</td><td>34.414</td></tr><tr><th>10</th><td>13</td><td>20.341</td></tr><tr><th>11</th><td>3</td><td>5.34494</td></tr><tr><th>12</th><td>25</td><td>31.4908</td></tr><tr><th>13</th><td>27</td><td>48.4408</td></tr><tr><th>14</th><td>1</td><td>1.77589</td></tr><tr><th>15</th><td>14</td><td>20.7298</td></tr><tr><th>16</th><td>26</td><td>40.145</td></tr><tr><th>17</th><td>40</td><td>62.3095</td></tr><tr><th>18</th><td>5</td><td>7.0623</td></tr><tr><th>19</th><td>39</td><td>72.6686</td></tr><tr><th>20</th><td>4</td><td>7.4626</td></tr><tr><th>21</th><td>5</td><td>8.05235</td></tr><tr><th>22</th><td>5</td><td>9.79575</td></tr><tr><th>23</th><td>0</td><td>0.0</td></tr><tr><th>24</th><td>2</td><td>2.64665</td></tr><tr><th>&vellip;</th><td>&vellip;</td><td>&vellip;</td></tr></tbody></table>"
      ],
      "text/latex": [
       "\\begin{tabular}{r|cc}\n",
       "\t& Depression & Depression\\_adj\\\\\n",
       "\t\\hline\n",
       "\t& Int64 & Float64\\\\\n",
       "\t\\hline\n",
       "\t1 & 16 & 21.4814 \\\\\n",
       "\t2 & 51 & 97.0674 \\\\\n",
       "\t3 & 0 & 0.0 \\\\\n",
       "\t4 & 53 & 98.5428 \\\\\n",
       "\t5 & 8 & 13.742 \\\\\n",
       "\t6 & 11 & 14.4247 \\\\\n",
       "\t7 & 1 & 1.22073 \\\\\n",
       "\t8 & 28 & 44.5007 \\\\\n",
       "\t9 & 22 & 34.414 \\\\\n",
       "\t10 & 13 & 20.341 \\\\\n",
       "\t11 & 3 & 5.34494 \\\\\n",
       "\t12 & 25 & 31.4908 \\\\\n",
       "\t13 & 27 & 48.4408 \\\\\n",
       "\t14 & 1 & 1.77589 \\\\\n",
       "\t15 & 14 & 20.7298 \\\\\n",
       "\t16 & 26 & 40.145 \\\\\n",
       "\t17 & 40 & 62.3095 \\\\\n",
       "\t18 & 5 & 7.0623 \\\\\n",
       "\t19 & 39 & 72.6686 \\\\\n",
       "\t20 & 4 & 7.4626 \\\\\n",
       "\t21 & 5 & 8.05235 \\\\\n",
       "\t22 & 5 & 9.79575 \\\\\n",
       "\t23 & 0 & 0.0 \\\\\n",
       "\t24 & 2 & 2.64665 \\\\\n",
       "\t$\\dots$ & $\\dots$ & $\\dots$ \\\\\n",
       "\\end{tabular}\n"
      ],
      "text/plain": [
       "1113×2 DataFrame\n",
       "│ Row  │ Depression │ Depression_adj │\n",
       "│      │ \u001b[90mInt64\u001b[39m      │ \u001b[90mFloat64\u001b[39m        │\n",
       "├──────┼────────────┼────────────────┤\n",
       "│ 1    │ 16         │ 21.4814        │\n",
       "│ 2    │ 51         │ 97.0674        │\n",
       "│ 3    │ 0          │ 0.0            │\n",
       "│ 4    │ 53         │ 98.5428        │\n",
       "│ 5    │ 8          │ 13.742         │\n",
       "│ 6    │ 11         │ 14.4247        │\n",
       "│ 7    │ 1          │ 1.22073        │\n",
       "⋮\n",
       "│ 1106 │ 20         │ 30.3441        │\n",
       "│ 1107 │ 16         │ 24.2986        │\n",
       "│ 1108 │ 5          │ 6.8031         │\n",
       "│ 1109 │ 5          │ 6.27564        │\n",
       "│ 1110 │ 21         │ 36.7818        │\n",
       "│ 1111 │ 21         │ 33.2941        │\n",
       "│ 1112 │ 4          │ 6.99668        │\n",
       "│ 1113 │ 0          │ 0.0            │"
      ]
     },
     "metadata": {},
     "output_type": "display_data"
    }
   ],
   "source": [
    "test = w6[Not(isnan.(w6[!, :cvd_cases_7d_avg])), variable_of_interest]"
   ]
  },
  {
   "cell_type": "code",
   "execution_count": 5,
   "metadata": {},
   "outputs": [
    {
     "name": "stderr",
     "output_type": "stream",
     "text": [
      "┌ Warning: Too few points to create valid contours\n",
      "└ @ PairPlots C:\\Users\\andyl\\.julia\\packages\\PairPlots\\hA6PV\\src\\PairPlots.jl:94\n"
     ]
    },
    {
     "name": "stderr",
     "output_type": "stream",
     "text": [
      "┌ Warning: Too few points to create valid contours\n",
      "└ @ PairPlots C:\\Users\\andyl\\.julia\\packages\\PairPlots\\hA6PV\\src\\PairPlots.jl:94\n",
      "┌ Warning: Too few points to create valid contours\n",
      "└ @ PairPlots C:\\Users\\andyl\\.julia\\packages\\PairPlots\\hA6PV\\src\\PairPlots.jl:94\n",
      "┌ Warning: Too few points to create valid contours\n",
      "└ @ PairPlots C:\\Users\\andyl\\.julia\\packages\\PairPlots\\hA6PV\\src\\PairPlots.jl:94\n",
      "┌ Warning: Too few points to create valid contours\n",
      "└ @ PairPlots C:\\Users\\andyl\\.julia\\packages\\PairPlots\\hA6PV\\src\\PairPlots.jl:94\n"
     ]
    },
    {
     "name": "stderr",
     "output_type": "stream",
     "text": [
      "┌ Warning: Too few points to create valid contours\n",
      "└ @ PairPlots C:\\Users\\andyl\\.julia\\packages\\PairPlots\\hA6PV\\src\\PairPlots.jl:94\n",
      "┌ Warning: Too few points to create valid contours\n",
      "└ @ PairPlots C:\\Users\\andyl\\.julia\\packages\\PairPlots\\hA6PV\\src\\PairPlots.jl:94\n"
     ]
    },
    {
     "name": "stderr",
     "output_type": "stream",
     "text": [
      "┌ Warning: Too few points to create valid contours\n",
      "└ @ PairPlots C:\\Users\\andyl\\.julia\\packages\\PairPlots\\hA6PV\\src\\PairPlots.jl:94\n",
      "┌ Warning: Too few points to create valid contours\n",
      "└ @ PairPlots C:\\Users\\andyl\\.julia\\packages\\PairPlots\\hA6PV\\src\\PairPlots.jl:94\n",
      "┌ Warning: Too few points to create valid contours\n",
      "└ @ PairPlots C:\\Users\\andyl\\.julia\\packages\\PairPlots\\hA6PV\\src\\PairPlots.jl:94\n"
     ]
    },
    {
     "name": "stderr",
     "output_type": "stream",
     "text": [
      "┌ Warning: Too few points to create valid contours\n",
      "└ @ PairPlots C:\\Users\\andyl\\.julia\\packages\\PairPlots\\hA6PV\\src\\PairPlots.jl:94\n",
      "┌ Warning: Too few points to create valid contours\n",
      "└ @ PairPlots C:\\Users\\andyl\\.julia\\packages\\PairPlots\\hA6PV\\src\\PairPlots.jl:94\n",
      "┌ Warning: Too few points to create valid contours\n",
      "└ @ PairPlots C:\\Users\\andyl\\.julia\\packages\\PairPlots\\hA6PV\\src\\PairPlots.jl:94\n",
      "┌ Warning: Too few points to create valid contours\n",
      "└ @ PairPlots C:\\Users\\andyl\\.julia\\packages\\PairPlots\\hA6PV\\src\\PairPlots.jl:94\n"
     ]
    },
    {
     "name": "stderr",
     "output_type": "stream",
     "text": [
      "┌ Warning: Too few points to create valid contours\n",
      "└ @ PairPlots C:\\Users\\andyl\\.julia\\packages\\PairPlots\\hA6PV\\src\\PairPlots.jl:94\n",
      "┌ Warning: Too few points to create valid contours\n",
      "└ @ PairPlots C:\\Users\\andyl\\.julia\\packages\\PairPlots\\hA6PV\\src\\PairPlots.jl:94\n",
      "┌ Warning: Too few points to create valid contours\n",
      "└ @ PairPlots C:\\Users\\andyl\\.julia\\packages\\PairPlots\\hA6PV\\src\\PairPlots.jl:94\n"
     ]
    },
    {
     "name": "stderr",
     "output_type": "stream",
     "text": [
      "┌ Warning: Too few points to create valid contours\n",
      "└ @ PairPlots C:\\Users\\andyl\\.julia\\packages\\PairPlots\\hA6PV\\src\\PairPlots.jl:94\n",
      "┌ Warning: Too few points to create valid contours\n",
      "└ @ PairPlots C:\\Users\\andyl\\.julia\\packages\\PairPlots\\hA6PV\\src\\PairPlots.jl:94\n",
      "┌ Warning: Too few points to create valid contours\n",
      "└ @ PairPlots C:\\Users\\andyl\\.julia\\packages\\PairPlots\\hA6PV\\src\\PairPlots.jl:94\n"
     ]
    },
    {
     "name": "stderr",
     "output_type": "stream",
     "text": [
      "┌ Warning: Too few points to create valid contours\n",
      "└ @ PairPlots C:\\Users\\andyl\\.julia\\packages\\PairPlots\\hA6PV\\src\\PairPlots.jl:94\n",
      "┌ Warning: Too few points to create valid contours\n",
      "└ @ PairPlots C:\\Users\\andyl\\.julia\\packages\\PairPlots\\hA6PV\\src\\PairPlots.jl:94\n"
     ]
    },
    {
     "name": "stderr",
     "output_type": "stream",
     "text": [
      "┌ Warning: Too few points to create valid contours\n",
      "└ @ PairPlots C:\\Users\\andyl\\.julia\\packages\\PairPlots\\hA6PV\\src\\PairPlots.jl:94\n",
      "┌ Warning: Too few points to create valid contours\n",
      "└ @ PairPlots C:\\Users\\andyl\\.julia\\packages\\PairPlots\\hA6PV\\src\\PairPlots.jl:94\n",
      "┌ Warning: Too few points to create valid contours\n",
      "└ @ PairPlots C:\\Users\\andyl\\.julia\\packages\\PairPlots\\hA6PV\\src\\PairPlots.jl:94\n"
     ]
    }
   ],
   "source": [
    "corner(test, plotcontours=false, filterscatter=false)"
   ]
  },
  {
   "cell_type": "code",
   "execution_count": 20,
   "metadata": {},
   "outputs": [
    {
     "ename": "MethodError",
     "evalue": "MethodError: no method matching length(::DataFrame)\nClosest candidates are:\n  length(!Matched::Union{Base.KeySet, Base.ValueIterator}) at abstractdict.jl:58\n  length(!Matched::Union{DataStructures.SortedDict, DataStructures.SortedMultiDict, DataStructures.SortedSet}) at C:\\Users\\andyl\\.julia\\packages\\DataStructures\\DLSxi\\src\\container_loops.jl:331\n  length(!Matched::Union{Tables.AbstractColumns, Tables.AbstractRow}) at C:\\Users\\andyl\\.julia\\packages\\Tables\\PxO1m\\src\\Tables.jl:175\n  ...",
     "output_type": "error",
     "traceback": [
      "MethodError: no method matching length(::DataFrame)\n",
      "Closest candidates are:\n",
      "  length(!Matched::Union{Base.KeySet, Base.ValueIterator}) at abstractdict.jl:58\n",
      "  length(!Matched::Union{DataStructures.SortedDict, DataStructures.SortedMultiDict, DataStructures.SortedSet}) at C:\\Users\\andyl\\.julia\\packages\\DataStructures\\DLSxi\\src\\container_loops.jl:331\n",
      "  length(!Matched::Union{Tables.AbstractColumns, Tables.AbstractRow}) at C:\\Users\\andyl\\.julia\\packages\\Tables\\PxO1m\\src\\Tables.jl:175\n",
      "  ...\n",
      "\n",
      "Stacktrace:\n",
      "  [1] _similar_for(c::UnitRange{Int64}, #unused#::Type{Any}, itr::DataFrame, #unused#::Base.HasLength)\n",
      "    @ Base .\\array.jl:575\n",
      "  [2] _collect(cont::UnitRange{Int64}, itr::DataFrame, #unused#::Base.HasEltype, isz::Base.HasLength)\n",
      "    @ Base .\\array.jl:608\n",
      "  [3] collect(itr::DataFrame)\n",
      "    @ Base .\\array.jl:602\n",
      "  [4] corner(table::DataFrame, labels::Vector{LaTeXStrings.LaTeXString}, units::Vector{String}; title::String, plotcontours::Bool, plotscatter::Bool, plotpercentiles::Vector{Int64}, histfunc::Function, filterscatter::Bool, hist_kwargs::NamedTuple{(), Tuple{}}, hist2d_kwargs::NamedTuple{(), Tuple{}}, contour_kwargs::NamedTuple{(), Tuple{}}, scatter_kwargs::NamedTuple{(), Tuple{}}, percentiles_kwargs::NamedTuple{(), Tuple{}}, appearance::NamedTuple{(), Tuple{}}, lens::Nothing, lens_kwargs::NamedTuple{(), Tuple{}}, bonusplot::Nothing, titlefmt::String, lim_factor::Float64, sf::Int64, pad_top::Int64, pad_left::Nothing, w::Int64, h::Int64, p::Nothing, pad_right::Int64, pad_bottom::Int64, pad_bonus::Nothing, kwargs::Base.Iterators.Pairs{Union{}, Union{}, Tuple{}, NamedTuple{(), Tuple{}}})\n",
      "    @ PairPlots C:\\Users\\andyl\\.julia\\packages\\PairPlots\\hA6PV\\src\\corner.jl:59\n",
      "  [5] top-level scope\n",
      "    @ d:\\julia\\CovidDepressionAnalysis\\test\\freetests.ipynb:1\n",
      "  [6] eval\n",
      "    @ .\\boot.jl:360 [inlined]\n",
      "  [7] include_string(mapexpr::typeof(REPL.softscope), mod::Module, code::String, filename::String)\n",
      "    @ Base .\\loading.jl:1116\n",
      "  [8] #invokelatest#2\n",
      "    @ .\\essentials.jl:708 [inlined]\n",
      "  [9] invokelatest\n",
      "    @ .\\essentials.jl:706 [inlined]\n",
      " [10] (::VSCodeServer.var\"#160#161\"{VSCodeServer.NotebookRunCellArguments, String})()\n",
      "    @ VSCodeServer c:\\Users\\andyl\\.vscode\\extensions\\julialang.language-julia-1.6.17\\scripts\\packages\\VSCodeServer\\src\\serve_notebook.jl:19\n",
      " [11] withpath(f::VSCodeServer.var\"#160#161\"{VSCodeServer.NotebookRunCellArguments, String}, path::String)\n",
      "    @ VSCodeServer c:\\Users\\andyl\\.vscode\\extensions\\julialang.language-julia-1.6.17\\scripts\\packages\\VSCodeServer\\src\\repl.jl:184\n",
      " [12] notebook_runcell_request(conn::VSCodeServer.JSONRPC.JSONRPCEndpoint{Base.PipeEndpoint, Base.PipeEndpoint}, params::VSCodeServer.NotebookRunCellArguments)\n",
      "    @ VSCodeServer c:\\Users\\andyl\\.vscode\\extensions\\julialang.language-julia-1.6.17\\scripts\\packages\\VSCodeServer\\src\\serve_notebook.jl:13\n",
      " [13] dispatch_msg(x::VSCodeServer.JSONRPC.JSONRPCEndpoint{Base.PipeEndpoint, Base.PipeEndpoint}, dispatcher::VSCodeServer.JSONRPC.MsgDispatcher, msg::Dict{String, Any})\n",
      "    @ VSCodeServer.JSONRPC c:\\Users\\andyl\\.vscode\\extensions\\julialang.language-julia-1.6.17\\scripts\\packages\\JSONRPC\\src\\typed.jl:67\n",
      " [14] serve_notebook(pipename::String, outputchannel_logger::Base.CoreLogging.SimpleLogger; crashreporting_pipename::String)\n",
      "    @ VSCodeServer c:\\Users\\andyl\\.vscode\\extensions\\julialang.language-julia-1.6.17\\scripts\\packages\\VSCodeServer\\src\\serve_notebook.jl:136\n",
      " [15] top-level scope\n",
      "    @ c:\\Users\\andyl\\.vscode\\extensions\\julialang.language-julia-1.6.17\\scripts\\notebook\\notebook.jl:32\n",
      " [16] include(mod::Module, _path::String)\n",
      "    @ Base .\\Base.jl:386\n",
      " [17] exec_options(opts::Base.JLOptions)\n",
      "    @ Base .\\client.jl:285\n",
      " [18] _start()\n",
      "    @ Base .\\client.jl:485"
     ]
    }
   ],
   "source": [
    "savefig(corner(w6[Not(isnan.(w6[!, :cvd_cases_7d_avg])), variable_of_interest], plotcontours=false, filterscatter=false), \"../output/figures/w6_corner.svg\")\n"
   ]
  },
  {
   "cell_type": "code",
   "execution_count": 19,
   "metadata": {},
   "outputs": [
    {
     "ename": "MethodError",
     "evalue": "MethodError: no method matching length(::DataFrame)\nClosest candidates are:\n  length(!Matched::Union{Base.KeySet, Base.ValueIterator}) at abstractdict.jl:58\n  length(!Matched::Union{DataStructures.SortedDict, DataStructures.SortedMultiDict, DataStructures.SortedSet}) at C:\\Users\\andyl\\.julia\\packages\\DataStructures\\DLSxi\\src\\container_loops.jl:331\n  length(!Matched::Union{Tables.AbstractColumns, Tables.AbstractRow}) at C:\\Users\\andyl\\.julia\\packages\\Tables\\PxO1m\\src\\Tables.jl:175\n  ...",
     "output_type": "error",
     "traceback": [
      "MethodError: no method matching length(::DataFrame)\n",
      "Closest candidates are:\n",
      "  length(!Matched::Union{Base.KeySet, Base.ValueIterator}) at abstractdict.jl:58\n",
      "  length(!Matched::Union{DataStructures.SortedDict, DataStructures.SortedMultiDict, DataStructures.SortedSet}) at C:\\Users\\andyl\\.julia\\packages\\DataStructures\\DLSxi\\src\\container_loops.jl:331\n",
      "  length(!Matched::Union{Tables.AbstractColumns, Tables.AbstractRow}) at C:\\Users\\andyl\\.julia\\packages\\Tables\\PxO1m\\src\\Tables.jl:175\n",
      "  ...\n",
      "\n",
      "Stacktrace:\n",
      "  [1] _similar_for(c::UnitRange{Int64}, #unused#::Type{Any}, itr::DataFrame, #unused#::Base.HasLength)\n",
      "    @ Base .\\array.jl:575\n",
      "  [2] _collect(cont::UnitRange{Int64}, itr::DataFrame, #unused#::Base.HasEltype, isz::Base.HasLength)\n",
      "    @ Base .\\array.jl:608\n",
      "  [3] collect(itr::DataFrame)\n",
      "    @ Base .\\array.jl:602\n",
      "  [4] corner(table::DataFrame, labels::Vector{LaTeXStrings.LaTeXString}, units::Vector{String}; title::String, plotcontours::Bool, plotscatter::Bool, plotpercentiles::Vector{Int64}, histfunc::Function, filterscatter::Bool, hist_kwargs::NamedTuple{(), Tuple{}}, hist2d_kwargs::NamedTuple{(), Tuple{}}, contour_kwargs::NamedTuple{(), Tuple{}}, scatter_kwargs::NamedTuple{(), Tuple{}}, percentiles_kwargs::NamedTuple{(), Tuple{}}, appearance::NamedTuple{(), Tuple{}}, lens::Nothing, lens_kwargs::NamedTuple{(), Tuple{}}, bonusplot::Nothing, titlefmt::String, lim_factor::Float64, sf::Int64, pad_top::Int64, pad_left::Nothing, w::Int64, h::Int64, p::Nothing, pad_right::Int64, pad_bottom::Int64, pad_bonus::Nothing, kwargs::Base.Iterators.Pairs{Union{}, Union{}, Tuple{}, NamedTuple{(), Tuple{}}})\n",
      "    @ PairPlots C:\\Users\\andyl\\.julia\\packages\\PairPlots\\hA6PV\\src\\corner.jl:59\n",
      "  [5] top-level scope\n",
      "    @ d:\\julia\\CovidDepressionAnalysis\\test\\freetests.ipynb:1\n",
      "  [6] eval\n",
      "    @ .\\boot.jl:360 [inlined]\n",
      "  [7] include_string(mapexpr::typeof(REPL.softscope), mod::Module, code::String, filename::String)\n",
      "    @ Base .\\loading.jl:1116\n",
      "  [8] #invokelatest#2\n",
      "    @ .\\essentials.jl:708 [inlined]\n",
      "  [9] invokelatest\n",
      "    @ .\\essentials.jl:706 [inlined]\n",
      " [10] (::VSCodeServer.var\"#160#161\"{VSCodeServer.NotebookRunCellArguments, String})()\n",
      "    @ VSCodeServer c:\\Users\\andyl\\.vscode\\extensions\\julialang.language-julia-1.6.17\\scripts\\packages\\VSCodeServer\\src\\serve_notebook.jl:19\n",
      " [11] withpath(f::VSCodeServer.var\"#160#161\"{VSCodeServer.NotebookRunCellArguments, String}, path::String)\n",
      "    @ VSCodeServer c:\\Users\\andyl\\.vscode\\extensions\\julialang.language-julia-1.6.17\\scripts\\packages\\VSCodeServer\\src\\repl.jl:184\n",
      " [12] notebook_runcell_request(conn::VSCodeServer.JSONRPC.JSONRPCEndpoint{Base.PipeEndpoint, Base.PipeEndpoint}, params::VSCodeServer.NotebookRunCellArguments)\n",
      "    @ VSCodeServer c:\\Users\\andyl\\.vscode\\extensions\\julialang.language-julia-1.6.17\\scripts\\packages\\VSCodeServer\\src\\serve_notebook.jl:13\n",
      " [13] dispatch_msg(x::VSCodeServer.JSONRPC.JSONRPCEndpoint{Base.PipeEndpoint, Base.PipeEndpoint}, dispatcher::VSCodeServer.JSONRPC.MsgDispatcher, msg::Dict{String, Any})\n",
      "    @ VSCodeServer.JSONRPC c:\\Users\\andyl\\.vscode\\extensions\\julialang.language-julia-1.6.17\\scripts\\packages\\JSONRPC\\src\\typed.jl:67\n",
      " [14] serve_notebook(pipename::String, outputchannel_logger::Base.CoreLogging.SimpleLogger; crashreporting_pipename::String)\n",
      "    @ VSCodeServer c:\\Users\\andyl\\.vscode\\extensions\\julialang.language-julia-1.6.17\\scripts\\packages\\VSCodeServer\\src\\serve_notebook.jl:136\n",
      " [15] top-level scope\n",
      "    @ c:\\Users\\andyl\\.vscode\\extensions\\julialang.language-julia-1.6.17\\scripts\\notebook\\notebook.jl:32\n",
      " [16] include(mod::Module, _path::String)\n",
      "    @ Base .\\Base.jl:386\n",
      " [17] exec_options(opts::Base.JLOptions)\n",
      "    @ Base .\\client.jl:285\n",
      " [18] _start()\n",
      "    @ Base .\\client.jl:485"
     ]
    }
   ],
   "source": [
    "savefig(corner(w6[Not(isnan.(w6[!, :cvd_cases_7d_avg])), variable_of_interest], plotcontours=false, filterscatter=false), \"../output/figures/w6_corner.svg\")\n",
    "savefig(corner(w8[Not(isnan.(w8[!, :cvd_cases_7d_avg])), variable_of_interest], plotcontours=false, filterscatter=false), \"../output/figures/w8_corner.svg\")\n",
    "savefig(corner(w10[Not(isnan.(w10[!, :cvd_cases_7d_avg])), variable_of_interest], plotcontours=false, filterscatter=false), \"../output/figures/w10_corner.svg\")\n",
    "savefig(corner(w12[Not(isnan.(w12[!, :cvd_cases_7d_avg])), variable_of_interest], plotcontours=false, filterscatter=false), \"../output/figures/w12_corner.svg\")\n",
    "savefig(corner(w14[Not(isnan.(w14[!, :cvd_cases_7d_avg])), variable_of_interest], plotcontours=false, filterscatter=false), \"../output/figures/w14_corner.svg\")\n",
    "savefig(corner(w16[Not(isnan.(w16[!, :cvd_cases_7d_avg])), variable_of_interest], plotcontours=false, filterscatter=false), \"../output/figures/w16_corner.svg\")"
   ]
  },
  {
   "cell_type": "code",
   "execution_count": 16,
   "metadata": {},
   "outputs": [
    {
     "data": {
      "text/plain": [
       "870-element BitVector:\n",
       " 1\n",
       " 1\n",
       " 1\n",
       " 1\n",
       " 1\n",
       " 1\n",
       " 1\n",
       " 1\n",
       " 1\n",
       " 1\n",
       " ⋮\n",
       " 0\n",
       " 0\n",
       " 1\n",
       " 1\n",
       " 1\n",
       " 1\n",
       " 0\n",
       " 0\n",
       " 0"
      ]
     },
     "metadata": {},
     "output_type": "display_data"
    }
   ],
   "source": [
    "threshold = 3\n",
    "w6[!, :Gathering_Strictness_bin] = w6[!, :GatheringStrictness] .<= threshold\n",
    "w8[!, :Gathering_Strictness_bin] = w8[!, :GatheringStrictness] .<= threshold\n",
    "w10[!, :Gathering_Strictness_bin] = w10[!, :GatheringStrictness] .<= threshold\n",
    "w12[!, :Gathering_Strictness_bin] = w12[!, :GatheringStrictness] .<= threshold\n",
    "w14[!, :Gathering_Strictness_bin] = w14[!, :GatheringStrictness] .<= threshold\n",
    "w16[!, :Gathering_Strictness_bin] = w16[!, :GatheringStrictness] .<= threshold"
   ]
  },
  {
   "cell_type": "code",
   "execution_count": 17,
   "metadata": {},
   "outputs": [
    {
     "data": {
      "text/plain": [
       "\"Depression_adj\""
      ]
     },
     "metadata": {},
     "output_type": "display_data"
    }
   ],
   "source": [
    "adjustments = [\"cvd_cases_7d_avg\", \"cvd_deaths_7d_avg\"]\n",
    "square_terms = [\"cvd_cases_7d_avg\", \"cvd_deaths_7d_avg\"]\n",
    "treatment = \"Gathering_Strictness_bin\"\n",
    "target = \"Depression_adj\""
   ]
  },
  {
   "cell_type": "code",
   "execution_count": 18,
   "metadata": {},
   "outputs": [
    {
     "data": {
      "text/plain": [
       "StatsModels.TableRegressionModel{GeneralizedLinearModel{GLM.GlmResp{Vector{Float64}, Binomial{Float64}, ProbitLink}, GLM.DensePredChol{Float64, LinearAlgebra.Cholesky{Float64, Matrix{Float64}}}}, Matrix{Float64}}\n",
       "\n",
       "Gathering_Strictness_bin ~ 1 + cvd_cases_7d_avg + cvd_deaths_7d_avg + cvd_cases_7d_avg^2 + cvd_deaths_7d_avg^2\n",
       "\n",
       "Coefficients:\n",
       "────────────────────────────────────────────────────────────────────────────────────────\n",
       "                           Coef.  Std. Error       z  Pr(>|z|)    Lower 95%    Upper 95%\n",
       "────────────────────────────────────────────────────────────────────────────────────────\n",
       "(Intercept)          -0.665035    0.0551599   -12.06    <1e-32  -0.773146    -0.556923\n",
       "cvd_cases_7d_avg     -0.00224556  0.00169038   -1.33    0.1840  -0.00555864   0.00106753\n",
       "cvd_deaths_7d_avg     0.155188    0.0312098     4.97    <1e-06   0.0940181    0.216358\n",
       "cvd_cases_7d_avg^2    1.54977e-5  3.53529e-6    4.38    <1e-04   8.56868e-6   2.24268e-5\n",
       "cvd_deaths_7d_avg^2  -0.00908575  0.00160355   -5.67    <1e-07  -0.0122287   -0.00594285\n",
       "────────────────────────────────────────────────────────────────────────────────────────"
      ]
     },
     "metadata": {},
     "output_type": "display_data"
    }
   ],
   "source": [
    "test = w6[Not(isnan.(w6[!, :cvd_cases_7d_avg])), :]\n",
    "fit = cal_ipw(test, adjustments, square_terms, treatment)"
   ]
  },
  {
   "cell_type": "code",
   "execution_count": 24,
   "metadata": {},
   "outputs": [
    {
     "data": {
      "text/plain": [
       "42-element Vector{String}:\n",
       " \"PROLIFIC_PID\"\n",
       " \"Gender\"\n",
       " \"Education\"\n",
       " \"Income\"\n",
       " \"Political_Views\"\n",
       " \"Age\"\n",
       " \"Race\"\n",
       " \"Depression\"\n",
       " \"Stress\"\n",
       " \"Anxiety\"\n",
       " ⋮\n",
       " \"low_quality_w\"\n",
       " \"dropout\"\n",
       " \"dropout_w\"\n",
       " \"total_w\"\n",
       " \"Depression_adj\"\n",
       " \"Gathering_Strictness_bin\"\n",
       " \"cvd_cases_7d_avg^2\"\n",
       " \"cvd_deaths_7d_avg^2\"\n",
       " \"Gathering_Strictness_bin_w\""
      ]
     },
     "metadata": {},
     "output_type": "display_data"
    }
   ],
   "source": [
    "names(test)"
   ]
  },
  {
   "cell_type": "code",
   "execution_count": 23,
   "metadata": {},
   "outputs": [
    {
     "name": "stdout",
     "output_type": "stream",
     "text": [
      "Estimated Effects:\n",
      "-8031.76746937893\n"
     ]
    },
    {
     "name": "stdout",
     "output_type": "stream",
     "text": [
      "[-30063.507746085765, -23.39230178893719]\n"
     ]
    }
   ],
   "source": [
    "effects, mean, CI = estimate_ipw(test, adjustments, square_terms, treatment, target, 1000)\n",
    "println(\"Estimated Effects:\")\n",
    "println(mean)\n",
    "println(CI)"
   ]
  },
  {
   "cell_type": "code",
   "execution_count": null,
   "metadata": {},
   "outputs": [],
   "source": []
  },
  {
   "cell_type": "code",
   "execution_count": 18,
   "metadata": {},
   "outputs": [
    {
     "data": {
      "text/plain": [
       "StatsModels.TableRegressionModel{GLM.GeneralizedLinearModel{GLM.GlmResp{Vector{Float64}, Distributions.Binomial{Float64}, GLM.ProbitLink}, GLM.DensePredChol{Float64, LinearAlgebra.Cholesky{Float64, Matrix{Float64}}}}, Matrix{Float64}}\n",
       "\n",
       "Gathering_Strictness_bin ~ 1 + cvd_cases_7d_avg + cvd_deaths_7d_avg + cvd_cases_7d_avg^2 + cvd_deaths_7d_avg^2\n",
       "\n",
       "Coefficients:\n",
       "────────────────────────────────────────────────────────────────────────────────────────\n",
       "                           Coef.  Std. Error       z  Pr(>|z|)    Lower 95%    Upper 95%\n",
       "────────────────────────────────────────────────────────────────────────────────────────\n",
       "(Intercept)          -1.21972     0.0665145   -18.34    <1e-74  -1.35009     -1.08936\n",
       "cvd_cases_7d_avg      0.00352959  0.00048385    7.29    <1e-12   0.00258126   0.00447792\n",
       "cvd_deaths_7d_avg    -0.108632    0.0389669    -2.79    0.0053  -0.185006    -0.0322584\n",
       "cvd_cases_7d_avg^2   -1.54646e-6  2.41632e-7   -6.40    <1e-09  -2.02005e-6  -1.07287e-6\n",
       "cvd_deaths_7d_avg^2   0.00624133  0.00163206    3.82    0.0001   0.00304256   0.00944011\n",
       "────────────────────────────────────────────────────────────────────────────────────────"
      ]
     },
     "metadata": {},
     "output_type": "display_data"
    }
   ],
   "source": [
    "fit = cal_ipw(w8[Not(isnan.(w8[!, :cvd_cases_7d_avg])), :], adjustments, square_terms, treatment)"
   ]
  },
  {
   "cell_type": "code",
   "execution_count": 19,
   "metadata": {},
   "outputs": [
    {
     "data": {
      "text/plain": [
       "StatsModels.TableRegressionModel{GLM.GeneralizedLinearModel{GLM.GlmResp{Vector{Float64}, Distributions.Binomial{Float64}, GLM.ProbitLink}, GLM.DensePredChol{Float64, LinearAlgebra.Cholesky{Float64, Matrix{Float64}}}}, Matrix{Float64}}\n",
       "\n",
       "Gathering_Strictness_bin ~ 1 + cvd_cases_7d_avg + cvd_deaths_7d_avg + cvd_cases_7d_avg^2 + cvd_deaths_7d_avg^2\n",
       "\n",
       "Coefficients:\n",
       "──────────────────────────────────────────────────────────────────────────────────────────\n",
       "                           Coef.   Std. Error       z  Pr(>|z|)    Lower 95%     Upper 95%\n",
       "──────────────────────────────────────────────────────────────────────────────────────────\n",
       "(Intercept)          -1.29241     0.0697813    -18.52    <1e-75  -1.42918     -1.15564\n",
       "cvd_cases_7d_avg     -0.00064463  0.000593791   -1.09    0.2776  -0.00180844   0.000519179\n",
       "cvd_deaths_7d_avg     0.172731    0.0319374      5.41    <1e-07   0.110135     0.235327\n",
       "cvd_cases_7d_avg^2    1.4765e-6   3.47901e-7     4.24    <1e-04   7.94625e-7   2.15837e-6\n",
       "cvd_deaths_7d_avg^2  -0.00591174  0.00103242    -5.73    <1e-07  -0.00793523  -0.00388824\n",
       "──────────────────────────────────────────────────────────────────────────────────────────"
      ]
     },
     "metadata": {},
     "output_type": "display_data"
    }
   ],
   "source": [
    "fit = cal_ipw(w10[Not(isnan.(w10[!, :cvd_cases_7d_avg])), :], adjustments, square_terms, treatment)"
   ]
  },
  {
   "cell_type": "code",
   "execution_count": 20,
   "metadata": {},
   "outputs": [
    {
     "data": {
      "text/plain": [
       "StatsModels.TableRegressionModel{GLM.GeneralizedLinearModel{GLM.GlmResp{Vector{Float64}, Distributions.Binomial{Float64}, GLM.ProbitLink}, GLM.DensePredChol{Float64, LinearAlgebra.Cholesky{Float64, Matrix{Float64}}}}, Matrix{Float64}}\n",
       "\n",
       "Gathering_Strictness_bin ~ 1 + cvd_cases_7d_avg + cvd_deaths_7d_avg + cvd_cases_7d_avg^2 + cvd_deaths_7d_avg^2\n",
       "\n",
       "Coefficients:\n",
       "──────────────────────────────────────────────────────────────────────────────────────────\n",
       "                           Coef.   Std. Error       z  Pr(>|z|)    Lower 95%     Upper 95%\n",
       "──────────────────────────────────────────────────────────────────────────────────────────\n",
       "(Intercept)          -1.45803     0.0845182    -17.25    <1e-65  -1.62368     -1.29238\n",
       "cvd_cases_7d_avg     -0.00170424  0.000995976   -1.71    0.0871  -0.00365632   0.000247837\n",
       "cvd_deaths_7d_avg     0.308144    0.0385133      8.00    <1e-14   0.232659     0.383628\n",
       "cvd_cases_7d_avg^2    1.03487e-6  8.19988e-7     1.26    0.2069  -5.72277e-7   2.64202e-6\n",
       "cvd_deaths_7d_avg^2  -0.00868678  0.00132037    -6.58    <1e-10  -0.0112747   -0.00609891\n",
       "──────────────────────────────────────────────────────────────────────────────────────────"
      ]
     },
     "metadata": {},
     "output_type": "display_data"
    }
   ],
   "source": [
    "fit = cal_ipw(w12[Not(isnan.(w12[!, :cvd_cases_7d_avg])), :], adjustments, square_terms, treatment)"
   ]
  },
  {
   "cell_type": "code",
   "execution_count": 21,
   "metadata": {},
   "outputs": [
    {
     "data": {
      "text/plain": [
       "StatsModels.TableRegressionModel{GLM.GeneralizedLinearModel{GLM.GlmResp{Vector{Float64}, Distributions.Binomial{Float64}, GLM.ProbitLink}, GLM.DensePredChol{Float64, LinearAlgebra.Cholesky{Float64, Matrix{Float64}}}}, Matrix{Float64}}\n",
       "\n",
       "Gathering_Strictness_bin ~ 1 + cvd_cases_7d_avg + cvd_deaths_7d_avg + cvd_cases_7d_avg^2 + cvd_deaths_7d_avg^2\n",
       "\n",
       "Coefficients:\n",
       "─────────────────────────────────────────────────────────────────────────────────────────\n",
       "                           Coef.   Std. Error       z  Pr(>|z|)    Lower 95%    Upper 95%\n",
       "─────────────────────────────────────────────────────────────────────────────────────────\n",
       "(Intercept)          -1.16521     0.084855     -13.73    <1e-42  -1.33153     -0.998901\n",
       "cvd_cases_7d_avg     -0.00281065  0.000884366   -3.18    0.0015  -0.00454398  -0.00107733\n",
       "cvd_deaths_7d_avg     0.442068    0.112956       3.91    <1e-04   0.220678     0.663458\n",
       "cvd_cases_7d_avg^2    3.61894e-6  8.94748e-7     4.04    <1e-04   1.86527e-6   5.37261e-6\n",
       "cvd_deaths_7d_avg^2  -0.0496365   0.0140916     -3.52    0.0004  -0.0772556   -0.0220174\n",
       "─────────────────────────────────────────────────────────────────────────────────────────"
      ]
     },
     "metadata": {},
     "output_type": "display_data"
    }
   ],
   "source": [
    "fit = cal_ipw(w14[Not(isnan.(w14[!, :cvd_cases_7d_avg])), :], adjustments, square_terms, treatment)"
   ]
  },
  {
   "cell_type": "code",
   "execution_count": 22,
   "metadata": {},
   "outputs": [
    {
     "data": {
      "text/plain": [
       "StatsModels.TableRegressionModel{GLM.GeneralizedLinearModel{GLM.GlmResp{Vector{Float64}, Distributions.Binomial{Float64}, GLM.ProbitLink}, GLM.DensePredChol{Float64, LinearAlgebra.Cholesky{Float64, Matrix{Float64}}}}, Matrix{Float64}}\n",
       "\n",
       "Gathering_Strictness_bin ~ 1 + cvd_cases_7d_avg + cvd_deaths_7d_avg + cvd_cases_7d_avg^2 + cvd_deaths_7d_avg^2\n",
       "\n",
       "Coefficients:\n",
       "───────────────────────────────────────────────────────────────────────────────────────────\n",
       "                            Coef.   Std. Error       z  Pr(>|z|)     Lower 95%    Upper 95%\n",
       "───────────────────────────────────────────────────────────────────────────────────────────\n",
       "(Intercept)          -1.14121      0.0744782    -15.32    <1e-52  -1.28718      -0.995234\n",
       "cvd_cases_7d_avg      0.00107007   0.000286906    3.73    0.0002   0.000507745   0.0016324\n",
       "cvd_deaths_7d_avg    -0.00133271   0.0120262     -0.11    0.9118  -0.0249036     0.0222382\n",
       "cvd_cases_7d_avg^2   -3.42882e-7   7.75532e-8    -4.42    <1e-05  -4.94884e-7   -1.90881e-7\n",
       "cvd_deaths_7d_avg^2   0.000495691  0.000132068    3.75    0.0002   0.000236842   0.00075454\n",
       "───────────────────────────────────────────────────────────────────────────────────────────"
      ]
     },
     "metadata": {},
     "output_type": "display_data"
    }
   ],
   "source": [
    "fit = cal_ipw(w16[Not(isnan.(w16[!, :cvd_cases_7d_avg])), :], adjustments, square_terms, treatment)"
   ]
  },
  {
   "cell_type": "code",
   "execution_count": 29,
   "metadata": {},
   "outputs": [
    {
     "data": {
      "text/plain": [
       "StatsModels.TableRegressionModel{GLM.GeneralizedLinearModel{GLM.GlmResp{Vector{Float64}, Distributions.Binomial{Float64}, GLM.ProbitLink}, GLM.DensePredChol{Float64, LinearAlgebra.Cholesky{Float64, Matrix{Float64}}}}, Matrix{Float64}}\n",
       "\n",
       "Gathering_Strictness_bin ~ 1 + slope_new_deaths + slope_new_cases + slope_new_deaths^2 + slope_new_cases^2\n",
       "\n",
       "Coefficients:\n",
       "───────────────────────────────────────────────────────────────────────────────────────\n",
       "                           Coef.  Std. Error      z  Pr(>|z|)    Lower 95%    Upper 95%\n",
       "───────────────────────────────────────────────────────────────────────────────────────\n",
       "(Intercept)          0.651497     0.062919    10.35    <1e-24   0.528179     0.774816\n",
       "slope_new_deaths     0.105274     0.0635428    1.66    0.0976  -0.0192678    0.229815\n",
       "slope_new_cases     -0.000396378  0.00195031  -0.20    0.8389  -0.00421891   0.00342616\n",
       "slope_new_deaths^2   0.243087     0.0410024    5.93    <1e-08   0.162724     0.32345\n",
       "slope_new_cases^2   -6.80838e-6   2.95597e-6  -2.30    0.0213  -1.2602e-5   -1.01479e-6\n",
       "───────────────────────────────────────────────────────────────────────────────────────"
      ]
     },
     "metadata": {},
     "output_type": "display_data"
    }
   ],
   "source": [
    "fit = cal_ipw(w8, adjustments, square_terms, treatment)"
   ]
  },
  {
   "cell_type": "code",
   "execution_count": 30,
   "metadata": {},
   "outputs": [
    {
     "data": {
      "text/plain": [
       "StatsModels.TableRegressionModel{GLM.GeneralizedLinearModel{GLM.GlmResp{Vector{Float64}, Distributions.Binomial{Float64}, GLM.ProbitLink}, GLM.DensePredChol{Float64, LinearAlgebra.Cholesky{Float64, Matrix{Float64}}}}, Matrix{Float64}}\n",
       "\n",
       "Gathering_Strictness_bin ~ 1 + slope_new_deaths + slope_new_cases + slope_new_deaths^2 + slope_new_cases^2\n",
       "\n",
       "Coefficients:\n",
       "────────────────────────────────────────────────────────────────────────────────────\n",
       "                         Coef.  Std. Error     z  Pr(>|z|)    Lower 95%    Upper 95%\n",
       "────────────────────────────────────────────────────────────────────────────────────\n",
       "(Intercept)         0.412692    0.0844765   4.89    <1e-05   0.247122    0.578263\n",
       "slope_new_deaths    0.0142018   0.11278     0.13    0.8998  -0.206842    0.235246\n",
       "slope_new_cases     0.0245197   0.00249128  9.84    <1e-22   0.0196369   0.0294025\n",
       "slope_new_deaths^2  0.685795    0.10134     6.77    <1e-10   0.487172    0.884419\n",
       "slope_new_cases^2   9.98277e-5  1.19079e-5  8.38    <1e-16   7.64887e-5  0.000123167\n",
       "────────────────────────────────────────────────────────────────────────────────────"
      ]
     },
     "metadata": {},
     "output_type": "display_data"
    }
   ],
   "source": [
    "fit = cal_ipw(w10, adjustments, square_terms, treatment)"
   ]
  },
  {
   "cell_type": "code",
   "execution_count": 31,
   "metadata": {},
   "outputs": [
    {
     "data": {
      "text/plain": [
       "StatsModels.TableRegressionModel{GLM.GeneralizedLinearModel{GLM.GlmResp{Vector{Float64}, Distributions.Binomial{Float64}, GLM.ProbitLink}, GLM.DensePredChol{Float64, LinearAlgebra.Cholesky{Float64, Matrix{Float64}}}}, Matrix{Float64}}\n",
       "\n",
       "Gathering_Strictness_bin ~ 1 + slope_new_deaths + slope_new_cases + slope_new_deaths^2 + slope_new_cases^2\n",
       "\n",
       "Coefficients:\n",
       "──────────────────────────────────────────────────────────────────────────────────────\n",
       "                          Coef.  Std. Error      z  Pr(>|z|)    Lower 95%    Upper 95%\n",
       "──────────────────────────────────────────────────────────────────────────────────────\n",
       "(Intercept)          1.35172     0.0817373   16.54    <1e-60   1.19152      1.51192\n",
       "slope_new_deaths     0.327452    0.0309129   10.59    <1e-25   0.266864     0.388041\n",
       "slope_new_cases     -0.00592889  0.00182522  -3.25    0.0012  -0.00950625  -0.00235153\n",
       "slope_new_deaths^2  -0.0189077   0.00664004  -2.85    0.0044  -0.031922    -0.00589351\n",
       "slope_new_cases^2    2.85138e-5  1.89018e-5   1.51    0.1314  -8.5331e-6    6.55608e-5\n",
       "──────────────────────────────────────────────────────────────────────────────────────"
      ]
     },
     "metadata": {},
     "output_type": "display_data"
    }
   ],
   "source": [
    "fit = cal_ipw(w12, adjustments, square_terms, treatment)"
   ]
  },
  {
   "cell_type": "code",
   "execution_count": 32,
   "metadata": {},
   "outputs": [
    {
     "data": {
      "text/plain": [
       "StatsModels.TableRegressionModel{GLM.GeneralizedLinearModel{GLM.GlmResp{Vector{Float64}, Distributions.Binomial{Float64}, GLM.ProbitLink}, GLM.DensePredChol{Float64, LinearAlgebra.Cholesky{Float64, Matrix{Float64}}}}, Matrix{Float64}}\n",
       "\n",
       "Gathering_Strictness_bin ~ 1 + slope_new_deaths + slope_new_cases + slope_new_deaths^2 + slope_new_cases^2\n",
       "\n",
       "Coefficients:\n",
       "────────────────────────────────────────────────────────────────────────────────────────\n",
       "                          Coef.   Std. Error       z  Pr(>|z|)    Lower 95%    Upper 95%\n",
       "────────────────────────────────────────────────────────────────────────────────────────\n",
       "(Intercept)          1.42343     0.0949851     14.99    <1e-50   1.23726      1.6096\n",
       "slope_new_deaths    -0.0738278   0.022409      -3.29    0.0010  -0.117749    -0.0299069\n",
       "slope_new_cases     -0.00400304  0.000605115   -6.62    <1e-10  -0.00518904  -0.00281704\n",
       "slope_new_deaths^2  -0.0434034   0.00429837   -10.10    <1e-23  -0.0518281   -0.0349788\n",
       "slope_new_cases^2    1.16675e-5  1.04245e-6    11.19    <1e-28   9.62434e-6   1.37107e-5\n",
       "────────────────────────────────────────────────────────────────────────────────────────"
      ]
     },
     "metadata": {},
     "output_type": "display_data"
    }
   ],
   "source": [
    "fit = cal_ipw(w14, adjustments, square_terms, treatment)"
   ]
  },
  {
   "cell_type": "code",
   "execution_count": 33,
   "metadata": {},
   "outputs": [
    {
     "data": {
      "text/plain": [
       "StatsModels.TableRegressionModel{GLM.GeneralizedLinearModel{GLM.GlmResp{Vector{Float64}, Distributions.Binomial{Float64}, GLM.ProbitLink}, GLM.DensePredChol{Float64, LinearAlgebra.Cholesky{Float64, Matrix{Float64}}}}, Matrix{Float64}}\n",
       "\n",
       "Gathering_Strictness_bin ~ 1 + slope_new_deaths + slope_new_cases + slope_new_deaths^2 + slope_new_cases^2\n",
       "\n",
       "Coefficients:\n",
       "───────────────────────────────────────────────────────────────────────────────────────\n",
       "                          Coef.   Std. Error      z  Pr(>|z|)    Lower 95%    Upper 95%\n",
       "───────────────────────────────────────────────────────────────────────────────────────\n",
       "(Intercept)          0.657503    0.0889204     7.39    <1e-12   0.483222     0.831783\n",
       "slope_new_deaths     0.0764283   0.0115238     6.63    <1e-10   0.053842     0.0990146\n",
       "slope_new_cases      0.00035463  0.000744049   0.48    0.6336  -0.00110368   0.00181294\n",
       "slope_new_deaths^2  -0.00500629  0.00113329   -4.42    <1e-05  -0.00722751  -0.00278508\n",
       "slope_new_cases^2    1.86468e-5  4.55747e-6    4.09    <1e-04   9.71428e-6   2.75793e-5\n",
       "───────────────────────────────────────────────────────────────────────────────────────"
      ]
     },
     "metadata": {},
     "output_type": "display_data"
    }
   ],
   "source": [
    "fit = cal_ipw(w16, adjustments, square_terms, treatment)"
   ]
  },
  {
   "cell_type": "code",
   "execution_count": 16,
   "metadata": {},
   "outputs": [
    {
     "data": {
      "text/plain": [
       "19-element Vector{String}:\n",
       " \"Gender\"\n",
       " \"Education\"\n",
       " \"Income\"\n",
       " \"Political_Views\"\n",
       " \"Age\"\n",
       " \"Race\"\n",
       " \"Depression\"\n",
       " \"Depression_adj\"\n",
       " \"Stress\"\n",
       " \"Anxiety\"\n",
       " \"Loneliness\"\n",
       " \"Emotional_Support\"\n",
       " \"GatheringStrictness\"\n",
       " \"stayHome_order_code\"\n",
       " \"Mandatory_business_closure\"\n",
       " \"Mandatory_PPE_masks\"\n",
       " \"gatherBan_order_code\"\n",
       " \"slope_new_cases\"\n",
       " \"slope_new_deaths\""
      ]
     },
     "metadata": {},
     "output_type": "display_data"
    }
   ],
   "source": []
  },
  {
   "cell_type": "code",
   "execution_count": 17,
   "metadata": {},
   "outputs": [
    {
     "ename": "ArgumentError",
     "evalue": "ArgumentError: column name :stayHome_order_code not found in the data frame",
     "output_type": "error",
     "traceback": [
      "ArgumentError: column name :stayHome_order_code not found in the data frame\n",
      "\n",
      "Stacktrace:\n",
      "  [1] lookupname\n",
      "    @ C:\\Users\\andyl\\.julia\\packages\\DataFrames\\GtZ1l\\src\\other\\index.jl:286 [inlined]\n",
      "  [2] getindex\n",
      "    @ C:\\Users\\andyl\\.julia\\packages\\DataFrames\\GtZ1l\\src\\other\\index.jl:295 [inlined]\n",
      "  [3] getindex\n",
      "    @ C:\\Users\\andyl\\.julia\\packages\\DataFrames\\GtZ1l\\src\\other\\index.jl:296 [inlined]\n",
      "  [4] (::DataFrames.var\"#29#30\"{DataFrames.Index})(i::String)\n",
      "    @ DataFrames .\\none:0\n",
      "  [5] iterate\n",
      "    @ .\\generator.jl:47 [inlined]\n",
      "  [6] collect_to!\n",
      "    @ .\\array.jl:728 [inlined]\n",
      "  [7] collect_to_with_first!(dest::Vector{Int64}, v1::Int64, itr::Base.Generator{Vector{String}, DataFrames.var\"#29#30\"{DataFrames.Index}}, st::Int64)\n",
      "    @ Base .\\array.jl:706\n",
      "  [8] collect(itr::Base.Generator{Vector{String}, DataFrames.var\"#29#30\"{DataFrames.Index}})\n",
      "    @ Base .\\array.jl:687\n",
      "  [9] getindex\n",
      "    @ C:\\Users\\andyl\\.julia\\packages\\DataFrames\\GtZ1l\\src\\other\\index.jl:301 [inlined]\n",
      " [10] manipulate(df::DataFrame, c::Vector{String}; copycols::Bool, keeprows::Bool)\n",
      "    @ DataFrames C:\\Users\\andyl\\.julia\\packages\\DataFrames\\GtZ1l\\src\\abstractdataframe\\selection.jl:550\n",
      " [11] #select#296\n",
      "    @ C:\\Users\\andyl\\.julia\\packages\\DataFrames\\GtZ1l\\src\\abstractdataframe\\selection.jl:493 [inlined]\n",
      " [12] getindex(df::DataFrame, row_ind::typeof(!), col_inds::Vector{String})\n",
      "    @ DataFrames C:\\Users\\andyl\\.julia\\packages\\DataFrames\\GtZ1l\\src\\dataframe\\dataframe.jl:473\n",
      " [13] top-level scope\n",
      "    @ d:\\julia\\CovidDepressionAnalysis\\test\\freetests.ipynb:1\n",
      " [14] eval\n",
      "    @ .\\boot.jl:360 [inlined]\n",
      " [15] include_string(mapexpr::typeof(REPL.softscope), mod::Module, code::String, filename::String)\n",
      "    @ Base .\\loading.jl:1116\n",
      " [16] #invokelatest#2\n",
      "    @ .\\essentials.jl:708 [inlined]\n",
      " [17] invokelatest\n",
      "    @ .\\essentials.jl:706 [inlined]\n",
      " [18] (::VSCodeServer.var\"#160#161\"{VSCodeServer.NotebookRunCellArguments, String})()\n",
      "    @ VSCodeServer c:\\Users\\andyl\\.vscode\\extensions\\julialang.language-julia-1.6.17\\scripts\\packages\\VSCodeServer\\src\\serve_notebook.jl:19\n",
      " [19] withpath(f::VSCodeServer.var\"#160#161\"{VSCodeServer.NotebookRunCellArguments, String}, path::String)\n",
      "    @ VSCodeServer c:\\Users\\andyl\\.vscode\\extensions\\julialang.language-julia-1.6.17\\scripts\\packages\\VSCodeServer\\src\\repl.jl:184\n",
      " [20] notebook_runcell_request(conn::VSCodeServer.JSONRPC.JSONRPCEndpoint{Base.PipeEndpoint, Base.PipeEndpoint}, params::VSCodeServer.NotebookRunCellArguments)\n",
      "    @ VSCodeServer c:\\Users\\andyl\\.vscode\\extensions\\julialang.language-julia-1.6.17\\scripts\\packages\\VSCodeServer\\src\\serve_notebook.jl:13\n",
      " [21] dispatch_msg(x::VSCodeServer.JSONRPC.JSONRPCEndpoint{Base.PipeEndpoint, Base.PipeEndpoint}, dispatcher::VSCodeServer.JSONRPC.MsgDispatcher, msg::Dict{String, Any})\n",
      "    @ VSCodeServer.JSONRPC c:\\Users\\andyl\\.vscode\\extensions\\julialang.language-julia-1.6.17\\scripts\\packages\\JSONRPC\\src\\typed.jl:67\n",
      " [22] serve_notebook(pipename::String, outputchannel_logger::Base.CoreLogging.SimpleLogger; crashreporting_pipename::String)\n",
      "    @ VSCodeServer c:\\Users\\andyl\\.vscode\\extensions\\julialang.language-julia-1.6.17\\scripts\\packages\\VSCodeServer\\src\\serve_notebook.jl:136\n",
      " [23] top-level scope\n",
      "    @ c:\\Users\\andyl\\.vscode\\extensions\\julialang.language-julia-1.6.17\\scripts\\notebook\\notebook.jl:32\n",
      " [24] include(mod::Module, _path::String)\n",
      "    @ Base .\\Base.jl:386\n",
      " [25] exec_options(opts::Base.JLOptions)\n",
      "    @ Base .\\client.jl:285\n",
      " [26] _start()\n",
      "    @ Base .\\client.jl:485"
     ]
    }
   ],
   "source": [
    "savefig(corner(w6[!, variable_of_interest], plotcontours=false, filterscatter=false), \"../output/figures/w6_corner.svg\")"
   ]
  },
  {
   "cell_type": "code",
   "execution_count": 15,
   "metadata": {},
   "outputs": [
    {
     "name": "stderr",
     "output_type": "stream",
     "text": [
      "┌ Warning: Too few points to create valid contours\n",
      "└ @ PairPlots C:\\Users\\andyl\\.julia\\packages\\PairPlots\\hA6PV\\src\\PairPlots.jl:94\n"
     ]
    },
    {
     "name": "stderr",
     "output_type": "stream",
     "text": [
      "┌ Warning: Too few points to create valid contours\n",
      "└ @ PairPlots C:\\Users\\andyl\\.julia\\packages\\PairPlots\\hA6PV\\src\\PairPlots.jl:94\n",
      "┌ Warning: Too few points to create valid contours\n",
      "└ @ PairPlots C:\\Users\\andyl\\.julia\\packages\\PairPlots\\hA6PV\\src\\PairPlots.jl:94\n"
     ]
    },
    {
     "name": "stderr",
     "output_type": "stream",
     "text": [
      "┌ Warning: Too few points to create valid contours\n",
      "└ @ PairPlots C:\\Users\\andyl\\.julia\\packages\\PairPlots\\hA6PV\\src\\PairPlots.jl:94\n",
      "┌ Warning: Too few points to create valid contours\n",
      "└ @ PairPlots C:\\Users\\andyl\\.julia\\packages\\PairPlots\\hA6PV\\src\\PairPlots.jl:94\n"
     ]
    },
    {
     "name": "stderr",
     "output_type": "stream",
     "text": [
      "┌ Warning: Too few points to create valid contours\n",
      "└ @ PairPlots C:\\Users\\andyl\\.julia\\packages\\PairPlots\\hA6PV\\src\\PairPlots.jl:94\n"
     ]
    }
   ],
   "source": [
    "savefig(corner(w8[!, variable_of_interest], plotcontours=false, filterscatter=false), \"../output/figures/w8_corner.svg\")\n",
    "savefig(corner(w10[!, variable_of_interest], plotcontours=false, filterscatter=false), \"../output/figures/w10_corner.svg\")\n",
    "savefig(corner(w12[!, variable_of_interest], plotcontours=false, filterscatter=false), \"../output/figures/w12_corner.svg\")\n",
    "savefig(corner(w14[!, variable_of_interest], plotcontours=false, filterscatter=false), \"../output/figures/w14_corner.svg\")\n",
    "savefig(corner(w16[!, variable_of_interest], plotcontours=false, filterscatter=false), \"../output/figures/w16_corner.svg\")"
   ]
  },
  {
   "cell_type": "code",
   "execution_count": 217,
   "metadata": {},
   "outputs": [
    {
     "data": {
      "image/png": "[encoded data removed]",
      "image/svg+xml": "<?xml version=\"1.0\" encoding=\"utf-8\"?>\n<svg xmlns=\"http://www.w3.org/2000/svg\" xmlns:xlink=\"http://www.w3.org/1999/xlink\" width=\"600\" height=\"400\" viewBox=\"0 0 2400 1600\">\n<defs>\n  <clipPath id=\"clip540\">\n    <rect x=\"0\" y=\"0\" width=\"2400\" height=\"1600\"/>\n  </clipPath>\n</defs>\n<path clip-path=\"url(#clip540)\" d=\"\nM0 1600 L2400 1600 L2400 0 L0 0  Z\n  \" fill=\"#ffffff\" fill-rule=\"evenodd\" fill-opacity=\"1\"/>\n<defs>\n  <clipPath id=\"clip541\">\n    <rect x=\"480\" y=\"0\" width=\"1681\" height=\"1600\"/>\n  </clipPath>\n</defs>\n<path clip-path=\"url(#clip540)\" d=\"\nM170.857 1486.45 L2352.76 1486.45 L2352.76 47.2441 L170.857 47.2441  Z\n  \" fill=\"#ffffff\" fill-rule=\"evenodd\" fill-opacity=\"1\"/>\n<defs>\n  <clipPath id=\"clip542\">\n    <rect x=\"170\" y=\"47\" width=\"2183\" height=\"1440\"/>\n  </clipPath>\n</defs>\n<polyline clip-path=\"url(#clip542)\" style=\"stroke:#000000; stroke-linecap:butt; stroke-linejoin:round; stroke-width:2; stroke-opacity:0.1; fill:none\" points=\"\n  290.866,1486.45 290.866,47.2441 \n  \"/>\n<polyline clip-path=\"url(#clip542)\" style=\"stroke:#000000; stroke-linecap:butt; stroke-linejoin:round; stroke-width:2; stroke-opacity:0.1; fill:none\" points=\"\n  713.014,1486.45 713.014,47.2441 \n  \"/>\n<polyline clip-path=\"url(#clip542)\" style=\"stroke:#000000; stroke-linecap:butt; stroke-linejoin:round; stroke-width:2; stroke-opacity:0.1; fill:none\" points=\"\n  1135.16,1486.45 1135.16,47.2441 \n  \"/>\n<polyline clip-path=\"url(#clip542)\" style=\"stroke:#000000; stroke-linecap:butt; stroke-linejoin:round; stroke-width:2; stroke-opacity:0.1; fill:none\" points=\"\n  1557.31,1486.45 1557.31,47.2441 \n  \"/>\n<polyline clip-path=\"url(#clip542)\" style=\"stroke:#000000; stroke-linecap:butt; stroke-linejoin:round; stroke-width:2; stroke-opacity:0.1; fill:none\" points=\"\n  1979.46,1486.45 1979.46,47.2441 \n  \"/>\n<polyline clip-path=\"url(#clip540)\" style=\"stroke:#000000; stroke-linecap:butt; stroke-linejoin:round; stroke-width:4; stroke-opacity:1; fill:none\" points=\"\n  170.857,1486.45 2352.76,1486.45 \n  \"/>\n<polyline clip-path=\"url(#clip540)\" style=\"stroke:#000000; stroke-linecap:butt; stroke-linejoin:round; stroke-width:4; stroke-opacity:1; fill:none\" points=\"\n  290.866,1486.45 290.866,1467.55 \n  \"/>\n<polyline clip-path=\"url(#clip540)\" style=\"stroke:#000000; stroke-linecap:butt; stroke-linejoin:round; stroke-width:4; stroke-opacity:1; fill:none\" points=\"\n  713.014,1486.45 713.014,1467.55 \n  \"/>\n<polyline clip-path=\"url(#clip540)\" style=\"stroke:#000000; stroke-linecap:butt; stroke-linejoin:round; stroke-width:4; stroke-opacity:1; fill:none\" points=\"\n  1135.16,1486.45 1135.16,1467.55 \n  \"/>\n<polyline clip-path=\"url(#clip540)\" style=\"stroke:#000000; stroke-linecap:butt; stroke-linejoin:round; stroke-width:4; stroke-opacity:1; fill:none\" points=\"\n  1557.31,1486.45 1557.31,1467.55 \n  \"/>\n<polyline clip-path=\"url(#clip540)\" style=\"stroke:#000000; stroke-linecap:butt; stroke-linejoin:round; stroke-width:4; stroke-opacity:1; fill:none\" points=\"\n  1979.46,1486.45 1979.46,1467.55 \n  \"/>\n<path clip-path=\"url(#clip540)\" d=\"M290.866 1517.37 Q287.255 1517.37 285.426 1520.93 Q283.62 1524.47 283.62 1531.6 Q283.62 1538.71 285.426 1542.27 Q287.255 1545.82 290.866 1545.82 Q294.5 1545.82 296.306 1542.27 Q298.134 1538.71 298.134 1531.6 Q298.134 1524.47 296.306 1520.93 Q294.5 1517.37 290.866 1517.37 M290.866 1513.66 Q296.676 1513.66 299.731 1518.27 Q302.81 1522.85 302.81 1531.6 Q302.81 1540.33 299.731 1544.94 Q296.676 1549.52 290.866 1549.52 Q285.056 1549.52 281.977 1544.94 Q278.921 1540.33 278.921 1531.6 Q278.921 1522.85 281.977 1518.27 Q285.056 1513.66 290.866 1513.66 Z\" fill=\"#000000\" fill-rule=\"evenodd\" fill-opacity=\"1\" /><path clip-path=\"url(#clip540)\" d=\"M687.713 1514.29 L706.07 1514.29 L706.07 1518.22 L691.996 1518.22 L691.996 1526.7 Q693.014 1526.35 694.033 1526.19 Q695.051 1526 696.07 1526 Q701.857 1526 705.236 1529.17 Q708.616 1532.34 708.616 1537.76 Q708.616 1543.34 705.144 1546.44 Q701.671 1549.52 695.352 1549.52 Q693.176 1549.52 690.908 1549.15 Q688.662 1548.78 686.255 1548.04 L686.255 1543.34 Q688.338 1544.47 690.56 1545.03 Q692.783 1545.58 695.259 1545.58 Q699.264 1545.58 701.602 1543.48 Q703.94 1541.37 703.94 1537.76 Q703.94 1534.15 701.602 1532.04 Q699.264 1529.94 695.259 1529.94 Q693.384 1529.94 691.509 1530.35 Q689.658 1530.77 687.713 1531.65 L687.713 1514.29 Z\" fill=\"#000000\" fill-rule=\"evenodd\" fill-opacity=\"1\" /><path clip-path=\"url(#clip540)\" d=\"M727.829 1517.37 Q724.218 1517.37 722.389 1520.93 Q720.583 1524.47 720.583 1531.6 Q720.583 1538.71 722.389 1542.27 Q724.218 1545.82 727.829 1545.82 Q731.463 1545.82 733.268 1542.27 Q735.097 1538.71 735.097 1531.6 Q735.097 1524.47 733.268 1520.93 Q731.463 1517.37 727.829 1517.37 M727.829 1513.66 Q733.639 1513.66 736.694 1518.27 Q739.773 1522.85 739.773 1531.6 Q739.773 1540.33 736.694 1544.94 Q733.639 1549.52 727.829 1549.52 Q722.019 1549.52 718.94 1544.94 Q715.884 1540.33 715.884 1531.6 Q715.884 1522.85 718.94 1518.27 Q722.019 1513.66 727.829 1513.66 Z\" fill=\"#000000\" fill-rule=\"evenodd\" fill-opacity=\"1\" /><path clip-path=\"url(#clip540)\" d=\"M1094.77 1544.91 L1102.41 1544.91 L1102.41 1518.55 L1094.1 1520.21 L1094.1 1515.95 L1102.36 1514.29 L1107.04 1514.29 L1107.04 1544.91 L1114.68 1544.91 L1114.68 1548.85 L1094.77 1548.85 L1094.77 1544.91 Z\" fill=\"#000000\" fill-rule=\"evenodd\" fill-opacity=\"1\" /><path clip-path=\"url(#clip540)\" d=\"M1134.12 1517.37 Q1130.51 1517.37 1128.68 1520.93 Q1126.88 1524.47 1126.88 1531.6 Q1126.88 1538.71 1128.68 1542.27 Q1130.51 1545.82 1134.12 1545.82 Q1137.75 1545.82 1139.56 1542.27 Q1141.39 1538.71 1141.39 1531.6 Q1141.39 1524.47 1139.56 1520.93 Q1137.75 1517.37 1134.12 1517.37 M1134.12 1513.66 Q1139.93 1513.66 1142.99 1518.27 Q1146.06 1522.85 1146.06 1531.6 Q1146.06 1540.33 1142.99 1544.94 Q1139.93 1549.52 1134.12 1549.52 Q1128.31 1549.52 1125.23 1544.94 Q1122.18 1540.33 1122.18 1531.6 Q1122.18 1522.85 1125.23 1518.27 Q1128.31 1513.66 1134.12 1513.66 Z\" fill=\"#000000\" fill-rule=\"evenodd\" fill-opacity=\"1\" /><path clip-path=\"url(#clip540)\" d=\"M1164.28 1517.37 Q1160.67 1517.37 1158.84 1520.93 Q1157.04 1524.47 1157.04 1531.6 Q1157.04 1538.71 1158.84 1542.27 Q1160.67 1545.82 1164.28 1545.82 Q1167.92 1545.82 1169.72 1542.27 Q1171.55 1538.71 1171.55 1531.6 Q1171.55 1524.47 1169.72 1520.93 Q1167.92 1517.37 1164.28 1517.37 M1164.28 1513.66 Q1170.09 1513.66 1173.15 1518.27 Q1176.23 1522.85 1176.23 1531.6 Q1176.23 1540.33 1173.15 1544.94 Q1170.09 1549.52 1164.28 1549.52 Q1158.47 1549.52 1155.39 1544.94 Q1152.34 1540.33 1152.34 1531.6 Q1152.34 1522.85 1155.39 1518.27 Q1158.47 1513.66 1164.28 1513.66 Z\" fill=\"#000000\" fill-rule=\"evenodd\" fill-opacity=\"1\" /><path clip-path=\"url(#clip540)\" d=\"M1516.92 1544.91 L1524.56 1544.91 L1524.56 1518.55 L1516.25 1520.21 L1516.25 1515.95 L1524.51 1514.29 L1529.19 1514.29 L1529.19 1544.91 L1536.82 1544.91 L1536.82 1548.85 L1516.92 1548.85 L1516.92 1544.91 Z\" fill=\"#000000\" fill-rule=\"evenodd\" fill-opacity=\"1\" /><path clip-path=\"url(#clip540)\" d=\"M1546.32 1514.29 L1564.67 1514.29 L1564.67 1518.22 L1550.6 1518.22 L1550.6 1526.7 Q1551.62 1526.35 1552.63 1526.19 Q1553.65 1526 1554.67 1526 Q1560.46 1526 1563.84 1529.17 Q1567.22 1532.34 1567.22 1537.76 Q1567.22 1543.34 1563.75 1546.44 Q1560.27 1549.52 1553.95 1549.52 Q1551.78 1549.52 1549.51 1549.15 Q1547.26 1548.78 1544.86 1548.04 L1544.86 1543.34 Q1546.94 1544.47 1549.16 1545.03 Q1551.38 1545.58 1553.86 1545.58 Q1557.87 1545.58 1560.2 1543.48 Q1562.54 1541.37 1562.54 1537.76 Q1562.54 1534.15 1560.2 1532.04 Q1557.87 1529.94 1553.86 1529.94 Q1551.99 1529.94 1550.11 1530.35 Q1548.26 1530.77 1546.32 1531.65 L1546.32 1514.29 Z\" fill=\"#000000\" fill-rule=\"evenodd\" fill-opacity=\"1\" /><path clip-path=\"url(#clip540)\" d=\"M1586.43 1517.37 Q1582.82 1517.37 1580.99 1520.93 Q1579.19 1524.47 1579.19 1531.6 Q1579.19 1538.71 1580.99 1542.27 Q1582.82 1545.82 1586.43 1545.82 Q1590.06 1545.82 1591.87 1542.27 Q1593.7 1538.71 1593.7 1531.6 Q1593.7 1524.47 1591.87 1520.93 Q1590.06 1517.37 1586.43 1517.37 M1586.43 1513.66 Q1592.24 1513.66 1595.3 1518.27 Q1598.38 1522.85 1598.38 1531.6 Q1598.38 1540.33 1595.3 1544.94 Q1592.24 1549.52 1586.43 1549.52 Q1580.62 1549.52 1577.54 1544.94 Q1574.49 1540.33 1574.49 1531.6 Q1574.49 1522.85 1577.54 1518.27 Q1580.62 1513.66 1586.43 1513.66 Z\" fill=\"#000000\" fill-rule=\"evenodd\" fill-opacity=\"1\" /><path clip-path=\"url(#clip540)\" d=\"M1943.15 1544.91 L1959.47 1544.91 L1959.47 1548.85 L1937.53 1548.85 L1937.53 1544.91 Q1940.19 1542.16 1944.77 1537.53 Q1949.38 1532.88 1950.56 1531.53 Q1952.8 1529.01 1953.68 1527.27 Q1954.59 1525.51 1954.59 1523.82 Q1954.59 1521.07 1952.64 1519.33 Q1950.72 1517.6 1947.62 1517.6 Q1945.42 1517.6 1942.97 1518.36 Q1940.54 1519.13 1937.76 1520.68 L1937.76 1515.95 Q1940.58 1514.82 1943.04 1514.24 Q1945.49 1513.66 1947.53 1513.66 Q1952.9 1513.66 1956.09 1516.35 Q1959.29 1519.03 1959.29 1523.52 Q1959.29 1525.65 1958.47 1527.57 Q1957.69 1529.47 1955.58 1532.07 Q1955 1532.74 1951.9 1535.95 Q1948.8 1539.15 1943.15 1544.91 Z\" fill=\"#000000\" fill-rule=\"evenodd\" fill-opacity=\"1\" /><path clip-path=\"url(#clip540)\" d=\"M1979.29 1517.37 Q1975.67 1517.37 1973.85 1520.93 Q1972.04 1524.47 1972.04 1531.6 Q1972.04 1538.71 1973.85 1542.27 Q1975.67 1545.82 1979.29 1545.82 Q1982.92 1545.82 1984.72 1542.27 Q1986.55 1538.71 1986.55 1531.6 Q1986.55 1524.47 1984.72 1520.93 Q1982.92 1517.37 1979.29 1517.37 M1979.29 1513.66 Q1985.1 1513.66 1988.15 1518.27 Q1991.23 1522.85 1991.23 1531.6 Q1991.23 1540.33 1988.15 1544.94 Q1985.1 1549.52 1979.29 1549.52 Q1973.47 1549.52 1970.4 1544.94 Q1967.34 1540.33 1967.34 1531.6 Q1967.34 1522.85 1970.4 1518.27 Q1973.47 1513.66 1979.29 1513.66 Z\" fill=\"#000000\" fill-rule=\"evenodd\" fill-opacity=\"1\" /><path clip-path=\"url(#clip540)\" d=\"M2009.45 1517.37 Q2005.84 1517.37 2004.01 1520.93 Q2002.2 1524.47 2002.2 1531.6 Q2002.2 1538.71 2004.01 1542.27 Q2005.84 1545.82 2009.45 1545.82 Q2013.08 1545.82 2014.89 1542.27 Q2016.72 1538.71 2016.72 1531.6 Q2016.72 1524.47 2014.89 1520.93 Q2013.08 1517.37 2009.45 1517.37 M2009.45 1513.66 Q2015.26 1513.66 2018.31 1518.27 Q2021.39 1522.85 2021.39 1531.6 Q2021.39 1540.33 2018.31 1544.94 Q2015.26 1549.52 2009.45 1549.52 Q2003.64 1549.52 2000.56 1544.94 Q1997.5 1540.33 1997.5 1531.6 Q1997.5 1522.85 2000.56 1518.27 Q2003.64 1513.66 2009.45 1513.66 Z\" fill=\"#000000\" fill-rule=\"evenodd\" fill-opacity=\"1\" /><polyline clip-path=\"url(#clip542)\" style=\"stroke:#000000; stroke-linecap:butt; stroke-linejoin:round; stroke-width:2; stroke-opacity:0.1; fill:none\" points=\"\n  170.857,1445.72 2352.76,1445.72 \n  \"/>\n<polyline clip-path=\"url(#clip542)\" style=\"stroke:#000000; stroke-linecap:butt; stroke-linejoin:round; stroke-width:2; stroke-opacity:0.1; fill:none\" points=\"\n  170.857,1062.17 2352.76,1062.17 \n  \"/>\n<polyline clip-path=\"url(#clip542)\" style=\"stroke:#000000; stroke-linecap:butt; stroke-linejoin:round; stroke-width:2; stroke-opacity:0.1; fill:none\" points=\"\n  170.857,678.631 2352.76,678.631 \n  \"/>\n<polyline clip-path=\"url(#clip542)\" style=\"stroke:#000000; stroke-linecap:butt; stroke-linejoin:round; stroke-width:2; stroke-opacity:0.1; fill:none\" points=\"\n  170.857,295.089 2352.76,295.089 \n  \"/>\n<polyline clip-path=\"url(#clip540)\" style=\"stroke:#000000; stroke-linecap:butt; stroke-linejoin:round; stroke-width:4; stroke-opacity:1; fill:none\" points=\"\n  170.857,1486.45 170.857,47.2441 \n  \"/>\n<polyline clip-path=\"url(#clip540)\" style=\"stroke:#000000; stroke-linecap:butt; stroke-linejoin:round; stroke-width:4; stroke-opacity:1; fill:none\" points=\"\n  170.857,1445.72 189.755,1445.72 \n  \"/>\n<polyline clip-path=\"url(#clip540)\" style=\"stroke:#000000; stroke-linecap:butt; stroke-linejoin:round; stroke-width:4; stroke-opacity:1; fill:none\" points=\"\n  170.857,1062.17 189.755,1062.17 \n  \"/>\n<polyline clip-path=\"url(#clip540)\" style=\"stroke:#000000; stroke-linecap:butt; stroke-linejoin:round; stroke-width:4; stroke-opacity:1; fill:none\" points=\"\n  170.857,678.631 189.755,678.631 \n  \"/>\n<polyline clip-path=\"url(#clip540)\" style=\"stroke:#000000; stroke-linecap:butt; stroke-linejoin:round; stroke-width:4; stroke-opacity:1; fill:none\" points=\"\n  170.857,295.089 189.755,295.089 \n  \"/>\n<path clip-path=\"url(#clip540)\" d=\"M122.913 1431.51 Q119.302 1431.51 117.473 1435.08 Q115.668 1438.62 115.668 1445.75 Q115.668 1452.86 117.473 1456.42 Q119.302 1459.96 122.913 1459.96 Q126.547 1459.96 128.353 1456.42 Q130.182 1452.86 130.182 1445.75 Q130.182 1438.62 128.353 1435.08 Q126.547 1431.51 122.913 1431.51 M122.913 1427.81 Q128.723 1427.81 131.779 1432.42 Q134.857 1437 134.857 1445.75 Q134.857 1454.48 131.779 1459.08 Q128.723 1463.67 122.913 1463.67 Q117.103 1463.67 114.024 1459.08 Q110.969 1454.48 110.969 1445.75 Q110.969 1437 114.024 1432.42 Q117.103 1427.81 122.913 1427.81 Z\" fill=\"#000000\" fill-rule=\"evenodd\" fill-opacity=\"1\" /><path clip-path=\"url(#clip540)\" d=\"M53.3995 1075.52 L61.0384 1075.52 L61.0384 1049.15 L52.7282 1050.82 L52.7282 1046.56 L60.9921 1044.89 L65.668 1044.89 L65.668 1075.52 L73.3068 1075.52 L73.3068 1079.45 L53.3995 1079.45 L53.3995 1075.52 Z\" fill=\"#000000\" fill-rule=\"evenodd\" fill-opacity=\"1\" /><path clip-path=\"url(#clip540)\" d=\"M92.7512 1047.97 Q89.1401 1047.97 87.3114 1051.54 Q85.5058 1055.08 85.5058 1062.21 Q85.5058 1069.31 87.3114 1072.88 Q89.1401 1076.42 92.7512 1076.42 Q96.3854 1076.42 98.1909 1072.88 Q100.02 1069.31 100.02 1062.21 Q100.02 1055.08 98.1909 1051.54 Q96.3854 1047.97 92.7512 1047.97 M92.7512 1044.27 Q98.5613 1044.27 101.617 1048.87 Q104.696 1053.46 104.696 1062.21 Q104.696 1070.94 101.617 1075.54 Q98.5613 1080.12 92.7512 1080.12 Q86.941 1080.12 83.8623 1075.54 Q80.8068 1070.94 80.8068 1062.21 Q80.8068 1053.46 83.8623 1048.87 Q86.941 1044.27 92.7512 1044.27 Z\" fill=\"#000000\" fill-rule=\"evenodd\" fill-opacity=\"1\" /><path clip-path=\"url(#clip540)\" d=\"M122.913 1047.97 Q119.302 1047.97 117.473 1051.54 Q115.668 1055.08 115.668 1062.21 Q115.668 1069.31 117.473 1072.88 Q119.302 1076.42 122.913 1076.42 Q126.547 1076.42 128.353 1072.88 Q130.182 1069.31 130.182 1062.21 Q130.182 1055.08 128.353 1051.54 Q126.547 1047.97 122.913 1047.97 M122.913 1044.27 Q128.723 1044.27 131.779 1048.87 Q134.857 1053.46 134.857 1062.21 Q134.857 1070.94 131.779 1075.54 Q128.723 1080.12 122.913 1080.12 Q117.103 1080.12 114.024 1075.54 Q110.969 1070.94 110.969 1062.21 Q110.969 1053.46 114.024 1048.87 Q117.103 1044.27 122.913 1044.27 Z\" fill=\"#000000\" fill-rule=\"evenodd\" fill-opacity=\"1\" /><path clip-path=\"url(#clip540)\" d=\"M56.6171 691.976 L72.9365 691.976 L72.9365 695.911 L50.9921 695.911 L50.9921 691.976 Q53.6541 689.221 58.2375 684.592 Q62.8439 679.939 64.0245 678.597 Q66.2698 676.073 67.1494 674.337 Q68.0522 672.578 68.0522 670.888 Q68.0522 668.134 66.1078 666.398 Q64.1865 664.661 61.0847 664.661 Q58.8856 664.661 56.4319 665.425 Q54.0014 666.189 51.2236 667.74 L51.2236 663.018 Q54.0477 661.884 56.5014 661.305 Q58.955 660.726 60.9921 660.726 Q66.3624 660.726 69.5568 663.411 Q72.7513 666.097 72.7513 670.587 Q72.7513 672.717 71.9411 674.638 Q71.1541 676.536 69.0476 679.129 Q68.4689 679.8 65.367 683.018 Q62.2652 686.212 56.6171 691.976 Z\" fill=\"#000000\" fill-rule=\"evenodd\" fill-opacity=\"1\" /><path clip-path=\"url(#clip540)\" d=\"M92.7512 664.43 Q89.1401 664.43 87.3114 667.995 Q85.5058 671.536 85.5058 678.666 Q85.5058 685.772 87.3114 689.337 Q89.1401 692.879 92.7512 692.879 Q96.3854 692.879 98.1909 689.337 Q100.02 685.772 100.02 678.666 Q100.02 671.536 98.1909 667.995 Q96.3854 664.43 92.7512 664.43 M92.7512 660.726 Q98.5613 660.726 101.617 665.333 Q104.696 669.916 104.696 678.666 Q104.696 687.393 101.617 691.999 Q98.5613 696.583 92.7512 696.583 Q86.941 696.583 83.8623 691.999 Q80.8068 687.393 80.8068 678.666 Q80.8068 669.916 83.8623 665.333 Q86.941 660.726 92.7512 660.726 Z\" fill=\"#000000\" fill-rule=\"evenodd\" fill-opacity=\"1\" /><path clip-path=\"url(#clip540)\" d=\"M122.913 664.43 Q119.302 664.43 117.473 667.995 Q115.668 671.536 115.668 678.666 Q115.668 685.772 117.473 689.337 Q119.302 692.879 122.913 692.879 Q126.547 692.879 128.353 689.337 Q130.182 685.772 130.182 678.666 Q130.182 671.536 128.353 667.995 Q126.547 664.43 122.913 664.43 M122.913 660.726 Q128.723 660.726 131.779 665.333 Q134.857 669.916 134.857 678.666 Q134.857 687.393 131.779 691.999 Q128.723 696.583 122.913 696.583 Q117.103 696.583 114.024 691.999 Q110.969 687.393 110.969 678.666 Q110.969 669.916 114.024 665.333 Q117.103 660.726 122.913 660.726 Z\" fill=\"#000000\" fill-rule=\"evenodd\" fill-opacity=\"1\" /><path clip-path=\"url(#clip540)\" d=\"M66.7559 293.735 Q70.1124 294.452 71.9874 296.721 Q73.8855 298.99 73.8855 302.323 Q73.8855 307.439 70.367 310.239 Q66.8485 313.04 60.3671 313.04 Q58.1912 313.04 55.8764 312.601 Q53.5847 312.184 51.131 311.327 L51.131 306.814 Q53.0754 307.948 55.3903 308.526 Q57.7051 309.105 60.2282 309.105 Q64.6263 309.105 66.918 307.369 Q69.2328 305.633 69.2328 302.323 Q69.2328 299.267 67.08 297.554 Q64.9504 295.818 61.131 295.818 L57.1032 295.818 L57.1032 291.976 L61.3161 291.976 Q64.7652 291.976 66.5939 290.61 Q68.4226 289.221 68.4226 286.628 Q68.4226 283.966 66.5245 282.554 Q64.6495 281.119 61.131 281.119 Q59.2097 281.119 57.0106 281.536 Q54.8115 281.953 52.1727 282.832 L52.1727 278.666 Q54.8347 277.925 57.1495 277.554 Q59.4875 277.184 61.5476 277.184 Q66.8717 277.184 69.9735 279.615 Q73.0753 282.022 73.0753 286.142 Q73.0753 289.013 71.4318 291.003 Q69.7883 292.971 66.7559 293.735 Z\" fill=\"#000000\" fill-rule=\"evenodd\" fill-opacity=\"1\" /><path clip-path=\"url(#clip540)\" d=\"M92.7512 280.888 Q89.1401 280.888 87.3114 284.453 Q85.5058 287.994 85.5058 295.124 Q85.5058 302.23 87.3114 305.795 Q89.1401 309.337 92.7512 309.337 Q96.3854 309.337 98.1909 305.795 Q100.02 302.23 100.02 295.124 Q100.02 287.994 98.1909 284.453 Q96.3854 280.888 92.7512 280.888 M92.7512 277.184 Q98.5613 277.184 101.617 281.791 Q104.696 286.374 104.696 295.124 Q104.696 303.851 101.617 308.457 Q98.5613 313.04 92.7512 313.04 Q86.941 313.04 83.8623 308.457 Q80.8068 303.851 80.8068 295.124 Q80.8068 286.374 83.8623 281.791 Q86.941 277.184 92.7512 277.184 Z\" fill=\"#000000\" fill-rule=\"evenodd\" fill-opacity=\"1\" /><path clip-path=\"url(#clip540)\" d=\"M122.913 280.888 Q119.302 280.888 117.473 284.453 Q115.668 287.994 115.668 295.124 Q115.668 302.23 117.473 305.795 Q119.302 309.337 122.913 309.337 Q126.547 309.337 128.353 305.795 Q130.182 302.23 130.182 295.124 Q130.182 287.994 128.353 284.453 Q126.547 280.888 122.913 280.888 M122.913 277.184 Q128.723 277.184 131.779 281.791 Q134.857 286.374 134.857 295.124 Q134.857 303.851 131.779 308.457 Q128.723 313.04 122.913 313.04 Q117.103 313.04 114.024 308.457 Q110.969 303.851 110.969 295.124 Q110.969 286.374 114.024 281.791 Q117.103 277.184 122.913 277.184 Z\" fill=\"#000000\" fill-rule=\"evenodd\" fill-opacity=\"1\" /><path clip-path=\"url(#clip542)\" d=\"\nM290.866 87.9763 L290.866 1445.72 L375.295 1445.72 L375.295 87.9763 L290.866 87.9763 L290.866 87.9763  Z\n  \" fill=\"#009af9\" fill-rule=\"evenodd\" fill-opacity=\"1\"/>\n<polyline clip-path=\"url(#clip542)\" style=\"stroke:#000000; stroke-linecap:butt; stroke-linejoin:round; stroke-width:4; stroke-opacity:1; fill:none\" points=\"\n  290.866,87.9763 290.866,1445.72 375.295,1445.72 375.295,87.9763 290.866,87.9763 \n  \"/>\n<path clip-path=\"url(#clip542)\" d=\"\nM375.295 828.213 L375.295 1445.72 L459.725 1445.72 L459.725 828.213 L375.295 828.213 L375.295 828.213  Z\n  \" fill=\"#009af9\" fill-rule=\"evenodd\" fill-opacity=\"1\"/>\n<polyline clip-path=\"url(#clip542)\" style=\"stroke:#000000; stroke-linecap:butt; stroke-linejoin:round; stroke-width:4; stroke-opacity:1; fill:none\" points=\"\n  375.295,828.213 375.295,1445.72 459.725,1445.72 459.725,828.213 375.295,828.213 \n  \"/>\n<path clip-path=\"url(#clip542)\" d=\"\nM459.725 1077.52 L459.725 1445.72 L544.155 1445.72 L544.155 1077.52 L459.725 1077.52 L459.725 1077.52  Z\n  \" fill=\"#009af9\" fill-rule=\"evenodd\" fill-opacity=\"1\"/>\n<polyline clip-path=\"url(#clip542)\" style=\"stroke:#000000; stroke-linecap:butt; stroke-linejoin:round; stroke-width:4; stroke-opacity:1; fill:none\" points=\"\n  459.725,1077.52 459.725,1445.72 544.155,1445.72 544.155,1077.52 459.725,1077.52 \n  \"/>\n<path clip-path=\"url(#clip542)\" d=\"\nM544.155 1135.05 L544.155 1445.72 L628.584 1445.72 L628.584 1135.05 L544.155 1135.05 L544.155 1135.05  Z\n  \" fill=\"#009af9\" fill-rule=\"evenodd\" fill-opacity=\"1\"/>\n<polyline clip-path=\"url(#clip542)\" style=\"stroke:#000000; stroke-linecap:butt; stroke-linejoin:round; stroke-width:4; stroke-opacity:1; fill:none\" points=\"\n  544.155,1135.05 544.155,1445.72 628.584,1445.72 628.584,1135.05 544.155,1135.05 \n  \"/>\n<path clip-path=\"url(#clip542)\" d=\"\nM628.584 1261.62 L628.584 1445.72 L713.014 1445.72 L713.014 1261.62 L628.584 1261.62 L628.584 1261.62  Z\n  \" fill=\"#009af9\" fill-rule=\"evenodd\" fill-opacity=\"1\"/>\n<polyline clip-path=\"url(#clip542)\" style=\"stroke:#000000; stroke-linecap:butt; stroke-linejoin:round; stroke-width:4; stroke-opacity:1; fill:none\" points=\"\n  628.584,1261.62 628.584,1445.72 713.014,1445.72 713.014,1261.62 628.584,1261.62 \n  \"/>\n<path clip-path=\"url(#clip542)\" d=\"\nM713.014 1246.27 L713.014 1445.72 L797.444 1445.72 L797.444 1246.27 L713.014 1246.27 L713.014 1246.27  Z\n  \" fill=\"#009af9\" fill-rule=\"evenodd\" fill-opacity=\"1\"/>\n<polyline clip-path=\"url(#clip542)\" style=\"stroke:#000000; stroke-linecap:butt; stroke-linejoin:round; stroke-width:4; stroke-opacity:1; fill:none\" points=\"\n  713.014,1246.27 713.014,1445.72 797.444,1445.72 797.444,1246.27 713.014,1246.27 \n  \"/>\n<path clip-path=\"url(#clip542)\" d=\"\nM797.444 1369.01 L797.444 1445.72 L881.873 1445.72 L881.873 1369.01 L797.444 1369.01 L797.444 1369.01  Z\n  \" fill=\"#009af9\" fill-rule=\"evenodd\" fill-opacity=\"1\"/>\n<polyline clip-path=\"url(#clip542)\" style=\"stroke:#000000; stroke-linecap:butt; stroke-linejoin:round; stroke-width:4; stroke-opacity:1; fill:none\" points=\"\n  797.444,1369.01 797.444,1445.72 881.873,1445.72 881.873,1369.01 797.444,1369.01 \n  \"/>\n<path clip-path=\"url(#clip542)\" d=\"\nM881.873 1411.2 L881.873 1445.72 L966.303 1445.72 L966.303 1411.2 L881.873 1411.2 L881.873 1411.2  Z\n  \" fill=\"#009af9\" fill-rule=\"evenodd\" fill-opacity=\"1\"/>\n<polyline clip-path=\"url(#clip542)\" style=\"stroke:#000000; stroke-linecap:butt; stroke-linejoin:round; stroke-width:4; stroke-opacity:1; fill:none\" points=\"\n  881.873,1411.2 881.873,1445.72 966.303,1445.72 966.303,1411.2 881.873,1411.2 \n  \"/>\n<path clip-path=\"url(#clip542)\" d=\"\nM966.303 1399.69 L966.303 1445.72 L1050.73 1445.72 L1050.73 1399.69 L966.303 1399.69 L966.303 1399.69  Z\n  \" fill=\"#009af9\" fill-rule=\"evenodd\" fill-opacity=\"1\"/>\n<polyline clip-path=\"url(#clip542)\" style=\"stroke:#000000; stroke-linecap:butt; stroke-linejoin:round; stroke-width:4; stroke-opacity:1; fill:none\" points=\"\n  966.303,1399.69 966.303,1445.72 1050.73,1445.72 1050.73,1399.69 966.303,1399.69 \n  \"/>\n<path clip-path=\"url(#clip542)\" d=\"\nM1050.73 1422.7 L1050.73 1445.72 L1135.16 1445.72 L1135.16 1422.7 L1050.73 1422.7 L1050.73 1422.7  Z\n  \" fill=\"#009af9\" fill-rule=\"evenodd\" fill-opacity=\"1\"/>\n<polyline clip-path=\"url(#clip542)\" style=\"stroke:#000000; stroke-linecap:butt; stroke-linejoin:round; stroke-width:4; stroke-opacity:1; fill:none\" points=\"\n  1050.73,1422.7 1050.73,1445.72 1135.16,1445.72 1135.16,1422.7 1050.73,1422.7 \n  \"/>\n<path clip-path=\"url(#clip542)\" d=\"\nM1135.16 1418.87 L1135.16 1445.72 L1219.59 1445.72 L1219.59 1418.87 L1135.16 1418.87 L1135.16 1418.87  Z\n  \" fill=\"#009af9\" fill-rule=\"evenodd\" fill-opacity=\"1\"/>\n<polyline clip-path=\"url(#clip542)\" style=\"stroke:#000000; stroke-linecap:butt; stroke-linejoin:round; stroke-width:4; stroke-opacity:1; fill:none\" points=\"\n  1135.16,1418.87 1135.16,1445.72 1219.59,1445.72 1219.59,1418.87 1135.16,1418.87 \n  \"/>\n<path clip-path=\"url(#clip542)\" d=\"\nM1219.59 1426.54 L1219.59 1445.72 L1304.02 1445.72 L1304.02 1426.54 L1219.59 1426.54 L1219.59 1426.54  Z\n  \" fill=\"#009af9\" fill-rule=\"evenodd\" fill-opacity=\"1\"/>\n<polyline clip-path=\"url(#clip542)\" style=\"stroke:#000000; stroke-linecap:butt; stroke-linejoin:round; stroke-width:4; stroke-opacity:1; fill:none\" points=\"\n  1219.59,1426.54 1219.59,1445.72 1304.02,1445.72 1304.02,1426.54 1219.59,1426.54 \n  \"/>\n<path clip-path=\"url(#clip542)\" d=\"\nM1304.02 1426.54 L1304.02 1445.72 L1388.45 1445.72 L1388.45 1426.54 L1304.02 1426.54 L1304.02 1426.54  Z\n  \" fill=\"#009af9\" fill-rule=\"evenodd\" fill-opacity=\"1\"/>\n<polyline clip-path=\"url(#clip542)\" style=\"stroke:#000000; stroke-linecap:butt; stroke-linejoin:round; stroke-width:4; stroke-opacity:1; fill:none\" points=\"\n  1304.02,1426.54 1304.02,1445.72 1388.45,1445.72 1388.45,1426.54 1304.02,1426.54 \n  \"/>\n<path clip-path=\"url(#clip542)\" d=\"\nM1388.45 1415.03 L1388.45 1445.72 L1472.88 1445.72 L1472.88 1415.03 L1388.45 1415.03 L1388.45 1415.03  Z\n  \" fill=\"#009af9\" fill-rule=\"evenodd\" fill-opacity=\"1\"/>\n<polyline clip-path=\"url(#clip542)\" style=\"stroke:#000000; stroke-linecap:butt; stroke-linejoin:round; stroke-width:4; stroke-opacity:1; fill:none\" points=\"\n  1388.45,1415.03 1388.45,1445.72 1472.88,1445.72 1472.88,1415.03 1388.45,1415.03 \n  \"/>\n<path clip-path=\"url(#clip542)\" d=\"\nM1472.88 1438.04 L1472.88 1445.72 L1557.31 1445.72 L1557.31 1438.04 L1472.88 1438.04 L1472.88 1438.04  Z\n  \" fill=\"#009af9\" fill-rule=\"evenodd\" fill-opacity=\"1\"/>\n<polyline clip-path=\"url(#clip542)\" style=\"stroke:#000000; stroke-linecap:butt; stroke-linejoin:round; stroke-width:4; stroke-opacity:1; fill:none\" points=\"\n  1472.88,1438.04 1472.88,1445.72 1557.31,1445.72 1557.31,1438.04 1472.88,1438.04 \n  \"/>\n<path clip-path=\"url(#clip542)\" d=\"\nM1557.31 1434.21 L1557.31 1445.72 L1641.74 1445.72 L1641.74 1434.21 L1557.31 1434.21 L1557.31 1434.21  Z\n  \" fill=\"#009af9\" fill-rule=\"evenodd\" fill-opacity=\"1\"/>\n<polyline clip-path=\"url(#clip542)\" style=\"stroke:#000000; stroke-linecap:butt; stroke-linejoin:round; stroke-width:4; stroke-opacity:1; fill:none\" points=\"\n  1557.31,1434.21 1557.31,1445.72 1641.74,1445.72 1641.74,1434.21 1557.31,1434.21 \n  \"/>\n<path clip-path=\"url(#clip542)\" d=\"\nM1641.74 1445.72 L1641.74 1445.72 L1726.17 1445.72 L1726.17 1445.72 L1641.74 1445.72 L1641.74 1445.72  Z\n  \" fill=\"#009af9\" fill-rule=\"evenodd\" fill-opacity=\"1\"/>\n<polyline clip-path=\"url(#clip542)\" style=\"stroke:#000000; stroke-linecap:butt; stroke-linejoin:round; stroke-width:4; stroke-opacity:1; fill:none\" points=\"\n  1641.74,1445.72 1641.74,1445.72 1726.17,1445.72 1641.74,1445.72 \n  \"/>\n<path clip-path=\"url(#clip542)\" d=\"\nM1726.17 1445.72 L1726.17 1445.72 L1810.6 1445.72 L1810.6 1445.72 L1726.17 1445.72 L1726.17 1445.72  Z\n  \" fill=\"#009af9\" fill-rule=\"evenodd\" fill-opacity=\"1\"/>\n<polyline clip-path=\"url(#clip542)\" style=\"stroke:#000000; stroke-linecap:butt; stroke-linejoin:round; stroke-width:4; stroke-opacity:1; fill:none\" points=\"\n  1726.17,1445.72 1726.17,1445.72 1810.6,1445.72 1726.17,1445.72 \n  \"/>\n<path clip-path=\"url(#clip542)\" d=\"\nM1810.6 1445.72 L1810.6 1445.72 L1895.03 1445.72 L1895.03 1445.72 L1810.6 1445.72 L1810.6 1445.72  Z\n  \" fill=\"#009af9\" fill-rule=\"evenodd\" fill-opacity=\"1\"/>\n<polyline clip-path=\"url(#clip542)\" style=\"stroke:#000000; stroke-linecap:butt; stroke-linejoin:round; stroke-width:4; stroke-opacity:1; fill:none\" points=\"\n  1810.6,1445.72 1810.6,1445.72 1895.03,1445.72 1810.6,1445.72 \n  \"/>\n<path clip-path=\"url(#clip542)\" d=\"\nM1895.03 1445.72 L1895.03 1445.72 L1979.46 1445.72 L1979.46 1445.72 L1895.03 1445.72 L1895.03 1445.72  Z\n  \" fill=\"#009af9\" fill-rule=\"evenodd\" fill-opacity=\"1\"/>\n<polyline clip-path=\"url(#clip542)\" style=\"stroke:#000000; stroke-linecap:butt; stroke-linejoin:round; stroke-width:4; stroke-opacity:1; fill:none\" points=\"\n  1895.03,1445.72 1895.03,1445.72 1979.46,1445.72 1895.03,1445.72 \n  \"/>\n<path clip-path=\"url(#clip542)\" d=\"\nM1979.46 1445.72 L1979.46 1445.72 L2063.89 1445.72 L2063.89 1445.72 L1979.46 1445.72 L1979.46 1445.72  Z\n  \" fill=\"#009af9\" fill-rule=\"evenodd\" fill-opacity=\"1\"/>\n<polyline clip-path=\"url(#clip542)\" style=\"stroke:#000000; stroke-linecap:butt; stroke-linejoin:round; stroke-width:4; stroke-opacity:1; fill:none\" points=\"\n  1979.46,1445.72 1979.46,1445.72 2063.89,1445.72 1979.46,1445.72 \n  \"/>\n<path clip-path=\"url(#clip542)\" d=\"\nM2063.89 1445.72 L2063.89 1445.72 L2148.32 1445.72 L2148.32 1445.72 L2063.89 1445.72 L2063.89 1445.72  Z\n  \" fill=\"#009af9\" fill-rule=\"evenodd\" fill-opacity=\"1\"/>\n<polyline clip-path=\"url(#clip542)\" style=\"stroke:#000000; stroke-linecap:butt; stroke-linejoin:round; stroke-width:4; stroke-opacity:1; fill:none\" points=\"\n  2063.89,1445.72 2063.89,1445.72 2148.32,1445.72 2063.89,1445.72 \n  \"/>\n<path clip-path=\"url(#clip542)\" d=\"\nM2148.32 1441.88 L2148.32 1445.72 L2232.75 1445.72 L2232.75 1441.88 L2148.32 1441.88 L2148.32 1441.88  Z\n  \" fill=\"#009af9\" fill-rule=\"evenodd\" fill-opacity=\"1\"/>\n<polyline clip-path=\"url(#clip542)\" style=\"stroke:#000000; stroke-linecap:butt; stroke-linejoin:round; stroke-width:4; stroke-opacity:1; fill:none\" points=\"\n  2148.32,1441.88 2148.32,1445.72 2232.75,1445.72 2232.75,1441.88 2148.32,1441.88 \n  \"/>\n<circle clip-path=\"url(#clip542)\" style=\"fill:#009af9; stroke:none; fill-opacity:0\" cx=\"333.081\" cy=\"87.9763\" r=\"2\"/>\n<circle clip-path=\"url(#clip542)\" style=\"fill:#009af9; stroke:none; fill-opacity:0\" cx=\"417.51\" cy=\"828.213\" r=\"2\"/>\n<circle clip-path=\"url(#clip542)\" style=\"fill:#009af9; stroke:none; fill-opacity:0\" cx=\"501.94\" cy=\"1077.52\" r=\"2\"/>\n<circle clip-path=\"url(#clip542)\" style=\"fill:#009af9; stroke:none; fill-opacity:0\" cx=\"586.369\" cy=\"1135.05\" r=\"2\"/>\n<circle clip-path=\"url(#clip542)\" style=\"fill:#009af9; stroke:none; fill-opacity:0\" cx=\"670.799\" cy=\"1261.62\" r=\"2\"/>\n<circle clip-path=\"url(#clip542)\" style=\"fill:#009af9; stroke:none; fill-opacity:0\" cx=\"755.229\" cy=\"1246.27\" r=\"2\"/>\n<circle clip-path=\"url(#clip542)\" style=\"fill:#009af9; stroke:none; fill-opacity:0\" cx=\"839.658\" cy=\"1369.01\" r=\"2\"/>\n<circle clip-path=\"url(#clip542)\" style=\"fill:#009af9; stroke:none; fill-opacity:0\" cx=\"924.088\" cy=\"1411.2\" r=\"2\"/>\n<circle clip-path=\"url(#clip542)\" style=\"fill:#009af9; stroke:none; fill-opacity:0\" cx=\"1008.52\" cy=\"1399.69\" r=\"2\"/>\n<circle clip-path=\"url(#clip542)\" style=\"fill:#009af9; stroke:none; fill-opacity:0\" cx=\"1092.95\" cy=\"1422.7\" r=\"2\"/>\n<circle clip-path=\"url(#clip542)\" style=\"fill:#009af9; stroke:none; fill-opacity:0\" cx=\"1177.38\" cy=\"1418.87\" r=\"2\"/>\n<circle clip-path=\"url(#clip542)\" style=\"fill:#009af9; stroke:none; fill-opacity:0\" cx=\"1261.81\" cy=\"1426.54\" r=\"2\"/>\n<circle clip-path=\"url(#clip542)\" style=\"fill:#009af9; stroke:none; fill-opacity:0\" cx=\"1346.24\" cy=\"1426.54\" r=\"2\"/>\n<circle clip-path=\"url(#clip542)\" style=\"fill:#009af9; stroke:none; fill-opacity:0\" cx=\"1430.67\" cy=\"1415.03\" r=\"2\"/>\n<circle clip-path=\"url(#clip542)\" style=\"fill:#009af9; stroke:none; fill-opacity:0\" cx=\"1515.1\" cy=\"1438.04\" r=\"2\"/>\n<circle clip-path=\"url(#clip542)\" style=\"fill:#009af9; stroke:none; fill-opacity:0\" cx=\"1599.53\" cy=\"1434.21\" r=\"2\"/>\n<circle clip-path=\"url(#clip542)\" style=\"fill:#009af9; stroke:none; fill-opacity:0\" cx=\"1683.95\" cy=\"1445.72\" r=\"2\"/>\n<circle clip-path=\"url(#clip542)\" style=\"fill:#009af9; stroke:none; fill-opacity:0\" cx=\"1768.38\" cy=\"1445.72\" r=\"2\"/>\n<circle clip-path=\"url(#clip542)\" style=\"fill:#009af9; stroke:none; fill-opacity:0\" cx=\"1852.81\" cy=\"1445.72\" r=\"2\"/>\n<circle clip-path=\"url(#clip542)\" style=\"fill:#009af9; stroke:none; fill-opacity:0\" cx=\"1937.24\" cy=\"1445.72\" r=\"2\"/>\n<circle clip-path=\"url(#clip542)\" style=\"fill:#009af9; stroke:none; fill-opacity:0\" cx=\"2021.67\" cy=\"1445.72\" r=\"2\"/>\n<circle clip-path=\"url(#clip542)\" style=\"fill:#009af9; stroke:none; fill-opacity:0\" cx=\"2106.1\" cy=\"1445.72\" r=\"2\"/>\n<circle clip-path=\"url(#clip542)\" style=\"fill:#009af9; stroke:none; fill-opacity:0\" cx=\"2190.53\" cy=\"1441.88\" r=\"2\"/>\n<path clip-path=\"url(#clip540)\" d=\"\nM1985.16 198.898 L2280.03 198.898 L2280.03 95.2176 L1985.16 95.2176  Z\n  \" fill=\"#ffffff\" fill-rule=\"evenodd\" fill-opacity=\"1\"/>\n<polyline clip-path=\"url(#clip540)\" style=\"stroke:#000000; stroke-linecap:butt; stroke-linejoin:round; stroke-width:4; stroke-opacity:1; fill:none\" points=\"\n  1985.16,198.898 2280.03,198.898 2280.03,95.2176 1985.16,95.2176 1985.16,198.898 \n  \"/>\n<path clip-path=\"url(#clip540)\" d=\"\nM2009.41 167.794 L2154.87 167.794 L2154.87 126.322 L2009.41 126.322 L2009.41 167.794  Z\n  \" fill=\"#009af9\" fill-rule=\"evenodd\" fill-opacity=\"1\"/>\n<polyline clip-path=\"url(#clip540)\" style=\"stroke:#000000; stroke-linecap:butt; stroke-linejoin:round; stroke-width:4; stroke-opacity:1; fill:none\" points=\"\n  2009.41,167.794 2154.87,167.794 2154.87,126.322 2009.41,126.322 2009.41,167.794 \n  \"/>\n<path clip-path=\"url(#clip540)\" d=\"M2192.95 166.745 Q2191.15 171.375 2189.43 172.787 Q2187.72 174.199 2184.85 174.199 L2181.45 174.199 L2181.45 170.634 L2183.95 170.634 Q2185.71 170.634 2186.68 169.8 Q2187.65 168.967 2188.83 165.865 L2189.6 163.921 L2179.11 138.412 L2183.62 138.412 L2191.72 158.689 L2199.83 138.412 L2204.34 138.412 L2192.95 166.745 Z\" fill=\"#000000\" fill-rule=\"evenodd\" fill-opacity=\"1\" /><path clip-path=\"url(#clip540)\" d=\"M2211.63 160.402 L2219.27 160.402 L2219.27 134.037 L2210.96 135.703 L2210.96 131.444 L2219.22 129.778 L2223.9 129.778 L2223.9 160.402 L2231.54 160.402 L2231.54 164.338 L2211.63 164.338 L2211.63 160.402 Z\" fill=\"#000000\" fill-rule=\"evenodd\" fill-opacity=\"1\" /></svg>\n",
      "text/html": [
       "<?xml version=\"1.0\" encoding=\"utf-8\"?>\n",
       "<svg xmlns=\"http://www.w3.org/2000/svg\" xmlns:xlink=\"http://www.w3.org/1999/xlink\" width=\"600\" height=\"400\" viewBox=\"0 0 2400 1600\">\n",
       "<defs>\n",
       "  <clipPath id=\"clip590\">\n",
       "    <rect x=\"0\" y=\"0\" width=\"2400\" height=\"1600\"/>\n",
       "  </clipPath>\n",
       "</defs>\n",
       "<path clip-path=\"url(#clip590)\" d=\"\n",
       "M0 1600 L2400 1600 L2400 0 L0 0  Z\n",
       "  \" fill=\"#ffffff\" fill-rule=\"evenodd\" fill-opacity=\"1\"/>\n",
       "<defs>\n",
       "  <clipPath id=\"clip591\">\n",
       "    <rect x=\"480\" y=\"0\" width=\"1681\" height=\"1600\"/>\n",
       "  </clipPath>\n",
       "</defs>\n",
       "<path clip-path=\"url(#clip590)\" d=\"\n",
       "M170.857 1486.45 L2352.76 1486.45 L2352.76 47.2441 L170.857 47.2441  Z\n",
       "  \" fill=\"#ffffff\" fill-rule=\"evenodd\" fill-opacity=\"1\"/>\n",
       "<defs>\n",
       "  <clipPath id=\"clip592\">\n",
       "    <rect x=\"170\" y=\"47\" width=\"2183\" height=\"1440\"/>\n",
       "  </clipPath>\n",
       "</defs>\n",
       "<polyline clip-path=\"url(#clip592)\" style=\"stroke:#000000; stroke-linecap:butt; stroke-linejoin:round; stroke-width:2; stroke-opacity:0.1; fill:none\" points=\"\n",
       "  290.866,1486.45 290.866,47.2441 \n",
       "  \"/>\n",
       "<polyline clip-path=\"url(#clip592)\" style=\"stroke:#000000; stroke-linecap:butt; stroke-linejoin:round; stroke-width:2; stroke-opacity:0.1; fill:none\" points=\"\n",
       "  713.014,1486.45 713.014,47.2441 \n",
       "  \"/>\n",
       "<polyline clip-path=\"url(#clip592)\" style=\"stroke:#000000; stroke-linecap:butt; stroke-linejoin:round; stroke-width:2; stroke-opacity:0.1; fill:none\" points=\"\n",
       "  1135.16,1486.45 1135.16,47.2441 \n",
       "  \"/>\n",
       "<polyline clip-path=\"url(#clip592)\" style=\"stroke:#000000; stroke-linecap:butt; stroke-linejoin:round; stroke-width:2; stroke-opacity:0.1; fill:none\" points=\"\n",
       "  1557.31,1486.45 1557.31,47.2441 \n",
       "  \"/>\n",
       "<polyline clip-path=\"url(#clip592)\" style=\"stroke:#000000; stroke-linecap:butt; stroke-linejoin:round; stroke-width:2; stroke-opacity:0.1; fill:none\" points=\"\n",
       "  1979.46,1486.45 1979.46,47.2441 \n",
       "  \"/>\n",
       "<polyline clip-path=\"url(#clip590)\" style=\"stroke:#000000; stroke-linecap:butt; stroke-linejoin:round; stroke-width:4; stroke-opacity:1; fill:none\" points=\"\n",
       "  170.857,1486.45 2352.76,1486.45 \n",
       "  \"/>\n",
       "<polyline clip-path=\"url(#clip590)\" style=\"stroke:#000000; stroke-linecap:butt; stroke-linejoin:round; stroke-width:4; stroke-opacity:1; fill:none\" points=\"\n",
       "  290.866,1486.45 290.866,1467.55 \n",
       "  \"/>\n",
       "<polyline clip-path=\"url(#clip590)\" style=\"stroke:#000000; stroke-linecap:butt; stroke-linejoin:round; stroke-width:4; stroke-opacity:1; fill:none\" points=\"\n",
       "  713.014,1486.45 713.014,1467.55 \n",
       "  \"/>\n",
       "<polyline clip-path=\"url(#clip590)\" style=\"stroke:#000000; stroke-linecap:butt; stroke-linejoin:round; stroke-width:4; stroke-opacity:1; fill:none\" points=\"\n",
       "  1135.16,1486.45 1135.16,1467.55 \n",
       "  \"/>\n",
       "<polyline clip-path=\"url(#clip590)\" style=\"stroke:#000000; stroke-linecap:butt; stroke-linejoin:round; stroke-width:4; stroke-opacity:1; fill:none\" points=\"\n",
       "  1557.31,1486.45 1557.31,1467.55 \n",
       "  \"/>\n",
       "<polyline clip-path=\"url(#clip590)\" style=\"stroke:#000000; stroke-linecap:butt; stroke-linejoin:round; stroke-width:4; stroke-opacity:1; fill:none\" points=\"\n",
       "  1979.46,1486.45 1979.46,1467.55 \n",
       "  \"/>\n",
       "<path clip-path=\"url(#clip590)\" d=\"M290.866 1517.37 Q287.255 1517.37 285.426 1520.93 Q283.62 1524.47 283.62 1531.6 Q283.62 1538.71 285.426 1542.27 Q287.255 1545.82 290.866 1545.82 Q294.5 1545.82 296.306 1542.27 Q298.134 1538.71 298.134 1531.6 Q298.134 1524.47 296.306 1520.93 Q294.5 1517.37 290.866 1517.37 M290.866 1513.66 Q296.676 1513.66 299.731 1518.27 Q302.81 1522.85 302.81 1531.6 Q302.81 1540.33 299.731 1544.94 Q296.676 1549.52 290.866 1549.52 Q285.056 1549.52 281.977 1544.94 Q278.921 1540.33 278.921 1531.6 Q278.921 1522.85 281.977 1518.27 Q285.056 1513.66 290.866 1513.66 Z\" fill=\"#000000\" fill-rule=\"evenodd\" fill-opacity=\"1\" /><path clip-path=\"url(#clip590)\" d=\"M687.713 1514.29 L706.07 1514.29 L706.07 1518.22 L691.996 1518.22 L691.996 1526.7 Q693.014 1526.35 694.033 1526.19 Q695.051 1526 696.07 1526 Q701.857 1526 705.236 1529.17 Q708.616 1532.34 708.616 1537.76 Q708.616 1543.34 705.144 1546.44 Q701.671 1549.52 695.352 1549.52 Q693.176 1549.52 690.908 1549.15 Q688.662 1548.78 686.255 1548.04 L686.255 1543.34 Q688.338 1544.47 690.56 1545.03 Q692.783 1545.58 695.259 1545.58 Q699.264 1545.58 701.602 1543.48 Q703.94 1541.37 703.94 1537.76 Q703.94 1534.15 701.602 1532.04 Q699.264 1529.94 695.259 1529.94 Q693.384 1529.94 691.509 1530.35 Q689.658 1530.77 687.713 1531.65 L687.713 1514.29 Z\" fill=\"#000000\" fill-rule=\"evenodd\" fill-opacity=\"1\" /><path clip-path=\"url(#clip590)\" d=\"M727.829 1517.37 Q724.218 1517.37 722.389 1520.93 Q720.583 1524.47 720.583 1531.6 Q720.583 1538.71 722.389 1542.27 Q724.218 1545.82 727.829 1545.82 Q731.463 1545.82 733.268 1542.27 Q735.097 1538.71 735.097 1531.6 Q735.097 1524.47 733.268 1520.93 Q731.463 1517.37 727.829 1517.37 M727.829 1513.66 Q733.639 1513.66 736.694 1518.27 Q739.773 1522.85 739.773 1531.6 Q739.773 1540.33 736.694 1544.94 Q733.639 1549.52 727.829 1549.52 Q722.019 1549.52 718.94 1544.94 Q715.884 1540.33 715.884 1531.6 Q715.884 1522.85 718.94 1518.27 Q722.019 1513.66 727.829 1513.66 Z\" fill=\"#000000\" fill-rule=\"evenodd\" fill-opacity=\"1\" /><path clip-path=\"url(#clip590)\" d=\"M1094.77 1544.91 L1102.41 1544.91 L1102.41 1518.55 L1094.1 1520.21 L1094.1 1515.95 L1102.36 1514.29 L1107.04 1514.29 L1107.04 1544.91 L1114.68 1544.91 L1114.68 1548.85 L1094.77 1548.85 L1094.77 1544.91 Z\" fill=\"#000000\" fill-rule=\"evenodd\" fill-opacity=\"1\" /><path clip-path=\"url(#clip590)\" d=\"M1134.12 1517.37 Q1130.51 1517.37 1128.68 1520.93 Q1126.88 1524.47 1126.88 1531.6 Q1126.88 1538.71 1128.68 1542.27 Q1130.51 1545.82 1134.12 1545.82 Q1137.75 1545.82 1139.56 1542.27 Q1141.39 1538.71 1141.39 1531.6 Q1141.39 1524.47 1139.56 1520.93 Q1137.75 1517.37 1134.12 1517.37 M1134.12 1513.66 Q1139.93 1513.66 1142.99 1518.27 Q1146.06 1522.85 1146.06 1531.6 Q1146.06 1540.33 1142.99 1544.94 Q1139.93 1549.52 1134.12 1549.52 Q1128.31 1549.52 1125.23 1544.94 Q1122.18 1540.33 1122.18 1531.6 Q1122.18 1522.85 1125.23 1518.27 Q1128.31 1513.66 1134.12 1513.66 Z\" fill=\"#000000\" fill-rule=\"evenodd\" fill-opacity=\"1\" /><path clip-path=\"url(#clip590)\" d=\"M1164.28 1517.37 Q1160.67 1517.37 1158.84 1520.93 Q1157.04 1524.47 1157.04 1531.6 Q1157.04 1538.71 1158.84 1542.27 Q1160.67 1545.82 1164.28 1545.82 Q1167.92 1545.82 1169.72 1542.27 Q1171.55 1538.71 1171.55 1531.6 Q1171.55 1524.47 1169.72 1520.93 Q1167.92 1517.37 1164.28 1517.37 M1164.28 1513.66 Q1170.09 1513.66 1173.15 1518.27 Q1176.23 1522.85 1176.23 1531.6 Q1176.23 1540.33 1173.15 1544.94 Q1170.09 1549.52 1164.28 1549.52 Q1158.47 1549.52 1155.39 1544.94 Q1152.34 1540.33 1152.34 1531.6 Q1152.34 1522.85 1155.39 1518.27 Q1158.47 1513.66 1164.28 1513.66 Z\" fill=\"#000000\" fill-rule=\"evenodd\" fill-opacity=\"1\" /><path clip-path=\"url(#clip590)\" d=\"M1516.92 1544.91 L1524.56 1544.91 L1524.56 1518.55 L1516.25 1520.21 L1516.25 1515.95 L1524.51 1514.29 L1529.19 1514.29 L1529.19 1544.91 L1536.82 1544.91 L1536.82 1548.85 L1516.92 1548.85 L1516.92 1544.91 Z\" fill=\"#000000\" fill-rule=\"evenodd\" fill-opacity=\"1\" /><path clip-path=\"url(#clip590)\" d=\"M1546.32 1514.29 L1564.67 1514.29 L1564.67 1518.22 L1550.6 1518.22 L1550.6 1526.7 Q1551.62 1526.35 1552.63 1526.19 Q1553.65 1526 1554.67 1526 Q1560.46 1526 1563.84 1529.17 Q1567.22 1532.34 1567.22 1537.76 Q1567.22 1543.34 1563.75 1546.44 Q1560.27 1549.52 1553.95 1549.52 Q1551.78 1549.52 1549.51 1549.15 Q1547.26 1548.78 1544.86 1548.04 L1544.86 1543.34 Q1546.94 1544.47 1549.16 1545.03 Q1551.38 1545.58 1553.86 1545.58 Q1557.87 1545.58 1560.2 1543.48 Q1562.54 1541.37 1562.54 1537.76 Q1562.54 1534.15 1560.2 1532.04 Q1557.87 1529.94 1553.86 1529.94 Q1551.99 1529.94 1550.11 1530.35 Q1548.26 1530.77 1546.32 1531.65 L1546.32 1514.29 Z\" fill=\"#000000\" fill-rule=\"evenodd\" fill-opacity=\"1\" /><path clip-path=\"url(#clip590)\" d=\"M1586.43 1517.37 Q1582.82 1517.37 1580.99 1520.93 Q1579.19 1524.47 1579.19 1531.6 Q1579.19 1538.71 1580.99 1542.27 Q1582.82 1545.82 1586.43 1545.82 Q1590.06 1545.82 1591.87 1542.27 Q1593.7 1538.71 1593.7 1531.6 Q1593.7 1524.47 1591.87 1520.93 Q1590.06 1517.37 1586.43 1517.37 M1586.43 1513.66 Q1592.24 1513.66 1595.3 1518.27 Q1598.38 1522.85 1598.38 1531.6 Q1598.38 1540.33 1595.3 1544.94 Q1592.24 1549.52 1586.43 1549.52 Q1580.62 1549.52 1577.54 1544.94 Q1574.49 1540.33 1574.49 1531.6 Q1574.49 1522.85 1577.54 1518.27 Q1580.62 1513.66 1586.43 1513.66 Z\" fill=\"#000000\" fill-rule=\"evenodd\" fill-opacity=\"1\" /><path clip-path=\"url(#clip590)\" d=\"M1943.15 1544.91 L1959.47 1544.91 L1959.47 1548.85 L1937.53 1548.85 L1937.53 1544.91 Q1940.19 1542.16 1944.77 1537.53 Q1949.38 1532.88 1950.56 1531.53 Q1952.8 1529.01 1953.68 1527.27 Q1954.59 1525.51 1954.59 1523.82 Q1954.59 1521.07 1952.64 1519.33 Q1950.72 1517.6 1947.62 1517.6 Q1945.42 1517.6 1942.97 1518.36 Q1940.54 1519.13 1937.76 1520.68 L1937.76 1515.95 Q1940.58 1514.82 1943.04 1514.24 Q1945.49 1513.66 1947.53 1513.66 Q1952.9 1513.66 1956.09 1516.35 Q1959.29 1519.03 1959.29 1523.52 Q1959.29 1525.65 1958.47 1527.57 Q1957.69 1529.47 1955.58 1532.07 Q1955 1532.74 1951.9 1535.95 Q1948.8 1539.15 1943.15 1544.91 Z\" fill=\"#000000\" fill-rule=\"evenodd\" fill-opacity=\"1\" /><path clip-path=\"url(#clip590)\" d=\"M1979.29 1517.37 Q1975.67 1517.37 1973.85 1520.93 Q1972.04 1524.47 1972.04 1531.6 Q1972.04 1538.71 1973.85 1542.27 Q1975.67 1545.82 1979.29 1545.82 Q1982.92 1545.82 1984.72 1542.27 Q1986.55 1538.71 1986.55 1531.6 Q1986.55 1524.47 1984.72 1520.93 Q1982.92 1517.37 1979.29 1517.37 M1979.29 1513.66 Q1985.1 1513.66 1988.15 1518.27 Q1991.23 1522.85 1991.23 1531.6 Q1991.23 1540.33 1988.15 1544.94 Q1985.1 1549.52 1979.29 1549.52 Q1973.47 1549.52 1970.4 1544.94 Q1967.34 1540.33 1967.34 1531.6 Q1967.34 1522.85 1970.4 1518.27 Q1973.47 1513.66 1979.29 1513.66 Z\" fill=\"#000000\" fill-rule=\"evenodd\" fill-opacity=\"1\" /><path clip-path=\"url(#clip590)\" d=\"M2009.45 1517.37 Q2005.84 1517.37 2004.01 1520.93 Q2002.2 1524.47 2002.2 1531.6 Q2002.2 1538.71 2004.01 1542.27 Q2005.84 1545.82 2009.45 1545.82 Q2013.08 1545.82 2014.89 1542.27 Q2016.72 1538.71 2016.72 1531.6 Q2016.72 1524.47 2014.89 1520.93 Q2013.08 1517.37 2009.45 1517.37 M2009.45 1513.66 Q2015.26 1513.66 2018.31 1518.27 Q2021.39 1522.85 2021.39 1531.6 Q2021.39 1540.33 2018.31 1544.94 Q2015.26 1549.52 2009.45 1549.52 Q2003.64 1549.52 2000.56 1544.94 Q1997.5 1540.33 1997.5 1531.6 Q1997.5 1522.85 2000.56 1518.27 Q2003.64 1513.66 2009.45 1513.66 Z\" fill=\"#000000\" fill-rule=\"evenodd\" fill-opacity=\"1\" /><polyline clip-path=\"url(#clip592)\" style=\"stroke:#000000; stroke-linecap:butt; stroke-linejoin:round; stroke-width:2; stroke-opacity:0.1; fill:none\" points=\"\n",
       "  170.857,1445.72 2352.76,1445.72 \n",
       "  \"/>\n",
       "<polyline clip-path=\"url(#clip592)\" style=\"stroke:#000000; stroke-linecap:butt; stroke-linejoin:round; stroke-width:2; stroke-opacity:0.1; fill:none\" points=\"\n",
       "  170.857,1062.17 2352.76,1062.17 \n",
       "  \"/>\n",
       "<polyline clip-path=\"url(#clip592)\" style=\"stroke:#000000; stroke-linecap:butt; stroke-linejoin:round; stroke-width:2; stroke-opacity:0.1; fill:none\" points=\"\n",
       "  170.857,678.631 2352.76,678.631 \n",
       "  \"/>\n",
       "<polyline clip-path=\"url(#clip592)\" style=\"stroke:#000000; stroke-linecap:butt; stroke-linejoin:round; stroke-width:2; stroke-opacity:0.1; fill:none\" points=\"\n",
       "  170.857,295.089 2352.76,295.089 \n",
       "  \"/>\n",
       "<polyline clip-path=\"url(#clip590)\" style=\"stroke:#000000; stroke-linecap:butt; stroke-linejoin:round; stroke-width:4; stroke-opacity:1; fill:none\" points=\"\n",
       "  170.857,1486.45 170.857,47.2441 \n",
       "  \"/>\n",
       "<polyline clip-path=\"url(#clip590)\" style=\"stroke:#000000; stroke-linecap:butt; stroke-linejoin:round; stroke-width:4; stroke-opacity:1; fill:none\" points=\"\n",
       "  170.857,1445.72 189.755,1445.72 \n",
       "  \"/>\n",
       "<polyline clip-path=\"url(#clip590)\" style=\"stroke:#000000; stroke-linecap:butt; stroke-linejoin:round; stroke-width:4; stroke-opacity:1; fill:none\" points=\"\n",
       "  170.857,1062.17 189.755,1062.17 \n",
       "  \"/>\n",
       "<polyline clip-path=\"url(#clip590)\" style=\"stroke:#000000; stroke-linecap:butt; stroke-linejoin:round; stroke-width:4; stroke-opacity:1; fill:none\" points=\"\n",
       "  170.857,678.631 189.755,678.631 \n",
       "  \"/>\n",
       "<polyline clip-path=\"url(#clip590)\" style=\"stroke:#000000; stroke-linecap:butt; stroke-linejoin:round; stroke-width:4; stroke-opacity:1; fill:none\" points=\"\n",
       "  170.857,295.089 189.755,295.089 \n",
       "  \"/>\n",
       "<path clip-path=\"url(#clip590)\" d=\"M122.913 1431.51 Q119.302 1431.51 117.473 1435.08 Q115.668 1438.62 115.668 1445.75 Q115.668 1452.86 117.473 1456.42 Q119.302 1459.96 122.913 1459.96 Q126.547 1459.96 128.353 1456.42 Q130.182 1452.86 130.182 1445.75 Q130.182 1438.62 128.353 1435.08 Q126.547 1431.51 122.913 1431.51 M122.913 1427.81 Q128.723 1427.81 131.779 1432.42 Q134.857 1437 134.857 1445.75 Q134.857 1454.48 131.779 1459.08 Q128.723 1463.67 122.913 1463.67 Q117.103 1463.67 114.024 1459.08 Q110.969 1454.48 110.969 1445.75 Q110.969 1437 114.024 1432.42 Q117.103 1427.81 122.913 1427.81 Z\" fill=\"#000000\" fill-rule=\"evenodd\" fill-opacity=\"1\" /><path clip-path=\"url(#clip590)\" d=\"M53.3995 1075.52 L61.0384 1075.52 L61.0384 1049.15 L52.7282 1050.82 L52.7282 1046.56 L60.9921 1044.89 L65.668 1044.89 L65.668 1075.52 L73.3068 1075.52 L73.3068 1079.45 L53.3995 1079.45 L53.3995 1075.52 Z\" fill=\"#000000\" fill-rule=\"evenodd\" fill-opacity=\"1\" /><path clip-path=\"url(#clip590)\" d=\"M92.7512 1047.97 Q89.1401 1047.97 87.3114 1051.54 Q85.5058 1055.08 85.5058 1062.21 Q85.5058 1069.31 87.3114 1072.88 Q89.1401 1076.42 92.7512 1076.42 Q96.3854 1076.42 98.1909 1072.88 Q100.02 1069.31 100.02 1062.21 Q100.02 1055.08 98.1909 1051.54 Q96.3854 1047.97 92.7512 1047.97 M92.7512 1044.27 Q98.5613 1044.27 101.617 1048.87 Q104.696 1053.46 104.696 1062.21 Q104.696 1070.94 101.617 1075.54 Q98.5613 1080.12 92.7512 1080.12 Q86.941 1080.12 83.8623 1075.54 Q80.8068 1070.94 80.8068 1062.21 Q80.8068 1053.46 83.8623 1048.87 Q86.941 1044.27 92.7512 1044.27 Z\" fill=\"#000000\" fill-rule=\"evenodd\" fill-opacity=\"1\" /><path clip-path=\"url(#clip590)\" d=\"M122.913 1047.97 Q119.302 1047.97 117.473 1051.54 Q115.668 1055.08 115.668 1062.21 Q115.668 1069.31 117.473 1072.88 Q119.302 1076.42 122.913 1076.42 Q126.547 1076.42 128.353 1072.88 Q130.182 1069.31 130.182 1062.21 Q130.182 1055.08 128.353 1051.54 Q126.547 1047.97 122.913 1047.97 M122.913 1044.27 Q128.723 1044.27 131.779 1048.87 Q134.857 1053.46 134.857 1062.21 Q134.857 1070.94 131.779 1075.54 Q128.723 1080.12 122.913 1080.12 Q117.103 1080.12 114.024 1075.54 Q110.969 1070.94 110.969 1062.21 Q110.969 1053.46 114.024 1048.87 Q117.103 1044.27 122.913 1044.27 Z\" fill=\"#000000\" fill-rule=\"evenodd\" fill-opacity=\"1\" /><path clip-path=\"url(#clip590)\" d=\"M56.6171 691.976 L72.9365 691.976 L72.9365 695.911 L50.9921 695.911 L50.9921 691.976 Q53.6541 689.221 58.2375 684.592 Q62.8439 679.939 64.0245 678.597 Q66.2698 676.073 67.1494 674.337 Q68.0522 672.578 68.0522 670.888 Q68.0522 668.134 66.1078 666.398 Q64.1865 664.661 61.0847 664.661 Q58.8856 664.661 56.4319 665.425 Q54.0014 666.189 51.2236 667.74 L51.2236 663.018 Q54.0477 661.884 56.5014 661.305 Q58.955 660.726 60.9921 660.726 Q66.3624 660.726 69.5568 663.411 Q72.7513 666.097 72.7513 670.587 Q72.7513 672.717 71.9411 674.638 Q71.1541 676.536 69.0476 679.129 Q68.4689 679.8 65.367 683.018 Q62.2652 686.212 56.6171 691.976 Z\" fill=\"#000000\" fill-rule=\"evenodd\" fill-opacity=\"1\" /><path clip-path=\"url(#clip590)\" d=\"M92.7512 664.43 Q89.1401 664.43 87.3114 667.995 Q85.5058 671.536 85.5058 678.666 Q85.5058 685.772 87.3114 689.337 Q89.1401 692.879 92.7512 692.879 Q96.3854 692.879 98.1909 689.337 Q100.02 685.772 100.02 678.666 Q100.02 671.536 98.1909 667.995 Q96.3854 664.43 92.7512 664.43 M92.7512 660.726 Q98.5613 660.726 101.617 665.333 Q104.696 669.916 104.696 678.666 Q104.696 687.393 101.617 691.999 Q98.5613 696.583 92.7512 696.583 Q86.941 696.583 83.8623 691.999 Q80.8068 687.393 80.8068 678.666 Q80.8068 669.916 83.8623 665.333 Q86.941 660.726 92.7512 660.726 Z\" fill=\"#000000\" fill-rule=\"evenodd\" fill-opacity=\"1\" /><path clip-path=\"url(#clip590)\" d=\"M122.913 664.43 Q119.302 664.43 117.473 667.995 Q115.668 671.536 115.668 678.666 Q115.668 685.772 117.473 689.337 Q119.302 692.879 122.913 692.879 Q126.547 692.879 128.353 689.337 Q130.182 685.772 130.182 678.666 Q130.182 671.536 128.353 667.995 Q126.547 664.43 122.913 664.43 M122.913 660.726 Q128.723 660.726 131.779 665.333 Q134.857 669.916 134.857 678.666 Q134.857 687.393 131.779 691.999 Q128.723 696.583 122.913 696.583 Q117.103 696.583 114.024 691.999 Q110.969 687.393 110.969 678.666 Q110.969 669.916 114.024 665.333 Q117.103 660.726 122.913 660.726 Z\" fill=\"#000000\" fill-rule=\"evenodd\" fill-opacity=\"1\" /><path clip-path=\"url(#clip590)\" d=\"M66.7559 293.735 Q70.1124 294.452 71.9874 296.721 Q73.8855 298.99 73.8855 302.323 Q73.8855 307.439 70.367 310.239 Q66.8485 313.04 60.3671 313.04 Q58.1912 313.04 55.8764 312.601 Q53.5847 312.184 51.131 311.327 L51.131 306.814 Q53.0754 307.948 55.3903 308.526 Q57.7051 309.105 60.2282 309.105 Q64.6263 309.105 66.918 307.369 Q69.2328 305.633 69.2328 302.323 Q69.2328 299.267 67.08 297.554 Q64.9504 295.818 61.131 295.818 L57.1032 295.818 L57.1032 291.976 L61.3161 291.976 Q64.7652 291.976 66.5939 290.61 Q68.4226 289.221 68.4226 286.628 Q68.4226 283.966 66.5245 282.554 Q64.6495 281.119 61.131 281.119 Q59.2097 281.119 57.0106 281.536 Q54.8115 281.953 52.1727 282.832 L52.1727 278.666 Q54.8347 277.925 57.1495 277.554 Q59.4875 277.184 61.5476 277.184 Q66.8717 277.184 69.9735 279.615 Q73.0753 282.022 73.0753 286.142 Q73.0753 289.013 71.4318 291.003 Q69.7883 292.971 66.7559 293.735 Z\" fill=\"#000000\" fill-rule=\"evenodd\" fill-opacity=\"1\" /><path clip-path=\"url(#clip590)\" d=\"M92.7512 280.888 Q89.1401 280.888 87.3114 284.453 Q85.5058 287.994 85.5058 295.124 Q85.5058 302.23 87.3114 305.795 Q89.1401 309.337 92.7512 309.337 Q96.3854 309.337 98.1909 305.795 Q100.02 302.23 100.02 295.124 Q100.02 287.994 98.1909 284.453 Q96.3854 280.888 92.7512 280.888 M92.7512 277.184 Q98.5613 277.184 101.617 281.791 Q104.696 286.374 104.696 295.124 Q104.696 303.851 101.617 308.457 Q98.5613 313.04 92.7512 313.04 Q86.941 313.04 83.8623 308.457 Q80.8068 303.851 80.8068 295.124 Q80.8068 286.374 83.8623 281.791 Q86.941 277.184 92.7512 277.184 Z\" fill=\"#000000\" fill-rule=\"evenodd\" fill-opacity=\"1\" /><path clip-path=\"url(#clip590)\" d=\"M122.913 280.888 Q119.302 280.888 117.473 284.453 Q115.668 287.994 115.668 295.124 Q115.668 302.23 117.473 305.795 Q119.302 309.337 122.913 309.337 Q126.547 309.337 128.353 305.795 Q130.182 302.23 130.182 295.124 Q130.182 287.994 128.353 284.453 Q126.547 280.888 122.913 280.888 M122.913 277.184 Q128.723 277.184 131.779 281.791 Q134.857 286.374 134.857 295.124 Q134.857 303.851 131.779 308.457 Q128.723 313.04 122.913 313.04 Q117.103 313.04 114.024 308.457 Q110.969 303.851 110.969 295.124 Q110.969 286.374 114.024 281.791 Q117.103 277.184 122.913 277.184 Z\" fill=\"#000000\" fill-rule=\"evenodd\" fill-opacity=\"1\" /><path clip-path=\"url(#clip592)\" d=\"\n",
       "M290.866 87.9763 L290.866 1445.72 L375.295 1445.72 L375.295 87.9763 L290.866 87.9763 L290.866 87.9763  Z\n",
       "  \" fill=\"#009af9\" fill-rule=\"evenodd\" fill-opacity=\"1\"/>\n",
       "<polyline clip-path=\"url(#clip592)\" style=\"stroke:#000000; stroke-linecap:butt; stroke-linejoin:round; stroke-width:4; stroke-opacity:1; fill:none\" points=\"\n",
       "  290.866,87.9763 290.866,1445.72 375.295,1445.72 375.295,87.9763 290.866,87.9763 \n",
       "  \"/>\n",
       "<path clip-path=\"url(#clip592)\" d=\"\n",
       "M375.295 828.213 L375.295 1445.72 L459.725 1445.72 L459.725 828.213 L375.295 828.213 L375.295 828.213  Z\n",
       "  \" fill=\"#009af9\" fill-rule=\"evenodd\" fill-opacity=\"1\"/>\n",
       "<polyline clip-path=\"url(#clip592)\" style=\"stroke:#000000; stroke-linecap:butt; stroke-linejoin:round; stroke-width:4; stroke-opacity:1; fill:none\" points=\"\n",
       "  375.295,828.213 375.295,1445.72 459.725,1445.72 459.725,828.213 375.295,828.213 \n",
       "  \"/>\n",
       "<path clip-path=\"url(#clip592)\" d=\"\n",
       "M459.725 1077.52 L459.725 1445.72 L544.155 1445.72 L544.155 1077.52 L459.725 1077.52 L459.725 1077.52  Z\n",
       "  \" fill=\"#009af9\" fill-rule=\"evenodd\" fill-opacity=\"1\"/>\n",
       "<polyline clip-path=\"url(#clip592)\" style=\"stroke:#000000; stroke-linecap:butt; stroke-linejoin:round; stroke-width:4; stroke-opacity:1; fill:none\" points=\"\n",
       "  459.725,1077.52 459.725,1445.72 544.155,1445.72 544.155,1077.52 459.725,1077.52 \n",
       "  \"/>\n",
       "<path clip-path=\"url(#clip592)\" d=\"\n",
       "M544.155 1135.05 L544.155 1445.72 L628.584 1445.72 L628.584 1135.05 L544.155 1135.05 L544.155 1135.05  Z\n",
       "  \" fill=\"#009af9\" fill-rule=\"evenodd\" fill-opacity=\"1\"/>\n",
       "<polyline clip-path=\"url(#clip592)\" style=\"stroke:#000000; stroke-linecap:butt; stroke-linejoin:round; stroke-width:4; stroke-opacity:1; fill:none\" points=\"\n",
       "  544.155,1135.05 544.155,1445.72 628.584,1445.72 628.584,1135.05 544.155,1135.05 \n",
       "  \"/>\n",
       "<path clip-path=\"url(#clip592)\" d=\"\n",
       "M628.584 1261.62 L628.584 1445.72 L713.014 1445.72 L713.014 1261.62 L628.584 1261.62 L628.584 1261.62  Z\n",
       "  \" fill=\"#009af9\" fill-rule=\"evenodd\" fill-opacity=\"1\"/>\n",
       "<polyline clip-path=\"url(#clip592)\" style=\"stroke:#000000; stroke-linecap:butt; stroke-linejoin:round; stroke-width:4; stroke-opacity:1; fill:none\" points=\"\n",
       "  628.584,1261.62 628.584,1445.72 713.014,1445.72 713.014,1261.62 628.584,1261.62 \n",
       "  \"/>\n",
       "<path clip-path=\"url(#clip592)\" d=\"\n",
       "M713.014 1246.27 L713.014 1445.72 L797.444 1445.72 L797.444 1246.27 L713.014 1246.27 L713.014 1246.27  Z\n",
       "  \" fill=\"#009af9\" fill-rule=\"evenodd\" fill-opacity=\"1\"/>\n",
       "<polyline clip-path=\"url(#clip592)\" style=\"stroke:#000000; stroke-linecap:butt; stroke-linejoin:round; stroke-width:4; stroke-opacity:1; fill:none\" points=\"\n",
       "  713.014,1246.27 713.014,1445.72 797.444,1445.72 797.444,1246.27 713.014,1246.27 \n",
       "  \"/>\n",
       "<path clip-path=\"url(#clip592)\" d=\"\n",
       "M797.444 1369.01 L797.444 1445.72 L881.873 1445.72 L881.873 1369.01 L797.444 1369.01 L797.444 1369.01  Z\n",
       "  \" fill=\"#009af9\" fill-rule=\"evenodd\" fill-opacity=\"1\"/>\n",
       "<polyline clip-path=\"url(#clip592)\" style=\"stroke:#000000; stroke-linecap:butt; stroke-linejoin:round; stroke-width:4; stroke-opacity:1; fill:none\" points=\"\n",
       "  797.444,1369.01 797.444,1445.72 881.873,1445.72 881.873,1369.01 797.444,1369.01 \n",
       "  \"/>\n",
       "<path clip-path=\"url(#clip592)\" d=\"\n",
       "M881.873 1411.2 L881.873 1445.72 L966.303 1445.72 L966.303 1411.2 L881.873 1411.2 L881.873 1411.2  Z\n",
       "  \" fill=\"#009af9\" fill-rule=\"evenodd\" fill-opacity=\"1\"/>\n",
       "<polyline clip-path=\"url(#clip592)\" style=\"stroke:#000000; stroke-linecap:butt; stroke-linejoin:round; stroke-width:4; stroke-opacity:1; fill:none\" points=\"\n",
       "  881.873,1411.2 881.873,1445.72 966.303,1445.72 966.303,1411.2 881.873,1411.2 \n",
       "  \"/>\n",
       "<path clip-path=\"url(#clip592)\" d=\"\n",
       "M966.303 1399.69 L966.303 1445.72 L1050.73 1445.72 L1050.73 1399.69 L966.303 1399.69 L966.303 1399.69  Z\n",
       "  \" fill=\"#009af9\" fill-rule=\"evenodd\" fill-opacity=\"1\"/>\n",
       "<polyline clip-path=\"url(#clip592)\" style=\"stroke:#000000; stroke-linecap:butt; stroke-linejoin:round; stroke-width:4; stroke-opacity:1; fill:none\" points=\"\n",
       "  966.303,1399.69 966.303,1445.72 1050.73,1445.72 1050.73,1399.69 966.303,1399.69 \n",
       "  \"/>\n",
       "<path clip-path=\"url(#clip592)\" d=\"\n",
       "M1050.73 1422.7 L1050.73 1445.72 L1135.16 1445.72 L1135.16 1422.7 L1050.73 1422.7 L1050.73 1422.7  Z\n",
       "  \" fill=\"#009af9\" fill-rule=\"evenodd\" fill-opacity=\"1\"/>\n",
       "<polyline clip-path=\"url(#clip592)\" style=\"stroke:#000000; stroke-linecap:butt; stroke-linejoin:round; stroke-width:4; stroke-opacity:1; fill:none\" points=\"\n",
       "  1050.73,1422.7 1050.73,1445.72 1135.16,1445.72 1135.16,1422.7 1050.73,1422.7 \n",
       "  \"/>\n",
       "<path clip-path=\"url(#clip592)\" d=\"\n",
       "M1135.16 1418.87 L1135.16 1445.72 L1219.59 1445.72 L1219.59 1418.87 L1135.16 1418.87 L1135.16 1418.87  Z\n",
       "  \" fill=\"#009af9\" fill-rule=\"evenodd\" fill-opacity=\"1\"/>\n",
       "<polyline clip-path=\"url(#clip592)\" style=\"stroke:#000000; stroke-linecap:butt; stroke-linejoin:round; stroke-width:4; stroke-opacity:1; fill:none\" points=\"\n",
       "  1135.16,1418.87 1135.16,1445.72 1219.59,1445.72 1219.59,1418.87 1135.16,1418.87 \n",
       "  \"/>\n",
       "<path clip-path=\"url(#clip592)\" d=\"\n",
       "M1219.59 1426.54 L1219.59 1445.72 L1304.02 1445.72 L1304.02 1426.54 L1219.59 1426.54 L1219.59 1426.54  Z\n",
       "  \" fill=\"#009af9\" fill-rule=\"evenodd\" fill-opacity=\"1\"/>\n",
       "<polyline clip-path=\"url(#clip592)\" style=\"stroke:#000000; stroke-linecap:butt; stroke-linejoin:round; stroke-width:4; stroke-opacity:1; fill:none\" points=\"\n",
       "  1219.59,1426.54 1219.59,1445.72 1304.02,1445.72 1304.02,1426.54 1219.59,1426.54 \n",
       "  \"/>\n",
       "<path clip-path=\"url(#clip592)\" d=\"\n",
       "M1304.02 1426.54 L1304.02 1445.72 L1388.45 1445.72 L1388.45 1426.54 L1304.02 1426.54 L1304.02 1426.54  Z\n",
       "  \" fill=\"#009af9\" fill-rule=\"evenodd\" fill-opacity=\"1\"/>\n",
       "<polyline clip-path=\"url(#clip592)\" style=\"stroke:#000000; stroke-linecap:butt; stroke-linejoin:round; stroke-width:4; stroke-opacity:1; fill:none\" points=\"\n",
       "  1304.02,1426.54 1304.02,1445.72 1388.45,1445.72 1388.45,1426.54 1304.02,1426.54 \n",
       "  \"/>\n",
       "<path clip-path=\"url(#clip592)\" d=\"\n",
       "M1388.45 1415.03 L1388.45 1445.72 L1472.88 1445.72 L1472.88 1415.03 L1388.45 1415.03 L1388.45 1415.03  Z\n",
       "  \" fill=\"#009af9\" fill-rule=\"evenodd\" fill-opacity=\"1\"/>\n",
       "<polyline clip-path=\"url(#clip592)\" style=\"stroke:#000000; stroke-linecap:butt; stroke-linejoin:round; stroke-width:4; stroke-opacity:1; fill:none\" points=\"\n",
       "  1388.45,1415.03 1388.45,1445.72 1472.88,1445.72 1472.88,1415.03 1388.45,1415.03 \n",
       "  \"/>\n",
       "<path clip-path=\"url(#clip592)\" d=\"\n",
       "M1472.88 1438.04 L1472.88 1445.72 L1557.31 1445.72 L1557.31 1438.04 L1472.88 1438.04 L1472.88 1438.04  Z\n",
       "  \" fill=\"#009af9\" fill-rule=\"evenodd\" fill-opacity=\"1\"/>\n",
       "<polyline clip-path=\"url(#clip592)\" style=\"stroke:#000000; stroke-linecap:butt; stroke-linejoin:round; stroke-width:4; stroke-opacity:1; fill:none\" points=\"\n",
       "  1472.88,1438.04 1472.88,1445.72 1557.31,1445.72 1557.31,1438.04 1472.88,1438.04 \n",
       "  \"/>\n",
       "<path clip-path=\"url(#clip592)\" d=\"\n",
       "M1557.31 1434.21 L1557.31 1445.72 L1641.74 1445.72 L1641.74 1434.21 L1557.31 1434.21 L1557.31 1434.21  Z\n",
       "  \" fill=\"#009af9\" fill-rule=\"evenodd\" fill-opacity=\"1\"/>\n",
       "<polyline clip-path=\"url(#clip592)\" style=\"stroke:#000000; stroke-linecap:butt; stroke-linejoin:round; stroke-width:4; stroke-opacity:1; fill:none\" points=\"\n",
       "  1557.31,1434.21 1557.31,1445.72 1641.74,1445.72 1641.74,1434.21 1557.31,1434.21 \n",
       "  \"/>\n",
       "<path clip-path=\"url(#clip592)\" d=\"\n",
       "M1641.74 1445.72 L1641.74 1445.72 L1726.17 1445.72 L1726.17 1445.72 L1641.74 1445.72 L1641.74 1445.72  Z\n",
       "  \" fill=\"#009af9\" fill-rule=\"evenodd\" fill-opacity=\"1\"/>\n",
       "<polyline clip-path=\"url(#clip592)\" style=\"stroke:#000000; stroke-linecap:butt; stroke-linejoin:round; stroke-width:4; stroke-opacity:1; fill:none\" points=\"\n",
       "  1641.74,1445.72 1641.74,1445.72 1726.17,1445.72 1641.74,1445.72 \n",
       "  \"/>\n",
       "<path clip-path=\"url(#clip592)\" d=\"\n",
       "M1726.17 1445.72 L1726.17 1445.72 L1810.6 1445.72 L1810.6 1445.72 L1726.17 1445.72 L1726.17 1445.72  Z\n",
       "  \" fill=\"#009af9\" fill-rule=\"evenodd\" fill-opacity=\"1\"/>\n",
       "<polyline clip-path=\"url(#clip592)\" style=\"stroke:#000000; stroke-linecap:butt; stroke-linejoin:round; stroke-width:4; stroke-opacity:1; fill:none\" points=\"\n",
       "  1726.17,1445.72 1726.17,1445.72 1810.6,1445.72 1726.17,1445.72 \n",
       "  \"/>\n",
       "<path clip-path=\"url(#clip592)\" d=\"\n",
       "M1810.6 1445.72 L1810.6 1445.72 L1895.03 1445.72 L1895.03 1445.72 L1810.6 1445.72 L1810.6 1445.72  Z\n",
       "  \" fill=\"#009af9\" fill-rule=\"evenodd\" fill-opacity=\"1\"/>\n",
       "<polyline clip-path=\"url(#clip592)\" style=\"stroke:#000000; stroke-linecap:butt; stroke-linejoin:round; stroke-width:4; stroke-opacity:1; fill:none\" points=\"\n",
       "  1810.6,1445.72 1810.6,1445.72 1895.03,1445.72 1810.6,1445.72 \n",
       "  \"/>\n",
       "<path clip-path=\"url(#clip592)\" d=\"\n",
       "M1895.03 1445.72 L1895.03 1445.72 L1979.46 1445.72 L1979.46 1445.72 L1895.03 1445.72 L1895.03 1445.72  Z\n",
       "  \" fill=\"#009af9\" fill-rule=\"evenodd\" fill-opacity=\"1\"/>\n",
       "<polyline clip-path=\"url(#clip592)\" style=\"stroke:#000000; stroke-linecap:butt; stroke-linejoin:round; stroke-width:4; stroke-opacity:1; fill:none\" points=\"\n",
       "  1895.03,1445.72 1895.03,1445.72 1979.46,1445.72 1895.03,1445.72 \n",
       "  \"/>\n",
       "<path clip-path=\"url(#clip592)\" d=\"\n",
       "M1979.46 1445.72 L1979.46 1445.72 L2063.89 1445.72 L2063.89 1445.72 L1979.46 1445.72 L1979.46 1445.72  Z\n",
       "  \" fill=\"#009af9\" fill-rule=\"evenodd\" fill-opacity=\"1\"/>\n",
       "<polyline clip-path=\"url(#clip592)\" style=\"stroke:#000000; stroke-linecap:butt; stroke-linejoin:round; stroke-width:4; stroke-opacity:1; fill:none\" points=\"\n",
       "  1979.46,1445.72 1979.46,1445.72 2063.89,1445.72 1979.46,1445.72 \n",
       "  \"/>\n",
       "<path clip-path=\"url(#clip592)\" d=\"\n",
       "M2063.89 1445.72 L2063.89 1445.72 L2148.32 1445.72 L2148.32 1445.72 L2063.89 1445.72 L2063.89 1445.72  Z\n",
       "  \" fill=\"#009af9\" fill-rule=\"evenodd\" fill-opacity=\"1\"/>\n",
       "<polyline clip-path=\"url(#clip592)\" style=\"stroke:#000000; stroke-linecap:butt; stroke-linejoin:round; stroke-width:4; stroke-opacity:1; fill:none\" points=\"\n",
       "  2063.89,1445.72 2063.89,1445.72 2148.32,1445.72 2063.89,1445.72 \n",
       "  \"/>\n",
       "<path clip-path=\"url(#clip592)\" d=\"\n",
       "M2148.32 1441.88 L2148.32 1445.72 L2232.75 1445.72 L2232.75 1441.88 L2148.32 1441.88 L2148.32 1441.88  Z\n",
       "  \" fill=\"#009af9\" fill-rule=\"evenodd\" fill-opacity=\"1\"/>\n",
       "<polyline clip-path=\"url(#clip592)\" style=\"stroke:#000000; stroke-linecap:butt; stroke-linejoin:round; stroke-width:4; stroke-opacity:1; fill:none\" points=\"\n",
       "  2148.32,1441.88 2148.32,1445.72 2232.75,1445.72 2232.75,1441.88 2148.32,1441.88 \n",
       "  \"/>\n",
       "<circle clip-path=\"url(#clip592)\" style=\"fill:#009af9; stroke:none; fill-opacity:0\" cx=\"333.081\" cy=\"87.9763\" r=\"2\"/>\n",
       "<circle clip-path=\"url(#clip592)\" style=\"fill:#009af9; stroke:none; fill-opacity:0\" cx=\"417.51\" cy=\"828.213\" r=\"2\"/>\n",
       "<circle clip-path=\"url(#clip592)\" style=\"fill:#009af9; stroke:none; fill-opacity:0\" cx=\"501.94\" cy=\"1077.52\" r=\"2\"/>\n",
       "<circle clip-path=\"url(#clip592)\" style=\"fill:#009af9; stroke:none; fill-opacity:0\" cx=\"586.369\" cy=\"1135.05\" r=\"2\"/>\n",
       "<circle clip-path=\"url(#clip592)\" style=\"fill:#009af9; stroke:none; fill-opacity:0\" cx=\"670.799\" cy=\"1261.62\" r=\"2\"/>\n",
       "<circle clip-path=\"url(#clip592)\" style=\"fill:#009af9; stroke:none; fill-opacity:0\" cx=\"755.229\" cy=\"1246.27\" r=\"2\"/>\n",
       "<circle clip-path=\"url(#clip592)\" style=\"fill:#009af9; stroke:none; fill-opacity:0\" cx=\"839.658\" cy=\"1369.01\" r=\"2\"/>\n",
       "<circle clip-path=\"url(#clip592)\" style=\"fill:#009af9; stroke:none; fill-opacity:0\" cx=\"924.088\" cy=\"1411.2\" r=\"2\"/>\n",
       "<circle clip-path=\"url(#clip592)\" style=\"fill:#009af9; stroke:none; fill-opacity:0\" cx=\"1008.52\" cy=\"1399.69\" r=\"2\"/>\n",
       "<circle clip-path=\"url(#clip592)\" style=\"fill:#009af9; stroke:none; fill-opacity:0\" cx=\"1092.95\" cy=\"1422.7\" r=\"2\"/>\n",
       "<circle clip-path=\"url(#clip592)\" style=\"fill:#009af9; stroke:none; fill-opacity:0\" cx=\"1177.38\" cy=\"1418.87\" r=\"2\"/>\n",
       "<circle clip-path=\"url(#clip592)\" style=\"fill:#009af9; stroke:none; fill-opacity:0\" cx=\"1261.81\" cy=\"1426.54\" r=\"2\"/>\n",
       "<circle clip-path=\"url(#clip592)\" style=\"fill:#009af9; stroke:none; fill-opacity:0\" cx=\"1346.24\" cy=\"1426.54\" r=\"2\"/>\n",
       "<circle clip-path=\"url(#clip592)\" style=\"fill:#009af9; stroke:none; fill-opacity:0\" cx=\"1430.67\" cy=\"1415.03\" r=\"2\"/>\n",
       "<circle clip-path=\"url(#clip592)\" style=\"fill:#009af9; stroke:none; fill-opacity:0\" cx=\"1515.1\" cy=\"1438.04\" r=\"2\"/>\n",
       "<circle clip-path=\"url(#clip592)\" style=\"fill:#009af9; stroke:none; fill-opacity:0\" cx=\"1599.53\" cy=\"1434.21\" r=\"2\"/>\n",
       "<circle clip-path=\"url(#clip592)\" style=\"fill:#009af9; stroke:none; fill-opacity:0\" cx=\"1683.95\" cy=\"1445.72\" r=\"2\"/>\n",
       "<circle clip-path=\"url(#clip592)\" style=\"fill:#009af9; stroke:none; fill-opacity:0\" cx=\"1768.38\" cy=\"1445.72\" r=\"2\"/>\n",
       "<circle clip-path=\"url(#clip592)\" style=\"fill:#009af9; stroke:none; fill-opacity:0\" cx=\"1852.81\" cy=\"1445.72\" r=\"2\"/>\n",
       "<circle clip-path=\"url(#clip592)\" style=\"fill:#009af9; stroke:none; fill-opacity:0\" cx=\"1937.24\" cy=\"1445.72\" r=\"2\"/>\n",
       "<circle clip-path=\"url(#clip592)\" style=\"fill:#009af9; stroke:none; fill-opacity:0\" cx=\"2021.67\" cy=\"1445.72\" r=\"2\"/>\n",
       "<circle clip-path=\"url(#clip592)\" style=\"fill:#009af9; stroke:none; fill-opacity:0\" cx=\"2106.1\" cy=\"1445.72\" r=\"2\"/>\n",
       "<circle clip-path=\"url(#clip592)\" style=\"fill:#009af9; stroke:none; fill-opacity:0\" cx=\"2190.53\" cy=\"1441.88\" r=\"2\"/>\n",
       "<path clip-path=\"url(#clip590)\" d=\"\n",
       "M1985.16 198.898 L2280.03 198.898 L2280.03 95.2176 L1985.16 95.2176  Z\n",
       "  \" fill=\"#ffffff\" fill-rule=\"evenodd\" fill-opacity=\"1\"/>\n",
       "<polyline clip-path=\"url(#clip590)\" style=\"stroke:#000000; stroke-linecap:butt; stroke-linejoin:round; stroke-width:4; stroke-opacity:1; fill:none\" points=\"\n",
       "  1985.16,198.898 2280.03,198.898 2280.03,95.2176 1985.16,95.2176 1985.16,198.898 \n",
       "  \"/>\n",
       "<path clip-path=\"url(#clip590)\" d=\"\n",
       "M2009.41 167.794 L2154.87 167.794 L2154.87 126.322 L2009.41 126.322 L2009.41 167.794  Z\n",
       "  \" fill=\"#009af9\" fill-rule=\"evenodd\" fill-opacity=\"1\"/>\n",
       "<polyline clip-path=\"url(#clip590)\" style=\"stroke:#000000; stroke-linecap:butt; stroke-linejoin:round; stroke-width:4; stroke-opacity:1; fill:none\" points=\"\n",
       "  2009.41,167.794 2154.87,167.794 2154.87,126.322 2009.41,126.322 2009.41,167.794 \n",
       "  \"/>\n",
       "<path clip-path=\"url(#clip590)\" d=\"M2192.95 166.745 Q2191.15 171.375 2189.43 172.787 Q2187.72 174.199 2184.85 174.199 L2181.45 174.199 L2181.45 170.634 L2183.95 170.634 Q2185.71 170.634 2186.68 169.8 Q2187.65 168.967 2188.83 165.865 L2189.6 163.921 L2179.11 138.412 L2183.62 138.412 L2191.72 158.689 L2199.83 138.412 L2204.34 138.412 L2192.95 166.745 Z\" fill=\"#000000\" fill-rule=\"evenodd\" fill-opacity=\"1\" /><path clip-path=\"url(#clip590)\" d=\"M2211.63 160.402 L2219.27 160.402 L2219.27 134.037 L2210.96 135.703 L2210.96 131.444 L2219.22 129.778 L2223.9 129.778 L2223.9 160.402 L2231.54 160.402 L2231.54 164.338 L2211.63 164.338 L2211.63 160.402 Z\" fill=\"#000000\" fill-rule=\"evenodd\" fill-opacity=\"1\" /></svg>\n"
      ]
     },
     "metadata": {},
     "output_type": "display_data"
    }
   ],
   "source": [
    "histogram(w16[!, :Depression_adj])"
   ]
  },
  {
   "cell_type": "code",
   "execution_count": 166,
   "metadata": {},
   "outputs": [
    {
     "data": {
      "text/html": [
       "<div class=\"data-frame\"><p>1,178 rows × 25 columns (omitted printing of 9 columns)</p><table class=\"data-frame\"><thead><tr><th></th><th>PROLIFIC_PID</th><th>Gender</th><th>Education</th><th>Income</th><th>Political_Views</th><th>Age</th><th>Race</th><th>Depression</th><th>Stress</th><th>Anxiety</th><th>Fear_COVID</th><th>Emotional_Support</th><th>Loneliness</th><th>slope_new_cases</th><th>slope_new_deaths</th><th>GatheringStrictness</th></tr><tr><th></th><th title=\"String31\">String31</th><th title=\"Bool\">Bool</th><th title=\"Float64\">Float64</th><th title=\"Float64\">Float64</th><th title=\"Float64\">Float64</th><th title=\"Float64\">Float64</th><th title=\"Float64\">Float64</th><th title=\"Int64\">Int64</th><th title=\"Int64\">Int64</th><th title=\"Int64\">Int64</th><th title=\"Float64\">Float64</th><th title=\"Float64\">Float64</th><th title=\"Float64\">Float64</th><th title=\"Float64\">Float64</th><th title=\"Float64\">Float64</th><th title=\"Float64\">Float64</th></tr></thead><tbody><tr><th>1</th><td>5c7e91c1973c990016ea72b0</td><td>0</td><td>5.0</td><td>1.0</td><td>1.0</td><td>55.0</td><td>5.0</td><td>16</td><td>29</td><td>40</td><td>21.0</td><td>40.0</td><td>8.0</td><td>13.7143</td><td>2.28571</td><td>1.0</td></tr><tr><th>2</th><td>5e67052c757e6149c38ce468</td><td>1</td><td>1.0</td><td>1.0</td><td>4.0</td><td>23.0</td><td>7.0</td><td>51</td><td>22</td><td>71</td><td>14.0</td><td>9.0</td><td>25.0</td><td>13.7143</td><td>2.28571</td><td>1.0</td></tr><tr><th>3</th><td>5d89106d1719af0001ee23e5</td><td>0</td><td>2.0</td><td>1.0</td><td>6.0</td><td>47.0</td><td>5.0</td><td>0</td><td>6</td><td>29</td><td>0.0</td><td>40.0</td><td>5.0</td><td>13.7143</td><td>2.28571</td><td>1.0</td></tr><tr><th>4</th><td>5d6394518df2870001a74b42</td><td>0</td><td>2.0</td><td>1.0</td><td>1.0</td><td>23.0</td><td>5.0</td><td>53</td><td>35</td><td>48</td><td>17.0</td><td>40.0</td><td>13.0</td><td>13.7143</td><td>2.28571</td><td>1.0</td></tr><tr><th>5</th><td>5bdd368719b9ba000157fb12</td><td>0</td><td>3.0</td><td>1.0</td><td>4.0</td><td>28.0</td><td>5.0</td><td>8</td><td>3</td><td>33</td><td>12.0</td><td>40.0</td><td>5.0</td><td>13.7143</td><td>2.28571</td><td>1.0</td></tr><tr><th>6</th><td>5a8ce265000dab00018ce084</td><td>0</td><td>4.0</td><td>6.0</td><td>3.0</td><td>50.0</td><td>5.0</td><td>11</td><td>16</td><td>25</td><td>1.0</td><td>35.0</td><td>12.0</td><td>13.7143</td><td>2.28571</td><td>1.0</td></tr><tr><th>7</th><td>5c72efa770d5a200018028f1</td><td>1</td><td>5.0</td><td>2.0</td><td>3.0</td><td>71.0</td><td>5.0</td><td>1</td><td>3</td><td>25</td><td>13.0</td><td>39.0</td><td>5.0</td><td>13.7143</td><td>2.28571</td><td>1.0</td></tr><tr><th>8</th><td>5aea962d0ef2f20001858c9c</td><td>1</td><td>2.0</td><td>1.0</td><td>2.0</td><td>36.0</td><td>5.0</td><td>28</td><td>32</td><td>58</td><td>11.0</td><td>19.0</td><td>14.0</td><td>13.7143</td><td>2.28571</td><td>1.0</td></tr><tr><th>9</th><td>5e4b793f03c92a08a6d28e3f</td><td>1</td><td>2.0</td><td>1.0</td><td>4.0</td><td>21.0</td><td>2.0</td><td>22</td><td>20</td><td>49</td><td>5.0</td><td>16.0</td><td>15.0</td><td>13.7143</td><td>2.28571</td><td>1.0</td></tr><tr><th>10</th><td>5cbc071f2edc3b00018ab097</td><td>1</td><td>7.0</td><td>1.0</td><td>3.0</td><td>36.0</td><td>2.0</td><td>13</td><td>15</td><td>45</td><td>17.0</td><td>24.0</td><td>10.0</td><td>13.7143</td><td>2.28571</td><td>1.0</td></tr><tr><th>11</th><td>5c1b06d9a329230001ecc39c</td><td>1</td><td>2.0</td><td>1.0</td><td>2.0</td><td>25.0</td><td>3.0</td><td>3</td><td>14</td><td>39</td><td>9.0</td><td>17.0</td><td>10.0</td><td>13.7143</td><td>2.28571</td><td>1.0</td></tr><tr><th>12</th><td>5e576e085069e61204a85872</td><td>1</td><td>2.0</td><td>1.0</td><td>4.0</td><td>19.0</td><td>5.0</td><td>5</td><td>14</td><td>48</td><td>24.0</td><td>24.0</td><td>15.0</td><td>13.7143</td><td>2.28571</td><td>1.0</td></tr><tr><th>13</th><td>5dcf50f05686c1099819882a</td><td>1</td><td>6.0</td><td>3.0</td><td>1.0</td><td>66.0</td><td>5.0</td><td>25</td><td>20</td><td>46</td><td>17.0</td><td>32.0</td><td>13.0</td><td>13.7143</td><td>2.28571</td><td>1.0</td></tr><tr><th>14</th><td>5d2d8b999c6703001525304f</td><td>1</td><td>2.0</td><td>1.0</td><td>7.0</td><td>25.0</td><td>5.0</td><td>27</td><td>26</td><td>29</td><td>14.0</td><td>8.0</td><td>25.0</td><td>13.7143</td><td>2.28571</td><td>1.0</td></tr><tr><th>15</th><td>5de8bc74553cee8280a7dd84</td><td>1</td><td>5.0</td><td>1.0</td><td>2.0</td><td>22.0</td><td>5.0</td><td>1</td><td>12</td><td>37</td><td>3.0</td><td>29.0</td><td>14.0</td><td>13.7143</td><td>2.28571</td><td>1.0</td></tr><tr><th>16</th><td>5b6a87d2cda8590001db8e07</td><td>1</td><td>5.0</td><td>1.0</td><td>1.0</td><td>39.0</td><td>2.0</td><td>14</td><td>16</td><td>62</td><td>14.0</td><td>28.0</td><td>14.0</td><td>13.7143</td><td>2.28571</td><td>1.0</td></tr><tr><th>17</th><td>5e3dff6b8714b707b9a258b0</td><td>1</td><td>5.0</td><td>1.0</td><td>2.0</td><td>35.0</td><td>5.0</td><td>26</td><td>21</td><td>56</td><td>12.0</td><td>24.0</td><td>19.0</td><td>13.7143</td><td>2.28571</td><td>1.0</td></tr><tr><th>18</th><td>5b05e0d131cebe000177c38e</td><td>1</td><td>2.0</td><td>1.0</td><td>5.0</td><td>38.0</td><td>5.0</td><td>40</td><td>26</td><td>66</td><td>20.0</td><td>18.0</td><td>15.0</td><td>13.7143</td><td>2.28571</td><td>1.0</td></tr><tr><th>19</th><td>5d3b79a59d5c14000140c32f</td><td>0</td><td>5.0</td><td>1.0</td><td>2.0</td><td>46.0</td><td>6.0</td><td>5</td><td>13</td><td>36</td><td>10.0</td><td>27.0</td><td>7.0</td><td>13.7143</td><td>2.28571</td><td>1.0</td></tr><tr><th>20</th><td>5e53e22ea0002e3e73720f65</td><td>0</td><td>3.0</td><td>1.0</td><td>2.0</td><td>22.0</td><td>7.0</td><td>39</td><td>28</td><td>50</td><td>12.0</td><td>8.0</td><td>22.0</td><td>13.7143</td><td>2.28571</td><td>1.0</td></tr><tr><th>21</th><td>5e6fde86b3ea9e5bb33664e4</td><td>1</td><td>3.0</td><td>1.0</td><td>3.0</td><td>19.0</td><td>2.0</td><td>4</td><td>7</td><td>28</td><td>9.0</td><td>35.0</td><td>14.0</td><td>13.7143</td><td>2.28571</td><td>1.0</td></tr><tr><th>22</th><td>5e65dca1d639df34800674a8</td><td>0</td><td>2.0</td><td>1.0</td><td>2.0</td><td>19.0</td><td>2.0</td><td>5</td><td>12</td><td>34</td><td>16.0</td><td>40.0</td><td>10.0</td><td>13.7143</td><td>2.28571</td><td>1.0</td></tr><tr><th>23</th><td>5de0b69ba91be311cb773b0b</td><td>1</td><td>2.0</td><td>1.0</td><td>2.0</td><td>18.0</td><td>5.0</td><td>5</td><td>16</td><td>38</td><td>8.0</td><td>8.0</td><td>14.0</td><td>13.7143</td><td>2.28571</td><td>1.0</td></tr><tr><th>24</th><td>5e05b7747dd477fc2d2d2857</td><td>1</td><td>5.0</td><td>4.0</td><td>7.0</td><td>62.0</td><td>5.0</td><td>0</td><td>7</td><td>25</td><td>10.0</td><td>38.0</td><td>5.0</td><td>13.7143</td><td>2.28571</td><td>1.0</td></tr><tr><th>&vellip;</th><td>&vellip;</td><td>&vellip;</td><td>&vellip;</td><td>&vellip;</td><td>&vellip;</td><td>&vellip;</td><td>&vellip;</td><td>&vellip;</td><td>&vellip;</td><td>&vellip;</td><td>&vellip;</td><td>&vellip;</td><td>&vellip;</td><td>&vellip;</td><td>&vellip;</td><td>&vellip;</td></tr></tbody></table></div>"
      ],
      "text/latex": [
       "\\begin{tabular}{r|ccccccccccccccccc}\n",
       "\t& PROLIFIC\\_PID & Gender & Education & Income & Political\\_Views & Age & Race & Depression & Stress & Anxiety & Fear\\_COVID & Emotional\\_Support & Loneliness & slope\\_new\\_cases & slope\\_new\\_deaths & GatheringStrictness & \\\\\n",
       "\t\\hline\n",
       "\t& String31 & Bool & Float64 & Float64 & Float64 & Float64 & Float64 & Int64 & Int64 & Int64 & Float64 & Float64 & Float64 & Float64 & Float64 & Float64 & \\\\\n",
       "\t\\hline\n",
       "\t1 & 5c7e91c1973c990016ea72b0 & 0 & 5.0 & 1.0 & 1.0 & 55.0 & 5.0 & 16 & 29 & 40 & 21.0 & 40.0 & 8.0 & 13.7143 & 2.28571 & 1.0 & $\\dots$ \\\\\n",
       "\t2 & 5e67052c757e6149c38ce468 & 1 & 1.0 & 1.0 & 4.0 & 23.0 & 7.0 & 51 & 22 & 71 & 14.0 & 9.0 & 25.0 & 13.7143 & 2.28571 & 1.0 & $\\dots$ \\\\\n",
       "\t3 & 5d89106d1719af0001ee23e5 & 0 & 2.0 & 1.0 & 6.0 & 47.0 & 5.0 & 0 & 6 & 29 & 0.0 & 40.0 & 5.0 & 13.7143 & 2.28571 & 1.0 & $\\dots$ \\\\\n",
       "\t4 & 5d6394518df2870001a74b42 & 0 & 2.0 & 1.0 & 1.0 & 23.0 & 5.0 & 53 & 35 & 48 & 17.0 & 40.0 & 13.0 & 13.7143 & 2.28571 & 1.0 & $\\dots$ \\\\\n",
       "\t5 & 5bdd368719b9ba000157fb12 & 0 & 3.0 & 1.0 & 4.0 & 28.0 & 5.0 & 8 & 3 & 33 & 12.0 & 40.0 & 5.0 & 13.7143 & 2.28571 & 1.0 & $\\dots$ \\\\\n",
       "\t6 & 5a8ce265000dab00018ce084 & 0 & 4.0 & 6.0 & 3.0 & 50.0 & 5.0 & 11 & 16 & 25 & 1.0 & 35.0 & 12.0 & 13.7143 & 2.28571 & 1.0 & $\\dots$ \\\\\n",
       "\t7 & 5c72efa770d5a200018028f1 & 1 & 5.0 & 2.0 & 3.0 & 71.0 & 5.0 & 1 & 3 & 25 & 13.0 & 39.0 & 5.0 & 13.7143 & 2.28571 & 1.0 & $\\dots$ \\\\\n",
       "\t8 & 5aea962d0ef2f20001858c9c & 1 & 2.0 & 1.0 & 2.0 & 36.0 & 5.0 & 28 & 32 & 58 & 11.0 & 19.0 & 14.0 & 13.7143 & 2.28571 & 1.0 & $\\dots$ \\\\\n",
       "\t9 & 5e4b793f03c92a08a6d28e3f & 1 & 2.0 & 1.0 & 4.0 & 21.0 & 2.0 & 22 & 20 & 49 & 5.0 & 16.0 & 15.0 & 13.7143 & 2.28571 & 1.0 & $\\dots$ \\\\\n",
       "\t10 & 5cbc071f2edc3b00018ab097 & 1 & 7.0 & 1.0 & 3.0 & 36.0 & 2.0 & 13 & 15 & 45 & 17.0 & 24.0 & 10.0 & 13.7143 & 2.28571 & 1.0 & $\\dots$ \\\\\n",
       "\t11 & 5c1b06d9a329230001ecc39c & 1 & 2.0 & 1.0 & 2.0 & 25.0 & 3.0 & 3 & 14 & 39 & 9.0 & 17.0 & 10.0 & 13.7143 & 2.28571 & 1.0 & $\\dots$ \\\\\n",
       "\t12 & 5e576e085069e61204a85872 & 1 & 2.0 & 1.0 & 4.0 & 19.0 & 5.0 & 5 & 14 & 48 & 24.0 & 24.0 & 15.0 & 13.7143 & 2.28571 & 1.0 & $\\dots$ \\\\\n",
       "\t13 & 5dcf50f05686c1099819882a & 1 & 6.0 & 3.0 & 1.0 & 66.0 & 5.0 & 25 & 20 & 46 & 17.0 & 32.0 & 13.0 & 13.7143 & 2.28571 & 1.0 & $\\dots$ \\\\\n",
       "\t14 & 5d2d8b999c6703001525304f & 1 & 2.0 & 1.0 & 7.0 & 25.0 & 5.0 & 27 & 26 & 29 & 14.0 & 8.0 & 25.0 & 13.7143 & 2.28571 & 1.0 & $\\dots$ \\\\\n",
       "\t15 & 5de8bc74553cee8280a7dd84 & 1 & 5.0 & 1.0 & 2.0 & 22.0 & 5.0 & 1 & 12 & 37 & 3.0 & 29.0 & 14.0 & 13.7143 & 2.28571 & 1.0 & $\\dots$ \\\\\n",
       "\t16 & 5b6a87d2cda8590001db8e07 & 1 & 5.0 & 1.0 & 1.0 & 39.0 & 2.0 & 14 & 16 & 62 & 14.0 & 28.0 & 14.0 & 13.7143 & 2.28571 & 1.0 & $\\dots$ \\\\\n",
       "\t17 & 5e3dff6b8714b707b9a258b0 & 1 & 5.0 & 1.0 & 2.0 & 35.0 & 5.0 & 26 & 21 & 56 & 12.0 & 24.0 & 19.0 & 13.7143 & 2.28571 & 1.0 & $\\dots$ \\\\\n",
       "\t18 & 5b05e0d131cebe000177c38e & 1 & 2.0 & 1.0 & 5.0 & 38.0 & 5.0 & 40 & 26 & 66 & 20.0 & 18.0 & 15.0 & 13.7143 & 2.28571 & 1.0 & $\\dots$ \\\\\n",
       "\t19 & 5d3b79a59d5c14000140c32f & 0 & 5.0 & 1.0 & 2.0 & 46.0 & 6.0 & 5 & 13 & 36 & 10.0 & 27.0 & 7.0 & 13.7143 & 2.28571 & 1.0 & $\\dots$ \\\\\n",
       "\t20 & 5e53e22ea0002e3e73720f65 & 0 & 3.0 & 1.0 & 2.0 & 22.0 & 7.0 & 39 & 28 & 50 & 12.0 & 8.0 & 22.0 & 13.7143 & 2.28571 & 1.0 & $\\dots$ \\\\\n",
       "\t21 & 5e6fde86b3ea9e5bb33664e4 & 1 & 3.0 & 1.0 & 3.0 & 19.0 & 2.0 & 4 & 7 & 28 & 9.0 & 35.0 & 14.0 & 13.7143 & 2.28571 & 1.0 & $\\dots$ \\\\\n",
       "\t22 & 5e65dca1d639df34800674a8 & 0 & 2.0 & 1.0 & 2.0 & 19.0 & 2.0 & 5 & 12 & 34 & 16.0 & 40.0 & 10.0 & 13.7143 & 2.28571 & 1.0 & $\\dots$ \\\\\n",
       "\t23 & 5de0b69ba91be311cb773b0b & 1 & 2.0 & 1.0 & 2.0 & 18.0 & 5.0 & 5 & 16 & 38 & 8.0 & 8.0 & 14.0 & 13.7143 & 2.28571 & 1.0 & $\\dots$ \\\\\n",
       "\t24 & 5e05b7747dd477fc2d2d2857 & 1 & 5.0 & 4.0 & 7.0 & 62.0 & 5.0 & 0 & 7 & 25 & 10.0 & 38.0 & 5.0 & 13.7143 & 2.28571 & 1.0 & $\\dots$ \\\\\n",
       "\t$\\dots$ & $\\dots$ & $\\dots$ & $\\dots$ & $\\dots$ & $\\dots$ & $\\dots$ & $\\dots$ & $\\dots$ & $\\dots$ & $\\dots$ & $\\dots$ & $\\dots$ & $\\dots$ & $\\dots$ & $\\dots$ & $\\dots$ &  \\\\\n",
       "\\end{tabular}\n"
      ],
      "text/plain": [
       "\u001b[1m1178×25 DataFrame\u001b[0m\n",
       "\u001b[1m  Row \u001b[0m│\u001b[1m PROLIFIC_PID             \u001b[0m\u001b[1m Gender \u001b[0m\u001b[1m Education \u001b[0m\u001b[1m Income  \u001b[0m\u001b[1m Political_Views \u001b[0m\u001b[1m Age     \u001b[0m\u001b[1m Race    \u001b[0m\u001b[1m Depression \u001b[0m\u001b[1m Stress \u001b[0m\u001b[1m Anxiety \u001b[0m\u001b[1m Fear_COVID \u001b[0m\u001b[1m Emotional_Support \u001b[0m\u001b[1m Loneliness \u001b[0m\u001b[1m slope_new_cases \u001b[0m\u001b[1m slope_new_de\u001b[0m ⋯\n",
       "\u001b[1m      \u001b[0m│\u001b[90m String31                 \u001b[0m\u001b[90m Bool   \u001b[0m\u001b[90m Float64   \u001b[0m\u001b[90m Float64 \u001b[0m\u001b[90m Float64         \u001b[0m\u001b[90m Float64 \u001b[0m\u001b[90m Float64 \u001b[0m\u001b[90m Int64      \u001b[0m\u001b[90m Int64  \u001b[0m\u001b[90m Int64   \u001b[0m\u001b[90m Float64    \u001b[0m\u001b[90m Float64           \u001b[0m\u001b[90m Float64    \u001b[0m\u001b[90m Float64         \u001b[0m\u001b[90m Float64     \u001b[0m ⋯\n",
       "──────┼─────────────────────────────────────────────────────────────────────────────────────────────────────────────────────────────────────────────────────────────────────────────────────────────────\n",
       "    1 │ 5c7e91c1973c990016ea72b0   false        5.0      1.0              1.0     55.0      5.0          16      29       40        21.0               40.0         8.0        13.7143             2.2 ⋯\n",
       "    2 │ 5e67052c757e6149c38ce468    true        1.0      1.0              4.0     23.0      7.0          51      22       71        14.0                9.0        25.0        13.7143             2.2\n",
       "    3 │ 5d89106d1719af0001ee23e5   false        2.0      1.0              6.0     47.0      5.0           0       6       29         0.0               40.0         5.0        13.7143             2.2\n",
       "    4 │ 5d6394518df2870001a74b42   false        2.0      1.0              1.0     23.0      5.0          53      35       48        17.0               40.0        13.0        13.7143             2.2\n",
       "    5 │ 5bdd368719b9ba000157fb12   false        3.0      1.0              4.0     28.0      5.0           8       3       33        12.0               40.0         5.0        13.7143             2.2 ⋯\n",
       "    6 │ 5a8ce265000dab00018ce084   false        4.0      6.0              3.0     50.0      5.0          11      16       25         1.0               35.0        12.0        13.7143             2.2\n",
       "    7 │ 5c72efa770d5a200018028f1    true        5.0      2.0              3.0     71.0      5.0           1       3       25        13.0               39.0         5.0        13.7143             2.2\n",
       "    8 │ 5aea962d0ef2f20001858c9c    true        2.0      1.0              2.0     36.0      5.0          28      32       58        11.0               19.0        14.0        13.7143             2.2\n",
       "  ⋮   │            ⋮                ⋮         ⋮         ⋮            ⋮            ⋮        ⋮         ⋮         ⋮        ⋮         ⋮               ⋮              ⋮              ⋮                ⋮     ⋱\n",
       " 1172 │ 5cad4750f4115800176d506e   false        4.0      3.0              3.0     40.0      5.0          16      18       46        14.0               24.0         9.0         0.142857           0.0 ⋯\n",
       " 1173 │ 5be8846293ca1f00014db03c   false        5.0      3.0              5.0     53.0      5.0           5      13       37        11.0               30.0        12.0         0.142857           0.0\n",
       " 1174 │ 5dbd1569f8223b28d73ed6ae   false        3.0      1.0              2.0     65.0      5.0           5      15       35         9.0               35.0         9.0         0.142857           0.0\n",
       " 1175 │ 5e217a34e8ff3a469b5dfebc   false        3.0      1.0              3.0     22.0      1.0          21      17       58        28.0               16.0        10.0         0.142857           0.0\n",
       " 1176 │ 5d63867550d0dd0017805976    true        3.0      3.0              1.0     36.0      5.0          21      21       48        17.0               39.0         9.0        -5.57143            0.0 ⋯\n",
       " 1177 │ 5e6155e6f169c0046b6d6518    true        7.0      2.0              2.0     28.0      5.0           4      10       31         5.0               40.0         8.0        -2.14286            0.0\n",
       " 1178 │ 58cefdb030c4cf0001ceb3ac   false        5.0      4.0              2.0     64.0      5.0           0       5       30        18.0               32.0         6.0         5.71429            0.0\n",
       "\u001b[36m                                                                                                                                                                        11 columns and 1163 rows omitted\u001b[0m"
      ]
     },
     "metadata": {},
     "output_type": "display_data"
    }
   ],
   "source": [
    "w1 = CSV.read(\"../output/v2/w1.csv\", DataFrame)\n",
    "w6 = CSV.read(\"../output/v2/w6.csv\", DataFrame)"
   ]
  },
  {
   "cell_type": "code",
   "execution_count": 167,
   "metadata": {},
   "outputs": [
    {
     "data": {
      "text/plain": [
       "\"Depression\""
      ]
     },
     "metadata": {},
     "output_type": "display_data"
    }
   ],
   "source": [
    "adjustments = [\"Income\", \"Gender\", \"Age\", \"Education\", \"Race_AA\", \"Race_W\"]\n",
    "square_terms = [\"Income\", \"Age\", \"Education\"]\n",
    "treatment = \"low_quality\"\n",
    "target = \"Depression\""
   ]
  },
  {
   "cell_type": "code",
   "execution_count": 168,
   "metadata": {},
   "outputs": [
    {
     "data": {
      "text/plain": [
       "1178-element BitVector:\n",
       " 0\n",
       " 0\n",
       " 0\n",
       " 0\n",
       " 0\n",
       " 0\n",
       " 0\n",
       " 0\n",
       " 0\n",
       " 0\n",
       " ⋮\n",
       " 0\n",
       " 0\n",
       " 0\n",
       " 0\n",
       " 0\n",
       " 0\n",
       " 0\n",
       " 0\n",
       " 0"
      ]
     },
     "metadata": {},
     "output_type": "display_data"
    }
   ],
   "source": [
    "w6[:, :low_quality] = sum.(eachrow(w6[!, QUALITY_OUTPUT_NAME])) .>= 1"
   ]
  },
  {
   "cell_type": "code",
   "execution_count": 169,
   "metadata": {},
   "outputs": [
    {
     "data": {
      "text/plain": [
       "1178-element BitVector:\n",
       " 0\n",
       " 0\n",
       " 0\n",
       " 0\n",
       " 0\n",
       " 0\n",
       " 0\n",
       " 0\n",
       " 0\n",
       " 0\n",
       " ⋮\n",
       " 0\n",
       " 0\n",
       " 0\n",
       " 0\n",
       " 0\n",
       " 0\n",
       " 0\n",
       " 0\n",
       " 0"
      ]
     },
     "metadata": {},
     "output_type": "display_data"
    }
   ],
   "source": [
    "w6[!, :low_quality]"
   ]
  },
  {
   "cell_type": "code",
   "execution_count": 170,
   "metadata": {},
   "outputs": [
    {
     "data": {
      "text/plain": [
       "StatsModels.TableRegressionModel{GLM.GeneralizedLinearModel{GLM.GlmResp{Vector{Float64}, Distributions.Binomial{Float64}, GLM.ProbitLink}, GLM.DensePredChol{Float64, LinearAlgebra.Cholesky{Float64, Matrix{Float64}}}}, Matrix{Float64}}\n",
       "\n",
       "low_quality ~ 1 + Income + Gender + Age + Education + Race_AA + Race_W + Income^2 + Age^2 + Education^2\n",
       "\n",
       "Coefficients:\n",
       "───────────────────────────────────────────────────────────────────────────────────\n",
       "                    Coef.    Std. Error      z  Pr(>|z|)     Lower 95%    Upper 95%\n",
       "───────────────────────────────────────────────────────────────────────────────────\n",
       "(Intercept)  -2.65234       1.34173      -1.98    0.0481   -5.28207     -0.0225998\n",
       "Income       -0.199988      0.286802     -0.70    0.4856   -0.762109     0.362133\n",
       "Gender       -0.0875126     0.240528     -0.36    0.7160   -0.558938     0.383913\n",
       "Age           0.042778      0.0717598     0.60    0.5511   -0.0978686    0.183425\n",
       "Education     0.0394582     0.361571      0.11    0.9131   -0.669208     0.748124\n",
       "Race_AA      -2.77557      24.1404       -0.11    0.9085  -50.0899      44.5388\n",
       "Race_W        0.145681      0.311554      0.47    0.6401   -0.464954     0.756316\n",
       "Income^2      0.0417429     0.0401876     1.04    0.2989   -0.0370234    0.120509\n",
       "Age^2        -0.000750088   0.000938088  -0.80    0.4239   -0.00258871   0.00108853\n",
       "Education^2  -0.0127412     0.039703     -0.32    0.7483   -0.0905576    0.0650753\n",
       "───────────────────────────────────────────────────────────────────────────────────"
      ]
     },
     "metadata": {},
     "output_type": "display_data"
    }
   ],
   "source": [
    "fit = cal_ipw(w6, adjustments, square_terms, treatment)"
   ]
  },
  {
   "cell_type": "code",
   "execution_count": 171,
   "metadata": {},
   "outputs": [
    {
     "data": {
      "text/plain": [
       "1178-element BitVector:\n",
       " 0\n",
       " 0\n",
       " 0\n",
       " 0\n",
       " 0\n",
       " 0\n",
       " 0\n",
       " 0\n",
       " 0\n",
       " 0\n",
       " ⋮\n",
       " 0\n",
       " 0\n",
       " 0\n",
       " 0\n",
       " 0\n",
       " 0\n",
       " 0\n",
       " 0\n",
       " 0"
      ]
     },
     "metadata": {},
     "output_type": "display_data"
    }
   ],
   "source": [
    "w6[!, :low_quality]"
   ]
  },
  {
   "cell_type": "code",
   "execution_count": 172,
   "metadata": {},
   "outputs": [
    {
     "data": {
      "text/html": [
       "<div class=\"data-frame\"><p>1,797 rows × 54 columns (omitted printing of 40 columns)</p><table class=\"data-frame\"><thead><tr><th></th><th>PROLIFIC_PID</th><th>Gender_w1</th><th>Education_w1</th><th>Income_w1</th><th>Political_Views_w1</th><th>Age_w1</th><th>Race_w1</th><th>Depression_w1</th><th>Stress_w1</th><th>Anxiety_w1</th><th>Fear_COVID_w1</th><th>Emotional_Support_w1</th><th>Loneliness_w1</th><th>slope_new_cases_w1</th></tr><tr><th></th><th title=\"String31\">String31</th><th title=\"Union{Missing, Bool}\">Bool?</th><th title=\"Union{Missing, Float64}\">Float64?</th><th title=\"Union{Missing, Float64}\">Float64?</th><th title=\"Union{Missing, Float64}\">Float64?</th><th title=\"Union{Missing, Float64}\">Float64?</th><th title=\"Union{Missing, Float64}\">Float64?</th><th title=\"Missing\">Missing</th><th title=\"Missing\">Missing</th><th title=\"Union{Missing, Int64}\">Int64?</th><th title=\"Union{Missing, Float64}\">Float64?</th><th title=\"Union{Missing, Float64}\">Float64?</th><th title=\"Union{Missing, Float64}\">Float64?</th><th title=\"Union{Missing, Float64}\">Float64?</th></tr></thead><tbody><tr><th>1</th><td>5c7e91c1973c990016ea72b0</td><td>0</td><td>5.0</td><td>3.0</td><td>1.0</td><td>55.0</td><td>5.0</td><td><em>missing</em></td><td><em>missing</em></td><td>69</td><td>24.0</td><td>30.0</td><td>10.0</td><td>82.2857</td></tr><tr><th>2</th><td>5e67052c757e6149c38ce468</td><td>1</td><td>1.0</td><td>1.0</td><td>4.0</td><td>23.0</td><td>7.0</td><td><em>missing</em></td><td><em>missing</em></td><td>57</td><td>18.0</td><td>14.0</td><td>25.0</td><td>82.2857</td></tr><tr><th>3</th><td>5d89106d1719af0001ee23e5</td><td>0</td><td>2.0</td><td>1.0</td><td>6.0</td><td>47.0</td><td>5.0</td><td><em>missing</em></td><td><em>missing</em></td><td>27</td><td>8.0</td><td>40.0</td><td>5.0</td><td>82.2857</td></tr><tr><th>4</th><td>5d6394518df2870001a74b42</td><td>0</td><td>2.0</td><td>1.0</td><td>1.0</td><td>23.0</td><td>5.0</td><td><em>missing</em></td><td><em>missing</em></td><td>42</td><td>23.0</td><td>40.0</td><td>16.0</td><td>82.2857</td></tr><tr><th>5</th><td>5bdd368719b9ba000157fb12</td><td>0</td><td>3.0</td><td>4.0</td><td>4.0</td><td>28.0</td><td>5.0</td><td><em>missing</em></td><td><em>missing</em></td><td>29</td><td>10.0</td><td>40.0</td><td>5.0</td><td>82.2857</td></tr><tr><th>6</th><td>5a8ce265000dab00018ce084</td><td>0</td><td>4.0</td><td>6.0</td><td>3.0</td><td>50.0</td><td>5.0</td><td><em>missing</em></td><td><em>missing</em></td><td>37</td><td>6.0</td><td>34.0</td><td>7.0</td><td>82.2857</td></tr><tr><th>7</th><td>5c72efa770d5a200018028f1</td><td>1</td><td>5.0</td><td>2.0</td><td>3.0</td><td>71.0</td><td>5.0</td><td><em>missing</em></td><td><em>missing</em></td><td>27</td><td>9.0</td><td>39.0</td><td>5.0</td><td>82.2857</td></tr><tr><th>8</th><td>5aea962d0ef2f20001858c9c</td><td>1</td><td>2.0</td><td>1.0</td><td>2.0</td><td>36.0</td><td>5.0</td><td><em>missing</em></td><td><em>missing</em></td><td>59</td><td>17.0</td><td>17.0</td><td>16.0</td><td>82.2857</td></tr><tr><th>9</th><td>5e4b793f03c92a08a6d28e3f</td><td>1</td><td>2.0</td><td>7.0</td><td>4.0</td><td>21.0</td><td>2.0</td><td><em>missing</em></td><td><em>missing</em></td><td>42</td><td>4.0</td><td>18.0</td><td>11.0</td><td>82.2857</td></tr><tr><th>10</th><td>5cbc071f2edc3b00018ab097</td><td>1</td><td>7.0</td><td>1.0</td><td>3.0</td><td>36.0</td><td>2.0</td><td><em>missing</em></td><td><em>missing</em></td><td>43</td><td>13.0</td><td>28.0</td><td>8.0</td><td>82.2857</td></tr><tr><th>11</th><td>5c1b06d9a329230001ecc39c</td><td>1</td><td>2.0</td><td>1.0</td><td>2.0</td><td>25.0</td><td>3.0</td><td><em>missing</em></td><td><em>missing</em></td><td>42</td><td>10.0</td><td>18.0</td><td>8.0</td><td>82.2857</td></tr><tr><th>12</th><td>5e576e085069e61204a85872</td><td>1</td><td>2.0</td><td>7.0</td><td>4.0</td><td>19.0</td><td>5.0</td><td><em>missing</em></td><td><em>missing</em></td><td>44</td><td>19.0</td><td>32.0</td><td>19.0</td><td>82.2857</td></tr><tr><th>13</th><td>5dcf50f05686c1099819882a</td><td>1</td><td>6.0</td><td>3.0</td><td>1.0</td><td>66.0</td><td>5.0</td><td><em>missing</em></td><td><em>missing</em></td><td>41</td><td>19.0</td><td>32.0</td><td>17.0</td><td>82.2857</td></tr><tr><th>14</th><td>5d2d8b999c6703001525304f</td><td>1</td><td>2.0</td><td>1.0</td><td>7.0</td><td>25.0</td><td>5.0</td><td><em>missing</em></td><td><em>missing</em></td><td>47</td><td>12.0</td><td>8.0</td><td>25.0</td><td>82.2857</td></tr><tr><th>15</th><td>5de8bc74553cee8280a7dd84</td><td>1</td><td>5.0</td><td>1.0</td><td>2.0</td><td>22.0</td><td>5.0</td><td><em>missing</em></td><td><em>missing</em></td><td>36</td><td>8.0</td><td>27.0</td><td>13.0</td><td>82.2857</td></tr><tr><th>16</th><td>5b6a87d2cda8590001db8e07</td><td>1</td><td>5.0</td><td>1.0</td><td>1.0</td><td>39.0</td><td>2.0</td><td><em>missing</em></td><td><em>missing</em></td><td>63</td><td>13.0</td><td>28.0</td><td>14.0</td><td>82.2857</td></tr><tr><th>17</th><td>5e3dff6b8714b707b9a258b0</td><td>1</td><td>5.0</td><td>1.0</td><td>2.0</td><td>35.0</td><td>5.0</td><td><em>missing</em></td><td><em>missing</em></td><td>57</td><td>11.0</td><td>24.0</td><td>20.0</td><td>82.2857</td></tr><tr><th>18</th><td>5b05e0d131cebe000177c38e</td><td>1</td><td>2.0</td><td>1.0</td><td>5.0</td><td>38.0</td><td>5.0</td><td><em>missing</em></td><td><em>missing</em></td><td>68</td><td>20.0</td><td>23.0</td><td>15.0</td><td>82.2857</td></tr><tr><th>19</th><td>5d3b79a59d5c14000140c32f</td><td>0</td><td>5.0</td><td>4.0</td><td>2.0</td><td>46.0</td><td>6.0</td><td><em>missing</em></td><td><em>missing</em></td><td>44</td><td>8.0</td><td>32.0</td><td>6.0</td><td>82.2857</td></tr><tr><th>20</th><td>5e53e22ea0002e3e73720f65</td><td>0</td><td>3.0</td><td>2.0</td><td>1.0</td><td>22.0</td><td>7.0</td><td><em>missing</em></td><td><em>missing</em></td><td>43</td><td>11.0</td><td>14.0</td><td>25.0</td><td>82.2857</td></tr><tr><th>21</th><td>5e6fde86b3ea9e5bb33664e4</td><td>1</td><td>3.0</td><td>1.0</td><td>3.0</td><td>19.0</td><td>2.0</td><td><em>missing</em></td><td><em>missing</em></td><td>35</td><td>7.0</td><td>31.0</td><td>16.0</td><td>82.2857</td></tr><tr><th>22</th><td>5e65dca1d639df34800674a8</td><td>0</td><td>2.0</td><td>7.0</td><td>2.0</td><td>19.0</td><td>2.0</td><td><em>missing</em></td><td><em>missing</em></td><td>41</td><td>14.0</td><td>32.0</td><td>15.0</td><td>82.2857</td></tr><tr><th>23</th><td>5de0b69ba91be311cb773b0b</td><td>1</td><td>2.0</td><td>1.0</td><td>2.0</td><td>18.0</td><td>5.0</td><td><em>missing</em></td><td><em>missing</em></td><td>42</td><td>9.0</td><td>8.0</td><td>13.0</td><td>82.2857</td></tr><tr><th>24</th><td>5e05b7747dd477fc2d2d2857</td><td>1</td><td>5.0</td><td>3.0</td><td>7.0</td><td>62.0</td><td>5.0</td><td><em>missing</em></td><td><em>missing</em></td><td>30</td><td>9.0</td><td>38.0</td><td>6.0</td><td>82.2857</td></tr><tr><th>&vellip;</th><td>&vellip;</td><td>&vellip;</td><td>&vellip;</td><td>&vellip;</td><td>&vellip;</td><td>&vellip;</td><td>&vellip;</td><td>&vellip;</td><td>&vellip;</td><td>&vellip;</td><td>&vellip;</td><td>&vellip;</td><td>&vellip;</td><td>&vellip;</td></tr></tbody></table></div>"
      ],
      "text/latex": [
       "\\begin{tabular}{r|ccccccccccccccc}\n",
       "\t& PROLIFIC\\_PID & Gender\\_w1 & Education\\_w1 & Income\\_w1 & Political\\_Views\\_w1 & Age\\_w1 & Race\\_w1 & Depression\\_w1 & Stress\\_w1 & Anxiety\\_w1 & Fear\\_COVID\\_w1 & Emotional\\_Support\\_w1 & Loneliness\\_w1 & slope\\_new\\_cases\\_w1 & \\\\\n",
       "\t\\hline\n",
       "\t& String31 & Bool? & Float64? & Float64? & Float64? & Float64? & Float64? & Missing & Missing & Int64? & Float64? & Float64? & Float64? & Float64? & \\\\\n",
       "\t\\hline\n",
       "\t1 & 5c7e91c1973c990016ea72b0 & 0 & 5.0 & 3.0 & 1.0 & 55.0 & 5.0 & \\emph{missing} & \\emph{missing} & 69 & 24.0 & 30.0 & 10.0 & 82.2857 & $\\dots$ \\\\\n",
       "\t2 & 5e67052c757e6149c38ce468 & 1 & 1.0 & 1.0 & 4.0 & 23.0 & 7.0 & \\emph{missing} & \\emph{missing} & 57 & 18.0 & 14.0 & 25.0 & 82.2857 & $\\dots$ \\\\\n",
       "\t3 & 5d89106d1719af0001ee23e5 & 0 & 2.0 & 1.0 & 6.0 & 47.0 & 5.0 & \\emph{missing} & \\emph{missing} & 27 & 8.0 & 40.0 & 5.0 & 82.2857 & $\\dots$ \\\\\n",
       "\t4 & 5d6394518df2870001a74b42 & 0 & 2.0 & 1.0 & 1.0 & 23.0 & 5.0 & \\emph{missing} & \\emph{missing} & 42 & 23.0 & 40.0 & 16.0 & 82.2857 & $\\dots$ \\\\\n",
       "\t5 & 5bdd368719b9ba000157fb12 & 0 & 3.0 & 4.0 & 4.0 & 28.0 & 5.0 & \\emph{missing} & \\emph{missing} & 29 & 10.0 & 40.0 & 5.0 & 82.2857 & $\\dots$ \\\\\n",
       "\t6 & 5a8ce265000dab00018ce084 & 0 & 4.0 & 6.0 & 3.0 & 50.0 & 5.0 & \\emph{missing} & \\emph{missing} & 37 & 6.0 & 34.0 & 7.0 & 82.2857 & $\\dots$ \\\\\n",
       "\t7 & 5c72efa770d5a200018028f1 & 1 & 5.0 & 2.0 & 3.0 & 71.0 & 5.0 & \\emph{missing} & \\emph{missing} & 27 & 9.0 & 39.0 & 5.0 & 82.2857 & $\\dots$ \\\\\n",
       "\t8 & 5aea962d0ef2f20001858c9c & 1 & 2.0 & 1.0 & 2.0 & 36.0 & 5.0 & \\emph{missing} & \\emph{missing} & 59 & 17.0 & 17.0 & 16.0 & 82.2857 & $\\dots$ \\\\\n",
       "\t9 & 5e4b793f03c92a08a6d28e3f & 1 & 2.0 & 7.0 & 4.0 & 21.0 & 2.0 & \\emph{missing} & \\emph{missing} & 42 & 4.0 & 18.0 & 11.0 & 82.2857 & $\\dots$ \\\\\n",
       "\t10 & 5cbc071f2edc3b00018ab097 & 1 & 7.0 & 1.0 & 3.0 & 36.0 & 2.0 & \\emph{missing} & \\emph{missing} & 43 & 13.0 & 28.0 & 8.0 & 82.2857 & $\\dots$ \\\\\n",
       "\t11 & 5c1b06d9a329230001ecc39c & 1 & 2.0 & 1.0 & 2.0 & 25.0 & 3.0 & \\emph{missing} & \\emph{missing} & 42 & 10.0 & 18.0 & 8.0 & 82.2857 & $\\dots$ \\\\\n",
       "\t12 & 5e576e085069e61204a85872 & 1 & 2.0 & 7.0 & 4.0 & 19.0 & 5.0 & \\emph{missing} & \\emph{missing} & 44 & 19.0 & 32.0 & 19.0 & 82.2857 & $\\dots$ \\\\\n",
       "\t13 & 5dcf50f05686c1099819882a & 1 & 6.0 & 3.0 & 1.0 & 66.0 & 5.0 & \\emph{missing} & \\emph{missing} & 41 & 19.0 & 32.0 & 17.0 & 82.2857 & $\\dots$ \\\\\n",
       "\t14 & 5d2d8b999c6703001525304f & 1 & 2.0 & 1.0 & 7.0 & 25.0 & 5.0 & \\emph{missing} & \\emph{missing} & 47 & 12.0 & 8.0 & 25.0 & 82.2857 & $\\dots$ \\\\\n",
       "\t15 & 5de8bc74553cee8280a7dd84 & 1 & 5.0 & 1.0 & 2.0 & 22.0 & 5.0 & \\emph{missing} & \\emph{missing} & 36 & 8.0 & 27.0 & 13.0 & 82.2857 & $\\dots$ \\\\\n",
       "\t16 & 5b6a87d2cda8590001db8e07 & 1 & 5.0 & 1.0 & 1.0 & 39.0 & 2.0 & \\emph{missing} & \\emph{missing} & 63 & 13.0 & 28.0 & 14.0 & 82.2857 & $\\dots$ \\\\\n",
       "\t17 & 5e3dff6b8714b707b9a258b0 & 1 & 5.0 & 1.0 & 2.0 & 35.0 & 5.0 & \\emph{missing} & \\emph{missing} & 57 & 11.0 & 24.0 & 20.0 & 82.2857 & $\\dots$ \\\\\n",
       "\t18 & 5b05e0d131cebe000177c38e & 1 & 2.0 & 1.0 & 5.0 & 38.0 & 5.0 & \\emph{missing} & \\emph{missing} & 68 & 20.0 & 23.0 & 15.0 & 82.2857 & $\\dots$ \\\\\n",
       "\t19 & 5d3b79a59d5c14000140c32f & 0 & 5.0 & 4.0 & 2.0 & 46.0 & 6.0 & \\emph{missing} & \\emph{missing} & 44 & 8.0 & 32.0 & 6.0 & 82.2857 & $\\dots$ \\\\\n",
       "\t20 & 5e53e22ea0002e3e73720f65 & 0 & 3.0 & 2.0 & 1.0 & 22.0 & 7.0 & \\emph{missing} & \\emph{missing} & 43 & 11.0 & 14.0 & 25.0 & 82.2857 & $\\dots$ \\\\\n",
       "\t21 & 5e6fde86b3ea9e5bb33664e4 & 1 & 3.0 & 1.0 & 3.0 & 19.0 & 2.0 & \\emph{missing} & \\emph{missing} & 35 & 7.0 & 31.0 & 16.0 & 82.2857 & $\\dots$ \\\\\n",
       "\t22 & 5e65dca1d639df34800674a8 & 0 & 2.0 & 7.0 & 2.0 & 19.0 & 2.0 & \\emph{missing} & \\emph{missing} & 41 & 14.0 & 32.0 & 15.0 & 82.2857 & $\\dots$ \\\\\n",
       "\t23 & 5de0b69ba91be311cb773b0b & 1 & 2.0 & 1.0 & 2.0 & 18.0 & 5.0 & \\emph{missing} & \\emph{missing} & 42 & 9.0 & 8.0 & 13.0 & 82.2857 & $\\dots$ \\\\\n",
       "\t24 & 5e05b7747dd477fc2d2d2857 & 1 & 5.0 & 3.0 & 7.0 & 62.0 & 5.0 & \\emph{missing} & \\emph{missing} & 30 & 9.0 & 38.0 & 6.0 & 82.2857 & $\\dots$ \\\\\n",
       "\t$\\dots$ & $\\dots$ & $\\dots$ & $\\dots$ & $\\dots$ & $\\dots$ & $\\dots$ & $\\dots$ & $\\dots$ & $\\dots$ & $\\dots$ & $\\dots$ & $\\dots$ & $\\dots$ & $\\dots$ &  \\\\\n",
       "\\end{tabular}\n"
      ],
      "text/plain": [
       "\u001b[1m1797×54 DataFrame\u001b[0m\n",
       "\u001b[1m  Row \u001b[0m│\u001b[1m PROLIFIC_PID             \u001b[0m\u001b[1m Gender_w1 \u001b[0m\u001b[1m Education_w1 \u001b[0m\u001b[1m Income_w1 \u001b[0m\u001b[1m Political_Views_w1 \u001b[0m\u001b[1m Age_w1   \u001b[0m\u001b[1m Race_w1  \u001b[0m\u001b[1m Depression_w1 \u001b[0m\u001b[1m Stress_w1 \u001b[0m\u001b[1m Anxiety_w1 \u001b[0m\u001b[1m Fear_COVID_w1 \u001b[0m\u001b[1m Emotional_Support_w1 \u001b[0m\u001b[1m Loneliness_w1\u001b[0m ⋯\n",
       "\u001b[1m      \u001b[0m│\u001b[90m String31                 \u001b[0m\u001b[90m Bool?     \u001b[0m\u001b[90m Float64?     \u001b[0m\u001b[90m Float64?  \u001b[0m\u001b[90m Float64?           \u001b[0m\u001b[90m Float64? \u001b[0m\u001b[90m Float64? \u001b[0m\u001b[90m Missing       \u001b[0m\u001b[90m Missing   \u001b[0m\u001b[90m Int64?     \u001b[0m\u001b[90m Float64?      \u001b[0m\u001b[90m Float64?             \u001b[0m\u001b[90m Float64?     \u001b[0m ⋯\n",
       "──────┼─────────────────────────────────────────────────────────────────────────────────────────────────────────────────────────────────────────────────────────────────────────────────────────────────\n",
       "    1 │ 5c7e91c1973c990016ea72b0      false           5.0        3.0                 1.0      55.0       5.0 \u001b[90m       missing \u001b[0m\u001b[90m   missing \u001b[0m         69           24.0                  30.0           10.0 ⋯\n",
       "    2 │ 5e67052c757e6149c38ce468       true           1.0        1.0                 4.0      23.0       7.0 \u001b[90m       missing \u001b[0m\u001b[90m   missing \u001b[0m         57           18.0                  14.0           25.0\n",
       "    3 │ 5d89106d1719af0001ee23e5      false           2.0        1.0                 6.0      47.0       5.0 \u001b[90m       missing \u001b[0m\u001b[90m   missing \u001b[0m         27            8.0                  40.0            5.0\n",
       "    4 │ 5d6394518df2870001a74b42      false           2.0        1.0                 1.0      23.0       5.0 \u001b[90m       missing \u001b[0m\u001b[90m   missing \u001b[0m         42           23.0                  40.0           16.0\n",
       "    5 │ 5bdd368719b9ba000157fb12      false           3.0        4.0                 4.0      28.0       5.0 \u001b[90m       missing \u001b[0m\u001b[90m   missing \u001b[0m         29           10.0                  40.0            5.0 ⋯\n",
       "    6 │ 5a8ce265000dab00018ce084      false           4.0        6.0                 3.0      50.0       5.0 \u001b[90m       missing \u001b[0m\u001b[90m   missing \u001b[0m         37            6.0                  34.0            7.0\n",
       "    7 │ 5c72efa770d5a200018028f1       true           5.0        2.0                 3.0      71.0       5.0 \u001b[90m       missing \u001b[0m\u001b[90m   missing \u001b[0m         27            9.0                  39.0            5.0\n",
       "    8 │ 5aea962d0ef2f20001858c9c       true           2.0        1.0                 2.0      36.0       5.0 \u001b[90m       missing \u001b[0m\u001b[90m   missing \u001b[0m         59           17.0                  17.0           16.0\n",
       "  ⋮   │            ⋮                  ⋮           ⋮            ⋮              ⋮              ⋮         ⋮            ⋮            ⋮          ⋮             ⋮                 ⋮                  ⋮       ⋱\n",
       " 1791 │ 5caeb56feb05440017fd4817       true           4.0        3.0                 4.0      28.0       5.0 \u001b[90m       missing \u001b[0m\u001b[90m   missing \u001b[0m         51           17.0                  16.0           23.0 ⋯\n",
       " 1792 │ 5def020419398a5b744b98b9       true           5.0        5.0                 2.0      30.0       5.0 \u001b[90m       missing \u001b[0m\u001b[90m   missing \u001b[0m         30           19.0                  40.0            5.0\n",
       " 1793 │ 5e1fa6a063251a2de1d6b236       true           5.0        4.0                 2.0      34.0       5.0 \u001b[90m       missing \u001b[0m\u001b[90m   missing \u001b[0m         38           16.0                  37.0            7.0\n",
       " 1794 │ 5e7ccb90239c34323a771320      false           5.0        3.0                 1.0      28.0       5.0 \u001b[90m       missing \u001b[0m\u001b[90m   missing \u001b[0m         49            8.0                  30.0           13.0\n",
       " 1795 │ 5e39448ea9cf9414e733ff48       true           7.0        2.0                 2.0      25.0       6.0 \u001b[90m       missing \u001b[0m\u001b[90m   missing \u001b[0m         33           14.0                  29.0            9.0 ⋯\n",
       " 1796 │ 5d30a875ad3457001743fbc9       true           7.0        5.0                 5.0      47.0       5.0 \u001b[90m       missing \u001b[0m\u001b[90m   missing \u001b[0m         30           16.0                  38.0            5.0\n",
       " 1797 │ 5da926115c6987001535a2da       true           5.0        4.0                 6.0      57.0       5.0 \u001b[90m       missing \u001b[0m\u001b[90m   missing \u001b[0m         27            2.0                  31.0            5.0\n",
       "\u001b[36m                                                                                                                                                                        41 columns and 1782 rows omitted\u001b[0m"
      ]
     },
     "metadata": {},
     "output_type": "display_data"
    }
   ],
   "source": [
    "w1_w6_combined = combine_wave_data(w1, w6, \"PROLIFIC_PID\", \"w1\", \"w6\")"
   ]
  },
  {
   "cell_type": "code",
   "execution_count": 173,
   "metadata": {},
   "outputs": [
    {
     "data": {
      "text/plain": [
       "1797-element Vector{Union{Missing, Bool}}:\n",
       " false\n",
       " false\n",
       " false\n",
       " false\n",
       " false\n",
       " false\n",
       " false\n",
       " false\n",
       " false\n",
       " false\n",
       "     ⋮\n",
       "      missing\n",
       "      missing\n",
       "      missing\n",
       "      missing\n",
       "      missing\n",
       "      missing\n",
       "      missing\n",
       "      missing\n",
       "      missing"
      ]
     },
     "metadata": {},
     "output_type": "display_data"
    }
   ],
   "source": [
    "w1_w6_combined[!,:low_quality_w6]"
   ]
  },
  {
   "cell_type": "code",
   "execution_count": 176,
   "metadata": {},
   "outputs": [
    {
     "data": {
      "text/plain": [
       "1797-element BitVector:\n",
       " 0\n",
       " 0\n",
       " 0\n",
       " 0\n",
       " 0\n",
       " 0\n",
       " 0\n",
       " 0\n",
       " 0\n",
       " 0\n",
       " ⋮\n",
       " 1\n",
       " 1\n",
       " 1\n",
       " 1\n",
       " 1\n",
       " 1\n",
       " 1\n",
       " 1\n",
       " 1"
      ]
     },
     "metadata": {},
     "output_type": "display_data"
    }
   ],
   "source": [
    "w1_w6_combined[!, :dropout] = w1_w6_combined[!, \"Depression_w6\"].===missing"
   ]
  },
  {
   "cell_type": "code",
   "execution_count": 177,
   "metadata": {},
   "outputs": [
    {
     "data": {
      "text/plain": [
       "\"Depression\""
      ]
     },
     "metadata": {},
     "output_type": "display_data"
    }
   ],
   "source": [
    "adjustments = [\"Income_w1\", \"Gender_w1\", \"Age_w1\", \"Education_w1\", \"Race_AA_w1\", \"Race_W_w1\"]\n",
    "square_terms = [\"Income_w1\", \"Age_w1\", \"Education_w1\"]\n",
    "treatment = \"dropout\"\n",
    "target = \"Depression\""
   ]
  },
  {
   "cell_type": "code",
   "execution_count": 178,
   "metadata": {},
   "outputs": [
    {
     "data": {
      "text/plain": [
       "StatsModels.TableRegressionModel{GLM.GeneralizedLinearModel{GLM.GlmResp{Vector{Float64}, Distributions.Binomial{Float64}, GLM.ProbitLink}, GLM.DensePredChol{Float64, LinearAlgebra.Cholesky{Float64, Matrix{Float64}}}}, Matrix{Float64}}\n",
       "\n",
       "dropout ~ 1 + Income_w1 + Gender_w1 + Age_w1 + Education_w1 + Race_AA_w1 + Race_W_w1 + Income_w1^2 + Age_w1^2 + Education_w1^2\n",
       "\n",
       "Coefficients:\n",
       "────────────────────────────────────────────────────────────────────────────────────\n",
       "                      Coef.   Std. Error      z  Pr(>|z|)     Lower 95%    Upper 95%\n",
       "────────────────────────────────────────────────────────────────────────────────────\n",
       "(Intercept)      0.364975    0.29204       1.25    0.2114  -0.207413     0.937363\n",
       "Income_w1        0.0855109   0.0783456     1.09    0.2751  -0.0680437    0.239065\n",
       "Gender_w1       -0.0105184   0.0624086    -0.17    0.8662  -0.132837     0.1118\n",
       "Age_w1          -0.0194272   0.0142339    -1.36    0.1723  -0.0473251    0.00847077\n",
       "Education_w1    -0.0854097   0.0835617    -1.02    0.3067  -0.249188     0.0783682\n",
       "Race_AA_w1      -0.117006    0.133005     -0.88    0.3790  -0.377691     0.143678\n",
       "Race_W_w1        0.00240504  0.0814446     0.03    0.9764  -0.157223     0.162034\n",
       "Income_w1^2     -0.0164083   0.0114175    -1.44    0.1507  -0.0387862    0.00596959\n",
       "Age_w1^2         3.89681e-5  0.000168463   0.23    0.8171  -0.000291213  0.000369149\n",
       "Education_w1^2   0.00940364  0.00834204    1.13    0.2596  -0.00694645   0.0257537\n",
       "────────────────────────────────────────────────────────────────────────────────────"
      ]
     },
     "metadata": {},
     "output_type": "display_data"
    }
   ],
   "source": [
    "fit = cal_ipw(w1_w6_combined, adjustments, square_terms, treatment)"
   ]
  },
  {
   "cell_type": "code",
   "execution_count": 179,
   "metadata": {},
   "outputs": [
    {
     "data": {
      "text/plain": [
       "1797-element Vector{Union{Missing, Float64}}:\n",
       " 0.7448289595782437\n",
       " 0.5254083769860263\n",
       " 0.6919217857837503\n",
       " 0.5378375413599564\n",
       " 0.5821569008525971\n",
       " 0.7625834075157938\n",
       " 0.819182198225355\n",
       " 0.6292042567899955\n",
       " 0.6392747674979793\n",
       " 0.6391023954042704\n",
       " ⋮\n",
       "  missing\n",
       "  missing\n",
       "  missing\n",
       "  missing\n",
       "  missing\n",
       "  missing\n",
       "  missing\n",
       "  missing\n",
       "  missing"
      ]
     },
     "metadata": {},
     "output_type": "display_data"
    }
   ],
   "source": [
    "w1_w6_combined[!, :total_w] = w1_w6_combined[!, :low_quality_w_w6] .* w1_w6_combined[!, :dropout_w]"
   ]
  },
  {
   "cell_type": "code",
   "execution_count": 180,
   "metadata": {},
   "outputs": [
    {
     "data": {
      "text/plain": [
       "1797-element Vector{Union{Missing, Float64}}:\n",
       " 21.481441872319163\n",
       " 97.0673522423804\n",
       "  0.0\n",
       " 98.54276788858236\n",
       " 13.741999774087727\n",
       " 14.424651640184264\n",
       "  1.2207296522878082\n",
       " 44.50065252712576\n",
       " 34.41399710816764\n",
       " 20.34102843845034\n",
       "  ⋮\n",
       "   missing\n",
       "   missing\n",
       "   missing\n",
       "   missing\n",
       "   missing\n",
       "   missing\n",
       "   missing\n",
       "   missing\n",
       "   missing"
      ]
     },
     "metadata": {},
     "output_type": "display_data"
    }
   ],
   "source": [
    "w1_w6_combined[!, :Depression_adj] = w1_w6_combined[!, :Depression_w6] .* (1 ./ w1_w6_combined[!, :total_w])"
   ]
  },
  {
   "cell_type": "code",
   "execution_count": 186,
   "metadata": {},
   "outputs": [
    {
     "name": "stdout",
     "output_type": "stream",
     "text": [
      "StatsModels.TableRegressionModel{GLM.GeneralizedLinearModel{GLM.GlmResp{Vector{"
     ]
    },
    {
     "name": "stdout",
     "output_type": "stream",
     "text": [
      "Float64}, Distributions.Binomial{Float64}, GLM.ProbitLink}, GLM.DensePredChol{Float64, LinearAlgebra.Cholesky{Float64, Matrix{Float64}}}}, Matrix{Float64}}\n",
      "\n",
      "dropout ~ 1 + Income_w1 + Gender_w1 + Age_w1 + Education_w1 + Race_AA_w1 + Race_W_w1 + Income_w1^2 + Age_w1^2 + Education_w1^2\n",
      "\n",
      "Coefficients:\n"
     ]
    },
    {
     "name": "stdout",
     "output_type": "stream",
     "text": [
      "────────────────────────────────────────────────────────────────────────────────────\n",
      "                      Coef.   Std. Error      z  Pr(>|z|)     Lower 95%    Upper 95%\n",
      "────────────────────────────────────────────────────────────────────────────────────\n",
      "(Intercept)      0.364975    0.29204       1.25    0.2114  -0.207413     0.937363\n",
      "Income_w1        0.0855109   0.0783456     1.09    0.2751  -0.0680437    0.239065\n",
      "Gender_w1       -0.0105184   0.0624086    -0.17    0.8662  -0.132837     0.1118\n",
      "Age_w1          -0.0194272   0.0142339    -1.36    0.1723  -0.0473251    0.00847077\n",
      "Education_w1    -0.0854097   0.0835617    -1.02    0.3067  -0.249188     0.0783682\n",
      "Race_AA_w1      -0.117006    0.133005     -0.88    0.3790  -0.377691     0.143678\n",
      "Race_W_w1        0.00240504  0.0814446     0.03    0.9764  -0.157223     0.162034\n",
      "Income_w1^2     -0.0164083   0.0114175    -1.44    0.1507  -0.0387862    0.00596959\n",
      "Age_w1^2         3.89681e-5  0.000168463   0.23    0.8171  -0.000291213  0.000369149\n",
      "Education_w1^2   0.00940364  0.00834204    1.13    0.2596  -0.00694645   0.0257537\n",
      "────────────────────────────────────────────────────────────────────────────────────\n"
     ]
    }
   ],
   "source": [
    "open(\"file.txt\",\"a\") do io\n",
    "    println(io,\"a=\",a)\n",
    " end\n",
    "println(fit)"
   ]
  },
  {
   "cell_type": "code",
   "execution_count": null,
   "metadata": {},
   "outputs": [],
   "source": [
    "w1_w6_combined[(w1_w6_combined[!, :Depression_adj] .!==missing) .& (w1_w6_combined[!, :low_quality_w6] .== 0), r\"_this\"]"
   ]
  },
  {
   "cell_type": "code",
   "execution_count": 191,
   "metadata": {},
   "outputs": [
    {
     "data": {
      "text/html": [
       "<div class=\"data-frame\"><p>1,167 rows × 29 columns (omitted printing of 15 columns)</p><table class=\"data-frame\"><thead><tr><th></th><th>Gender_w6</th><th>Education_w6</th><th>Income_w6</th><th>Political_Views_w6</th><th>Age_w6</th><th>Race_w6</th><th>Depression_w6</th><th>Stress_w6</th><th>Anxiety_w6</th><th>Fear_COVID_w6</th><th>Emotional_Support_w6</th><th>Loneliness_w6</th><th>slope_new_cases_w6</th><th>slope_new_deaths_w6</th></tr><tr><th></th><th title=\"Union{Missing, Bool}\">Bool?</th><th title=\"Union{Missing, Float64}\">Float64?</th><th title=\"Union{Missing, Float64}\">Float64?</th><th title=\"Union{Missing, Float64}\">Float64?</th><th title=\"Union{Missing, Float64}\">Float64?</th><th title=\"Union{Missing, Float64}\">Float64?</th><th title=\"Union{Missing, Int64}\">Int64?</th><th title=\"Union{Missing, Int64}\">Int64?</th><th title=\"Union{Missing, Int64}\">Int64?</th><th title=\"Union{Missing, Float64}\">Float64?</th><th title=\"Union{Missing, Float64}\">Float64?</th><th title=\"Union{Missing, Float64}\">Float64?</th><th title=\"Union{Missing, Float64}\">Float64?</th><th title=\"Union{Missing, Float64}\">Float64?</th></tr></thead><tbody><tr><th>1</th><td>0</td><td>5.0</td><td>1.0</td><td>1.0</td><td>55.0</td><td>5.0</td><td>16</td><td>29</td><td>40</td><td>21.0</td><td>40.0</td><td>8.0</td><td>13.7143</td><td>2.28571</td></tr><tr><th>2</th><td>1</td><td>1.0</td><td>1.0</td><td>4.0</td><td>23.0</td><td>7.0</td><td>51</td><td>22</td><td>71</td><td>14.0</td><td>9.0</td><td>25.0</td><td>13.7143</td><td>2.28571</td></tr><tr><th>3</th><td>0</td><td>2.0</td><td>1.0</td><td>6.0</td><td>47.0</td><td>5.0</td><td>0</td><td>6</td><td>29</td><td>0.0</td><td>40.0</td><td>5.0</td><td>13.7143</td><td>2.28571</td></tr><tr><th>4</th><td>0</td><td>2.0</td><td>1.0</td><td>1.0</td><td>23.0</td><td>5.0</td><td>53</td><td>35</td><td>48</td><td>17.0</td><td>40.0</td><td>13.0</td><td>13.7143</td><td>2.28571</td></tr><tr><th>5</th><td>0</td><td>3.0</td><td>1.0</td><td>4.0</td><td>28.0</td><td>5.0</td><td>8</td><td>3</td><td>33</td><td>12.0</td><td>40.0</td><td>5.0</td><td>13.7143</td><td>2.28571</td></tr><tr><th>6</th><td>0</td><td>4.0</td><td>6.0</td><td>3.0</td><td>50.0</td><td>5.0</td><td>11</td><td>16</td><td>25</td><td>1.0</td><td>35.0</td><td>12.0</td><td>13.7143</td><td>2.28571</td></tr><tr><th>7</th><td>1</td><td>5.0</td><td>2.0</td><td>3.0</td><td>71.0</td><td>5.0</td><td>1</td><td>3</td><td>25</td><td>13.0</td><td>39.0</td><td>5.0</td><td>13.7143</td><td>2.28571</td></tr><tr><th>8</th><td>1</td><td>2.0</td><td>1.0</td><td>2.0</td><td>36.0</td><td>5.0</td><td>28</td><td>32</td><td>58</td><td>11.0</td><td>19.0</td><td>14.0</td><td>13.7143</td><td>2.28571</td></tr><tr><th>9</th><td>1</td><td>2.0</td><td>1.0</td><td>4.0</td><td>21.0</td><td>2.0</td><td>22</td><td>20</td><td>49</td><td>5.0</td><td>16.0</td><td>15.0</td><td>13.7143</td><td>2.28571</td></tr><tr><th>10</th><td>1</td><td>7.0</td><td>1.0</td><td>3.0</td><td>36.0</td><td>2.0</td><td>13</td><td>15</td><td>45</td><td>17.0</td><td>24.0</td><td>10.0</td><td>13.7143</td><td>2.28571</td></tr><tr><th>11</th><td>1</td><td>2.0</td><td>1.0</td><td>2.0</td><td>25.0</td><td>3.0</td><td>3</td><td>14</td><td>39</td><td>9.0</td><td>17.0</td><td>10.0</td><td>13.7143</td><td>2.28571</td></tr><tr><th>12</th><td>1</td><td>6.0</td><td>3.0</td><td>1.0</td><td>66.0</td><td>5.0</td><td>25</td><td>20</td><td>46</td><td>17.0</td><td>32.0</td><td>13.0</td><td>13.7143</td><td>2.28571</td></tr><tr><th>13</th><td>1</td><td>2.0</td><td>1.0</td><td>7.0</td><td>25.0</td><td>5.0</td><td>27</td><td>26</td><td>29</td><td>14.0</td><td>8.0</td><td>25.0</td><td>13.7143</td><td>2.28571</td></tr><tr><th>14</th><td>1</td><td>5.0</td><td>1.0</td><td>2.0</td><td>22.0</td><td>5.0</td><td>1</td><td>12</td><td>37</td><td>3.0</td><td>29.0</td><td>14.0</td><td>13.7143</td><td>2.28571</td></tr><tr><th>15</th><td>1</td><td>5.0</td><td>1.0</td><td>1.0</td><td>39.0</td><td>2.0</td><td>14</td><td>16</td><td>62</td><td>14.0</td><td>28.0</td><td>14.0</td><td>13.7143</td><td>2.28571</td></tr><tr><th>16</th><td>1</td><td>5.0</td><td>1.0</td><td>2.0</td><td>35.0</td><td>5.0</td><td>26</td><td>21</td><td>56</td><td>12.0</td><td>24.0</td><td>19.0</td><td>13.7143</td><td>2.28571</td></tr><tr><th>17</th><td>1</td><td>2.0</td><td>1.0</td><td>5.0</td><td>38.0</td><td>5.0</td><td>40</td><td>26</td><td>66</td><td>20.0</td><td>18.0</td><td>15.0</td><td>13.7143</td><td>2.28571</td></tr><tr><th>18</th><td>0</td><td>5.0</td><td>1.0</td><td>2.0</td><td>46.0</td><td>6.0</td><td>5</td><td>13</td><td>36</td><td>10.0</td><td>27.0</td><td>7.0</td><td>13.7143</td><td>2.28571</td></tr><tr><th>19</th><td>0</td><td>3.0</td><td>1.0</td><td>2.0</td><td>22.0</td><td>7.0</td><td>39</td><td>28</td><td>50</td><td>12.0</td><td>8.0</td><td>22.0</td><td>13.7143</td><td>2.28571</td></tr><tr><th>20</th><td>1</td><td>3.0</td><td>1.0</td><td>3.0</td><td>19.0</td><td>2.0</td><td>4</td><td>7</td><td>28</td><td>9.0</td><td>35.0</td><td>14.0</td><td>13.7143</td><td>2.28571</td></tr><tr><th>21</th><td>0</td><td>2.0</td><td>1.0</td><td>2.0</td><td>19.0</td><td>2.0</td><td>5</td><td>12</td><td>34</td><td>16.0</td><td>40.0</td><td>10.0</td><td>13.7143</td><td>2.28571</td></tr><tr><th>22</th><td>1</td><td>2.0</td><td>1.0</td><td>2.0</td><td>18.0</td><td>5.0</td><td>5</td><td>16</td><td>38</td><td>8.0</td><td>8.0</td><td>14.0</td><td>13.7143</td><td>2.28571</td></tr><tr><th>23</th><td>1</td><td>5.0</td><td>4.0</td><td>7.0</td><td>62.0</td><td>5.0</td><td>0</td><td>7</td><td>25</td><td>10.0</td><td>38.0</td><td>5.0</td><td>13.7143</td><td>2.28571</td></tr><tr><th>24</th><td>1</td><td>7.0</td><td>5.0</td><td>5.0</td><td>58.0</td><td>5.0</td><td>2</td><td>7</td><td>30</td><td>8.0</td><td>18.0</td><td>10.0</td><td>13.7143</td><td>2.28571</td></tr><tr><th>&vellip;</th><td>&vellip;</td><td>&vellip;</td><td>&vellip;</td><td>&vellip;</td><td>&vellip;</td><td>&vellip;</td><td>&vellip;</td><td>&vellip;</td><td>&vellip;</td><td>&vellip;</td><td>&vellip;</td><td>&vellip;</td><td>&vellip;</td><td>&vellip;</td></tr></tbody></table></div>"
      ],
      "text/latex": [
       "\\begin{tabular}{r|ccccccccccccccc}\n",
       "\t& Gender\\_w6 & Education\\_w6 & Income\\_w6 & Political\\_Views\\_w6 & Age\\_w6 & Race\\_w6 & Depression\\_w6 & Stress\\_w6 & Anxiety\\_w6 & Fear\\_COVID\\_w6 & Emotional\\_Support\\_w6 & Loneliness\\_w6 & slope\\_new\\_cases\\_w6 & slope\\_new\\_deaths\\_w6 & \\\\\n",
       "\t\\hline\n",
       "\t& Bool? & Float64? & Float64? & Float64? & Float64? & Float64? & Int64? & Int64? & Int64? & Float64? & Float64? & Float64? & Float64? & Float64? & \\\\\n",
       "\t\\hline\n",
       "\t1 & 0 & 5.0 & 1.0 & 1.0 & 55.0 & 5.0 & 16 & 29 & 40 & 21.0 & 40.0 & 8.0 & 13.7143 & 2.28571 & $\\dots$ \\\\\n",
       "\t2 & 1 & 1.0 & 1.0 & 4.0 & 23.0 & 7.0 & 51 & 22 & 71 & 14.0 & 9.0 & 25.0 & 13.7143 & 2.28571 & $\\dots$ \\\\\n",
       "\t3 & 0 & 2.0 & 1.0 & 6.0 & 47.0 & 5.0 & 0 & 6 & 29 & 0.0 & 40.0 & 5.0 & 13.7143 & 2.28571 & $\\dots$ \\\\\n",
       "\t4 & 0 & 2.0 & 1.0 & 1.0 & 23.0 & 5.0 & 53 & 35 & 48 & 17.0 & 40.0 & 13.0 & 13.7143 & 2.28571 & $\\dots$ \\\\\n",
       "\t5 & 0 & 3.0 & 1.0 & 4.0 & 28.0 & 5.0 & 8 & 3 & 33 & 12.0 & 40.0 & 5.0 & 13.7143 & 2.28571 & $\\dots$ \\\\\n",
       "\t6 & 0 & 4.0 & 6.0 & 3.0 & 50.0 & 5.0 & 11 & 16 & 25 & 1.0 & 35.0 & 12.0 & 13.7143 & 2.28571 & $\\dots$ \\\\\n",
       "\t7 & 1 & 5.0 & 2.0 & 3.0 & 71.0 & 5.0 & 1 & 3 & 25 & 13.0 & 39.0 & 5.0 & 13.7143 & 2.28571 & $\\dots$ \\\\\n",
       "\t8 & 1 & 2.0 & 1.0 & 2.0 & 36.0 & 5.0 & 28 & 32 & 58 & 11.0 & 19.0 & 14.0 & 13.7143 & 2.28571 & $\\dots$ \\\\\n",
       "\t9 & 1 & 2.0 & 1.0 & 4.0 & 21.0 & 2.0 & 22 & 20 & 49 & 5.0 & 16.0 & 15.0 & 13.7143 & 2.28571 & $\\dots$ \\\\\n",
       "\t10 & 1 & 7.0 & 1.0 & 3.0 & 36.0 & 2.0 & 13 & 15 & 45 & 17.0 & 24.0 & 10.0 & 13.7143 & 2.28571 & $\\dots$ \\\\\n",
       "\t11 & 1 & 2.0 & 1.0 & 2.0 & 25.0 & 3.0 & 3 & 14 & 39 & 9.0 & 17.0 & 10.0 & 13.7143 & 2.28571 & $\\dots$ \\\\\n",
       "\t12 & 1 & 6.0 & 3.0 & 1.0 & 66.0 & 5.0 & 25 & 20 & 46 & 17.0 & 32.0 & 13.0 & 13.7143 & 2.28571 & $\\dots$ \\\\\n",
       "\t13 & 1 & 2.0 & 1.0 & 7.0 & 25.0 & 5.0 & 27 & 26 & 29 & 14.0 & 8.0 & 25.0 & 13.7143 & 2.28571 & $\\dots$ \\\\\n",
       "\t14 & 1 & 5.0 & 1.0 & 2.0 & 22.0 & 5.0 & 1 & 12 & 37 & 3.0 & 29.0 & 14.0 & 13.7143 & 2.28571 & $\\dots$ \\\\\n",
       "\t15 & 1 & 5.0 & 1.0 & 1.0 & 39.0 & 2.0 & 14 & 16 & 62 & 14.0 & 28.0 & 14.0 & 13.7143 & 2.28571 & $\\dots$ \\\\\n",
       "\t16 & 1 & 5.0 & 1.0 & 2.0 & 35.0 & 5.0 & 26 & 21 & 56 & 12.0 & 24.0 & 19.0 & 13.7143 & 2.28571 & $\\dots$ \\\\\n",
       "\t17 & 1 & 2.0 & 1.0 & 5.0 & 38.0 & 5.0 & 40 & 26 & 66 & 20.0 & 18.0 & 15.0 & 13.7143 & 2.28571 & $\\dots$ \\\\\n",
       "\t18 & 0 & 5.0 & 1.0 & 2.0 & 46.0 & 6.0 & 5 & 13 & 36 & 10.0 & 27.0 & 7.0 & 13.7143 & 2.28571 & $\\dots$ \\\\\n",
       "\t19 & 0 & 3.0 & 1.0 & 2.0 & 22.0 & 7.0 & 39 & 28 & 50 & 12.0 & 8.0 & 22.0 & 13.7143 & 2.28571 & $\\dots$ \\\\\n",
       "\t20 & 1 & 3.0 & 1.0 & 3.0 & 19.0 & 2.0 & 4 & 7 & 28 & 9.0 & 35.0 & 14.0 & 13.7143 & 2.28571 & $\\dots$ \\\\\n",
       "\t21 & 0 & 2.0 & 1.0 & 2.0 & 19.0 & 2.0 & 5 & 12 & 34 & 16.0 & 40.0 & 10.0 & 13.7143 & 2.28571 & $\\dots$ \\\\\n",
       "\t22 & 1 & 2.0 & 1.0 & 2.0 & 18.0 & 5.0 & 5 & 16 & 38 & 8.0 & 8.0 & 14.0 & 13.7143 & 2.28571 & $\\dots$ \\\\\n",
       "\t23 & 1 & 5.0 & 4.0 & 7.0 & 62.0 & 5.0 & 0 & 7 & 25 & 10.0 & 38.0 & 5.0 & 13.7143 & 2.28571 & $\\dots$ \\\\\n",
       "\t24 & 1 & 7.0 & 5.0 & 5.0 & 58.0 & 5.0 & 2 & 7 & 30 & 8.0 & 18.0 & 10.0 & 13.7143 & 2.28571 & $\\dots$ \\\\\n",
       "\t$\\dots$ & $\\dots$ & $\\dots$ & $\\dots$ & $\\dots$ & $\\dots$ & $\\dots$ & $\\dots$ & $\\dots$ & $\\dots$ & $\\dots$ & $\\dots$ & $\\dots$ & $\\dots$ & $\\dots$ &  \\\\\n",
       "\\end{tabular}\n"
      ],
      "text/plain": [
       "\u001b[1m1167×29 DataFrame\u001b[0m\n",
       "\u001b[1m  Row \u001b[0m│\u001b[1m Gender_w6 \u001b[0m\u001b[1m Education_w6 \u001b[0m\u001b[1m Income_w6 \u001b[0m\u001b[1m Political_Views_w6 \u001b[0m\u001b[1m Age_w6   \u001b[0m\u001b[1m Race_w6  \u001b[0m\u001b[1m Depression_w6 \u001b[0m\u001b[1m Stress_w6 \u001b[0m\u001b[1m Anxiety_w6 \u001b[0m\u001b[1m Fear_COVID_w6 \u001b[0m\u001b[1m Emotional_Support_w6 \u001b[0m\u001b[1m Loneliness_w6 \u001b[0m\u001b[1m slope_new_cases_w6 \u001b[0m\u001b[1m slop\u001b[0m ⋯\n",
       "\u001b[1m      \u001b[0m│\u001b[90m Bool?     \u001b[0m\u001b[90m Float64?     \u001b[0m\u001b[90m Float64?  \u001b[0m\u001b[90m Float64?           \u001b[0m\u001b[90m Float64? \u001b[0m\u001b[90m Float64? \u001b[0m\u001b[90m Int64?        \u001b[0m\u001b[90m Int64?    \u001b[0m\u001b[90m Int64?     \u001b[0m\u001b[90m Float64?      \u001b[0m\u001b[90m Float64?             \u001b[0m\u001b[90m Float64?      \u001b[0m\u001b[90m Float64?           \u001b[0m\u001b[90m Floa\u001b[0m ⋯\n",
       "──────┼─────────────────────────────────────────────────────────────────────────────────────────────────────────────────────────────────────────────────────────────────────────────────────────────────\n",
       "    1 │     false           5.0        1.0                 1.0      55.0       5.0             16         29          40           21.0                  40.0            8.0           13.7143         ⋯\n",
       "    2 │      true           1.0        1.0                 4.0      23.0       7.0             51         22          71           14.0                   9.0           25.0           13.7143\n",
       "    3 │     false           2.0        1.0                 6.0      47.0       5.0              0          6          29            0.0                  40.0            5.0           13.7143\n",
       "    4 │     false           2.0        1.0                 1.0      23.0       5.0             53         35          48           17.0                  40.0           13.0           13.7143\n",
       "    5 │     false           3.0        1.0                 4.0      28.0       5.0              8          3          33           12.0                  40.0            5.0           13.7143         ⋯\n",
       "    6 │     false           4.0        6.0                 3.0      50.0       5.0             11         16          25            1.0                  35.0           12.0           13.7143\n",
       "    7 │      true           5.0        2.0                 3.0      71.0       5.0              1          3          25           13.0                  39.0            5.0           13.7143\n",
       "    8 │      true           2.0        1.0                 2.0      36.0       5.0             28         32          58           11.0                  19.0           14.0           13.7143\n",
       "  ⋮   │     ⋮           ⋮            ⋮              ⋮              ⋮         ⋮            ⋮            ⋮          ⋮             ⋮                 ⋮                  ⋮                ⋮                ⋱\n",
       " 1161 │     false           4.0        3.0                 3.0      40.0       5.0             16         18          46           14.0                  24.0            9.0            0.142857       ⋯\n",
       " 1162 │     false           5.0        3.0                 5.0      53.0       5.0              5         13          37           11.0                  30.0           12.0            0.142857\n",
       " 1163 │     false           3.0        1.0                 2.0      65.0       5.0              5         15          35            9.0                  35.0            9.0            0.142857\n",
       " 1164 │     false           3.0        1.0                 3.0      22.0       1.0             21         17          58           28.0                  16.0           10.0            0.142857\n",
       " 1165 │      true           3.0        3.0                 1.0      36.0       5.0             21         21          48           17.0                  39.0            9.0           -5.57143        ⋯\n",
       " 1166 │      true           7.0        2.0                 2.0      28.0       5.0              4         10          31            5.0                  40.0            8.0           -2.14286\n",
       " 1167 │     false           5.0        4.0                 2.0      64.0       5.0              0          5          30           18.0                  32.0            6.0            5.71429\n",
       "\u001b[36m                                                                                                                                                                        16 columns and 1152 rows omitted\u001b[0m"
      ]
     },
     "metadata": {},
     "output_type": "display_data"
    }
   ],
   "source": [
    "selected = w1_w6_combined[(w1_w6_combined[!, :Depression_adj] .!==missing) .& (w1_w6_combined[!, :low_quality_w6] .== 0), r\"_w6\"]"
   ]
  },
  {
   "cell_type": "code",
   "execution_count": 202,
   "metadata": {},
   "outputs": [
    {
     "data": {
      "text/plain": [
       "29-element Vector{String}:\n",
       " \"Gender_w6\"\n",
       " \"Education_w6\"\n",
       " \"Income_w6\"\n",
       " \"Political_Views_w6\"\n",
       " \"Age_w6\"\n",
       " \"Race_w6\"\n",
       " \"Depression_w6\"\n",
       " \"Stress_w6\"\n",
       " \"Anxiety_w6\"\n",
       " \"Fear_COVID_w6\"\n",
       " ⋮\n",
       " \"wave_w6\"\n",
       " \"RW1_8_w6\"\n",
       " \"Race_AA_w6\"\n",
       " \"Race_W_w6\"\n",
       " \"low_quality_w6\"\n",
       " \"Income^2_w6\"\n",
       " \"Age^2_w6\"\n",
       " \"Education^2_w6\"\n",
       " \"low_quality_w_w6\""
      ]
     },
     "metadata": {},
     "output_type": "display_data"
    }
   ],
   "source": [
    "original_name = names(selected)\n"
   ]
  },
  {
   "cell_type": "code",
   "execution_count": 205,
   "metadata": {},
   "outputs": [
    {
     "data": {
      "text/plain": [
       "29-element Vector{String}:\n",
       " \"Gender\"\n",
       " \"Education\"\n",
       " \"Income\"\n",
       " \"Political_Views\"\n",
       " \"Age\"\n",
       " \"Race\"\n",
       " \"Depression\"\n",
       " \"Stress\"\n",
       " \"Anxiety\"\n",
       " \"Fear_COVID\"\n",
       " ⋮\n",
       " \"wave\"\n",
       " \"RW1_8\"\n",
       " \"Race_AA\"\n",
       " \"Race_W\"\n",
       " \"low_quality\"\n",
       " \"Income^2\"\n",
       " \"Age^2\"\n",
       " \"Education^2\"\n",
       " \"low_quality_w\""
      ]
     },
     "metadata": {},
     "output_type": "display_data"
    }
   ],
   "source": [
    "original_name = names(selected)\n",
    "\n",
    "replace.(original_name, \"_w6\" => \"\") "
   ]
  },
  {
   "cell_type": "code",
   "execution_count": 183,
   "metadata": {},
   "outputs": [
    {
     "data": {
      "image/png": "[encoded data removed]",
      "image/svg+xml": "<?xml version=\"1.0\" encoding=\"utf-8\"?>\n<svg xmlns=\"http://www.w3.org/2000/svg\" xmlns:xlink=\"http://www.w3.org/1999/xlink\" width=\"600\" height=\"400\" viewBox=\"0 0 2400 1600\">\n<defs>\n  <clipPath id=\"clip000\">\n    <rect x=\"0\" y=\"0\" width=\"2400\" height=\"1600\"/>\n  </clipPath>\n</defs>\n<path clip-path=\"url(#clip000)\" d=\"\nM0 1600 L2400 1600 L2400 0 L0 0  Z\n  \" fill=\"#ffffff\" fill-rule=\"evenodd\" fill-opacity=\"1\"/>\n<defs>\n  <clipPath id=\"clip001\">\n    <rect x=\"480\" y=\"0\" width=\"1681\" height=\"1600\"/>\n  </clipPath>\n</defs>\n<path clip-path=\"url(#clip000)\" d=\"\nM170.857 1486.45 L2352.76 1486.45 L2352.76 47.2441 L170.857 47.2441  Z\n  \" fill=\"#ffffff\" fill-rule=\"evenodd\" fill-opacity=\"1\"/>\n<defs>\n  <clipPath id=\"clip002\">\n    <rect x=\"170\" y=\"47\" width=\"2183\" height=\"1440\"/>\n  </clipPath>\n</defs>\n<polyline clip-path=\"url(#clip002)\" style=\"stroke:#000000; stroke-linecap:butt; stroke-linejoin:round; stroke-width:2; stroke-opacity:0.1; fill:none\" points=\"\n  290.866,1486.45 290.866,47.2441 \n  \"/>\n<polyline clip-path=\"url(#clip002)\" style=\"stroke:#000000; stroke-linecap:butt; stroke-linejoin:round; stroke-width:2; stroke-opacity:0.1; fill:none\" points=\"\n  776.336,1486.45 776.336,47.2441 \n  \"/>\n<polyline clip-path=\"url(#clip002)\" style=\"stroke:#000000; stroke-linecap:butt; stroke-linejoin:round; stroke-width:2; stroke-opacity:0.1; fill:none\" points=\"\n  1261.81,1486.45 1261.81,47.2441 \n  \"/>\n<polyline clip-path=\"url(#clip002)\" style=\"stroke:#000000; stroke-linecap:butt; stroke-linejoin:round; stroke-width:2; stroke-opacity:0.1; fill:none\" points=\"\n  1747.28,1486.45 1747.28,47.2441 \n  \"/>\n<polyline clip-path=\"url(#clip002)\" style=\"stroke:#000000; stroke-linecap:butt; stroke-linejoin:round; stroke-width:2; stroke-opacity:0.1; fill:none\" points=\"\n  2232.75,1486.45 2232.75,47.2441 \n  \"/>\n<polyline clip-path=\"url(#clip000)\" style=\"stroke:#000000; stroke-linecap:butt; stroke-linejoin:round; stroke-width:4; stroke-opacity:1; fill:none\" points=\"\n  170.857,1486.45 2352.76,1486.45 \n  \"/>\n<polyline clip-path=\"url(#clip000)\" style=\"stroke:#000000; stroke-linecap:butt; stroke-linejoin:round; stroke-width:4; stroke-opacity:1; fill:none\" points=\"\n  290.866,1486.45 290.866,1467.55 \n  \"/>\n<polyline clip-path=\"url(#clip000)\" style=\"stroke:#000000; stroke-linecap:butt; stroke-linejoin:round; stroke-width:4; stroke-opacity:1; fill:none\" points=\"\n  776.336,1486.45 776.336,1467.55 \n  \"/>\n<polyline clip-path=\"url(#clip000)\" style=\"stroke:#000000; stroke-linecap:butt; stroke-linejoin:round; stroke-width:4; stroke-opacity:1; fill:none\" points=\"\n  1261.81,1486.45 1261.81,1467.55 \n  \"/>\n<polyline clip-path=\"url(#clip000)\" style=\"stroke:#000000; stroke-linecap:butt; stroke-linejoin:round; stroke-width:4; stroke-opacity:1; fill:none\" points=\"\n  1747.28,1486.45 1747.28,1467.55 \n  \"/>\n<polyline clip-path=\"url(#clip000)\" style=\"stroke:#000000; stroke-linecap:butt; stroke-linejoin:round; stroke-width:4; stroke-opacity:1; fill:none\" points=\"\n  2232.75,1486.45 2232.75,1467.55 \n  \"/>\n<path clip-path=\"url(#clip000)\" d=\"M290.866 1517.37 Q287.255 1517.37 285.426 1520.93 Q283.62 1524.47 283.62 1531.6 Q283.62 1538.71 285.426 1542.27 Q287.255 1545.82 290.866 1545.82 Q294.5 1545.82 296.306 1542.27 Q298.134 1538.71 298.134 1531.6 Q298.134 1524.47 296.306 1520.93 Q294.5 1517.37 290.866 1517.37 M290.866 1513.66 Q296.676 1513.66 299.731 1518.27 Q302.81 1522.85 302.81 1531.6 Q302.81 1540.33 299.731 1544.94 Q296.676 1549.52 290.866 1549.52 Q285.056 1549.52 281.977 1544.94 Q278.921 1540.33 278.921 1531.6 Q278.921 1522.85 281.977 1518.27 Q285.056 1513.66 290.866 1513.66 Z\" fill=\"#000000\" fill-rule=\"evenodd\" fill-opacity=\"1\" /><path clip-path=\"url(#clip000)\" d=\"M755.607 1544.91 L771.926 1544.91 L771.926 1548.85 L749.982 1548.85 L749.982 1544.91 Q752.644 1542.16 757.227 1537.53 Q761.834 1532.88 763.015 1531.53 Q765.26 1529.01 766.139 1527.27 Q767.042 1525.51 767.042 1523.82 Q767.042 1521.07 765.098 1519.33 Q763.177 1517.6 760.075 1517.6 Q757.876 1517.6 755.422 1518.36 Q752.991 1519.13 750.214 1520.68 L750.214 1515.95 Q753.038 1514.82 755.491 1514.24 Q757.945 1513.66 759.982 1513.66 Q765.352 1513.66 768.547 1516.35 Q771.741 1519.03 771.741 1523.52 Q771.741 1525.65 770.931 1527.57 Q770.144 1529.47 768.038 1532.07 Q767.459 1532.74 764.357 1535.95 Q761.255 1539.15 755.607 1544.91 Z\" fill=\"#000000\" fill-rule=\"evenodd\" fill-opacity=\"1\" /><path clip-path=\"url(#clip000)\" d=\"M781.788 1514.29 L800.144 1514.29 L800.144 1518.22 L786.07 1518.22 L786.07 1526.7 Q787.088 1526.35 788.107 1526.19 Q789.125 1526 790.144 1526 Q795.931 1526 799.311 1529.17 Q802.69 1532.34 802.69 1537.76 Q802.69 1543.34 799.218 1546.44 Q795.746 1549.52 789.426 1549.52 Q787.25 1549.52 784.982 1549.15 Q782.737 1548.78 780.329 1548.04 L780.329 1543.34 Q782.413 1544.47 784.635 1545.03 Q786.857 1545.58 789.334 1545.58 Q793.338 1545.58 795.676 1543.48 Q798.014 1541.37 798.014 1537.76 Q798.014 1534.15 795.676 1532.04 Q793.338 1529.94 789.334 1529.94 Q787.459 1529.94 785.584 1530.35 Q783.732 1530.77 781.788 1531.65 L781.788 1514.29 Z\" fill=\"#000000\" fill-rule=\"evenodd\" fill-opacity=\"1\" /><path clip-path=\"url(#clip000)\" d=\"M1236.51 1514.29 L1254.86 1514.29 L1254.86 1518.22 L1240.79 1518.22 L1240.79 1526.7 Q1241.81 1526.35 1242.83 1526.19 Q1243.84 1526 1244.86 1526 Q1250.65 1526 1254.03 1529.17 Q1257.41 1532.34 1257.41 1537.76 Q1257.41 1543.34 1253.94 1546.44 Q1250.46 1549.52 1244.14 1549.52 Q1241.97 1549.52 1239.7 1549.15 Q1237.45 1548.78 1235.05 1548.04 L1235.05 1543.34 Q1237.13 1544.47 1239.35 1545.03 Q1241.58 1545.58 1244.05 1545.58 Q1248.06 1545.58 1250.39 1543.48 Q1252.73 1541.37 1252.73 1537.76 Q1252.73 1534.15 1250.39 1532.04 Q1248.06 1529.94 1244.05 1529.94 Q1242.18 1529.94 1240.3 1530.35 Q1238.45 1530.77 1236.51 1531.65 L1236.51 1514.29 Z\" fill=\"#000000\" fill-rule=\"evenodd\" fill-opacity=\"1\" /><path clip-path=\"url(#clip000)\" d=\"M1276.62 1517.37 Q1273.01 1517.37 1271.18 1520.93 Q1269.38 1524.47 1269.38 1531.6 Q1269.38 1538.71 1271.18 1542.27 Q1273.01 1545.82 1276.62 1545.82 Q1280.26 1545.82 1282.06 1542.27 Q1283.89 1538.71 1283.89 1531.6 Q1283.89 1524.47 1282.06 1520.93 Q1280.26 1517.37 1276.62 1517.37 M1276.62 1513.66 Q1282.43 1513.66 1285.49 1518.27 Q1288.57 1522.85 1288.57 1531.6 Q1288.57 1540.33 1285.49 1544.94 Q1282.43 1549.52 1276.62 1549.52 Q1270.81 1549.52 1267.73 1544.94 Q1264.68 1540.33 1264.68 1531.6 Q1264.68 1522.85 1267.73 1518.27 Q1270.81 1513.66 1276.62 1513.66 Z\" fill=\"#000000\" fill-rule=\"evenodd\" fill-opacity=\"1\" /><path clip-path=\"url(#clip000)\" d=\"M1721.13 1514.29 L1743.35 1514.29 L1743.35 1516.28 L1730.81 1548.85 L1725.92 1548.85 L1737.73 1518.22 L1721.13 1518.22 L1721.13 1514.29 Z\" fill=\"#000000\" fill-rule=\"evenodd\" fill-opacity=\"1\" /><path clip-path=\"url(#clip000)\" d=\"M1752.52 1514.29 L1770.88 1514.29 L1770.88 1518.22 L1756.8 1518.22 L1756.8 1526.7 Q1757.82 1526.35 1758.84 1526.19 Q1759.86 1526 1760.88 1526 Q1766.66 1526 1770.04 1529.17 Q1773.42 1532.34 1773.42 1537.76 Q1773.42 1543.34 1769.95 1546.44 Q1766.48 1549.52 1760.16 1549.52 Q1757.98 1549.52 1755.71 1549.15 Q1753.47 1548.78 1751.06 1548.04 L1751.06 1543.34 Q1753.15 1544.47 1755.37 1545.03 Q1757.59 1545.58 1760.07 1545.58 Q1764.07 1545.58 1766.41 1543.48 Q1768.75 1541.37 1768.75 1537.76 Q1768.75 1534.15 1766.41 1532.04 Q1764.07 1529.94 1760.07 1529.94 Q1758.19 1529.94 1756.32 1530.35 Q1754.46 1530.77 1752.52 1531.65 L1752.52 1514.29 Z\" fill=\"#000000\" fill-rule=\"evenodd\" fill-opacity=\"1\" /><path clip-path=\"url(#clip000)\" d=\"M2192.35 1544.91 L2199.99 1544.91 L2199.99 1518.55 L2191.68 1520.21 L2191.68 1515.95 L2199.95 1514.29 L2204.62 1514.29 L2204.62 1544.91 L2212.26 1544.91 L2212.26 1548.85 L2192.35 1548.85 L2192.35 1544.91 Z\" fill=\"#000000\" fill-rule=\"evenodd\" fill-opacity=\"1\" /><path clip-path=\"url(#clip000)\" d=\"M2231.71 1517.37 Q2228.09 1517.37 2226.27 1520.93 Q2224.46 1524.47 2224.46 1531.6 Q2224.46 1538.71 2226.27 1542.27 Q2228.09 1545.82 2231.71 1545.82 Q2235.34 1545.82 2237.15 1542.27 Q2238.97 1538.71 2238.97 1531.6 Q2238.97 1524.47 2237.15 1520.93 Q2235.34 1517.37 2231.71 1517.37 M2231.71 1513.66 Q2237.52 1513.66 2240.57 1518.27 Q2243.65 1522.85 2243.65 1531.6 Q2243.65 1540.33 2240.57 1544.94 Q2237.52 1549.52 2231.71 1549.52 Q2225.9 1549.52 2222.82 1544.94 Q2219.76 1540.33 2219.76 1531.6 Q2219.76 1522.85 2222.82 1518.27 Q2225.9 1513.66 2231.71 1513.66 Z\" fill=\"#000000\" fill-rule=\"evenodd\" fill-opacity=\"1\" /><path clip-path=\"url(#clip000)\" d=\"M2261.87 1517.37 Q2258.26 1517.37 2256.43 1520.93 Q2254.62 1524.47 2254.62 1531.6 Q2254.62 1538.71 2256.43 1542.27 Q2258.26 1545.82 2261.87 1545.82 Q2265.5 1545.82 2267.31 1542.27 Q2269.14 1538.71 2269.14 1531.6 Q2269.14 1524.47 2267.31 1520.93 Q2265.5 1517.37 2261.87 1517.37 M2261.87 1513.66 Q2267.68 1513.66 2270.73 1518.27 Q2273.81 1522.85 2273.81 1531.6 Q2273.81 1540.33 2270.73 1544.94 Q2267.68 1549.52 2261.87 1549.52 Q2256.06 1549.52 2252.98 1544.94 Q2249.92 1540.33 2249.92 1531.6 Q2249.92 1522.85 2252.98 1518.27 Q2256.06 1513.66 2261.87 1513.66 Z\" fill=\"#000000\" fill-rule=\"evenodd\" fill-opacity=\"1\" /><polyline clip-path=\"url(#clip002)\" style=\"stroke:#000000; stroke-linecap:butt; stroke-linejoin:round; stroke-width:2; stroke-opacity:0.1; fill:none\" points=\"\n  170.857,1445.72 2352.76,1445.72 \n  \"/>\n<polyline clip-path=\"url(#clip002)\" style=\"stroke:#000000; stroke-linecap:butt; stroke-linejoin:round; stroke-width:2; stroke-opacity:0.1; fill:none\" points=\"\n  170.857,993.136 2352.76,993.136 \n  \"/>\n<polyline clip-path=\"url(#clip002)\" style=\"stroke:#000000; stroke-linecap:butt; stroke-linejoin:round; stroke-width:2; stroke-opacity:0.1; fill:none\" points=\"\n  170.857,540.556 2352.76,540.556 \n  \"/>\n<polyline clip-path=\"url(#clip002)\" style=\"stroke:#000000; stroke-linecap:butt; stroke-linejoin:round; stroke-width:2; stroke-opacity:0.1; fill:none\" points=\"\n  170.857,87.9763 2352.76,87.9763 \n  \"/>\n<polyline clip-path=\"url(#clip000)\" style=\"stroke:#000000; stroke-linecap:butt; stroke-linejoin:round; stroke-width:4; stroke-opacity:1; fill:none\" points=\"\n  170.857,1486.45 170.857,47.2441 \n  \"/>\n<polyline clip-path=\"url(#clip000)\" style=\"stroke:#000000; stroke-linecap:butt; stroke-linejoin:round; stroke-width:4; stroke-opacity:1; fill:none\" points=\"\n  170.857,1445.72 189.755,1445.72 \n  \"/>\n<polyline clip-path=\"url(#clip000)\" style=\"stroke:#000000; stroke-linecap:butt; stroke-linejoin:round; stroke-width:4; stroke-opacity:1; fill:none\" points=\"\n  170.857,993.136 189.755,993.136 \n  \"/>\n<polyline clip-path=\"url(#clip000)\" style=\"stroke:#000000; stroke-linecap:butt; stroke-linejoin:round; stroke-width:4; stroke-opacity:1; fill:none\" points=\"\n  170.857,540.556 189.755,540.556 \n  \"/>\n<polyline clip-path=\"url(#clip000)\" style=\"stroke:#000000; stroke-linecap:butt; stroke-linejoin:round; stroke-width:4; stroke-opacity:1; fill:none\" points=\"\n  170.857,87.9763 189.755,87.9763 \n  \"/>\n<path clip-path=\"url(#clip000)\" d=\"M122.913 1431.51 Q119.302 1431.51 117.473 1435.08 Q115.668 1438.62 115.668 1445.75 Q115.668 1452.86 117.473 1456.42 Q119.302 1459.96 122.913 1459.96 Q126.547 1459.96 128.353 1456.42 Q130.182 1452.86 130.182 1445.75 Q130.182 1438.62 128.353 1435.08 Q126.547 1431.51 122.913 1431.51 M122.913 1427.81 Q128.723 1427.81 131.779 1432.42 Q134.857 1437 134.857 1445.75 Q134.857 1454.48 131.779 1459.08 Q128.723 1463.67 122.913 1463.67 Q117.103 1463.67 114.024 1459.08 Q110.969 1454.48 110.969 1445.75 Q110.969 1437 114.024 1432.42 Q117.103 1427.81 122.913 1427.81 Z\" fill=\"#000000\" fill-rule=\"evenodd\" fill-opacity=\"1\" /><path clip-path=\"url(#clip000)\" d=\"M53.3995 1006.48 L61.0384 1006.48 L61.0384 980.115 L52.7282 981.782 L52.7282 977.523 L60.9921 975.856 L65.668 975.856 L65.668 1006.48 L73.3068 1006.48 L73.3068 1010.42 L53.3995 1010.42 L53.3995 1006.48 Z\" fill=\"#000000\" fill-rule=\"evenodd\" fill-opacity=\"1\" /><path clip-path=\"url(#clip000)\" d=\"M92.7512 978.935 Q89.1401 978.935 87.3114 982.499 Q85.5058 986.041 85.5058 993.171 Q85.5058 1000.28 87.3114 1003.84 Q89.1401 1007.38 92.7512 1007.38 Q96.3854 1007.38 98.1909 1003.84 Q100.02 1000.28 100.02 993.171 Q100.02 986.041 98.1909 982.499 Q96.3854 978.935 92.7512 978.935 M92.7512 975.231 Q98.5613 975.231 101.617 979.837 Q104.696 984.421 104.696 993.171 Q104.696 1001.9 101.617 1006.5 Q98.5613 1011.09 92.7512 1011.09 Q86.941 1011.09 83.8623 1006.5 Q80.8068 1001.9 80.8068 993.171 Q80.8068 984.421 83.8623 979.837 Q86.941 975.231 92.7512 975.231 Z\" fill=\"#000000\" fill-rule=\"evenodd\" fill-opacity=\"1\" /><path clip-path=\"url(#clip000)\" d=\"M122.913 978.935 Q119.302 978.935 117.473 982.499 Q115.668 986.041 115.668 993.171 Q115.668 1000.28 117.473 1003.84 Q119.302 1007.38 122.913 1007.38 Q126.547 1007.38 128.353 1003.84 Q130.182 1000.28 130.182 993.171 Q130.182 986.041 128.353 982.499 Q126.547 978.935 122.913 978.935 M122.913 975.231 Q128.723 975.231 131.779 979.837 Q134.857 984.421 134.857 993.171 Q134.857 1001.9 131.779 1006.5 Q128.723 1011.09 122.913 1011.09 Q117.103 1011.09 114.024 1006.5 Q110.969 1001.9 110.969 993.171 Q110.969 984.421 114.024 979.837 Q117.103 975.231 122.913 975.231 Z\" fill=\"#000000\" fill-rule=\"evenodd\" fill-opacity=\"1\" /><path clip-path=\"url(#clip000)\" d=\"M56.6171 553.901 L72.9365 553.901 L72.9365 557.836 L50.9921 557.836 L50.9921 553.901 Q53.6541 551.146 58.2375 546.517 Q62.8439 541.864 64.0245 540.521 Q66.2698 537.998 67.1494 536.262 Q68.0522 534.503 68.0522 532.813 Q68.0522 530.058 66.1078 528.322 Q64.1865 526.586 61.0847 526.586 Q58.8856 526.586 56.4319 527.35 Q54.0014 528.114 51.2236 529.665 L51.2236 524.943 Q54.0477 523.808 56.5014 523.23 Q58.955 522.651 60.9921 522.651 Q66.3624 522.651 69.5568 525.336 Q72.7513 528.021 72.7513 532.512 Q72.7513 534.642 71.9411 536.563 Q71.1541 538.461 69.0476 541.054 Q68.4689 541.725 65.367 544.943 Q62.2652 548.137 56.6171 553.901 Z\" fill=\"#000000\" fill-rule=\"evenodd\" fill-opacity=\"1\" /><path clip-path=\"url(#clip000)\" d=\"M92.7512 526.355 Q89.1401 526.355 87.3114 529.92 Q85.5058 533.461 85.5058 540.591 Q85.5058 547.697 87.3114 551.262 Q89.1401 554.804 92.7512 554.804 Q96.3854 554.804 98.1909 551.262 Q100.02 547.697 100.02 540.591 Q100.02 533.461 98.1909 529.92 Q96.3854 526.355 92.7512 526.355 M92.7512 522.651 Q98.5613 522.651 101.617 527.258 Q104.696 531.841 104.696 540.591 Q104.696 549.318 101.617 553.924 Q98.5613 558.507 92.7512 558.507 Q86.941 558.507 83.8623 553.924 Q80.8068 549.318 80.8068 540.591 Q80.8068 531.841 83.8623 527.258 Q86.941 522.651 92.7512 522.651 Z\" fill=\"#000000\" fill-rule=\"evenodd\" fill-opacity=\"1\" /><path clip-path=\"url(#clip000)\" d=\"M122.913 526.355 Q119.302 526.355 117.473 529.92 Q115.668 533.461 115.668 540.591 Q115.668 547.697 117.473 551.262 Q119.302 554.804 122.913 554.804 Q126.547 554.804 128.353 551.262 Q130.182 547.697 130.182 540.591 Q130.182 533.461 128.353 529.92 Q126.547 526.355 122.913 526.355 M122.913 522.651 Q128.723 522.651 131.779 527.258 Q134.857 531.841 134.857 540.591 Q134.857 549.318 131.779 553.924 Q128.723 558.507 122.913 558.507 Q117.103 558.507 114.024 553.924 Q110.969 549.318 110.969 540.591 Q110.969 531.841 114.024 527.258 Q117.103 522.651 122.913 522.651 Z\" fill=\"#000000\" fill-rule=\"evenodd\" fill-opacity=\"1\" /><path clip-path=\"url(#clip000)\" d=\"M66.7559 86.6221 Q70.1124 87.3397 71.9874 89.6082 Q73.8855 91.8767 73.8855 95.21 Q73.8855 100.326 70.367 103.127 Q66.8485 105.928 60.3671 105.928 Q58.1912 105.928 55.8764 105.488 Q53.5847 105.071 51.131 104.215 L51.131 99.7008 Q53.0754 100.835 55.3903 101.414 Q57.7051 101.992 60.2282 101.992 Q64.6263 101.992 66.918 100.256 Q69.2328 98.5202 69.2328 95.21 Q69.2328 92.1545 67.08 90.4415 Q64.9504 88.7054 61.131 88.7054 L57.1032 88.7054 L57.1032 84.8629 L61.3161 84.8629 Q64.7652 84.8629 66.5939 83.4971 Q68.4226 82.1083 68.4226 79.5157 Q68.4226 76.8537 66.5245 75.4416 Q64.6495 74.0064 61.131 74.0064 Q59.2097 74.0064 57.0106 74.4231 Q54.8115 74.8398 52.1727 75.7194 L52.1727 71.5528 Q54.8347 70.812 57.1495 70.4416 Q59.4875 70.0713 61.5476 70.0713 Q66.8717 70.0713 69.9735 72.5018 Q73.0753 74.9092 73.0753 79.0296 Q73.0753 81.8999 71.4318 83.8907 Q69.7883 85.8582 66.7559 86.6221 Z\" fill=\"#000000\" fill-rule=\"evenodd\" fill-opacity=\"1\" /><path clip-path=\"url(#clip000)\" d=\"M92.7512 73.775 Q89.1401 73.775 87.3114 77.3398 Q85.5058 80.8814 85.5058 88.011 Q85.5058 95.1174 87.3114 98.6822 Q89.1401 102.224 92.7512 102.224 Q96.3854 102.224 98.1909 98.6822 Q100.02 95.1174 100.02 88.011 Q100.02 80.8814 98.1909 77.3398 Q96.3854 73.775 92.7512 73.775 M92.7512 70.0713 Q98.5613 70.0713 101.617 74.6777 Q104.696 79.261 104.696 88.011 Q104.696 96.7378 101.617 101.344 Q98.5613 105.928 92.7512 105.928 Q86.941 105.928 83.8623 101.344 Q80.8068 96.7378 80.8068 88.011 Q80.8068 79.261 83.8623 74.6777 Q86.941 70.0713 92.7512 70.0713 Z\" fill=\"#000000\" fill-rule=\"evenodd\" fill-opacity=\"1\" /><path clip-path=\"url(#clip000)\" d=\"M122.913 73.775 Q119.302 73.775 117.473 77.3398 Q115.668 80.8814 115.668 88.011 Q115.668 95.1174 117.473 98.6822 Q119.302 102.224 122.913 102.224 Q126.547 102.224 128.353 98.6822 Q130.182 95.1174 130.182 88.011 Q130.182 80.8814 128.353 77.3398 Q126.547 73.775 122.913 73.775 M122.913 70.0713 Q128.723 70.0713 131.779 74.6777 Q134.857 79.261 134.857 88.011 Q134.857 96.7378 131.779 101.344 Q128.723 105.928 122.913 105.928 Q117.103 105.928 114.024 101.344 Q110.969 96.7378 110.969 88.011 Q110.969 79.261 114.024 74.6777 Q117.103 70.0713 122.913 70.0713 Z\" fill=\"#000000\" fill-rule=\"evenodd\" fill-opacity=\"1\" /><path clip-path=\"url(#clip002)\" d=\"\nM290.866 87.9763 L290.866 1445.72 L387.96 1445.72 L387.96 87.9763 L290.866 87.9763 L290.866 87.9763  Z\n  \" fill=\"#009af9\" fill-rule=\"evenodd\" fill-opacity=\"1\"/>\n<polyline clip-path=\"url(#clip002)\" style=\"stroke:#000000; stroke-linecap:butt; stroke-linejoin:round; stroke-width:4; stroke-opacity:1; fill:none\" points=\"\n  290.866,87.9763 290.866,1445.72 387.96,1445.72 387.96,87.9763 290.866,87.9763 \n  \"/>\n<path clip-path=\"url(#clip002)\" d=\"\nM387.96 640.124 L387.96 1445.72 L485.054 1445.72 L485.054 640.124 L387.96 640.124 L387.96 640.124  Z\n  \" fill=\"#009af9\" fill-rule=\"evenodd\" fill-opacity=\"1\"/>\n<polyline clip-path=\"url(#clip002)\" style=\"stroke:#000000; stroke-linecap:butt; stroke-linejoin:round; stroke-width:4; stroke-opacity:1; fill:none\" points=\"\n  387.96,640.124 387.96,1445.72 485.054,1445.72 485.054,640.124 387.96,640.124 \n  \"/>\n<path clip-path=\"url(#clip002)\" d=\"\nM485.054 889.043 L485.054 1445.72 L582.148 1445.72 L582.148 889.043 L485.054 889.043 L485.054 889.043  Z\n  \" fill=\"#009af9\" fill-rule=\"evenodd\" fill-opacity=\"1\"/>\n<polyline clip-path=\"url(#clip002)\" style=\"stroke:#000000; stroke-linecap:butt; stroke-linejoin:round; stroke-width:4; stroke-opacity:1; fill:none\" points=\"\n  485.054,889.043 485.054,1445.72 582.148,1445.72 582.148,889.043 485.054,889.043 \n  \"/>\n<path clip-path=\"url(#clip002)\" d=\"\nM582.148 925.249 L582.148 1445.72 L679.242 1445.72 L679.242 925.249 L582.148 925.249 L582.148 925.249  Z\n  \" fill=\"#009af9\" fill-rule=\"evenodd\" fill-opacity=\"1\"/>\n<polyline clip-path=\"url(#clip002)\" style=\"stroke:#000000; stroke-linecap:butt; stroke-linejoin:round; stroke-width:4; stroke-opacity:1; fill:none\" points=\"\n  582.148,925.249 582.148,1445.72 679.242,1445.72 679.242,925.249 582.148,925.249 \n  \"/>\n<path clip-path=\"url(#clip002)\" d=\"\nM679.242 1002.19 L679.242 1445.72 L776.336 1445.72 L776.336 1002.19 L679.242 1002.19 L679.242 1002.19  Z\n  \" fill=\"#009af9\" fill-rule=\"evenodd\" fill-opacity=\"1\"/>\n<polyline clip-path=\"url(#clip002)\" style=\"stroke:#000000; stroke-linecap:butt; stroke-linejoin:round; stroke-width:4; stroke-opacity:1; fill:none\" points=\"\n  679.242,1002.19 679.242,1445.72 776.336,1445.72 776.336,1002.19 679.242,1002.19 \n  \"/>\n<path clip-path=\"url(#clip002)\" d=\"\nM776.336 1115.33 L776.336 1445.72 L873.43 1445.72 L873.43 1115.33 L776.336 1115.33 L776.336 1115.33  Z\n  \" fill=\"#009af9\" fill-rule=\"evenodd\" fill-opacity=\"1\"/>\n<polyline clip-path=\"url(#clip002)\" style=\"stroke:#000000; stroke-linecap:butt; stroke-linejoin:round; stroke-width:4; stroke-opacity:1; fill:none\" points=\"\n  776.336,1115.33 776.336,1445.72 873.43,1445.72 873.43,1115.33 776.336,1115.33 \n  \"/>\n<path clip-path=\"url(#clip002)\" d=\"\nM873.43 1110.81 L873.43 1445.72 L970.524 1445.72 L970.524 1110.81 L873.43 1110.81 L873.43 1110.81  Z\n  \" fill=\"#009af9\" fill-rule=\"evenodd\" fill-opacity=\"1\"/>\n<polyline clip-path=\"url(#clip002)\" style=\"stroke:#000000; stroke-linecap:butt; stroke-linejoin:round; stroke-width:4; stroke-opacity:1; fill:none\" points=\"\n  873.43,1110.81 873.43,1445.72 970.524,1445.72 970.524,1110.81 873.43,1110.81 \n  \"/>\n<path clip-path=\"url(#clip002)\" d=\"\nM970.524 1260.16 L970.524 1445.72 L1067.62 1445.72 L1067.62 1260.16 L970.524 1260.16 L970.524 1260.16  Z\n  \" fill=\"#009af9\" fill-rule=\"evenodd\" fill-opacity=\"1\"/>\n<polyline clip-path=\"url(#clip002)\" style=\"stroke:#000000; stroke-linecap:butt; stroke-linejoin:round; stroke-width:4; stroke-opacity:1; fill:none\" points=\"\n  970.524,1260.16 970.524,1445.72 1067.62,1445.72 1067.62,1260.16 970.524,1260.16 \n  \"/>\n<path clip-path=\"url(#clip002)\" d=\"\nM1067.62 1223.95 L1067.62 1445.72 L1164.71 1445.72 L1164.71 1223.95 L1067.62 1223.95 L1067.62 1223.95  Z\n  \" fill=\"#009af9\" fill-rule=\"evenodd\" fill-opacity=\"1\"/>\n<polyline clip-path=\"url(#clip002)\" style=\"stroke:#000000; stroke-linecap:butt; stroke-linejoin:round; stroke-width:4; stroke-opacity:1; fill:none\" points=\"\n  1067.62,1223.95 1067.62,1445.72 1164.71,1445.72 1164.71,1223.95 1067.62,1223.95 \n  \"/>\n<path clip-path=\"url(#clip002)\" d=\"\nM1164.71 1305.42 L1164.71 1445.72 L1261.81 1445.72 L1261.81 1305.42 L1164.71 1305.42 L1164.71 1305.42  Z\n  \" fill=\"#009af9\" fill-rule=\"evenodd\" fill-opacity=\"1\"/>\n<polyline clip-path=\"url(#clip002)\" style=\"stroke:#000000; stroke-linecap:butt; stroke-linejoin:round; stroke-width:4; stroke-opacity:1; fill:none\" points=\"\n  1164.71,1305.42 1164.71,1445.72 1261.81,1445.72 1261.81,1305.42 1164.71,1305.42 \n  \"/>\n<path clip-path=\"url(#clip002)\" d=\"\nM1261.81 1337.1 L1261.81 1445.72 L1358.9 1445.72 L1358.9 1337.1 L1261.81 1337.1 L1261.81 1337.1  Z\n  \" fill=\"#009af9\" fill-rule=\"evenodd\" fill-opacity=\"1\"/>\n<polyline clip-path=\"url(#clip002)\" style=\"stroke:#000000; stroke-linecap:butt; stroke-linejoin:round; stroke-width:4; stroke-opacity:1; fill:none\" points=\"\n  1261.81,1337.1 1261.81,1445.72 1358.9,1445.72 1358.9,1337.1 1261.81,1337.1 \n  \"/>\n<path clip-path=\"url(#clip002)\" d=\"\nM1358.9 1404.98 L1358.9 1445.72 L1455.99 1445.72 L1455.99 1404.98 L1358.9 1404.98 L1358.9 1404.98  Z\n  \" fill=\"#009af9\" fill-rule=\"evenodd\" fill-opacity=\"1\"/>\n<polyline clip-path=\"url(#clip002)\" style=\"stroke:#000000; stroke-linecap:butt; stroke-linejoin:round; stroke-width:4; stroke-opacity:1; fill:none\" points=\"\n  1358.9,1404.98 1358.9,1445.72 1455.99,1445.72 1455.99,1404.98 1358.9,1404.98 \n  \"/>\n<path clip-path=\"url(#clip002)\" d=\"\nM1455.99 1355.2 L1455.99 1445.72 L1553.09 1445.72 L1553.09 1355.2 L1455.99 1355.2 L1455.99 1355.2  Z\n  \" fill=\"#009af9\" fill-rule=\"evenodd\" fill-opacity=\"1\"/>\n<polyline clip-path=\"url(#clip002)\" style=\"stroke:#000000; stroke-linecap:butt; stroke-linejoin:round; stroke-width:4; stroke-opacity:1; fill:none\" points=\"\n  1455.99,1355.2 1455.99,1445.72 1553.09,1445.72 1553.09,1355.2 1455.99,1355.2 \n  \"/>\n<path clip-path=\"url(#clip002)\" d=\"\nM1553.09 1400.46 L1553.09 1445.72 L1650.18 1445.72 L1650.18 1400.46 L1553.09 1400.46 L1553.09 1400.46  Z\n  \" fill=\"#009af9\" fill-rule=\"evenodd\" fill-opacity=\"1\"/>\n<polyline clip-path=\"url(#clip002)\" style=\"stroke:#000000; stroke-linecap:butt; stroke-linejoin:round; stroke-width:4; stroke-opacity:1; fill:none\" points=\"\n  1553.09,1400.46 1553.09,1445.72 1650.18,1445.72 1650.18,1400.46 1553.09,1400.46 \n  \"/>\n<path clip-path=\"url(#clip002)\" d=\"\nM1650.18 1418.56 L1650.18 1445.72 L1747.28 1445.72 L1747.28 1418.56 L1650.18 1418.56 L1650.18 1418.56  Z\n  \" fill=\"#009af9\" fill-rule=\"evenodd\" fill-opacity=\"1\"/>\n<polyline clip-path=\"url(#clip002)\" style=\"stroke:#000000; stroke-linecap:butt; stroke-linejoin:round; stroke-width:4; stroke-opacity:1; fill:none\" points=\"\n  1650.18,1418.56 1650.18,1445.72 1747.28,1445.72 1747.28,1418.56 1650.18,1418.56 \n  \"/>\n<path clip-path=\"url(#clip002)\" d=\"\nM1747.28 1432.14 L1747.28 1445.72 L1844.37 1445.72 L1844.37 1432.14 L1747.28 1432.14 L1747.28 1432.14  Z\n  \" fill=\"#009af9\" fill-rule=\"evenodd\" fill-opacity=\"1\"/>\n<polyline clip-path=\"url(#clip002)\" style=\"stroke:#000000; stroke-linecap:butt; stroke-linejoin:round; stroke-width:4; stroke-opacity:1; fill:none\" points=\"\n  1747.28,1432.14 1747.28,1445.72 1844.37,1445.72 1844.37,1432.14 1747.28,1432.14 \n  \"/>\n<path clip-path=\"url(#clip002)\" d=\"\nM1844.37 1427.61 L1844.37 1445.72 L1941.47 1445.72 L1941.47 1427.61 L1844.37 1427.61 L1844.37 1427.61  Z\n  \" fill=\"#009af9\" fill-rule=\"evenodd\" fill-opacity=\"1\"/>\n<polyline clip-path=\"url(#clip002)\" style=\"stroke:#000000; stroke-linecap:butt; stroke-linejoin:round; stroke-width:4; stroke-opacity:1; fill:none\" points=\"\n  1844.37,1427.61 1844.37,1445.72 1941.47,1445.72 1941.47,1427.61 1844.37,1427.61 \n  \"/>\n<path clip-path=\"url(#clip002)\" d=\"\nM1941.47 1427.61 L1941.47 1445.72 L2038.56 1445.72 L2038.56 1427.61 L1941.47 1427.61 L1941.47 1427.61  Z\n  \" fill=\"#009af9\" fill-rule=\"evenodd\" fill-opacity=\"1\"/>\n<polyline clip-path=\"url(#clip002)\" style=\"stroke:#000000; stroke-linecap:butt; stroke-linejoin:round; stroke-width:4; stroke-opacity:1; fill:none\" points=\"\n  1941.47,1427.61 1941.47,1445.72 2038.56,1445.72 2038.56,1427.61 1941.47,1427.61 \n  \"/>\n<path clip-path=\"url(#clip002)\" d=\"\nM2038.56 1436.66 L2038.56 1445.72 L2135.65 1445.72 L2135.65 1436.66 L2038.56 1436.66 L2038.56 1436.66  Z\n  \" fill=\"#009af9\" fill-rule=\"evenodd\" fill-opacity=\"1\"/>\n<polyline clip-path=\"url(#clip002)\" style=\"stroke:#000000; stroke-linecap:butt; stroke-linejoin:round; stroke-width:4; stroke-opacity:1; fill:none\" points=\"\n  2038.56,1436.66 2038.56,1445.72 2135.65,1445.72 2135.65,1436.66 2038.56,1436.66 \n  \"/>\n<path clip-path=\"url(#clip002)\" d=\"\nM2135.65 1432.14 L2135.65 1445.72 L2232.75 1445.72 L2232.75 1432.14 L2135.65 1432.14 L2135.65 1432.14  Z\n  \" fill=\"#009af9\" fill-rule=\"evenodd\" fill-opacity=\"1\"/>\n<polyline clip-path=\"url(#clip002)\" style=\"stroke:#000000; stroke-linecap:butt; stroke-linejoin:round; stroke-width:4; stroke-opacity:1; fill:none\" points=\"\n  2135.65,1432.14 2135.65,1445.72 2232.75,1445.72 2232.75,1432.14 2135.65,1432.14 \n  \"/>\n<circle clip-path=\"url(#clip002)\" style=\"fill:#009af9; stroke:none; fill-opacity:0\" cx=\"339.413\" cy=\"87.9763\" r=\"2\"/>\n<circle clip-path=\"url(#clip002)\" style=\"fill:#009af9; stroke:none; fill-opacity:0\" cx=\"436.507\" cy=\"640.124\" r=\"2\"/>\n<circle clip-path=\"url(#clip002)\" style=\"fill:#009af9; stroke:none; fill-opacity:0\" cx=\"533.601\" cy=\"889.043\" r=\"2\"/>\n<circle clip-path=\"url(#clip002)\" style=\"fill:#009af9; stroke:none; fill-opacity:0\" cx=\"630.695\" cy=\"925.249\" r=\"2\"/>\n<circle clip-path=\"url(#clip002)\" style=\"fill:#009af9; stroke:none; fill-opacity:0\" cx=\"727.789\" cy=\"1002.19\" r=\"2\"/>\n<circle clip-path=\"url(#clip002)\" style=\"fill:#009af9; stroke:none; fill-opacity:0\" cx=\"824.883\" cy=\"1115.33\" r=\"2\"/>\n<circle clip-path=\"url(#clip002)\" style=\"fill:#009af9; stroke:none; fill-opacity:0\" cx=\"921.977\" cy=\"1110.81\" r=\"2\"/>\n<circle clip-path=\"url(#clip002)\" style=\"fill:#009af9; stroke:none; fill-opacity:0\" cx=\"1019.07\" cy=\"1260.16\" r=\"2\"/>\n<circle clip-path=\"url(#clip002)\" style=\"fill:#009af9; stroke:none; fill-opacity:0\" cx=\"1116.17\" cy=\"1223.95\" r=\"2\"/>\n<circle clip-path=\"url(#clip002)\" style=\"fill:#009af9; stroke:none; fill-opacity:0\" cx=\"1213.26\" cy=\"1305.42\" r=\"2\"/>\n<circle clip-path=\"url(#clip002)\" style=\"fill:#009af9; stroke:none; fill-opacity:0\" cx=\"1310.35\" cy=\"1337.1\" r=\"2\"/>\n<circle clip-path=\"url(#clip002)\" style=\"fill:#009af9; stroke:none; fill-opacity:0\" cx=\"1407.45\" cy=\"1404.98\" r=\"2\"/>\n<circle clip-path=\"url(#clip002)\" style=\"fill:#009af9; stroke:none; fill-opacity:0\" cx=\"1504.54\" cy=\"1355.2\" r=\"2\"/>\n<circle clip-path=\"url(#clip002)\" style=\"fill:#009af9; stroke:none; fill-opacity:0\" cx=\"1601.64\" cy=\"1400.46\" r=\"2\"/>\n<circle clip-path=\"url(#clip002)\" style=\"fill:#009af9; stroke:none; fill-opacity:0\" cx=\"1698.73\" cy=\"1418.56\" r=\"2\"/>\n<circle clip-path=\"url(#clip002)\" style=\"fill:#009af9; stroke:none; fill-opacity:0\" cx=\"1795.82\" cy=\"1432.14\" r=\"2\"/>\n<circle clip-path=\"url(#clip002)\" style=\"fill:#009af9; stroke:none; fill-opacity:0\" cx=\"1892.92\" cy=\"1427.61\" r=\"2\"/>\n<circle clip-path=\"url(#clip002)\" style=\"fill:#009af9; stroke:none; fill-opacity:0\" cx=\"1990.01\" cy=\"1427.61\" r=\"2\"/>\n<circle clip-path=\"url(#clip002)\" style=\"fill:#009af9; stroke:none; fill-opacity:0\" cx=\"2087.11\" cy=\"1436.66\" r=\"2\"/>\n<circle clip-path=\"url(#clip002)\" style=\"fill:#009af9; stroke:none; fill-opacity:0\" cx=\"2184.2\" cy=\"1432.14\" r=\"2\"/>\n<path clip-path=\"url(#clip000)\" d=\"\nM1985.16 198.898 L2280.03 198.898 L2280.03 95.2176 L1985.16 95.2176  Z\n  \" fill=\"#ffffff\" fill-rule=\"evenodd\" fill-opacity=\"1\"/>\n<polyline clip-path=\"url(#clip000)\" style=\"stroke:#000000; stroke-linecap:butt; stroke-linejoin:round; stroke-width:4; stroke-opacity:1; fill:none\" points=\"\n  1985.16,198.898 2280.03,198.898 2280.03,95.2176 1985.16,95.2176 1985.16,198.898 \n  \"/>\n<path clip-path=\"url(#clip000)\" d=\"\nM2009.41 167.794 L2154.87 167.794 L2154.87 126.322 L2009.41 126.322 L2009.41 167.794  Z\n  \" fill=\"#009af9\" fill-rule=\"evenodd\" fill-opacity=\"1\"/>\n<polyline clip-path=\"url(#clip000)\" style=\"stroke:#000000; stroke-linecap:butt; stroke-linejoin:round; stroke-width:4; stroke-opacity:1; fill:none\" points=\"\n  2009.41,167.794 2154.87,167.794 2154.87,126.322 2009.41,126.322 2009.41,167.794 \n  \"/>\n<path clip-path=\"url(#clip000)\" d=\"M2192.95 166.745 Q2191.15 171.375 2189.43 172.787 Q2187.72 174.199 2184.85 174.199 L2181.45 174.199 L2181.45 170.634 L2183.95 170.634 Q2185.71 170.634 2186.68 169.8 Q2187.65 168.967 2188.83 165.865 L2189.6 163.921 L2179.11 138.412 L2183.62 138.412 L2191.72 158.689 L2199.83 138.412 L2204.34 138.412 L2192.95 166.745 Z\" fill=\"#000000\" fill-rule=\"evenodd\" fill-opacity=\"1\" /><path clip-path=\"url(#clip000)\" d=\"M2211.63 160.402 L2219.27 160.402 L2219.27 134.037 L2210.96 135.703 L2210.96 131.444 L2219.22 129.778 L2223.9 129.778 L2223.9 160.402 L2231.54 160.402 L2231.54 164.338 L2211.63 164.338 L2211.63 160.402 Z\" fill=\"#000000\" fill-rule=\"evenodd\" fill-opacity=\"1\" /></svg>\n",
      "text/html": [
       "<?xml version=\"1.0\" encoding=\"utf-8\"?>\n",
       "<svg xmlns=\"http://www.w3.org/2000/svg\" xmlns:xlink=\"http://www.w3.org/1999/xlink\" width=\"600\" height=\"400\" viewBox=\"0 0 2400 1600\">\n",
       "<defs>\n",
       "  <clipPath id=\"clip050\">\n",
       "    <rect x=\"0\" y=\"0\" width=\"2400\" height=\"1600\"/>\n",
       "  </clipPath>\n",
       "</defs>\n",
       "<path clip-path=\"url(#clip050)\" d=\"\n",
       "M0 1600 L2400 1600 L2400 0 L0 0  Z\n",
       "  \" fill=\"#ffffff\" fill-rule=\"evenodd\" fill-opacity=\"1\"/>\n",
       "<defs>\n",
       "  <clipPath id=\"clip051\">\n",
       "    <rect x=\"480\" y=\"0\" width=\"1681\" height=\"1600\"/>\n",
       "  </clipPath>\n",
       "</defs>\n",
       "<path clip-path=\"url(#clip050)\" d=\"\n",
       "M170.857 1486.45 L2352.76 1486.45 L2352.76 47.2441 L170.857 47.2441  Z\n",
       "  \" fill=\"#ffffff\" fill-rule=\"evenodd\" fill-opacity=\"1\"/>\n",
       "<defs>\n",
       "  <clipPath id=\"clip052\">\n",
       "    <rect x=\"170\" y=\"47\" width=\"2183\" height=\"1440\"/>\n",
       "  </clipPath>\n",
       "</defs>\n",
       "<polyline clip-path=\"url(#clip052)\" style=\"stroke:#000000; stroke-linecap:butt; stroke-linejoin:round; stroke-width:2; stroke-opacity:0.1; fill:none\" points=\"\n",
       "  290.866,1486.45 290.866,47.2441 \n",
       "  \"/>\n",
       "<polyline clip-path=\"url(#clip052)\" style=\"stroke:#000000; stroke-linecap:butt; stroke-linejoin:round; stroke-width:2; stroke-opacity:0.1; fill:none\" points=\"\n",
       "  776.336,1486.45 776.336,47.2441 \n",
       "  \"/>\n",
       "<polyline clip-path=\"url(#clip052)\" style=\"stroke:#000000; stroke-linecap:butt; stroke-linejoin:round; stroke-width:2; stroke-opacity:0.1; fill:none\" points=\"\n",
       "  1261.81,1486.45 1261.81,47.2441 \n",
       "  \"/>\n",
       "<polyline clip-path=\"url(#clip052)\" style=\"stroke:#000000; stroke-linecap:butt; stroke-linejoin:round; stroke-width:2; stroke-opacity:0.1; fill:none\" points=\"\n",
       "  1747.28,1486.45 1747.28,47.2441 \n",
       "  \"/>\n",
       "<polyline clip-path=\"url(#clip052)\" style=\"stroke:#000000; stroke-linecap:butt; stroke-linejoin:round; stroke-width:2; stroke-opacity:0.1; fill:none\" points=\"\n",
       "  2232.75,1486.45 2232.75,47.2441 \n",
       "  \"/>\n",
       "<polyline clip-path=\"url(#clip050)\" style=\"stroke:#000000; stroke-linecap:butt; stroke-linejoin:round; stroke-width:4; stroke-opacity:1; fill:none\" points=\"\n",
       "  170.857,1486.45 2352.76,1486.45 \n",
       "  \"/>\n",
       "<polyline clip-path=\"url(#clip050)\" style=\"stroke:#000000; stroke-linecap:butt; stroke-linejoin:round; stroke-width:4; stroke-opacity:1; fill:none\" points=\"\n",
       "  290.866,1486.45 290.866,1467.55 \n",
       "  \"/>\n",
       "<polyline clip-path=\"url(#clip050)\" style=\"stroke:#000000; stroke-linecap:butt; stroke-linejoin:round; stroke-width:4; stroke-opacity:1; fill:none\" points=\"\n",
       "  776.336,1486.45 776.336,1467.55 \n",
       "  \"/>\n",
       "<polyline clip-path=\"url(#clip050)\" style=\"stroke:#000000; stroke-linecap:butt; stroke-linejoin:round; stroke-width:4; stroke-opacity:1; fill:none\" points=\"\n",
       "  1261.81,1486.45 1261.81,1467.55 \n",
       "  \"/>\n",
       "<polyline clip-path=\"url(#clip050)\" style=\"stroke:#000000; stroke-linecap:butt; stroke-linejoin:round; stroke-width:4; stroke-opacity:1; fill:none\" points=\"\n",
       "  1747.28,1486.45 1747.28,1467.55 \n",
       "  \"/>\n",
       "<polyline clip-path=\"url(#clip050)\" style=\"stroke:#000000; stroke-linecap:butt; stroke-linejoin:round; stroke-width:4; stroke-opacity:1; fill:none\" points=\"\n",
       "  2232.75,1486.45 2232.75,1467.55 \n",
       "  \"/>\n",
       "<path clip-path=\"url(#clip050)\" d=\"M290.866 1517.37 Q287.255 1517.37 285.426 1520.93 Q283.62 1524.47 283.62 1531.6 Q283.62 1538.71 285.426 1542.27 Q287.255 1545.82 290.866 1545.82 Q294.5 1545.82 296.306 1542.27 Q298.134 1538.71 298.134 1531.6 Q298.134 1524.47 296.306 1520.93 Q294.5 1517.37 290.866 1517.37 M290.866 1513.66 Q296.676 1513.66 299.731 1518.27 Q302.81 1522.85 302.81 1531.6 Q302.81 1540.33 299.731 1544.94 Q296.676 1549.52 290.866 1549.52 Q285.056 1549.52 281.977 1544.94 Q278.921 1540.33 278.921 1531.6 Q278.921 1522.85 281.977 1518.27 Q285.056 1513.66 290.866 1513.66 Z\" fill=\"#000000\" fill-rule=\"evenodd\" fill-opacity=\"1\" /><path clip-path=\"url(#clip050)\" d=\"M755.607 1544.91 L771.926 1544.91 L771.926 1548.85 L749.982 1548.85 L749.982 1544.91 Q752.644 1542.16 757.227 1537.53 Q761.834 1532.88 763.015 1531.53 Q765.26 1529.01 766.139 1527.27 Q767.042 1525.51 767.042 1523.82 Q767.042 1521.07 765.098 1519.33 Q763.177 1517.6 760.075 1517.6 Q757.876 1517.6 755.422 1518.36 Q752.991 1519.13 750.214 1520.68 L750.214 1515.95 Q753.038 1514.82 755.491 1514.24 Q757.945 1513.66 759.982 1513.66 Q765.352 1513.66 768.547 1516.35 Q771.741 1519.03 771.741 1523.52 Q771.741 1525.65 770.931 1527.57 Q770.144 1529.47 768.038 1532.07 Q767.459 1532.74 764.357 1535.95 Q761.255 1539.15 755.607 1544.91 Z\" fill=\"#000000\" fill-rule=\"evenodd\" fill-opacity=\"1\" /><path clip-path=\"url(#clip050)\" d=\"M781.788 1514.29 L800.144 1514.29 L800.144 1518.22 L786.07 1518.22 L786.07 1526.7 Q787.088 1526.35 788.107 1526.19 Q789.125 1526 790.144 1526 Q795.931 1526 799.311 1529.17 Q802.69 1532.34 802.69 1537.76 Q802.69 1543.34 799.218 1546.44 Q795.746 1549.52 789.426 1549.52 Q787.25 1549.52 784.982 1549.15 Q782.737 1548.78 780.329 1548.04 L780.329 1543.34 Q782.413 1544.47 784.635 1545.03 Q786.857 1545.58 789.334 1545.58 Q793.338 1545.58 795.676 1543.48 Q798.014 1541.37 798.014 1537.76 Q798.014 1534.15 795.676 1532.04 Q793.338 1529.94 789.334 1529.94 Q787.459 1529.94 785.584 1530.35 Q783.732 1530.77 781.788 1531.65 L781.788 1514.29 Z\" fill=\"#000000\" fill-rule=\"evenodd\" fill-opacity=\"1\" /><path clip-path=\"url(#clip050)\" d=\"M1236.51 1514.29 L1254.86 1514.29 L1254.86 1518.22 L1240.79 1518.22 L1240.79 1526.7 Q1241.81 1526.35 1242.83 1526.19 Q1243.84 1526 1244.86 1526 Q1250.65 1526 1254.03 1529.17 Q1257.41 1532.34 1257.41 1537.76 Q1257.41 1543.34 1253.94 1546.44 Q1250.46 1549.52 1244.14 1549.52 Q1241.97 1549.52 1239.7 1549.15 Q1237.45 1548.78 1235.05 1548.04 L1235.05 1543.34 Q1237.13 1544.47 1239.35 1545.03 Q1241.58 1545.58 1244.05 1545.58 Q1248.06 1545.58 1250.39 1543.48 Q1252.73 1541.37 1252.73 1537.76 Q1252.73 1534.15 1250.39 1532.04 Q1248.06 1529.94 1244.05 1529.94 Q1242.18 1529.94 1240.3 1530.35 Q1238.45 1530.77 1236.51 1531.65 L1236.51 1514.29 Z\" fill=\"#000000\" fill-rule=\"evenodd\" fill-opacity=\"1\" /><path clip-path=\"url(#clip050)\" d=\"M1276.62 1517.37 Q1273.01 1517.37 1271.18 1520.93 Q1269.38 1524.47 1269.38 1531.6 Q1269.38 1538.71 1271.18 1542.27 Q1273.01 1545.82 1276.62 1545.82 Q1280.26 1545.82 1282.06 1542.27 Q1283.89 1538.71 1283.89 1531.6 Q1283.89 1524.47 1282.06 1520.93 Q1280.26 1517.37 1276.62 1517.37 M1276.62 1513.66 Q1282.43 1513.66 1285.49 1518.27 Q1288.57 1522.85 1288.57 1531.6 Q1288.57 1540.33 1285.49 1544.94 Q1282.43 1549.52 1276.62 1549.52 Q1270.81 1549.52 1267.73 1544.94 Q1264.68 1540.33 1264.68 1531.6 Q1264.68 1522.85 1267.73 1518.27 Q1270.81 1513.66 1276.62 1513.66 Z\" fill=\"#000000\" fill-rule=\"evenodd\" fill-opacity=\"1\" /><path clip-path=\"url(#clip050)\" d=\"M1721.13 1514.29 L1743.35 1514.29 L1743.35 1516.28 L1730.81 1548.85 L1725.92 1548.85 L1737.73 1518.22 L1721.13 1518.22 L1721.13 1514.29 Z\" fill=\"#000000\" fill-rule=\"evenodd\" fill-opacity=\"1\" /><path clip-path=\"url(#clip050)\" d=\"M1752.52 1514.29 L1770.88 1514.29 L1770.88 1518.22 L1756.8 1518.22 L1756.8 1526.7 Q1757.82 1526.35 1758.84 1526.19 Q1759.86 1526 1760.88 1526 Q1766.66 1526 1770.04 1529.17 Q1773.42 1532.34 1773.42 1537.76 Q1773.42 1543.34 1769.95 1546.44 Q1766.48 1549.52 1760.16 1549.52 Q1757.98 1549.52 1755.71 1549.15 Q1753.47 1548.78 1751.06 1548.04 L1751.06 1543.34 Q1753.15 1544.47 1755.37 1545.03 Q1757.59 1545.58 1760.07 1545.58 Q1764.07 1545.58 1766.41 1543.48 Q1768.75 1541.37 1768.75 1537.76 Q1768.75 1534.15 1766.41 1532.04 Q1764.07 1529.94 1760.07 1529.94 Q1758.19 1529.94 1756.32 1530.35 Q1754.46 1530.77 1752.52 1531.65 L1752.52 1514.29 Z\" fill=\"#000000\" fill-rule=\"evenodd\" fill-opacity=\"1\" /><path clip-path=\"url(#clip050)\" d=\"M2192.35 1544.91 L2199.99 1544.91 L2199.99 1518.55 L2191.68 1520.21 L2191.68 1515.95 L2199.95 1514.29 L2204.62 1514.29 L2204.62 1544.91 L2212.26 1544.91 L2212.26 1548.85 L2192.35 1548.85 L2192.35 1544.91 Z\" fill=\"#000000\" fill-rule=\"evenodd\" fill-opacity=\"1\" /><path clip-path=\"url(#clip050)\" d=\"M2231.71 1517.37 Q2228.09 1517.37 2226.27 1520.93 Q2224.46 1524.47 2224.46 1531.6 Q2224.46 1538.71 2226.27 1542.27 Q2228.09 1545.82 2231.71 1545.82 Q2235.34 1545.82 2237.15 1542.27 Q2238.97 1538.71 2238.97 1531.6 Q2238.97 1524.47 2237.15 1520.93 Q2235.34 1517.37 2231.71 1517.37 M2231.71 1513.66 Q2237.52 1513.66 2240.57 1518.27 Q2243.65 1522.85 2243.65 1531.6 Q2243.65 1540.33 2240.57 1544.94 Q2237.52 1549.52 2231.71 1549.52 Q2225.9 1549.52 2222.82 1544.94 Q2219.76 1540.33 2219.76 1531.6 Q2219.76 1522.85 2222.82 1518.27 Q2225.9 1513.66 2231.71 1513.66 Z\" fill=\"#000000\" fill-rule=\"evenodd\" fill-opacity=\"1\" /><path clip-path=\"url(#clip050)\" d=\"M2261.87 1517.37 Q2258.26 1517.37 2256.43 1520.93 Q2254.62 1524.47 2254.62 1531.6 Q2254.62 1538.71 2256.43 1542.27 Q2258.26 1545.82 2261.87 1545.82 Q2265.5 1545.82 2267.31 1542.27 Q2269.14 1538.71 2269.14 1531.6 Q2269.14 1524.47 2267.31 1520.93 Q2265.5 1517.37 2261.87 1517.37 M2261.87 1513.66 Q2267.68 1513.66 2270.73 1518.27 Q2273.81 1522.85 2273.81 1531.6 Q2273.81 1540.33 2270.73 1544.94 Q2267.68 1549.52 2261.87 1549.52 Q2256.06 1549.52 2252.98 1544.94 Q2249.92 1540.33 2249.92 1531.6 Q2249.92 1522.85 2252.98 1518.27 Q2256.06 1513.66 2261.87 1513.66 Z\" fill=\"#000000\" fill-rule=\"evenodd\" fill-opacity=\"1\" /><polyline clip-path=\"url(#clip052)\" style=\"stroke:#000000; stroke-linecap:butt; stroke-linejoin:round; stroke-width:2; stroke-opacity:0.1; fill:none\" points=\"\n",
       "  170.857,1445.72 2352.76,1445.72 \n",
       "  \"/>\n",
       "<polyline clip-path=\"url(#clip052)\" style=\"stroke:#000000; stroke-linecap:butt; stroke-linejoin:round; stroke-width:2; stroke-opacity:0.1; fill:none\" points=\"\n",
       "  170.857,993.136 2352.76,993.136 \n",
       "  \"/>\n",
       "<polyline clip-path=\"url(#clip052)\" style=\"stroke:#000000; stroke-linecap:butt; stroke-linejoin:round; stroke-width:2; stroke-opacity:0.1; fill:none\" points=\"\n",
       "  170.857,540.556 2352.76,540.556 \n",
       "  \"/>\n",
       "<polyline clip-path=\"url(#clip052)\" style=\"stroke:#000000; stroke-linecap:butt; stroke-linejoin:round; stroke-width:2; stroke-opacity:0.1; fill:none\" points=\"\n",
       "  170.857,87.9763 2352.76,87.9763 \n",
       "  \"/>\n",
       "<polyline clip-path=\"url(#clip050)\" style=\"stroke:#000000; stroke-linecap:butt; stroke-linejoin:round; stroke-width:4; stroke-opacity:1; fill:none\" points=\"\n",
       "  170.857,1486.45 170.857,47.2441 \n",
       "  \"/>\n",
       "<polyline clip-path=\"url(#clip050)\" style=\"stroke:#000000; stroke-linecap:butt; stroke-linejoin:round; stroke-width:4; stroke-opacity:1; fill:none\" points=\"\n",
       "  170.857,1445.72 189.755,1445.72 \n",
       "  \"/>\n",
       "<polyline clip-path=\"url(#clip050)\" style=\"stroke:#000000; stroke-linecap:butt; stroke-linejoin:round; stroke-width:4; stroke-opacity:1; fill:none\" points=\"\n",
       "  170.857,993.136 189.755,993.136 \n",
       "  \"/>\n",
       "<polyline clip-path=\"url(#clip050)\" style=\"stroke:#000000; stroke-linecap:butt; stroke-linejoin:round; stroke-width:4; stroke-opacity:1; fill:none\" points=\"\n",
       "  170.857,540.556 189.755,540.556 \n",
       "  \"/>\n",
       "<polyline clip-path=\"url(#clip050)\" style=\"stroke:#000000; stroke-linecap:butt; stroke-linejoin:round; stroke-width:4; stroke-opacity:1; fill:none\" points=\"\n",
       "  170.857,87.9763 189.755,87.9763 \n",
       "  \"/>\n",
       "<path clip-path=\"url(#clip050)\" d=\"M122.913 1431.51 Q119.302 1431.51 117.473 1435.08 Q115.668 1438.62 115.668 1445.75 Q115.668 1452.86 117.473 1456.42 Q119.302 1459.96 122.913 1459.96 Q126.547 1459.96 128.353 1456.42 Q130.182 1452.86 130.182 1445.75 Q130.182 1438.62 128.353 1435.08 Q126.547 1431.51 122.913 1431.51 M122.913 1427.81 Q128.723 1427.81 131.779 1432.42 Q134.857 1437 134.857 1445.75 Q134.857 1454.48 131.779 1459.08 Q128.723 1463.67 122.913 1463.67 Q117.103 1463.67 114.024 1459.08 Q110.969 1454.48 110.969 1445.75 Q110.969 1437 114.024 1432.42 Q117.103 1427.81 122.913 1427.81 Z\" fill=\"#000000\" fill-rule=\"evenodd\" fill-opacity=\"1\" /><path clip-path=\"url(#clip050)\" d=\"M53.3995 1006.48 L61.0384 1006.48 L61.0384 980.115 L52.7282 981.782 L52.7282 977.523 L60.9921 975.856 L65.668 975.856 L65.668 1006.48 L73.3068 1006.48 L73.3068 1010.42 L53.3995 1010.42 L53.3995 1006.48 Z\" fill=\"#000000\" fill-rule=\"evenodd\" fill-opacity=\"1\" /><path clip-path=\"url(#clip050)\" d=\"M92.7512 978.935 Q89.1401 978.935 87.3114 982.499 Q85.5058 986.041 85.5058 993.171 Q85.5058 1000.28 87.3114 1003.84 Q89.1401 1007.38 92.7512 1007.38 Q96.3854 1007.38 98.1909 1003.84 Q100.02 1000.28 100.02 993.171 Q100.02 986.041 98.1909 982.499 Q96.3854 978.935 92.7512 978.935 M92.7512 975.231 Q98.5613 975.231 101.617 979.837 Q104.696 984.421 104.696 993.171 Q104.696 1001.9 101.617 1006.5 Q98.5613 1011.09 92.7512 1011.09 Q86.941 1011.09 83.8623 1006.5 Q80.8068 1001.9 80.8068 993.171 Q80.8068 984.421 83.8623 979.837 Q86.941 975.231 92.7512 975.231 Z\" fill=\"#000000\" fill-rule=\"evenodd\" fill-opacity=\"1\" /><path clip-path=\"url(#clip050)\" d=\"M122.913 978.935 Q119.302 978.935 117.473 982.499 Q115.668 986.041 115.668 993.171 Q115.668 1000.28 117.473 1003.84 Q119.302 1007.38 122.913 1007.38 Q126.547 1007.38 128.353 1003.84 Q130.182 1000.28 130.182 993.171 Q130.182 986.041 128.353 982.499 Q126.547 978.935 122.913 978.935 M122.913 975.231 Q128.723 975.231 131.779 979.837 Q134.857 984.421 134.857 993.171 Q134.857 1001.9 131.779 1006.5 Q128.723 1011.09 122.913 1011.09 Q117.103 1011.09 114.024 1006.5 Q110.969 1001.9 110.969 993.171 Q110.969 984.421 114.024 979.837 Q117.103 975.231 122.913 975.231 Z\" fill=\"#000000\" fill-rule=\"evenodd\" fill-opacity=\"1\" /><path clip-path=\"url(#clip050)\" d=\"M56.6171 553.901 L72.9365 553.901 L72.9365 557.836 L50.9921 557.836 L50.9921 553.901 Q53.6541 551.146 58.2375 546.517 Q62.8439 541.864 64.0245 540.521 Q66.2698 537.998 67.1494 536.262 Q68.0522 534.503 68.0522 532.813 Q68.0522 530.058 66.1078 528.322 Q64.1865 526.586 61.0847 526.586 Q58.8856 526.586 56.4319 527.35 Q54.0014 528.114 51.2236 529.665 L51.2236 524.943 Q54.0477 523.808 56.5014 523.23 Q58.955 522.651 60.9921 522.651 Q66.3624 522.651 69.5568 525.336 Q72.7513 528.021 72.7513 532.512 Q72.7513 534.642 71.9411 536.563 Q71.1541 538.461 69.0476 541.054 Q68.4689 541.725 65.367 544.943 Q62.2652 548.137 56.6171 553.901 Z\" fill=\"#000000\" fill-rule=\"evenodd\" fill-opacity=\"1\" /><path clip-path=\"url(#clip050)\" d=\"M92.7512 526.355 Q89.1401 526.355 87.3114 529.92 Q85.5058 533.461 85.5058 540.591 Q85.5058 547.697 87.3114 551.262 Q89.1401 554.804 92.7512 554.804 Q96.3854 554.804 98.1909 551.262 Q100.02 547.697 100.02 540.591 Q100.02 533.461 98.1909 529.92 Q96.3854 526.355 92.7512 526.355 M92.7512 522.651 Q98.5613 522.651 101.617 527.258 Q104.696 531.841 104.696 540.591 Q104.696 549.318 101.617 553.924 Q98.5613 558.507 92.7512 558.507 Q86.941 558.507 83.8623 553.924 Q80.8068 549.318 80.8068 540.591 Q80.8068 531.841 83.8623 527.258 Q86.941 522.651 92.7512 522.651 Z\" fill=\"#000000\" fill-rule=\"evenodd\" fill-opacity=\"1\" /><path clip-path=\"url(#clip050)\" d=\"M122.913 526.355 Q119.302 526.355 117.473 529.92 Q115.668 533.461 115.668 540.591 Q115.668 547.697 117.473 551.262 Q119.302 554.804 122.913 554.804 Q126.547 554.804 128.353 551.262 Q130.182 547.697 130.182 540.591 Q130.182 533.461 128.353 529.92 Q126.547 526.355 122.913 526.355 M122.913 522.651 Q128.723 522.651 131.779 527.258 Q134.857 531.841 134.857 540.591 Q134.857 549.318 131.779 553.924 Q128.723 558.507 122.913 558.507 Q117.103 558.507 114.024 553.924 Q110.969 549.318 110.969 540.591 Q110.969 531.841 114.024 527.258 Q117.103 522.651 122.913 522.651 Z\" fill=\"#000000\" fill-rule=\"evenodd\" fill-opacity=\"1\" /><path clip-path=\"url(#clip050)\" d=\"M66.7559 86.6221 Q70.1124 87.3397 71.9874 89.6082 Q73.8855 91.8767 73.8855 95.21 Q73.8855 100.326 70.367 103.127 Q66.8485 105.928 60.3671 105.928 Q58.1912 105.928 55.8764 105.488 Q53.5847 105.071 51.131 104.215 L51.131 99.7008 Q53.0754 100.835 55.3903 101.414 Q57.7051 101.992 60.2282 101.992 Q64.6263 101.992 66.918 100.256 Q69.2328 98.5202 69.2328 95.21 Q69.2328 92.1545 67.08 90.4415 Q64.9504 88.7054 61.131 88.7054 L57.1032 88.7054 L57.1032 84.8629 L61.3161 84.8629 Q64.7652 84.8629 66.5939 83.4971 Q68.4226 82.1083 68.4226 79.5157 Q68.4226 76.8537 66.5245 75.4416 Q64.6495 74.0064 61.131 74.0064 Q59.2097 74.0064 57.0106 74.4231 Q54.8115 74.8398 52.1727 75.7194 L52.1727 71.5528 Q54.8347 70.812 57.1495 70.4416 Q59.4875 70.0713 61.5476 70.0713 Q66.8717 70.0713 69.9735 72.5018 Q73.0753 74.9092 73.0753 79.0296 Q73.0753 81.8999 71.4318 83.8907 Q69.7883 85.8582 66.7559 86.6221 Z\" fill=\"#000000\" fill-rule=\"evenodd\" fill-opacity=\"1\" /><path clip-path=\"url(#clip050)\" d=\"M92.7512 73.775 Q89.1401 73.775 87.3114 77.3398 Q85.5058 80.8814 85.5058 88.011 Q85.5058 95.1174 87.3114 98.6822 Q89.1401 102.224 92.7512 102.224 Q96.3854 102.224 98.1909 98.6822 Q100.02 95.1174 100.02 88.011 Q100.02 80.8814 98.1909 77.3398 Q96.3854 73.775 92.7512 73.775 M92.7512 70.0713 Q98.5613 70.0713 101.617 74.6777 Q104.696 79.261 104.696 88.011 Q104.696 96.7378 101.617 101.344 Q98.5613 105.928 92.7512 105.928 Q86.941 105.928 83.8623 101.344 Q80.8068 96.7378 80.8068 88.011 Q80.8068 79.261 83.8623 74.6777 Q86.941 70.0713 92.7512 70.0713 Z\" fill=\"#000000\" fill-rule=\"evenodd\" fill-opacity=\"1\" /><path clip-path=\"url(#clip050)\" d=\"M122.913 73.775 Q119.302 73.775 117.473 77.3398 Q115.668 80.8814 115.668 88.011 Q115.668 95.1174 117.473 98.6822 Q119.302 102.224 122.913 102.224 Q126.547 102.224 128.353 98.6822 Q130.182 95.1174 130.182 88.011 Q130.182 80.8814 128.353 77.3398 Q126.547 73.775 122.913 73.775 M122.913 70.0713 Q128.723 70.0713 131.779 74.6777 Q134.857 79.261 134.857 88.011 Q134.857 96.7378 131.779 101.344 Q128.723 105.928 122.913 105.928 Q117.103 105.928 114.024 101.344 Q110.969 96.7378 110.969 88.011 Q110.969 79.261 114.024 74.6777 Q117.103 70.0713 122.913 70.0713 Z\" fill=\"#000000\" fill-rule=\"evenodd\" fill-opacity=\"1\" /><path clip-path=\"url(#clip052)\" d=\"\n",
       "M290.866 87.9763 L290.866 1445.72 L387.96 1445.72 L387.96 87.9763 L290.866 87.9763 L290.866 87.9763  Z\n",
       "  \" fill=\"#009af9\" fill-rule=\"evenodd\" fill-opacity=\"1\"/>\n",
       "<polyline clip-path=\"url(#clip052)\" style=\"stroke:#000000; stroke-linecap:butt; stroke-linejoin:round; stroke-width:4; stroke-opacity:1; fill:none\" points=\"\n",
       "  290.866,87.9763 290.866,1445.72 387.96,1445.72 387.96,87.9763 290.866,87.9763 \n",
       "  \"/>\n",
       "<path clip-path=\"url(#clip052)\" d=\"\n",
       "M387.96 640.124 L387.96 1445.72 L485.054 1445.72 L485.054 640.124 L387.96 640.124 L387.96 640.124  Z\n",
       "  \" fill=\"#009af9\" fill-rule=\"evenodd\" fill-opacity=\"1\"/>\n",
       "<polyline clip-path=\"url(#clip052)\" style=\"stroke:#000000; stroke-linecap:butt; stroke-linejoin:round; stroke-width:4; stroke-opacity:1; fill:none\" points=\"\n",
       "  387.96,640.124 387.96,1445.72 485.054,1445.72 485.054,640.124 387.96,640.124 \n",
       "  \"/>\n",
       "<path clip-path=\"url(#clip052)\" d=\"\n",
       "M485.054 889.043 L485.054 1445.72 L582.148 1445.72 L582.148 889.043 L485.054 889.043 L485.054 889.043  Z\n",
       "  \" fill=\"#009af9\" fill-rule=\"evenodd\" fill-opacity=\"1\"/>\n",
       "<polyline clip-path=\"url(#clip052)\" style=\"stroke:#000000; stroke-linecap:butt; stroke-linejoin:round; stroke-width:4; stroke-opacity:1; fill:none\" points=\"\n",
       "  485.054,889.043 485.054,1445.72 582.148,1445.72 582.148,889.043 485.054,889.043 \n",
       "  \"/>\n",
       "<path clip-path=\"url(#clip052)\" d=\"\n",
       "M582.148 925.249 L582.148 1445.72 L679.242 1445.72 L679.242 925.249 L582.148 925.249 L582.148 925.249  Z\n",
       "  \" fill=\"#009af9\" fill-rule=\"evenodd\" fill-opacity=\"1\"/>\n",
       "<polyline clip-path=\"url(#clip052)\" style=\"stroke:#000000; stroke-linecap:butt; stroke-linejoin:round; stroke-width:4; stroke-opacity:1; fill:none\" points=\"\n",
       "  582.148,925.249 582.148,1445.72 679.242,1445.72 679.242,925.249 582.148,925.249 \n",
       "  \"/>\n",
       "<path clip-path=\"url(#clip052)\" d=\"\n",
       "M679.242 1002.19 L679.242 1445.72 L776.336 1445.72 L776.336 1002.19 L679.242 1002.19 L679.242 1002.19  Z\n",
       "  \" fill=\"#009af9\" fill-rule=\"evenodd\" fill-opacity=\"1\"/>\n",
       "<polyline clip-path=\"url(#clip052)\" style=\"stroke:#000000; stroke-linecap:butt; stroke-linejoin:round; stroke-width:4; stroke-opacity:1; fill:none\" points=\"\n",
       "  679.242,1002.19 679.242,1445.72 776.336,1445.72 776.336,1002.19 679.242,1002.19 \n",
       "  \"/>\n",
       "<path clip-path=\"url(#clip052)\" d=\"\n",
       "M776.336 1115.33 L776.336 1445.72 L873.43 1445.72 L873.43 1115.33 L776.336 1115.33 L776.336 1115.33  Z\n",
       "  \" fill=\"#009af9\" fill-rule=\"evenodd\" fill-opacity=\"1\"/>\n",
       "<polyline clip-path=\"url(#clip052)\" style=\"stroke:#000000; stroke-linecap:butt; stroke-linejoin:round; stroke-width:4; stroke-opacity:1; fill:none\" points=\"\n",
       "  776.336,1115.33 776.336,1445.72 873.43,1445.72 873.43,1115.33 776.336,1115.33 \n",
       "  \"/>\n",
       "<path clip-path=\"url(#clip052)\" d=\"\n",
       "M873.43 1110.81 L873.43 1445.72 L970.524 1445.72 L970.524 1110.81 L873.43 1110.81 L873.43 1110.81  Z\n",
       "  \" fill=\"#009af9\" fill-rule=\"evenodd\" fill-opacity=\"1\"/>\n",
       "<polyline clip-path=\"url(#clip052)\" style=\"stroke:#000000; stroke-linecap:butt; stroke-linejoin:round; stroke-width:4; stroke-opacity:1; fill:none\" points=\"\n",
       "  873.43,1110.81 873.43,1445.72 970.524,1445.72 970.524,1110.81 873.43,1110.81 \n",
       "  \"/>\n",
       "<path clip-path=\"url(#clip052)\" d=\"\n",
       "M970.524 1260.16 L970.524 1445.72 L1067.62 1445.72 L1067.62 1260.16 L970.524 1260.16 L970.524 1260.16  Z\n",
       "  \" fill=\"#009af9\" fill-rule=\"evenodd\" fill-opacity=\"1\"/>\n",
       "<polyline clip-path=\"url(#clip052)\" style=\"stroke:#000000; stroke-linecap:butt; stroke-linejoin:round; stroke-width:4; stroke-opacity:1; fill:none\" points=\"\n",
       "  970.524,1260.16 970.524,1445.72 1067.62,1445.72 1067.62,1260.16 970.524,1260.16 \n",
       "  \"/>\n",
       "<path clip-path=\"url(#clip052)\" d=\"\n",
       "M1067.62 1223.95 L1067.62 1445.72 L1164.71 1445.72 L1164.71 1223.95 L1067.62 1223.95 L1067.62 1223.95  Z\n",
       "  \" fill=\"#009af9\" fill-rule=\"evenodd\" fill-opacity=\"1\"/>\n",
       "<polyline clip-path=\"url(#clip052)\" style=\"stroke:#000000; stroke-linecap:butt; stroke-linejoin:round; stroke-width:4; stroke-opacity:1; fill:none\" points=\"\n",
       "  1067.62,1223.95 1067.62,1445.72 1164.71,1445.72 1164.71,1223.95 1067.62,1223.95 \n",
       "  \"/>\n",
       "<path clip-path=\"url(#clip052)\" d=\"\n",
       "M1164.71 1305.42 L1164.71 1445.72 L1261.81 1445.72 L1261.81 1305.42 L1164.71 1305.42 L1164.71 1305.42  Z\n",
       "  \" fill=\"#009af9\" fill-rule=\"evenodd\" fill-opacity=\"1\"/>\n",
       "<polyline clip-path=\"url(#clip052)\" style=\"stroke:#000000; stroke-linecap:butt; stroke-linejoin:round; stroke-width:4; stroke-opacity:1; fill:none\" points=\"\n",
       "  1164.71,1305.42 1164.71,1445.72 1261.81,1445.72 1261.81,1305.42 1164.71,1305.42 \n",
       "  \"/>\n",
       "<path clip-path=\"url(#clip052)\" d=\"\n",
       "M1261.81 1337.1 L1261.81 1445.72 L1358.9 1445.72 L1358.9 1337.1 L1261.81 1337.1 L1261.81 1337.1  Z\n",
       "  \" fill=\"#009af9\" fill-rule=\"evenodd\" fill-opacity=\"1\"/>\n",
       "<polyline clip-path=\"url(#clip052)\" style=\"stroke:#000000; stroke-linecap:butt; stroke-linejoin:round; stroke-width:4; stroke-opacity:1; fill:none\" points=\"\n",
       "  1261.81,1337.1 1261.81,1445.72 1358.9,1445.72 1358.9,1337.1 1261.81,1337.1 \n",
       "  \"/>\n",
       "<path clip-path=\"url(#clip052)\" d=\"\n",
       "M1358.9 1404.98 L1358.9 1445.72 L1455.99 1445.72 L1455.99 1404.98 L1358.9 1404.98 L1358.9 1404.98  Z\n",
       "  \" fill=\"#009af9\" fill-rule=\"evenodd\" fill-opacity=\"1\"/>\n",
       "<polyline clip-path=\"url(#clip052)\" style=\"stroke:#000000; stroke-linecap:butt; stroke-linejoin:round; stroke-width:4; stroke-opacity:1; fill:none\" points=\"\n",
       "  1358.9,1404.98 1358.9,1445.72 1455.99,1445.72 1455.99,1404.98 1358.9,1404.98 \n",
       "  \"/>\n",
       "<path clip-path=\"url(#clip052)\" d=\"\n",
       "M1455.99 1355.2 L1455.99 1445.72 L1553.09 1445.72 L1553.09 1355.2 L1455.99 1355.2 L1455.99 1355.2  Z\n",
       "  \" fill=\"#009af9\" fill-rule=\"evenodd\" fill-opacity=\"1\"/>\n",
       "<polyline clip-path=\"url(#clip052)\" style=\"stroke:#000000; stroke-linecap:butt; stroke-linejoin:round; stroke-width:4; stroke-opacity:1; fill:none\" points=\"\n",
       "  1455.99,1355.2 1455.99,1445.72 1553.09,1445.72 1553.09,1355.2 1455.99,1355.2 \n",
       "  \"/>\n",
       "<path clip-path=\"url(#clip052)\" d=\"\n",
       "M1553.09 1400.46 L1553.09 1445.72 L1650.18 1445.72 L1650.18 1400.46 L1553.09 1400.46 L1553.09 1400.46  Z\n",
       "  \" fill=\"#009af9\" fill-rule=\"evenodd\" fill-opacity=\"1\"/>\n",
       "<polyline clip-path=\"url(#clip052)\" style=\"stroke:#000000; stroke-linecap:butt; stroke-linejoin:round; stroke-width:4; stroke-opacity:1; fill:none\" points=\"\n",
       "  1553.09,1400.46 1553.09,1445.72 1650.18,1445.72 1650.18,1400.46 1553.09,1400.46 \n",
       "  \"/>\n",
       "<path clip-path=\"url(#clip052)\" d=\"\n",
       "M1650.18 1418.56 L1650.18 1445.72 L1747.28 1445.72 L1747.28 1418.56 L1650.18 1418.56 L1650.18 1418.56  Z\n",
       "  \" fill=\"#009af9\" fill-rule=\"evenodd\" fill-opacity=\"1\"/>\n",
       "<polyline clip-path=\"url(#clip052)\" style=\"stroke:#000000; stroke-linecap:butt; stroke-linejoin:round; stroke-width:4; stroke-opacity:1; fill:none\" points=\"\n",
       "  1650.18,1418.56 1650.18,1445.72 1747.28,1445.72 1747.28,1418.56 1650.18,1418.56 \n",
       "  \"/>\n",
       "<path clip-path=\"url(#clip052)\" d=\"\n",
       "M1747.28 1432.14 L1747.28 1445.72 L1844.37 1445.72 L1844.37 1432.14 L1747.28 1432.14 L1747.28 1432.14  Z\n",
       "  \" fill=\"#009af9\" fill-rule=\"evenodd\" fill-opacity=\"1\"/>\n",
       "<polyline clip-path=\"url(#clip052)\" style=\"stroke:#000000; stroke-linecap:butt; stroke-linejoin:round; stroke-width:4; stroke-opacity:1; fill:none\" points=\"\n",
       "  1747.28,1432.14 1747.28,1445.72 1844.37,1445.72 1844.37,1432.14 1747.28,1432.14 \n",
       "  \"/>\n",
       "<path clip-path=\"url(#clip052)\" d=\"\n",
       "M1844.37 1427.61 L1844.37 1445.72 L1941.47 1445.72 L1941.47 1427.61 L1844.37 1427.61 L1844.37 1427.61  Z\n",
       "  \" fill=\"#009af9\" fill-rule=\"evenodd\" fill-opacity=\"1\"/>\n",
       "<polyline clip-path=\"url(#clip052)\" style=\"stroke:#000000; stroke-linecap:butt; stroke-linejoin:round; stroke-width:4; stroke-opacity:1; fill:none\" points=\"\n",
       "  1844.37,1427.61 1844.37,1445.72 1941.47,1445.72 1941.47,1427.61 1844.37,1427.61 \n",
       "  \"/>\n",
       "<path clip-path=\"url(#clip052)\" d=\"\n",
       "M1941.47 1427.61 L1941.47 1445.72 L2038.56 1445.72 L2038.56 1427.61 L1941.47 1427.61 L1941.47 1427.61  Z\n",
       "  \" fill=\"#009af9\" fill-rule=\"evenodd\" fill-opacity=\"1\"/>\n",
       "<polyline clip-path=\"url(#clip052)\" style=\"stroke:#000000; stroke-linecap:butt; stroke-linejoin:round; stroke-width:4; stroke-opacity:1; fill:none\" points=\"\n",
       "  1941.47,1427.61 1941.47,1445.72 2038.56,1445.72 2038.56,1427.61 1941.47,1427.61 \n",
       "  \"/>\n",
       "<path clip-path=\"url(#clip052)\" d=\"\n",
       "M2038.56 1436.66 L2038.56 1445.72 L2135.65 1445.72 L2135.65 1436.66 L2038.56 1436.66 L2038.56 1436.66  Z\n",
       "  \" fill=\"#009af9\" fill-rule=\"evenodd\" fill-opacity=\"1\"/>\n",
       "<polyline clip-path=\"url(#clip052)\" style=\"stroke:#000000; stroke-linecap:butt; stroke-linejoin:round; stroke-width:4; stroke-opacity:1; fill:none\" points=\"\n",
       "  2038.56,1436.66 2038.56,1445.72 2135.65,1445.72 2135.65,1436.66 2038.56,1436.66 \n",
       "  \"/>\n",
       "<path clip-path=\"url(#clip052)\" d=\"\n",
       "M2135.65 1432.14 L2135.65 1445.72 L2232.75 1445.72 L2232.75 1432.14 L2135.65 1432.14 L2135.65 1432.14  Z\n",
       "  \" fill=\"#009af9\" fill-rule=\"evenodd\" fill-opacity=\"1\"/>\n",
       "<polyline clip-path=\"url(#clip052)\" style=\"stroke:#000000; stroke-linecap:butt; stroke-linejoin:round; stroke-width:4; stroke-opacity:1; fill:none\" points=\"\n",
       "  2135.65,1432.14 2135.65,1445.72 2232.75,1445.72 2232.75,1432.14 2135.65,1432.14 \n",
       "  \"/>\n",
       "<circle clip-path=\"url(#clip052)\" style=\"fill:#009af9; stroke:none; fill-opacity:0\" cx=\"339.413\" cy=\"87.9763\" r=\"2\"/>\n",
       "<circle clip-path=\"url(#clip052)\" style=\"fill:#009af9; stroke:none; fill-opacity:0\" cx=\"436.507\" cy=\"640.124\" r=\"2\"/>\n",
       "<circle clip-path=\"url(#clip052)\" style=\"fill:#009af9; stroke:none; fill-opacity:0\" cx=\"533.601\" cy=\"889.043\" r=\"2\"/>\n",
       "<circle clip-path=\"url(#clip052)\" style=\"fill:#009af9; stroke:none; fill-opacity:0\" cx=\"630.695\" cy=\"925.249\" r=\"2\"/>\n",
       "<circle clip-path=\"url(#clip052)\" style=\"fill:#009af9; stroke:none; fill-opacity:0\" cx=\"727.789\" cy=\"1002.19\" r=\"2\"/>\n",
       "<circle clip-path=\"url(#clip052)\" style=\"fill:#009af9; stroke:none; fill-opacity:0\" cx=\"824.883\" cy=\"1115.33\" r=\"2\"/>\n",
       "<circle clip-path=\"url(#clip052)\" style=\"fill:#009af9; stroke:none; fill-opacity:0\" cx=\"921.977\" cy=\"1110.81\" r=\"2\"/>\n",
       "<circle clip-path=\"url(#clip052)\" style=\"fill:#009af9; stroke:none; fill-opacity:0\" cx=\"1019.07\" cy=\"1260.16\" r=\"2\"/>\n",
       "<circle clip-path=\"url(#clip052)\" style=\"fill:#009af9; stroke:none; fill-opacity:0\" cx=\"1116.17\" cy=\"1223.95\" r=\"2\"/>\n",
       "<circle clip-path=\"url(#clip052)\" style=\"fill:#009af9; stroke:none; fill-opacity:0\" cx=\"1213.26\" cy=\"1305.42\" r=\"2\"/>\n",
       "<circle clip-path=\"url(#clip052)\" style=\"fill:#009af9; stroke:none; fill-opacity:0\" cx=\"1310.35\" cy=\"1337.1\" r=\"2\"/>\n",
       "<circle clip-path=\"url(#clip052)\" style=\"fill:#009af9; stroke:none; fill-opacity:0\" cx=\"1407.45\" cy=\"1404.98\" r=\"2\"/>\n",
       "<circle clip-path=\"url(#clip052)\" style=\"fill:#009af9; stroke:none; fill-opacity:0\" cx=\"1504.54\" cy=\"1355.2\" r=\"2\"/>\n",
       "<circle clip-path=\"url(#clip052)\" style=\"fill:#009af9; stroke:none; fill-opacity:0\" cx=\"1601.64\" cy=\"1400.46\" r=\"2\"/>\n",
       "<circle clip-path=\"url(#clip052)\" style=\"fill:#009af9; stroke:none; fill-opacity:0\" cx=\"1698.73\" cy=\"1418.56\" r=\"2\"/>\n",
       "<circle clip-path=\"url(#clip052)\" style=\"fill:#009af9; stroke:none; fill-opacity:0\" cx=\"1795.82\" cy=\"1432.14\" r=\"2\"/>\n",
       "<circle clip-path=\"url(#clip052)\" style=\"fill:#009af9; stroke:none; fill-opacity:0\" cx=\"1892.92\" cy=\"1427.61\" r=\"2\"/>\n",
       "<circle clip-path=\"url(#clip052)\" style=\"fill:#009af9; stroke:none; fill-opacity:0\" cx=\"1990.01\" cy=\"1427.61\" r=\"2\"/>\n",
       "<circle clip-path=\"url(#clip052)\" style=\"fill:#009af9; stroke:none; fill-opacity:0\" cx=\"2087.11\" cy=\"1436.66\" r=\"2\"/>\n",
       "<circle clip-path=\"url(#clip052)\" style=\"fill:#009af9; stroke:none; fill-opacity:0\" cx=\"2184.2\" cy=\"1432.14\" r=\"2\"/>\n",
       "<path clip-path=\"url(#clip050)\" d=\"\n",
       "M1985.16 198.898 L2280.03 198.898 L2280.03 95.2176 L1985.16 95.2176  Z\n",
       "  \" fill=\"#ffffff\" fill-rule=\"evenodd\" fill-opacity=\"1\"/>\n",
       "<polyline clip-path=\"url(#clip050)\" style=\"stroke:#000000; stroke-linecap:butt; stroke-linejoin:round; stroke-width:4; stroke-opacity:1; fill:none\" points=\"\n",
       "  1985.16,198.898 2280.03,198.898 2280.03,95.2176 1985.16,95.2176 1985.16,198.898 \n",
       "  \"/>\n",
       "<path clip-path=\"url(#clip050)\" d=\"\n",
       "M2009.41 167.794 L2154.87 167.794 L2154.87 126.322 L2009.41 126.322 L2009.41 167.794  Z\n",
       "  \" fill=\"#009af9\" fill-rule=\"evenodd\" fill-opacity=\"1\"/>\n",
       "<polyline clip-path=\"url(#clip050)\" style=\"stroke:#000000; stroke-linecap:butt; stroke-linejoin:round; stroke-width:4; stroke-opacity:1; fill:none\" points=\"\n",
       "  2009.41,167.794 2154.87,167.794 2154.87,126.322 2009.41,126.322 2009.41,167.794 \n",
       "  \"/>\n",
       "<path clip-path=\"url(#clip050)\" d=\"M2192.95 166.745 Q2191.15 171.375 2189.43 172.787 Q2187.72 174.199 2184.85 174.199 L2181.45 174.199 L2181.45 170.634 L2183.95 170.634 Q2185.71 170.634 2186.68 169.8 Q2187.65 168.967 2188.83 165.865 L2189.6 163.921 L2179.11 138.412 L2183.62 138.412 L2191.72 158.689 L2199.83 138.412 L2204.34 138.412 L2192.95 166.745 Z\" fill=\"#000000\" fill-rule=\"evenodd\" fill-opacity=\"1\" /><path clip-path=\"url(#clip050)\" d=\"M2211.63 160.402 L2219.27 160.402 L2219.27 134.037 L2210.96 135.703 L2210.96 131.444 L2219.22 129.778 L2223.9 129.778 L2223.9 160.402 L2231.54 160.402 L2231.54 164.338 L2211.63 164.338 L2211.63 160.402 Z\" fill=\"#000000\" fill-rule=\"evenodd\" fill-opacity=\"1\" /></svg>\n"
      ]
     },
     "metadata": {},
     "output_type": "display_data"
    }
   ],
   "source": [
    "histogram(selected)"
   ]
  },
  {
   "cell_type": "code",
   "execution_count": 4,
   "metadata": {},
   "outputs": [
    {
     "data": {
      "text/plain": [
       "21-element Vector{String}:\n",
       " \"PROLIFIC_PID\"\n",
       " \"Sex\"\n",
       " \"Education\"\n",
       " \"Income_HH\"\n",
       " \"DemM7_KNN\"\n",
       " \"BDI_total_raw\"\n",
       " \"PSS_Total\"\n",
       " \"STAI_State_raw\"\n",
       " \"Fear_COVID_raw_KNN\"\n",
       " \"NIH_TB_Emot_Support_raw_total_KNN\"\n",
       " ⋮\n",
       " \"slope_new_deaths\"\n",
       " \"GatheringStrictness_KNN\"\n",
       " \"Mandatory_business_closure\"\n",
       " \"Mandatory_PPE_masks\"\n",
       " \"more_than_1_attQ_failed\"\n",
       " \"string_outlier_core\"\n",
       " \"response_consistency\"\n",
       " \"wave\"\n",
       " \"RW1_8\""
      ]
     },
     "metadata": {},
     "output_type": "display_data"
    }
   ],
   "source": [
    "# Process Meta data\n",
    "# Set view columns\n",
    "ENV[\"COLUMNS\"] = 200\n",
    "# Variables selected\n",
    "selected_variables = [DEMOGRAPHICS; PSYCHOLOGICAL; EXTERNAL; QUALITY; EXTRAS]"
   ]
  },
  {
   "cell_type": "code",
   "execution_count": 6,
   "metadata": {},
   "outputs": [
    {
     "data": {
      "text/html": [
       "<div class=\"data-frame\"><p>1,178 rows × 21 columns (omitted printing of 7 columns)</p><table class=\"data-frame\"><thead><tr><th></th><th>PROLIFIC_PID</th><th>Gender</th><th>Education</th><th>Income</th><th>Political_Views</th><th>Depression</th><th>Stress</th><th>Anxiety</th><th>Fear_COVID</th><th>Emotional_Support</th><th>Loneliness</th><th>slope_new_cases</th><th>slope_new_deaths</th><th>GatheringStrictness</th></tr><tr><th></th><th title=\"String31\">String31</th><th title=\"Float64\">Float64</th><th title=\"Float64\">Float64</th><th title=\"Float64\">Float64</th><th title=\"Float64\">Float64</th><th title=\"Union{Missing, Int64}\">Int64?</th><th title=\"Union{Missing, Int64}\">Int64?</th><th title=\"Int64\">Int64</th><th title=\"Float64\">Float64</th><th title=\"Float64\">Float64</th><th title=\"Float64\">Float64</th><th title=\"Float64\">Float64</th><th title=\"Float64\">Float64</th><th title=\"Float64\">Float64</th></tr></thead><tbody><tr><th>1</th><td>5c7e91c1973c990016ea72b0</td><td>2.0</td><td>5.0</td><td>1.0</td><td>1.0</td><td>16</td><td>29</td><td>40</td><td>21.0</td><td>40.0</td><td>8.0</td><td>13.7143</td><td>2.28571</td><td>1.0</td></tr><tr><th>2</th><td>5e67052c757e6149c38ce468</td><td>1.0</td><td>1.0</td><td>1.0</td><td>4.0</td><td>51</td><td>22</td><td>71</td><td>14.0</td><td>9.0</td><td>25.0</td><td>13.7143</td><td>2.28571</td><td>1.0</td></tr><tr><th>3</th><td>5d89106d1719af0001ee23e5</td><td>2.0</td><td>2.0</td><td>1.0</td><td>6.0</td><td>0</td><td>6</td><td>29</td><td>0.0</td><td>40.0</td><td>5.0</td><td>13.7143</td><td>2.28571</td><td>1.0</td></tr><tr><th>4</th><td>5d6394518df2870001a74b42</td><td>2.0</td><td>2.0</td><td>1.0</td><td>1.0</td><td>53</td><td>35</td><td>48</td><td>17.0</td><td>40.0</td><td>13.0</td><td>13.7143</td><td>2.28571</td><td>1.0</td></tr><tr><th>5</th><td>5bdd368719b9ba000157fb12</td><td>2.0</td><td>3.0</td><td>1.0</td><td>4.0</td><td>8</td><td>3</td><td>33</td><td>12.0</td><td>40.0</td><td>5.0</td><td>13.7143</td><td>2.28571</td><td>1.0</td></tr><tr><th>6</th><td>5a8ce265000dab00018ce084</td><td>2.0</td><td>4.0</td><td>6.0</td><td>3.0</td><td>11</td><td>16</td><td>25</td><td>1.0</td><td>35.0</td><td>12.0</td><td>13.7143</td><td>2.28571</td><td>1.0</td></tr><tr><th>7</th><td>5c72efa770d5a200018028f1</td><td>1.0</td><td>5.0</td><td>2.0</td><td>3.0</td><td>1</td><td>3</td><td>25</td><td>13.0</td><td>39.0</td><td>5.0</td><td>13.7143</td><td>2.28571</td><td>1.0</td></tr><tr><th>8</th><td>5aea962d0ef2f20001858c9c</td><td>1.0</td><td>2.0</td><td>1.0</td><td>2.0</td><td>28</td><td>32</td><td>58</td><td>11.0</td><td>19.0</td><td>14.0</td><td>13.7143</td><td>2.28571</td><td>1.0</td></tr><tr><th>9</th><td>5e4b793f03c92a08a6d28e3f</td><td>1.0</td><td>2.0</td><td>1.0</td><td>4.0</td><td>22</td><td>20</td><td>49</td><td>5.0</td><td>16.0</td><td>15.0</td><td>13.7143</td><td>2.28571</td><td>1.0</td></tr><tr><th>10</th><td>5cbc071f2edc3b00018ab097</td><td>1.0</td><td>7.0</td><td>1.0</td><td>3.0</td><td>13</td><td>15</td><td>45</td><td>17.0</td><td>24.0</td><td>10.0</td><td>13.7143</td><td>2.28571</td><td>1.0</td></tr><tr><th>11</th><td>5c1b06d9a329230001ecc39c</td><td>1.0</td><td>2.0</td><td>1.0</td><td>2.0</td><td>3</td><td>14</td><td>39</td><td>9.0</td><td>17.0</td><td>10.0</td><td>13.7143</td><td>2.28571</td><td>1.0</td></tr><tr><th>12</th><td>5e576e085069e61204a85872</td><td>1.0</td><td>2.0</td><td>1.0</td><td>4.0</td><td>5</td><td>14</td><td>48</td><td>24.0</td><td>24.0</td><td>15.0</td><td>13.7143</td><td>2.28571</td><td>1.0</td></tr><tr><th>13</th><td>5dcf50f05686c1099819882a</td><td>1.0</td><td>6.0</td><td>3.0</td><td>1.0</td><td>25</td><td>20</td><td>46</td><td>17.0</td><td>32.0</td><td>13.0</td><td>13.7143</td><td>2.28571</td><td>1.0</td></tr><tr><th>14</th><td>5d2d8b999c6703001525304f</td><td>1.0</td><td>2.0</td><td>1.0</td><td>7.0</td><td>27</td><td>26</td><td>29</td><td>14.0</td><td>8.0</td><td>25.0</td><td>13.7143</td><td>2.28571</td><td>1.0</td></tr><tr><th>15</th><td>5de8bc74553cee8280a7dd84</td><td>1.0</td><td>5.0</td><td>1.0</td><td>2.0</td><td>1</td><td>12</td><td>37</td><td>3.0</td><td>29.0</td><td>14.0</td><td>13.7143</td><td>2.28571</td><td>1.0</td></tr><tr><th>16</th><td>5b6a87d2cda8590001db8e07</td><td>1.0</td><td>5.0</td><td>1.0</td><td>1.0</td><td>14</td><td>16</td><td>62</td><td>14.0</td><td>28.0</td><td>14.0</td><td>13.7143</td><td>2.28571</td><td>1.0</td></tr><tr><th>17</th><td>5e3dff6b8714b707b9a258b0</td><td>1.0</td><td>5.0</td><td>1.0</td><td>2.0</td><td>26</td><td>21</td><td>56</td><td>12.0</td><td>24.0</td><td>19.0</td><td>13.7143</td><td>2.28571</td><td>1.0</td></tr><tr><th>18</th><td>5b05e0d131cebe000177c38e</td><td>1.0</td><td>2.0</td><td>1.0</td><td>5.0</td><td>40</td><td>26</td><td>66</td><td>20.0</td><td>18.0</td><td>15.0</td><td>13.7143</td><td>2.28571</td><td>1.0</td></tr><tr><th>19</th><td>5d3b79a59d5c14000140c32f</td><td>2.0</td><td>5.0</td><td>1.0</td><td>2.0</td><td>5</td><td>13</td><td>36</td><td>10.0</td><td>27.0</td><td>7.0</td><td>13.7143</td><td>2.28571</td><td>1.0</td></tr><tr><th>20</th><td>5e53e22ea0002e3e73720f65</td><td>2.0</td><td>3.0</td><td>1.0</td><td>2.0</td><td>39</td><td>28</td><td>50</td><td>12.0</td><td>8.0</td><td>22.0</td><td>13.7143</td><td>2.28571</td><td>1.0</td></tr><tr><th>21</th><td>5e6fde86b3ea9e5bb33664e4</td><td>1.0</td><td>3.0</td><td>1.0</td><td>3.0</td><td>4</td><td>7</td><td>28</td><td>9.0</td><td>35.0</td><td>14.0</td><td>13.7143</td><td>2.28571</td><td>1.0</td></tr><tr><th>22</th><td>5e65dca1d639df34800674a8</td><td>2.0</td><td>2.0</td><td>1.0</td><td>2.0</td><td>5</td><td>12</td><td>34</td><td>16.0</td><td>40.0</td><td>10.0</td><td>13.7143</td><td>2.28571</td><td>1.0</td></tr><tr><th>23</th><td>5de0b69ba91be311cb773b0b</td><td>1.0</td><td>2.0</td><td>1.0</td><td>2.0</td><td>5</td><td>16</td><td>38</td><td>8.0</td><td>8.0</td><td>14.0</td><td>13.7143</td><td>2.28571</td><td>1.0</td></tr><tr><th>24</th><td>5e05b7747dd477fc2d2d2857</td><td>1.0</td><td>5.0</td><td>4.0</td><td>7.0</td><td>0</td><td>7</td><td>25</td><td>10.0</td><td>38.0</td><td>5.0</td><td>13.7143</td><td>2.28571</td><td>1.0</td></tr><tr><th>&vellip;</th><td>&vellip;</td><td>&vellip;</td><td>&vellip;</td><td>&vellip;</td><td>&vellip;</td><td>&vellip;</td><td>&vellip;</td><td>&vellip;</td><td>&vellip;</td><td>&vellip;</td><td>&vellip;</td><td>&vellip;</td><td>&vellip;</td><td>&vellip;</td></tr></tbody></table></div>"
      ],
      "text/latex": [
       "\\begin{tabular}{r|ccccccccccccccc}\n",
       "\t& PROLIFIC\\_PID & Gender & Education & Income & Political\\_Views & Depression & Stress & Anxiety & Fear\\_COVID & Emotional\\_Support & Loneliness & slope\\_new\\_cases & slope\\_new\\_deaths & GatheringStrictness & \\\\\n",
       "\t\\hline\n",
       "\t& String31 & Float64 & Float64 & Float64 & Float64 & Int64? & Int64? & Int64 & Float64 & Float64 & Float64 & Float64 & Float64 & Float64 & \\\\\n",
       "\t\\hline\n",
       "\t1 & 5c7e91c1973c990016ea72b0 & 2.0 & 5.0 & 1.0 & 1.0 & 16 & 29 & 40 & 21.0 & 40.0 & 8.0 & 13.7143 & 2.28571 & 1.0 & $\\dots$ \\\\\n",
       "\t2 & 5e67052c757e6149c38ce468 & 1.0 & 1.0 & 1.0 & 4.0 & 51 & 22 & 71 & 14.0 & 9.0 & 25.0 & 13.7143 & 2.28571 & 1.0 & $\\dots$ \\\\\n",
       "\t3 & 5d89106d1719af0001ee23e5 & 2.0 & 2.0 & 1.0 & 6.0 & 0 & 6 & 29 & 0.0 & 40.0 & 5.0 & 13.7143 & 2.28571 & 1.0 & $\\dots$ \\\\\n",
       "\t4 & 5d6394518df2870001a74b42 & 2.0 & 2.0 & 1.0 & 1.0 & 53 & 35 & 48 & 17.0 & 40.0 & 13.0 & 13.7143 & 2.28571 & 1.0 & $\\dots$ \\\\\n",
       "\t5 & 5bdd368719b9ba000157fb12 & 2.0 & 3.0 & 1.0 & 4.0 & 8 & 3 & 33 & 12.0 & 40.0 & 5.0 & 13.7143 & 2.28571 & 1.0 & $\\dots$ \\\\\n",
       "\t6 & 5a8ce265000dab00018ce084 & 2.0 & 4.0 & 6.0 & 3.0 & 11 & 16 & 25 & 1.0 & 35.0 & 12.0 & 13.7143 & 2.28571 & 1.0 & $\\dots$ \\\\\n",
       "\t7 & 5c72efa770d5a200018028f1 & 1.0 & 5.0 & 2.0 & 3.0 & 1 & 3 & 25 & 13.0 & 39.0 & 5.0 & 13.7143 & 2.28571 & 1.0 & $\\dots$ \\\\\n",
       "\t8 & 5aea962d0ef2f20001858c9c & 1.0 & 2.0 & 1.0 & 2.0 & 28 & 32 & 58 & 11.0 & 19.0 & 14.0 & 13.7143 & 2.28571 & 1.0 & $\\dots$ \\\\\n",
       "\t9 & 5e4b793f03c92a08a6d28e3f & 1.0 & 2.0 & 1.0 & 4.0 & 22 & 20 & 49 & 5.0 & 16.0 & 15.0 & 13.7143 & 2.28571 & 1.0 & $\\dots$ \\\\\n",
       "\t10 & 5cbc071f2edc3b00018ab097 & 1.0 & 7.0 & 1.0 & 3.0 & 13 & 15 & 45 & 17.0 & 24.0 & 10.0 & 13.7143 & 2.28571 & 1.0 & $\\dots$ \\\\\n",
       "\t11 & 5c1b06d9a329230001ecc39c & 1.0 & 2.0 & 1.0 & 2.0 & 3 & 14 & 39 & 9.0 & 17.0 & 10.0 & 13.7143 & 2.28571 & 1.0 & $\\dots$ \\\\\n",
       "\t12 & 5e576e085069e61204a85872 & 1.0 & 2.0 & 1.0 & 4.0 & 5 & 14 & 48 & 24.0 & 24.0 & 15.0 & 13.7143 & 2.28571 & 1.0 & $\\dots$ \\\\\n",
       "\t13 & 5dcf50f05686c1099819882a & 1.0 & 6.0 & 3.0 & 1.0 & 25 & 20 & 46 & 17.0 & 32.0 & 13.0 & 13.7143 & 2.28571 & 1.0 & $\\dots$ \\\\\n",
       "\t14 & 5d2d8b999c6703001525304f & 1.0 & 2.0 & 1.0 & 7.0 & 27 & 26 & 29 & 14.0 & 8.0 & 25.0 & 13.7143 & 2.28571 & 1.0 & $\\dots$ \\\\\n",
       "\t15 & 5de8bc74553cee8280a7dd84 & 1.0 & 5.0 & 1.0 & 2.0 & 1 & 12 & 37 & 3.0 & 29.0 & 14.0 & 13.7143 & 2.28571 & 1.0 & $\\dots$ \\\\\n",
       "\t16 & 5b6a87d2cda8590001db8e07 & 1.0 & 5.0 & 1.0 & 1.0 & 14 & 16 & 62 & 14.0 & 28.0 & 14.0 & 13.7143 & 2.28571 & 1.0 & $\\dots$ \\\\\n",
       "\t17 & 5e3dff6b8714b707b9a258b0 & 1.0 & 5.0 & 1.0 & 2.0 & 26 & 21 & 56 & 12.0 & 24.0 & 19.0 & 13.7143 & 2.28571 & 1.0 & $\\dots$ \\\\\n",
       "\t18 & 5b05e0d131cebe000177c38e & 1.0 & 2.0 & 1.0 & 5.0 & 40 & 26 & 66 & 20.0 & 18.0 & 15.0 & 13.7143 & 2.28571 & 1.0 & $\\dots$ \\\\\n",
       "\t19 & 5d3b79a59d5c14000140c32f & 2.0 & 5.0 & 1.0 & 2.0 & 5 & 13 & 36 & 10.0 & 27.0 & 7.0 & 13.7143 & 2.28571 & 1.0 & $\\dots$ \\\\\n",
       "\t20 & 5e53e22ea0002e3e73720f65 & 2.0 & 3.0 & 1.0 & 2.0 & 39 & 28 & 50 & 12.0 & 8.0 & 22.0 & 13.7143 & 2.28571 & 1.0 & $\\dots$ \\\\\n",
       "\t21 & 5e6fde86b3ea9e5bb33664e4 & 1.0 & 3.0 & 1.0 & 3.0 & 4 & 7 & 28 & 9.0 & 35.0 & 14.0 & 13.7143 & 2.28571 & 1.0 & $\\dots$ \\\\\n",
       "\t22 & 5e65dca1d639df34800674a8 & 2.0 & 2.0 & 1.0 & 2.0 & 5 & 12 & 34 & 16.0 & 40.0 & 10.0 & 13.7143 & 2.28571 & 1.0 & $\\dots$ \\\\\n",
       "\t23 & 5de0b69ba91be311cb773b0b & 1.0 & 2.0 & 1.0 & 2.0 & 5 & 16 & 38 & 8.0 & 8.0 & 14.0 & 13.7143 & 2.28571 & 1.0 & $\\dots$ \\\\\n",
       "\t24 & 5e05b7747dd477fc2d2d2857 & 1.0 & 5.0 & 4.0 & 7.0 & 0 & 7 & 25 & 10.0 & 38.0 & 5.0 & 13.7143 & 2.28571 & 1.0 & $\\dots$ \\\\\n",
       "\t$\\dots$ & $\\dots$ & $\\dots$ & $\\dots$ & $\\dots$ & $\\dots$ & $\\dots$ & $\\dots$ & $\\dots$ & $\\dots$ & $\\dots$ & $\\dots$ & $\\dots$ & $\\dots$ & $\\dots$ &  \\\\\n",
       "\\end{tabular}\n"
      ],
      "text/plain": [
       "\u001b[1m1178×21 DataFrame\u001b[0m\n",
       "\u001b[1m  Row \u001b[0m│\u001b[1m PROLIFIC_PID             \u001b[0m\u001b[1m Gender  \u001b[0m\u001b[1m Education \u001b[0m\u001b[1m Income  \u001b[0m\u001b[1m Political_Views \u001b[0m\u001b[1m Depression \u001b[0m\u001b[1m Stress \u001b[0m\u001b[1m Anxiety \u001b[0m\u001b[1m Fear_COVID \u001b[0m\u001b[1m Emotional_Support \u001b[0m\u001b[1m Loneliness \u001b[0m\u001b[1m slope_new_cases \u001b[0m\u001b[1m slope_new_deaths \u001b[0m\u001b[1m GatheringSt\u001b[0m ⋯\n",
       "\u001b[1m      \u001b[0m│\u001b[90m String31                 \u001b[0m\u001b[90m Float64 \u001b[0m\u001b[90m Float64   \u001b[0m\u001b[90m Float64 \u001b[0m\u001b[90m Float64         \u001b[0m\u001b[90m Int64?     \u001b[0m\u001b[90m Int64? \u001b[0m\u001b[90m Int64   \u001b[0m\u001b[90m Float64    \u001b[0m\u001b[90m Float64           \u001b[0m\u001b[90m Float64    \u001b[0m\u001b[90m Float64         \u001b[0m\u001b[90m Float64          \u001b[0m\u001b[90m Float64    \u001b[0m ⋯\n",
       "──────┼─────────────────────────────────────────────────────────────────────────────────────────────────────────────────────────────────────────────────────────────────────────────────────────────────\n",
       "    1 │ 5c7e91c1973c990016ea72b0      2.0        5.0      1.0              1.0          16      29       40        21.0               40.0         8.0        13.7143             2.28571              ⋯\n",
       "    2 │ 5e67052c757e6149c38ce468      1.0        1.0      1.0              4.0          51      22       71        14.0                9.0        25.0        13.7143             2.28571\n",
       "    3 │ 5d89106d1719af0001ee23e5      2.0        2.0      1.0              6.0           0       6       29         0.0               40.0         5.0        13.7143             2.28571\n",
       "    4 │ 5d6394518df2870001a74b42      2.0        2.0      1.0              1.0          53      35       48        17.0               40.0        13.0        13.7143             2.28571\n",
       "    5 │ 5bdd368719b9ba000157fb12      2.0        3.0      1.0              4.0           8       3       33        12.0               40.0         5.0        13.7143             2.28571              ⋯\n",
       "    6 │ 5a8ce265000dab00018ce084      2.0        4.0      6.0              3.0          11      16       25         1.0               35.0        12.0        13.7143             2.28571\n",
       "    7 │ 5c72efa770d5a200018028f1      1.0        5.0      2.0              3.0           1       3       25        13.0               39.0         5.0        13.7143             2.28571\n",
       "    8 │ 5aea962d0ef2f20001858c9c      1.0        2.0      1.0              2.0          28      32       58        11.0               19.0        14.0        13.7143             2.28571\n",
       "  ⋮   │            ⋮                 ⋮         ⋮         ⋮            ⋮             ⋮         ⋮        ⋮         ⋮               ⋮              ⋮              ⋮                ⋮                   ⋮  ⋱\n",
       " 1172 │ 5cad4750f4115800176d506e      2.0        4.0      3.0              3.0          16      18       46        14.0               24.0         9.0         0.142857           0.0                  ⋯\n",
       " 1173 │ 5be8846293ca1f00014db03c      2.0        5.0      3.0              5.0           5      13       37        11.0               30.0        12.0         0.142857           0.0\n",
       " 1174 │ 5dbd1569f8223b28d73ed6ae      2.0        3.0      1.0              2.0           5      15       35         9.0               35.0         9.0         0.142857           0.0\n",
       " 1175 │ 5e217a34e8ff3a469b5dfebc      2.0        3.0      1.0              3.0          21      17       58        28.0               16.0        10.0         0.142857           0.0\n",
       " 1176 │ 5d63867550d0dd0017805976      1.0        3.0      3.0              1.0          21      21       48        17.0               39.0         9.0        -5.57143            0.0                  ⋯\n",
       " 1177 │ 5e6155e6f169c0046b6d6518      1.0        7.0      2.0              2.0           4      10       31         5.0               40.0         8.0        -2.14286            0.0\n",
       " 1178 │ 58cefdb030c4cf0001ceb3ac      2.0        5.0      4.0              2.0           0       5       30        18.0               32.0         6.0         5.71429            0.0\n",
       "\u001b[36m                                                                                                                                                                         8 columns and 1163 rows omitted\u001b[0m"
      ]
     },
     "metadata": {},
     "output_type": "display_data"
    }
   ],
   "source": [
    "w1 = rename!(extract_wave(data, 1, selected_variables), VARNAME_MAPPING)\n",
    "w6 = rename!(extract_wave(data, 6, selected_variables), VARNAME_MAPPING)"
   ]
  },
  {
   "cell_type": "code",
   "execution_count": 8,
   "metadata": {},
   "outputs": [
    {
     "data": {
      "text/html": [
       "<div class=\"data-frame\"><p>1,797 rows × 41 columns (omitted printing of 28 columns)</p><table class=\"data-frame\"><thead><tr><th></th><th>PROLIFIC_PID</th><th>Gender_w1</th><th>Education_w1</th><th>Income_w1</th><th>Political_Views_w1</th><th>Depression_w1</th><th>Stress_w1</th><th>Anxiety_w1</th><th>Fear_COVID_w1</th><th>Emotional_Support_w1</th><th>Loneliness_w1</th><th>slope_new_cases_w1</th><th>slope_new_deaths_w1</th></tr><tr><th></th><th title=\"String31\">String31</th><th title=\"Union{Missing, Float64}\">Float64?</th><th title=\"Union{Missing, Float64}\">Float64?</th><th title=\"Union{Missing, Float64}\">Float64?</th><th title=\"Union{Missing, Float64}\">Float64?</th><th title=\"Union{Missing, Int64}\">Int64?</th><th title=\"Union{Missing, Int64}\">Int64?</th><th title=\"Union{Missing, Int64}\">Int64?</th><th title=\"Union{Missing, Float64}\">Float64?</th><th title=\"Union{Missing, Float64}\">Float64?</th><th title=\"Union{Missing, Float64}\">Float64?</th><th title=\"Union{Missing, Float64}\">Float64?</th><th title=\"Union{Missing, Float64}\">Float64?</th></tr></thead><tbody><tr><th>1</th><td>5c7e91c1973c990016ea72b0</td><td>2.0</td><td>5.0</td><td>3.0</td><td>1.0</td><td><em>missing</em></td><td><em>missing</em></td><td>69</td><td>24.0</td><td>30.0</td><td>10.0</td><td>82.2857</td><td>3.28571</td></tr><tr><th>2</th><td>5e67052c757e6149c38ce468</td><td>1.0</td><td>1.0</td><td>1.0</td><td>4.0</td><td><em>missing</em></td><td><em>missing</em></td><td>57</td><td>18.0</td><td>14.0</td><td>25.0</td><td>82.2857</td><td>3.28571</td></tr><tr><th>3</th><td>5d89106d1719af0001ee23e5</td><td>2.0</td><td>2.0</td><td>1.0</td><td>6.0</td><td><em>missing</em></td><td><em>missing</em></td><td>27</td><td>8.0</td><td>40.0</td><td>5.0</td><td>82.2857</td><td>3.28571</td></tr><tr><th>4</th><td>5d6394518df2870001a74b42</td><td>2.0</td><td>2.0</td><td>1.0</td><td>1.0</td><td><em>missing</em></td><td><em>missing</em></td><td>42</td><td>23.0</td><td>40.0</td><td>16.0</td><td>82.2857</td><td>3.28571</td></tr><tr><th>5</th><td>5bdd368719b9ba000157fb12</td><td>2.0</td><td>3.0</td><td>4.0</td><td>4.0</td><td><em>missing</em></td><td><em>missing</em></td><td>29</td><td>10.0</td><td>40.0</td><td>5.0</td><td>82.2857</td><td>3.28571</td></tr><tr><th>6</th><td>5a8ce265000dab00018ce084</td><td>2.0</td><td>4.0</td><td>6.0</td><td>3.0</td><td><em>missing</em></td><td><em>missing</em></td><td>37</td><td>6.0</td><td>34.0</td><td>7.0</td><td>82.2857</td><td>3.28571</td></tr><tr><th>7</th><td>5c72efa770d5a200018028f1</td><td>1.0</td><td>5.0</td><td>2.0</td><td>3.0</td><td><em>missing</em></td><td><em>missing</em></td><td>27</td><td>9.0</td><td>39.0</td><td>5.0</td><td>82.2857</td><td>3.28571</td></tr><tr><th>8</th><td>5aea962d0ef2f20001858c9c</td><td>1.0</td><td>2.0</td><td>1.0</td><td>2.0</td><td><em>missing</em></td><td><em>missing</em></td><td>59</td><td>17.0</td><td>17.0</td><td>16.0</td><td>82.2857</td><td>3.28571</td></tr><tr><th>9</th><td>5e4b793f03c92a08a6d28e3f</td><td>1.0</td><td>2.0</td><td>7.0</td><td>4.0</td><td><em>missing</em></td><td><em>missing</em></td><td>42</td><td>4.0</td><td>18.0</td><td>11.0</td><td>82.2857</td><td>3.28571</td></tr><tr><th>10</th><td>5cbc071f2edc3b00018ab097</td><td>1.0</td><td>7.0</td><td>1.0</td><td>3.0</td><td><em>missing</em></td><td><em>missing</em></td><td>43</td><td>13.0</td><td>28.0</td><td>8.0</td><td>82.2857</td><td>3.28571</td></tr><tr><th>11</th><td>5c1b06d9a329230001ecc39c</td><td>1.0</td><td>2.0</td><td>1.0</td><td>2.0</td><td><em>missing</em></td><td><em>missing</em></td><td>42</td><td>10.0</td><td>18.0</td><td>8.0</td><td>82.2857</td><td>3.28571</td></tr><tr><th>12</th><td>5e576e085069e61204a85872</td><td>1.0</td><td>2.0</td><td>7.0</td><td>4.0</td><td><em>missing</em></td><td><em>missing</em></td><td>44</td><td>19.0</td><td>32.0</td><td>19.0</td><td>82.2857</td><td>3.28571</td></tr><tr><th>13</th><td>5dcf50f05686c1099819882a</td><td>1.0</td><td>6.0</td><td>3.0</td><td>1.0</td><td><em>missing</em></td><td><em>missing</em></td><td>41</td><td>19.0</td><td>32.0</td><td>17.0</td><td>82.2857</td><td>3.28571</td></tr><tr><th>14</th><td>5d2d8b999c6703001525304f</td><td>1.0</td><td>2.0</td><td>1.0</td><td>7.0</td><td><em>missing</em></td><td><em>missing</em></td><td>47</td><td>12.0</td><td>8.0</td><td>25.0</td><td>82.2857</td><td>3.28571</td></tr><tr><th>15</th><td>5de8bc74553cee8280a7dd84</td><td>1.0</td><td>5.0</td><td>1.0</td><td>2.0</td><td><em>missing</em></td><td><em>missing</em></td><td>36</td><td>8.0</td><td>27.0</td><td>13.0</td><td>82.2857</td><td>3.28571</td></tr><tr><th>16</th><td>5b6a87d2cda8590001db8e07</td><td>1.0</td><td>5.0</td><td>1.0</td><td>1.0</td><td><em>missing</em></td><td><em>missing</em></td><td>63</td><td>13.0</td><td>28.0</td><td>14.0</td><td>82.2857</td><td>3.28571</td></tr><tr><th>17</th><td>5e3dff6b8714b707b9a258b0</td><td>1.0</td><td>5.0</td><td>1.0</td><td>2.0</td><td><em>missing</em></td><td><em>missing</em></td><td>57</td><td>11.0</td><td>24.0</td><td>20.0</td><td>82.2857</td><td>3.28571</td></tr><tr><th>18</th><td>5b05e0d131cebe000177c38e</td><td>1.0</td><td>2.0</td><td>1.0</td><td>5.0</td><td><em>missing</em></td><td><em>missing</em></td><td>68</td><td>20.0</td><td>23.0</td><td>15.0</td><td>82.2857</td><td>3.28571</td></tr><tr><th>19</th><td>5d3b79a59d5c14000140c32f</td><td>2.0</td><td>5.0</td><td>4.0</td><td>2.0</td><td><em>missing</em></td><td><em>missing</em></td><td>44</td><td>8.0</td><td>32.0</td><td>6.0</td><td>82.2857</td><td>3.28571</td></tr><tr><th>20</th><td>5e53e22ea0002e3e73720f65</td><td>2.0</td><td>3.0</td><td>2.0</td><td>1.0</td><td><em>missing</em></td><td><em>missing</em></td><td>43</td><td>11.0</td><td>14.0</td><td>25.0</td><td>82.2857</td><td>3.28571</td></tr><tr><th>21</th><td>5e6fde86b3ea9e5bb33664e4</td><td>1.0</td><td>3.0</td><td>1.0</td><td>3.0</td><td><em>missing</em></td><td><em>missing</em></td><td>35</td><td>7.0</td><td>31.0</td><td>16.0</td><td>82.2857</td><td>3.28571</td></tr><tr><th>22</th><td>5e65dca1d639df34800674a8</td><td>2.0</td><td>2.0</td><td>7.0</td><td>2.0</td><td><em>missing</em></td><td><em>missing</em></td><td>41</td><td>14.0</td><td>32.0</td><td>15.0</td><td>82.2857</td><td>3.28571</td></tr><tr><th>23</th><td>5de0b69ba91be311cb773b0b</td><td>1.0</td><td>2.0</td><td>1.0</td><td>2.0</td><td><em>missing</em></td><td><em>missing</em></td><td>42</td><td>9.0</td><td>8.0</td><td>13.0</td><td>82.2857</td><td>3.28571</td></tr><tr><th>24</th><td>5e05b7747dd477fc2d2d2857</td><td>1.0</td><td>5.0</td><td>3.0</td><td>7.0</td><td><em>missing</em></td><td><em>missing</em></td><td>30</td><td>9.0</td><td>38.0</td><td>6.0</td><td>82.2857</td><td>3.28571</td></tr><tr><th>&vellip;</th><td>&vellip;</td><td>&vellip;</td><td>&vellip;</td><td>&vellip;</td><td>&vellip;</td><td>&vellip;</td><td>&vellip;</td><td>&vellip;</td><td>&vellip;</td><td>&vellip;</td><td>&vellip;</td><td>&vellip;</td><td>&vellip;</td></tr></tbody></table></div>"
      ],
      "text/latex": [
       "\\begin{tabular}{r|cccccccccccccc}\n",
       "\t& PROLIFIC\\_PID & Gender\\_w1 & Education\\_w1 & Income\\_w1 & Political\\_Views\\_w1 & Depression\\_w1 & Stress\\_w1 & Anxiety\\_w1 & Fear\\_COVID\\_w1 & Emotional\\_Support\\_w1 & Loneliness\\_w1 & slope\\_new\\_cases\\_w1 & slope\\_new\\_deaths\\_w1 & \\\\\n",
       "\t\\hline\n",
       "\t& String31 & Float64? & Float64? & Float64? & Float64? & Int64? & Int64? & Int64? & Float64? & Float64? & Float64? & Float64? & Float64? & \\\\\n",
       "\t\\hline\n",
       "\t1 & 5c7e91c1973c990016ea72b0 & 2.0 & 5.0 & 3.0 & 1.0 & \\emph{missing} & \\emph{missing} & 69 & 24.0 & 30.0 & 10.0 & 82.2857 & 3.28571 & $\\dots$ \\\\\n",
       "\t2 & 5e67052c757e6149c38ce468 & 1.0 & 1.0 & 1.0 & 4.0 & \\emph{missing} & \\emph{missing} & 57 & 18.0 & 14.0 & 25.0 & 82.2857 & 3.28571 & $\\dots$ \\\\\n",
       "\t3 & 5d89106d1719af0001ee23e5 & 2.0 & 2.0 & 1.0 & 6.0 & \\emph{missing} & \\emph{missing} & 27 & 8.0 & 40.0 & 5.0 & 82.2857 & 3.28571 & $\\dots$ \\\\\n",
       "\t4 & 5d6394518df2870001a74b42 & 2.0 & 2.0 & 1.0 & 1.0 & \\emph{missing} & \\emph{missing} & 42 & 23.0 & 40.0 & 16.0 & 82.2857 & 3.28571 & $\\dots$ \\\\\n",
       "\t5 & 5bdd368719b9ba000157fb12 & 2.0 & 3.0 & 4.0 & 4.0 & \\emph{missing} & \\emph{missing} & 29 & 10.0 & 40.0 & 5.0 & 82.2857 & 3.28571 & $\\dots$ \\\\\n",
       "\t6 & 5a8ce265000dab00018ce084 & 2.0 & 4.0 & 6.0 & 3.0 & \\emph{missing} & \\emph{missing} & 37 & 6.0 & 34.0 & 7.0 & 82.2857 & 3.28571 & $\\dots$ \\\\\n",
       "\t7 & 5c72efa770d5a200018028f1 & 1.0 & 5.0 & 2.0 & 3.0 & \\emph{missing} & \\emph{missing} & 27 & 9.0 & 39.0 & 5.0 & 82.2857 & 3.28571 & $\\dots$ \\\\\n",
       "\t8 & 5aea962d0ef2f20001858c9c & 1.0 & 2.0 & 1.0 & 2.0 & \\emph{missing} & \\emph{missing} & 59 & 17.0 & 17.0 & 16.0 & 82.2857 & 3.28571 & $\\dots$ \\\\\n",
       "\t9 & 5e4b793f03c92a08a6d28e3f & 1.0 & 2.0 & 7.0 & 4.0 & \\emph{missing} & \\emph{missing} & 42 & 4.0 & 18.0 & 11.0 & 82.2857 & 3.28571 & $\\dots$ \\\\\n",
       "\t10 & 5cbc071f2edc3b00018ab097 & 1.0 & 7.0 & 1.0 & 3.0 & \\emph{missing} & \\emph{missing} & 43 & 13.0 & 28.0 & 8.0 & 82.2857 & 3.28571 & $\\dots$ \\\\\n",
       "\t11 & 5c1b06d9a329230001ecc39c & 1.0 & 2.0 & 1.0 & 2.0 & \\emph{missing} & \\emph{missing} & 42 & 10.0 & 18.0 & 8.0 & 82.2857 & 3.28571 & $\\dots$ \\\\\n",
       "\t12 & 5e576e085069e61204a85872 & 1.0 & 2.0 & 7.0 & 4.0 & \\emph{missing} & \\emph{missing} & 44 & 19.0 & 32.0 & 19.0 & 82.2857 & 3.28571 & $\\dots$ \\\\\n",
       "\t13 & 5dcf50f05686c1099819882a & 1.0 & 6.0 & 3.0 & 1.0 & \\emph{missing} & \\emph{missing} & 41 & 19.0 & 32.0 & 17.0 & 82.2857 & 3.28571 & $\\dots$ \\\\\n",
       "\t14 & 5d2d8b999c6703001525304f & 1.0 & 2.0 & 1.0 & 7.0 & \\emph{missing} & \\emph{missing} & 47 & 12.0 & 8.0 & 25.0 & 82.2857 & 3.28571 & $\\dots$ \\\\\n",
       "\t15 & 5de8bc74553cee8280a7dd84 & 1.0 & 5.0 & 1.0 & 2.0 & \\emph{missing} & \\emph{missing} & 36 & 8.0 & 27.0 & 13.0 & 82.2857 & 3.28571 & $\\dots$ \\\\\n",
       "\t16 & 5b6a87d2cda8590001db8e07 & 1.0 & 5.0 & 1.0 & 1.0 & \\emph{missing} & \\emph{missing} & 63 & 13.0 & 28.0 & 14.0 & 82.2857 & 3.28571 & $\\dots$ \\\\\n",
       "\t17 & 5e3dff6b8714b707b9a258b0 & 1.0 & 5.0 & 1.0 & 2.0 & \\emph{missing} & \\emph{missing} & 57 & 11.0 & 24.0 & 20.0 & 82.2857 & 3.28571 & $\\dots$ \\\\\n",
       "\t18 & 5b05e0d131cebe000177c38e & 1.0 & 2.0 & 1.0 & 5.0 & \\emph{missing} & \\emph{missing} & 68 & 20.0 & 23.0 & 15.0 & 82.2857 & 3.28571 & $\\dots$ \\\\\n",
       "\t19 & 5d3b79a59d5c14000140c32f & 2.0 & 5.0 & 4.0 & 2.0 & \\emph{missing} & \\emph{missing} & 44 & 8.0 & 32.0 & 6.0 & 82.2857 & 3.28571 & $\\dots$ \\\\\n",
       "\t20 & 5e53e22ea0002e3e73720f65 & 2.0 & 3.0 & 2.0 & 1.0 & \\emph{missing} & \\emph{missing} & 43 & 11.0 & 14.0 & 25.0 & 82.2857 & 3.28571 & $\\dots$ \\\\\n",
       "\t21 & 5e6fde86b3ea9e5bb33664e4 & 1.0 & 3.0 & 1.0 & 3.0 & \\emph{missing} & \\emph{missing} & 35 & 7.0 & 31.0 & 16.0 & 82.2857 & 3.28571 & $\\dots$ \\\\\n",
       "\t22 & 5e65dca1d639df34800674a8 & 2.0 & 2.0 & 7.0 & 2.0 & \\emph{missing} & \\emph{missing} & 41 & 14.0 & 32.0 & 15.0 & 82.2857 & 3.28571 & $\\dots$ \\\\\n",
       "\t23 & 5de0b69ba91be311cb773b0b & 1.0 & 2.0 & 1.0 & 2.0 & \\emph{missing} & \\emph{missing} & 42 & 9.0 & 8.0 & 13.0 & 82.2857 & 3.28571 & $\\dots$ \\\\\n",
       "\t24 & 5e05b7747dd477fc2d2d2857 & 1.0 & 5.0 & 3.0 & 7.0 & \\emph{missing} & \\emph{missing} & 30 & 9.0 & 38.0 & 6.0 & 82.2857 & 3.28571 & $\\dots$ \\\\\n",
       "\t$\\dots$ & $\\dots$ & $\\dots$ & $\\dots$ & $\\dots$ & $\\dots$ & $\\dots$ & $\\dots$ & $\\dots$ & $\\dots$ & $\\dots$ & $\\dots$ & $\\dots$ & $\\dots$ &  \\\\\n",
       "\\end{tabular}\n"
      ],
      "text/plain": [
       "\u001b[1m1797×41 DataFrame\u001b[0m\n",
       "\u001b[1m  Row \u001b[0m│\u001b[1m PROLIFIC_PID             \u001b[0m\u001b[1m Gender_w1 \u001b[0m\u001b[1m Education_w1 \u001b[0m\u001b[1m Income_w1 \u001b[0m\u001b[1m Political_Views_w1 \u001b[0m\u001b[1m Depression_w1 \u001b[0m\u001b[1m Stress_w1 \u001b[0m\u001b[1m Anxiety_w1 \u001b[0m\u001b[1m Fear_COVID_w1 \u001b[0m\u001b[1m Emotional_Support_w1 \u001b[0m\u001b[1m Loneliness_w1 \u001b[0m\u001b[1m slope_new_cases_w1\u001b[0m ⋯\n",
       "\u001b[1m      \u001b[0m│\u001b[90m String31                 \u001b[0m\u001b[90m Float64?  \u001b[0m\u001b[90m Float64?     \u001b[0m\u001b[90m Float64?  \u001b[0m\u001b[90m Float64?           \u001b[0m\u001b[90m Int64?        \u001b[0m\u001b[90m Int64?    \u001b[0m\u001b[90m Int64?     \u001b[0m\u001b[90m Float64?      \u001b[0m\u001b[90m Float64?             \u001b[0m\u001b[90m Float64?      \u001b[0m\u001b[90m Float64?          \u001b[0m ⋯\n",
       "──────┼─────────────────────────────────────────────────────────────────────────────────────────────────────────────────────────────────────────────────────────────────────────────────────────────────\n",
       "    1 │ 5c7e91c1973c990016ea72b0        2.0           5.0        3.0                 1.0 \u001b[90m       missing \u001b[0m\u001b[90m   missing \u001b[0m         69           24.0                  30.0           10.0           82.2857   ⋯\n",
       "    2 │ 5e67052c757e6149c38ce468        1.0           1.0        1.0                 4.0 \u001b[90m       missing \u001b[0m\u001b[90m   missing \u001b[0m         57           18.0                  14.0           25.0           82.2857\n",
       "    3 │ 5d89106d1719af0001ee23e5        2.0           2.0        1.0                 6.0 \u001b[90m       missing \u001b[0m\u001b[90m   missing \u001b[0m         27            8.0                  40.0            5.0           82.2857\n",
       "    4 │ 5d6394518df2870001a74b42        2.0           2.0        1.0                 1.0 \u001b[90m       missing \u001b[0m\u001b[90m   missing \u001b[0m         42           23.0                  40.0           16.0           82.2857\n",
       "    5 │ 5bdd368719b9ba000157fb12        2.0           3.0        4.0                 4.0 \u001b[90m       missing \u001b[0m\u001b[90m   missing \u001b[0m         29           10.0                  40.0            5.0           82.2857   ⋯\n",
       "    6 │ 5a8ce265000dab00018ce084        2.0           4.0        6.0                 3.0 \u001b[90m       missing \u001b[0m\u001b[90m   missing \u001b[0m         37            6.0                  34.0            7.0           82.2857\n",
       "    7 │ 5c72efa770d5a200018028f1        1.0           5.0        2.0                 3.0 \u001b[90m       missing \u001b[0m\u001b[90m   missing \u001b[0m         27            9.0                  39.0            5.0           82.2857\n",
       "    8 │ 5aea962d0ef2f20001858c9c        1.0           2.0        1.0                 2.0 \u001b[90m       missing \u001b[0m\u001b[90m   missing \u001b[0m         59           17.0                  17.0           16.0           82.2857\n",
       "  ⋮   │            ⋮                  ⋮           ⋮            ⋮              ⋮                 ⋮            ⋮          ⋮             ⋮                 ⋮                  ⋮                ⋮          ⋱\n",
       " 1791 │ 5caeb56feb05440017fd4817        1.0           4.0        3.0                 4.0 \u001b[90m       missing \u001b[0m\u001b[90m   missing \u001b[0m         51           17.0                  16.0           23.0            8.42857  ⋯\n",
       " 1792 │ 5def020419398a5b744b98b9        1.0           5.0        5.0                 2.0 \u001b[90m       missing \u001b[0m\u001b[90m   missing \u001b[0m         30           19.0                  40.0            5.0            8.42857\n",
       " 1793 │ 5e1fa6a063251a2de1d6b236        1.0           5.0        4.0                 2.0 \u001b[90m       missing \u001b[0m\u001b[90m   missing \u001b[0m         38           16.0                  37.0            7.0            7.14286\n",
       " 1794 │ 5e7ccb90239c34323a771320        2.0           5.0        3.0                 1.0 \u001b[90m       missing \u001b[0m\u001b[90m   missing \u001b[0m         49            8.0                  30.0           13.0            7.14286\n",
       " 1795 │ 5e39448ea9cf9414e733ff48        1.0           7.0        2.0                 2.0 \u001b[90m       missing \u001b[0m\u001b[90m   missing \u001b[0m         33           14.0                  29.0            9.0            7.14286  ⋯\n",
       " 1796 │ 5d30a875ad3457001743fbc9        1.0           7.0        5.0                 5.0 \u001b[90m       missing \u001b[0m\u001b[90m   missing \u001b[0m         30           16.0                  38.0            5.0           13.4286\n",
       " 1797 │ 5da926115c6987001535a2da        1.0           5.0        4.0                 6.0 \u001b[90m       missing \u001b[0m\u001b[90m   missing \u001b[0m         27            2.0                  31.0            5.0           -0.571429\n",
       "\u001b[36m                                                                                                                                                                        29 columns and 1782 rows omitted\u001b[0m"
      ]
     },
     "metadata": {},
     "output_type": "display_data"
    }
   ],
   "source": [
    "w1_w6_combine_data = combine_wave_data(w1, w6, \"PROLIFIC_PID\", \"w1\", \"w6\")"
   ]
  },
  {
   "cell_type": "code",
   "execution_count": 21,
   "metadata": {},
   "outputs": [
    {
     "data": {
      "text/plain": [
       "false"
      ]
     },
     "metadata": {},
     "output_type": "display_data"
    }
   ],
   "source": [
    "data[!, :wave]==1b"
   ]
  },
  {
   "cell_type": "code",
   "execution_count": null,
   "metadata": {},
   "outputs": [],
   "source": []
  },
  {
   "cell_type": "code",
   "execution_count": 45,
   "metadata": {},
   "outputs": [],
   "source": [
    "interpolate_age(data)"
   ]
  },
  {
   "cell_type": "code",
   "execution_count": 50,
   "metadata": {},
   "outputs": [
    {
     "data": {
      "text/plain": [
       "9-element Vector{Union{Missing, Float64}}:\n",
       " 23.0\n",
       " 23.0\n",
       " 23.0\n",
       " 23.0\n",
       " 23.0\n",
       " 23.0\n",
       " 23.0\n",
       " 23.0\n",
       " 23.0"
      ]
     },
     "metadata": {},
     "output_type": "display_data"
    }
   ],
   "source": [
    "data[data[!, :PROLIFIC_PID].==unique_pid[3],:prlfc_dem_age]"
   ]
  },
  {
   "cell_type": "code",
   "execution_count": 23,
   "metadata": {},
   "outputs": [
    {
     "data": {
      "text/plain": [
       "1797-element Vector{String31}:\n",
       " \"5df82e8739bcde5dd044f741\"\n",
       " \"5c7e91c1973c990016ea72b0\"\n",
       " \"5e67052c757e6149c38ce468\"\n",
       " \"5d89106d1719af0001ee23e5\"\n",
       " \"5d6394518df2870001a74b42\"\n",
       " \"5bdd368719b9ba000157fb12\"\n",
       " \"5b68d45687af3100015849a9\"\n",
       " \"5a8ce265000dab00018ce084\"\n",
       " \"5c72efa770d5a200018028f1\"\n",
       " \"5d378df21acda30001e7191e\"\n",
       " ⋮\n",
       " \"5da926115c6987001535a2da\"\n",
       " \"5c054e8a553fb800011917d7\"\n",
       " \"5cad4750f4115800176d506e\"\n",
       " \"5be8846293ca1f00014db03c\"\n",
       " \"5dbd1569f8223b28d73ed6ae\"\n",
       " \"5e217a34e8ff3a469b5dfebc\"\n",
       " \"5d63867550d0dd0017805976\"\n",
       " \"5e6155e6f169c0046b6d6518\"\n",
       " \"58cefdb030c4cf0001ceb3ac\""
      ]
     },
     "metadata": {},
     "output_type": "display_data"
    }
   ],
   "source": [
    "unique_pid = unique(data[data[!, :wave].==1, :PROLIFIC_PID])"
   ]
  },
  {
   "cell_type": "code",
   "execution_count": 29,
   "metadata": {},
   "outputs": [
    {
     "data": {
      "text/plain": [
       "\"5df82e8739bcde5dd044f741\""
      ]
     },
     "metadata": {},
     "output_type": "display_data"
    }
   ],
   "source": [
    "unique_pid[1]"
   ]
  },
  {
   "cell_type": "code",
   "execution_count": 35,
   "metadata": {},
   "outputs": [
    {
     "data": {
      "text/plain": [
       "18493-element BitVector:\n",
       " 1\n",
       " 1\n",
       " 1\n",
       " 0\n",
       " 0\n",
       " 0\n",
       " 0\n",
       " 0\n",
       " 0\n",
       " 0\n",
       " ⋮\n",
       " 0\n",
       " 0\n",
       " 0\n",
       " 0\n",
       " 0\n",
       " 0\n",
       " 0\n",
       " 0\n",
       " 0"
      ]
     },
     "metadata": {},
     "output_type": "display_data"
    }
   ],
   "source": [
    "w1 = data[data[!, :wave].==1, :]\n",
    "\n",
    "data[!, :PROLIFIC_PID].==unique_pid[1]"
   ]
  },
  {
   "cell_type": "code",
   "execution_count": 38,
   "metadata": {},
   "outputs": [
    {
     "data": {
      "text/plain": [
       "3-element view(::SentinelArrays.SentinelVector{Float64, Float64, Missing, Vector{Float64}}, [1, 2, 3]) with eltype Union{Missing, Float64}:\n",
       " 32.0\n",
       " 32.0\n",
       " 32.0"
      ]
     },
     "metadata": {},
     "output_type": "display_data"
    }
   ],
   "source": [
    "data[data[!, :PROLIFIC_PID].==unique_pid[1],\"prlfc_dem_age\"] .= w1[w1[!, :PROLIFIC_PID].==unique_pid[1], :prlfc_dem_age]"
   ]
  },
  {
   "cell_type": "code",
   "execution_count": 39,
   "metadata": {},
   "outputs": [
    {
     "data": {
      "text/plain": [
       "3-element Vector{Union{Missing, Float64}}:\n",
       " 32.0\n",
       " 32.0\n",
       " 32.0"
      ]
     },
     "metadata": {},
     "output_type": "display_data"
    }
   ],
   "source": [
    "data[data[!, :PROLIFIC_PID].==unique_pid[1],\"prlfc_dem_age\"]"
   ]
  },
  {
   "cell_type": "code",
   "execution_count": null,
   "metadata": {},
   "outputs": [],
   "source": [
    "for id in unique_pid\n",
    "    data[data[!, :PROLIFIC_PID].==id, :prlfc_dem_age] = \n",
    "end"
   ]
  },
  {
   "cell_type": "code",
   "execution_count": 19,
   "metadata": {},
   "outputs": [
    {
     "data": {
      "text/plain": [
       "1797-element Vector{Int64}:\n",
       " 1\n",
       " 1\n",
       " 1\n",
       " 1\n",
       " 1\n",
       " 1\n",
       " 1\n",
       " 1\n",
       " 1\n",
       " 1\n",
       " ⋮\n",
       " 1\n",
       " 1\n",
       " 1\n",
       " 1\n",
       " 1\n",
       " 1\n",
       " 1\n",
       " 1\n",
       " 1"
      ]
     },
     "metadata": {},
     "output_type": "display_data"
    }
   ],
   "source": [
    "w6[!, \"wave\"]"
   ]
  },
  {
   "cell_type": "code",
   "execution_count": 8,
   "metadata": {},
   "outputs": [],
   "source": []
  },
  {
   "cell_type": "code",
   "execution_count": null,
   "metadata": {},
   "outputs": [],
   "source": []
  }
 ],
 "metadata": {
  "kernelspec": {
   "display_name": "Julia 1.6.3",
   "language": "julia",
   "name": "julia-1.6"
  },
  "language_info": {
   "file_extension": ".jl",
   "mimetype": "application/julia",
   "name": "julia",
   "version": "1.6.3"
  },
  "orig_nbformat": 4
 },
 "nbformat": 4,
 "nbformat_minor": 2
}
