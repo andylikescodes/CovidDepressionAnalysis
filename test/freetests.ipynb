{
 "cells": [
  {
   "cell_type": "code",
   "execution_count": 182,
   "metadata": {},
   "outputs": [],
   "source": [
    "using Revise\n",
    "push!(LOAD_PATH, \"../src\") \n",
    "using DataFrames\n",
    "using CovidDepressionAnalysis\n",
    "using CSV\n",
    "using Counterfactuals\n",
    "using Plots"
   ]
  },
  {
   "cell_type": "code",
   "execution_count": 184,
   "metadata": {},
   "outputs": [
    {
     "data": {
      "text/html": [
       "<div class=\"data-frame\"><p>1,797 rows × 61 columns (omitted printing of 47 columns)</p><table class=\"data-frame\"><thead><tr><th></th><th>PROLIFIC_PID</th><th>Gender_w1</th><th>Education_w1</th><th>Income_w1</th><th>Political_Views_w1</th><th>Age_w1</th><th>Race_w1</th><th>Depression_w1</th><th>Stress_w1</th><th>Anxiety_w1</th><th>Fear_COVID_w1</th><th>Emotional_Support_w1</th><th>Loneliness_w1</th><th>slope_new_cases_w1</th></tr><tr><th></th><th title=\"String31\">String31</th><th title=\"Bool\">Bool</th><th title=\"Float64\">Float64</th><th title=\"Float64\">Float64</th><th title=\"Float64\">Float64</th><th title=\"Float64\">Float64</th><th title=\"Float64\">Float64</th><th title=\"Missing\">Missing</th><th title=\"Missing\">Missing</th><th title=\"Int64\">Int64</th><th title=\"Float64\">Float64</th><th title=\"Float64\">Float64</th><th title=\"Float64\">Float64</th><th title=\"Float64\">Float64</th></tr></thead><tbody><tr><th>1</th><td>5c7e91c1973c990016ea72b0</td><td>0</td><td>5.0</td><td>3.0</td><td>1.0</td><td>55.0</td><td>5.0</td><td><em>missing</em></td><td><em>missing</em></td><td>69</td><td>24.0</td><td>30.0</td><td>10.0</td><td>82.2857</td></tr><tr><th>2</th><td>5e67052c757e6149c38ce468</td><td>1</td><td>1.0</td><td>1.0</td><td>4.0</td><td>23.0</td><td>7.0</td><td><em>missing</em></td><td><em>missing</em></td><td>57</td><td>18.0</td><td>14.0</td><td>25.0</td><td>82.2857</td></tr><tr><th>3</th><td>5d89106d1719af0001ee23e5</td><td>0</td><td>2.0</td><td>1.0</td><td>6.0</td><td>47.0</td><td>5.0</td><td><em>missing</em></td><td><em>missing</em></td><td>27</td><td>8.0</td><td>40.0</td><td>5.0</td><td>82.2857</td></tr><tr><th>4</th><td>5d6394518df2870001a74b42</td><td>0</td><td>2.0</td><td>1.0</td><td>1.0</td><td>23.0</td><td>5.0</td><td><em>missing</em></td><td><em>missing</em></td><td>42</td><td>23.0</td><td>40.0</td><td>16.0</td><td>82.2857</td></tr><tr><th>5</th><td>5bdd368719b9ba000157fb12</td><td>0</td><td>3.0</td><td>4.0</td><td>4.0</td><td>28.0</td><td>5.0</td><td><em>missing</em></td><td><em>missing</em></td><td>29</td><td>10.0</td><td>40.0</td><td>5.0</td><td>82.2857</td></tr><tr><th>6</th><td>5a8ce265000dab00018ce084</td><td>0</td><td>4.0</td><td>6.0</td><td>3.0</td><td>50.0</td><td>5.0</td><td><em>missing</em></td><td><em>missing</em></td><td>37</td><td>6.0</td><td>34.0</td><td>7.0</td><td>82.2857</td></tr><tr><th>7</th><td>5c72efa770d5a200018028f1</td><td>1</td><td>5.0</td><td>2.0</td><td>3.0</td><td>71.0</td><td>5.0</td><td><em>missing</em></td><td><em>missing</em></td><td>27</td><td>9.0</td><td>39.0</td><td>5.0</td><td>82.2857</td></tr><tr><th>8</th><td>5aea962d0ef2f20001858c9c</td><td>1</td><td>2.0</td><td>1.0</td><td>2.0</td><td>36.0</td><td>5.0</td><td><em>missing</em></td><td><em>missing</em></td><td>59</td><td>17.0</td><td>17.0</td><td>16.0</td><td>82.2857</td></tr><tr><th>9</th><td>5e4b793f03c92a08a6d28e3f</td><td>1</td><td>2.0</td><td>7.0</td><td>4.0</td><td>21.0</td><td>2.0</td><td><em>missing</em></td><td><em>missing</em></td><td>42</td><td>4.0</td><td>18.0</td><td>11.0</td><td>82.2857</td></tr><tr><th>10</th><td>5cbc071f2edc3b00018ab097</td><td>1</td><td>7.0</td><td>1.0</td><td>3.0</td><td>36.0</td><td>2.0</td><td><em>missing</em></td><td><em>missing</em></td><td>43</td><td>13.0</td><td>28.0</td><td>8.0</td><td>82.2857</td></tr><tr><th>11</th><td>5c1b06d9a329230001ecc39c</td><td>1</td><td>2.0</td><td>1.0</td><td>2.0</td><td>25.0</td><td>3.0</td><td><em>missing</em></td><td><em>missing</em></td><td>42</td><td>10.0</td><td>18.0</td><td>8.0</td><td>82.2857</td></tr><tr><th>12</th><td>5e576e085069e61204a85872</td><td>1</td><td>2.0</td><td>7.0</td><td>4.0</td><td>19.0</td><td>5.0</td><td><em>missing</em></td><td><em>missing</em></td><td>44</td><td>19.0</td><td>32.0</td><td>19.0</td><td>82.2857</td></tr><tr><th>13</th><td>5dcf50f05686c1099819882a</td><td>1</td><td>6.0</td><td>3.0</td><td>1.0</td><td>66.0</td><td>5.0</td><td><em>missing</em></td><td><em>missing</em></td><td>41</td><td>19.0</td><td>32.0</td><td>17.0</td><td>82.2857</td></tr><tr><th>14</th><td>5d2d8b999c6703001525304f</td><td>1</td><td>2.0</td><td>1.0</td><td>7.0</td><td>25.0</td><td>5.0</td><td><em>missing</em></td><td><em>missing</em></td><td>47</td><td>12.0</td><td>8.0</td><td>25.0</td><td>82.2857</td></tr><tr><th>15</th><td>5de8bc74553cee8280a7dd84</td><td>1</td><td>5.0</td><td>1.0</td><td>2.0</td><td>22.0</td><td>5.0</td><td><em>missing</em></td><td><em>missing</em></td><td>36</td><td>8.0</td><td>27.0</td><td>13.0</td><td>82.2857</td></tr><tr><th>16</th><td>5b6a87d2cda8590001db8e07</td><td>1</td><td>5.0</td><td>1.0</td><td>1.0</td><td>39.0</td><td>2.0</td><td><em>missing</em></td><td><em>missing</em></td><td>63</td><td>13.0</td><td>28.0</td><td>14.0</td><td>82.2857</td></tr><tr><th>17</th><td>5e3dff6b8714b707b9a258b0</td><td>1</td><td>5.0</td><td>1.0</td><td>2.0</td><td>35.0</td><td>5.0</td><td><em>missing</em></td><td><em>missing</em></td><td>57</td><td>11.0</td><td>24.0</td><td>20.0</td><td>82.2857</td></tr><tr><th>18</th><td>5b05e0d131cebe000177c38e</td><td>1</td><td>2.0</td><td>1.0</td><td>5.0</td><td>38.0</td><td>5.0</td><td><em>missing</em></td><td><em>missing</em></td><td>68</td><td>20.0</td><td>23.0</td><td>15.0</td><td>82.2857</td></tr><tr><th>19</th><td>5d3b79a59d5c14000140c32f</td><td>0</td><td>5.0</td><td>4.0</td><td>2.0</td><td>46.0</td><td>6.0</td><td><em>missing</em></td><td><em>missing</em></td><td>44</td><td>8.0</td><td>32.0</td><td>6.0</td><td>82.2857</td></tr><tr><th>20</th><td>5e53e22ea0002e3e73720f65</td><td>0</td><td>3.0</td><td>2.0</td><td>1.0</td><td>22.0</td><td>7.0</td><td><em>missing</em></td><td><em>missing</em></td><td>43</td><td>11.0</td><td>14.0</td><td>25.0</td><td>82.2857</td></tr><tr><th>21</th><td>5e6fde86b3ea9e5bb33664e4</td><td>1</td><td>3.0</td><td>1.0</td><td>3.0</td><td>19.0</td><td>2.0</td><td><em>missing</em></td><td><em>missing</em></td><td>35</td><td>7.0</td><td>31.0</td><td>16.0</td><td>82.2857</td></tr><tr><th>22</th><td>5e65dca1d639df34800674a8</td><td>0</td><td>2.0</td><td>7.0</td><td>2.0</td><td>19.0</td><td>2.0</td><td><em>missing</em></td><td><em>missing</em></td><td>41</td><td>14.0</td><td>32.0</td><td>15.0</td><td>82.2857</td></tr><tr><th>23</th><td>5de0b69ba91be311cb773b0b</td><td>1</td><td>2.0</td><td>1.0</td><td>2.0</td><td>18.0</td><td>5.0</td><td><em>missing</em></td><td><em>missing</em></td><td>42</td><td>9.0</td><td>8.0</td><td>13.0</td><td>82.2857</td></tr><tr><th>24</th><td>5e05b7747dd477fc2d2d2857</td><td>1</td><td>5.0</td><td>3.0</td><td>7.0</td><td>62.0</td><td>5.0</td><td><em>missing</em></td><td><em>missing</em></td><td>30</td><td>9.0</td><td>38.0</td><td>6.0</td><td>82.2857</td></tr><tr><th>&vellip;</th><td>&vellip;</td><td>&vellip;</td><td>&vellip;</td><td>&vellip;</td><td>&vellip;</td><td>&vellip;</td><td>&vellip;</td><td>&vellip;</td><td>&vellip;</td><td>&vellip;</td><td>&vellip;</td><td>&vellip;</td><td>&vellip;</td><td>&vellip;</td></tr></tbody></table></div>"
      ],
      "text/latex": [
       "\\begin{tabular}{r|ccccccccccccccc}\n",
       "\t& PROLIFIC\\_PID & Gender\\_w1 & Education\\_w1 & Income\\_w1 & Political\\_Views\\_w1 & Age\\_w1 & Race\\_w1 & Depression\\_w1 & Stress\\_w1 & Anxiety\\_w1 & Fear\\_COVID\\_w1 & Emotional\\_Support\\_w1 & Loneliness\\_w1 & slope\\_new\\_cases\\_w1 & \\\\\n",
       "\t\\hline\n",
       "\t& String31 & Bool & Float64 & Float64 & Float64 & Float64 & Float64 & Missing & Missing & Int64 & Float64 & Float64 & Float64 & Float64 & \\\\\n",
       "\t\\hline\n",
       "\t1 & 5c7e91c1973c990016ea72b0 & 0 & 5.0 & 3.0 & 1.0 & 55.0 & 5.0 & \\emph{missing} & \\emph{missing} & 69 & 24.0 & 30.0 & 10.0 & 82.2857 & $\\dots$ \\\\\n",
       "\t2 & 5e67052c757e6149c38ce468 & 1 & 1.0 & 1.0 & 4.0 & 23.0 & 7.0 & \\emph{missing} & \\emph{missing} & 57 & 18.0 & 14.0 & 25.0 & 82.2857 & $\\dots$ \\\\\n",
       "\t3 & 5d89106d1719af0001ee23e5 & 0 & 2.0 & 1.0 & 6.0 & 47.0 & 5.0 & \\emph{missing} & \\emph{missing} & 27 & 8.0 & 40.0 & 5.0 & 82.2857 & $\\dots$ \\\\\n",
       "\t4 & 5d6394518df2870001a74b42 & 0 & 2.0 & 1.0 & 1.0 & 23.0 & 5.0 & \\emph{missing} & \\emph{missing} & 42 & 23.0 & 40.0 & 16.0 & 82.2857 & $\\dots$ \\\\\n",
       "\t5 & 5bdd368719b9ba000157fb12 & 0 & 3.0 & 4.0 & 4.0 & 28.0 & 5.0 & \\emph{missing} & \\emph{missing} & 29 & 10.0 & 40.0 & 5.0 & 82.2857 & $\\dots$ \\\\\n",
       "\t6 & 5a8ce265000dab00018ce084 & 0 & 4.0 & 6.0 & 3.0 & 50.0 & 5.0 & \\emph{missing} & \\emph{missing} & 37 & 6.0 & 34.0 & 7.0 & 82.2857 & $\\dots$ \\\\\n",
       "\t7 & 5c72efa770d5a200018028f1 & 1 & 5.0 & 2.0 & 3.0 & 71.0 & 5.0 & \\emph{missing} & \\emph{missing} & 27 & 9.0 & 39.0 & 5.0 & 82.2857 & $\\dots$ \\\\\n",
       "\t8 & 5aea962d0ef2f20001858c9c & 1 & 2.0 & 1.0 & 2.0 & 36.0 & 5.0 & \\emph{missing} & \\emph{missing} & 59 & 17.0 & 17.0 & 16.0 & 82.2857 & $\\dots$ \\\\\n",
       "\t9 & 5e4b793f03c92a08a6d28e3f & 1 & 2.0 & 7.0 & 4.0 & 21.0 & 2.0 & \\emph{missing} & \\emph{missing} & 42 & 4.0 & 18.0 & 11.0 & 82.2857 & $\\dots$ \\\\\n",
       "\t10 & 5cbc071f2edc3b00018ab097 & 1 & 7.0 & 1.0 & 3.0 & 36.0 & 2.0 & \\emph{missing} & \\emph{missing} & 43 & 13.0 & 28.0 & 8.0 & 82.2857 & $\\dots$ \\\\\n",
       "\t11 & 5c1b06d9a329230001ecc39c & 1 & 2.0 & 1.0 & 2.0 & 25.0 & 3.0 & \\emph{missing} & \\emph{missing} & 42 & 10.0 & 18.0 & 8.0 & 82.2857 & $\\dots$ \\\\\n",
       "\t12 & 5e576e085069e61204a85872 & 1 & 2.0 & 7.0 & 4.0 & 19.0 & 5.0 & \\emph{missing} & \\emph{missing} & 44 & 19.0 & 32.0 & 19.0 & 82.2857 & $\\dots$ \\\\\n",
       "\t13 & 5dcf50f05686c1099819882a & 1 & 6.0 & 3.0 & 1.0 & 66.0 & 5.0 & \\emph{missing} & \\emph{missing} & 41 & 19.0 & 32.0 & 17.0 & 82.2857 & $\\dots$ \\\\\n",
       "\t14 & 5d2d8b999c6703001525304f & 1 & 2.0 & 1.0 & 7.0 & 25.0 & 5.0 & \\emph{missing} & \\emph{missing} & 47 & 12.0 & 8.0 & 25.0 & 82.2857 & $\\dots$ \\\\\n",
       "\t15 & 5de8bc74553cee8280a7dd84 & 1 & 5.0 & 1.0 & 2.0 & 22.0 & 5.0 & \\emph{missing} & \\emph{missing} & 36 & 8.0 & 27.0 & 13.0 & 82.2857 & $\\dots$ \\\\\n",
       "\t16 & 5b6a87d2cda8590001db8e07 & 1 & 5.0 & 1.0 & 1.0 & 39.0 & 2.0 & \\emph{missing} & \\emph{missing} & 63 & 13.0 & 28.0 & 14.0 & 82.2857 & $\\dots$ \\\\\n",
       "\t17 & 5e3dff6b8714b707b9a258b0 & 1 & 5.0 & 1.0 & 2.0 & 35.0 & 5.0 & \\emph{missing} & \\emph{missing} & 57 & 11.0 & 24.0 & 20.0 & 82.2857 & $\\dots$ \\\\\n",
       "\t18 & 5b05e0d131cebe000177c38e & 1 & 2.0 & 1.0 & 5.0 & 38.0 & 5.0 & \\emph{missing} & \\emph{missing} & 68 & 20.0 & 23.0 & 15.0 & 82.2857 & $\\dots$ \\\\\n",
       "\t19 & 5d3b79a59d5c14000140c32f & 0 & 5.0 & 4.0 & 2.0 & 46.0 & 6.0 & \\emph{missing} & \\emph{missing} & 44 & 8.0 & 32.0 & 6.0 & 82.2857 & $\\dots$ \\\\\n",
       "\t20 & 5e53e22ea0002e3e73720f65 & 0 & 3.0 & 2.0 & 1.0 & 22.0 & 7.0 & \\emph{missing} & \\emph{missing} & 43 & 11.0 & 14.0 & 25.0 & 82.2857 & $\\dots$ \\\\\n",
       "\t21 & 5e6fde86b3ea9e5bb33664e4 & 1 & 3.0 & 1.0 & 3.0 & 19.0 & 2.0 & \\emph{missing} & \\emph{missing} & 35 & 7.0 & 31.0 & 16.0 & 82.2857 & $\\dots$ \\\\\n",
       "\t22 & 5e65dca1d639df34800674a8 & 0 & 2.0 & 7.0 & 2.0 & 19.0 & 2.0 & \\emph{missing} & \\emph{missing} & 41 & 14.0 & 32.0 & 15.0 & 82.2857 & $\\dots$ \\\\\n",
       "\t23 & 5de0b69ba91be311cb773b0b & 1 & 2.0 & 1.0 & 2.0 & 18.0 & 5.0 & \\emph{missing} & \\emph{missing} & 42 & 9.0 & 8.0 & 13.0 & 82.2857 & $\\dots$ \\\\\n",
       "\t24 & 5e05b7747dd477fc2d2d2857 & 1 & 5.0 & 3.0 & 7.0 & 62.0 & 5.0 & \\emph{missing} & \\emph{missing} & 30 & 9.0 & 38.0 & 6.0 & 82.2857 & $\\dots$ \\\\\n",
       "\t$\\dots$ & $\\dots$ & $\\dots$ & $\\dots$ & $\\dots$ & $\\dots$ & $\\dots$ & $\\dots$ & $\\dots$ & $\\dots$ & $\\dots$ & $\\dots$ & $\\dots$ & $\\dots$ & $\\dots$ &  \\\\\n",
       "\\end{tabular}\n"
      ],
      "text/plain": [
       "\u001b[1m1797×61 DataFrame\u001b[0m\n",
       "\u001b[1m  Row \u001b[0m│\u001b[1m PROLIFIC_PID             \u001b[0m\u001b[1m Gender_w1 \u001b[0m\u001b[1m Education_w1 \u001b[0m\u001b[1m Income_w1 \u001b[0m\u001b[1m Political_Views_w1 \u001b[0m\u001b[1m Age_w1  \u001b[0m\u001b[1m Race_w1 \u001b[0m\u001b[1m Depression_w1 \u001b[0m\u001b[1m Stress_w1 \u001b[0m\u001b[1m Anxiety_w1 \u001b[0m\u001b[1m Fear_COVID_w1 \u001b[0m\u001b[1m Emotional_Support_w1 \u001b[0m\u001b[1m Loneliness_w1 \u001b[0m\u001b[1m \u001b[0m ⋯\n",
       "\u001b[1m      \u001b[0m│\u001b[90m String31                 \u001b[0m\u001b[90m Bool      \u001b[0m\u001b[90m Float64      \u001b[0m\u001b[90m Float64   \u001b[0m\u001b[90m Float64            \u001b[0m\u001b[90m Float64 \u001b[0m\u001b[90m Float64 \u001b[0m\u001b[90m Missing       \u001b[0m\u001b[90m Missing   \u001b[0m\u001b[90m Int64      \u001b[0m\u001b[90m Float64       \u001b[0m\u001b[90m Float64              \u001b[0m\u001b[90m Float64       \u001b[0m\u001b[90m \u001b[0m ⋯\n",
       "──────┼─────────────────────────────────────────────────────────────────────────────────────────────────────────────────────────────────────────────────────────────────────────────────────────────────\n",
       "    1 │ 5c7e91c1973c990016ea72b0      false           5.0        3.0                 1.0     55.0      5.0 \u001b[90m       missing \u001b[0m\u001b[90m   missing \u001b[0m         69           24.0                  30.0           10.0   ⋯\n",
       "    2 │ 5e67052c757e6149c38ce468       true           1.0        1.0                 4.0     23.0      7.0 \u001b[90m       missing \u001b[0m\u001b[90m   missing \u001b[0m         57           18.0                  14.0           25.0\n",
       "    3 │ 5d89106d1719af0001ee23e5      false           2.0        1.0                 6.0     47.0      5.0 \u001b[90m       missing \u001b[0m\u001b[90m   missing \u001b[0m         27            8.0                  40.0            5.0\n",
       "    4 │ 5d6394518df2870001a74b42      false           2.0        1.0                 1.0     23.0      5.0 \u001b[90m       missing \u001b[0m\u001b[90m   missing \u001b[0m         42           23.0                  40.0           16.0\n",
       "    5 │ 5bdd368719b9ba000157fb12      false           3.0        4.0                 4.0     28.0      5.0 \u001b[90m       missing \u001b[0m\u001b[90m   missing \u001b[0m         29           10.0                  40.0            5.0   ⋯\n",
       "    6 │ 5a8ce265000dab00018ce084      false           4.0        6.0                 3.0     50.0      5.0 \u001b[90m       missing \u001b[0m\u001b[90m   missing \u001b[0m         37            6.0                  34.0            7.0\n",
       "    7 │ 5c72efa770d5a200018028f1       true           5.0        2.0                 3.0     71.0      5.0 \u001b[90m       missing \u001b[0m\u001b[90m   missing \u001b[0m         27            9.0                  39.0            5.0\n",
       "    8 │ 5aea962d0ef2f20001858c9c       true           2.0        1.0                 2.0     36.0      5.0 \u001b[90m       missing \u001b[0m\u001b[90m   missing \u001b[0m         59           17.0                  17.0           16.0\n",
       "  ⋮   │            ⋮                  ⋮           ⋮            ⋮              ⋮              ⋮        ⋮           ⋮            ⋮          ⋮             ⋮                 ⋮                  ⋮         ⋱\n",
       " 1791 │ 5caeb56feb05440017fd4817       true           4.0        3.0                 4.0     28.0      5.0 \u001b[90m       missing \u001b[0m\u001b[90m   missing \u001b[0m         51           17.0                  16.0           23.0   ⋯\n",
       " 1792 │ 5def020419398a5b744b98b9       true           5.0        5.0                 2.0     30.0      5.0 \u001b[90m       missing \u001b[0m\u001b[90m   missing \u001b[0m         30           19.0                  40.0            5.0\n",
       " 1793 │ 5e1fa6a063251a2de1d6b236       true           5.0        4.0                 2.0     34.0      5.0 \u001b[90m       missing \u001b[0m\u001b[90m   missing \u001b[0m         38           16.0                  37.0            7.0\n",
       " 1794 │ 5e7ccb90239c34323a771320      false           5.0        3.0                 1.0     28.0      5.0 \u001b[90m       missing \u001b[0m\u001b[90m   missing \u001b[0m         49            8.0                  30.0           13.0\n",
       " 1795 │ 5e39448ea9cf9414e733ff48       true           7.0        2.0                 2.0     25.0      6.0 \u001b[90m       missing \u001b[0m\u001b[90m   missing \u001b[0m         33           14.0                  29.0            9.0   ⋯\n",
       " 1796 │ 5d30a875ad3457001743fbc9       true           7.0        5.0                 5.0     47.0      5.0 \u001b[90m       missing \u001b[0m\u001b[90m   missing \u001b[0m         30           16.0                  38.0            5.0\n",
       " 1797 │ 5da926115c6987001535a2da       true           5.0        4.0                 6.0     57.0      5.0 \u001b[90m       missing \u001b[0m\u001b[90m   missing \u001b[0m         27            2.0                  31.0            5.0\n",
       "\u001b[36m                                                                                                                                                                        48 columns and 1782 rows omitted\u001b[0m"
      ]
     },
     "metadata": {},
     "output_type": "display_data"
    }
   ],
   "source": [
    "w6 = CSV.read(\"../output/IP_weighted_sources/w6.csv\", DataFrame)"
   ]
  },
  {
   "cell_type": "code",
   "execution_count": 166,
   "metadata": {},
   "outputs": [
    {
     "data": {
      "text/html": [
       "<div class=\"data-frame\"><p>1,178 rows × 25 columns (omitted printing of 9 columns)</p><table class=\"data-frame\"><thead><tr><th></th><th>PROLIFIC_PID</th><th>Gender</th><th>Education</th><th>Income</th><th>Political_Views</th><th>Age</th><th>Race</th><th>Depression</th><th>Stress</th><th>Anxiety</th><th>Fear_COVID</th><th>Emotional_Support</th><th>Loneliness</th><th>slope_new_cases</th><th>slope_new_deaths</th><th>GatheringStrictness</th></tr><tr><th></th><th title=\"String31\">String31</th><th title=\"Bool\">Bool</th><th title=\"Float64\">Float64</th><th title=\"Float64\">Float64</th><th title=\"Float64\">Float64</th><th title=\"Float64\">Float64</th><th title=\"Float64\">Float64</th><th title=\"Int64\">Int64</th><th title=\"Int64\">Int64</th><th title=\"Int64\">Int64</th><th title=\"Float64\">Float64</th><th title=\"Float64\">Float64</th><th title=\"Float64\">Float64</th><th title=\"Float64\">Float64</th><th title=\"Float64\">Float64</th><th title=\"Float64\">Float64</th></tr></thead><tbody><tr><th>1</th><td>5c7e91c1973c990016ea72b0</td><td>0</td><td>5.0</td><td>1.0</td><td>1.0</td><td>55.0</td><td>5.0</td><td>16</td><td>29</td><td>40</td><td>21.0</td><td>40.0</td><td>8.0</td><td>13.7143</td><td>2.28571</td><td>1.0</td></tr><tr><th>2</th><td>5e67052c757e6149c38ce468</td><td>1</td><td>1.0</td><td>1.0</td><td>4.0</td><td>23.0</td><td>7.0</td><td>51</td><td>22</td><td>71</td><td>14.0</td><td>9.0</td><td>25.0</td><td>13.7143</td><td>2.28571</td><td>1.0</td></tr><tr><th>3</th><td>5d89106d1719af0001ee23e5</td><td>0</td><td>2.0</td><td>1.0</td><td>6.0</td><td>47.0</td><td>5.0</td><td>0</td><td>6</td><td>29</td><td>0.0</td><td>40.0</td><td>5.0</td><td>13.7143</td><td>2.28571</td><td>1.0</td></tr><tr><th>4</th><td>5d6394518df2870001a74b42</td><td>0</td><td>2.0</td><td>1.0</td><td>1.0</td><td>23.0</td><td>5.0</td><td>53</td><td>35</td><td>48</td><td>17.0</td><td>40.0</td><td>13.0</td><td>13.7143</td><td>2.28571</td><td>1.0</td></tr><tr><th>5</th><td>5bdd368719b9ba000157fb12</td><td>0</td><td>3.0</td><td>1.0</td><td>4.0</td><td>28.0</td><td>5.0</td><td>8</td><td>3</td><td>33</td><td>12.0</td><td>40.0</td><td>5.0</td><td>13.7143</td><td>2.28571</td><td>1.0</td></tr><tr><th>6</th><td>5a8ce265000dab00018ce084</td><td>0</td><td>4.0</td><td>6.0</td><td>3.0</td><td>50.0</td><td>5.0</td><td>11</td><td>16</td><td>25</td><td>1.0</td><td>35.0</td><td>12.0</td><td>13.7143</td><td>2.28571</td><td>1.0</td></tr><tr><th>7</th><td>5c72efa770d5a200018028f1</td><td>1</td><td>5.0</td><td>2.0</td><td>3.0</td><td>71.0</td><td>5.0</td><td>1</td><td>3</td><td>25</td><td>13.0</td><td>39.0</td><td>5.0</td><td>13.7143</td><td>2.28571</td><td>1.0</td></tr><tr><th>8</th><td>5aea962d0ef2f20001858c9c</td><td>1</td><td>2.0</td><td>1.0</td><td>2.0</td><td>36.0</td><td>5.0</td><td>28</td><td>32</td><td>58</td><td>11.0</td><td>19.0</td><td>14.0</td><td>13.7143</td><td>2.28571</td><td>1.0</td></tr><tr><th>9</th><td>5e4b793f03c92a08a6d28e3f</td><td>1</td><td>2.0</td><td>1.0</td><td>4.0</td><td>21.0</td><td>2.0</td><td>22</td><td>20</td><td>49</td><td>5.0</td><td>16.0</td><td>15.0</td><td>13.7143</td><td>2.28571</td><td>1.0</td></tr><tr><th>10</th><td>5cbc071f2edc3b00018ab097</td><td>1</td><td>7.0</td><td>1.0</td><td>3.0</td><td>36.0</td><td>2.0</td><td>13</td><td>15</td><td>45</td><td>17.0</td><td>24.0</td><td>10.0</td><td>13.7143</td><td>2.28571</td><td>1.0</td></tr><tr><th>11</th><td>5c1b06d9a329230001ecc39c</td><td>1</td><td>2.0</td><td>1.0</td><td>2.0</td><td>25.0</td><td>3.0</td><td>3</td><td>14</td><td>39</td><td>9.0</td><td>17.0</td><td>10.0</td><td>13.7143</td><td>2.28571</td><td>1.0</td></tr><tr><th>12</th><td>5e576e085069e61204a85872</td><td>1</td><td>2.0</td><td>1.0</td><td>4.0</td><td>19.0</td><td>5.0</td><td>5</td><td>14</td><td>48</td><td>24.0</td><td>24.0</td><td>15.0</td><td>13.7143</td><td>2.28571</td><td>1.0</td></tr><tr><th>13</th><td>5dcf50f05686c1099819882a</td><td>1</td><td>6.0</td><td>3.0</td><td>1.0</td><td>66.0</td><td>5.0</td><td>25</td><td>20</td><td>46</td><td>17.0</td><td>32.0</td><td>13.0</td><td>13.7143</td><td>2.28571</td><td>1.0</td></tr><tr><th>14</th><td>5d2d8b999c6703001525304f</td><td>1</td><td>2.0</td><td>1.0</td><td>7.0</td><td>25.0</td><td>5.0</td><td>27</td><td>26</td><td>29</td><td>14.0</td><td>8.0</td><td>25.0</td><td>13.7143</td><td>2.28571</td><td>1.0</td></tr><tr><th>15</th><td>5de8bc74553cee8280a7dd84</td><td>1</td><td>5.0</td><td>1.0</td><td>2.0</td><td>22.0</td><td>5.0</td><td>1</td><td>12</td><td>37</td><td>3.0</td><td>29.0</td><td>14.0</td><td>13.7143</td><td>2.28571</td><td>1.0</td></tr><tr><th>16</th><td>5b6a87d2cda8590001db8e07</td><td>1</td><td>5.0</td><td>1.0</td><td>1.0</td><td>39.0</td><td>2.0</td><td>14</td><td>16</td><td>62</td><td>14.0</td><td>28.0</td><td>14.0</td><td>13.7143</td><td>2.28571</td><td>1.0</td></tr><tr><th>17</th><td>5e3dff6b8714b707b9a258b0</td><td>1</td><td>5.0</td><td>1.0</td><td>2.0</td><td>35.0</td><td>5.0</td><td>26</td><td>21</td><td>56</td><td>12.0</td><td>24.0</td><td>19.0</td><td>13.7143</td><td>2.28571</td><td>1.0</td></tr><tr><th>18</th><td>5b05e0d131cebe000177c38e</td><td>1</td><td>2.0</td><td>1.0</td><td>5.0</td><td>38.0</td><td>5.0</td><td>40</td><td>26</td><td>66</td><td>20.0</td><td>18.0</td><td>15.0</td><td>13.7143</td><td>2.28571</td><td>1.0</td></tr><tr><th>19</th><td>5d3b79a59d5c14000140c32f</td><td>0</td><td>5.0</td><td>1.0</td><td>2.0</td><td>46.0</td><td>6.0</td><td>5</td><td>13</td><td>36</td><td>10.0</td><td>27.0</td><td>7.0</td><td>13.7143</td><td>2.28571</td><td>1.0</td></tr><tr><th>20</th><td>5e53e22ea0002e3e73720f65</td><td>0</td><td>3.0</td><td>1.0</td><td>2.0</td><td>22.0</td><td>7.0</td><td>39</td><td>28</td><td>50</td><td>12.0</td><td>8.0</td><td>22.0</td><td>13.7143</td><td>2.28571</td><td>1.0</td></tr><tr><th>21</th><td>5e6fde86b3ea9e5bb33664e4</td><td>1</td><td>3.0</td><td>1.0</td><td>3.0</td><td>19.0</td><td>2.0</td><td>4</td><td>7</td><td>28</td><td>9.0</td><td>35.0</td><td>14.0</td><td>13.7143</td><td>2.28571</td><td>1.0</td></tr><tr><th>22</th><td>5e65dca1d639df34800674a8</td><td>0</td><td>2.0</td><td>1.0</td><td>2.0</td><td>19.0</td><td>2.0</td><td>5</td><td>12</td><td>34</td><td>16.0</td><td>40.0</td><td>10.0</td><td>13.7143</td><td>2.28571</td><td>1.0</td></tr><tr><th>23</th><td>5de0b69ba91be311cb773b0b</td><td>1</td><td>2.0</td><td>1.0</td><td>2.0</td><td>18.0</td><td>5.0</td><td>5</td><td>16</td><td>38</td><td>8.0</td><td>8.0</td><td>14.0</td><td>13.7143</td><td>2.28571</td><td>1.0</td></tr><tr><th>24</th><td>5e05b7747dd477fc2d2d2857</td><td>1</td><td>5.0</td><td>4.0</td><td>7.0</td><td>62.0</td><td>5.0</td><td>0</td><td>7</td><td>25</td><td>10.0</td><td>38.0</td><td>5.0</td><td>13.7143</td><td>2.28571</td><td>1.0</td></tr><tr><th>&vellip;</th><td>&vellip;</td><td>&vellip;</td><td>&vellip;</td><td>&vellip;</td><td>&vellip;</td><td>&vellip;</td><td>&vellip;</td><td>&vellip;</td><td>&vellip;</td><td>&vellip;</td><td>&vellip;</td><td>&vellip;</td><td>&vellip;</td><td>&vellip;</td><td>&vellip;</td><td>&vellip;</td></tr></tbody></table></div>"
      ],
      "text/latex": [
       "\\begin{tabular}{r|ccccccccccccccccc}\n",
       "\t& PROLIFIC\\_PID & Gender & Education & Income & Political\\_Views & Age & Race & Depression & Stress & Anxiety & Fear\\_COVID & Emotional\\_Support & Loneliness & slope\\_new\\_cases & slope\\_new\\_deaths & GatheringStrictness & \\\\\n",
       "\t\\hline\n",
       "\t& String31 & Bool & Float64 & Float64 & Float64 & Float64 & Float64 & Int64 & Int64 & Int64 & Float64 & Float64 & Float64 & Float64 & Float64 & Float64 & \\\\\n",
       "\t\\hline\n",
       "\t1 & 5c7e91c1973c990016ea72b0 & 0 & 5.0 & 1.0 & 1.0 & 55.0 & 5.0 & 16 & 29 & 40 & 21.0 & 40.0 & 8.0 & 13.7143 & 2.28571 & 1.0 & $\\dots$ \\\\\n",
       "\t2 & 5e67052c757e6149c38ce468 & 1 & 1.0 & 1.0 & 4.0 & 23.0 & 7.0 & 51 & 22 & 71 & 14.0 & 9.0 & 25.0 & 13.7143 & 2.28571 & 1.0 & $\\dots$ \\\\\n",
       "\t3 & 5d89106d1719af0001ee23e5 & 0 & 2.0 & 1.0 & 6.0 & 47.0 & 5.0 & 0 & 6 & 29 & 0.0 & 40.0 & 5.0 & 13.7143 & 2.28571 & 1.0 & $\\dots$ \\\\\n",
       "\t4 & 5d6394518df2870001a74b42 & 0 & 2.0 & 1.0 & 1.0 & 23.0 & 5.0 & 53 & 35 & 48 & 17.0 & 40.0 & 13.0 & 13.7143 & 2.28571 & 1.0 & $\\dots$ \\\\\n",
       "\t5 & 5bdd368719b9ba000157fb12 & 0 & 3.0 & 1.0 & 4.0 & 28.0 & 5.0 & 8 & 3 & 33 & 12.0 & 40.0 & 5.0 & 13.7143 & 2.28571 & 1.0 & $\\dots$ \\\\\n",
       "\t6 & 5a8ce265000dab00018ce084 & 0 & 4.0 & 6.0 & 3.0 & 50.0 & 5.0 & 11 & 16 & 25 & 1.0 & 35.0 & 12.0 & 13.7143 & 2.28571 & 1.0 & $\\dots$ \\\\\n",
       "\t7 & 5c72efa770d5a200018028f1 & 1 & 5.0 & 2.0 & 3.0 & 71.0 & 5.0 & 1 & 3 & 25 & 13.0 & 39.0 & 5.0 & 13.7143 & 2.28571 & 1.0 & $\\dots$ \\\\\n",
       "\t8 & 5aea962d0ef2f20001858c9c & 1 & 2.0 & 1.0 & 2.0 & 36.0 & 5.0 & 28 & 32 & 58 & 11.0 & 19.0 & 14.0 & 13.7143 & 2.28571 & 1.0 & $\\dots$ \\\\\n",
       "\t9 & 5e4b793f03c92a08a6d28e3f & 1 & 2.0 & 1.0 & 4.0 & 21.0 & 2.0 & 22 & 20 & 49 & 5.0 & 16.0 & 15.0 & 13.7143 & 2.28571 & 1.0 & $\\dots$ \\\\\n",
       "\t10 & 5cbc071f2edc3b00018ab097 & 1 & 7.0 & 1.0 & 3.0 & 36.0 & 2.0 & 13 & 15 & 45 & 17.0 & 24.0 & 10.0 & 13.7143 & 2.28571 & 1.0 & $\\dots$ \\\\\n",
       "\t11 & 5c1b06d9a329230001ecc39c & 1 & 2.0 & 1.0 & 2.0 & 25.0 & 3.0 & 3 & 14 & 39 & 9.0 & 17.0 & 10.0 & 13.7143 & 2.28571 & 1.0 & $\\dots$ \\\\\n",
       "\t12 & 5e576e085069e61204a85872 & 1 & 2.0 & 1.0 & 4.0 & 19.0 & 5.0 & 5 & 14 & 48 & 24.0 & 24.0 & 15.0 & 13.7143 & 2.28571 & 1.0 & $\\dots$ \\\\\n",
       "\t13 & 5dcf50f05686c1099819882a & 1 & 6.0 & 3.0 & 1.0 & 66.0 & 5.0 & 25 & 20 & 46 & 17.0 & 32.0 & 13.0 & 13.7143 & 2.28571 & 1.0 & $\\dots$ \\\\\n",
       "\t14 & 5d2d8b999c6703001525304f & 1 & 2.0 & 1.0 & 7.0 & 25.0 & 5.0 & 27 & 26 & 29 & 14.0 & 8.0 & 25.0 & 13.7143 & 2.28571 & 1.0 & $\\dots$ \\\\\n",
       "\t15 & 5de8bc74553cee8280a7dd84 & 1 & 5.0 & 1.0 & 2.0 & 22.0 & 5.0 & 1 & 12 & 37 & 3.0 & 29.0 & 14.0 & 13.7143 & 2.28571 & 1.0 & $\\dots$ \\\\\n",
       "\t16 & 5b6a87d2cda8590001db8e07 & 1 & 5.0 & 1.0 & 1.0 & 39.0 & 2.0 & 14 & 16 & 62 & 14.0 & 28.0 & 14.0 & 13.7143 & 2.28571 & 1.0 & $\\dots$ \\\\\n",
       "\t17 & 5e3dff6b8714b707b9a258b0 & 1 & 5.0 & 1.0 & 2.0 & 35.0 & 5.0 & 26 & 21 & 56 & 12.0 & 24.0 & 19.0 & 13.7143 & 2.28571 & 1.0 & $\\dots$ \\\\\n",
       "\t18 & 5b05e0d131cebe000177c38e & 1 & 2.0 & 1.0 & 5.0 & 38.0 & 5.0 & 40 & 26 & 66 & 20.0 & 18.0 & 15.0 & 13.7143 & 2.28571 & 1.0 & $\\dots$ \\\\\n",
       "\t19 & 5d3b79a59d5c14000140c32f & 0 & 5.0 & 1.0 & 2.0 & 46.0 & 6.0 & 5 & 13 & 36 & 10.0 & 27.0 & 7.0 & 13.7143 & 2.28571 & 1.0 & $\\dots$ \\\\\n",
       "\t20 & 5e53e22ea0002e3e73720f65 & 0 & 3.0 & 1.0 & 2.0 & 22.0 & 7.0 & 39 & 28 & 50 & 12.0 & 8.0 & 22.0 & 13.7143 & 2.28571 & 1.0 & $\\dots$ \\\\\n",
       "\t21 & 5e6fde86b3ea9e5bb33664e4 & 1 & 3.0 & 1.0 & 3.0 & 19.0 & 2.0 & 4 & 7 & 28 & 9.0 & 35.0 & 14.0 & 13.7143 & 2.28571 & 1.0 & $\\dots$ \\\\\n",
       "\t22 & 5e65dca1d639df34800674a8 & 0 & 2.0 & 1.0 & 2.0 & 19.0 & 2.0 & 5 & 12 & 34 & 16.0 & 40.0 & 10.0 & 13.7143 & 2.28571 & 1.0 & $\\dots$ \\\\\n",
       "\t23 & 5de0b69ba91be311cb773b0b & 1 & 2.0 & 1.0 & 2.0 & 18.0 & 5.0 & 5 & 16 & 38 & 8.0 & 8.0 & 14.0 & 13.7143 & 2.28571 & 1.0 & $\\dots$ \\\\\n",
       "\t24 & 5e05b7747dd477fc2d2d2857 & 1 & 5.0 & 4.0 & 7.0 & 62.0 & 5.0 & 0 & 7 & 25 & 10.0 & 38.0 & 5.0 & 13.7143 & 2.28571 & 1.0 & $\\dots$ \\\\\n",
       "\t$\\dots$ & $\\dots$ & $\\dots$ & $\\dots$ & $\\dots$ & $\\dots$ & $\\dots$ & $\\dots$ & $\\dots$ & $\\dots$ & $\\dots$ & $\\dots$ & $\\dots$ & $\\dots$ & $\\dots$ & $\\dots$ & $\\dots$ &  \\\\\n",
       "\\end{tabular}\n"
      ],
      "text/plain": [
       "\u001b[1m1178×25 DataFrame\u001b[0m\n",
       "\u001b[1m  Row \u001b[0m│\u001b[1m PROLIFIC_PID             \u001b[0m\u001b[1m Gender \u001b[0m\u001b[1m Education \u001b[0m\u001b[1m Income  \u001b[0m\u001b[1m Political_Views \u001b[0m\u001b[1m Age     \u001b[0m\u001b[1m Race    \u001b[0m\u001b[1m Depression \u001b[0m\u001b[1m Stress \u001b[0m\u001b[1m Anxiety \u001b[0m\u001b[1m Fear_COVID \u001b[0m\u001b[1m Emotional_Support \u001b[0m\u001b[1m Loneliness \u001b[0m\u001b[1m slope_new_cases \u001b[0m\u001b[1m slope_new_de\u001b[0m ⋯\n",
       "\u001b[1m      \u001b[0m│\u001b[90m String31                 \u001b[0m\u001b[90m Bool   \u001b[0m\u001b[90m Float64   \u001b[0m\u001b[90m Float64 \u001b[0m\u001b[90m Float64         \u001b[0m\u001b[90m Float64 \u001b[0m\u001b[90m Float64 \u001b[0m\u001b[90m Int64      \u001b[0m\u001b[90m Int64  \u001b[0m\u001b[90m Int64   \u001b[0m\u001b[90m Float64    \u001b[0m\u001b[90m Float64           \u001b[0m\u001b[90m Float64    \u001b[0m\u001b[90m Float64         \u001b[0m\u001b[90m Float64     \u001b[0m ⋯\n",
       "──────┼─────────────────────────────────────────────────────────────────────────────────────────────────────────────────────────────────────────────────────────────────────────────────────────────────\n",
       "    1 │ 5c7e91c1973c990016ea72b0   false        5.0      1.0              1.0     55.0      5.0          16      29       40        21.0               40.0         8.0        13.7143             2.2 ⋯\n",
       "    2 │ 5e67052c757e6149c38ce468    true        1.0      1.0              4.0     23.0      7.0          51      22       71        14.0                9.0        25.0        13.7143             2.2\n",
       "    3 │ 5d89106d1719af0001ee23e5   false        2.0      1.0              6.0     47.0      5.0           0       6       29         0.0               40.0         5.0        13.7143             2.2\n",
       "    4 │ 5d6394518df2870001a74b42   false        2.0      1.0              1.0     23.0      5.0          53      35       48        17.0               40.0        13.0        13.7143             2.2\n",
       "    5 │ 5bdd368719b9ba000157fb12   false        3.0      1.0              4.0     28.0      5.0           8       3       33        12.0               40.0         5.0        13.7143             2.2 ⋯\n",
       "    6 │ 5a8ce265000dab00018ce084   false        4.0      6.0              3.0     50.0      5.0          11      16       25         1.0               35.0        12.0        13.7143             2.2\n",
       "    7 │ 5c72efa770d5a200018028f1    true        5.0      2.0              3.0     71.0      5.0           1       3       25        13.0               39.0         5.0        13.7143             2.2\n",
       "    8 │ 5aea962d0ef2f20001858c9c    true        2.0      1.0              2.0     36.0      5.0          28      32       58        11.0               19.0        14.0        13.7143             2.2\n",
       "  ⋮   │            ⋮                ⋮         ⋮         ⋮            ⋮            ⋮        ⋮         ⋮         ⋮        ⋮         ⋮               ⋮              ⋮              ⋮                ⋮     ⋱\n",
       " 1172 │ 5cad4750f4115800176d506e   false        4.0      3.0              3.0     40.0      5.0          16      18       46        14.0               24.0         9.0         0.142857           0.0 ⋯\n",
       " 1173 │ 5be8846293ca1f00014db03c   false        5.0      3.0              5.0     53.0      5.0           5      13       37        11.0               30.0        12.0         0.142857           0.0\n",
       " 1174 │ 5dbd1569f8223b28d73ed6ae   false        3.0      1.0              2.0     65.0      5.0           5      15       35         9.0               35.0         9.0         0.142857           0.0\n",
       " 1175 │ 5e217a34e8ff3a469b5dfebc   false        3.0      1.0              3.0     22.0      1.0          21      17       58        28.0               16.0        10.0         0.142857           0.0\n",
       " 1176 │ 5d63867550d0dd0017805976    true        3.0      3.0              1.0     36.0      5.0          21      21       48        17.0               39.0         9.0        -5.57143            0.0 ⋯\n",
       " 1177 │ 5e6155e6f169c0046b6d6518    true        7.0      2.0              2.0     28.0      5.0           4      10       31         5.0               40.0         8.0        -2.14286            0.0\n",
       " 1178 │ 58cefdb030c4cf0001ceb3ac   false        5.0      4.0              2.0     64.0      5.0           0       5       30        18.0               32.0         6.0         5.71429            0.0\n",
       "\u001b[36m                                                                                                                                                                        11 columns and 1163 rows omitted\u001b[0m"
      ]
     },
     "metadata": {},
     "output_type": "display_data"
    }
   ],
   "source": [
    "w1 = CSV.read(\"../output/v2/w1.csv\", DataFrame)\n",
    "w6 = CSV.read(\"../output/v2/w6.csv\", DataFrame)"
   ]
  },
  {
   "cell_type": "code",
   "execution_count": 167,
   "metadata": {},
   "outputs": [
    {
     "data": {
      "text/plain": [
       "\"Depression\""
      ]
     },
     "metadata": {},
     "output_type": "display_data"
    }
   ],
   "source": [
    "adjustments = [\"Income\", \"Gender\", \"Age\", \"Education\", \"Race_AA\", \"Race_W\"]\n",
    "square_terms = [\"Income\", \"Age\", \"Education\"]\n",
    "treatment = \"low_quality\"\n",
    "target = \"Depression\""
   ]
  },
  {
   "cell_type": "code",
   "execution_count": 168,
   "metadata": {},
   "outputs": [
    {
     "data": {
      "text/plain": [
       "1178-element BitVector:\n",
       " 0\n",
       " 0\n",
       " 0\n",
       " 0\n",
       " 0\n",
       " 0\n",
       " 0\n",
       " 0\n",
       " 0\n",
       " 0\n",
       " ⋮\n",
       " 0\n",
       " 0\n",
       " 0\n",
       " 0\n",
       " 0\n",
       " 0\n",
       " 0\n",
       " 0\n",
       " 0"
      ]
     },
     "metadata": {},
     "output_type": "display_data"
    }
   ],
   "source": [
    "w6[:, :low_quality] = sum.(eachrow(w6[!, QUALITY_OUTPUT_NAME])) .>= 1"
   ]
  },
  {
   "cell_type": "code",
   "execution_count": 169,
   "metadata": {},
   "outputs": [
    {
     "data": {
      "text/plain": [
       "1178-element BitVector:\n",
       " 0\n",
       " 0\n",
       " 0\n",
       " 0\n",
       " 0\n",
       " 0\n",
       " 0\n",
       " 0\n",
       " 0\n",
       " 0\n",
       " ⋮\n",
       " 0\n",
       " 0\n",
       " 0\n",
       " 0\n",
       " 0\n",
       " 0\n",
       " 0\n",
       " 0\n",
       " 0"
      ]
     },
     "metadata": {},
     "output_type": "display_data"
    }
   ],
   "source": [
    "w6[!, :low_quality]"
   ]
  },
  {
   "cell_type": "code",
   "execution_count": 170,
   "metadata": {},
   "outputs": [
    {
     "data": {
      "text/plain": [
       "StatsModels.TableRegressionModel{GLM.GeneralizedLinearModel{GLM.GlmResp{Vector{Float64}, Distributions.Binomial{Float64}, GLM.ProbitLink}, GLM.DensePredChol{Float64, LinearAlgebra.Cholesky{Float64, Matrix{Float64}}}}, Matrix{Float64}}\n",
       "\n",
       "low_quality ~ 1 + Income + Gender + Age + Education + Race_AA + Race_W + Income^2 + Age^2 + Education^2\n",
       "\n",
       "Coefficients:\n",
       "───────────────────────────────────────────────────────────────────────────────────\n",
       "                    Coef.    Std. Error      z  Pr(>|z|)     Lower 95%    Upper 95%\n",
       "───────────────────────────────────────────────────────────────────────────────────\n",
       "(Intercept)  -2.65234       1.34173      -1.98    0.0481   -5.28207     -0.0225998\n",
       "Income       -0.199988      0.286802     -0.70    0.4856   -0.762109     0.362133\n",
       "Gender       -0.0875126     0.240528     -0.36    0.7160   -0.558938     0.383913\n",
       "Age           0.042778      0.0717598     0.60    0.5511   -0.0978686    0.183425\n",
       "Education     0.0394582     0.361571      0.11    0.9131   -0.669208     0.748124\n",
       "Race_AA      -2.77557      24.1404       -0.11    0.9085  -50.0899      44.5388\n",
       "Race_W        0.145681      0.311554      0.47    0.6401   -0.464954     0.756316\n",
       "Income^2      0.0417429     0.0401876     1.04    0.2989   -0.0370234    0.120509\n",
       "Age^2        -0.000750088   0.000938088  -0.80    0.4239   -0.00258871   0.00108853\n",
       "Education^2  -0.0127412     0.039703     -0.32    0.7483   -0.0905576    0.0650753\n",
       "───────────────────────────────────────────────────────────────────────────────────"
      ]
     },
     "metadata": {},
     "output_type": "display_data"
    }
   ],
   "source": [
    "fit = cal_ipw(w6, adjustments, square_terms, treatment)"
   ]
  },
  {
   "cell_type": "code",
   "execution_count": 171,
   "metadata": {},
   "outputs": [
    {
     "data": {
      "text/plain": [
       "1178-element BitVector:\n",
       " 0\n",
       " 0\n",
       " 0\n",
       " 0\n",
       " 0\n",
       " 0\n",
       " 0\n",
       " 0\n",
       " 0\n",
       " 0\n",
       " ⋮\n",
       " 0\n",
       " 0\n",
       " 0\n",
       " 0\n",
       " 0\n",
       " 0\n",
       " 0\n",
       " 0\n",
       " 0"
      ]
     },
     "metadata": {},
     "output_type": "display_data"
    }
   ],
   "source": [
    "w6[!, :low_quality]"
   ]
  },
  {
   "cell_type": "code",
   "execution_count": 172,
   "metadata": {},
   "outputs": [
    {
     "data": {
      "text/html": [
       "<div class=\"data-frame\"><p>1,797 rows × 54 columns (omitted printing of 40 columns)</p><table class=\"data-frame\"><thead><tr><th></th><th>PROLIFIC_PID</th><th>Gender_w1</th><th>Education_w1</th><th>Income_w1</th><th>Political_Views_w1</th><th>Age_w1</th><th>Race_w1</th><th>Depression_w1</th><th>Stress_w1</th><th>Anxiety_w1</th><th>Fear_COVID_w1</th><th>Emotional_Support_w1</th><th>Loneliness_w1</th><th>slope_new_cases_w1</th></tr><tr><th></th><th title=\"String31\">String31</th><th title=\"Union{Missing, Bool}\">Bool?</th><th title=\"Union{Missing, Float64}\">Float64?</th><th title=\"Union{Missing, Float64}\">Float64?</th><th title=\"Union{Missing, Float64}\">Float64?</th><th title=\"Union{Missing, Float64}\">Float64?</th><th title=\"Union{Missing, Float64}\">Float64?</th><th title=\"Missing\">Missing</th><th title=\"Missing\">Missing</th><th title=\"Union{Missing, Int64}\">Int64?</th><th title=\"Union{Missing, Float64}\">Float64?</th><th title=\"Union{Missing, Float64}\">Float64?</th><th title=\"Union{Missing, Float64}\">Float64?</th><th title=\"Union{Missing, Float64}\">Float64?</th></tr></thead><tbody><tr><th>1</th><td>5c7e91c1973c990016ea72b0</td><td>0</td><td>5.0</td><td>3.0</td><td>1.0</td><td>55.0</td><td>5.0</td><td><em>missing</em></td><td><em>missing</em></td><td>69</td><td>24.0</td><td>30.0</td><td>10.0</td><td>82.2857</td></tr><tr><th>2</th><td>5e67052c757e6149c38ce468</td><td>1</td><td>1.0</td><td>1.0</td><td>4.0</td><td>23.0</td><td>7.0</td><td><em>missing</em></td><td><em>missing</em></td><td>57</td><td>18.0</td><td>14.0</td><td>25.0</td><td>82.2857</td></tr><tr><th>3</th><td>5d89106d1719af0001ee23e5</td><td>0</td><td>2.0</td><td>1.0</td><td>6.0</td><td>47.0</td><td>5.0</td><td><em>missing</em></td><td><em>missing</em></td><td>27</td><td>8.0</td><td>40.0</td><td>5.0</td><td>82.2857</td></tr><tr><th>4</th><td>5d6394518df2870001a74b42</td><td>0</td><td>2.0</td><td>1.0</td><td>1.0</td><td>23.0</td><td>5.0</td><td><em>missing</em></td><td><em>missing</em></td><td>42</td><td>23.0</td><td>40.0</td><td>16.0</td><td>82.2857</td></tr><tr><th>5</th><td>5bdd368719b9ba000157fb12</td><td>0</td><td>3.0</td><td>4.0</td><td>4.0</td><td>28.0</td><td>5.0</td><td><em>missing</em></td><td><em>missing</em></td><td>29</td><td>10.0</td><td>40.0</td><td>5.0</td><td>82.2857</td></tr><tr><th>6</th><td>5a8ce265000dab00018ce084</td><td>0</td><td>4.0</td><td>6.0</td><td>3.0</td><td>50.0</td><td>5.0</td><td><em>missing</em></td><td><em>missing</em></td><td>37</td><td>6.0</td><td>34.0</td><td>7.0</td><td>82.2857</td></tr><tr><th>7</th><td>5c72efa770d5a200018028f1</td><td>1</td><td>5.0</td><td>2.0</td><td>3.0</td><td>71.0</td><td>5.0</td><td><em>missing</em></td><td><em>missing</em></td><td>27</td><td>9.0</td><td>39.0</td><td>5.0</td><td>82.2857</td></tr><tr><th>8</th><td>5aea962d0ef2f20001858c9c</td><td>1</td><td>2.0</td><td>1.0</td><td>2.0</td><td>36.0</td><td>5.0</td><td><em>missing</em></td><td><em>missing</em></td><td>59</td><td>17.0</td><td>17.0</td><td>16.0</td><td>82.2857</td></tr><tr><th>9</th><td>5e4b793f03c92a08a6d28e3f</td><td>1</td><td>2.0</td><td>7.0</td><td>4.0</td><td>21.0</td><td>2.0</td><td><em>missing</em></td><td><em>missing</em></td><td>42</td><td>4.0</td><td>18.0</td><td>11.0</td><td>82.2857</td></tr><tr><th>10</th><td>5cbc071f2edc3b00018ab097</td><td>1</td><td>7.0</td><td>1.0</td><td>3.0</td><td>36.0</td><td>2.0</td><td><em>missing</em></td><td><em>missing</em></td><td>43</td><td>13.0</td><td>28.0</td><td>8.0</td><td>82.2857</td></tr><tr><th>11</th><td>5c1b06d9a329230001ecc39c</td><td>1</td><td>2.0</td><td>1.0</td><td>2.0</td><td>25.0</td><td>3.0</td><td><em>missing</em></td><td><em>missing</em></td><td>42</td><td>10.0</td><td>18.0</td><td>8.0</td><td>82.2857</td></tr><tr><th>12</th><td>5e576e085069e61204a85872</td><td>1</td><td>2.0</td><td>7.0</td><td>4.0</td><td>19.0</td><td>5.0</td><td><em>missing</em></td><td><em>missing</em></td><td>44</td><td>19.0</td><td>32.0</td><td>19.0</td><td>82.2857</td></tr><tr><th>13</th><td>5dcf50f05686c1099819882a</td><td>1</td><td>6.0</td><td>3.0</td><td>1.0</td><td>66.0</td><td>5.0</td><td><em>missing</em></td><td><em>missing</em></td><td>41</td><td>19.0</td><td>32.0</td><td>17.0</td><td>82.2857</td></tr><tr><th>14</th><td>5d2d8b999c6703001525304f</td><td>1</td><td>2.0</td><td>1.0</td><td>7.0</td><td>25.0</td><td>5.0</td><td><em>missing</em></td><td><em>missing</em></td><td>47</td><td>12.0</td><td>8.0</td><td>25.0</td><td>82.2857</td></tr><tr><th>15</th><td>5de8bc74553cee8280a7dd84</td><td>1</td><td>5.0</td><td>1.0</td><td>2.0</td><td>22.0</td><td>5.0</td><td><em>missing</em></td><td><em>missing</em></td><td>36</td><td>8.0</td><td>27.0</td><td>13.0</td><td>82.2857</td></tr><tr><th>16</th><td>5b6a87d2cda8590001db8e07</td><td>1</td><td>5.0</td><td>1.0</td><td>1.0</td><td>39.0</td><td>2.0</td><td><em>missing</em></td><td><em>missing</em></td><td>63</td><td>13.0</td><td>28.0</td><td>14.0</td><td>82.2857</td></tr><tr><th>17</th><td>5e3dff6b8714b707b9a258b0</td><td>1</td><td>5.0</td><td>1.0</td><td>2.0</td><td>35.0</td><td>5.0</td><td><em>missing</em></td><td><em>missing</em></td><td>57</td><td>11.0</td><td>24.0</td><td>20.0</td><td>82.2857</td></tr><tr><th>18</th><td>5b05e0d131cebe000177c38e</td><td>1</td><td>2.0</td><td>1.0</td><td>5.0</td><td>38.0</td><td>5.0</td><td><em>missing</em></td><td><em>missing</em></td><td>68</td><td>20.0</td><td>23.0</td><td>15.0</td><td>82.2857</td></tr><tr><th>19</th><td>5d3b79a59d5c14000140c32f</td><td>0</td><td>5.0</td><td>4.0</td><td>2.0</td><td>46.0</td><td>6.0</td><td><em>missing</em></td><td><em>missing</em></td><td>44</td><td>8.0</td><td>32.0</td><td>6.0</td><td>82.2857</td></tr><tr><th>20</th><td>5e53e22ea0002e3e73720f65</td><td>0</td><td>3.0</td><td>2.0</td><td>1.0</td><td>22.0</td><td>7.0</td><td><em>missing</em></td><td><em>missing</em></td><td>43</td><td>11.0</td><td>14.0</td><td>25.0</td><td>82.2857</td></tr><tr><th>21</th><td>5e6fde86b3ea9e5bb33664e4</td><td>1</td><td>3.0</td><td>1.0</td><td>3.0</td><td>19.0</td><td>2.0</td><td><em>missing</em></td><td><em>missing</em></td><td>35</td><td>7.0</td><td>31.0</td><td>16.0</td><td>82.2857</td></tr><tr><th>22</th><td>5e65dca1d639df34800674a8</td><td>0</td><td>2.0</td><td>7.0</td><td>2.0</td><td>19.0</td><td>2.0</td><td><em>missing</em></td><td><em>missing</em></td><td>41</td><td>14.0</td><td>32.0</td><td>15.0</td><td>82.2857</td></tr><tr><th>23</th><td>5de0b69ba91be311cb773b0b</td><td>1</td><td>2.0</td><td>1.0</td><td>2.0</td><td>18.0</td><td>5.0</td><td><em>missing</em></td><td><em>missing</em></td><td>42</td><td>9.0</td><td>8.0</td><td>13.0</td><td>82.2857</td></tr><tr><th>24</th><td>5e05b7747dd477fc2d2d2857</td><td>1</td><td>5.0</td><td>3.0</td><td>7.0</td><td>62.0</td><td>5.0</td><td><em>missing</em></td><td><em>missing</em></td><td>30</td><td>9.0</td><td>38.0</td><td>6.0</td><td>82.2857</td></tr><tr><th>&vellip;</th><td>&vellip;</td><td>&vellip;</td><td>&vellip;</td><td>&vellip;</td><td>&vellip;</td><td>&vellip;</td><td>&vellip;</td><td>&vellip;</td><td>&vellip;</td><td>&vellip;</td><td>&vellip;</td><td>&vellip;</td><td>&vellip;</td><td>&vellip;</td></tr></tbody></table></div>"
      ],
      "text/latex": [
       "\\begin{tabular}{r|ccccccccccccccc}\n",
       "\t& PROLIFIC\\_PID & Gender\\_w1 & Education\\_w1 & Income\\_w1 & Political\\_Views\\_w1 & Age\\_w1 & Race\\_w1 & Depression\\_w1 & Stress\\_w1 & Anxiety\\_w1 & Fear\\_COVID\\_w1 & Emotional\\_Support\\_w1 & Loneliness\\_w1 & slope\\_new\\_cases\\_w1 & \\\\\n",
       "\t\\hline\n",
       "\t& String31 & Bool? & Float64? & Float64? & Float64? & Float64? & Float64? & Missing & Missing & Int64? & Float64? & Float64? & Float64? & Float64? & \\\\\n",
       "\t\\hline\n",
       "\t1 & 5c7e91c1973c990016ea72b0 & 0 & 5.0 & 3.0 & 1.0 & 55.0 & 5.0 & \\emph{missing} & \\emph{missing} & 69 & 24.0 & 30.0 & 10.0 & 82.2857 & $\\dots$ \\\\\n",
       "\t2 & 5e67052c757e6149c38ce468 & 1 & 1.0 & 1.0 & 4.0 & 23.0 & 7.0 & \\emph{missing} & \\emph{missing} & 57 & 18.0 & 14.0 & 25.0 & 82.2857 & $\\dots$ \\\\\n",
       "\t3 & 5d89106d1719af0001ee23e5 & 0 & 2.0 & 1.0 & 6.0 & 47.0 & 5.0 & \\emph{missing} & \\emph{missing} & 27 & 8.0 & 40.0 & 5.0 & 82.2857 & $\\dots$ \\\\\n",
       "\t4 & 5d6394518df2870001a74b42 & 0 & 2.0 & 1.0 & 1.0 & 23.0 & 5.0 & \\emph{missing} & \\emph{missing} & 42 & 23.0 & 40.0 & 16.0 & 82.2857 & $\\dots$ \\\\\n",
       "\t5 & 5bdd368719b9ba000157fb12 & 0 & 3.0 & 4.0 & 4.0 & 28.0 & 5.0 & \\emph{missing} & \\emph{missing} & 29 & 10.0 & 40.0 & 5.0 & 82.2857 & $\\dots$ \\\\\n",
       "\t6 & 5a8ce265000dab00018ce084 & 0 & 4.0 & 6.0 & 3.0 & 50.0 & 5.0 & \\emph{missing} & \\emph{missing} & 37 & 6.0 & 34.0 & 7.0 & 82.2857 & $\\dots$ \\\\\n",
       "\t7 & 5c72efa770d5a200018028f1 & 1 & 5.0 & 2.0 & 3.0 & 71.0 & 5.0 & \\emph{missing} & \\emph{missing} & 27 & 9.0 & 39.0 & 5.0 & 82.2857 & $\\dots$ \\\\\n",
       "\t8 & 5aea962d0ef2f20001858c9c & 1 & 2.0 & 1.0 & 2.0 & 36.0 & 5.0 & \\emph{missing} & \\emph{missing} & 59 & 17.0 & 17.0 & 16.0 & 82.2857 & $\\dots$ \\\\\n",
       "\t9 & 5e4b793f03c92a08a6d28e3f & 1 & 2.0 & 7.0 & 4.0 & 21.0 & 2.0 & \\emph{missing} & \\emph{missing} & 42 & 4.0 & 18.0 & 11.0 & 82.2857 & $\\dots$ \\\\\n",
       "\t10 & 5cbc071f2edc3b00018ab097 & 1 & 7.0 & 1.0 & 3.0 & 36.0 & 2.0 & \\emph{missing} & \\emph{missing} & 43 & 13.0 & 28.0 & 8.0 & 82.2857 & $\\dots$ \\\\\n",
       "\t11 & 5c1b06d9a329230001ecc39c & 1 & 2.0 & 1.0 & 2.0 & 25.0 & 3.0 & \\emph{missing} & \\emph{missing} & 42 & 10.0 & 18.0 & 8.0 & 82.2857 & $\\dots$ \\\\\n",
       "\t12 & 5e576e085069e61204a85872 & 1 & 2.0 & 7.0 & 4.0 & 19.0 & 5.0 & \\emph{missing} & \\emph{missing} & 44 & 19.0 & 32.0 & 19.0 & 82.2857 & $\\dots$ \\\\\n",
       "\t13 & 5dcf50f05686c1099819882a & 1 & 6.0 & 3.0 & 1.0 & 66.0 & 5.0 & \\emph{missing} & \\emph{missing} & 41 & 19.0 & 32.0 & 17.0 & 82.2857 & $\\dots$ \\\\\n",
       "\t14 & 5d2d8b999c6703001525304f & 1 & 2.0 & 1.0 & 7.0 & 25.0 & 5.0 & \\emph{missing} & \\emph{missing} & 47 & 12.0 & 8.0 & 25.0 & 82.2857 & $\\dots$ \\\\\n",
       "\t15 & 5de8bc74553cee8280a7dd84 & 1 & 5.0 & 1.0 & 2.0 & 22.0 & 5.0 & \\emph{missing} & \\emph{missing} & 36 & 8.0 & 27.0 & 13.0 & 82.2857 & $\\dots$ \\\\\n",
       "\t16 & 5b6a87d2cda8590001db8e07 & 1 & 5.0 & 1.0 & 1.0 & 39.0 & 2.0 & \\emph{missing} & \\emph{missing} & 63 & 13.0 & 28.0 & 14.0 & 82.2857 & $\\dots$ \\\\\n",
       "\t17 & 5e3dff6b8714b707b9a258b0 & 1 & 5.0 & 1.0 & 2.0 & 35.0 & 5.0 & \\emph{missing} & \\emph{missing} & 57 & 11.0 & 24.0 & 20.0 & 82.2857 & $\\dots$ \\\\\n",
       "\t18 & 5b05e0d131cebe000177c38e & 1 & 2.0 & 1.0 & 5.0 & 38.0 & 5.0 & \\emph{missing} & \\emph{missing} & 68 & 20.0 & 23.0 & 15.0 & 82.2857 & $\\dots$ \\\\\n",
       "\t19 & 5d3b79a59d5c14000140c32f & 0 & 5.0 & 4.0 & 2.0 & 46.0 & 6.0 & \\emph{missing} & \\emph{missing} & 44 & 8.0 & 32.0 & 6.0 & 82.2857 & $\\dots$ \\\\\n",
       "\t20 & 5e53e22ea0002e3e73720f65 & 0 & 3.0 & 2.0 & 1.0 & 22.0 & 7.0 & \\emph{missing} & \\emph{missing} & 43 & 11.0 & 14.0 & 25.0 & 82.2857 & $\\dots$ \\\\\n",
       "\t21 & 5e6fde86b3ea9e5bb33664e4 & 1 & 3.0 & 1.0 & 3.0 & 19.0 & 2.0 & \\emph{missing} & \\emph{missing} & 35 & 7.0 & 31.0 & 16.0 & 82.2857 & $\\dots$ \\\\\n",
       "\t22 & 5e65dca1d639df34800674a8 & 0 & 2.0 & 7.0 & 2.0 & 19.0 & 2.0 & \\emph{missing} & \\emph{missing} & 41 & 14.0 & 32.0 & 15.0 & 82.2857 & $\\dots$ \\\\\n",
       "\t23 & 5de0b69ba91be311cb773b0b & 1 & 2.0 & 1.0 & 2.0 & 18.0 & 5.0 & \\emph{missing} & \\emph{missing} & 42 & 9.0 & 8.0 & 13.0 & 82.2857 & $\\dots$ \\\\\n",
       "\t24 & 5e05b7747dd477fc2d2d2857 & 1 & 5.0 & 3.0 & 7.0 & 62.0 & 5.0 & \\emph{missing} & \\emph{missing} & 30 & 9.0 & 38.0 & 6.0 & 82.2857 & $\\dots$ \\\\\n",
       "\t$\\dots$ & $\\dots$ & $\\dots$ & $\\dots$ & $\\dots$ & $\\dots$ & $\\dots$ & $\\dots$ & $\\dots$ & $\\dots$ & $\\dots$ & $\\dots$ & $\\dots$ & $\\dots$ & $\\dots$ &  \\\\\n",
       "\\end{tabular}\n"
      ],
      "text/plain": [
       "\u001b[1m1797×54 DataFrame\u001b[0m\n",
       "\u001b[1m  Row \u001b[0m│\u001b[1m PROLIFIC_PID             \u001b[0m\u001b[1m Gender_w1 \u001b[0m\u001b[1m Education_w1 \u001b[0m\u001b[1m Income_w1 \u001b[0m\u001b[1m Political_Views_w1 \u001b[0m\u001b[1m Age_w1   \u001b[0m\u001b[1m Race_w1  \u001b[0m\u001b[1m Depression_w1 \u001b[0m\u001b[1m Stress_w1 \u001b[0m\u001b[1m Anxiety_w1 \u001b[0m\u001b[1m Fear_COVID_w1 \u001b[0m\u001b[1m Emotional_Support_w1 \u001b[0m\u001b[1m Loneliness_w1\u001b[0m ⋯\n",
       "\u001b[1m      \u001b[0m│\u001b[90m String31                 \u001b[0m\u001b[90m Bool?     \u001b[0m\u001b[90m Float64?     \u001b[0m\u001b[90m Float64?  \u001b[0m\u001b[90m Float64?           \u001b[0m\u001b[90m Float64? \u001b[0m\u001b[90m Float64? \u001b[0m\u001b[90m Missing       \u001b[0m\u001b[90m Missing   \u001b[0m\u001b[90m Int64?     \u001b[0m\u001b[90m Float64?      \u001b[0m\u001b[90m Float64?             \u001b[0m\u001b[90m Float64?     \u001b[0m ⋯\n",
       "──────┼─────────────────────────────────────────────────────────────────────────────────────────────────────────────────────────────────────────────────────────────────────────────────────────────────\n",
       "    1 │ 5c7e91c1973c990016ea72b0      false           5.0        3.0                 1.0      55.0       5.0 \u001b[90m       missing \u001b[0m\u001b[90m   missing \u001b[0m         69           24.0                  30.0           10.0 ⋯\n",
       "    2 │ 5e67052c757e6149c38ce468       true           1.0        1.0                 4.0      23.0       7.0 \u001b[90m       missing \u001b[0m\u001b[90m   missing \u001b[0m         57           18.0                  14.0           25.0\n",
       "    3 │ 5d89106d1719af0001ee23e5      false           2.0        1.0                 6.0      47.0       5.0 \u001b[90m       missing \u001b[0m\u001b[90m   missing \u001b[0m         27            8.0                  40.0            5.0\n",
       "    4 │ 5d6394518df2870001a74b42      false           2.0        1.0                 1.0      23.0       5.0 \u001b[90m       missing \u001b[0m\u001b[90m   missing \u001b[0m         42           23.0                  40.0           16.0\n",
       "    5 │ 5bdd368719b9ba000157fb12      false           3.0        4.0                 4.0      28.0       5.0 \u001b[90m       missing \u001b[0m\u001b[90m   missing \u001b[0m         29           10.0                  40.0            5.0 ⋯\n",
       "    6 │ 5a8ce265000dab00018ce084      false           4.0        6.0                 3.0      50.0       5.0 \u001b[90m       missing \u001b[0m\u001b[90m   missing \u001b[0m         37            6.0                  34.0            7.0\n",
       "    7 │ 5c72efa770d5a200018028f1       true           5.0        2.0                 3.0      71.0       5.0 \u001b[90m       missing \u001b[0m\u001b[90m   missing \u001b[0m         27            9.0                  39.0            5.0\n",
       "    8 │ 5aea962d0ef2f20001858c9c       true           2.0        1.0                 2.0      36.0       5.0 \u001b[90m       missing \u001b[0m\u001b[90m   missing \u001b[0m         59           17.0                  17.0           16.0\n",
       "  ⋮   │            ⋮                  ⋮           ⋮            ⋮              ⋮              ⋮         ⋮            ⋮            ⋮          ⋮             ⋮                 ⋮                  ⋮       ⋱\n",
       " 1791 │ 5caeb56feb05440017fd4817       true           4.0        3.0                 4.0      28.0       5.0 \u001b[90m       missing \u001b[0m\u001b[90m   missing \u001b[0m         51           17.0                  16.0           23.0 ⋯\n",
       " 1792 │ 5def020419398a5b744b98b9       true           5.0        5.0                 2.0      30.0       5.0 \u001b[90m       missing \u001b[0m\u001b[90m   missing \u001b[0m         30           19.0                  40.0            5.0\n",
       " 1793 │ 5e1fa6a063251a2de1d6b236       true           5.0        4.0                 2.0      34.0       5.0 \u001b[90m       missing \u001b[0m\u001b[90m   missing \u001b[0m         38           16.0                  37.0            7.0\n",
       " 1794 │ 5e7ccb90239c34323a771320      false           5.0        3.0                 1.0      28.0       5.0 \u001b[90m       missing \u001b[0m\u001b[90m   missing \u001b[0m         49            8.0                  30.0           13.0\n",
       " 1795 │ 5e39448ea9cf9414e733ff48       true           7.0        2.0                 2.0      25.0       6.0 \u001b[90m       missing \u001b[0m\u001b[90m   missing \u001b[0m         33           14.0                  29.0            9.0 ⋯\n",
       " 1796 │ 5d30a875ad3457001743fbc9       true           7.0        5.0                 5.0      47.0       5.0 \u001b[90m       missing \u001b[0m\u001b[90m   missing \u001b[0m         30           16.0                  38.0            5.0\n",
       " 1797 │ 5da926115c6987001535a2da       true           5.0        4.0                 6.0      57.0       5.0 \u001b[90m       missing \u001b[0m\u001b[90m   missing \u001b[0m         27            2.0                  31.0            5.0\n",
       "\u001b[36m                                                                                                                                                                        41 columns and 1782 rows omitted\u001b[0m"
      ]
     },
     "metadata": {},
     "output_type": "display_data"
    }
   ],
   "source": [
    "w1_w6_combined = combine_wave_data(w1, w6, \"PROLIFIC_PID\", \"w1\", \"w6\")"
   ]
  },
  {
   "cell_type": "code",
   "execution_count": 173,
   "metadata": {},
   "outputs": [
    {
     "data": {
      "text/plain": [
       "1797-element Vector{Union{Missing, Bool}}:\n",
       " false\n",
       " false\n",
       " false\n",
       " false\n",
       " false\n",
       " false\n",
       " false\n",
       " false\n",
       " false\n",
       " false\n",
       "     ⋮\n",
       "      missing\n",
       "      missing\n",
       "      missing\n",
       "      missing\n",
       "      missing\n",
       "      missing\n",
       "      missing\n",
       "      missing\n",
       "      missing"
      ]
     },
     "metadata": {},
     "output_type": "display_data"
    }
   ],
   "source": [
    "w1_w6_combined[!,:low_quality_w6]"
   ]
  },
  {
   "cell_type": "code",
   "execution_count": 176,
   "metadata": {},
   "outputs": [
    {
     "data": {
      "text/plain": [
       "1797-element BitVector:\n",
       " 0\n",
       " 0\n",
       " 0\n",
       " 0\n",
       " 0\n",
       " 0\n",
       " 0\n",
       " 0\n",
       " 0\n",
       " 0\n",
       " ⋮\n",
       " 1\n",
       " 1\n",
       " 1\n",
       " 1\n",
       " 1\n",
       " 1\n",
       " 1\n",
       " 1\n",
       " 1"
      ]
     },
     "metadata": {},
     "output_type": "display_data"
    }
   ],
   "source": [
    "w1_w6_combined[!, :dropout] = w1_w6_combined[!, \"Depression_w6\"].===missing"
   ]
  },
  {
   "cell_type": "code",
   "execution_count": 177,
   "metadata": {},
   "outputs": [
    {
     "data": {
      "text/plain": [
       "\"Depression\""
      ]
     },
     "metadata": {},
     "output_type": "display_data"
    }
   ],
   "source": [
    "adjustments = [\"Income_w1\", \"Gender_w1\", \"Age_w1\", \"Education_w1\", \"Race_AA_w1\", \"Race_W_w1\"]\n",
    "square_terms = [\"Income_w1\", \"Age_w1\", \"Education_w1\"]\n",
    "treatment = \"dropout\"\n",
    "target = \"Depression\""
   ]
  },
  {
   "cell_type": "code",
   "execution_count": 178,
   "metadata": {},
   "outputs": [
    {
     "data": {
      "text/plain": [
       "StatsModels.TableRegressionModel{GLM.GeneralizedLinearModel{GLM.GlmResp{Vector{Float64}, Distributions.Binomial{Float64}, GLM.ProbitLink}, GLM.DensePredChol{Float64, LinearAlgebra.Cholesky{Float64, Matrix{Float64}}}}, Matrix{Float64}}\n",
       "\n",
       "dropout ~ 1 + Income_w1 + Gender_w1 + Age_w1 + Education_w1 + Race_AA_w1 + Race_W_w1 + Income_w1^2 + Age_w1^2 + Education_w1^2\n",
       "\n",
       "Coefficients:\n",
       "────────────────────────────────────────────────────────────────────────────────────\n",
       "                      Coef.   Std. Error      z  Pr(>|z|)     Lower 95%    Upper 95%\n",
       "────────────────────────────────────────────────────────────────────────────────────\n",
       "(Intercept)      0.364975    0.29204       1.25    0.2114  -0.207413     0.937363\n",
       "Income_w1        0.0855109   0.0783456     1.09    0.2751  -0.0680437    0.239065\n",
       "Gender_w1       -0.0105184   0.0624086    -0.17    0.8662  -0.132837     0.1118\n",
       "Age_w1          -0.0194272   0.0142339    -1.36    0.1723  -0.0473251    0.00847077\n",
       "Education_w1    -0.0854097   0.0835617    -1.02    0.3067  -0.249188     0.0783682\n",
       "Race_AA_w1      -0.117006    0.133005     -0.88    0.3790  -0.377691     0.143678\n",
       "Race_W_w1        0.00240504  0.0814446     0.03    0.9764  -0.157223     0.162034\n",
       "Income_w1^2     -0.0164083   0.0114175    -1.44    0.1507  -0.0387862    0.00596959\n",
       "Age_w1^2         3.89681e-5  0.000168463   0.23    0.8171  -0.000291213  0.000369149\n",
       "Education_w1^2   0.00940364  0.00834204    1.13    0.2596  -0.00694645   0.0257537\n",
       "────────────────────────────────────────────────────────────────────────────────────"
      ]
     },
     "metadata": {},
     "output_type": "display_data"
    }
   ],
   "source": [
    "fit = cal_ipw(w1_w6_combined, adjustments, square_terms, treatment)"
   ]
  },
  {
   "cell_type": "code",
   "execution_count": 179,
   "metadata": {},
   "outputs": [
    {
     "data": {
      "text/plain": [
       "1797-element Vector{Union{Missing, Float64}}:\n",
       " 0.7448289595782437\n",
       " 0.5254083769860263\n",
       " 0.6919217857837503\n",
       " 0.5378375413599564\n",
       " 0.5821569008525971\n",
       " 0.7625834075157938\n",
       " 0.819182198225355\n",
       " 0.6292042567899955\n",
       " 0.6392747674979793\n",
       " 0.6391023954042704\n",
       " ⋮\n",
       "  missing\n",
       "  missing\n",
       "  missing\n",
       "  missing\n",
       "  missing\n",
       "  missing\n",
       "  missing\n",
       "  missing\n",
       "  missing"
      ]
     },
     "metadata": {},
     "output_type": "display_data"
    }
   ],
   "source": [
    "w1_w6_combined[!, :total_w] = w1_w6_combined[!, :low_quality_w_w6] .* w1_w6_combined[!, :dropout_w]"
   ]
  },
  {
   "cell_type": "code",
   "execution_count": 180,
   "metadata": {},
   "outputs": [
    {
     "data": {
      "text/plain": [
       "1797-element Vector{Union{Missing, Float64}}:\n",
       " 21.481441872319163\n",
       " 97.0673522423804\n",
       "  0.0\n",
       " 98.54276788858236\n",
       " 13.741999774087727\n",
       " 14.424651640184264\n",
       "  1.2207296522878082\n",
       " 44.50065252712576\n",
       " 34.41399710816764\n",
       " 20.34102843845034\n",
       "  ⋮\n",
       "   missing\n",
       "   missing\n",
       "   missing\n",
       "   missing\n",
       "   missing\n",
       "   missing\n",
       "   missing\n",
       "   missing\n",
       "   missing"
      ]
     },
     "metadata": {},
     "output_type": "display_data"
    }
   ],
   "source": [
    "w1_w6_combined[!, :Depression_adj] = w1_w6_combined[!, :Depression_w6] .* (1 ./ w1_w6_combined[!, :total_w])"
   ]
  },
  {
   "cell_type": "code",
   "execution_count": 186,
   "metadata": {},
   "outputs": [
    {
     "name": "stdout",
     "output_type": "stream",
     "text": [
      "StatsModels.TableRegressionModel{GLM.GeneralizedLinearModel{GLM.GlmResp{Vector{"
     ]
    },
    {
     "name": "stdout",
     "output_type": "stream",
     "text": [
      "Float64}, Distributions.Binomial{Float64}, GLM.ProbitLink}, GLM.DensePredChol{Float64, LinearAlgebra.Cholesky{Float64, Matrix{Float64}}}}, Matrix{Float64}}\n",
      "\n",
      "dropout ~ 1 + Income_w1 + Gender_w1 + Age_w1 + Education_w1 + Race_AA_w1 + Race_W_w1 + Income_w1^2 + Age_w1^2 + Education_w1^2\n",
      "\n",
      "Coefficients:\n"
     ]
    },
    {
     "name": "stdout",
     "output_type": "stream",
     "text": [
      "────────────────────────────────────────────────────────────────────────────────────\n",
      "                      Coef.   Std. Error      z  Pr(>|z|)     Lower 95%    Upper 95%\n",
      "────────────────────────────────────────────────────────────────────────────────────\n",
      "(Intercept)      0.364975    0.29204       1.25    0.2114  -0.207413     0.937363\n",
      "Income_w1        0.0855109   0.0783456     1.09    0.2751  -0.0680437    0.239065\n",
      "Gender_w1       -0.0105184   0.0624086    -0.17    0.8662  -0.132837     0.1118\n",
      "Age_w1          -0.0194272   0.0142339    -1.36    0.1723  -0.0473251    0.00847077\n",
      "Education_w1    -0.0854097   0.0835617    -1.02    0.3067  -0.249188     0.0783682\n",
      "Race_AA_w1      -0.117006    0.133005     -0.88    0.3790  -0.377691     0.143678\n",
      "Race_W_w1        0.00240504  0.0814446     0.03    0.9764  -0.157223     0.162034\n",
      "Income_w1^2     -0.0164083   0.0114175    -1.44    0.1507  -0.0387862    0.00596959\n",
      "Age_w1^2         3.89681e-5  0.000168463   0.23    0.8171  -0.000291213  0.000369149\n",
      "Education_w1^2   0.00940364  0.00834204    1.13    0.2596  -0.00694645   0.0257537\n",
      "────────────────────────────────────────────────────────────────────────────────────\n"
     ]
    }
   ],
   "source": [
    "open(\"file.txt\",\"a\") do io\n",
    "    println(io,\"a=\",a)\n",
    " end\n",
    "println(fit)"
   ]
  },
  {
   "cell_type": "code",
   "execution_count": 181,
   "metadata": {},
   "outputs": [
    {
     "data": {
      "text/plain": [
       "1167-element Vector{Union{Missing, Float64}}:\n",
       " 21.481441872319163\n",
       " 97.0673522423804\n",
       "  0.0\n",
       " 98.54276788858236\n",
       " 13.741999774087727\n",
       " 14.424651640184264\n",
       "  1.2207296522878082\n",
       " 44.50065252712576\n",
       " 34.41399710816764\n",
       " 20.34102843845034\n",
       "  ⋮\n",
       " 18.295018083884422\n",
       " 16.68341326045705\n",
       " 24.298641223434846\n",
       "  6.8031010252342305\n",
       "  6.275636828853041\n",
       " 36.78178396396201\n",
       " 33.294135933486565\n",
       "  6.996680477968803\n",
       "  0.0"
      ]
     },
     "metadata": {},
     "output_type": "display_data"
    }
   ],
   "source": [
    "selected = w1_w6_combined[(w1_w6_combined[!, :Depression_adj] .!==missing) .& (w1_w6_combined[!, :low_quality_w6] .== 0), :Depression_adj]"
   ]
  },
  {
   "cell_type": "code",
   "execution_count": 183,
   "metadata": {},
   "outputs": [
    {
     "data": {
      "image/png": "[encoded data removed]",
      "image/svg+xml": "<?xml version=\"1.0\" encoding=\"utf-8\"?>\n<svg xmlns=\"http://www.w3.org/2000/svg\" xmlns:xlink=\"http://www.w3.org/1999/xlink\" width=\"600\" height=\"400\" viewBox=\"0 0 2400 1600\">\n<defs>\n  <clipPath id=\"clip000\">\n    <rect x=\"0\" y=\"0\" width=\"2400\" height=\"1600\"/>\n  </clipPath>\n</defs>\n<path clip-path=\"url(#clip000)\" d=\"\nM0 1600 L2400 1600 L2400 0 L0 0  Z\n  \" fill=\"#ffffff\" fill-rule=\"evenodd\" fill-opacity=\"1\"/>\n<defs>\n  <clipPath id=\"clip001\">\n    <rect x=\"480\" y=\"0\" width=\"1681\" height=\"1600\"/>\n  </clipPath>\n</defs>\n<path clip-path=\"url(#clip000)\" d=\"\nM170.857 1486.45 L2352.76 1486.45 L2352.76 47.2441 L170.857 47.2441  Z\n  \" fill=\"#ffffff\" fill-rule=\"evenodd\" fill-opacity=\"1\"/>\n<defs>\n  <clipPath id=\"clip002\">\n    <rect x=\"170\" y=\"47\" width=\"2183\" height=\"1440\"/>\n  </clipPath>\n</defs>\n<polyline clip-path=\"url(#clip002)\" style=\"stroke:#000000; stroke-linecap:butt; stroke-linejoin:round; stroke-width:2; stroke-opacity:0.1; fill:none\" points=\"\n  290.866,1486.45 290.866,47.2441 \n  \"/>\n<polyline clip-path=\"url(#clip002)\" style=\"stroke:#000000; stroke-linecap:butt; stroke-linejoin:round; stroke-width:2; stroke-opacity:0.1; fill:none\" points=\"\n  776.336,1486.45 776.336,47.2441 \n  \"/>\n<polyline clip-path=\"url(#clip002)\" style=\"stroke:#000000; stroke-linecap:butt; stroke-linejoin:round; stroke-width:2; stroke-opacity:0.1; fill:none\" points=\"\n  1261.81,1486.45 1261.81,47.2441 \n  \"/>\n<polyline clip-path=\"url(#clip002)\" style=\"stroke:#000000; stroke-linecap:butt; stroke-linejoin:round; stroke-width:2; stroke-opacity:0.1; fill:none\" points=\"\n  1747.28,1486.45 1747.28,47.2441 \n  \"/>\n<polyline clip-path=\"url(#clip002)\" style=\"stroke:#000000; stroke-linecap:butt; stroke-linejoin:round; stroke-width:2; stroke-opacity:0.1; fill:none\" points=\"\n  2232.75,1486.45 2232.75,47.2441 \n  \"/>\n<polyline clip-path=\"url(#clip000)\" style=\"stroke:#000000; stroke-linecap:butt; stroke-linejoin:round; stroke-width:4; stroke-opacity:1; fill:none\" points=\"\n  170.857,1486.45 2352.76,1486.45 \n  \"/>\n<polyline clip-path=\"url(#clip000)\" style=\"stroke:#000000; stroke-linecap:butt; stroke-linejoin:round; stroke-width:4; stroke-opacity:1; fill:none\" points=\"\n  290.866,1486.45 290.866,1467.55 \n  \"/>\n<polyline clip-path=\"url(#clip000)\" style=\"stroke:#000000; stroke-linecap:butt; stroke-linejoin:round; stroke-width:4; stroke-opacity:1; fill:none\" points=\"\n  776.336,1486.45 776.336,1467.55 \n  \"/>\n<polyline clip-path=\"url(#clip000)\" style=\"stroke:#000000; stroke-linecap:butt; stroke-linejoin:round; stroke-width:4; stroke-opacity:1; fill:none\" points=\"\n  1261.81,1486.45 1261.81,1467.55 \n  \"/>\n<polyline clip-path=\"url(#clip000)\" style=\"stroke:#000000; stroke-linecap:butt; stroke-linejoin:round; stroke-width:4; stroke-opacity:1; fill:none\" points=\"\n  1747.28,1486.45 1747.28,1467.55 \n  \"/>\n<polyline clip-path=\"url(#clip000)\" style=\"stroke:#000000; stroke-linecap:butt; stroke-linejoin:round; stroke-width:4; stroke-opacity:1; fill:none\" points=\"\n  2232.75,1486.45 2232.75,1467.55 \n  \"/>\n<path clip-path=\"url(#clip000)\" d=\"M290.866 1517.37 Q287.255 1517.37 285.426 1520.93 Q283.62 1524.47 283.62 1531.6 Q283.62 1538.71 285.426 1542.27 Q287.255 1545.82 290.866 1545.82 Q294.5 1545.82 296.306 1542.27 Q298.134 1538.71 298.134 1531.6 Q298.134 1524.47 296.306 1520.93 Q294.5 1517.37 290.866 1517.37 M290.866 1513.66 Q296.676 1513.66 299.731 1518.27 Q302.81 1522.85 302.81 1531.6 Q302.81 1540.33 299.731 1544.94 Q296.676 1549.52 290.866 1549.52 Q285.056 1549.52 281.977 1544.94 Q278.921 1540.33 278.921 1531.6 Q278.921 1522.85 281.977 1518.27 Q285.056 1513.66 290.866 1513.66 Z\" fill=\"#000000\" fill-rule=\"evenodd\" fill-opacity=\"1\" /><path clip-path=\"url(#clip000)\" d=\"M755.607 1544.91 L771.926 1544.91 L771.926 1548.85 L749.982 1548.85 L749.982 1544.91 Q752.644 1542.16 757.227 1537.53 Q761.834 1532.88 763.015 1531.53 Q765.26 1529.01 766.139 1527.27 Q767.042 1525.51 767.042 1523.82 Q767.042 1521.07 765.098 1519.33 Q763.177 1517.6 760.075 1517.6 Q757.876 1517.6 755.422 1518.36 Q752.991 1519.13 750.214 1520.68 L750.214 1515.95 Q753.038 1514.82 755.491 1514.24 Q757.945 1513.66 759.982 1513.66 Q765.352 1513.66 768.547 1516.35 Q771.741 1519.03 771.741 1523.52 Q771.741 1525.65 770.931 1527.57 Q770.144 1529.47 768.038 1532.07 Q767.459 1532.74 764.357 1535.95 Q761.255 1539.15 755.607 1544.91 Z\" fill=\"#000000\" fill-rule=\"evenodd\" fill-opacity=\"1\" /><path clip-path=\"url(#clip000)\" d=\"M781.788 1514.29 L800.144 1514.29 L800.144 1518.22 L786.07 1518.22 L786.07 1526.7 Q787.088 1526.35 788.107 1526.19 Q789.125 1526 790.144 1526 Q795.931 1526 799.311 1529.17 Q802.69 1532.34 802.69 1537.76 Q802.69 1543.34 799.218 1546.44 Q795.746 1549.52 789.426 1549.52 Q787.25 1549.52 784.982 1549.15 Q782.737 1548.78 780.329 1548.04 L780.329 1543.34 Q782.413 1544.47 784.635 1545.03 Q786.857 1545.58 789.334 1545.58 Q793.338 1545.58 795.676 1543.48 Q798.014 1541.37 798.014 1537.76 Q798.014 1534.15 795.676 1532.04 Q793.338 1529.94 789.334 1529.94 Q787.459 1529.94 785.584 1530.35 Q783.732 1530.77 781.788 1531.65 L781.788 1514.29 Z\" fill=\"#000000\" fill-rule=\"evenodd\" fill-opacity=\"1\" /><path clip-path=\"url(#clip000)\" d=\"M1236.51 1514.29 L1254.86 1514.29 L1254.86 1518.22 L1240.79 1518.22 L1240.79 1526.7 Q1241.81 1526.35 1242.83 1526.19 Q1243.84 1526 1244.86 1526 Q1250.65 1526 1254.03 1529.17 Q1257.41 1532.34 1257.41 1537.76 Q1257.41 1543.34 1253.94 1546.44 Q1250.46 1549.52 1244.14 1549.52 Q1241.97 1549.52 1239.7 1549.15 Q1237.45 1548.78 1235.05 1548.04 L1235.05 1543.34 Q1237.13 1544.47 1239.35 1545.03 Q1241.58 1545.58 1244.05 1545.58 Q1248.06 1545.58 1250.39 1543.48 Q1252.73 1541.37 1252.73 1537.76 Q1252.73 1534.15 1250.39 1532.04 Q1248.06 1529.94 1244.05 1529.94 Q1242.18 1529.94 1240.3 1530.35 Q1238.45 1530.77 1236.51 1531.65 L1236.51 1514.29 Z\" fill=\"#000000\" fill-rule=\"evenodd\" fill-opacity=\"1\" /><path clip-path=\"url(#clip000)\" d=\"M1276.62 1517.37 Q1273.01 1517.37 1271.18 1520.93 Q1269.38 1524.47 1269.38 1531.6 Q1269.38 1538.71 1271.18 1542.27 Q1273.01 1545.82 1276.62 1545.82 Q1280.26 1545.82 1282.06 1542.27 Q1283.89 1538.71 1283.89 1531.6 Q1283.89 1524.47 1282.06 1520.93 Q1280.26 1517.37 1276.62 1517.37 M1276.62 1513.66 Q1282.43 1513.66 1285.49 1518.27 Q1288.57 1522.85 1288.57 1531.6 Q1288.57 1540.33 1285.49 1544.94 Q1282.43 1549.52 1276.62 1549.52 Q1270.81 1549.52 1267.73 1544.94 Q1264.68 1540.33 1264.68 1531.6 Q1264.68 1522.85 1267.73 1518.27 Q1270.81 1513.66 1276.62 1513.66 Z\" fill=\"#000000\" fill-rule=\"evenodd\" fill-opacity=\"1\" /><path clip-path=\"url(#clip000)\" d=\"M1721.13 1514.29 L1743.35 1514.29 L1743.35 1516.28 L1730.81 1548.85 L1725.92 1548.85 L1737.73 1518.22 L1721.13 1518.22 L1721.13 1514.29 Z\" fill=\"#000000\" fill-rule=\"evenodd\" fill-opacity=\"1\" /><path clip-path=\"url(#clip000)\" d=\"M1752.52 1514.29 L1770.88 1514.29 L1770.88 1518.22 L1756.8 1518.22 L1756.8 1526.7 Q1757.82 1526.35 1758.84 1526.19 Q1759.86 1526 1760.88 1526 Q1766.66 1526 1770.04 1529.17 Q1773.42 1532.34 1773.42 1537.76 Q1773.42 1543.34 1769.95 1546.44 Q1766.48 1549.52 1760.16 1549.52 Q1757.98 1549.52 1755.71 1549.15 Q1753.47 1548.78 1751.06 1548.04 L1751.06 1543.34 Q1753.15 1544.47 1755.37 1545.03 Q1757.59 1545.58 1760.07 1545.58 Q1764.07 1545.58 1766.41 1543.48 Q1768.75 1541.37 1768.75 1537.76 Q1768.75 1534.15 1766.41 1532.04 Q1764.07 1529.94 1760.07 1529.94 Q1758.19 1529.94 1756.32 1530.35 Q1754.46 1530.77 1752.52 1531.65 L1752.52 1514.29 Z\" fill=\"#000000\" fill-rule=\"evenodd\" fill-opacity=\"1\" /><path clip-path=\"url(#clip000)\" d=\"M2192.35 1544.91 L2199.99 1544.91 L2199.99 1518.55 L2191.68 1520.21 L2191.68 1515.95 L2199.95 1514.29 L2204.62 1514.29 L2204.62 1544.91 L2212.26 1544.91 L2212.26 1548.85 L2192.35 1548.85 L2192.35 1544.91 Z\" fill=\"#000000\" fill-rule=\"evenodd\" fill-opacity=\"1\" /><path clip-path=\"url(#clip000)\" d=\"M2231.71 1517.37 Q2228.09 1517.37 2226.27 1520.93 Q2224.46 1524.47 2224.46 1531.6 Q2224.46 1538.71 2226.27 1542.27 Q2228.09 1545.82 2231.71 1545.82 Q2235.34 1545.82 2237.15 1542.27 Q2238.97 1538.71 2238.97 1531.6 Q2238.97 1524.47 2237.15 1520.93 Q2235.34 1517.37 2231.71 1517.37 M2231.71 1513.66 Q2237.52 1513.66 2240.57 1518.27 Q2243.65 1522.85 2243.65 1531.6 Q2243.65 1540.33 2240.57 1544.94 Q2237.52 1549.52 2231.71 1549.52 Q2225.9 1549.52 2222.82 1544.94 Q2219.76 1540.33 2219.76 1531.6 Q2219.76 1522.85 2222.82 1518.27 Q2225.9 1513.66 2231.71 1513.66 Z\" fill=\"#000000\" fill-rule=\"evenodd\" fill-opacity=\"1\" /><path clip-path=\"url(#clip000)\" d=\"M2261.87 1517.37 Q2258.26 1517.37 2256.43 1520.93 Q2254.62 1524.47 2254.62 1531.6 Q2254.62 1538.71 2256.43 1542.27 Q2258.26 1545.82 2261.87 1545.82 Q2265.5 1545.82 2267.31 1542.27 Q2269.14 1538.71 2269.14 1531.6 Q2269.14 1524.47 2267.31 1520.93 Q2265.5 1517.37 2261.87 1517.37 M2261.87 1513.66 Q2267.68 1513.66 2270.73 1518.27 Q2273.81 1522.85 2273.81 1531.6 Q2273.81 1540.33 2270.73 1544.94 Q2267.68 1549.52 2261.87 1549.52 Q2256.06 1549.52 2252.98 1544.94 Q2249.92 1540.33 2249.92 1531.6 Q2249.92 1522.85 2252.98 1518.27 Q2256.06 1513.66 2261.87 1513.66 Z\" fill=\"#000000\" fill-rule=\"evenodd\" fill-opacity=\"1\" /><polyline clip-path=\"url(#clip002)\" style=\"stroke:#000000; stroke-linecap:butt; stroke-linejoin:round; stroke-width:2; stroke-opacity:0.1; fill:none\" points=\"\n  170.857,1445.72 2352.76,1445.72 \n  \"/>\n<polyline clip-path=\"url(#clip002)\" style=\"stroke:#000000; stroke-linecap:butt; stroke-linejoin:round; stroke-width:2; stroke-opacity:0.1; fill:none\" points=\"\n  170.857,993.136 2352.76,993.136 \n  \"/>\n<polyline clip-path=\"url(#clip002)\" style=\"stroke:#000000; stroke-linecap:butt; stroke-linejoin:round; stroke-width:2; stroke-opacity:0.1; fill:none\" points=\"\n  170.857,540.556 2352.76,540.556 \n  \"/>\n<polyline clip-path=\"url(#clip002)\" style=\"stroke:#000000; stroke-linecap:butt; stroke-linejoin:round; stroke-width:2; stroke-opacity:0.1; fill:none\" points=\"\n  170.857,87.9763 2352.76,87.9763 \n  \"/>\n<polyline clip-path=\"url(#clip000)\" style=\"stroke:#000000; stroke-linecap:butt; stroke-linejoin:round; stroke-width:4; stroke-opacity:1; fill:none\" points=\"\n  170.857,1486.45 170.857,47.2441 \n  \"/>\n<polyline clip-path=\"url(#clip000)\" style=\"stroke:#000000; stroke-linecap:butt; stroke-linejoin:round; stroke-width:4; stroke-opacity:1; fill:none\" points=\"\n  170.857,1445.72 189.755,1445.72 \n  \"/>\n<polyline clip-path=\"url(#clip000)\" style=\"stroke:#000000; stroke-linecap:butt; stroke-linejoin:round; stroke-width:4; stroke-opacity:1; fill:none\" points=\"\n  170.857,993.136 189.755,993.136 \n  \"/>\n<polyline clip-path=\"url(#clip000)\" style=\"stroke:#000000; stroke-linecap:butt; stroke-linejoin:round; stroke-width:4; stroke-opacity:1; fill:none\" points=\"\n  170.857,540.556 189.755,540.556 \n  \"/>\n<polyline clip-path=\"url(#clip000)\" style=\"stroke:#000000; stroke-linecap:butt; stroke-linejoin:round; stroke-width:4; stroke-opacity:1; fill:none\" points=\"\n  170.857,87.9763 189.755,87.9763 \n  \"/>\n<path clip-path=\"url(#clip000)\" d=\"M122.913 1431.51 Q119.302 1431.51 117.473 1435.08 Q115.668 1438.62 115.668 1445.75 Q115.668 1452.86 117.473 1456.42 Q119.302 1459.96 122.913 1459.96 Q126.547 1459.96 128.353 1456.42 Q130.182 1452.86 130.182 1445.75 Q130.182 1438.62 128.353 1435.08 Q126.547 1431.51 122.913 1431.51 M122.913 1427.81 Q128.723 1427.81 131.779 1432.42 Q134.857 1437 134.857 1445.75 Q134.857 1454.48 131.779 1459.08 Q128.723 1463.67 122.913 1463.67 Q117.103 1463.67 114.024 1459.08 Q110.969 1454.48 110.969 1445.75 Q110.969 1437 114.024 1432.42 Q117.103 1427.81 122.913 1427.81 Z\" fill=\"#000000\" fill-rule=\"evenodd\" fill-opacity=\"1\" /><path clip-path=\"url(#clip000)\" d=\"M53.3995 1006.48 L61.0384 1006.48 L61.0384 980.115 L52.7282 981.782 L52.7282 977.523 L60.9921 975.856 L65.668 975.856 L65.668 1006.48 L73.3068 1006.48 L73.3068 1010.42 L53.3995 1010.42 L53.3995 1006.48 Z\" fill=\"#000000\" fill-rule=\"evenodd\" fill-opacity=\"1\" /><path clip-path=\"url(#clip000)\" d=\"M92.7512 978.935 Q89.1401 978.935 87.3114 982.499 Q85.5058 986.041 85.5058 993.171 Q85.5058 1000.28 87.3114 1003.84 Q89.1401 1007.38 92.7512 1007.38 Q96.3854 1007.38 98.1909 1003.84 Q100.02 1000.28 100.02 993.171 Q100.02 986.041 98.1909 982.499 Q96.3854 978.935 92.7512 978.935 M92.7512 975.231 Q98.5613 975.231 101.617 979.837 Q104.696 984.421 104.696 993.171 Q104.696 1001.9 101.617 1006.5 Q98.5613 1011.09 92.7512 1011.09 Q86.941 1011.09 83.8623 1006.5 Q80.8068 1001.9 80.8068 993.171 Q80.8068 984.421 83.8623 979.837 Q86.941 975.231 92.7512 975.231 Z\" fill=\"#000000\" fill-rule=\"evenodd\" fill-opacity=\"1\" /><path clip-path=\"url(#clip000)\" d=\"M122.913 978.935 Q119.302 978.935 117.473 982.499 Q115.668 986.041 115.668 993.171 Q115.668 1000.28 117.473 1003.84 Q119.302 1007.38 122.913 1007.38 Q126.547 1007.38 128.353 1003.84 Q130.182 1000.28 130.182 993.171 Q130.182 986.041 128.353 982.499 Q126.547 978.935 122.913 978.935 M122.913 975.231 Q128.723 975.231 131.779 979.837 Q134.857 984.421 134.857 993.171 Q134.857 1001.9 131.779 1006.5 Q128.723 1011.09 122.913 1011.09 Q117.103 1011.09 114.024 1006.5 Q110.969 1001.9 110.969 993.171 Q110.969 984.421 114.024 979.837 Q117.103 975.231 122.913 975.231 Z\" fill=\"#000000\" fill-rule=\"evenodd\" fill-opacity=\"1\" /><path clip-path=\"url(#clip000)\" d=\"M56.6171 553.901 L72.9365 553.901 L72.9365 557.836 L50.9921 557.836 L50.9921 553.901 Q53.6541 551.146 58.2375 546.517 Q62.8439 541.864 64.0245 540.521 Q66.2698 537.998 67.1494 536.262 Q68.0522 534.503 68.0522 532.813 Q68.0522 530.058 66.1078 528.322 Q64.1865 526.586 61.0847 526.586 Q58.8856 526.586 56.4319 527.35 Q54.0014 528.114 51.2236 529.665 L51.2236 524.943 Q54.0477 523.808 56.5014 523.23 Q58.955 522.651 60.9921 522.651 Q66.3624 522.651 69.5568 525.336 Q72.7513 528.021 72.7513 532.512 Q72.7513 534.642 71.9411 536.563 Q71.1541 538.461 69.0476 541.054 Q68.4689 541.725 65.367 544.943 Q62.2652 548.137 56.6171 553.901 Z\" fill=\"#000000\" fill-rule=\"evenodd\" fill-opacity=\"1\" /><path clip-path=\"url(#clip000)\" d=\"M92.7512 526.355 Q89.1401 526.355 87.3114 529.92 Q85.5058 533.461 85.5058 540.591 Q85.5058 547.697 87.3114 551.262 Q89.1401 554.804 92.7512 554.804 Q96.3854 554.804 98.1909 551.262 Q100.02 547.697 100.02 540.591 Q100.02 533.461 98.1909 529.92 Q96.3854 526.355 92.7512 526.355 M92.7512 522.651 Q98.5613 522.651 101.617 527.258 Q104.696 531.841 104.696 540.591 Q104.696 549.318 101.617 553.924 Q98.5613 558.507 92.7512 558.507 Q86.941 558.507 83.8623 553.924 Q80.8068 549.318 80.8068 540.591 Q80.8068 531.841 83.8623 527.258 Q86.941 522.651 92.7512 522.651 Z\" fill=\"#000000\" fill-rule=\"evenodd\" fill-opacity=\"1\" /><path clip-path=\"url(#clip000)\" d=\"M122.913 526.355 Q119.302 526.355 117.473 529.92 Q115.668 533.461 115.668 540.591 Q115.668 547.697 117.473 551.262 Q119.302 554.804 122.913 554.804 Q126.547 554.804 128.353 551.262 Q130.182 547.697 130.182 540.591 Q130.182 533.461 128.353 529.92 Q126.547 526.355 122.913 526.355 M122.913 522.651 Q128.723 522.651 131.779 527.258 Q134.857 531.841 134.857 540.591 Q134.857 549.318 131.779 553.924 Q128.723 558.507 122.913 558.507 Q117.103 558.507 114.024 553.924 Q110.969 549.318 110.969 540.591 Q110.969 531.841 114.024 527.258 Q117.103 522.651 122.913 522.651 Z\" fill=\"#000000\" fill-rule=\"evenodd\" fill-opacity=\"1\" /><path clip-path=\"url(#clip000)\" d=\"M66.7559 86.6221 Q70.1124 87.3397 71.9874 89.6082 Q73.8855 91.8767 73.8855 95.21 Q73.8855 100.326 70.367 103.127 Q66.8485 105.928 60.3671 105.928 Q58.1912 105.928 55.8764 105.488 Q53.5847 105.071 51.131 104.215 L51.131 99.7008 Q53.0754 100.835 55.3903 101.414 Q57.7051 101.992 60.2282 101.992 Q64.6263 101.992 66.918 100.256 Q69.2328 98.5202 69.2328 95.21 Q69.2328 92.1545 67.08 90.4415 Q64.9504 88.7054 61.131 88.7054 L57.1032 88.7054 L57.1032 84.8629 L61.3161 84.8629 Q64.7652 84.8629 66.5939 83.4971 Q68.4226 82.1083 68.4226 79.5157 Q68.4226 76.8537 66.5245 75.4416 Q64.6495 74.0064 61.131 74.0064 Q59.2097 74.0064 57.0106 74.4231 Q54.8115 74.8398 52.1727 75.7194 L52.1727 71.5528 Q54.8347 70.812 57.1495 70.4416 Q59.4875 70.0713 61.5476 70.0713 Q66.8717 70.0713 69.9735 72.5018 Q73.0753 74.9092 73.0753 79.0296 Q73.0753 81.8999 71.4318 83.8907 Q69.7883 85.8582 66.7559 86.6221 Z\" fill=\"#000000\" fill-rule=\"evenodd\" fill-opacity=\"1\" /><path clip-path=\"url(#clip000)\" d=\"M92.7512 73.775 Q89.1401 73.775 87.3114 77.3398 Q85.5058 80.8814 85.5058 88.011 Q85.5058 95.1174 87.3114 98.6822 Q89.1401 102.224 92.7512 102.224 Q96.3854 102.224 98.1909 98.6822 Q100.02 95.1174 100.02 88.011 Q100.02 80.8814 98.1909 77.3398 Q96.3854 73.775 92.7512 73.775 M92.7512 70.0713 Q98.5613 70.0713 101.617 74.6777 Q104.696 79.261 104.696 88.011 Q104.696 96.7378 101.617 101.344 Q98.5613 105.928 92.7512 105.928 Q86.941 105.928 83.8623 101.344 Q80.8068 96.7378 80.8068 88.011 Q80.8068 79.261 83.8623 74.6777 Q86.941 70.0713 92.7512 70.0713 Z\" fill=\"#000000\" fill-rule=\"evenodd\" fill-opacity=\"1\" /><path clip-path=\"url(#clip000)\" d=\"M122.913 73.775 Q119.302 73.775 117.473 77.3398 Q115.668 80.8814 115.668 88.011 Q115.668 95.1174 117.473 98.6822 Q119.302 102.224 122.913 102.224 Q126.547 102.224 128.353 98.6822 Q130.182 95.1174 130.182 88.011 Q130.182 80.8814 128.353 77.3398 Q126.547 73.775 122.913 73.775 M122.913 70.0713 Q128.723 70.0713 131.779 74.6777 Q134.857 79.261 134.857 88.011 Q134.857 96.7378 131.779 101.344 Q128.723 105.928 122.913 105.928 Q117.103 105.928 114.024 101.344 Q110.969 96.7378 110.969 88.011 Q110.969 79.261 114.024 74.6777 Q117.103 70.0713 122.913 70.0713 Z\" fill=\"#000000\" fill-rule=\"evenodd\" fill-opacity=\"1\" /><path clip-path=\"url(#clip002)\" d=\"\nM290.866 87.9763 L290.866 1445.72 L387.96 1445.72 L387.96 87.9763 L290.866 87.9763 L290.866 87.9763  Z\n  \" fill=\"#009af9\" fill-rule=\"evenodd\" fill-opacity=\"1\"/>\n<polyline clip-path=\"url(#clip002)\" style=\"stroke:#000000; stroke-linecap:butt; stroke-linejoin:round; stroke-width:4; stroke-opacity:1; fill:none\" points=\"\n  290.866,87.9763 290.866,1445.72 387.96,1445.72 387.96,87.9763 290.866,87.9763 \n  \"/>\n<path clip-path=\"url(#clip002)\" d=\"\nM387.96 640.124 L387.96 1445.72 L485.054 1445.72 L485.054 640.124 L387.96 640.124 L387.96 640.124  Z\n  \" fill=\"#009af9\" fill-rule=\"evenodd\" fill-opacity=\"1\"/>\n<polyline clip-path=\"url(#clip002)\" style=\"stroke:#000000; stroke-linecap:butt; stroke-linejoin:round; stroke-width:4; stroke-opacity:1; fill:none\" points=\"\n  387.96,640.124 387.96,1445.72 485.054,1445.72 485.054,640.124 387.96,640.124 \n  \"/>\n<path clip-path=\"url(#clip002)\" d=\"\nM485.054 889.043 L485.054 1445.72 L582.148 1445.72 L582.148 889.043 L485.054 889.043 L485.054 889.043  Z\n  \" fill=\"#009af9\" fill-rule=\"evenodd\" fill-opacity=\"1\"/>\n<polyline clip-path=\"url(#clip002)\" style=\"stroke:#000000; stroke-linecap:butt; stroke-linejoin:round; stroke-width:4; stroke-opacity:1; fill:none\" points=\"\n  485.054,889.043 485.054,1445.72 582.148,1445.72 582.148,889.043 485.054,889.043 \n  \"/>\n<path clip-path=\"url(#clip002)\" d=\"\nM582.148 925.249 L582.148 1445.72 L679.242 1445.72 L679.242 925.249 L582.148 925.249 L582.148 925.249  Z\n  \" fill=\"#009af9\" fill-rule=\"evenodd\" fill-opacity=\"1\"/>\n<polyline clip-path=\"url(#clip002)\" style=\"stroke:#000000; stroke-linecap:butt; stroke-linejoin:round; stroke-width:4; stroke-opacity:1; fill:none\" points=\"\n  582.148,925.249 582.148,1445.72 679.242,1445.72 679.242,925.249 582.148,925.249 \n  \"/>\n<path clip-path=\"url(#clip002)\" d=\"\nM679.242 1002.19 L679.242 1445.72 L776.336 1445.72 L776.336 1002.19 L679.242 1002.19 L679.242 1002.19  Z\n  \" fill=\"#009af9\" fill-rule=\"evenodd\" fill-opacity=\"1\"/>\n<polyline clip-path=\"url(#clip002)\" style=\"stroke:#000000; stroke-linecap:butt; stroke-linejoin:round; stroke-width:4; stroke-opacity:1; fill:none\" points=\"\n  679.242,1002.19 679.242,1445.72 776.336,1445.72 776.336,1002.19 679.242,1002.19 \n  \"/>\n<path clip-path=\"url(#clip002)\" d=\"\nM776.336 1115.33 L776.336 1445.72 L873.43 1445.72 L873.43 1115.33 L776.336 1115.33 L776.336 1115.33  Z\n  \" fill=\"#009af9\" fill-rule=\"evenodd\" fill-opacity=\"1\"/>\n<polyline clip-path=\"url(#clip002)\" style=\"stroke:#000000; stroke-linecap:butt; stroke-linejoin:round; stroke-width:4; stroke-opacity:1; fill:none\" points=\"\n  776.336,1115.33 776.336,1445.72 873.43,1445.72 873.43,1115.33 776.336,1115.33 \n  \"/>\n<path clip-path=\"url(#clip002)\" d=\"\nM873.43 1110.81 L873.43 1445.72 L970.524 1445.72 L970.524 1110.81 L873.43 1110.81 L873.43 1110.81  Z\n  \" fill=\"#009af9\" fill-rule=\"evenodd\" fill-opacity=\"1\"/>\n<polyline clip-path=\"url(#clip002)\" style=\"stroke:#000000; stroke-linecap:butt; stroke-linejoin:round; stroke-width:4; stroke-opacity:1; fill:none\" points=\"\n  873.43,1110.81 873.43,1445.72 970.524,1445.72 970.524,1110.81 873.43,1110.81 \n  \"/>\n<path clip-path=\"url(#clip002)\" d=\"\nM970.524 1260.16 L970.524 1445.72 L1067.62 1445.72 L1067.62 1260.16 L970.524 1260.16 L970.524 1260.16  Z\n  \" fill=\"#009af9\" fill-rule=\"evenodd\" fill-opacity=\"1\"/>\n<polyline clip-path=\"url(#clip002)\" style=\"stroke:#000000; stroke-linecap:butt; stroke-linejoin:round; stroke-width:4; stroke-opacity:1; fill:none\" points=\"\n  970.524,1260.16 970.524,1445.72 1067.62,1445.72 1067.62,1260.16 970.524,1260.16 \n  \"/>\n<path clip-path=\"url(#clip002)\" d=\"\nM1067.62 1223.95 L1067.62 1445.72 L1164.71 1445.72 L1164.71 1223.95 L1067.62 1223.95 L1067.62 1223.95  Z\n  \" fill=\"#009af9\" fill-rule=\"evenodd\" fill-opacity=\"1\"/>\n<polyline clip-path=\"url(#clip002)\" style=\"stroke:#000000; stroke-linecap:butt; stroke-linejoin:round; stroke-width:4; stroke-opacity:1; fill:none\" points=\"\n  1067.62,1223.95 1067.62,1445.72 1164.71,1445.72 1164.71,1223.95 1067.62,1223.95 \n  \"/>\n<path clip-path=\"url(#clip002)\" d=\"\nM1164.71 1305.42 L1164.71 1445.72 L1261.81 1445.72 L1261.81 1305.42 L1164.71 1305.42 L1164.71 1305.42  Z\n  \" fill=\"#009af9\" fill-rule=\"evenodd\" fill-opacity=\"1\"/>\n<polyline clip-path=\"url(#clip002)\" style=\"stroke:#000000; stroke-linecap:butt; stroke-linejoin:round; stroke-width:4; stroke-opacity:1; fill:none\" points=\"\n  1164.71,1305.42 1164.71,1445.72 1261.81,1445.72 1261.81,1305.42 1164.71,1305.42 \n  \"/>\n<path clip-path=\"url(#clip002)\" d=\"\nM1261.81 1337.1 L1261.81 1445.72 L1358.9 1445.72 L1358.9 1337.1 L1261.81 1337.1 L1261.81 1337.1  Z\n  \" fill=\"#009af9\" fill-rule=\"evenodd\" fill-opacity=\"1\"/>\n<polyline clip-path=\"url(#clip002)\" style=\"stroke:#000000; stroke-linecap:butt; stroke-linejoin:round; stroke-width:4; stroke-opacity:1; fill:none\" points=\"\n  1261.81,1337.1 1261.81,1445.72 1358.9,1445.72 1358.9,1337.1 1261.81,1337.1 \n  \"/>\n<path clip-path=\"url(#clip002)\" d=\"\nM1358.9 1404.98 L1358.9 1445.72 L1455.99 1445.72 L1455.99 1404.98 L1358.9 1404.98 L1358.9 1404.98  Z\n  \" fill=\"#009af9\" fill-rule=\"evenodd\" fill-opacity=\"1\"/>\n<polyline clip-path=\"url(#clip002)\" style=\"stroke:#000000; stroke-linecap:butt; stroke-linejoin:round; stroke-width:4; stroke-opacity:1; fill:none\" points=\"\n  1358.9,1404.98 1358.9,1445.72 1455.99,1445.72 1455.99,1404.98 1358.9,1404.98 \n  \"/>\n<path clip-path=\"url(#clip002)\" d=\"\nM1455.99 1355.2 L1455.99 1445.72 L1553.09 1445.72 L1553.09 1355.2 L1455.99 1355.2 L1455.99 1355.2  Z\n  \" fill=\"#009af9\" fill-rule=\"evenodd\" fill-opacity=\"1\"/>\n<polyline clip-path=\"url(#clip002)\" style=\"stroke:#000000; stroke-linecap:butt; stroke-linejoin:round; stroke-width:4; stroke-opacity:1; fill:none\" points=\"\n  1455.99,1355.2 1455.99,1445.72 1553.09,1445.72 1553.09,1355.2 1455.99,1355.2 \n  \"/>\n<path clip-path=\"url(#clip002)\" d=\"\nM1553.09 1400.46 L1553.09 1445.72 L1650.18 1445.72 L1650.18 1400.46 L1553.09 1400.46 L1553.09 1400.46  Z\n  \" fill=\"#009af9\" fill-rule=\"evenodd\" fill-opacity=\"1\"/>\n<polyline clip-path=\"url(#clip002)\" style=\"stroke:#000000; stroke-linecap:butt; stroke-linejoin:round; stroke-width:4; stroke-opacity:1; fill:none\" points=\"\n  1553.09,1400.46 1553.09,1445.72 1650.18,1445.72 1650.18,1400.46 1553.09,1400.46 \n  \"/>\n<path clip-path=\"url(#clip002)\" d=\"\nM1650.18 1418.56 L1650.18 1445.72 L1747.28 1445.72 L1747.28 1418.56 L1650.18 1418.56 L1650.18 1418.56  Z\n  \" fill=\"#009af9\" fill-rule=\"evenodd\" fill-opacity=\"1\"/>\n<polyline clip-path=\"url(#clip002)\" style=\"stroke:#000000; stroke-linecap:butt; stroke-linejoin:round; stroke-width:4; stroke-opacity:1; fill:none\" points=\"\n  1650.18,1418.56 1650.18,1445.72 1747.28,1445.72 1747.28,1418.56 1650.18,1418.56 \n  \"/>\n<path clip-path=\"url(#clip002)\" d=\"\nM1747.28 1432.14 L1747.28 1445.72 L1844.37 1445.72 L1844.37 1432.14 L1747.28 1432.14 L1747.28 1432.14  Z\n  \" fill=\"#009af9\" fill-rule=\"evenodd\" fill-opacity=\"1\"/>\n<polyline clip-path=\"url(#clip002)\" style=\"stroke:#000000; stroke-linecap:butt; stroke-linejoin:round; stroke-width:4; stroke-opacity:1; fill:none\" points=\"\n  1747.28,1432.14 1747.28,1445.72 1844.37,1445.72 1844.37,1432.14 1747.28,1432.14 \n  \"/>\n<path clip-path=\"url(#clip002)\" d=\"\nM1844.37 1427.61 L1844.37 1445.72 L1941.47 1445.72 L1941.47 1427.61 L1844.37 1427.61 L1844.37 1427.61  Z\n  \" fill=\"#009af9\" fill-rule=\"evenodd\" fill-opacity=\"1\"/>\n<polyline clip-path=\"url(#clip002)\" style=\"stroke:#000000; stroke-linecap:butt; stroke-linejoin:round; stroke-width:4; stroke-opacity:1; fill:none\" points=\"\n  1844.37,1427.61 1844.37,1445.72 1941.47,1445.72 1941.47,1427.61 1844.37,1427.61 \n  \"/>\n<path clip-path=\"url(#clip002)\" d=\"\nM1941.47 1427.61 L1941.47 1445.72 L2038.56 1445.72 L2038.56 1427.61 L1941.47 1427.61 L1941.47 1427.61  Z\n  \" fill=\"#009af9\" fill-rule=\"evenodd\" fill-opacity=\"1\"/>\n<polyline clip-path=\"url(#clip002)\" style=\"stroke:#000000; stroke-linecap:butt; stroke-linejoin:round; stroke-width:4; stroke-opacity:1; fill:none\" points=\"\n  1941.47,1427.61 1941.47,1445.72 2038.56,1445.72 2038.56,1427.61 1941.47,1427.61 \n  \"/>\n<path clip-path=\"url(#clip002)\" d=\"\nM2038.56 1436.66 L2038.56 1445.72 L2135.65 1445.72 L2135.65 1436.66 L2038.56 1436.66 L2038.56 1436.66  Z\n  \" fill=\"#009af9\" fill-rule=\"evenodd\" fill-opacity=\"1\"/>\n<polyline clip-path=\"url(#clip002)\" style=\"stroke:#000000; stroke-linecap:butt; stroke-linejoin:round; stroke-width:4; stroke-opacity:1; fill:none\" points=\"\n  2038.56,1436.66 2038.56,1445.72 2135.65,1445.72 2135.65,1436.66 2038.56,1436.66 \n  \"/>\n<path clip-path=\"url(#clip002)\" d=\"\nM2135.65 1432.14 L2135.65 1445.72 L2232.75 1445.72 L2232.75 1432.14 L2135.65 1432.14 L2135.65 1432.14  Z\n  \" fill=\"#009af9\" fill-rule=\"evenodd\" fill-opacity=\"1\"/>\n<polyline clip-path=\"url(#clip002)\" style=\"stroke:#000000; stroke-linecap:butt; stroke-linejoin:round; stroke-width:4; stroke-opacity:1; fill:none\" points=\"\n  2135.65,1432.14 2135.65,1445.72 2232.75,1445.72 2232.75,1432.14 2135.65,1432.14 \n  \"/>\n<circle clip-path=\"url(#clip002)\" style=\"fill:#009af9; stroke:none; fill-opacity:0\" cx=\"339.413\" cy=\"87.9763\" r=\"2\"/>\n<circle clip-path=\"url(#clip002)\" style=\"fill:#009af9; stroke:none; fill-opacity:0\" cx=\"436.507\" cy=\"640.124\" r=\"2\"/>\n<circle clip-path=\"url(#clip002)\" style=\"fill:#009af9; stroke:none; fill-opacity:0\" cx=\"533.601\" cy=\"889.043\" r=\"2\"/>\n<circle clip-path=\"url(#clip002)\" style=\"fill:#009af9; stroke:none; fill-opacity:0\" cx=\"630.695\" cy=\"925.249\" r=\"2\"/>\n<circle clip-path=\"url(#clip002)\" style=\"fill:#009af9; stroke:none; fill-opacity:0\" cx=\"727.789\" cy=\"1002.19\" r=\"2\"/>\n<circle clip-path=\"url(#clip002)\" style=\"fill:#009af9; stroke:none; fill-opacity:0\" cx=\"824.883\" cy=\"1115.33\" r=\"2\"/>\n<circle clip-path=\"url(#clip002)\" style=\"fill:#009af9; stroke:none; fill-opacity:0\" cx=\"921.977\" cy=\"1110.81\" r=\"2\"/>\n<circle clip-path=\"url(#clip002)\" style=\"fill:#009af9; stroke:none; fill-opacity:0\" cx=\"1019.07\" cy=\"1260.16\" r=\"2\"/>\n<circle clip-path=\"url(#clip002)\" style=\"fill:#009af9; stroke:none; fill-opacity:0\" cx=\"1116.17\" cy=\"1223.95\" r=\"2\"/>\n<circle clip-path=\"url(#clip002)\" style=\"fill:#009af9; stroke:none; fill-opacity:0\" cx=\"1213.26\" cy=\"1305.42\" r=\"2\"/>\n<circle clip-path=\"url(#clip002)\" style=\"fill:#009af9; stroke:none; fill-opacity:0\" cx=\"1310.35\" cy=\"1337.1\" r=\"2\"/>\n<circle clip-path=\"url(#clip002)\" style=\"fill:#009af9; stroke:none; fill-opacity:0\" cx=\"1407.45\" cy=\"1404.98\" r=\"2\"/>\n<circle clip-path=\"url(#clip002)\" style=\"fill:#009af9; stroke:none; fill-opacity:0\" cx=\"1504.54\" cy=\"1355.2\" r=\"2\"/>\n<circle clip-path=\"url(#clip002)\" style=\"fill:#009af9; stroke:none; fill-opacity:0\" cx=\"1601.64\" cy=\"1400.46\" r=\"2\"/>\n<circle clip-path=\"url(#clip002)\" style=\"fill:#009af9; stroke:none; fill-opacity:0\" cx=\"1698.73\" cy=\"1418.56\" r=\"2\"/>\n<circle clip-path=\"url(#clip002)\" style=\"fill:#009af9; stroke:none; fill-opacity:0\" cx=\"1795.82\" cy=\"1432.14\" r=\"2\"/>\n<circle clip-path=\"url(#clip002)\" style=\"fill:#009af9; stroke:none; fill-opacity:0\" cx=\"1892.92\" cy=\"1427.61\" r=\"2\"/>\n<circle clip-path=\"url(#clip002)\" style=\"fill:#009af9; stroke:none; fill-opacity:0\" cx=\"1990.01\" cy=\"1427.61\" r=\"2\"/>\n<circle clip-path=\"url(#clip002)\" style=\"fill:#009af9; stroke:none; fill-opacity:0\" cx=\"2087.11\" cy=\"1436.66\" r=\"2\"/>\n<circle clip-path=\"url(#clip002)\" style=\"fill:#009af9; stroke:none; fill-opacity:0\" cx=\"2184.2\" cy=\"1432.14\" r=\"2\"/>\n<path clip-path=\"url(#clip000)\" d=\"\nM1985.16 198.898 L2280.03 198.898 L2280.03 95.2176 L1985.16 95.2176  Z\n  \" fill=\"#ffffff\" fill-rule=\"evenodd\" fill-opacity=\"1\"/>\n<polyline clip-path=\"url(#clip000)\" style=\"stroke:#000000; stroke-linecap:butt; stroke-linejoin:round; stroke-width:4; stroke-opacity:1; fill:none\" points=\"\n  1985.16,198.898 2280.03,198.898 2280.03,95.2176 1985.16,95.2176 1985.16,198.898 \n  \"/>\n<path clip-path=\"url(#clip000)\" d=\"\nM2009.41 167.794 L2154.87 167.794 L2154.87 126.322 L2009.41 126.322 L2009.41 167.794  Z\n  \" fill=\"#009af9\" fill-rule=\"evenodd\" fill-opacity=\"1\"/>\n<polyline clip-path=\"url(#clip000)\" style=\"stroke:#000000; stroke-linecap:butt; stroke-linejoin:round; stroke-width:4; stroke-opacity:1; fill:none\" points=\"\n  2009.41,167.794 2154.87,167.794 2154.87,126.322 2009.41,126.322 2009.41,167.794 \n  \"/>\n<path clip-path=\"url(#clip000)\" d=\"M2192.95 166.745 Q2191.15 171.375 2189.43 172.787 Q2187.72 174.199 2184.85 174.199 L2181.45 174.199 L2181.45 170.634 L2183.95 170.634 Q2185.71 170.634 2186.68 169.8 Q2187.65 168.967 2188.83 165.865 L2189.6 163.921 L2179.11 138.412 L2183.62 138.412 L2191.72 158.689 L2199.83 138.412 L2204.34 138.412 L2192.95 166.745 Z\" fill=\"#000000\" fill-rule=\"evenodd\" fill-opacity=\"1\" /><path clip-path=\"url(#clip000)\" d=\"M2211.63 160.402 L2219.27 160.402 L2219.27 134.037 L2210.96 135.703 L2210.96 131.444 L2219.22 129.778 L2223.9 129.778 L2223.9 160.402 L2231.54 160.402 L2231.54 164.338 L2211.63 164.338 L2211.63 160.402 Z\" fill=\"#000000\" fill-rule=\"evenodd\" fill-opacity=\"1\" /></svg>\n",
      "text/html": [
       "<?xml version=\"1.0\" encoding=\"utf-8\"?>\n",
       "<svg xmlns=\"http://www.w3.org/2000/svg\" xmlns:xlink=\"http://www.w3.org/1999/xlink\" width=\"600\" height=\"400\" viewBox=\"0 0 2400 1600\">\n",
       "<defs>\n",
       "  <clipPath id=\"clip050\">\n",
       "    <rect x=\"0\" y=\"0\" width=\"2400\" height=\"1600\"/>\n",
       "  </clipPath>\n",
       "</defs>\n",
       "<path clip-path=\"url(#clip050)\" d=\"\n",
       "M0 1600 L2400 1600 L2400 0 L0 0  Z\n",
       "  \" fill=\"#ffffff\" fill-rule=\"evenodd\" fill-opacity=\"1\"/>\n",
       "<defs>\n",
       "  <clipPath id=\"clip051\">\n",
       "    <rect x=\"480\" y=\"0\" width=\"1681\" height=\"1600\"/>\n",
       "  </clipPath>\n",
       "</defs>\n",
       "<path clip-path=\"url(#clip050)\" d=\"\n",
       "M170.857 1486.45 L2352.76 1486.45 L2352.76 47.2441 L170.857 47.2441  Z\n",
       "  \" fill=\"#ffffff\" fill-rule=\"evenodd\" fill-opacity=\"1\"/>\n",
       "<defs>\n",
       "  <clipPath id=\"clip052\">\n",
       "    <rect x=\"170\" y=\"47\" width=\"2183\" height=\"1440\"/>\n",
       "  </clipPath>\n",
       "</defs>\n",
       "<polyline clip-path=\"url(#clip052)\" style=\"stroke:#000000; stroke-linecap:butt; stroke-linejoin:round; stroke-width:2; stroke-opacity:0.1; fill:none\" points=\"\n",
       "  290.866,1486.45 290.866,47.2441 \n",
       "  \"/>\n",
       "<polyline clip-path=\"url(#clip052)\" style=\"stroke:#000000; stroke-linecap:butt; stroke-linejoin:round; stroke-width:2; stroke-opacity:0.1; fill:none\" points=\"\n",
       "  776.336,1486.45 776.336,47.2441 \n",
       "  \"/>\n",
       "<polyline clip-path=\"url(#clip052)\" style=\"stroke:#000000; stroke-linecap:butt; stroke-linejoin:round; stroke-width:2; stroke-opacity:0.1; fill:none\" points=\"\n",
       "  1261.81,1486.45 1261.81,47.2441 \n",
       "  \"/>\n",
       "<polyline clip-path=\"url(#clip052)\" style=\"stroke:#000000; stroke-linecap:butt; stroke-linejoin:round; stroke-width:2; stroke-opacity:0.1; fill:none\" points=\"\n",
       "  1747.28,1486.45 1747.28,47.2441 \n",
       "  \"/>\n",
       "<polyline clip-path=\"url(#clip052)\" style=\"stroke:#000000; stroke-linecap:butt; stroke-linejoin:round; stroke-width:2; stroke-opacity:0.1; fill:none\" points=\"\n",
       "  2232.75,1486.45 2232.75,47.2441 \n",
       "  \"/>\n",
       "<polyline clip-path=\"url(#clip050)\" style=\"stroke:#000000; stroke-linecap:butt; stroke-linejoin:round; stroke-width:4; stroke-opacity:1; fill:none\" points=\"\n",
       "  170.857,1486.45 2352.76,1486.45 \n",
       "  \"/>\n",
       "<polyline clip-path=\"url(#clip050)\" style=\"stroke:#000000; stroke-linecap:butt; stroke-linejoin:round; stroke-width:4; stroke-opacity:1; fill:none\" points=\"\n",
       "  290.866,1486.45 290.866,1467.55 \n",
       "  \"/>\n",
       "<polyline clip-path=\"url(#clip050)\" style=\"stroke:#000000; stroke-linecap:butt; stroke-linejoin:round; stroke-width:4; stroke-opacity:1; fill:none\" points=\"\n",
       "  776.336,1486.45 776.336,1467.55 \n",
       "  \"/>\n",
       "<polyline clip-path=\"url(#clip050)\" style=\"stroke:#000000; stroke-linecap:butt; stroke-linejoin:round; stroke-width:4; stroke-opacity:1; fill:none\" points=\"\n",
       "  1261.81,1486.45 1261.81,1467.55 \n",
       "  \"/>\n",
       "<polyline clip-path=\"url(#clip050)\" style=\"stroke:#000000; stroke-linecap:butt; stroke-linejoin:round; stroke-width:4; stroke-opacity:1; fill:none\" points=\"\n",
       "  1747.28,1486.45 1747.28,1467.55 \n",
       "  \"/>\n",
       "<polyline clip-path=\"url(#clip050)\" style=\"stroke:#000000; stroke-linecap:butt; stroke-linejoin:round; stroke-width:4; stroke-opacity:1; fill:none\" points=\"\n",
       "  2232.75,1486.45 2232.75,1467.55 \n",
       "  \"/>\n",
       "<path clip-path=\"url(#clip050)\" d=\"M290.866 1517.37 Q287.255 1517.37 285.426 1520.93 Q283.62 1524.47 283.62 1531.6 Q283.62 1538.71 285.426 1542.27 Q287.255 1545.82 290.866 1545.82 Q294.5 1545.82 296.306 1542.27 Q298.134 1538.71 298.134 1531.6 Q298.134 1524.47 296.306 1520.93 Q294.5 1517.37 290.866 1517.37 M290.866 1513.66 Q296.676 1513.66 299.731 1518.27 Q302.81 1522.85 302.81 1531.6 Q302.81 1540.33 299.731 1544.94 Q296.676 1549.52 290.866 1549.52 Q285.056 1549.52 281.977 1544.94 Q278.921 1540.33 278.921 1531.6 Q278.921 1522.85 281.977 1518.27 Q285.056 1513.66 290.866 1513.66 Z\" fill=\"#000000\" fill-rule=\"evenodd\" fill-opacity=\"1\" /><path clip-path=\"url(#clip050)\" d=\"M755.607 1544.91 L771.926 1544.91 L771.926 1548.85 L749.982 1548.85 L749.982 1544.91 Q752.644 1542.16 757.227 1537.53 Q761.834 1532.88 763.015 1531.53 Q765.26 1529.01 766.139 1527.27 Q767.042 1525.51 767.042 1523.82 Q767.042 1521.07 765.098 1519.33 Q763.177 1517.6 760.075 1517.6 Q757.876 1517.6 755.422 1518.36 Q752.991 1519.13 750.214 1520.68 L750.214 1515.95 Q753.038 1514.82 755.491 1514.24 Q757.945 1513.66 759.982 1513.66 Q765.352 1513.66 768.547 1516.35 Q771.741 1519.03 771.741 1523.52 Q771.741 1525.65 770.931 1527.57 Q770.144 1529.47 768.038 1532.07 Q767.459 1532.74 764.357 1535.95 Q761.255 1539.15 755.607 1544.91 Z\" fill=\"#000000\" fill-rule=\"evenodd\" fill-opacity=\"1\" /><path clip-path=\"url(#clip050)\" d=\"M781.788 1514.29 L800.144 1514.29 L800.144 1518.22 L786.07 1518.22 L786.07 1526.7 Q787.088 1526.35 788.107 1526.19 Q789.125 1526 790.144 1526 Q795.931 1526 799.311 1529.17 Q802.69 1532.34 802.69 1537.76 Q802.69 1543.34 799.218 1546.44 Q795.746 1549.52 789.426 1549.52 Q787.25 1549.52 784.982 1549.15 Q782.737 1548.78 780.329 1548.04 L780.329 1543.34 Q782.413 1544.47 784.635 1545.03 Q786.857 1545.58 789.334 1545.58 Q793.338 1545.58 795.676 1543.48 Q798.014 1541.37 798.014 1537.76 Q798.014 1534.15 795.676 1532.04 Q793.338 1529.94 789.334 1529.94 Q787.459 1529.94 785.584 1530.35 Q783.732 1530.77 781.788 1531.65 L781.788 1514.29 Z\" fill=\"#000000\" fill-rule=\"evenodd\" fill-opacity=\"1\" /><path clip-path=\"url(#clip050)\" d=\"M1236.51 1514.29 L1254.86 1514.29 L1254.86 1518.22 L1240.79 1518.22 L1240.79 1526.7 Q1241.81 1526.35 1242.83 1526.19 Q1243.84 1526 1244.86 1526 Q1250.65 1526 1254.03 1529.17 Q1257.41 1532.34 1257.41 1537.76 Q1257.41 1543.34 1253.94 1546.44 Q1250.46 1549.52 1244.14 1549.52 Q1241.97 1549.52 1239.7 1549.15 Q1237.45 1548.78 1235.05 1548.04 L1235.05 1543.34 Q1237.13 1544.47 1239.35 1545.03 Q1241.58 1545.58 1244.05 1545.58 Q1248.06 1545.58 1250.39 1543.48 Q1252.73 1541.37 1252.73 1537.76 Q1252.73 1534.15 1250.39 1532.04 Q1248.06 1529.94 1244.05 1529.94 Q1242.18 1529.94 1240.3 1530.35 Q1238.45 1530.77 1236.51 1531.65 L1236.51 1514.29 Z\" fill=\"#000000\" fill-rule=\"evenodd\" fill-opacity=\"1\" /><path clip-path=\"url(#clip050)\" d=\"M1276.62 1517.37 Q1273.01 1517.37 1271.18 1520.93 Q1269.38 1524.47 1269.38 1531.6 Q1269.38 1538.71 1271.18 1542.27 Q1273.01 1545.82 1276.62 1545.82 Q1280.26 1545.82 1282.06 1542.27 Q1283.89 1538.71 1283.89 1531.6 Q1283.89 1524.47 1282.06 1520.93 Q1280.26 1517.37 1276.62 1517.37 M1276.62 1513.66 Q1282.43 1513.66 1285.49 1518.27 Q1288.57 1522.85 1288.57 1531.6 Q1288.57 1540.33 1285.49 1544.94 Q1282.43 1549.52 1276.62 1549.52 Q1270.81 1549.52 1267.73 1544.94 Q1264.68 1540.33 1264.68 1531.6 Q1264.68 1522.85 1267.73 1518.27 Q1270.81 1513.66 1276.62 1513.66 Z\" fill=\"#000000\" fill-rule=\"evenodd\" fill-opacity=\"1\" /><path clip-path=\"url(#clip050)\" d=\"M1721.13 1514.29 L1743.35 1514.29 L1743.35 1516.28 L1730.81 1548.85 L1725.92 1548.85 L1737.73 1518.22 L1721.13 1518.22 L1721.13 1514.29 Z\" fill=\"#000000\" fill-rule=\"evenodd\" fill-opacity=\"1\" /><path clip-path=\"url(#clip050)\" d=\"M1752.52 1514.29 L1770.88 1514.29 L1770.88 1518.22 L1756.8 1518.22 L1756.8 1526.7 Q1757.82 1526.35 1758.84 1526.19 Q1759.86 1526 1760.88 1526 Q1766.66 1526 1770.04 1529.17 Q1773.42 1532.34 1773.42 1537.76 Q1773.42 1543.34 1769.95 1546.44 Q1766.48 1549.52 1760.16 1549.52 Q1757.98 1549.52 1755.71 1549.15 Q1753.47 1548.78 1751.06 1548.04 L1751.06 1543.34 Q1753.15 1544.47 1755.37 1545.03 Q1757.59 1545.58 1760.07 1545.58 Q1764.07 1545.58 1766.41 1543.48 Q1768.75 1541.37 1768.75 1537.76 Q1768.75 1534.15 1766.41 1532.04 Q1764.07 1529.94 1760.07 1529.94 Q1758.19 1529.94 1756.32 1530.35 Q1754.46 1530.77 1752.52 1531.65 L1752.52 1514.29 Z\" fill=\"#000000\" fill-rule=\"evenodd\" fill-opacity=\"1\" /><path clip-path=\"url(#clip050)\" d=\"M2192.35 1544.91 L2199.99 1544.91 L2199.99 1518.55 L2191.68 1520.21 L2191.68 1515.95 L2199.95 1514.29 L2204.62 1514.29 L2204.62 1544.91 L2212.26 1544.91 L2212.26 1548.85 L2192.35 1548.85 L2192.35 1544.91 Z\" fill=\"#000000\" fill-rule=\"evenodd\" fill-opacity=\"1\" /><path clip-path=\"url(#clip050)\" d=\"M2231.71 1517.37 Q2228.09 1517.37 2226.27 1520.93 Q2224.46 1524.47 2224.46 1531.6 Q2224.46 1538.71 2226.27 1542.27 Q2228.09 1545.82 2231.71 1545.82 Q2235.34 1545.82 2237.15 1542.27 Q2238.97 1538.71 2238.97 1531.6 Q2238.97 1524.47 2237.15 1520.93 Q2235.34 1517.37 2231.71 1517.37 M2231.71 1513.66 Q2237.52 1513.66 2240.57 1518.27 Q2243.65 1522.85 2243.65 1531.6 Q2243.65 1540.33 2240.57 1544.94 Q2237.52 1549.52 2231.71 1549.52 Q2225.9 1549.52 2222.82 1544.94 Q2219.76 1540.33 2219.76 1531.6 Q2219.76 1522.85 2222.82 1518.27 Q2225.9 1513.66 2231.71 1513.66 Z\" fill=\"#000000\" fill-rule=\"evenodd\" fill-opacity=\"1\" /><path clip-path=\"url(#clip050)\" d=\"M2261.87 1517.37 Q2258.26 1517.37 2256.43 1520.93 Q2254.62 1524.47 2254.62 1531.6 Q2254.62 1538.71 2256.43 1542.27 Q2258.26 1545.82 2261.87 1545.82 Q2265.5 1545.82 2267.31 1542.27 Q2269.14 1538.71 2269.14 1531.6 Q2269.14 1524.47 2267.31 1520.93 Q2265.5 1517.37 2261.87 1517.37 M2261.87 1513.66 Q2267.68 1513.66 2270.73 1518.27 Q2273.81 1522.85 2273.81 1531.6 Q2273.81 1540.33 2270.73 1544.94 Q2267.68 1549.52 2261.87 1549.52 Q2256.06 1549.52 2252.98 1544.94 Q2249.92 1540.33 2249.92 1531.6 Q2249.92 1522.85 2252.98 1518.27 Q2256.06 1513.66 2261.87 1513.66 Z\" fill=\"#000000\" fill-rule=\"evenodd\" fill-opacity=\"1\" /><polyline clip-path=\"url(#clip052)\" style=\"stroke:#000000; stroke-linecap:butt; stroke-linejoin:round; stroke-width:2; stroke-opacity:0.1; fill:none\" points=\"\n",
       "  170.857,1445.72 2352.76,1445.72 \n",
       "  \"/>\n",
       "<polyline clip-path=\"url(#clip052)\" style=\"stroke:#000000; stroke-linecap:butt; stroke-linejoin:round; stroke-width:2; stroke-opacity:0.1; fill:none\" points=\"\n",
       "  170.857,993.136 2352.76,993.136 \n",
       "  \"/>\n",
       "<polyline clip-path=\"url(#clip052)\" style=\"stroke:#000000; stroke-linecap:butt; stroke-linejoin:round; stroke-width:2; stroke-opacity:0.1; fill:none\" points=\"\n",
       "  170.857,540.556 2352.76,540.556 \n",
       "  \"/>\n",
       "<polyline clip-path=\"url(#clip052)\" style=\"stroke:#000000; stroke-linecap:butt; stroke-linejoin:round; stroke-width:2; stroke-opacity:0.1; fill:none\" points=\"\n",
       "  170.857,87.9763 2352.76,87.9763 \n",
       "  \"/>\n",
       "<polyline clip-path=\"url(#clip050)\" style=\"stroke:#000000; stroke-linecap:butt; stroke-linejoin:round; stroke-width:4; stroke-opacity:1; fill:none\" points=\"\n",
       "  170.857,1486.45 170.857,47.2441 \n",
       "  \"/>\n",
       "<polyline clip-path=\"url(#clip050)\" style=\"stroke:#000000; stroke-linecap:butt; stroke-linejoin:round; stroke-width:4; stroke-opacity:1; fill:none\" points=\"\n",
       "  170.857,1445.72 189.755,1445.72 \n",
       "  \"/>\n",
       "<polyline clip-path=\"url(#clip050)\" style=\"stroke:#000000; stroke-linecap:butt; stroke-linejoin:round; stroke-width:4; stroke-opacity:1; fill:none\" points=\"\n",
       "  170.857,993.136 189.755,993.136 \n",
       "  \"/>\n",
       "<polyline clip-path=\"url(#clip050)\" style=\"stroke:#000000; stroke-linecap:butt; stroke-linejoin:round; stroke-width:4; stroke-opacity:1; fill:none\" points=\"\n",
       "  170.857,540.556 189.755,540.556 \n",
       "  \"/>\n",
       "<polyline clip-path=\"url(#clip050)\" style=\"stroke:#000000; stroke-linecap:butt; stroke-linejoin:round; stroke-width:4; stroke-opacity:1; fill:none\" points=\"\n",
       "  170.857,87.9763 189.755,87.9763 \n",
       "  \"/>\n",
       "<path clip-path=\"url(#clip050)\" d=\"M122.913 1431.51 Q119.302 1431.51 117.473 1435.08 Q115.668 1438.62 115.668 1445.75 Q115.668 1452.86 117.473 1456.42 Q119.302 1459.96 122.913 1459.96 Q126.547 1459.96 128.353 1456.42 Q130.182 1452.86 130.182 1445.75 Q130.182 1438.62 128.353 1435.08 Q126.547 1431.51 122.913 1431.51 M122.913 1427.81 Q128.723 1427.81 131.779 1432.42 Q134.857 1437 134.857 1445.75 Q134.857 1454.48 131.779 1459.08 Q128.723 1463.67 122.913 1463.67 Q117.103 1463.67 114.024 1459.08 Q110.969 1454.48 110.969 1445.75 Q110.969 1437 114.024 1432.42 Q117.103 1427.81 122.913 1427.81 Z\" fill=\"#000000\" fill-rule=\"evenodd\" fill-opacity=\"1\" /><path clip-path=\"url(#clip050)\" d=\"M53.3995 1006.48 L61.0384 1006.48 L61.0384 980.115 L52.7282 981.782 L52.7282 977.523 L60.9921 975.856 L65.668 975.856 L65.668 1006.48 L73.3068 1006.48 L73.3068 1010.42 L53.3995 1010.42 L53.3995 1006.48 Z\" fill=\"#000000\" fill-rule=\"evenodd\" fill-opacity=\"1\" /><path clip-path=\"url(#clip050)\" d=\"M92.7512 978.935 Q89.1401 978.935 87.3114 982.499 Q85.5058 986.041 85.5058 993.171 Q85.5058 1000.28 87.3114 1003.84 Q89.1401 1007.38 92.7512 1007.38 Q96.3854 1007.38 98.1909 1003.84 Q100.02 1000.28 100.02 993.171 Q100.02 986.041 98.1909 982.499 Q96.3854 978.935 92.7512 978.935 M92.7512 975.231 Q98.5613 975.231 101.617 979.837 Q104.696 984.421 104.696 993.171 Q104.696 1001.9 101.617 1006.5 Q98.5613 1011.09 92.7512 1011.09 Q86.941 1011.09 83.8623 1006.5 Q80.8068 1001.9 80.8068 993.171 Q80.8068 984.421 83.8623 979.837 Q86.941 975.231 92.7512 975.231 Z\" fill=\"#000000\" fill-rule=\"evenodd\" fill-opacity=\"1\" /><path clip-path=\"url(#clip050)\" d=\"M122.913 978.935 Q119.302 978.935 117.473 982.499 Q115.668 986.041 115.668 993.171 Q115.668 1000.28 117.473 1003.84 Q119.302 1007.38 122.913 1007.38 Q126.547 1007.38 128.353 1003.84 Q130.182 1000.28 130.182 993.171 Q130.182 986.041 128.353 982.499 Q126.547 978.935 122.913 978.935 M122.913 975.231 Q128.723 975.231 131.779 979.837 Q134.857 984.421 134.857 993.171 Q134.857 1001.9 131.779 1006.5 Q128.723 1011.09 122.913 1011.09 Q117.103 1011.09 114.024 1006.5 Q110.969 1001.9 110.969 993.171 Q110.969 984.421 114.024 979.837 Q117.103 975.231 122.913 975.231 Z\" fill=\"#000000\" fill-rule=\"evenodd\" fill-opacity=\"1\" /><path clip-path=\"url(#clip050)\" d=\"M56.6171 553.901 L72.9365 553.901 L72.9365 557.836 L50.9921 557.836 L50.9921 553.901 Q53.6541 551.146 58.2375 546.517 Q62.8439 541.864 64.0245 540.521 Q66.2698 537.998 67.1494 536.262 Q68.0522 534.503 68.0522 532.813 Q68.0522 530.058 66.1078 528.322 Q64.1865 526.586 61.0847 526.586 Q58.8856 526.586 56.4319 527.35 Q54.0014 528.114 51.2236 529.665 L51.2236 524.943 Q54.0477 523.808 56.5014 523.23 Q58.955 522.651 60.9921 522.651 Q66.3624 522.651 69.5568 525.336 Q72.7513 528.021 72.7513 532.512 Q72.7513 534.642 71.9411 536.563 Q71.1541 538.461 69.0476 541.054 Q68.4689 541.725 65.367 544.943 Q62.2652 548.137 56.6171 553.901 Z\" fill=\"#000000\" fill-rule=\"evenodd\" fill-opacity=\"1\" /><path clip-path=\"url(#clip050)\" d=\"M92.7512 526.355 Q89.1401 526.355 87.3114 529.92 Q85.5058 533.461 85.5058 540.591 Q85.5058 547.697 87.3114 551.262 Q89.1401 554.804 92.7512 554.804 Q96.3854 554.804 98.1909 551.262 Q100.02 547.697 100.02 540.591 Q100.02 533.461 98.1909 529.92 Q96.3854 526.355 92.7512 526.355 M92.7512 522.651 Q98.5613 522.651 101.617 527.258 Q104.696 531.841 104.696 540.591 Q104.696 549.318 101.617 553.924 Q98.5613 558.507 92.7512 558.507 Q86.941 558.507 83.8623 553.924 Q80.8068 549.318 80.8068 540.591 Q80.8068 531.841 83.8623 527.258 Q86.941 522.651 92.7512 522.651 Z\" fill=\"#000000\" fill-rule=\"evenodd\" fill-opacity=\"1\" /><path clip-path=\"url(#clip050)\" d=\"M122.913 526.355 Q119.302 526.355 117.473 529.92 Q115.668 533.461 115.668 540.591 Q115.668 547.697 117.473 551.262 Q119.302 554.804 122.913 554.804 Q126.547 554.804 128.353 551.262 Q130.182 547.697 130.182 540.591 Q130.182 533.461 128.353 529.92 Q126.547 526.355 122.913 526.355 M122.913 522.651 Q128.723 522.651 131.779 527.258 Q134.857 531.841 134.857 540.591 Q134.857 549.318 131.779 553.924 Q128.723 558.507 122.913 558.507 Q117.103 558.507 114.024 553.924 Q110.969 549.318 110.969 540.591 Q110.969 531.841 114.024 527.258 Q117.103 522.651 122.913 522.651 Z\" fill=\"#000000\" fill-rule=\"evenodd\" fill-opacity=\"1\" /><path clip-path=\"url(#clip050)\" d=\"M66.7559 86.6221 Q70.1124 87.3397 71.9874 89.6082 Q73.8855 91.8767 73.8855 95.21 Q73.8855 100.326 70.367 103.127 Q66.8485 105.928 60.3671 105.928 Q58.1912 105.928 55.8764 105.488 Q53.5847 105.071 51.131 104.215 L51.131 99.7008 Q53.0754 100.835 55.3903 101.414 Q57.7051 101.992 60.2282 101.992 Q64.6263 101.992 66.918 100.256 Q69.2328 98.5202 69.2328 95.21 Q69.2328 92.1545 67.08 90.4415 Q64.9504 88.7054 61.131 88.7054 L57.1032 88.7054 L57.1032 84.8629 L61.3161 84.8629 Q64.7652 84.8629 66.5939 83.4971 Q68.4226 82.1083 68.4226 79.5157 Q68.4226 76.8537 66.5245 75.4416 Q64.6495 74.0064 61.131 74.0064 Q59.2097 74.0064 57.0106 74.4231 Q54.8115 74.8398 52.1727 75.7194 L52.1727 71.5528 Q54.8347 70.812 57.1495 70.4416 Q59.4875 70.0713 61.5476 70.0713 Q66.8717 70.0713 69.9735 72.5018 Q73.0753 74.9092 73.0753 79.0296 Q73.0753 81.8999 71.4318 83.8907 Q69.7883 85.8582 66.7559 86.6221 Z\" fill=\"#000000\" fill-rule=\"evenodd\" fill-opacity=\"1\" /><path clip-path=\"url(#clip050)\" d=\"M92.7512 73.775 Q89.1401 73.775 87.3114 77.3398 Q85.5058 80.8814 85.5058 88.011 Q85.5058 95.1174 87.3114 98.6822 Q89.1401 102.224 92.7512 102.224 Q96.3854 102.224 98.1909 98.6822 Q100.02 95.1174 100.02 88.011 Q100.02 80.8814 98.1909 77.3398 Q96.3854 73.775 92.7512 73.775 M92.7512 70.0713 Q98.5613 70.0713 101.617 74.6777 Q104.696 79.261 104.696 88.011 Q104.696 96.7378 101.617 101.344 Q98.5613 105.928 92.7512 105.928 Q86.941 105.928 83.8623 101.344 Q80.8068 96.7378 80.8068 88.011 Q80.8068 79.261 83.8623 74.6777 Q86.941 70.0713 92.7512 70.0713 Z\" fill=\"#000000\" fill-rule=\"evenodd\" fill-opacity=\"1\" /><path clip-path=\"url(#clip050)\" d=\"M122.913 73.775 Q119.302 73.775 117.473 77.3398 Q115.668 80.8814 115.668 88.011 Q115.668 95.1174 117.473 98.6822 Q119.302 102.224 122.913 102.224 Q126.547 102.224 128.353 98.6822 Q130.182 95.1174 130.182 88.011 Q130.182 80.8814 128.353 77.3398 Q126.547 73.775 122.913 73.775 M122.913 70.0713 Q128.723 70.0713 131.779 74.6777 Q134.857 79.261 134.857 88.011 Q134.857 96.7378 131.779 101.344 Q128.723 105.928 122.913 105.928 Q117.103 105.928 114.024 101.344 Q110.969 96.7378 110.969 88.011 Q110.969 79.261 114.024 74.6777 Q117.103 70.0713 122.913 70.0713 Z\" fill=\"#000000\" fill-rule=\"evenodd\" fill-opacity=\"1\" /><path clip-path=\"url(#clip052)\" d=\"\n",
       "M290.866 87.9763 L290.866 1445.72 L387.96 1445.72 L387.96 87.9763 L290.866 87.9763 L290.866 87.9763  Z\n",
       "  \" fill=\"#009af9\" fill-rule=\"evenodd\" fill-opacity=\"1\"/>\n",
       "<polyline clip-path=\"url(#clip052)\" style=\"stroke:#000000; stroke-linecap:butt; stroke-linejoin:round; stroke-width:4; stroke-opacity:1; fill:none\" points=\"\n",
       "  290.866,87.9763 290.866,1445.72 387.96,1445.72 387.96,87.9763 290.866,87.9763 \n",
       "  \"/>\n",
       "<path clip-path=\"url(#clip052)\" d=\"\n",
       "M387.96 640.124 L387.96 1445.72 L485.054 1445.72 L485.054 640.124 L387.96 640.124 L387.96 640.124  Z\n",
       "  \" fill=\"#009af9\" fill-rule=\"evenodd\" fill-opacity=\"1\"/>\n",
       "<polyline clip-path=\"url(#clip052)\" style=\"stroke:#000000; stroke-linecap:butt; stroke-linejoin:round; stroke-width:4; stroke-opacity:1; fill:none\" points=\"\n",
       "  387.96,640.124 387.96,1445.72 485.054,1445.72 485.054,640.124 387.96,640.124 \n",
       "  \"/>\n",
       "<path clip-path=\"url(#clip052)\" d=\"\n",
       "M485.054 889.043 L485.054 1445.72 L582.148 1445.72 L582.148 889.043 L485.054 889.043 L485.054 889.043  Z\n",
       "  \" fill=\"#009af9\" fill-rule=\"evenodd\" fill-opacity=\"1\"/>\n",
       "<polyline clip-path=\"url(#clip052)\" style=\"stroke:#000000; stroke-linecap:butt; stroke-linejoin:round; stroke-width:4; stroke-opacity:1; fill:none\" points=\"\n",
       "  485.054,889.043 485.054,1445.72 582.148,1445.72 582.148,889.043 485.054,889.043 \n",
       "  \"/>\n",
       "<path clip-path=\"url(#clip052)\" d=\"\n",
       "M582.148 925.249 L582.148 1445.72 L679.242 1445.72 L679.242 925.249 L582.148 925.249 L582.148 925.249  Z\n",
       "  \" fill=\"#009af9\" fill-rule=\"evenodd\" fill-opacity=\"1\"/>\n",
       "<polyline clip-path=\"url(#clip052)\" style=\"stroke:#000000; stroke-linecap:butt; stroke-linejoin:round; stroke-width:4; stroke-opacity:1; fill:none\" points=\"\n",
       "  582.148,925.249 582.148,1445.72 679.242,1445.72 679.242,925.249 582.148,925.249 \n",
       "  \"/>\n",
       "<path clip-path=\"url(#clip052)\" d=\"\n",
       "M679.242 1002.19 L679.242 1445.72 L776.336 1445.72 L776.336 1002.19 L679.242 1002.19 L679.242 1002.19  Z\n",
       "  \" fill=\"#009af9\" fill-rule=\"evenodd\" fill-opacity=\"1\"/>\n",
       "<polyline clip-path=\"url(#clip052)\" style=\"stroke:#000000; stroke-linecap:butt; stroke-linejoin:round; stroke-width:4; stroke-opacity:1; fill:none\" points=\"\n",
       "  679.242,1002.19 679.242,1445.72 776.336,1445.72 776.336,1002.19 679.242,1002.19 \n",
       "  \"/>\n",
       "<path clip-path=\"url(#clip052)\" d=\"\n",
       "M776.336 1115.33 L776.336 1445.72 L873.43 1445.72 L873.43 1115.33 L776.336 1115.33 L776.336 1115.33  Z\n",
       "  \" fill=\"#009af9\" fill-rule=\"evenodd\" fill-opacity=\"1\"/>\n",
       "<polyline clip-path=\"url(#clip052)\" style=\"stroke:#000000; stroke-linecap:butt; stroke-linejoin:round; stroke-width:4; stroke-opacity:1; fill:none\" points=\"\n",
       "  776.336,1115.33 776.336,1445.72 873.43,1445.72 873.43,1115.33 776.336,1115.33 \n",
       "  \"/>\n",
       "<path clip-path=\"url(#clip052)\" d=\"\n",
       "M873.43 1110.81 L873.43 1445.72 L970.524 1445.72 L970.524 1110.81 L873.43 1110.81 L873.43 1110.81  Z\n",
       "  \" fill=\"#009af9\" fill-rule=\"evenodd\" fill-opacity=\"1\"/>\n",
       "<polyline clip-path=\"url(#clip052)\" style=\"stroke:#000000; stroke-linecap:butt; stroke-linejoin:round; stroke-width:4; stroke-opacity:1; fill:none\" points=\"\n",
       "  873.43,1110.81 873.43,1445.72 970.524,1445.72 970.524,1110.81 873.43,1110.81 \n",
       "  \"/>\n",
       "<path clip-path=\"url(#clip052)\" d=\"\n",
       "M970.524 1260.16 L970.524 1445.72 L1067.62 1445.72 L1067.62 1260.16 L970.524 1260.16 L970.524 1260.16  Z\n",
       "  \" fill=\"#009af9\" fill-rule=\"evenodd\" fill-opacity=\"1\"/>\n",
       "<polyline clip-path=\"url(#clip052)\" style=\"stroke:#000000; stroke-linecap:butt; stroke-linejoin:round; stroke-width:4; stroke-opacity:1; fill:none\" points=\"\n",
       "  970.524,1260.16 970.524,1445.72 1067.62,1445.72 1067.62,1260.16 970.524,1260.16 \n",
       "  \"/>\n",
       "<path clip-path=\"url(#clip052)\" d=\"\n",
       "M1067.62 1223.95 L1067.62 1445.72 L1164.71 1445.72 L1164.71 1223.95 L1067.62 1223.95 L1067.62 1223.95  Z\n",
       "  \" fill=\"#009af9\" fill-rule=\"evenodd\" fill-opacity=\"1\"/>\n",
       "<polyline clip-path=\"url(#clip052)\" style=\"stroke:#000000; stroke-linecap:butt; stroke-linejoin:round; stroke-width:4; stroke-opacity:1; fill:none\" points=\"\n",
       "  1067.62,1223.95 1067.62,1445.72 1164.71,1445.72 1164.71,1223.95 1067.62,1223.95 \n",
       "  \"/>\n",
       "<path clip-path=\"url(#clip052)\" d=\"\n",
       "M1164.71 1305.42 L1164.71 1445.72 L1261.81 1445.72 L1261.81 1305.42 L1164.71 1305.42 L1164.71 1305.42  Z\n",
       "  \" fill=\"#009af9\" fill-rule=\"evenodd\" fill-opacity=\"1\"/>\n",
       "<polyline clip-path=\"url(#clip052)\" style=\"stroke:#000000; stroke-linecap:butt; stroke-linejoin:round; stroke-width:4; stroke-opacity:1; fill:none\" points=\"\n",
       "  1164.71,1305.42 1164.71,1445.72 1261.81,1445.72 1261.81,1305.42 1164.71,1305.42 \n",
       "  \"/>\n",
       "<path clip-path=\"url(#clip052)\" d=\"\n",
       "M1261.81 1337.1 L1261.81 1445.72 L1358.9 1445.72 L1358.9 1337.1 L1261.81 1337.1 L1261.81 1337.1  Z\n",
       "  \" fill=\"#009af9\" fill-rule=\"evenodd\" fill-opacity=\"1\"/>\n",
       "<polyline clip-path=\"url(#clip052)\" style=\"stroke:#000000; stroke-linecap:butt; stroke-linejoin:round; stroke-width:4; stroke-opacity:1; fill:none\" points=\"\n",
       "  1261.81,1337.1 1261.81,1445.72 1358.9,1445.72 1358.9,1337.1 1261.81,1337.1 \n",
       "  \"/>\n",
       "<path clip-path=\"url(#clip052)\" d=\"\n",
       "M1358.9 1404.98 L1358.9 1445.72 L1455.99 1445.72 L1455.99 1404.98 L1358.9 1404.98 L1358.9 1404.98  Z\n",
       "  \" fill=\"#009af9\" fill-rule=\"evenodd\" fill-opacity=\"1\"/>\n",
       "<polyline clip-path=\"url(#clip052)\" style=\"stroke:#000000; stroke-linecap:butt; stroke-linejoin:round; stroke-width:4; stroke-opacity:1; fill:none\" points=\"\n",
       "  1358.9,1404.98 1358.9,1445.72 1455.99,1445.72 1455.99,1404.98 1358.9,1404.98 \n",
       "  \"/>\n",
       "<path clip-path=\"url(#clip052)\" d=\"\n",
       "M1455.99 1355.2 L1455.99 1445.72 L1553.09 1445.72 L1553.09 1355.2 L1455.99 1355.2 L1455.99 1355.2  Z\n",
       "  \" fill=\"#009af9\" fill-rule=\"evenodd\" fill-opacity=\"1\"/>\n",
       "<polyline clip-path=\"url(#clip052)\" style=\"stroke:#000000; stroke-linecap:butt; stroke-linejoin:round; stroke-width:4; stroke-opacity:1; fill:none\" points=\"\n",
       "  1455.99,1355.2 1455.99,1445.72 1553.09,1445.72 1553.09,1355.2 1455.99,1355.2 \n",
       "  \"/>\n",
       "<path clip-path=\"url(#clip052)\" d=\"\n",
       "M1553.09 1400.46 L1553.09 1445.72 L1650.18 1445.72 L1650.18 1400.46 L1553.09 1400.46 L1553.09 1400.46  Z\n",
       "  \" fill=\"#009af9\" fill-rule=\"evenodd\" fill-opacity=\"1\"/>\n",
       "<polyline clip-path=\"url(#clip052)\" style=\"stroke:#000000; stroke-linecap:butt; stroke-linejoin:round; stroke-width:4; stroke-opacity:1; fill:none\" points=\"\n",
       "  1553.09,1400.46 1553.09,1445.72 1650.18,1445.72 1650.18,1400.46 1553.09,1400.46 \n",
       "  \"/>\n",
       "<path clip-path=\"url(#clip052)\" d=\"\n",
       "M1650.18 1418.56 L1650.18 1445.72 L1747.28 1445.72 L1747.28 1418.56 L1650.18 1418.56 L1650.18 1418.56  Z\n",
       "  \" fill=\"#009af9\" fill-rule=\"evenodd\" fill-opacity=\"1\"/>\n",
       "<polyline clip-path=\"url(#clip052)\" style=\"stroke:#000000; stroke-linecap:butt; stroke-linejoin:round; stroke-width:4; stroke-opacity:1; fill:none\" points=\"\n",
       "  1650.18,1418.56 1650.18,1445.72 1747.28,1445.72 1747.28,1418.56 1650.18,1418.56 \n",
       "  \"/>\n",
       "<path clip-path=\"url(#clip052)\" d=\"\n",
       "M1747.28 1432.14 L1747.28 1445.72 L1844.37 1445.72 L1844.37 1432.14 L1747.28 1432.14 L1747.28 1432.14  Z\n",
       "  \" fill=\"#009af9\" fill-rule=\"evenodd\" fill-opacity=\"1\"/>\n",
       "<polyline clip-path=\"url(#clip052)\" style=\"stroke:#000000; stroke-linecap:butt; stroke-linejoin:round; stroke-width:4; stroke-opacity:1; fill:none\" points=\"\n",
       "  1747.28,1432.14 1747.28,1445.72 1844.37,1445.72 1844.37,1432.14 1747.28,1432.14 \n",
       "  \"/>\n",
       "<path clip-path=\"url(#clip052)\" d=\"\n",
       "M1844.37 1427.61 L1844.37 1445.72 L1941.47 1445.72 L1941.47 1427.61 L1844.37 1427.61 L1844.37 1427.61  Z\n",
       "  \" fill=\"#009af9\" fill-rule=\"evenodd\" fill-opacity=\"1\"/>\n",
       "<polyline clip-path=\"url(#clip052)\" style=\"stroke:#000000; stroke-linecap:butt; stroke-linejoin:round; stroke-width:4; stroke-opacity:1; fill:none\" points=\"\n",
       "  1844.37,1427.61 1844.37,1445.72 1941.47,1445.72 1941.47,1427.61 1844.37,1427.61 \n",
       "  \"/>\n",
       "<path clip-path=\"url(#clip052)\" d=\"\n",
       "M1941.47 1427.61 L1941.47 1445.72 L2038.56 1445.72 L2038.56 1427.61 L1941.47 1427.61 L1941.47 1427.61  Z\n",
       "  \" fill=\"#009af9\" fill-rule=\"evenodd\" fill-opacity=\"1\"/>\n",
       "<polyline clip-path=\"url(#clip052)\" style=\"stroke:#000000; stroke-linecap:butt; stroke-linejoin:round; stroke-width:4; stroke-opacity:1; fill:none\" points=\"\n",
       "  1941.47,1427.61 1941.47,1445.72 2038.56,1445.72 2038.56,1427.61 1941.47,1427.61 \n",
       "  \"/>\n",
       "<path clip-path=\"url(#clip052)\" d=\"\n",
       "M2038.56 1436.66 L2038.56 1445.72 L2135.65 1445.72 L2135.65 1436.66 L2038.56 1436.66 L2038.56 1436.66  Z\n",
       "  \" fill=\"#009af9\" fill-rule=\"evenodd\" fill-opacity=\"1\"/>\n",
       "<polyline clip-path=\"url(#clip052)\" style=\"stroke:#000000; stroke-linecap:butt; stroke-linejoin:round; stroke-width:4; stroke-opacity:1; fill:none\" points=\"\n",
       "  2038.56,1436.66 2038.56,1445.72 2135.65,1445.72 2135.65,1436.66 2038.56,1436.66 \n",
       "  \"/>\n",
       "<path clip-path=\"url(#clip052)\" d=\"\n",
       "M2135.65 1432.14 L2135.65 1445.72 L2232.75 1445.72 L2232.75 1432.14 L2135.65 1432.14 L2135.65 1432.14  Z\n",
       "  \" fill=\"#009af9\" fill-rule=\"evenodd\" fill-opacity=\"1\"/>\n",
       "<polyline clip-path=\"url(#clip052)\" style=\"stroke:#000000; stroke-linecap:butt; stroke-linejoin:round; stroke-width:4; stroke-opacity:1; fill:none\" points=\"\n",
       "  2135.65,1432.14 2135.65,1445.72 2232.75,1445.72 2232.75,1432.14 2135.65,1432.14 \n",
       "  \"/>\n",
       "<circle clip-path=\"url(#clip052)\" style=\"fill:#009af9; stroke:none; fill-opacity:0\" cx=\"339.413\" cy=\"87.9763\" r=\"2\"/>\n",
       "<circle clip-path=\"url(#clip052)\" style=\"fill:#009af9; stroke:none; fill-opacity:0\" cx=\"436.507\" cy=\"640.124\" r=\"2\"/>\n",
       "<circle clip-path=\"url(#clip052)\" style=\"fill:#009af9; stroke:none; fill-opacity:0\" cx=\"533.601\" cy=\"889.043\" r=\"2\"/>\n",
       "<circle clip-path=\"url(#clip052)\" style=\"fill:#009af9; stroke:none; fill-opacity:0\" cx=\"630.695\" cy=\"925.249\" r=\"2\"/>\n",
       "<circle clip-path=\"url(#clip052)\" style=\"fill:#009af9; stroke:none; fill-opacity:0\" cx=\"727.789\" cy=\"1002.19\" r=\"2\"/>\n",
       "<circle clip-path=\"url(#clip052)\" style=\"fill:#009af9; stroke:none; fill-opacity:0\" cx=\"824.883\" cy=\"1115.33\" r=\"2\"/>\n",
       "<circle clip-path=\"url(#clip052)\" style=\"fill:#009af9; stroke:none; fill-opacity:0\" cx=\"921.977\" cy=\"1110.81\" r=\"2\"/>\n",
       "<circle clip-path=\"url(#clip052)\" style=\"fill:#009af9; stroke:none; fill-opacity:0\" cx=\"1019.07\" cy=\"1260.16\" r=\"2\"/>\n",
       "<circle clip-path=\"url(#clip052)\" style=\"fill:#009af9; stroke:none; fill-opacity:0\" cx=\"1116.17\" cy=\"1223.95\" r=\"2\"/>\n",
       "<circle clip-path=\"url(#clip052)\" style=\"fill:#009af9; stroke:none; fill-opacity:0\" cx=\"1213.26\" cy=\"1305.42\" r=\"2\"/>\n",
       "<circle clip-path=\"url(#clip052)\" style=\"fill:#009af9; stroke:none; fill-opacity:0\" cx=\"1310.35\" cy=\"1337.1\" r=\"2\"/>\n",
       "<circle clip-path=\"url(#clip052)\" style=\"fill:#009af9; stroke:none; fill-opacity:0\" cx=\"1407.45\" cy=\"1404.98\" r=\"2\"/>\n",
       "<circle clip-path=\"url(#clip052)\" style=\"fill:#009af9; stroke:none; fill-opacity:0\" cx=\"1504.54\" cy=\"1355.2\" r=\"2\"/>\n",
       "<circle clip-path=\"url(#clip052)\" style=\"fill:#009af9; stroke:none; fill-opacity:0\" cx=\"1601.64\" cy=\"1400.46\" r=\"2\"/>\n",
       "<circle clip-path=\"url(#clip052)\" style=\"fill:#009af9; stroke:none; fill-opacity:0\" cx=\"1698.73\" cy=\"1418.56\" r=\"2\"/>\n",
       "<circle clip-path=\"url(#clip052)\" style=\"fill:#009af9; stroke:none; fill-opacity:0\" cx=\"1795.82\" cy=\"1432.14\" r=\"2\"/>\n",
       "<circle clip-path=\"url(#clip052)\" style=\"fill:#009af9; stroke:none; fill-opacity:0\" cx=\"1892.92\" cy=\"1427.61\" r=\"2\"/>\n",
       "<circle clip-path=\"url(#clip052)\" style=\"fill:#009af9; stroke:none; fill-opacity:0\" cx=\"1990.01\" cy=\"1427.61\" r=\"2\"/>\n",
       "<circle clip-path=\"url(#clip052)\" style=\"fill:#009af9; stroke:none; fill-opacity:0\" cx=\"2087.11\" cy=\"1436.66\" r=\"2\"/>\n",
       "<circle clip-path=\"url(#clip052)\" style=\"fill:#009af9; stroke:none; fill-opacity:0\" cx=\"2184.2\" cy=\"1432.14\" r=\"2\"/>\n",
       "<path clip-path=\"url(#clip050)\" d=\"\n",
       "M1985.16 198.898 L2280.03 198.898 L2280.03 95.2176 L1985.16 95.2176  Z\n",
       "  \" fill=\"#ffffff\" fill-rule=\"evenodd\" fill-opacity=\"1\"/>\n",
       "<polyline clip-path=\"url(#clip050)\" style=\"stroke:#000000; stroke-linecap:butt; stroke-linejoin:round; stroke-width:4; stroke-opacity:1; fill:none\" points=\"\n",
       "  1985.16,198.898 2280.03,198.898 2280.03,95.2176 1985.16,95.2176 1985.16,198.898 \n",
       "  \"/>\n",
       "<path clip-path=\"url(#clip050)\" d=\"\n",
       "M2009.41 167.794 L2154.87 167.794 L2154.87 126.322 L2009.41 126.322 L2009.41 167.794  Z\n",
       "  \" fill=\"#009af9\" fill-rule=\"evenodd\" fill-opacity=\"1\"/>\n",
       "<polyline clip-path=\"url(#clip050)\" style=\"stroke:#000000; stroke-linecap:butt; stroke-linejoin:round; stroke-width:4; stroke-opacity:1; fill:none\" points=\"\n",
       "  2009.41,167.794 2154.87,167.794 2154.87,126.322 2009.41,126.322 2009.41,167.794 \n",
       "  \"/>\n",
       "<path clip-path=\"url(#clip050)\" d=\"M2192.95 166.745 Q2191.15 171.375 2189.43 172.787 Q2187.72 174.199 2184.85 174.199 L2181.45 174.199 L2181.45 170.634 L2183.95 170.634 Q2185.71 170.634 2186.68 169.8 Q2187.65 168.967 2188.83 165.865 L2189.6 163.921 L2179.11 138.412 L2183.62 138.412 L2191.72 158.689 L2199.83 138.412 L2204.34 138.412 L2192.95 166.745 Z\" fill=\"#000000\" fill-rule=\"evenodd\" fill-opacity=\"1\" /><path clip-path=\"url(#clip050)\" d=\"M2211.63 160.402 L2219.27 160.402 L2219.27 134.037 L2210.96 135.703 L2210.96 131.444 L2219.22 129.778 L2223.9 129.778 L2223.9 160.402 L2231.54 160.402 L2231.54 164.338 L2211.63 164.338 L2211.63 160.402 Z\" fill=\"#000000\" fill-rule=\"evenodd\" fill-opacity=\"1\" /></svg>\n"
      ]
     },
     "metadata": {},
     "output_type": "display_data"
    }
   ],
   "source": [
    "histogram(selected)"
   ]
  },
  {
   "cell_type": "code",
   "execution_count": 4,
   "metadata": {},
   "outputs": [
    {
     "data": {
      "text/plain": [
       "21-element Vector{String}:\n",
       " \"PROLIFIC_PID\"\n",
       " \"Sex\"\n",
       " \"Education\"\n",
       " \"Income_HH\"\n",
       " \"DemM7_KNN\"\n",
       " \"BDI_total_raw\"\n",
       " \"PSS_Total\"\n",
       " \"STAI_State_raw\"\n",
       " \"Fear_COVID_raw_KNN\"\n",
       " \"NIH_TB_Emot_Support_raw_total_KNN\"\n",
       " ⋮\n",
       " \"slope_new_deaths\"\n",
       " \"GatheringStrictness_KNN\"\n",
       " \"Mandatory_business_closure\"\n",
       " \"Mandatory_PPE_masks\"\n",
       " \"more_than_1_attQ_failed\"\n",
       " \"string_outlier_core\"\n",
       " \"response_consistency\"\n",
       " \"wave\"\n",
       " \"RW1_8\""
      ]
     },
     "metadata": {},
     "output_type": "display_data"
    }
   ],
   "source": [
    "# Process Meta data\n",
    "# Set view columns\n",
    "ENV[\"COLUMNS\"] = 200\n",
    "# Variables selected\n",
    "selected_variables = [DEMOGRAPHICS; PSYCHOLOGICAL; EXTERNAL; QUALITY; EXTRAS]"
   ]
  },
  {
   "cell_type": "code",
   "execution_count": 6,
   "metadata": {},
   "outputs": [
    {
     "data": {
      "text/html": [
       "<div class=\"data-frame\"><p>1,178 rows × 21 columns (omitted printing of 7 columns)</p><table class=\"data-frame\"><thead><tr><th></th><th>PROLIFIC_PID</th><th>Gender</th><th>Education</th><th>Income</th><th>Political_Views</th><th>Depression</th><th>Stress</th><th>Anxiety</th><th>Fear_COVID</th><th>Emotional_Support</th><th>Loneliness</th><th>slope_new_cases</th><th>slope_new_deaths</th><th>GatheringStrictness</th></tr><tr><th></th><th title=\"String31\">String31</th><th title=\"Float64\">Float64</th><th title=\"Float64\">Float64</th><th title=\"Float64\">Float64</th><th title=\"Float64\">Float64</th><th title=\"Union{Missing, Int64}\">Int64?</th><th title=\"Union{Missing, Int64}\">Int64?</th><th title=\"Int64\">Int64</th><th title=\"Float64\">Float64</th><th title=\"Float64\">Float64</th><th title=\"Float64\">Float64</th><th title=\"Float64\">Float64</th><th title=\"Float64\">Float64</th><th title=\"Float64\">Float64</th></tr></thead><tbody><tr><th>1</th><td>5c7e91c1973c990016ea72b0</td><td>2.0</td><td>5.0</td><td>1.0</td><td>1.0</td><td>16</td><td>29</td><td>40</td><td>21.0</td><td>40.0</td><td>8.0</td><td>13.7143</td><td>2.28571</td><td>1.0</td></tr><tr><th>2</th><td>5e67052c757e6149c38ce468</td><td>1.0</td><td>1.0</td><td>1.0</td><td>4.0</td><td>51</td><td>22</td><td>71</td><td>14.0</td><td>9.0</td><td>25.0</td><td>13.7143</td><td>2.28571</td><td>1.0</td></tr><tr><th>3</th><td>5d89106d1719af0001ee23e5</td><td>2.0</td><td>2.0</td><td>1.0</td><td>6.0</td><td>0</td><td>6</td><td>29</td><td>0.0</td><td>40.0</td><td>5.0</td><td>13.7143</td><td>2.28571</td><td>1.0</td></tr><tr><th>4</th><td>5d6394518df2870001a74b42</td><td>2.0</td><td>2.0</td><td>1.0</td><td>1.0</td><td>53</td><td>35</td><td>48</td><td>17.0</td><td>40.0</td><td>13.0</td><td>13.7143</td><td>2.28571</td><td>1.0</td></tr><tr><th>5</th><td>5bdd368719b9ba000157fb12</td><td>2.0</td><td>3.0</td><td>1.0</td><td>4.0</td><td>8</td><td>3</td><td>33</td><td>12.0</td><td>40.0</td><td>5.0</td><td>13.7143</td><td>2.28571</td><td>1.0</td></tr><tr><th>6</th><td>5a8ce265000dab00018ce084</td><td>2.0</td><td>4.0</td><td>6.0</td><td>3.0</td><td>11</td><td>16</td><td>25</td><td>1.0</td><td>35.0</td><td>12.0</td><td>13.7143</td><td>2.28571</td><td>1.0</td></tr><tr><th>7</th><td>5c72efa770d5a200018028f1</td><td>1.0</td><td>5.0</td><td>2.0</td><td>3.0</td><td>1</td><td>3</td><td>25</td><td>13.0</td><td>39.0</td><td>5.0</td><td>13.7143</td><td>2.28571</td><td>1.0</td></tr><tr><th>8</th><td>5aea962d0ef2f20001858c9c</td><td>1.0</td><td>2.0</td><td>1.0</td><td>2.0</td><td>28</td><td>32</td><td>58</td><td>11.0</td><td>19.0</td><td>14.0</td><td>13.7143</td><td>2.28571</td><td>1.0</td></tr><tr><th>9</th><td>5e4b793f03c92a08a6d28e3f</td><td>1.0</td><td>2.0</td><td>1.0</td><td>4.0</td><td>22</td><td>20</td><td>49</td><td>5.0</td><td>16.0</td><td>15.0</td><td>13.7143</td><td>2.28571</td><td>1.0</td></tr><tr><th>10</th><td>5cbc071f2edc3b00018ab097</td><td>1.0</td><td>7.0</td><td>1.0</td><td>3.0</td><td>13</td><td>15</td><td>45</td><td>17.0</td><td>24.0</td><td>10.0</td><td>13.7143</td><td>2.28571</td><td>1.0</td></tr><tr><th>11</th><td>5c1b06d9a329230001ecc39c</td><td>1.0</td><td>2.0</td><td>1.0</td><td>2.0</td><td>3</td><td>14</td><td>39</td><td>9.0</td><td>17.0</td><td>10.0</td><td>13.7143</td><td>2.28571</td><td>1.0</td></tr><tr><th>12</th><td>5e576e085069e61204a85872</td><td>1.0</td><td>2.0</td><td>1.0</td><td>4.0</td><td>5</td><td>14</td><td>48</td><td>24.0</td><td>24.0</td><td>15.0</td><td>13.7143</td><td>2.28571</td><td>1.0</td></tr><tr><th>13</th><td>5dcf50f05686c1099819882a</td><td>1.0</td><td>6.0</td><td>3.0</td><td>1.0</td><td>25</td><td>20</td><td>46</td><td>17.0</td><td>32.0</td><td>13.0</td><td>13.7143</td><td>2.28571</td><td>1.0</td></tr><tr><th>14</th><td>5d2d8b999c6703001525304f</td><td>1.0</td><td>2.0</td><td>1.0</td><td>7.0</td><td>27</td><td>26</td><td>29</td><td>14.0</td><td>8.0</td><td>25.0</td><td>13.7143</td><td>2.28571</td><td>1.0</td></tr><tr><th>15</th><td>5de8bc74553cee8280a7dd84</td><td>1.0</td><td>5.0</td><td>1.0</td><td>2.0</td><td>1</td><td>12</td><td>37</td><td>3.0</td><td>29.0</td><td>14.0</td><td>13.7143</td><td>2.28571</td><td>1.0</td></tr><tr><th>16</th><td>5b6a87d2cda8590001db8e07</td><td>1.0</td><td>5.0</td><td>1.0</td><td>1.0</td><td>14</td><td>16</td><td>62</td><td>14.0</td><td>28.0</td><td>14.0</td><td>13.7143</td><td>2.28571</td><td>1.0</td></tr><tr><th>17</th><td>5e3dff6b8714b707b9a258b0</td><td>1.0</td><td>5.0</td><td>1.0</td><td>2.0</td><td>26</td><td>21</td><td>56</td><td>12.0</td><td>24.0</td><td>19.0</td><td>13.7143</td><td>2.28571</td><td>1.0</td></tr><tr><th>18</th><td>5b05e0d131cebe000177c38e</td><td>1.0</td><td>2.0</td><td>1.0</td><td>5.0</td><td>40</td><td>26</td><td>66</td><td>20.0</td><td>18.0</td><td>15.0</td><td>13.7143</td><td>2.28571</td><td>1.0</td></tr><tr><th>19</th><td>5d3b79a59d5c14000140c32f</td><td>2.0</td><td>5.0</td><td>1.0</td><td>2.0</td><td>5</td><td>13</td><td>36</td><td>10.0</td><td>27.0</td><td>7.0</td><td>13.7143</td><td>2.28571</td><td>1.0</td></tr><tr><th>20</th><td>5e53e22ea0002e3e73720f65</td><td>2.0</td><td>3.0</td><td>1.0</td><td>2.0</td><td>39</td><td>28</td><td>50</td><td>12.0</td><td>8.0</td><td>22.0</td><td>13.7143</td><td>2.28571</td><td>1.0</td></tr><tr><th>21</th><td>5e6fde86b3ea9e5bb33664e4</td><td>1.0</td><td>3.0</td><td>1.0</td><td>3.0</td><td>4</td><td>7</td><td>28</td><td>9.0</td><td>35.0</td><td>14.0</td><td>13.7143</td><td>2.28571</td><td>1.0</td></tr><tr><th>22</th><td>5e65dca1d639df34800674a8</td><td>2.0</td><td>2.0</td><td>1.0</td><td>2.0</td><td>5</td><td>12</td><td>34</td><td>16.0</td><td>40.0</td><td>10.0</td><td>13.7143</td><td>2.28571</td><td>1.0</td></tr><tr><th>23</th><td>5de0b69ba91be311cb773b0b</td><td>1.0</td><td>2.0</td><td>1.0</td><td>2.0</td><td>5</td><td>16</td><td>38</td><td>8.0</td><td>8.0</td><td>14.0</td><td>13.7143</td><td>2.28571</td><td>1.0</td></tr><tr><th>24</th><td>5e05b7747dd477fc2d2d2857</td><td>1.0</td><td>5.0</td><td>4.0</td><td>7.0</td><td>0</td><td>7</td><td>25</td><td>10.0</td><td>38.0</td><td>5.0</td><td>13.7143</td><td>2.28571</td><td>1.0</td></tr><tr><th>&vellip;</th><td>&vellip;</td><td>&vellip;</td><td>&vellip;</td><td>&vellip;</td><td>&vellip;</td><td>&vellip;</td><td>&vellip;</td><td>&vellip;</td><td>&vellip;</td><td>&vellip;</td><td>&vellip;</td><td>&vellip;</td><td>&vellip;</td><td>&vellip;</td></tr></tbody></table></div>"
      ],
      "text/latex": [
       "\\begin{tabular}{r|ccccccccccccccc}\n",
       "\t& PROLIFIC\\_PID & Gender & Education & Income & Political\\_Views & Depression & Stress & Anxiety & Fear\\_COVID & Emotional\\_Support & Loneliness & slope\\_new\\_cases & slope\\_new\\_deaths & GatheringStrictness & \\\\\n",
       "\t\\hline\n",
       "\t& String31 & Float64 & Float64 & Float64 & Float64 & Int64? & Int64? & Int64 & Float64 & Float64 & Float64 & Float64 & Float64 & Float64 & \\\\\n",
       "\t\\hline\n",
       "\t1 & 5c7e91c1973c990016ea72b0 & 2.0 & 5.0 & 1.0 & 1.0 & 16 & 29 & 40 & 21.0 & 40.0 & 8.0 & 13.7143 & 2.28571 & 1.0 & $\\dots$ \\\\\n",
       "\t2 & 5e67052c757e6149c38ce468 & 1.0 & 1.0 & 1.0 & 4.0 & 51 & 22 & 71 & 14.0 & 9.0 & 25.0 & 13.7143 & 2.28571 & 1.0 & $\\dots$ \\\\\n",
       "\t3 & 5d89106d1719af0001ee23e5 & 2.0 & 2.0 & 1.0 & 6.0 & 0 & 6 & 29 & 0.0 & 40.0 & 5.0 & 13.7143 & 2.28571 & 1.0 & $\\dots$ \\\\\n",
       "\t4 & 5d6394518df2870001a74b42 & 2.0 & 2.0 & 1.0 & 1.0 & 53 & 35 & 48 & 17.0 & 40.0 & 13.0 & 13.7143 & 2.28571 & 1.0 & $\\dots$ \\\\\n",
       "\t5 & 5bdd368719b9ba000157fb12 & 2.0 & 3.0 & 1.0 & 4.0 & 8 & 3 & 33 & 12.0 & 40.0 & 5.0 & 13.7143 & 2.28571 & 1.0 & $\\dots$ \\\\\n",
       "\t6 & 5a8ce265000dab00018ce084 & 2.0 & 4.0 & 6.0 & 3.0 & 11 & 16 & 25 & 1.0 & 35.0 & 12.0 & 13.7143 & 2.28571 & 1.0 & $\\dots$ \\\\\n",
       "\t7 & 5c72efa770d5a200018028f1 & 1.0 & 5.0 & 2.0 & 3.0 & 1 & 3 & 25 & 13.0 & 39.0 & 5.0 & 13.7143 & 2.28571 & 1.0 & $\\dots$ \\\\\n",
       "\t8 & 5aea962d0ef2f20001858c9c & 1.0 & 2.0 & 1.0 & 2.0 & 28 & 32 & 58 & 11.0 & 19.0 & 14.0 & 13.7143 & 2.28571 & 1.0 & $\\dots$ \\\\\n",
       "\t9 & 5e4b793f03c92a08a6d28e3f & 1.0 & 2.0 & 1.0 & 4.0 & 22 & 20 & 49 & 5.0 & 16.0 & 15.0 & 13.7143 & 2.28571 & 1.0 & $\\dots$ \\\\\n",
       "\t10 & 5cbc071f2edc3b00018ab097 & 1.0 & 7.0 & 1.0 & 3.0 & 13 & 15 & 45 & 17.0 & 24.0 & 10.0 & 13.7143 & 2.28571 & 1.0 & $\\dots$ \\\\\n",
       "\t11 & 5c1b06d9a329230001ecc39c & 1.0 & 2.0 & 1.0 & 2.0 & 3 & 14 & 39 & 9.0 & 17.0 & 10.0 & 13.7143 & 2.28571 & 1.0 & $\\dots$ \\\\\n",
       "\t12 & 5e576e085069e61204a85872 & 1.0 & 2.0 & 1.0 & 4.0 & 5 & 14 & 48 & 24.0 & 24.0 & 15.0 & 13.7143 & 2.28571 & 1.0 & $\\dots$ \\\\\n",
       "\t13 & 5dcf50f05686c1099819882a & 1.0 & 6.0 & 3.0 & 1.0 & 25 & 20 & 46 & 17.0 & 32.0 & 13.0 & 13.7143 & 2.28571 & 1.0 & $\\dots$ \\\\\n",
       "\t14 & 5d2d8b999c6703001525304f & 1.0 & 2.0 & 1.0 & 7.0 & 27 & 26 & 29 & 14.0 & 8.0 & 25.0 & 13.7143 & 2.28571 & 1.0 & $\\dots$ \\\\\n",
       "\t15 & 5de8bc74553cee8280a7dd84 & 1.0 & 5.0 & 1.0 & 2.0 & 1 & 12 & 37 & 3.0 & 29.0 & 14.0 & 13.7143 & 2.28571 & 1.0 & $\\dots$ \\\\\n",
       "\t16 & 5b6a87d2cda8590001db8e07 & 1.0 & 5.0 & 1.0 & 1.0 & 14 & 16 & 62 & 14.0 & 28.0 & 14.0 & 13.7143 & 2.28571 & 1.0 & $\\dots$ \\\\\n",
       "\t17 & 5e3dff6b8714b707b9a258b0 & 1.0 & 5.0 & 1.0 & 2.0 & 26 & 21 & 56 & 12.0 & 24.0 & 19.0 & 13.7143 & 2.28571 & 1.0 & $\\dots$ \\\\\n",
       "\t18 & 5b05e0d131cebe000177c38e & 1.0 & 2.0 & 1.0 & 5.0 & 40 & 26 & 66 & 20.0 & 18.0 & 15.0 & 13.7143 & 2.28571 & 1.0 & $\\dots$ \\\\\n",
       "\t19 & 5d3b79a59d5c14000140c32f & 2.0 & 5.0 & 1.0 & 2.0 & 5 & 13 & 36 & 10.0 & 27.0 & 7.0 & 13.7143 & 2.28571 & 1.0 & $\\dots$ \\\\\n",
       "\t20 & 5e53e22ea0002e3e73720f65 & 2.0 & 3.0 & 1.0 & 2.0 & 39 & 28 & 50 & 12.0 & 8.0 & 22.0 & 13.7143 & 2.28571 & 1.0 & $\\dots$ \\\\\n",
       "\t21 & 5e6fde86b3ea9e5bb33664e4 & 1.0 & 3.0 & 1.0 & 3.0 & 4 & 7 & 28 & 9.0 & 35.0 & 14.0 & 13.7143 & 2.28571 & 1.0 & $\\dots$ \\\\\n",
       "\t22 & 5e65dca1d639df34800674a8 & 2.0 & 2.0 & 1.0 & 2.0 & 5 & 12 & 34 & 16.0 & 40.0 & 10.0 & 13.7143 & 2.28571 & 1.0 & $\\dots$ \\\\\n",
       "\t23 & 5de0b69ba91be311cb773b0b & 1.0 & 2.0 & 1.0 & 2.0 & 5 & 16 & 38 & 8.0 & 8.0 & 14.0 & 13.7143 & 2.28571 & 1.0 & $\\dots$ \\\\\n",
       "\t24 & 5e05b7747dd477fc2d2d2857 & 1.0 & 5.0 & 4.0 & 7.0 & 0 & 7 & 25 & 10.0 & 38.0 & 5.0 & 13.7143 & 2.28571 & 1.0 & $\\dots$ \\\\\n",
       "\t$\\dots$ & $\\dots$ & $\\dots$ & $\\dots$ & $\\dots$ & $\\dots$ & $\\dots$ & $\\dots$ & $\\dots$ & $\\dots$ & $\\dots$ & $\\dots$ & $\\dots$ & $\\dots$ & $\\dots$ &  \\\\\n",
       "\\end{tabular}\n"
      ],
      "text/plain": [
       "\u001b[1m1178×21 DataFrame\u001b[0m\n",
       "\u001b[1m  Row \u001b[0m│\u001b[1m PROLIFIC_PID             \u001b[0m\u001b[1m Gender  \u001b[0m\u001b[1m Education \u001b[0m\u001b[1m Income  \u001b[0m\u001b[1m Political_Views \u001b[0m\u001b[1m Depression \u001b[0m\u001b[1m Stress \u001b[0m\u001b[1m Anxiety \u001b[0m\u001b[1m Fear_COVID \u001b[0m\u001b[1m Emotional_Support \u001b[0m\u001b[1m Loneliness \u001b[0m\u001b[1m slope_new_cases \u001b[0m\u001b[1m slope_new_deaths \u001b[0m\u001b[1m GatheringSt\u001b[0m ⋯\n",
       "\u001b[1m      \u001b[0m│\u001b[90m String31                 \u001b[0m\u001b[90m Float64 \u001b[0m\u001b[90m Float64   \u001b[0m\u001b[90m Float64 \u001b[0m\u001b[90m Float64         \u001b[0m\u001b[90m Int64?     \u001b[0m\u001b[90m Int64? \u001b[0m\u001b[90m Int64   \u001b[0m\u001b[90m Float64    \u001b[0m\u001b[90m Float64           \u001b[0m\u001b[90m Float64    \u001b[0m\u001b[90m Float64         \u001b[0m\u001b[90m Float64          \u001b[0m\u001b[90m Float64    \u001b[0m ⋯\n",
       "──────┼─────────────────────────────────────────────────────────────────────────────────────────────────────────────────────────────────────────────────────────────────────────────────────────────────\n",
       "    1 │ 5c7e91c1973c990016ea72b0      2.0        5.0      1.0              1.0          16      29       40        21.0               40.0         8.0        13.7143             2.28571              ⋯\n",
       "    2 │ 5e67052c757e6149c38ce468      1.0        1.0      1.0              4.0          51      22       71        14.0                9.0        25.0        13.7143             2.28571\n",
       "    3 │ 5d89106d1719af0001ee23e5      2.0        2.0      1.0              6.0           0       6       29         0.0               40.0         5.0        13.7143             2.28571\n",
       "    4 │ 5d6394518df2870001a74b42      2.0        2.0      1.0              1.0          53      35       48        17.0               40.0        13.0        13.7143             2.28571\n",
       "    5 │ 5bdd368719b9ba000157fb12      2.0        3.0      1.0              4.0           8       3       33        12.0               40.0         5.0        13.7143             2.28571              ⋯\n",
       "    6 │ 5a8ce265000dab00018ce084      2.0        4.0      6.0              3.0          11      16       25         1.0               35.0        12.0        13.7143             2.28571\n",
       "    7 │ 5c72efa770d5a200018028f1      1.0        5.0      2.0              3.0           1       3       25        13.0               39.0         5.0        13.7143             2.28571\n",
       "    8 │ 5aea962d0ef2f20001858c9c      1.0        2.0      1.0              2.0          28      32       58        11.0               19.0        14.0        13.7143             2.28571\n",
       "  ⋮   │            ⋮                 ⋮         ⋮         ⋮            ⋮             ⋮         ⋮        ⋮         ⋮               ⋮              ⋮              ⋮                ⋮                   ⋮  ⋱\n",
       " 1172 │ 5cad4750f4115800176d506e      2.0        4.0      3.0              3.0          16      18       46        14.0               24.0         9.0         0.142857           0.0                  ⋯\n",
       " 1173 │ 5be8846293ca1f00014db03c      2.0        5.0      3.0              5.0           5      13       37        11.0               30.0        12.0         0.142857           0.0\n",
       " 1174 │ 5dbd1569f8223b28d73ed6ae      2.0        3.0      1.0              2.0           5      15       35         9.0               35.0         9.0         0.142857           0.0\n",
       " 1175 │ 5e217a34e8ff3a469b5dfebc      2.0        3.0      1.0              3.0          21      17       58        28.0               16.0        10.0         0.142857           0.0\n",
       " 1176 │ 5d63867550d0dd0017805976      1.0        3.0      3.0              1.0          21      21       48        17.0               39.0         9.0        -5.57143            0.0                  ⋯\n",
       " 1177 │ 5e6155e6f169c0046b6d6518      1.0        7.0      2.0              2.0           4      10       31         5.0               40.0         8.0        -2.14286            0.0\n",
       " 1178 │ 58cefdb030c4cf0001ceb3ac      2.0        5.0      4.0              2.0           0       5       30        18.0               32.0         6.0         5.71429            0.0\n",
       "\u001b[36m                                                                                                                                                                         8 columns and 1163 rows omitted\u001b[0m"
      ]
     },
     "metadata": {},
     "output_type": "display_data"
    }
   ],
   "source": [
    "w1 = rename!(extract_wave(data, 1, selected_variables), VARNAME_MAPPING)\n",
    "w6 = rename!(extract_wave(data, 6, selected_variables), VARNAME_MAPPING)"
   ]
  },
  {
   "cell_type": "code",
   "execution_count": 8,
   "metadata": {},
   "outputs": [
    {
     "data": {
      "text/html": [
       "<div class=\"data-frame\"><p>1,797 rows × 41 columns (omitted printing of 28 columns)</p><table class=\"data-frame\"><thead><tr><th></th><th>PROLIFIC_PID</th><th>Gender_w1</th><th>Education_w1</th><th>Income_w1</th><th>Political_Views_w1</th><th>Depression_w1</th><th>Stress_w1</th><th>Anxiety_w1</th><th>Fear_COVID_w1</th><th>Emotional_Support_w1</th><th>Loneliness_w1</th><th>slope_new_cases_w1</th><th>slope_new_deaths_w1</th></tr><tr><th></th><th title=\"String31\">String31</th><th title=\"Union{Missing, Float64}\">Float64?</th><th title=\"Union{Missing, Float64}\">Float64?</th><th title=\"Union{Missing, Float64}\">Float64?</th><th title=\"Union{Missing, Float64}\">Float64?</th><th title=\"Union{Missing, Int64}\">Int64?</th><th title=\"Union{Missing, Int64}\">Int64?</th><th title=\"Union{Missing, Int64}\">Int64?</th><th title=\"Union{Missing, Float64}\">Float64?</th><th title=\"Union{Missing, Float64}\">Float64?</th><th title=\"Union{Missing, Float64}\">Float64?</th><th title=\"Union{Missing, Float64}\">Float64?</th><th title=\"Union{Missing, Float64}\">Float64?</th></tr></thead><tbody><tr><th>1</th><td>5c7e91c1973c990016ea72b0</td><td>2.0</td><td>5.0</td><td>3.0</td><td>1.0</td><td><em>missing</em></td><td><em>missing</em></td><td>69</td><td>24.0</td><td>30.0</td><td>10.0</td><td>82.2857</td><td>3.28571</td></tr><tr><th>2</th><td>5e67052c757e6149c38ce468</td><td>1.0</td><td>1.0</td><td>1.0</td><td>4.0</td><td><em>missing</em></td><td><em>missing</em></td><td>57</td><td>18.0</td><td>14.0</td><td>25.0</td><td>82.2857</td><td>3.28571</td></tr><tr><th>3</th><td>5d89106d1719af0001ee23e5</td><td>2.0</td><td>2.0</td><td>1.0</td><td>6.0</td><td><em>missing</em></td><td><em>missing</em></td><td>27</td><td>8.0</td><td>40.0</td><td>5.0</td><td>82.2857</td><td>3.28571</td></tr><tr><th>4</th><td>5d6394518df2870001a74b42</td><td>2.0</td><td>2.0</td><td>1.0</td><td>1.0</td><td><em>missing</em></td><td><em>missing</em></td><td>42</td><td>23.0</td><td>40.0</td><td>16.0</td><td>82.2857</td><td>3.28571</td></tr><tr><th>5</th><td>5bdd368719b9ba000157fb12</td><td>2.0</td><td>3.0</td><td>4.0</td><td>4.0</td><td><em>missing</em></td><td><em>missing</em></td><td>29</td><td>10.0</td><td>40.0</td><td>5.0</td><td>82.2857</td><td>3.28571</td></tr><tr><th>6</th><td>5a8ce265000dab00018ce084</td><td>2.0</td><td>4.0</td><td>6.0</td><td>3.0</td><td><em>missing</em></td><td><em>missing</em></td><td>37</td><td>6.0</td><td>34.0</td><td>7.0</td><td>82.2857</td><td>3.28571</td></tr><tr><th>7</th><td>5c72efa770d5a200018028f1</td><td>1.0</td><td>5.0</td><td>2.0</td><td>3.0</td><td><em>missing</em></td><td><em>missing</em></td><td>27</td><td>9.0</td><td>39.0</td><td>5.0</td><td>82.2857</td><td>3.28571</td></tr><tr><th>8</th><td>5aea962d0ef2f20001858c9c</td><td>1.0</td><td>2.0</td><td>1.0</td><td>2.0</td><td><em>missing</em></td><td><em>missing</em></td><td>59</td><td>17.0</td><td>17.0</td><td>16.0</td><td>82.2857</td><td>3.28571</td></tr><tr><th>9</th><td>5e4b793f03c92a08a6d28e3f</td><td>1.0</td><td>2.0</td><td>7.0</td><td>4.0</td><td><em>missing</em></td><td><em>missing</em></td><td>42</td><td>4.0</td><td>18.0</td><td>11.0</td><td>82.2857</td><td>3.28571</td></tr><tr><th>10</th><td>5cbc071f2edc3b00018ab097</td><td>1.0</td><td>7.0</td><td>1.0</td><td>3.0</td><td><em>missing</em></td><td><em>missing</em></td><td>43</td><td>13.0</td><td>28.0</td><td>8.0</td><td>82.2857</td><td>3.28571</td></tr><tr><th>11</th><td>5c1b06d9a329230001ecc39c</td><td>1.0</td><td>2.0</td><td>1.0</td><td>2.0</td><td><em>missing</em></td><td><em>missing</em></td><td>42</td><td>10.0</td><td>18.0</td><td>8.0</td><td>82.2857</td><td>3.28571</td></tr><tr><th>12</th><td>5e576e085069e61204a85872</td><td>1.0</td><td>2.0</td><td>7.0</td><td>4.0</td><td><em>missing</em></td><td><em>missing</em></td><td>44</td><td>19.0</td><td>32.0</td><td>19.0</td><td>82.2857</td><td>3.28571</td></tr><tr><th>13</th><td>5dcf50f05686c1099819882a</td><td>1.0</td><td>6.0</td><td>3.0</td><td>1.0</td><td><em>missing</em></td><td><em>missing</em></td><td>41</td><td>19.0</td><td>32.0</td><td>17.0</td><td>82.2857</td><td>3.28571</td></tr><tr><th>14</th><td>5d2d8b999c6703001525304f</td><td>1.0</td><td>2.0</td><td>1.0</td><td>7.0</td><td><em>missing</em></td><td><em>missing</em></td><td>47</td><td>12.0</td><td>8.0</td><td>25.0</td><td>82.2857</td><td>3.28571</td></tr><tr><th>15</th><td>5de8bc74553cee8280a7dd84</td><td>1.0</td><td>5.0</td><td>1.0</td><td>2.0</td><td><em>missing</em></td><td><em>missing</em></td><td>36</td><td>8.0</td><td>27.0</td><td>13.0</td><td>82.2857</td><td>3.28571</td></tr><tr><th>16</th><td>5b6a87d2cda8590001db8e07</td><td>1.0</td><td>5.0</td><td>1.0</td><td>1.0</td><td><em>missing</em></td><td><em>missing</em></td><td>63</td><td>13.0</td><td>28.0</td><td>14.0</td><td>82.2857</td><td>3.28571</td></tr><tr><th>17</th><td>5e3dff6b8714b707b9a258b0</td><td>1.0</td><td>5.0</td><td>1.0</td><td>2.0</td><td><em>missing</em></td><td><em>missing</em></td><td>57</td><td>11.0</td><td>24.0</td><td>20.0</td><td>82.2857</td><td>3.28571</td></tr><tr><th>18</th><td>5b05e0d131cebe000177c38e</td><td>1.0</td><td>2.0</td><td>1.0</td><td>5.0</td><td><em>missing</em></td><td><em>missing</em></td><td>68</td><td>20.0</td><td>23.0</td><td>15.0</td><td>82.2857</td><td>3.28571</td></tr><tr><th>19</th><td>5d3b79a59d5c14000140c32f</td><td>2.0</td><td>5.0</td><td>4.0</td><td>2.0</td><td><em>missing</em></td><td><em>missing</em></td><td>44</td><td>8.0</td><td>32.0</td><td>6.0</td><td>82.2857</td><td>3.28571</td></tr><tr><th>20</th><td>5e53e22ea0002e3e73720f65</td><td>2.0</td><td>3.0</td><td>2.0</td><td>1.0</td><td><em>missing</em></td><td><em>missing</em></td><td>43</td><td>11.0</td><td>14.0</td><td>25.0</td><td>82.2857</td><td>3.28571</td></tr><tr><th>21</th><td>5e6fde86b3ea9e5bb33664e4</td><td>1.0</td><td>3.0</td><td>1.0</td><td>3.0</td><td><em>missing</em></td><td><em>missing</em></td><td>35</td><td>7.0</td><td>31.0</td><td>16.0</td><td>82.2857</td><td>3.28571</td></tr><tr><th>22</th><td>5e65dca1d639df34800674a8</td><td>2.0</td><td>2.0</td><td>7.0</td><td>2.0</td><td><em>missing</em></td><td><em>missing</em></td><td>41</td><td>14.0</td><td>32.0</td><td>15.0</td><td>82.2857</td><td>3.28571</td></tr><tr><th>23</th><td>5de0b69ba91be311cb773b0b</td><td>1.0</td><td>2.0</td><td>1.0</td><td>2.0</td><td><em>missing</em></td><td><em>missing</em></td><td>42</td><td>9.0</td><td>8.0</td><td>13.0</td><td>82.2857</td><td>3.28571</td></tr><tr><th>24</th><td>5e05b7747dd477fc2d2d2857</td><td>1.0</td><td>5.0</td><td>3.0</td><td>7.0</td><td><em>missing</em></td><td><em>missing</em></td><td>30</td><td>9.0</td><td>38.0</td><td>6.0</td><td>82.2857</td><td>3.28571</td></tr><tr><th>&vellip;</th><td>&vellip;</td><td>&vellip;</td><td>&vellip;</td><td>&vellip;</td><td>&vellip;</td><td>&vellip;</td><td>&vellip;</td><td>&vellip;</td><td>&vellip;</td><td>&vellip;</td><td>&vellip;</td><td>&vellip;</td><td>&vellip;</td></tr></tbody></table></div>"
      ],
      "text/latex": [
       "\\begin{tabular}{r|cccccccccccccc}\n",
       "\t& PROLIFIC\\_PID & Gender\\_w1 & Education\\_w1 & Income\\_w1 & Political\\_Views\\_w1 & Depression\\_w1 & Stress\\_w1 & Anxiety\\_w1 & Fear\\_COVID\\_w1 & Emotional\\_Support\\_w1 & Loneliness\\_w1 & slope\\_new\\_cases\\_w1 & slope\\_new\\_deaths\\_w1 & \\\\\n",
       "\t\\hline\n",
       "\t& String31 & Float64? & Float64? & Float64? & Float64? & Int64? & Int64? & Int64? & Float64? & Float64? & Float64? & Float64? & Float64? & \\\\\n",
       "\t\\hline\n",
       "\t1 & 5c7e91c1973c990016ea72b0 & 2.0 & 5.0 & 3.0 & 1.0 & \\emph{missing} & \\emph{missing} & 69 & 24.0 & 30.0 & 10.0 & 82.2857 & 3.28571 & $\\dots$ \\\\\n",
       "\t2 & 5e67052c757e6149c38ce468 & 1.0 & 1.0 & 1.0 & 4.0 & \\emph{missing} & \\emph{missing} & 57 & 18.0 & 14.0 & 25.0 & 82.2857 & 3.28571 & $\\dots$ \\\\\n",
       "\t3 & 5d89106d1719af0001ee23e5 & 2.0 & 2.0 & 1.0 & 6.0 & \\emph{missing} & \\emph{missing} & 27 & 8.0 & 40.0 & 5.0 & 82.2857 & 3.28571 & $\\dots$ \\\\\n",
       "\t4 & 5d6394518df2870001a74b42 & 2.0 & 2.0 & 1.0 & 1.0 & \\emph{missing} & \\emph{missing} & 42 & 23.0 & 40.0 & 16.0 & 82.2857 & 3.28571 & $\\dots$ \\\\\n",
       "\t5 & 5bdd368719b9ba000157fb12 & 2.0 & 3.0 & 4.0 & 4.0 & \\emph{missing} & \\emph{missing} & 29 & 10.0 & 40.0 & 5.0 & 82.2857 & 3.28571 & $\\dots$ \\\\\n",
       "\t6 & 5a8ce265000dab00018ce084 & 2.0 & 4.0 & 6.0 & 3.0 & \\emph{missing} & \\emph{missing} & 37 & 6.0 & 34.0 & 7.0 & 82.2857 & 3.28571 & $\\dots$ \\\\\n",
       "\t7 & 5c72efa770d5a200018028f1 & 1.0 & 5.0 & 2.0 & 3.0 & \\emph{missing} & \\emph{missing} & 27 & 9.0 & 39.0 & 5.0 & 82.2857 & 3.28571 & $\\dots$ \\\\\n",
       "\t8 & 5aea962d0ef2f20001858c9c & 1.0 & 2.0 & 1.0 & 2.0 & \\emph{missing} & \\emph{missing} & 59 & 17.0 & 17.0 & 16.0 & 82.2857 & 3.28571 & $\\dots$ \\\\\n",
       "\t9 & 5e4b793f03c92a08a6d28e3f & 1.0 & 2.0 & 7.0 & 4.0 & \\emph{missing} & \\emph{missing} & 42 & 4.0 & 18.0 & 11.0 & 82.2857 & 3.28571 & $\\dots$ \\\\\n",
       "\t10 & 5cbc071f2edc3b00018ab097 & 1.0 & 7.0 & 1.0 & 3.0 & \\emph{missing} & \\emph{missing} & 43 & 13.0 & 28.0 & 8.0 & 82.2857 & 3.28571 & $\\dots$ \\\\\n",
       "\t11 & 5c1b06d9a329230001ecc39c & 1.0 & 2.0 & 1.0 & 2.0 & \\emph{missing} & \\emph{missing} & 42 & 10.0 & 18.0 & 8.0 & 82.2857 & 3.28571 & $\\dots$ \\\\\n",
       "\t12 & 5e576e085069e61204a85872 & 1.0 & 2.0 & 7.0 & 4.0 & \\emph{missing} & \\emph{missing} & 44 & 19.0 & 32.0 & 19.0 & 82.2857 & 3.28571 & $\\dots$ \\\\\n",
       "\t13 & 5dcf50f05686c1099819882a & 1.0 & 6.0 & 3.0 & 1.0 & \\emph{missing} & \\emph{missing} & 41 & 19.0 & 32.0 & 17.0 & 82.2857 & 3.28571 & $\\dots$ \\\\\n",
       "\t14 & 5d2d8b999c6703001525304f & 1.0 & 2.0 & 1.0 & 7.0 & \\emph{missing} & \\emph{missing} & 47 & 12.0 & 8.0 & 25.0 & 82.2857 & 3.28571 & $\\dots$ \\\\\n",
       "\t15 & 5de8bc74553cee8280a7dd84 & 1.0 & 5.0 & 1.0 & 2.0 & \\emph{missing} & \\emph{missing} & 36 & 8.0 & 27.0 & 13.0 & 82.2857 & 3.28571 & $\\dots$ \\\\\n",
       "\t16 & 5b6a87d2cda8590001db8e07 & 1.0 & 5.0 & 1.0 & 1.0 & \\emph{missing} & \\emph{missing} & 63 & 13.0 & 28.0 & 14.0 & 82.2857 & 3.28571 & $\\dots$ \\\\\n",
       "\t17 & 5e3dff6b8714b707b9a258b0 & 1.0 & 5.0 & 1.0 & 2.0 & \\emph{missing} & \\emph{missing} & 57 & 11.0 & 24.0 & 20.0 & 82.2857 & 3.28571 & $\\dots$ \\\\\n",
       "\t18 & 5b05e0d131cebe000177c38e & 1.0 & 2.0 & 1.0 & 5.0 & \\emph{missing} & \\emph{missing} & 68 & 20.0 & 23.0 & 15.0 & 82.2857 & 3.28571 & $\\dots$ \\\\\n",
       "\t19 & 5d3b79a59d5c14000140c32f & 2.0 & 5.0 & 4.0 & 2.0 & \\emph{missing} & \\emph{missing} & 44 & 8.0 & 32.0 & 6.0 & 82.2857 & 3.28571 & $\\dots$ \\\\\n",
       "\t20 & 5e53e22ea0002e3e73720f65 & 2.0 & 3.0 & 2.0 & 1.0 & \\emph{missing} & \\emph{missing} & 43 & 11.0 & 14.0 & 25.0 & 82.2857 & 3.28571 & $\\dots$ \\\\\n",
       "\t21 & 5e6fde86b3ea9e5bb33664e4 & 1.0 & 3.0 & 1.0 & 3.0 & \\emph{missing} & \\emph{missing} & 35 & 7.0 & 31.0 & 16.0 & 82.2857 & 3.28571 & $\\dots$ \\\\\n",
       "\t22 & 5e65dca1d639df34800674a8 & 2.0 & 2.0 & 7.0 & 2.0 & \\emph{missing} & \\emph{missing} & 41 & 14.0 & 32.0 & 15.0 & 82.2857 & 3.28571 & $\\dots$ \\\\\n",
       "\t23 & 5de0b69ba91be311cb773b0b & 1.0 & 2.0 & 1.0 & 2.0 & \\emph{missing} & \\emph{missing} & 42 & 9.0 & 8.0 & 13.0 & 82.2857 & 3.28571 & $\\dots$ \\\\\n",
       "\t24 & 5e05b7747dd477fc2d2d2857 & 1.0 & 5.0 & 3.0 & 7.0 & \\emph{missing} & \\emph{missing} & 30 & 9.0 & 38.0 & 6.0 & 82.2857 & 3.28571 & $\\dots$ \\\\\n",
       "\t$\\dots$ & $\\dots$ & $\\dots$ & $\\dots$ & $\\dots$ & $\\dots$ & $\\dots$ & $\\dots$ & $\\dots$ & $\\dots$ & $\\dots$ & $\\dots$ & $\\dots$ & $\\dots$ &  \\\\\n",
       "\\end{tabular}\n"
      ],
      "text/plain": [
       "\u001b[1m1797×41 DataFrame\u001b[0m\n",
       "\u001b[1m  Row \u001b[0m│\u001b[1m PROLIFIC_PID             \u001b[0m\u001b[1m Gender_w1 \u001b[0m\u001b[1m Education_w1 \u001b[0m\u001b[1m Income_w1 \u001b[0m\u001b[1m Political_Views_w1 \u001b[0m\u001b[1m Depression_w1 \u001b[0m\u001b[1m Stress_w1 \u001b[0m\u001b[1m Anxiety_w1 \u001b[0m\u001b[1m Fear_COVID_w1 \u001b[0m\u001b[1m Emotional_Support_w1 \u001b[0m\u001b[1m Loneliness_w1 \u001b[0m\u001b[1m slope_new_cases_w1\u001b[0m ⋯\n",
       "\u001b[1m      \u001b[0m│\u001b[90m String31                 \u001b[0m\u001b[90m Float64?  \u001b[0m\u001b[90m Float64?     \u001b[0m\u001b[90m Float64?  \u001b[0m\u001b[90m Float64?           \u001b[0m\u001b[90m Int64?        \u001b[0m\u001b[90m Int64?    \u001b[0m\u001b[90m Int64?     \u001b[0m\u001b[90m Float64?      \u001b[0m\u001b[90m Float64?             \u001b[0m\u001b[90m Float64?      \u001b[0m\u001b[90m Float64?          \u001b[0m ⋯\n",
       "──────┼─────────────────────────────────────────────────────────────────────────────────────────────────────────────────────────────────────────────────────────────────────────────────────────────────\n",
       "    1 │ 5c7e91c1973c990016ea72b0        2.0           5.0        3.0                 1.0 \u001b[90m       missing \u001b[0m\u001b[90m   missing \u001b[0m         69           24.0                  30.0           10.0           82.2857   ⋯\n",
       "    2 │ 5e67052c757e6149c38ce468        1.0           1.0        1.0                 4.0 \u001b[90m       missing \u001b[0m\u001b[90m   missing \u001b[0m         57           18.0                  14.0           25.0           82.2857\n",
       "    3 │ 5d89106d1719af0001ee23e5        2.0           2.0        1.0                 6.0 \u001b[90m       missing \u001b[0m\u001b[90m   missing \u001b[0m         27            8.0                  40.0            5.0           82.2857\n",
       "    4 │ 5d6394518df2870001a74b42        2.0           2.0        1.0                 1.0 \u001b[90m       missing \u001b[0m\u001b[90m   missing \u001b[0m         42           23.0                  40.0           16.0           82.2857\n",
       "    5 │ 5bdd368719b9ba000157fb12        2.0           3.0        4.0                 4.0 \u001b[90m       missing \u001b[0m\u001b[90m   missing \u001b[0m         29           10.0                  40.0            5.0           82.2857   ⋯\n",
       "    6 │ 5a8ce265000dab00018ce084        2.0           4.0        6.0                 3.0 \u001b[90m       missing \u001b[0m\u001b[90m   missing \u001b[0m         37            6.0                  34.0            7.0           82.2857\n",
       "    7 │ 5c72efa770d5a200018028f1        1.0           5.0        2.0                 3.0 \u001b[90m       missing \u001b[0m\u001b[90m   missing \u001b[0m         27            9.0                  39.0            5.0           82.2857\n",
       "    8 │ 5aea962d0ef2f20001858c9c        1.0           2.0        1.0                 2.0 \u001b[90m       missing \u001b[0m\u001b[90m   missing \u001b[0m         59           17.0                  17.0           16.0           82.2857\n",
       "  ⋮   │            ⋮                  ⋮           ⋮            ⋮              ⋮                 ⋮            ⋮          ⋮             ⋮                 ⋮                  ⋮                ⋮          ⋱\n",
       " 1791 │ 5caeb56feb05440017fd4817        1.0           4.0        3.0                 4.0 \u001b[90m       missing \u001b[0m\u001b[90m   missing \u001b[0m         51           17.0                  16.0           23.0            8.42857  ⋯\n",
       " 1792 │ 5def020419398a5b744b98b9        1.0           5.0        5.0                 2.0 \u001b[90m       missing \u001b[0m\u001b[90m   missing \u001b[0m         30           19.0                  40.0            5.0            8.42857\n",
       " 1793 │ 5e1fa6a063251a2de1d6b236        1.0           5.0        4.0                 2.0 \u001b[90m       missing \u001b[0m\u001b[90m   missing \u001b[0m         38           16.0                  37.0            7.0            7.14286\n",
       " 1794 │ 5e7ccb90239c34323a771320        2.0           5.0        3.0                 1.0 \u001b[90m       missing \u001b[0m\u001b[90m   missing \u001b[0m         49            8.0                  30.0           13.0            7.14286\n",
       " 1795 │ 5e39448ea9cf9414e733ff48        1.0           7.0        2.0                 2.0 \u001b[90m       missing \u001b[0m\u001b[90m   missing \u001b[0m         33           14.0                  29.0            9.0            7.14286  ⋯\n",
       " 1796 │ 5d30a875ad3457001743fbc9        1.0           7.0        5.0                 5.0 \u001b[90m       missing \u001b[0m\u001b[90m   missing \u001b[0m         30           16.0                  38.0            5.0           13.4286\n",
       " 1797 │ 5da926115c6987001535a2da        1.0           5.0        4.0                 6.0 \u001b[90m       missing \u001b[0m\u001b[90m   missing \u001b[0m         27            2.0                  31.0            5.0           -0.571429\n",
       "\u001b[36m                                                                                                                                                                        29 columns and 1782 rows omitted\u001b[0m"
      ]
     },
     "metadata": {},
     "output_type": "display_data"
    }
   ],
   "source": [
    "w1_w6_combine_data = combine_wave_data(w1, w6, \"PROLIFIC_PID\", \"w1\", \"w6\")"
   ]
  },
  {
   "cell_type": "code",
   "execution_count": 21,
   "metadata": {},
   "outputs": [
    {
     "data": {
      "text/plain": [
       "false"
      ]
     },
     "metadata": {},
     "output_type": "display_data"
    }
   ],
   "source": [
    "data[!, :wave]==1b"
   ]
  },
  {
   "cell_type": "code",
   "execution_count": null,
   "metadata": {},
   "outputs": [],
   "source": []
  },
  {
   "cell_type": "code",
   "execution_count": 45,
   "metadata": {},
   "outputs": [],
   "source": [
    "interpolate_age(data)"
   ]
  },
  {
   "cell_type": "code",
   "execution_count": 50,
   "metadata": {},
   "outputs": [
    {
     "data": {
      "text/plain": [
       "9-element Vector{Union{Missing, Float64}}:\n",
       " 23.0\n",
       " 23.0\n",
       " 23.0\n",
       " 23.0\n",
       " 23.0\n",
       " 23.0\n",
       " 23.0\n",
       " 23.0\n",
       " 23.0"
      ]
     },
     "metadata": {},
     "output_type": "display_data"
    }
   ],
   "source": [
    "data[data[!, :PROLIFIC_PID].==unique_pid[3],:prlfc_dem_age]"
   ]
  },
  {
   "cell_type": "code",
   "execution_count": 23,
   "metadata": {},
   "outputs": [
    {
     "data": {
      "text/plain": [
       "1797-element Vector{String31}:\n",
       " \"5df82e8739bcde5dd044f741\"\n",
       " \"5c7e91c1973c990016ea72b0\"\n",
       " \"5e67052c757e6149c38ce468\"\n",
       " \"5d89106d1719af0001ee23e5\"\n",
       " \"5d6394518df2870001a74b42\"\n",
       " \"5bdd368719b9ba000157fb12\"\n",
       " \"5b68d45687af3100015849a9\"\n",
       " \"5a8ce265000dab00018ce084\"\n",
       " \"5c72efa770d5a200018028f1\"\n",
       " \"5d378df21acda30001e7191e\"\n",
       " ⋮\n",
       " \"5da926115c6987001535a2da\"\n",
       " \"5c054e8a553fb800011917d7\"\n",
       " \"5cad4750f4115800176d506e\"\n",
       " \"5be8846293ca1f00014db03c\"\n",
       " \"5dbd1569f8223b28d73ed6ae\"\n",
       " \"5e217a34e8ff3a469b5dfebc\"\n",
       " \"5d63867550d0dd0017805976\"\n",
       " \"5e6155e6f169c0046b6d6518\"\n",
       " \"58cefdb030c4cf0001ceb3ac\""
      ]
     },
     "metadata": {},
     "output_type": "display_data"
    }
   ],
   "source": [
    "unique_pid = unique(data[data[!, :wave].==1, :PROLIFIC_PID])"
   ]
  },
  {
   "cell_type": "code",
   "execution_count": 29,
   "metadata": {},
   "outputs": [
    {
     "data": {
      "text/plain": [
       "\"5df82e8739bcde5dd044f741\""
      ]
     },
     "metadata": {},
     "output_type": "display_data"
    }
   ],
   "source": [
    "unique_pid[1]"
   ]
  },
  {
   "cell_type": "code",
   "execution_count": 35,
   "metadata": {},
   "outputs": [
    {
     "data": {
      "text/plain": [
       "18493-element BitVector:\n",
       " 1\n",
       " 1\n",
       " 1\n",
       " 0\n",
       " 0\n",
       " 0\n",
       " 0\n",
       " 0\n",
       " 0\n",
       " 0\n",
       " ⋮\n",
       " 0\n",
       " 0\n",
       " 0\n",
       " 0\n",
       " 0\n",
       " 0\n",
       " 0\n",
       " 0\n",
       " 0"
      ]
     },
     "metadata": {},
     "output_type": "display_data"
    }
   ],
   "source": [
    "w1 = data[data[!, :wave].==1, :]\n",
    "\n",
    "data[!, :PROLIFIC_PID].==unique_pid[1]"
   ]
  },
  {
   "cell_type": "code",
   "execution_count": 38,
   "metadata": {},
   "outputs": [
    {
     "data": {
      "text/plain": [
       "3-element view(::SentinelArrays.SentinelVector{Float64, Float64, Missing, Vector{Float64}}, [1, 2, 3]) with eltype Union{Missing, Float64}:\n",
       " 32.0\n",
       " 32.0\n",
       " 32.0"
      ]
     },
     "metadata": {},
     "output_type": "display_data"
    }
   ],
   "source": [
    "data[data[!, :PROLIFIC_PID].==unique_pid[1],\"prlfc_dem_age\"] .= w1[w1[!, :PROLIFIC_PID].==unique_pid[1], :prlfc_dem_age]"
   ]
  },
  {
   "cell_type": "code",
   "execution_count": 39,
   "metadata": {},
   "outputs": [
    {
     "data": {
      "text/plain": [
       "3-element Vector{Union{Missing, Float64}}:\n",
       " 32.0\n",
       " 32.0\n",
       " 32.0"
      ]
     },
     "metadata": {},
     "output_type": "display_data"
    }
   ],
   "source": [
    "data[data[!, :PROLIFIC_PID].==unique_pid[1],\"prlfc_dem_age\"]"
   ]
  },
  {
   "cell_type": "code",
   "execution_count": null,
   "metadata": {},
   "outputs": [],
   "source": [
    "for id in unique_pid\n",
    "    data[data[!, :PROLIFIC_PID].==id, :prlfc_dem_age] = \n",
    "end"
   ]
  },
  {
   "cell_type": "code",
   "execution_count": 19,
   "metadata": {},
   "outputs": [
    {
     "data": {
      "text/plain": [
       "1797-element Vector{Int64}:\n",
       " 1\n",
       " 1\n",
       " 1\n",
       " 1\n",
       " 1\n",
       " 1\n",
       " 1\n",
       " 1\n",
       " 1\n",
       " 1\n",
       " ⋮\n",
       " 1\n",
       " 1\n",
       " 1\n",
       " 1\n",
       " 1\n",
       " 1\n",
       " 1\n",
       " 1\n",
       " 1"
      ]
     },
     "metadata": {},
     "output_type": "display_data"
    }
   ],
   "source": [
    "w6[!, \"wave\"]"
   ]
  },
  {
   "cell_type": "code",
   "execution_count": 8,
   "metadata": {},
   "outputs": [],
   "source": []
  },
  {
   "cell_type": "code",
   "execution_count": null,
   "metadata": {},
   "outputs": [],
   "source": []
  }
 ],
 "metadata": {
  "kernelspec": {
   "display_name": "Julia 1.6.3",
   "language": "julia",
   "name": "julia-1.6"
  },
  "language_info": {
   "file_extension": ".jl",
   "mimetype": "application/julia",
   "name": "julia",
   "version": "1.6.3"
  },
  "orig_nbformat": 4
 },
 "nbformat": 4,
 "nbformat_minor": 2
}
